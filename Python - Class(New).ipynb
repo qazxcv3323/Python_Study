{
 "cells": [
  {
   "cell_type": "code",
   "execution_count": null,
   "id": "53a6c45e",
   "metadata": {},
   "outputs": [],
   "source": []
  },
  {
   "cell_type": "markdown",
   "id": "f2a3d7ab",
   "metadata": {},
   "source": [
    "# 목표 : \n",
    "\n",
    "- 파이썬 클래스 문법을 익힙니다.\n",
    "\n",
    "\n",
    "- 파이썬 클래스를 활용해 객체 지향 프로그래밍에 대해 학습합니다."
   ]
  },
  {
   "cell_type": "markdown",
   "id": "19fc83a4",
   "metadata": {},
   "source": [
    "#### Everything in Python is an object, and almost everything has attributes and methods.\n",
    "\n",
    "= \"파이썬(Python)에서 모든 것은 객체(object)다. 그리고 대부분의 객체는 속성(attributes)과 메소드(methods)를 갖는다."
   ]
  },
  {
   "cell_type": "markdown",
   "id": "fabadef9",
   "metadata": {},
   "source": [
    "파이썬에서는 부울(bool), 정수, 실수, 문자열, 배열, 딕셔너리, 함수, 모듈, 프로그램.. 등 모든 것이 객체입니다."
   ]
  },
  {
   "cell_type": "markdown",
   "id": "78a46c79",
   "metadata": {},
   "source": [
    "변수 예제)"
   ]
  },
  {
   "cell_type": "code",
   "execution_count": 1,
   "id": "930cf2f6",
   "metadata": {},
   "outputs": [
    {
     "data": {
      "text/plain": [
       "3"
      ]
     },
     "execution_count": 1,
     "metadata": {},
     "output_type": "execute_result"
    }
   ],
   "source": [
    "myvar = 3\n",
    "myvar"
   ]
  },
  {
   "cell_type": "markdown",
   "id": "bbb28b53",
   "metadata": {},
   "source": [
    "변수는 단지 이름일 뿐이에요 = 연산자를 이용해 값을 할당한다는 의미는 값을 qhrtkgksms rjtdl dkslfk epdlxjrk ekarls eorcpdp rmsid dlfmadmf qnxdlsms rjtdlqslek.\n",
    "\n",
    "객체를 변수명으로 가리켜 참조할 수 있게 하는 것이죠.\n",
    "\n",
    "\n",
    "아래코드는 'cat'이 담긴 문자열 타입의 객체를 생성하고 myword라는 변수(객체)에 할당, 문자열 객체를 참조하게 합니다."
   ]
  },
  {
   "cell_type": "code",
   "execution_count": 2,
   "id": "a764f9ab",
   "metadata": {},
   "outputs": [
    {
     "data": {
      "text/plain": [
       "'cat'"
      ]
     },
     "execution_count": 2,
     "metadata": {},
     "output_type": "execute_result"
    }
   ],
   "source": [
    "myword = 'cat'\n",
    "myword"
   ]
  },
  {
   "cell_type": "code",
   "execution_count": 3,
   "id": "51a6df50",
   "metadata": {},
   "outputs": [
    {
     "data": {
      "text/plain": [
       "'CAT'"
      ]
     },
     "execution_count": 3,
     "metadata": {},
     "output_type": "execute_result"
    }
   ],
   "source": [
    "myword.upper()"
   ]
  },
  {
   "cell_type": "code",
   "execution_count": 4,
   "id": "171c4edc",
   "metadata": {},
   "outputs": [
    {
     "data": {
      "text/plain": [
       "'CAT'"
      ]
     },
     "execution_count": 4,
     "metadata": {},
     "output_type": "execute_result"
    }
   ],
   "source": [
    "'cat'.upper()"
   ]
  },
  {
   "cell_type": "markdown",
   "id": "29ab4c6e",
   "metadata": {},
   "source": [
    "두 코드의 출력값이 같습니다. myword가 가리키는 문자열과 'cat'의 값이 같기 때문입니다."
   ]
  },
  {
   "cell_type": "code",
   "execution_count": 5,
   "id": "65bfd9d6",
   "metadata": {},
   "outputs": [
    {
     "data": {
      "text/plain": [
       "4"
      ]
     },
     "execution_count": 5,
     "metadata": {},
     "output_type": "execute_result"
    }
   ],
   "source": [
    "var = 4\n",
    "var"
   ]
  },
  {
   "cell_type": "markdown",
   "id": "d3db9ec4",
   "metadata": {},
   "source": [
    "변수 var에 정수 4를 할당합니다.\n",
    "\n",
    "id() 라는 함수를 사용해서 객체의 identity를 확인 할 것 입니다.\n",
    "\n",
    "id() 함수는 파이썬 내장함수로, 프로그램이 돌아가고 있는 동안 객체의 고유값(identity)을 반환합니다. identity는 쉽게 메모리 주소 또는 그냥 객체마다 부여된 id라고 생각하시면 됩니다.\n",
    "\n",
    "파이썬 id()함수 참고 : https://docs.python.org/3/library/functions.html#id\n",
    "\n",
    "var과 정수 4의 id값을 확인해 보면 동일합니다."
   ]
  },
  {
   "cell_type": "code",
   "execution_count": 6,
   "id": "1dae7d03",
   "metadata": {},
   "outputs": [
    {
     "name": "stdout",
     "output_type": "stream",
     "text": [
      "140703708686224 140703708686224\n"
     ]
    }
   ],
   "source": [
    "print(id(var), id(4)) #id 값은 pc마다 다릅니다."
   ]
  },
  {
   "cell_type": "code",
   "execution_count": 7,
   "id": "2a92d292",
   "metadata": {},
   "outputs": [],
   "source": [
    "from IPython.display import Image"
   ]
  },
  {
   "cell_type": "markdown",
   "id": "39e73c53",
   "metadata": {},
   "source": [
    "![title](https://d3s0tskafalll9.cloudfront.net/media/images/f-23-2.1.max-800x600.png)"
   ]
  },
  {
   "cell_type": "code",
   "execution_count": 8,
   "id": "7066e9b7",
   "metadata": {},
   "outputs": [
    {
     "data": {
      "text/plain": [
       "[1, 2, 3]"
      ]
     },
     "execution_count": 8,
     "metadata": {},
     "output_type": "execute_result"
    }
   ],
   "source": [
    "mylist = [1,2,3]\n",
    "var = mylist\n",
    "var"
   ]
  },
  {
   "cell_type": "code",
   "execution_count": 9,
   "id": "a2a1c585",
   "metadata": {},
   "outputs": [
    {
     "name": "stdout",
     "output_type": "stream",
     "text": [
      "[1, 2, 3, 4]\n"
     ]
    }
   ],
   "source": [
    "mylist.append(4)\n",
    "print(mylist)"
   ]
  },
  {
   "cell_type": "code",
   "execution_count": 10,
   "id": "a62bcf9d",
   "metadata": {},
   "outputs": [
    {
     "name": "stdout",
     "output_type": "stream",
     "text": [
      "[1, 2, 3, 4]\n"
     ]
    }
   ],
   "source": [
    "print(var)"
   ]
  },
  {
   "cell_type": "markdown",
   "id": "0c01b7bb",
   "metadata": {},
   "source": [
    "var에도 mylist와 동일한 연산이 적용 되었습니다. 어떻게 된 걸까요? mylist와 var의 id 값을 확인해 보면, 같은 값이 나오는 것을 확인할 수 있습니다."
   ]
  },
  {
   "cell_type": "code",
   "execution_count": 11,
   "id": "c82a5dd3",
   "metadata": {},
   "outputs": [
    {
     "name": "stdout",
     "output_type": "stream",
     "text": [
      "2812931364608 2812931364608\n"
     ]
    }
   ],
   "source": [
    "print(id(mylist), id(var))"
   ]
  },
  {
   "cell_type": "markdown",
   "id": "0c2605ce",
   "metadata": {},
   "source": [
    "그리고 이렇게 원본 데이터는 그대로 두고, 참조하는 데이터의 id만을 복사하는 것을 얕은 복사라고 합니다.\n",
    "\n",
    "그런데 우리가 생각하는 복사는 동일한 [1,2,3,4] 데이터가 생기는 것이겠죠.\n",
    "\n",
    "이런 복사를 파이썬을 비롯한 프로그래밍에서는 깊은 복사라고 합니다.\n",
    "\n",
    "아래 링크는 파이썬에서 공식적으로 지원하는 깊은 복사와 얕은 복사 관련 함수입니다.\n",
    "\n",
    "\n",
    "- 파이썬에서는 모든 것(부울, 정수, 실수, 데이터구조(list,tuple,dict,set...), 함수, 프로그램, 모듈)이 객체다.\n",
    "\n",
    "\n",
    "- 객체는 상태(state)를 나타내는 속성(attribute)과 동작(behavior)을 나타내는 메소드(method)가 있다.\n",
    "\n",
    "\n",
    "- 객체의 속성은 변수로 구현된다. 객체의 메소드는 함수로 구현된다."
   ]
  },
  {
   "cell_type": "markdown",
   "id": "c17e44f7",
   "metadata": {},
   "source": [
    "- 이렇게 객체를 활용한 프로그래밍을 객체 지향 프로그래밍(OOP: Object Oriented Programming)이라고 합니다.\n",
    "\n",
    "#### 객체 지향 프로그래밍(OOP)\n",
    "\n",
    "최초 프로그래밍 역사와 같은 역사를 가졌다고 해도 무방할 만큼 소프트웨어를 설계하고 구현하기 위한 수많은 원칙과 오랜 역사를 갖고 있는 개념으로, 현재까지도 널리 쓰이고 있습니다.\n",
    "\n",
    "객체 지향 프로그래밍은 거의 모든 언어에서 사용되고 있으며 파이썬 역시 객체 지향적 프로그래밍이 가능한 언어 중 하나입니다.\n",
    "\n",
    "미국의 데니스리치(Dennis Ritchie)는 1972년 C언어를 만들었습니다. C언어는 절차 지향 프로그래밍 언어입니다.\n",
    "\n",
    "C언어를 바탕으로 새로운 개념의 프로그래밍 방법인 객체 지향 프로그래밍의 니즈가 생겨났고, 최초의 객체 지향 언어인 Small Talk이 만들어집니다. 요즘은 거의 쓰이지 않고 있어요.\n",
    "\n",
    "\n",
    "하지만 이 Small Talk을 바탕으로 만들어진 오브젝티브-C(Objective-C)와 스위프트(Swift)가 현재 iOS 개발에 널리 쓰이고 있고, 객체 지향 프로그래밍의 패러다임은 아직까지도 지배적인 패러다임으로 사용되고 있다는 점에서 그 유산이 크다고 할 수 있습니다.\n",
    "\n",
    "\n"
   ]
  },
  {
   "cell_type": "markdown",
   "id": "bd8adf25",
   "metadata": {},
   "source": [
    "파이썬에서 개발자가 객체를 직접 설계하기 위해서는 class 키워드를 이용합니다. 기본 클래스 문법을 익혀 보겠습니다."
   ]
  },
  {
   "cell_type": "markdown",
   "id": "a843c568",
   "metadata": {},
   "source": [
    "![title](https://d3s0tskafalll9.cloudfront.net/media/original_images/F-23-3_bgOKvKF.png)"
   ]
  },
  {
   "cell_type": "code",
   "execution_count": 12,
   "id": "93851e1b",
   "metadata": {},
   "outputs": [
    {
     "name": "stdout",
     "output_type": "stream",
     "text": [
      "2812920469280\n",
      "2812920469280\n",
      "2812931902576\n",
      "2812931974192\n",
      "<class 'type'>\n",
      "<class '__main__.Car'>\n"
     ]
    }
   ],
   "source": [
    "class Car:\n",
    "    pass\n",
    "\n",
    "class Car():\n",
    "    pass\n",
    "\n",
    "#id(Car)는 여러번 호출해도 같은 값이 얻어집니다. \n",
    "print(id(Car))\n",
    "print(id(Car))\n",
    "\n",
    "#id(Car())는 Car()가 호출될 때마다 다른 값이 얻어집니다. \n",
    "print(id(Car()))\n",
    "print(id(Car()))\n",
    "\n",
    "# 두 객체의 type을 살펴봅니다. \n",
    "print(type(Car))\n",
    "print(type(Car()))"
   ]
  },
  {
   "cell_type": "markdown",
   "id": "c19b0fc1",
   "metadata": {},
   "source": [
    "이처럼 클래스 선언은 class 키워드를 이용합니다.\n",
    "\n",
    "class 키워드를 쓰고 클래스 이름을 쓴 다음 :(콜론)을 씁니다. 클래스 이름 다음에 소괄호를 적어 주어도 되지만 보통은 생략합니다.\n",
    "\n",
    "\n",
    "위 코드에서 보면, Car라는 클래스 자체도 객체이고, Car()를 호출할 때마다 새로운 Car 타입의 객체가 생성됩니다.\n",
    "\n",
    "둘 다 id가 존재하기 때문입니다. 그러나, id(Car)의 값은 몇 번 호출되더라도 동일하지만 id(Car())는 호출될 때마다 다른 id 값을 가진다는 것도 알 수 있습니다.\n",
    "\n",
    "Car라는 클래스는 type 유형의 객체입니다. Car()가 호출될 때 Car 타입의 객체가 생성됩니다."
   ]
  },
  {
   "cell_type": "markdown",
   "id": "bea5321d",
   "metadata": {},
   "source": [
    "클래스를 이용하려면 클래스로 객체를 만들어 주어야 하는데요. \n",
    "\n",
    "이를 인스턴스화라고 합니다.\n",
    "\n",
    "선언한 클래스 이름에 괄호를 적어 줍니다. 그리고 생성된 인스턴스를 적당한 변수에 할당해서 사용합니다."
   ]
  },
  {
   "cell_type": "code",
   "execution_count": 13,
   "id": "6ff2e9ae",
   "metadata": {},
   "outputs": [
    {
     "name": "stdout",
     "output_type": "stream",
     "text": [
      "2812931977664\n",
      "2812931977568\n"
     ]
    }
   ],
   "source": [
    "mycar = Car()\n",
    "mycar2 = Car()\n",
    "print(id(mycar))\n",
    "print(id(mycar2))"
   ]
  },
  {
   "cell_type": "markdown",
   "id": "7ca01fad",
   "metadata": {},
   "source": [
    "#### 카멜케이스\n",
    "\n",
    "- 카멜케이스: 각 단어의 앞 글자를 대문자로 쓸 것.\n",
    "\n",
    "- 예시: mycar —> MyCar\n",
    "\n",
    "#### 스네이크 케이스\n",
    "\n",
    "- 스네이크케이스: 단어는 소문자로 쓰고 각 단어의 연결은 언더바(_)를 사용할 것\n",
    "\n",
    "\n",
    "- 예시: mycar —> my_car\n",
    "\n",
    "\n",
    "그리고 추가로 클래스명은 주로 명사로, 함수명은 주로 동사로 명명합니다.\n",
    "(이 부분은 파이썬 코드를 깨끗이 작성하는 \"Clean Code\" 규범과 관련된 내용이니 참고로만 알고 계세요)\n",
    "\n",
    "다른 사람이 만들어놓은 경우에는 type() 함수를 이용해서 확인해 보는 것도 좋은 방법이겠네요!"
   ]
  },
  {
   "cell_type": "markdown",
   "id": "a2704542",
   "metadata": {},
   "source": [
    "클래스는 개발자가 객체를 설계하기 위한 것이라고 했습니다. \n",
    "\n",
    "그리고 맨 처음에 객체에는 속성과 메소드가 있다고 배웠습니다.\n",
    "럼 클래스에서 속성과 메소드를 구현할 수 있어야겠죠?\n",
    "\n",
    "- 클래스의 속성은 상태(state)를 표현합니다. 속성은 변수로 나타냅니다.\n",
    "\n",
    "- 클래스의 메소드는 동작(behavior)을 표현합니다. 메소드는 def 키워드로 나타냅니다.\n",
    "\n",
    "그럼 이어서 Car 클래스를 계속 코딩하도록 하겠습니다.\n",
    "색상은 \"red\", 종류는 \"sports car\"라는 속성을 갖고 주행과 가속이라는 동작을 갖는 클래스를 정의해 보겠습니다.\n",
    "\n",
    "속성 은 변수로 선언한다고 했으니 아래와 같이 선언하겠습니다.\n",
    "\n",
    "- color = 'red'\n",
    "\n",
    "- category = 'sports car'\n",
    "동작 은 다른 말로 메소드이고, 메소드는 def 키워드를 사용한다고 했습니다.\n",
    "\n",
    "다음과 같이 선언해 보겠습니다."
   ]
  },
  {
   "cell_type": "code",
   "execution_count": 14,
   "id": "5949cbed",
   "metadata": {},
   "outputs": [],
   "source": [
    "# Car 클래스입니다.\n",
    "class Car:\n",
    "\n",
    "    #속성은 클래스의 상태를 나타냅니다.\n",
    "    #색상: 빨강\n",
    "    #종류: 스포츠 카\n",
    "    def __init__(self, _color= 'red',  _category = 'sports car'):\n",
    "        self.color = _color\n",
    "        self.category = _category\n",
    "        \n",
    "\n",
    "\n",
    "    #동작은 메서드로 나타냅니다.\n",
    "\n",
    "    def drive(self): \n",
    "\n",
    "    #주행 메서드\n",
    "\n",
    "        print(\"I'm driving\")\n",
    "\n",
    "    def accel(self, speed_up, current_speed=10):\n",
    "    #가속 메서드\n",
    "    #:param speed_up: 현재속도\n",
    "    #:param current_speed: 가속\n",
    "    #:type speed_up: string\n",
    "    #:type current_speed: string\n",
    "        self.speed_up = speed_up\n",
    "        self.current_speed = current_speed + speed_up\n",
    "        print(\"speed up\", self.speed_up, \"driving at\", self.current_speed)\n"
   ]
  },
  {
   "cell_type": "code",
   "execution_count": 15,
   "id": "1eef52a6",
   "metadata": {},
   "outputs": [
    {
     "data": {
      "text/plain": [
       "'Blue'"
      ]
     },
     "execution_count": 15,
     "metadata": {},
     "output_type": "execute_result"
    }
   ],
   "source": [
    "avante = Car()\n",
    "avante.color = \"Blue\"\n",
    "avante.color"
   ]
  },
  {
   "cell_type": "markdown",
   "id": "2e85504a",
   "metadata": {},
   "source": [
    "#### 속성\n",
    "\n",
    "- 클래스의 상태는 속성이라고 부르며, 변수로 선언합니다.\n",
    "\n",
    "- color에는 'red'를 category에는 'sports car'를 할당합니다.\n",
    "\n",
    "\n",
    "#### 메서드\n",
    "\n",
    "- 동작은 메서드로 나타내고 메서드 선언은 함수와 똑같이 def 키워드를 이용합니다.\n",
    "\n",
    "\n",
    "- 클래스의 메서드는 첫 번째 인자는 self 값을 적어 주어야 합니다. (self 에 대한 설명은 나중에 하겠습니다)\n",
    "\n",
    "\n",
    "- 주행은 drive() 라는 메서드명으로 정의하고 self외에 인자는 없습니다.\n",
    "\n",
    "\n",
    "- 가속은 accel() 라는 메서드명으로 정의하고 현재 속도와 가속할 값을 인자로 받습니다.\n",
    "\n",
    "\n",
    "    - 현재속도 인자명 = current_speed, 가속 인자명 = speed_up\n",
    "    \n",
    "    \n",
    "    - accel 메소드에 self.speed_up, self.current_speed 를 인자로 줍니다.\n",
    "    "
   ]
  },
  {
   "cell_type": "code",
   "execution_count": 16,
   "id": "43b77274",
   "metadata": {},
   "outputs": [],
   "source": [
    "mycar = Car()"
   ]
  },
  {
   "cell_type": "markdown",
   "id": "d932242f",
   "metadata": {},
   "source": [
    "↓이 코드 처럼 없는 속성값에 접근하면 에러가 발생합니다."
   ]
  },
  {
   "cell_type": "code",
   "execution_count": 17,
   "id": "1465ed38",
   "metadata": {},
   "outputs": [
    {
     "name": "stdout",
     "output_type": "stream",
     "text": [
      "red\n"
     ]
    }
   ],
   "source": [
    "print(mycar.color)"
   ]
  },
  {
   "cell_type": "code",
   "execution_count": 18,
   "id": "c65ecccc",
   "metadata": {},
   "outputs": [
    {
     "ename": "AttributeError",
     "evalue": "'Car' object has no attribute 'price'",
     "output_type": "error",
     "traceback": [
      "\u001b[1;31m---------------------------------------------------------------------------\u001b[0m",
      "\u001b[1;31mAttributeError\u001b[0m                            Traceback (most recent call last)",
      "\u001b[1;32m<ipython-input-18-2738dc00bc3e>\u001b[0m in \u001b[0;36m<module>\u001b[1;34m\u001b[0m\n\u001b[1;32m----> 1\u001b[1;33m \u001b[0mmycar\u001b[0m\u001b[1;33m.\u001b[0m\u001b[0mprice\u001b[0m\u001b[1;33m\u001b[0m\u001b[1;33m\u001b[0m\u001b[0m\n\u001b[0m",
      "\u001b[1;31mAttributeError\u001b[0m: 'Car' object has no attribute 'price'"
     ]
    }
   ],
   "source": [
    "mycar.price"
   ]
  },
  {
   "cell_type": "markdown",
   "id": "a40d866f",
   "metadata": {},
   "source": [
    "#### 메소드\n",
    "\n",
    "메소드를 호출하는 방법은 속성 접근과 유사합니다. 인스턴스 객체에 .을 쓰고 그 뒤에 메소드 명을 적어줍니다.\n",
    "메소드는 def 키워드로 구현한다고 했습니다. 다시 말하면 클래스의 메소드는 클래스 내에 정의된 함수라고 말할 수 있습니다.\n",
    "따라서, 함수를 호출하는 것과 동일하게 함수 이름을 쓰고 소괄호 \"()\"를 적어 줍니다.\n",
    "\n",
    "#### 소드 호출 (feat. 인터프리터에서 벌어지는 일)\n",
    "\n",
    "눈썰미가 좋은 분들은 메소드를 정의할 때 self 라는 인자를 전달해 준 것을 발견하셨을 것입니다.\n",
    "그런데 메소드를 호출할 때는 self 인자를 명시적으로 전달해 주지 않아도 됩니다."
   ]
  },
  {
   "cell_type": "code",
   "execution_count": null,
   "id": "2a27844e",
   "metadata": {},
   "outputs": [],
   "source": [
    "mycar.drive()"
   ]
  },
  {
   "cell_type": "code",
   "execution_count": null,
   "id": "7d5e5bf8",
   "metadata": {},
   "outputs": [],
   "source": [
    "mycar.accel(5)"
   ]
  },
  {
   "cell_type": "code",
   "execution_count": null,
   "id": "653ec34c",
   "metadata": {},
   "outputs": [],
   "source": [
    "mycar.drive()"
   ]
  },
  {
   "cell_type": "code",
   "execution_count": null,
   "id": "8815ab55",
   "metadata": {},
   "outputs": [],
   "source": [
    "Car.drive(mycar)"
   ]
  },
  {
   "cell_type": "markdown",
   "id": "d513b592",
   "metadata": {},
   "source": [
    "![title](https://d3s0tskafalll9.cloudfront.net/media/images/F-23-5.max-800x600_HD3wwel.png)\n",
    "\n",
    "이런 구현이 가능하게 하는 것이 바로 self 인자입니다.\n",
    "\n",
    "![title](https://d3s0tskafalll9.cloudfront.net/media/images/F-23-7.max-800x600_6qIqfVl.png)\n",
    "\n",
    "\n",
    "그러나 그 누구도 Car.drive(mycar)라고 사용하지 않습니다. 여러분 절대 이렇게 구현하지 마세요!\n",
    "\n",
    "\n",
    "다른 사람들이 알아보기 힘들고 코드야 어떻게든 동작하겠지만 파이썬 인터프리터가 처리해 주는 일을 너무 어렵게 구현하는 것입니다."
   ]
  },
  {
   "cell_type": "code",
   "execution_count": null,
   "id": "47ca0051",
   "metadata": {},
   "outputs": [],
   "source": [
    "class Test:\n",
    "    def run1(self):\n",
    "        print(\"run1\")\n",
    "\n",
    "    def run2():\n",
    "        print(\"run2\")\n",
    "\n",
    "t = Test()"
   ]
  },
  {
   "cell_type": "code",
   "execution_count": null,
   "id": "c80bb128",
   "metadata": {},
   "outputs": [],
   "source": [
    "t.run1()"
   ]
  },
  {
   "cell_type": "markdown",
   "id": "b7fe2da3",
   "metadata": {},
   "source": [
    "클래스 메소드를 정의할 때 self 인자를 사용하지 않으면 에러가 발생합니다.\n",
    "\n",
    "\n",
    "아래의 run2()메소드 처럼요."
   ]
  },
  {
   "cell_type": "code",
   "execution_count": null,
   "id": "0a4c4095",
   "metadata": {},
   "outputs": [],
   "source": [
    "t.run2()"
   ]
  },
  {
   "cell_type": "markdown",
   "id": "2b37f6c5",
   "metadata": {},
   "source": [
    "#### 접두사 self.\n",
    "\n",
    "같은 이유로 인스턴스의 속성으로 사용하고 싶은 변수는 self. 을 써줍니다.\n",
    "\n",
    "self 인자를 통해 선언된 객체의 값이란 의미입니다.\n",
    "\n",
    "객체 안에서 self 를 사용하면 인스턴스 객체의 고유한 속성을 나타낼 수 있습니다.\n",
    "\n",
    "클래스가 아닌 self, 즉 인스턴스화된 객체 자신의 속성이라는 뜻입니다.\n",
    "\n",
    "참고로 클래스의 메소드 내부에서 self. 접두사가 없이 일반변수와 같게 선언된 변수는 메소드 내부에서만 사용되므로, self.를 사용해 참조할 수 없습니다."
   ]
  },
  {
   "cell_type": "code",
   "execution_count": null,
   "id": "80de09b5",
   "metadata": {},
   "outputs": [],
   "source": [
    "class Test2:\n",
    "    def run1(self, a):\n",
    "        self.a = float(a) * 10\n",
    "        print(self.a)\n",
    "\n",
    "    def run2(self, b):\n",
    "        b = float(b) + 10\n",
    "        print(self.b)\n",
    "        \n",
    "t = Test2()"
   ]
  },
  {
   "cell_type": "code",
   "execution_count": null,
   "id": "7c387659",
   "metadata": {},
   "outputs": [],
   "source": [
    "t.run1(1)"
   ]
  },
  {
   "cell_type": "code",
   "execution_count": null,
   "id": "a0fc84fb",
   "metadata": {},
   "outputs": [],
   "source": [
    "t.run2(1)"
   ]
  },
  {
   "cell_type": "markdown",
   "id": "79d5deb1",
   "metadata": {},
   "source": [
    "self는 초보자에게는 조금 어려운 개념입니다.\n",
    "\n",
    "- self는 자기 자신입니다.\n",
    "\n",
    "\n",
    "- 클래스에 의해 생성된 객체(인스턴스)를 가리킵니다.\n",
    "\n",
    "\n",
    "- 클래스의 메서드는 인자로 해당 인스턴스(self)를 받아야 합니다.\n",
    "\n",
    "\n",
    "- 메소드를 호출할 때는 self 인자를 전달하지 않습니다. self의 값은 인터프리터가 제공합니다.\n",
    "\n",
    "\n",
    "- 인스턴스 변수를 정의할 때에는 접두사 self.을 붙여줍니다."
   ]
  },
  {
   "cell_type": "markdown",
   "id": "4a3a8d1a",
   "metadata": {},
   "source": [
    "## 생성자 __init__\n",
    "\n",
    "클래스에 의해 만든 인스턴스 객체의 속성값을 사용자는 어떻게 초기화할 수 있을까요?\n",
    "\n",
    "Car 클래스를 만들 때부터 색깔과 카테고리를 지정해 주고 싶다면 어떻게 그 값을 전달해 줄 수 있을까요?\n",
    "\n",
    "__init__ 을 사용해서 만들 수 있습니다. 아래 캡쳐본은 파이썬 공식 문서에서 설명하고 있는 __init__의 문법입니다.\n",
    "\n",
    "![title](https://d3s0tskafalll9.cloudfront.net/media/images/f-23-doc.max-800x600_SbjR8fw.png)\n",
    "\n",
    "참고 자료 : https://docs.python.org/3.8/tutorial/classes.html"
   ]
  },
  {
   "cell_type": "code",
   "execution_count": null,
   "id": "a742ca8d",
   "metadata": {},
   "outputs": [],
   "source": [
    "class Car:\n",
    "    color = 'red'\n",
    "    category = 'sports car'\n",
    "\n",
    "    def drive(self):\n",
    "        print(\"I'm driving\")\n",
    "\n",
    "    def accel(self, speed_up, current_speed=10):\n",
    "        self.speed_up = speed_up\n",
    "        self.current_speed = current_speed + self.speed_up\n",
    "        print(\"speed up\", self.speed_up, \"driving at\", self.current_speed)"
   ]
  },
  {
   "cell_type": "markdown",
   "id": "644b5f05",
   "metadata": {},
   "source": [
    "아래에 Car클래스 인스턴스의 color와 category를 초기화하도록 변경한 코드입니다."
   ]
  },
  {
   "cell_type": "code",
   "execution_count": null,
   "id": "8254a459",
   "metadata": {},
   "outputs": [],
   "source": [
    "class Car2:\n",
    "    def __init__(self, color, category):\n",
    "        self.color = color\n",
    "        self.category = category\n",
    "\n",
    "    def drive(self):\n",
    "        print(\"I'm driving\")\n",
    "\n",
    "    def accel(self, speed_up, current_speed=10):\n",
    "        self.speed_up = speed_up\n",
    "        self.current_speed = current_speed + self.speed_up\n",
    "        print(\"speed up\", self.speed_up, \"driving at\", self.current_speed)"
   ]
  },
  {
   "cell_type": "markdown",
   "id": "09c77500",
   "metadata": {},
   "source": [
    "- __init__ 메소드 안에 인자를 전달함으로써 인스턴스 객체의 속성을 초기화할 수 있습니다 .\n",
    "\n",
    "\n",
    "- 즉, __init__ 메소드 안에 정의된 속성(변수) color와 category는 클래스를 인스턴스화할 때 값을 설정할 수 있습니다.\n",
    "\n",
    "\n",
    "- 이를 인스턴스 객체의 초기화 (initializing instance) 라고 히고, __init__함수는 생성자(constructor)라고 합니다.\n",
    "\n",
    "\n",
    "- __init__ 역시 def 키워드로 정의합니다. 즉, 클래스 안의 메소드이므로 self 문법 잊지 마세요!\n",
    "\n"
   ]
  },
  {
   "cell_type": "code",
   "execution_count": null,
   "id": "69b0c98c",
   "metadata": {},
   "outputs": [],
   "source": [
    "#인스턴스 객체 선언\n",
    "car1 = Car()\n",
    "car2 = Car2('yellow', 'sedan')"
   ]
  },
  {
   "cell_type": "code",
   "execution_count": null,
   "id": "23e80f28",
   "metadata": {},
   "outputs": [],
   "source": [
    "car1.color"
   ]
  },
  {
   "cell_type": "code",
   "execution_count": null,
   "id": "5cae678d",
   "metadata": {},
   "outputs": [],
   "source": [
    "car2.color"
   ]
  },
  {
   "cell_type": "code",
   "execution_count": null,
   "id": "77756eee",
   "metadata": {},
   "outputs": [],
   "source": [
    "car1.category"
   ]
  },
  {
   "cell_type": "code",
   "execution_count": null,
   "id": "ec6c30bf",
   "metadata": {},
   "outputs": [],
   "source": [
    "car2.category"
   ]
  },
  {
   "cell_type": "code",
   "execution_count": null,
   "id": "64e1e523",
   "metadata": {},
   "outputs": [],
   "source": [
    "class Car2:\n",
    "    def __init__(self, color='red', category='sprots car'):\n",
    "        self.color = color\n",
    "        self.category = category"
   ]
  },
  {
   "cell_type": "markdown",
   "id": "cfe79c1f",
   "metadata": {},
   "source": [
    "- __init__이라고 쓰고, \"던더(Double Under) 이닛\"이라고 발음합니다.\n",
    "\n",
    "\n",
    "- 다른 객체 지향 언어를 알고 있는 독자라면 생성자라는 말을 들으면 객체 인스턴스화와 초기화 2가지 작업을 생각할 수 있습니다.\n",
    "\n",
    "\n",
    "- 그러나 파이썬의 생성자는 초기화만 수행합니다. 그럼 객체 인스턴스화는 누가 할까요? 기억나시나요? 네, 바로 클래스 사용 시 변수 할당을 통해 이루어집니다.\n",
    "\n",
    "\n",
    "- 그리고 이 __init__처럼 앞뒤에 언더바(_)가 두 개씩 있는 메소드를 매직 메소드 라고 합니다.\n",
    "\n",
    "\n",
    "- 매직 메서드에 대해 더 알아보고 싶은 분은 [여기](https://rszalski.github.io/magicmethods/) 링크를 참고해 보세요."
   ]
  },
  {
   "cell_type": "code",
   "execution_count": null,
   "id": "12108f58",
   "metadata": {},
   "outputs": [],
   "source": [
    " class Car:\n",
    "    Manufacture = \"India\"\n",
    "\n",
    "    def __init__(self, color, category='sedan'):\n",
    "        self.color = color\n",
    "        self.category = category"
   ]
  },
  {
   "cell_type": "code",
   "execution_count": null,
   "id": "cfe87caa",
   "metadata": {},
   "outputs": [],
   "source": [
    "car1 = Car('red','sports car')\n",
    "car2 = Car('white')\n",
    "print(car1.Manufacture, car1.color, car1.category)\n",
    "print(car2.Manufacture, car2.color, car2.category)"
   ]
  },
  {
   "cell_type": "markdown",
   "id": "3654d4e0",
   "metadata": {},
   "source": [
    "#### 클래스 변수\n",
    "\n",
    "- 클래스에 바로 선언된 속성을 클래스 변수라고 하며 클래스에 의해 생성된 모든 객체에서 같은 값을 조회할 때 가능합니다.\n",
    "\n",
    "\n",
    "- Manufacture는 클래스 변수에요.\n",
    "\n",
    "\n",
    "- Manufacture 속성은 car1과 car2가 공유합니다.\n",
    "\n",
    "\n",
    "#### 인스턴스 변수\n",
    "\n",
    "- __init__() 안에서 self를 사용해 선언된 변수를 인스턴스 변수라고 합니다. 객체가 인스턴스화될 때마다 새로운 값이 할당되며 서로 다른 객체 간에는 값을 공유할 수 없습니다.\n",
    "\n",
    "\n",
    "- color와 category는 인스턴스 변수에요.\n",
    "\n",
    "\n",
    "- color와 category 속성은 car1과 car2가 공유하지 않습니다."
   ]
  },
  {
   "cell_type": "markdown",
   "id": "94723856",
   "metadata": {},
   "source": [
    "밑 3개의 쉘 예제 "
   ]
  },
  {
   "cell_type": "code",
   "execution_count": null,
   "id": "42b1201c",
   "metadata": {},
   "outputs": [],
   "source": [
    "def sum(_a, _b):\n",
    "    result = _a + _b \n",
    "    print(result)\n",
    "    return result"
   ]
  },
  {
   "cell_type": "code",
   "execution_count": null,
   "id": "a88daf19",
   "metadata": {},
   "outputs": [],
   "source": [
    "temp =sum(3, 6)"
   ]
  },
  {
   "cell_type": "code",
   "execution_count": null,
   "id": "867ab490",
   "metadata": {},
   "outputs": [],
   "source": [
    "temp"
   ]
  },
  {
   "cell_type": "code",
   "execution_count": null,
   "id": "e666cc34",
   "metadata": {},
   "outputs": [],
   "source": [
    "class Car:\n",
    "    Manufacture = \"India\"\n",
    "\n",
    "    def __init__(self, color='red', category='sedan'):\n",
    "        self.color = color\n",
    "        self.category = category\n",
    "\n",
    "    def drive(self):\n",
    "        print(\"I'm driving\")\n",
    "\n",
    "    def accel(self, speed_up, current_speed=10):\n",
    "        self.speed_up = speed_up\n",
    "        self.current_speed = current_speed + self.speed_up\n",
    "        print(\"speed up\", self.speed_up, \"driving at\", self.current_speed)"
   ]
  },
  {
   "cell_type": "markdown",
   "id": "ec86645d",
   "metadata": {},
   "source": [
    "- 여기에 Car 클래스의 기능은 유지한 채 maker 속성만 추가된 새로운 클래스 NewCar를 선언하고 싶다면, 클래스의 상속 기능을 이용하면 됩니다."
   ]
  },
  {
   "cell_type": "code",
   "execution_count": null,
   "id": "f3e09514",
   "metadata": {},
   "outputs": [],
   "source": [
    "class NewCar(Car):\n",
    "    pass\n",
    "\n",
    "car = NewCar()\n",
    "car.drive()\n",
    "car.accel(10)"
   ]
  },
  {
   "cell_type": "markdown",
   "id": "f921c1e2",
   "metadata": {},
   "source": [
    "![title](https://d3s0tskafalll9.cloudfront.net/media/images/F-23-9.max-800x600_oUmDLA9.png)\n",
    "\n",
    "현실 세계와 동일한 개념입니다. 이런 걸 상속이라고 합니다.\n",
    "\n",
    "\n",
    "Car 클래스와 비슷한 기능과 속성을 유지한 채 maker 속성만 추가해 조금 다른 클래스를 만들고 싶다면, \n",
    "Car 클래스를 상속받은 뒤 maker 속성만 추가해 주면 됩니다."
   ]
  },
  {
   "cell_type": "code",
   "execution_count": null,
   "id": "69a1b264",
   "metadata": {},
   "outputs": [],
   "source": [
    "class NewCar(Car):\n",
    "    maker = 'Porsche'\n",
    "\n",
    "car = NewCar()\n",
    "car.maker"
   ]
  },
  {
   "cell_type": "markdown",
   "id": "5c7a15ad",
   "metadata": {},
   "source": [
    "자식 클래스, 부모 클래스\n",
    "\n",
    "- 상속받은 클래스를 \"자식 클래스\", \"서브 클래스(sub class)\", \"파생된 클래스(derived class)\"라고 합니다.\n",
    "\n",
    "\n",
    "- 기존 클래스를 \"부모 클래스\", \"슈퍼 클래스(super class)\", \"베이스 클래스(base class)\"라고 합니다."
   ]
  },
  {
   "cell_type": "markdown",
   "id": "a455ebbf",
   "metadata": {},
   "source": [
    "#### 상속 사용하기\n",
    "\n",
    "클래스를 잘 상속하기 위해 필요한 3가지 사용법을 살펴보겠습니다.\n",
    "\n",
    "- 메소드 추가하기(add)\n",
    "\n",
    "\n",
    "- 메소드 재정의하기(override)\n",
    "\n",
    "\n",
    "- 부모 메소드 호출하기(super())"
   ]
  },
  {
   "cell_type": "code",
   "execution_count": null,
   "id": "7b91d221",
   "metadata": {},
   "outputs": [],
   "source": [
    "class NewCar(Car):\n",
    "    def fly(self):\n",
    "        print(\"I'm flying!! This is the new car!!\")\n",
    "\n",
    "    def drive(self):\n",
    "        print(\"I'm driving and can fly\")"
   ]
  },
  {
   "cell_type": "markdown",
   "id": "7e762c89",
   "metadata": {},
   "source": [
    "- fly() : 메소드 추가\n",
    "\n",
    "\n",
    "- drive() : 메소드 재정의"
   ]
  },
  {
   "cell_type": "markdown",
   "id": "6cbec6ae",
   "metadata": {},
   "source": [
    "#### Q5. 메소드 추가와 메소드 오버라이드의 차이는 무엇인가?\n",
    "\n",
    "#### A)상속받은 클래스에서 없는 메소드를 정의 하는 것을 메소드 추가라고 하고 상속받은 클래스에서 있는 메소드를 다시 정의하는 것을 메소드 오버라이드라고 한다."
   ]
  },
  {
   "cell_type": "markdown",
   "id": "77c7d7b5",
   "metadata": {},
   "source": [
    "#### 부모 메소드 호출하기 super()\n",
    "\n",
    "- 부모 메소드 호출은 super() 라는 함수를 이용합니다. super()는 파이썬 내장함수입니다. 자식 클래스에서 부모 클래스의 메소드를 호출하고 싶을 때 사용합니다.\n",
    "\n",
    "#### super() 함수 문법\n",
    "\n",
    "아래 코드는 공식 문서에서 발췌한 예제 코드입니다.\n",
    "클래스 C는 클래스 B를 상속받았고, method()를 다시 재정의하고 super() 함수를 사용합니다.\n",
    "\n",
    "![title](https://d3s0tskafalll9.cloudfront.net/media/images/F-23-10.max-800x600_6XWTuA3.png)\n",
    "\n",
    "#### super() 함수는 다음과 같이 사용합니다.\n",
    "\n",
    "\n",
    "def (부모클래스의)메소드이름():\n",
    "\n",
    "\tsuper().메소드이름()\n",
    "    \n"
   ]
  },
  {
   "cell_type": "code",
   "execution_count": 20,
   "id": "bf0879f7",
   "metadata": {},
   "outputs": [],
   "source": [
    "class NewCar(Car):\n",
    "    def __init__(self, color, category, maker):\n",
    "        super().__init__(color, category)\n",
    "        self.maker = maker\n",
    "\n",
    "    def fly(self):\n",
    "        print(\"I'm flying!! This is the new car!!\")\n",
    "\n",
    "    def accel(self, speed_up, level=1, current_speed=10):\n",
    "        self.boost[level] = {1 : 0, 2 : 30, 3 : 50}\n",
    "        self.speed_up = speed_up + self.boost[level]\n",
    "        self.current_speed = current_speed + self.speed_up\n",
    "        print(\"speed up\", self.speed_up, \"driving at\", self.current_speed)"
   ]
  },
  {
   "cell_type": "code",
   "execution_count": 19,
   "id": "e81513fa",
   "metadata": {},
   "outputs": [
    {
     "name": "stdout",
     "output_type": "stream",
     "text": [
      "2020Y sports car\n"
     ]
    }
   ],
   "source": [
    "class Car:\n",
    "    Manufacture = \"India\"\n",
    "\n",
    "    def __init__(self, color='red', category='sedan'):\n",
    "        self.color = color \n",
    "        self.category = '2020Y '+ category\n",
    "\n",
    "\n",
    "class NewCar(Car):\n",
    "    def __init__(self, color, category, maker):\n",
    "        super().__init__(color, category)\n",
    "        self.maker = maker\n",
    "\n",
    "newcar = NewCar('red','sports car', 'Kia')\n",
    "print(newcar.category)"
   ]
  },
  {
   "cell_type": "markdown",
   "id": "f1235772",
   "metadata": {},
   "source": [
    "### 1. 클래스 선언\n",
    "\n",
    "### 2. 클래스 사용\n",
    "\n",
    "- \"객체의 인스턴스\"\n",
    "\n",
    "\n",
    "### 3. 클래스는 동작과 상태를 갖는다.\n",
    "\n",
    "- 상태(State): 속성(Attribute)로 표현, 일명 변수\n",
    "\n",
    "\n",
    "- 동작(Behavior): Methode로 표현, 일명 함수\n",
    "\n",
    "\n",
    "- 객체는 동작은 공유하지만 상태는 공유하지 않는다.\n",
    "\n",
    "\n",
    "### 4. 생성자 __init__\n",
    "\n",
    "\n",
    "\n",
    "### 5. 클래스 변수와 인스턴스 변수\n",
    "\n",
    "- 클래스에 선언된 속성은 클래스 변수라고 하며 이 클래스에 의해 생성된 모든 객체에 대해 같은 속성(값)을 갖는다.\n",
    "\n",
    "\n",
    "- 객체가 인스턴스화될 때마다 새로운 값이 할당되며 서로 다른 객체 간에는 속성(값)을 공유할 수 없다.\n",
    "\n",
    "\n",
    "### 6. 상속\n",
    "\n",
    "\n",
    "- 메소드 추가, 메소드 오버라이드, 부모메소드 호출하기"
   ]
  },
  {
   "cell_type": "markdown",
   "id": "0b93bb7f",
   "metadata": {},
   "source": [
    "# n면체 주사위 만들기 (1) 기획\n",
    "\n",
    "일반적인 주사위는 1~6까지 눈이 있는 정육면체입니다.\n",
    "\n",
    "그렇지만 주사위가 꼭 6개의 면만 가질 필요는 없습니다.\n",
    "\n",
    "사용자가 원하면 주사위 숫자 수는 달라질 수 있을 겁니다.\n",
    "\n",
    "이제 한번 이런 n면체 주사위를 파이썬 클래스르 이용해 프로그래밍 해볼 것 입니다.\n",
    "\n",
    "![title](https://d3s0tskafalll9.cloudfront.net/media/images/F-23-15.max-800x600_vZYXObN.png)\n",
    "\n",
    "- 주사위의 면의 개수 n을 입력할 수 있다.\n",
    "\n",
    "\n",
    "- 주사위를 던지면 1~n 눈의 수 중에서 랜덤으로 값을 출력한다."
   ]
  },
  {
   "cell_type": "markdown",
   "id": "a558c7bd",
   "metadata": {},
   "source": [
    "클래스로 어떻게 구현하면 좋을지, 어떤 메소드와 속성이 필요할지 간단한 계획을 정해보겠습니다.\n",
    "\n",
    "\n",
    "- 나만의 n면체 주사위 클래스 이름은 FunnyDice 라고 한다. (Dice는 주사위라는 뜻이에요)\n",
    "\n",
    "\n",
    "- 주사위 면의 개수 n을 인스턴스 변수로 선언해 주사위 면의 개수 n을 입력할 수 있게 한다.\n",
    "\n",
    "\n",
    "- throw란 메소드로 던져서 1 ~ n 중 하나의 값이 나오게 한다.\n",
    "\n",
    "\n",
    "- 주사위의 값을 특정한 값으로 세팅하기 : setval이란 기능을 통해 특정 값을 user가 선택할 수 있는 치팅 기능을 넣어도 재밌을 것 같다.\n",
    "\n",
    "\n",
    "- 현재 주사위 값 얻기 : 주사위를 던졌든, 주사위 값을 세팅했던지 주사위의 값을 user한테 알려줘야 한다. getval이란 기능을 추가해서 user가 현재 주사위의 값을 읽을 수 있게 해준다."
   ]
  },
  {
   "cell_type": "markdown",
   "id": "fadcba0c",
   "metadata": {},
   "source": [
    "1. 우선 입력이 있어야 합니다. 주사위 면의 수를 입력 받아야겠죠?\n",
    "\n",
    "- n이란 변수명에 주사위 면의 수를 입력 받습니다.\n",
    "\n",
    "\n",
    "- 이 변수는 get_inputs() 함수를 호출해서 받도록 합니다.\n",
    "\n",
    "\n",
    "- 코드로 표현하면: n = get_inputs()\n",
    "\n",
    "\n",
    "2. 이제 주사위 객체를 만듭니다.\n",
    "\n",
    "\n",
    "- 주사위 객체는 FunnyDice란 클래스에서 만들어진 인스턴스일 거에요. (인스턴스 객체명은 mydice로 하겠습니다.)\n",
    "\n",
    "\n",
    "- mydice를 FunnyDice의 클래스로부터 인스턴스 객체로 만듭니다.\n",
    "\n",
    "\n",
    "- 이 mydice 객체는 위의 변수 n를 인자로 받으며 이 값은 객체의 속성으로 초기화 시킬 수 있게 합니다.\n",
    "\n",
    "\n",
    "- 코드로 표현: mydice = FunnyDice(n)\n",
    "\n",
    "\n",
    "3. 아래 코드는 우리가 구동할 main()함수입니다.\n",
    "\n",
    "4. 아직 함수 안의 get_inputs() 함수와 FunnyDice 클래스는 설계하지 않았지만, 위 내용들이 대략적으로 들어가 있네요. mydice.throw()나 mydice.getval()은 FunnyDice클래스의 메소드로 구현할 거란 걸 대략적으로 알 수 있습니다.\n",
    "\n"
   ]
  },
  {
   "cell_type": "code",
   "execution_count": 21,
   "id": "ad71a587",
   "metadata": {},
   "outputs": [],
   "source": [
    "def main():\n",
    "    n = get_inputs()\n",
    "    mydice = FuunnyDice(n)\n",
    "    mydice.throw()\n",
    "    print(\"행운의 숫자는? {}\".format(mydice.getval()))"
   ]
  },
  {
   "cell_type": "code",
   "execution_count": 22,
   "id": "c5dac48f",
   "metadata": {},
   "outputs": [],
   "source": [
    "class FunnyDice:\n",
    "    def __init__(self, n):\n",
    "            self.n = n\n",
    "    \n",
    "    def throw(self):\n",
    "        pass\n",
    "    \n",
    "    def getval(self):\n",
    "        pass\n",
    "\n",
    "    def setval(self, val):\n",
    "        pass"
   ]
  },
  {
   "cell_type": "code",
   "execution_count": 24,
   "id": "391337c0",
   "metadata": {},
   "outputs": [],
   "source": [
    "class FunnyDice:\n",
    "    def __init__(self, n):\n",
    "        self.n = n\n",
    "        \n",
    "    def throw(self):\n",
    "        pass\n",
    "    \n",
    "    def getval(self):\n",
    "        pass\n",
    "    \n",
    "    def setval(self, val):\n",
    "        pass"
   ]
  },
  {
   "cell_type": "markdown",
   "id": "7d0eec46",
   "metadata": {},
   "source": [
    "### 생성자 __init__ 구현"
   ]
  },
  {
   "cell_type": "code",
   "execution_count": 25,
   "id": "d8db594c",
   "metadata": {},
   "outputs": [],
   "source": [
    "from random import randrange"
   ]
  },
  {
   "cell_type": "code",
   "execution_count": 27,
   "id": "9bef3d0d",
   "metadata": {},
   "outputs": [],
   "source": [
    "class FunnyDice:\n",
    "    def __init__(self, n=6):\n",
    "        self.n= int(n)\n",
    "        self.numbers = list(range(1, n+1))\n",
    "        self.index = randrange(0, self.n)\n",
    "        self.val = self.numbers[self.index]"
   ]
  },
  {
   "cell_type": "markdown",
   "id": "7e3a307e",
   "metadata": {},
   "source": [
    "1. 파라미터 n\n",
    "\n",
    "- n의 디폴트 값으로 6을 지정했습니다. 이렇게 하면 인스턴스 객체를 만들 때 인자를 주지 않으면 6면체 주사위가 만들어 집니다.\n",
    "\n",
    "\n",
    "- 그리고 혹시 몰라 n을 정수로 형변환을 하였습니다.\n",
    "\n",
    "2. 인스턴스 변수\n",
    "\n",
    "- 인스턴스 변수에 numbers, index, val을 추가해 봤어요.\n",
    "\n",
    "\n",
    "- self.numbers는 주사위 눈들입니다. range() 함수를 이용해서 1부터 n+1까지의 리스트를 만들었어요.\n",
    "\n",
    "\n",
    "- self.index 는 number 리스트의 인덱스에요. 주사위를 던지기 전 눈의 수를 위해 인덱스변수도 추가했어요. 인덱스는 파이썬 random 모듈의 randrange()함수를 이용해서 랜덤으로 나오게 했습니다.\n",
    "\n",
    "\n",
    "- self.val은 주사위의 눈이에요.\n"
   ]
  },
  {
   "cell_type": "markdown",
   "id": "a2dba9f3",
   "metadata": {},
   "source": [
    "#### throw 와 getval 메소드"
   ]
  },
  {
   "cell_type": "code",
   "execution_count": 28,
   "id": "20130d60",
   "metadata": {},
   "outputs": [],
   "source": [
    "from random import randrange"
   ]
  },
  {
   "cell_type": "code",
   "execution_count": 29,
   "id": "032e96dc",
   "metadata": {},
   "outputs": [],
   "source": [
    "class FunnyDice:\n",
    "    def throw(self):\n",
    "        self.index = randrange(0, self.n)\n",
    "        self.val = self.numbers[self.index]\n",
    "        \n",
    "    def getval(self):\n",
    "        return self.val"
   ]
  },
  {
   "cell_type": "markdown",
   "id": "756527fa",
   "metadata": {},
   "source": [
    "1. throw\n",
    "\n",
    "- 랜덤으로 주사위 눈이 나오게 합니다.\n",
    "\n",
    "\n",
    "2. getval\n",
    "\n",
    "- 주사위 눈 변수 val을 반환 합니다. getval 메소드를 호출하면 주사위 눈의 값을 얻을 수 있습니다.\n",
    "\n",
    "\n",
    "- (주사위 눈 속성에 바로 접근할 수도 있지만 일반적으로 이렇게 속성에 접근하는 메소드를 구현하여 제공합니다. 파이썬 클린코드, Design Pattern 관련된 내용이니 참고하세요)"
   ]
  },
  {
   "cell_type": "code",
   "execution_count": 31,
   "id": "64f24aff",
   "metadata": {},
   "outputs": [],
   "source": [
    "class FunnyDice:\n",
    "    def setval(self, val:int):\n",
    "        if val <= self.n:\n",
    "            self.val = val\n",
    "        else:\n",
    "            msg - \"주사위에 없는 숫자입니다. 주사위는 1 ~ {0}까지 있습니다\".format(self.n)\n",
    "            raise ValueError(msg)"
   ]
  },
  {
   "cell_type": "markdown",
   "id": "1d5192af",
   "metadata": {},
   "source": [
    "#### FunnyDice  전체코드"
   ]
  },
  {
   "cell_type": "code",
   "execution_count": 35,
   "id": "6a974810",
   "metadata": {},
   "outputs": [],
   "source": [
    "class FunnyDice:\n",
    "    def __init__(self, n=6):\n",
    "        self.n = int(n)\n",
    "        self.numbers = list(range(1, n + 1))\n",
    "        self.index = randrange(0, self.n)\n",
    "        self.val = self.numbers[self.index]\n",
    "\n",
    "    def throw(self):\n",
    "        self.index = randrange(0, self.n)\n",
    "        self.val = self.numbers[self.index]\n",
    "\n",
    "    def getval(self):\n",
    "        return self.val\n",
    "\n",
    "    def setval(self, val):\n",
    "        if val <= self.n:\n",
    "            self.val = val\n",
    "        else:\n",
    "            msg = \"주사위에 없는 숫자입니다. 주사위는 1 ~ {0}까지 있습니다. \".format(self.n)\n",
    "            raise ValueError(msg)"
   ]
  },
  {
   "cell_type": "code",
   "execution_count": 44,
   "id": "c123a323",
   "metadata": {},
   "outputs": [
    {
     "name": "stdout",
     "output_type": "stream",
     "text": [
      "3\n"
     ]
    }
   ],
   "source": [
    "lucknum = FunnyDice()\n",
    "lucknum.throw()\n",
    "print(lucknum.getval())\n",
    "lucknum.setval(6)"
   ]
  },
  {
   "cell_type": "code",
   "execution_count": null,
   "id": "ea927aed",
   "metadata": {},
   "outputs": [],
   "source": [
    "# funnydice.py\n",
    "\n",
    "from random import randrange\n",
    "\n",
    "class FunnyDice:\n",
    "    def __init__(self, n=6):\n",
    "        self.n = n\n",
    "        self.options = list(range(1, n+1))\n",
    "        self.index = randrange(0, self.n)\n",
    "        self.val = self.options[self.index]\n",
    "    \n",
    "    def throw(self):\n",
    "        self.index = randrange(0, self.n)\n",
    "        self.val = self.options[self.index]\n",
    "\n",
    "    def getval(self):\n",
    "        return self.val\n",
    "\n",
    "    def setval(self, val):\n",
    "        if val <= self.n:\n",
    "            self.val = val\n",
    "        else:\n",
    "            msg = \"주사위에 없는 숫자입니다. 주사위는 1 ~ {0}까지 있습니다. \".format(self.n)\n",
    "            raise ValueError(msg)\n",
    "\n",
    "def get_inputs():\n",
    "    n = int(input(\"주사위 면의 개수를 입력하세요: \"))\n",
    "    return n\n",
    "\n",
    "def main():\n",
    "    n = get_inputs()\n",
    "    mydice = FunnyDice(n)\n",
    "    mydice.throw()\n",
    "    print(\"행운의 숫자는? {0}\".format(mydice.getval()))\n",
    "\n",
    "if __name__ == '__main__':\n",
    "    main()"
   ]
  },
  {
   "cell_type": "code",
   "execution_count": null,
   "id": "fdc2a87e",
   "metadata": {},
   "outputs": [],
   "source": []
  }
 ],
 "metadata": {
  "kernelspec": {
   "display_name": "Python 3",
   "language": "python",
   "name": "python3"
  },
  "language_info": {
   "codemirror_mode": {
    "name": "ipython",
    "version": 3
   },
   "file_extension": ".py",
   "mimetype": "text/x-python",
   "name": "python",
   "nbconvert_exporter": "python",
   "pygments_lexer": "ipython3",
   "version": "3.8.8"
  }
 },
 "nbformat": 4,
 "nbformat_minor": 5
}
