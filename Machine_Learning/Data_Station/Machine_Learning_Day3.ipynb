{
 "cells": [
  {
   "cell_type": "code",
   "execution_count": 1,
   "id": "3fadb9fe",
   "metadata": {},
   "outputs": [],
   "source": [
    "import pandas as pd\n",
    "import matplotlib.pyplot as plt\n",
    "import matplotlib as mpl\n",
    "import seaborn as sns\n",
    "import plotly.express as px\n",
    "import scipy.stats as stats\n",
    "from sklearn.model_selection import train_test_split\n",
    "# scaler & encoding Import \n",
    "\n",
    "from sklearn.preprocessing import StandardScaler\n",
    "from sklearn.preprocessing import MinMaxScaler\n",
    "from sklearn.preprocessing import RobustScaler\n",
    "from sklearn.preprocessing import LabelEncoder\n",
    "from sklearn.preprocessing import OneHotEncoder\n",
    "from sklearn.impute import SimpleImputer\n",
    "### 파이프라인 구축(특성공학 + 학습)\n",
    "from sklearn.pipeline import make_pipeline\n",
    "### 결측치처리 , 스케일링과 인코딩 (숫자는 - 중앙값 / 문자 - 최빈값 변경)\n",
    "\n",
    "from sklearn.impute import SimpleImputer\n",
    "from sklearn.preprocessing import MinMaxScaler\n",
    "from sklearn.preprocessing import OneHotEncoder\n",
    "\n",
    "# 숫자는 숫자끼리 문자는 문자끼리 처리가 될 수 있도록 파이프를 별도로 구성\n",
    "# 두파이프를 병합하는 형태\n",
    "# from sklearn.compose import make_column_transformer\n",
    "from sklearn.compose import make_column_transformer\n",
    "\n",
    "\n",
    "### 학습알고리즘 호출\n",
    "from sklearn.tree import DecisionTreeClassifier\n",
    "from sklearn.metrics import classification_report\n",
    "import pickle # python 객체들을 하나의 파일로 변환\n",
    "from sklearn.model_selection import GridSearchCV\n",
    "mpl.rc('font', family='Malgun Gothic')\n",
    "# mpl.rc('font', family='AppleGothic')"
   ]
  },
  {
   "cell_type": "code",
   "execution_count": 2,
   "id": "6969f238",
   "metadata": {},
   "outputs": [
    {
     "name": "stdout",
     "output_type": "stream",
     "text": [
      "Collecting imblearn\n",
      "  Downloading imblearn-0.0-py2.py3-none-any.whl (1.9 kB)\n",
      "Collecting imbalanced-learn\n",
      "  Downloading imbalanced_learn-0.9.1-py3-none-any.whl (199 kB)\n",
      "Requirement already satisfied: joblib>=1.0.0 in c:\\programdata\\anaconda3\\lib\\site-packages (from imbalanced-learn->imblearn) (1.1.0)\n",
      "Collecting scikit-learn>=1.1.0\n",
      "  Downloading scikit_learn-1.1.2-cp39-cp39-win_amd64.whl (7.4 MB)\n",
      "Requirement already satisfied: scipy>=1.3.2 in c:\\programdata\\anaconda3\\lib\\site-packages (from imbalanced-learn->imblearn) (1.7.3)\n",
      "Requirement already satisfied: threadpoolctl>=2.0.0 in c:\\programdata\\anaconda3\\lib\\site-packages (from imbalanced-learn->imblearn) (2.2.0)\n",
      "Requirement already satisfied: numpy>=1.17.3 in c:\\programdata\\anaconda3\\lib\\site-packages (from imbalanced-learn->imblearn) (1.21.5)\n",
      "Installing collected packages: scikit-learn, imbalanced-learn, imblearn\n",
      "Successfully installed imbalanced-learn-0.9.1 imblearn-0.0 scikit-learn-1.1.2\n"
     ]
    }
   ],
   "source": [
    "!pip install --user imblearn"
   ]
  },
  {
   "cell_type": "code",
   "execution_count": 2,
   "id": "8173e554",
   "metadata": {},
   "outputs": [],
   "source": [
    "df1_detect = pd.read_csv('09_Detection.csv')\n",
    "df2_process = pd.read_csv('09_Process_A.csv')"
   ]
  },
  {
   "cell_type": "code",
   "execution_count": 5,
   "id": "55fceb7c",
   "metadata": {},
   "outputs": [
    {
     "data": {
      "text/html": [
       "<div>\n",
       "<style scoped>\n",
       "    .dataframe tbody tr th:only-of-type {\n",
       "        vertical-align: middle;\n",
       "    }\n",
       "\n",
       "    .dataframe tbody tr th {\n",
       "        vertical-align: top;\n",
       "    }\n",
       "\n",
       "    .dataframe thead th {\n",
       "        text-align: right;\n",
       "    }\n",
       "</style>\n",
       "<table border=\"1\" class=\"dataframe\">\n",
       "  <thead>\n",
       "    <tr style=\"text-align: right;\">\n",
       "      <th></th>\n",
       "      <th>Unnamed: 0</th>\n",
       "      <th>date_clean</th>\n",
       "      <th>tag</th>\n",
       "      <th>tag_num</th>\n",
       "      <th>unit</th>\n",
       "      <th>Y1A</th>\n",
       "      <th>Y2A</th>\n",
       "      <th>Y3A</th>\n",
       "    </tr>\n",
       "  </thead>\n",
       "  <tbody>\n",
       "    <tr>\n",
       "      <th>0</th>\n",
       "      <td>0</td>\n",
       "      <td>2018-12-01 03:30:00.000</td>\n",
       "      <td>NE280V</td>\n",
       "      <td>GO1701</td>\n",
       "      <td>Total [1/m²]</td>\n",
       "      <td>4954.774</td>\n",
       "      <td>327.416</td>\n",
       "      <td>256.882</td>\n",
       "    </tr>\n",
       "    <tr>\n",
       "      <th>1</th>\n",
       "      <td>1</td>\n",
       "      <td>2018-12-01 07:30:00.005</td>\n",
       "      <td>NE280PV</td>\n",
       "      <td>GO1701</td>\n",
       "      <td>Total [1/m²]</td>\n",
       "      <td>2281.460</td>\n",
       "      <td>44.410</td>\n",
       "      <td>17.416</td>\n",
       "    </tr>\n",
       "  </tbody>\n",
       "</table>\n",
       "</div>"
      ],
      "text/plain": [
       "   Unnamed: 0               date_clean      tag tag_num          unit  \\\n",
       "0           0  2018-12-01 03:30:00.000   NE280V  GO1701  Total [1/m²]   \n",
       "1           1  2018-12-01 07:30:00.005  NE280PV  GO1701  Total [1/m²]   \n",
       "\n",
       "        Y1A      Y2A      Y3A  \n",
       "0  4954.774  327.416  256.882  \n",
       "1  2281.460   44.410   17.416  "
      ]
     },
     "execution_count": 5,
     "metadata": {},
     "output_type": "execute_result"
    }
   ],
   "source": [
    "df1_detect.head(2)"
   ]
  },
  {
   "cell_type": "code",
   "execution_count": 6,
   "id": "058c8796",
   "metadata": {},
   "outputs": [
    {
     "data": {
      "text/html": [
       "<div>\n",
       "<style scoped>\n",
       "    .dataframe tbody tr th:only-of-type {\n",
       "        vertical-align: middle;\n",
       "    }\n",
       "\n",
       "    .dataframe tbody tr th {\n",
       "        vertical-align: top;\n",
       "    }\n",
       "\n",
       "    .dataframe thead th {\n",
       "        text-align: right;\n",
       "    }\n",
       "</style>\n",
       "<table border=\"1\" class=\"dataframe\">\n",
       "  <thead>\n",
       "    <tr style=\"text-align: right;\">\n",
       "      <th></th>\n",
       "      <th>Unnamed: 0.1</th>\n",
       "      <th>Unnamed: 0</th>\n",
       "      <th>DATE</th>\n",
       "      <th>PERIOD</th>\n",
       "      <th>Label</th>\n",
       "      <th>A1</th>\n",
       "      <th>A2</th>\n",
       "      <th>A3</th>\n",
       "      <th>A4</th>\n",
       "      <th>A5</th>\n",
       "      <th>A6</th>\n",
       "    </tr>\n",
       "  </thead>\n",
       "  <tbody>\n",
       "    <tr>\n",
       "      <th>0</th>\n",
       "      <td>0</td>\n",
       "      <td>0</td>\n",
       "      <td>2018-12-01T00:10:00</td>\n",
       "      <td>P1</td>\n",
       "      <td>AVG</td>\n",
       "      <td>225.637279</td>\n",
       "      <td>228.533316</td>\n",
       "      <td>230.788205</td>\n",
       "      <td>230.634245</td>\n",
       "      <td>232.112927</td>\n",
       "      <td>230.630909</td>\n",
       "    </tr>\n",
       "    <tr>\n",
       "      <th>1</th>\n",
       "      <td>1</td>\n",
       "      <td>1</td>\n",
       "      <td>2018-12-01T00:20:00</td>\n",
       "      <td>P1</td>\n",
       "      <td>AVG</td>\n",
       "      <td>225.763044</td>\n",
       "      <td>228.519014</td>\n",
       "      <td>230.428961</td>\n",
       "      <td>230.936762</td>\n",
       "      <td>231.899435</td>\n",
       "      <td>230.564272</td>\n",
       "    </tr>\n",
       "  </tbody>\n",
       "</table>\n",
       "</div>"
      ],
      "text/plain": [
       "   Unnamed: 0.1  Unnamed: 0                 DATE PERIOD Label          A1  \\\n",
       "0             0           0  2018-12-01T00:10:00     P1   AVG  225.637279   \n",
       "1             1           1  2018-12-01T00:20:00     P1   AVG  225.763044   \n",
       "\n",
       "           A2          A3          A4          A5          A6  \n",
       "0  228.533316  230.788205  230.634245  232.112927  230.630909  \n",
       "1  228.519014  230.428961  230.936762  231.899435  230.564272  "
      ]
     },
     "execution_count": 6,
     "metadata": {},
     "output_type": "execute_result"
    }
   ],
   "source": [
    "df2_process.head(2)"
   ]
  },
  {
   "cell_type": "code",
   "execution_count": null,
   "id": "11bb750b",
   "metadata": {},
   "outputs": [],
   "source": [
    "pd.to_datetime()"
   ]
  },
  {
   "cell_type": "code",
   "execution_count": 9,
   "id": "f1a2bff1",
   "metadata": {},
   "outputs": [],
   "source": [
    "df1_detect['datetime'] = pd.to_datetime(df1_detect['date_clean'])\n",
    "df2_process['datetime'] = pd.to_datetime(df2_process['DATE'])"
   ]
  },
  {
   "cell_type": "code",
   "execution_count": 10,
   "id": "f338a48a",
   "metadata": {
    "collapsed": true
   },
   "outputs": [
    {
     "data": {
      "text/html": [
       "<div>\n",
       "<style scoped>\n",
       "    .dataframe tbody tr th:only-of-type {\n",
       "        vertical-align: middle;\n",
       "    }\n",
       "\n",
       "    .dataframe tbody tr th {\n",
       "        vertical-align: top;\n",
       "    }\n",
       "\n",
       "    .dataframe thead th {\n",
       "        text-align: right;\n",
       "    }\n",
       "</style>\n",
       "<table border=\"1\" class=\"dataframe\">\n",
       "  <thead>\n",
       "    <tr style=\"text-align: right;\">\n",
       "      <th></th>\n",
       "      <th>Unnamed: 0.1</th>\n",
       "      <th>Unnamed: 0_x</th>\n",
       "      <th>DATE</th>\n",
       "      <th>PERIOD</th>\n",
       "      <th>Label</th>\n",
       "      <th>A1</th>\n",
       "      <th>A2</th>\n",
       "      <th>A3</th>\n",
       "      <th>A4</th>\n",
       "      <th>A5</th>\n",
       "      <th>A6</th>\n",
       "      <th>datetime</th>\n",
       "      <th>Unnamed: 0_y</th>\n",
       "      <th>date_clean</th>\n",
       "      <th>tag</th>\n",
       "      <th>tag_num</th>\n",
       "      <th>unit</th>\n",
       "      <th>Y1A</th>\n",
       "      <th>Y2A</th>\n",
       "      <th>Y3A</th>\n",
       "    </tr>\n",
       "  </thead>\n",
       "  <tbody>\n",
       "    <tr>\n",
       "      <th>0</th>\n",
       "      <td>0</td>\n",
       "      <td>0</td>\n",
       "      <td>2018-12-01T00:10:00</td>\n",
       "      <td>P1</td>\n",
       "      <td>AVG</td>\n",
       "      <td>225.637279</td>\n",
       "      <td>228.533316</td>\n",
       "      <td>230.788205</td>\n",
       "      <td>230.634245</td>\n",
       "      <td>232.112927</td>\n",
       "      <td>230.630909</td>\n",
       "      <td>2018-12-01 00:10:00</td>\n",
       "      <td>NaN</td>\n",
       "      <td>NaN</td>\n",
       "      <td>NaN</td>\n",
       "      <td>NaN</td>\n",
       "      <td>NaN</td>\n",
       "      <td>NaN</td>\n",
       "      <td>NaN</td>\n",
       "      <td>NaN</td>\n",
       "    </tr>\n",
       "    <tr>\n",
       "      <th>1</th>\n",
       "      <td>1</td>\n",
       "      <td>1</td>\n",
       "      <td>2018-12-01T00:20:00</td>\n",
       "      <td>P1</td>\n",
       "      <td>AVG</td>\n",
       "      <td>225.763044</td>\n",
       "      <td>228.519014</td>\n",
       "      <td>230.428961</td>\n",
       "      <td>230.936762</td>\n",
       "      <td>231.899435</td>\n",
       "      <td>230.564272</td>\n",
       "      <td>2018-12-01 00:20:00</td>\n",
       "      <td>NaN</td>\n",
       "      <td>NaN</td>\n",
       "      <td>NaN</td>\n",
       "      <td>NaN</td>\n",
       "      <td>NaN</td>\n",
       "      <td>NaN</td>\n",
       "      <td>NaN</td>\n",
       "      <td>NaN</td>\n",
       "    </tr>\n",
       "    <tr>\n",
       "      <th>2</th>\n",
       "      <td>2</td>\n",
       "      <td>2</td>\n",
       "      <td>2018-12-01T00:30:00</td>\n",
       "      <td>P1</td>\n",
       "      <td>AVG</td>\n",
       "      <td>225.637431</td>\n",
       "      <td>228.040479</td>\n",
       "      <td>230.276102</td>\n",
       "      <td>230.359142</td>\n",
       "      <td>231.650512</td>\n",
       "      <td>230.317974</td>\n",
       "      <td>2018-12-01 00:30:00</td>\n",
       "      <td>NaN</td>\n",
       "      <td>NaN</td>\n",
       "      <td>NaN</td>\n",
       "      <td>NaN</td>\n",
       "      <td>NaN</td>\n",
       "      <td>NaN</td>\n",
       "      <td>NaN</td>\n",
       "      <td>NaN</td>\n",
       "    </tr>\n",
       "    <tr>\n",
       "      <th>3</th>\n",
       "      <td>3</td>\n",
       "      <td>3</td>\n",
       "      <td>2018-12-01T00:40:00</td>\n",
       "      <td>P1</td>\n",
       "      <td>AVG</td>\n",
       "      <td>224.906854</td>\n",
       "      <td>227.645375</td>\n",
       "      <td>229.837444</td>\n",
       "      <td>229.830891</td>\n",
       "      <td>231.075795</td>\n",
       "      <td>229.694517</td>\n",
       "      <td>2018-12-01 00:40:00</td>\n",
       "      <td>NaN</td>\n",
       "      <td>NaN</td>\n",
       "      <td>NaN</td>\n",
       "      <td>NaN</td>\n",
       "      <td>NaN</td>\n",
       "      <td>NaN</td>\n",
       "      <td>NaN</td>\n",
       "      <td>NaN</td>\n",
       "    </tr>\n",
       "    <tr>\n",
       "      <th>4</th>\n",
       "      <td>4</td>\n",
       "      <td>4</td>\n",
       "      <td>2018-12-01T00:50:00</td>\n",
       "      <td>P1</td>\n",
       "      <td>AVG</td>\n",
       "      <td>224.798077</td>\n",
       "      <td>227.710191</td>\n",
       "      <td>229.888123</td>\n",
       "      <td>229.962605</td>\n",
       "      <td>231.004184</td>\n",
       "      <td>229.586533</td>\n",
       "      <td>2018-12-01 00:50:00</td>\n",
       "      <td>NaN</td>\n",
       "      <td>NaN</td>\n",
       "      <td>NaN</td>\n",
       "      <td>NaN</td>\n",
       "      <td>NaN</td>\n",
       "      <td>NaN</td>\n",
       "      <td>NaN</td>\n",
       "      <td>NaN</td>\n",
       "    </tr>\n",
       "    <tr>\n",
       "      <th>...</th>\n",
       "      <td>...</td>\n",
       "      <td>...</td>\n",
       "      <td>...</td>\n",
       "      <td>...</td>\n",
       "      <td>...</td>\n",
       "      <td>...</td>\n",
       "      <td>...</td>\n",
       "      <td>...</td>\n",
       "      <td>...</td>\n",
       "      <td>...</td>\n",
       "      <td>...</td>\n",
       "      <td>...</td>\n",
       "      <td>...</td>\n",
       "      <td>...</td>\n",
       "      <td>...</td>\n",
       "      <td>...</td>\n",
       "      <td>...</td>\n",
       "      <td>...</td>\n",
       "      <td>...</td>\n",
       "      <td>...</td>\n",
       "    </tr>\n",
       "    <tr>\n",
       "      <th>10656</th>\n",
       "      <td>10651</td>\n",
       "      <td>10651</td>\n",
       "      <td>2019-09-03T23:20:00</td>\n",
       "      <td>P3</td>\n",
       "      <td>AVG</td>\n",
       "      <td>229.419421</td>\n",
       "      <td>230.737206</td>\n",
       "      <td>231.043314</td>\n",
       "      <td>230.766543</td>\n",
       "      <td>229.620569</td>\n",
       "      <td>227.705867</td>\n",
       "      <td>2019-09-03 23:20:00</td>\n",
       "      <td>NaN</td>\n",
       "      <td>NaN</td>\n",
       "      <td>NaN</td>\n",
       "      <td>NaN</td>\n",
       "      <td>NaN</td>\n",
       "      <td>NaN</td>\n",
       "      <td>NaN</td>\n",
       "      <td>NaN</td>\n",
       "    </tr>\n",
       "    <tr>\n",
       "      <th>10657</th>\n",
       "      <td>10652</td>\n",
       "      <td>10652</td>\n",
       "      <td>2019-09-03T23:30:00</td>\n",
       "      <td>P3</td>\n",
       "      <td>AVG</td>\n",
       "      <td>229.172333</td>\n",
       "      <td>230.566021</td>\n",
       "      <td>230.901487</td>\n",
       "      <td>230.651712</td>\n",
       "      <td>229.510997</td>\n",
       "      <td>227.606733</td>\n",
       "      <td>2019-09-03 23:30:00</td>\n",
       "      <td>472.0</td>\n",
       "      <td>2019-09-03 23:30:00.000</td>\n",
       "      <td>NE282PV</td>\n",
       "      <td>1701</td>\n",
       "      <td>Total [1/m²]</td>\n",
       "      <td>15553.431</td>\n",
       "      <td>1237.614</td>\n",
       "      <td>980.762</td>\n",
       "    </tr>\n",
       "    <tr>\n",
       "      <th>10658</th>\n",
       "      <td>10653</td>\n",
       "      <td>10653</td>\n",
       "      <td>2019-09-03T23:40:00</td>\n",
       "      <td>P3</td>\n",
       "      <td>AVG</td>\n",
       "      <td>229.333477</td>\n",
       "      <td>230.687242</td>\n",
       "      <td>231.019085</td>\n",
       "      <td>230.721111</td>\n",
       "      <td>229.594107</td>\n",
       "      <td>227.676463</td>\n",
       "      <td>2019-09-03 23:40:00</td>\n",
       "      <td>NaN</td>\n",
       "      <td>NaN</td>\n",
       "      <td>NaN</td>\n",
       "      <td>NaN</td>\n",
       "      <td>NaN</td>\n",
       "      <td>NaN</td>\n",
       "      <td>NaN</td>\n",
       "      <td>NaN</td>\n",
       "    </tr>\n",
       "    <tr>\n",
       "      <th>10659</th>\n",
       "      <td>10654</td>\n",
       "      <td>10654</td>\n",
       "      <td>2019-09-03T23:50:00</td>\n",
       "      <td>P3</td>\n",
       "      <td>AVG</td>\n",
       "      <td>229.162736</td>\n",
       "      <td>230.555417</td>\n",
       "      <td>231.024972</td>\n",
       "      <td>230.583142</td>\n",
       "      <td>229.613431</td>\n",
       "      <td>227.703735</td>\n",
       "      <td>2019-09-03 23:50:00</td>\n",
       "      <td>NaN</td>\n",
       "      <td>NaN</td>\n",
       "      <td>NaN</td>\n",
       "      <td>NaN</td>\n",
       "      <td>NaN</td>\n",
       "      <td>NaN</td>\n",
       "      <td>NaN</td>\n",
       "      <td>NaN</td>\n",
       "    </tr>\n",
       "    <tr>\n",
       "      <th>10660</th>\n",
       "      <td>10655</td>\n",
       "      <td>10655</td>\n",
       "      <td>2019-09-04T00:00:00</td>\n",
       "      <td>P3</td>\n",
       "      <td>AVG</td>\n",
       "      <td>229.358859</td>\n",
       "      <td>230.736761</td>\n",
       "      <td>231.046182</td>\n",
       "      <td>230.749156</td>\n",
       "      <td>229.625037</td>\n",
       "      <td>227.722858</td>\n",
       "      <td>2019-09-04 00:00:00</td>\n",
       "      <td>NaN</td>\n",
       "      <td>NaN</td>\n",
       "      <td>NaN</td>\n",
       "      <td>NaN</td>\n",
       "      <td>NaN</td>\n",
       "      <td>NaN</td>\n",
       "      <td>NaN</td>\n",
       "      <td>NaN</td>\n",
       "    </tr>\n",
       "  </tbody>\n",
       "</table>\n",
       "<p>10661 rows × 20 columns</p>\n",
       "</div>"
      ],
      "text/plain": [
       "       Unnamed: 0.1  Unnamed: 0_x                 DATE PERIOD Label  \\\n",
       "0                 0             0  2018-12-01T00:10:00     P1   AVG   \n",
       "1                 1             1  2018-12-01T00:20:00     P1   AVG   \n",
       "2                 2             2  2018-12-01T00:30:00     P1   AVG   \n",
       "3                 3             3  2018-12-01T00:40:00     P1   AVG   \n",
       "4                 4             4  2018-12-01T00:50:00     P1   AVG   \n",
       "...             ...           ...                  ...    ...   ...   \n",
       "10656         10651         10651  2019-09-03T23:20:00     P3   AVG   \n",
       "10657         10652         10652  2019-09-03T23:30:00     P3   AVG   \n",
       "10658         10653         10653  2019-09-03T23:40:00     P3   AVG   \n",
       "10659         10654         10654  2019-09-03T23:50:00     P3   AVG   \n",
       "10660         10655         10655  2019-09-04T00:00:00     P3   AVG   \n",
       "\n",
       "               A1          A2          A3          A4          A5          A6  \\\n",
       "0      225.637279  228.533316  230.788205  230.634245  232.112927  230.630909   \n",
       "1      225.763044  228.519014  230.428961  230.936762  231.899435  230.564272   \n",
       "2      225.637431  228.040479  230.276102  230.359142  231.650512  230.317974   \n",
       "3      224.906854  227.645375  229.837444  229.830891  231.075795  229.694517   \n",
       "4      224.798077  227.710191  229.888123  229.962605  231.004184  229.586533   \n",
       "...           ...         ...         ...         ...         ...         ...   \n",
       "10656  229.419421  230.737206  231.043314  230.766543  229.620569  227.705867   \n",
       "10657  229.172333  230.566021  230.901487  230.651712  229.510997  227.606733   \n",
       "10658  229.333477  230.687242  231.019085  230.721111  229.594107  227.676463   \n",
       "10659  229.162736  230.555417  231.024972  230.583142  229.613431  227.703735   \n",
       "10660  229.358859  230.736761  231.046182  230.749156  229.625037  227.722858   \n",
       "\n",
       "                 datetime  Unnamed: 0_y               date_clean      tag  \\\n",
       "0     2018-12-01 00:10:00           NaN                      NaN      NaN   \n",
       "1     2018-12-01 00:20:00           NaN                      NaN      NaN   \n",
       "2     2018-12-01 00:30:00           NaN                      NaN      NaN   \n",
       "3     2018-12-01 00:40:00           NaN                      NaN      NaN   \n",
       "4     2018-12-01 00:50:00           NaN                      NaN      NaN   \n",
       "...                   ...           ...                      ...      ...   \n",
       "10656 2019-09-03 23:20:00           NaN                      NaN      NaN   \n",
       "10657 2019-09-03 23:30:00         472.0  2019-09-03 23:30:00.000  NE282PV   \n",
       "10658 2019-09-03 23:40:00           NaN                      NaN      NaN   \n",
       "10659 2019-09-03 23:50:00           NaN                      NaN      NaN   \n",
       "10660 2019-09-04 00:00:00           NaN                      NaN      NaN   \n",
       "\n",
       "      tag_num          unit        Y1A       Y2A      Y3A  \n",
       "0         NaN           NaN        NaN       NaN      NaN  \n",
       "1         NaN           NaN        NaN       NaN      NaN  \n",
       "2         NaN           NaN        NaN       NaN      NaN  \n",
       "3         NaN           NaN        NaN       NaN      NaN  \n",
       "4         NaN           NaN        NaN       NaN      NaN  \n",
       "...       ...           ...        ...       ...      ...  \n",
       "10656     NaN           NaN        NaN       NaN      NaN  \n",
       "10657    1701  Total [1/m²]  15553.431  1237.614  980.762  \n",
       "10658     NaN           NaN        NaN       NaN      NaN  \n",
       "10659     NaN           NaN        NaN       NaN      NaN  \n",
       "10660     NaN           NaN        NaN       NaN      NaN  \n",
       "\n",
       "[10661 rows x 20 columns]"
      ]
     },
     "execution_count": 10,
     "metadata": {},
     "output_type": "execute_result"
    }
   ],
   "source": [
    "pd.merge(df2_process, df1_detect, on='datetime', how='left')"
   ]
  },
  {
   "cell_type": "code",
   "execution_count": 11,
   "id": "0a8e09bf",
   "metadata": {
    "collapsed": true
   },
   "outputs": [
    {
     "data": {
      "text/html": [
       "<div>\n",
       "<style scoped>\n",
       "    .dataframe tbody tr th:only-of-type {\n",
       "        vertical-align: middle;\n",
       "    }\n",
       "\n",
       "    .dataframe tbody tr th {\n",
       "        vertical-align: top;\n",
       "    }\n",
       "\n",
       "    .dataframe thead th {\n",
       "        text-align: right;\n",
       "    }\n",
       "</style>\n",
       "<table border=\"1\" class=\"dataframe\">\n",
       "  <thead>\n",
       "    <tr style=\"text-align: right;\">\n",
       "      <th></th>\n",
       "      <th>Unnamed: 0.1</th>\n",
       "      <th>Unnamed: 0_x</th>\n",
       "      <th>DATE</th>\n",
       "      <th>PERIOD</th>\n",
       "      <th>Label</th>\n",
       "      <th>A1</th>\n",
       "      <th>A2</th>\n",
       "      <th>A3</th>\n",
       "      <th>A4</th>\n",
       "      <th>A5</th>\n",
       "      <th>A6</th>\n",
       "      <th>datetime</th>\n",
       "      <th>Unnamed: 0_y</th>\n",
       "      <th>date_clean</th>\n",
       "      <th>tag</th>\n",
       "      <th>tag_num</th>\n",
       "      <th>unit</th>\n",
       "      <th>Y1A</th>\n",
       "      <th>Y2A</th>\n",
       "      <th>Y3A</th>\n",
       "    </tr>\n",
       "  </thead>\n",
       "  <tbody>\n",
       "    <tr>\n",
       "      <th>0</th>\n",
       "      <td>20.0</td>\n",
       "      <td>20.0</td>\n",
       "      <td>2018-12-01T03:30:00</td>\n",
       "      <td>P1</td>\n",
       "      <td>AVG</td>\n",
       "      <td>224.638902</td>\n",
       "      <td>227.413493</td>\n",
       "      <td>229.905499</td>\n",
       "      <td>229.657359</td>\n",
       "      <td>230.931185</td>\n",
       "      <td>229.420348</td>\n",
       "      <td>2018-12-01 03:30:00.000</td>\n",
       "      <td>0</td>\n",
       "      <td>2018-12-01 03:30:00.000</td>\n",
       "      <td>NE280V</td>\n",
       "      <td>GO1701</td>\n",
       "      <td>Total [1/m²]</td>\n",
       "      <td>4954.774</td>\n",
       "      <td>327.416</td>\n",
       "      <td>256.882</td>\n",
       "    </tr>\n",
       "    <tr>\n",
       "      <th>1</th>\n",
       "      <td>NaN</td>\n",
       "      <td>NaN</td>\n",
       "      <td>NaN</td>\n",
       "      <td>NaN</td>\n",
       "      <td>NaN</td>\n",
       "      <td>NaN</td>\n",
       "      <td>NaN</td>\n",
       "      <td>NaN</td>\n",
       "      <td>NaN</td>\n",
       "      <td>NaN</td>\n",
       "      <td>NaN</td>\n",
       "      <td>2018-12-01 07:30:00.005</td>\n",
       "      <td>1</td>\n",
       "      <td>2018-12-01 07:30:00.005</td>\n",
       "      <td>NE280PV</td>\n",
       "      <td>GO1701</td>\n",
       "      <td>Total [1/m²]</td>\n",
       "      <td>2281.460</td>\n",
       "      <td>44.410</td>\n",
       "      <td>17.416</td>\n",
       "    </tr>\n",
       "    <tr>\n",
       "      <th>2</th>\n",
       "      <td>NaN</td>\n",
       "      <td>NaN</td>\n",
       "      <td>NaN</td>\n",
       "      <td>NaN</td>\n",
       "      <td>NaN</td>\n",
       "      <td>NaN</td>\n",
       "      <td>NaN</td>\n",
       "      <td>NaN</td>\n",
       "      <td>NaN</td>\n",
       "      <td>NaN</td>\n",
       "      <td>NaN</td>\n",
       "      <td>2018-12-01 11:30:00.010</td>\n",
       "      <td>2</td>\n",
       "      <td>2018-12-01 11:30:00.010</td>\n",
       "      <td>NE280V</td>\n",
       "      <td>GO1701</td>\n",
       "      <td>Total [1/m²]</td>\n",
       "      <td>4453.201</td>\n",
       "      <td>74.017</td>\n",
       "      <td>23.511</td>\n",
       "    </tr>\n",
       "    <tr>\n",
       "      <th>3</th>\n",
       "      <td>NaN</td>\n",
       "      <td>NaN</td>\n",
       "      <td>NaN</td>\n",
       "      <td>NaN</td>\n",
       "      <td>NaN</td>\n",
       "      <td>NaN</td>\n",
       "      <td>NaN</td>\n",
       "      <td>NaN</td>\n",
       "      <td>NaN</td>\n",
       "      <td>NaN</td>\n",
       "      <td>NaN</td>\n",
       "      <td>2018-12-01 15:30:00.015</td>\n",
       "      <td>3</td>\n",
       "      <td>2018-12-01 15:30:00.015</td>\n",
       "      <td>NE280PV</td>\n",
       "      <td>GO1701</td>\n",
       "      <td>Total [1/m²]</td>\n",
       "      <td>4352.190</td>\n",
       "      <td>77.500</td>\n",
       "      <td>37.444</td>\n",
       "    </tr>\n",
       "    <tr>\n",
       "      <th>4</th>\n",
       "      <td>NaN</td>\n",
       "      <td>NaN</td>\n",
       "      <td>NaN</td>\n",
       "      <td>NaN</td>\n",
       "      <td>NaN</td>\n",
       "      <td>NaN</td>\n",
       "      <td>NaN</td>\n",
       "      <td>NaN</td>\n",
       "      <td>NaN</td>\n",
       "      <td>NaN</td>\n",
       "      <td>NaN</td>\n",
       "      <td>2018-12-01 19:30:00.020</td>\n",
       "      <td>4</td>\n",
       "      <td>2018-12-01 19:30:00.020</td>\n",
       "      <td>NE280V</td>\n",
       "      <td>GO1701</td>\n",
       "      <td>Total [1/m²]</td>\n",
       "      <td>4345.224</td>\n",
       "      <td>62.697</td>\n",
       "      <td>40.927</td>\n",
       "    </tr>\n",
       "    <tr>\n",
       "      <th>...</th>\n",
       "      <td>...</td>\n",
       "      <td>...</td>\n",
       "      <td>...</td>\n",
       "      <td>...</td>\n",
       "      <td>...</td>\n",
       "      <td>...</td>\n",
       "      <td>...</td>\n",
       "      <td>...</td>\n",
       "      <td>...</td>\n",
       "      <td>...</td>\n",
       "      <td>...</td>\n",
       "      <td>...</td>\n",
       "      <td>...</td>\n",
       "      <td>...</td>\n",
       "      <td>...</td>\n",
       "      <td>...</td>\n",
       "      <td>...</td>\n",
       "      <td>...</td>\n",
       "      <td>...</td>\n",
       "      <td>...</td>\n",
       "    </tr>\n",
       "    <tr>\n",
       "      <th>469</th>\n",
       "      <td>10604.0</td>\n",
       "      <td>10604.0</td>\n",
       "      <td>2019-09-03T15:30:00</td>\n",
       "      <td>P3</td>\n",
       "      <td>AVG</td>\n",
       "      <td>228.894231</td>\n",
       "      <td>230.397130</td>\n",
       "      <td>231.012732</td>\n",
       "      <td>230.710081</td>\n",
       "      <td>229.776926</td>\n",
       "      <td>227.902789</td>\n",
       "      <td>2019-09-03 15:30:00.000</td>\n",
       "      <td>469</td>\n",
       "      <td>2019-09-03 15:30:00.000</td>\n",
       "      <td>NE282PV</td>\n",
       "      <td>1701</td>\n",
       "      <td>Total [1/m²]</td>\n",
       "      <td>27633.534</td>\n",
       "      <td>3436.123</td>\n",
       "      <td>2903.202</td>\n",
       "    </tr>\n",
       "    <tr>\n",
       "      <th>470</th>\n",
       "      <td>10622.0</td>\n",
       "      <td>10622.0</td>\n",
       "      <td>2019-09-03T18:30:00</td>\n",
       "      <td>P3</td>\n",
       "      <td>AVG</td>\n",
       "      <td>229.004528</td>\n",
       "      <td>230.446154</td>\n",
       "      <td>230.866429</td>\n",
       "      <td>230.840892</td>\n",
       "      <td>229.665830</td>\n",
       "      <td>227.779707</td>\n",
       "      <td>2019-09-03 18:30:00.000</td>\n",
       "      <td>470</td>\n",
       "      <td>2019-09-03 18:30:00.000</td>\n",
       "      <td>NE282PV</td>\n",
       "      <td>1701</td>\n",
       "      <td>Total [1/m²]</td>\n",
       "      <td>14115.267</td>\n",
       "      <td>951.667</td>\n",
       "      <td>728.541</td>\n",
       "    </tr>\n",
       "    <tr>\n",
       "      <th>471</th>\n",
       "      <td>10628.0</td>\n",
       "      <td>10628.0</td>\n",
       "      <td>2019-09-03T19:30:00</td>\n",
       "      <td>P3</td>\n",
       "      <td>AVG</td>\n",
       "      <td>229.249716</td>\n",
       "      <td>230.743679</td>\n",
       "      <td>231.029600</td>\n",
       "      <td>230.840803</td>\n",
       "      <td>229.704163</td>\n",
       "      <td>227.779644</td>\n",
       "      <td>2019-09-03 19:30:00.000</td>\n",
       "      <td>471</td>\n",
       "      <td>2019-09-03 19:30:00.000</td>\n",
       "      <td>NE282PV</td>\n",
       "      <td>1701</td>\n",
       "      <td>Total [1/m²]</td>\n",
       "      <td>13207.919</td>\n",
       "      <td>788.144</td>\n",
       "      <td>605.793</td>\n",
       "    </tr>\n",
       "    <tr>\n",
       "      <th>472</th>\n",
       "      <td>10652.0</td>\n",
       "      <td>10652.0</td>\n",
       "      <td>2019-09-03T23:30:00</td>\n",
       "      <td>P3</td>\n",
       "      <td>AVG</td>\n",
       "      <td>229.172333</td>\n",
       "      <td>230.566021</td>\n",
       "      <td>230.901487</td>\n",
       "      <td>230.651712</td>\n",
       "      <td>229.510997</td>\n",
       "      <td>227.606733</td>\n",
       "      <td>2019-09-03 23:30:00.000</td>\n",
       "      <td>472</td>\n",
       "      <td>2019-09-03 23:30:00.000</td>\n",
       "      <td>NE282PV</td>\n",
       "      <td>1701</td>\n",
       "      <td>Total [1/m²]</td>\n",
       "      <td>15553.431</td>\n",
       "      <td>1237.614</td>\n",
       "      <td>980.762</td>\n",
       "    </tr>\n",
       "    <tr>\n",
       "      <th>473</th>\n",
       "      <td>NaN</td>\n",
       "      <td>NaN</td>\n",
       "      <td>NaN</td>\n",
       "      <td>NaN</td>\n",
       "      <td>NaN</td>\n",
       "      <td>NaN</td>\n",
       "      <td>NaN</td>\n",
       "      <td>NaN</td>\n",
       "      <td>NaN</td>\n",
       "      <td>NaN</td>\n",
       "      <td>NaN</td>\n",
       "      <td>2019-09-04 03:30:00.000</td>\n",
       "      <td>473</td>\n",
       "      <td>2019-09-04 03:30:00.000</td>\n",
       "      <td>NE282PV</td>\n",
       "      <td>1701</td>\n",
       "      <td>Total [1/m²]</td>\n",
       "      <td>17484.660</td>\n",
       "      <td>1599.893</td>\n",
       "      <td>1170.407</td>\n",
       "    </tr>\n",
       "  </tbody>\n",
       "</table>\n",
       "<p>474 rows × 20 columns</p>\n",
       "</div>"
      ],
      "text/plain": [
       "     Unnamed: 0.1  Unnamed: 0_x                 DATE PERIOD Label          A1  \\\n",
       "0            20.0          20.0  2018-12-01T03:30:00     P1   AVG  224.638902   \n",
       "1             NaN           NaN                  NaN    NaN   NaN         NaN   \n",
       "2             NaN           NaN                  NaN    NaN   NaN         NaN   \n",
       "3             NaN           NaN                  NaN    NaN   NaN         NaN   \n",
       "4             NaN           NaN                  NaN    NaN   NaN         NaN   \n",
       "..            ...           ...                  ...    ...   ...         ...   \n",
       "469       10604.0       10604.0  2019-09-03T15:30:00     P3   AVG  228.894231   \n",
       "470       10622.0       10622.0  2019-09-03T18:30:00     P3   AVG  229.004528   \n",
       "471       10628.0       10628.0  2019-09-03T19:30:00     P3   AVG  229.249716   \n",
       "472       10652.0       10652.0  2019-09-03T23:30:00     P3   AVG  229.172333   \n",
       "473           NaN           NaN                  NaN    NaN   NaN         NaN   \n",
       "\n",
       "             A2          A3          A4          A5          A6  \\\n",
       "0    227.413493  229.905499  229.657359  230.931185  229.420348   \n",
       "1           NaN         NaN         NaN         NaN         NaN   \n",
       "2           NaN         NaN         NaN         NaN         NaN   \n",
       "3           NaN         NaN         NaN         NaN         NaN   \n",
       "4           NaN         NaN         NaN         NaN         NaN   \n",
       "..          ...         ...         ...         ...         ...   \n",
       "469  230.397130  231.012732  230.710081  229.776926  227.902789   \n",
       "470  230.446154  230.866429  230.840892  229.665830  227.779707   \n",
       "471  230.743679  231.029600  230.840803  229.704163  227.779644   \n",
       "472  230.566021  230.901487  230.651712  229.510997  227.606733   \n",
       "473         NaN         NaN         NaN         NaN         NaN   \n",
       "\n",
       "                   datetime  Unnamed: 0_y               date_clean      tag  \\\n",
       "0   2018-12-01 03:30:00.000             0  2018-12-01 03:30:00.000   NE280V   \n",
       "1   2018-12-01 07:30:00.005             1  2018-12-01 07:30:00.005  NE280PV   \n",
       "2   2018-12-01 11:30:00.010             2  2018-12-01 11:30:00.010   NE280V   \n",
       "3   2018-12-01 15:30:00.015             3  2018-12-01 15:30:00.015  NE280PV   \n",
       "4   2018-12-01 19:30:00.020             4  2018-12-01 19:30:00.020   NE280V   \n",
       "..                      ...           ...                      ...      ...   \n",
       "469 2019-09-03 15:30:00.000           469  2019-09-03 15:30:00.000  NE282PV   \n",
       "470 2019-09-03 18:30:00.000           470  2019-09-03 18:30:00.000  NE282PV   \n",
       "471 2019-09-03 19:30:00.000           471  2019-09-03 19:30:00.000  NE282PV   \n",
       "472 2019-09-03 23:30:00.000           472  2019-09-03 23:30:00.000  NE282PV   \n",
       "473 2019-09-04 03:30:00.000           473  2019-09-04 03:30:00.000  NE282PV   \n",
       "\n",
       "    tag_num          unit        Y1A       Y2A       Y3A  \n",
       "0    GO1701  Total [1/m²]   4954.774   327.416   256.882  \n",
       "1    GO1701  Total [1/m²]   2281.460    44.410    17.416  \n",
       "2    GO1701  Total [1/m²]   4453.201    74.017    23.511  \n",
       "3    GO1701  Total [1/m²]   4352.190    77.500    37.444  \n",
       "4    GO1701  Total [1/m²]   4345.224    62.697    40.927  \n",
       "..      ...           ...        ...       ...       ...  \n",
       "469    1701  Total [1/m²]  27633.534  3436.123  2903.202  \n",
       "470    1701  Total [1/m²]  14115.267   951.667   728.541  \n",
       "471    1701  Total [1/m²]  13207.919   788.144   605.793  \n",
       "472    1701  Total [1/m²]  15553.431  1237.614   980.762  \n",
       "473    1701  Total [1/m²]  17484.660  1599.893  1170.407  \n",
       "\n",
       "[474 rows x 20 columns]"
      ]
     },
     "execution_count": 11,
     "metadata": {},
     "output_type": "execute_result"
    }
   ],
   "source": [
    "pd.merge(df2_process, df1_detect, on='datetime', how='right')"
   ]
  },
  {
   "cell_type": "code",
   "execution_count": 13,
   "id": "6b567ceb",
   "metadata": {
    "scrolled": true
   },
   "outputs": [
    {
     "data": {
      "text/html": [
       "<div>\n",
       "<style scoped>\n",
       "    .dataframe tbody tr th:only-of-type {\n",
       "        vertical-align: middle;\n",
       "    }\n",
       "\n",
       "    .dataframe tbody tr th {\n",
       "        vertical-align: top;\n",
       "    }\n",
       "\n",
       "    .dataframe thead th {\n",
       "        text-align: right;\n",
       "    }\n",
       "</style>\n",
       "<table border=\"1\" class=\"dataframe\">\n",
       "  <thead>\n",
       "    <tr style=\"text-align: right;\">\n",
       "      <th></th>\n",
       "      <th>Unnamed: 0.1</th>\n",
       "      <th>Unnamed: 0_x</th>\n",
       "      <th>DATE</th>\n",
       "      <th>PERIOD</th>\n",
       "      <th>Label</th>\n",
       "      <th>A1</th>\n",
       "      <th>A2</th>\n",
       "      <th>A3</th>\n",
       "      <th>A4</th>\n",
       "      <th>A5</th>\n",
       "      <th>...</th>\n",
       "      <th>Unnamed: 0_y</th>\n",
       "      <th>date_clean</th>\n",
       "      <th>tag</th>\n",
       "      <th>tag_num</th>\n",
       "      <th>unit</th>\n",
       "      <th>Y1A</th>\n",
       "      <th>Y2A</th>\n",
       "      <th>Y3A</th>\n",
       "      <th>datetime_y</th>\n",
       "      <th>dt_round</th>\n",
       "    </tr>\n",
       "  </thead>\n",
       "  <tbody>\n",
       "    <tr>\n",
       "      <th>0</th>\n",
       "      <td>20.0</td>\n",
       "      <td>20.0</td>\n",
       "      <td>2018-12-01T03:30:00</td>\n",
       "      <td>P1</td>\n",
       "      <td>AVG</td>\n",
       "      <td>224.638902</td>\n",
       "      <td>227.413493</td>\n",
       "      <td>229.905499</td>\n",
       "      <td>229.657359</td>\n",
       "      <td>230.931185</td>\n",
       "      <td>...</td>\n",
       "      <td>0</td>\n",
       "      <td>2018-12-01 03:30:00.000</td>\n",
       "      <td>NE280V</td>\n",
       "      <td>GO1701</td>\n",
       "      <td>Total [1/m²]</td>\n",
       "      <td>4954.774</td>\n",
       "      <td>327.416</td>\n",
       "      <td>256.882</td>\n",
       "      <td>2018-12-01 03:30:00.000</td>\n",
       "      <td>2018-12-01 03:30:00</td>\n",
       "    </tr>\n",
       "    <tr>\n",
       "      <th>1</th>\n",
       "      <td>44.0</td>\n",
       "      <td>44.0</td>\n",
       "      <td>2018-12-01T07:30:00</td>\n",
       "      <td>P1</td>\n",
       "      <td>AVG</td>\n",
       "      <td>225.430882</td>\n",
       "      <td>228.297069</td>\n",
       "      <td>230.934893</td>\n",
       "      <td>231.026156</td>\n",
       "      <td>231.795967</td>\n",
       "      <td>...</td>\n",
       "      <td>1</td>\n",
       "      <td>2018-12-01 07:30:00.005</td>\n",
       "      <td>NE280PV</td>\n",
       "      <td>GO1701</td>\n",
       "      <td>Total [1/m²]</td>\n",
       "      <td>2281.460</td>\n",
       "      <td>44.410</td>\n",
       "      <td>17.416</td>\n",
       "      <td>2018-12-01 07:30:00.005</td>\n",
       "      <td>2018-12-01 07:30:00</td>\n",
       "    </tr>\n",
       "    <tr>\n",
       "      <th>2</th>\n",
       "      <td>68.0</td>\n",
       "      <td>68.0</td>\n",
       "      <td>2018-12-01T11:30:00</td>\n",
       "      <td>P1</td>\n",
       "      <td>AVG</td>\n",
       "      <td>229.063690</td>\n",
       "      <td>230.710820</td>\n",
       "      <td>232.028457</td>\n",
       "      <td>231.395510</td>\n",
       "      <td>231.208500</td>\n",
       "      <td>...</td>\n",
       "      <td>2</td>\n",
       "      <td>2018-12-01 11:30:00.010</td>\n",
       "      <td>NE280V</td>\n",
       "      <td>GO1701</td>\n",
       "      <td>Total [1/m²]</td>\n",
       "      <td>4453.201</td>\n",
       "      <td>74.017</td>\n",
       "      <td>23.511</td>\n",
       "      <td>2018-12-01 11:30:00.010</td>\n",
       "      <td>2018-12-01 11:30:00</td>\n",
       "    </tr>\n",
       "    <tr>\n",
       "      <th>3</th>\n",
       "      <td>92.0</td>\n",
       "      <td>92.0</td>\n",
       "      <td>2018-12-01T15:30:00</td>\n",
       "      <td>P1</td>\n",
       "      <td>AVG</td>\n",
       "      <td>228.312661</td>\n",
       "      <td>229.785002</td>\n",
       "      <td>230.958881</td>\n",
       "      <td>230.267388</td>\n",
       "      <td>230.243133</td>\n",
       "      <td>...</td>\n",
       "      <td>3</td>\n",
       "      <td>2018-12-01 15:30:00.015</td>\n",
       "      <td>NE280PV</td>\n",
       "      <td>GO1701</td>\n",
       "      <td>Total [1/m²]</td>\n",
       "      <td>4352.190</td>\n",
       "      <td>77.500</td>\n",
       "      <td>37.444</td>\n",
       "      <td>2018-12-01 15:30:00.015</td>\n",
       "      <td>2018-12-01 15:30:00</td>\n",
       "    </tr>\n",
       "    <tr>\n",
       "      <th>4</th>\n",
       "      <td>116.0</td>\n",
       "      <td>116.0</td>\n",
       "      <td>2018-12-01T19:30:00</td>\n",
       "      <td>P1</td>\n",
       "      <td>AVG</td>\n",
       "      <td>229.209428</td>\n",
       "      <td>230.345179</td>\n",
       "      <td>230.993988</td>\n",
       "      <td>230.115520</td>\n",
       "      <td>229.526814</td>\n",
       "      <td>...</td>\n",
       "      <td>4</td>\n",
       "      <td>2018-12-01 19:30:00.020</td>\n",
       "      <td>NE280V</td>\n",
       "      <td>GO1701</td>\n",
       "      <td>Total [1/m²]</td>\n",
       "      <td>4345.224</td>\n",
       "      <td>62.697</td>\n",
       "      <td>40.927</td>\n",
       "      <td>2018-12-01 19:30:00.020</td>\n",
       "      <td>2018-12-01 19:30:00</td>\n",
       "    </tr>\n",
       "    <tr>\n",
       "      <th>...</th>\n",
       "      <td>...</td>\n",
       "      <td>...</td>\n",
       "      <td>...</td>\n",
       "      <td>...</td>\n",
       "      <td>...</td>\n",
       "      <td>...</td>\n",
       "      <td>...</td>\n",
       "      <td>...</td>\n",
       "      <td>...</td>\n",
       "      <td>...</td>\n",
       "      <td>...</td>\n",
       "      <td>...</td>\n",
       "      <td>...</td>\n",
       "      <td>...</td>\n",
       "      <td>...</td>\n",
       "      <td>...</td>\n",
       "      <td>...</td>\n",
       "      <td>...</td>\n",
       "      <td>...</td>\n",
       "      <td>...</td>\n",
       "      <td>...</td>\n",
       "    </tr>\n",
       "    <tr>\n",
       "      <th>469</th>\n",
       "      <td>10604.0</td>\n",
       "      <td>10604.0</td>\n",
       "      <td>2019-09-03T15:30:00</td>\n",
       "      <td>P3</td>\n",
       "      <td>AVG</td>\n",
       "      <td>228.894231</td>\n",
       "      <td>230.397130</td>\n",
       "      <td>231.012732</td>\n",
       "      <td>230.710081</td>\n",
       "      <td>229.776926</td>\n",
       "      <td>...</td>\n",
       "      <td>469</td>\n",
       "      <td>2019-09-03 15:30:00.000</td>\n",
       "      <td>NE282PV</td>\n",
       "      <td>1701</td>\n",
       "      <td>Total [1/m²]</td>\n",
       "      <td>27633.534</td>\n",
       "      <td>3436.123</td>\n",
       "      <td>2903.202</td>\n",
       "      <td>2019-09-03 15:30:00.000</td>\n",
       "      <td>2019-09-03 15:30:00</td>\n",
       "    </tr>\n",
       "    <tr>\n",
       "      <th>470</th>\n",
       "      <td>10622.0</td>\n",
       "      <td>10622.0</td>\n",
       "      <td>2019-09-03T18:30:00</td>\n",
       "      <td>P3</td>\n",
       "      <td>AVG</td>\n",
       "      <td>229.004528</td>\n",
       "      <td>230.446154</td>\n",
       "      <td>230.866429</td>\n",
       "      <td>230.840892</td>\n",
       "      <td>229.665830</td>\n",
       "      <td>...</td>\n",
       "      <td>470</td>\n",
       "      <td>2019-09-03 18:30:00.000</td>\n",
       "      <td>NE282PV</td>\n",
       "      <td>1701</td>\n",
       "      <td>Total [1/m²]</td>\n",
       "      <td>14115.267</td>\n",
       "      <td>951.667</td>\n",
       "      <td>728.541</td>\n",
       "      <td>2019-09-03 18:30:00.000</td>\n",
       "      <td>2019-09-03 18:30:00</td>\n",
       "    </tr>\n",
       "    <tr>\n",
       "      <th>471</th>\n",
       "      <td>10628.0</td>\n",
       "      <td>10628.0</td>\n",
       "      <td>2019-09-03T19:30:00</td>\n",
       "      <td>P3</td>\n",
       "      <td>AVG</td>\n",
       "      <td>229.249716</td>\n",
       "      <td>230.743679</td>\n",
       "      <td>231.029600</td>\n",
       "      <td>230.840803</td>\n",
       "      <td>229.704163</td>\n",
       "      <td>...</td>\n",
       "      <td>471</td>\n",
       "      <td>2019-09-03 19:30:00.000</td>\n",
       "      <td>NE282PV</td>\n",
       "      <td>1701</td>\n",
       "      <td>Total [1/m²]</td>\n",
       "      <td>13207.919</td>\n",
       "      <td>788.144</td>\n",
       "      <td>605.793</td>\n",
       "      <td>2019-09-03 19:30:00.000</td>\n",
       "      <td>2019-09-03 19:30:00</td>\n",
       "    </tr>\n",
       "    <tr>\n",
       "      <th>472</th>\n",
       "      <td>10652.0</td>\n",
       "      <td>10652.0</td>\n",
       "      <td>2019-09-03T23:30:00</td>\n",
       "      <td>P3</td>\n",
       "      <td>AVG</td>\n",
       "      <td>229.172333</td>\n",
       "      <td>230.566021</td>\n",
       "      <td>230.901487</td>\n",
       "      <td>230.651712</td>\n",
       "      <td>229.510997</td>\n",
       "      <td>...</td>\n",
       "      <td>472</td>\n",
       "      <td>2019-09-03 23:30:00.000</td>\n",
       "      <td>NE282PV</td>\n",
       "      <td>1701</td>\n",
       "      <td>Total [1/m²]</td>\n",
       "      <td>15553.431</td>\n",
       "      <td>1237.614</td>\n",
       "      <td>980.762</td>\n",
       "      <td>2019-09-03 23:30:00.000</td>\n",
       "      <td>2019-09-03 23:30:00</td>\n",
       "    </tr>\n",
       "    <tr>\n",
       "      <th>473</th>\n",
       "      <td>NaN</td>\n",
       "      <td>NaN</td>\n",
       "      <td>NaN</td>\n",
       "      <td>NaN</td>\n",
       "      <td>NaN</td>\n",
       "      <td>NaN</td>\n",
       "      <td>NaN</td>\n",
       "      <td>NaN</td>\n",
       "      <td>NaN</td>\n",
       "      <td>NaN</td>\n",
       "      <td>...</td>\n",
       "      <td>473</td>\n",
       "      <td>2019-09-04 03:30:00.000</td>\n",
       "      <td>NE282PV</td>\n",
       "      <td>1701</td>\n",
       "      <td>Total [1/m²]</td>\n",
       "      <td>17484.660</td>\n",
       "      <td>1599.893</td>\n",
       "      <td>1170.407</td>\n",
       "      <td>2019-09-04 03:30:00.000</td>\n",
       "      <td>2019-09-04 03:30:00</td>\n",
       "    </tr>\n",
       "  </tbody>\n",
       "</table>\n",
       "<p>474 rows × 22 columns</p>\n",
       "</div>"
      ],
      "text/plain": [
       "     Unnamed: 0.1  Unnamed: 0_x                 DATE PERIOD Label          A1  \\\n",
       "0            20.0          20.0  2018-12-01T03:30:00     P1   AVG  224.638902   \n",
       "1            44.0          44.0  2018-12-01T07:30:00     P1   AVG  225.430882   \n",
       "2            68.0          68.0  2018-12-01T11:30:00     P1   AVG  229.063690   \n",
       "3            92.0          92.0  2018-12-01T15:30:00     P1   AVG  228.312661   \n",
       "4           116.0         116.0  2018-12-01T19:30:00     P1   AVG  229.209428   \n",
       "..            ...           ...                  ...    ...   ...         ...   \n",
       "469       10604.0       10604.0  2019-09-03T15:30:00     P3   AVG  228.894231   \n",
       "470       10622.0       10622.0  2019-09-03T18:30:00     P3   AVG  229.004528   \n",
       "471       10628.0       10628.0  2019-09-03T19:30:00     P3   AVG  229.249716   \n",
       "472       10652.0       10652.0  2019-09-03T23:30:00     P3   AVG  229.172333   \n",
       "473           NaN           NaN                  NaN    NaN   NaN         NaN   \n",
       "\n",
       "             A2          A3          A4          A5  ...  Unnamed: 0_y  \\\n",
       "0    227.413493  229.905499  229.657359  230.931185  ...             0   \n",
       "1    228.297069  230.934893  231.026156  231.795967  ...             1   \n",
       "2    230.710820  232.028457  231.395510  231.208500  ...             2   \n",
       "3    229.785002  230.958881  230.267388  230.243133  ...             3   \n",
       "4    230.345179  230.993988  230.115520  229.526814  ...             4   \n",
       "..          ...         ...         ...         ...  ...           ...   \n",
       "469  230.397130  231.012732  230.710081  229.776926  ...           469   \n",
       "470  230.446154  230.866429  230.840892  229.665830  ...           470   \n",
       "471  230.743679  231.029600  230.840803  229.704163  ...           471   \n",
       "472  230.566021  230.901487  230.651712  229.510997  ...           472   \n",
       "473         NaN         NaN         NaN         NaN  ...           473   \n",
       "\n",
       "                  date_clean      tag tag_num          unit        Y1A  \\\n",
       "0    2018-12-01 03:30:00.000   NE280V  GO1701  Total [1/m²]   4954.774   \n",
       "1    2018-12-01 07:30:00.005  NE280PV  GO1701  Total [1/m²]   2281.460   \n",
       "2    2018-12-01 11:30:00.010   NE280V  GO1701  Total [1/m²]   4453.201   \n",
       "3    2018-12-01 15:30:00.015  NE280PV  GO1701  Total [1/m²]   4352.190   \n",
       "4    2018-12-01 19:30:00.020   NE280V  GO1701  Total [1/m²]   4345.224   \n",
       "..                       ...      ...     ...           ...        ...   \n",
       "469  2019-09-03 15:30:00.000  NE282PV    1701  Total [1/m²]  27633.534   \n",
       "470  2019-09-03 18:30:00.000  NE282PV    1701  Total [1/m²]  14115.267   \n",
       "471  2019-09-03 19:30:00.000  NE282PV    1701  Total [1/m²]  13207.919   \n",
       "472  2019-09-03 23:30:00.000  NE282PV    1701  Total [1/m²]  15553.431   \n",
       "473  2019-09-04 03:30:00.000  NE282PV    1701  Total [1/m²]  17484.660   \n",
       "\n",
       "          Y2A       Y3A              datetime_y            dt_round  \n",
       "0     327.416   256.882 2018-12-01 03:30:00.000 2018-12-01 03:30:00  \n",
       "1      44.410    17.416 2018-12-01 07:30:00.005 2018-12-01 07:30:00  \n",
       "2      74.017    23.511 2018-12-01 11:30:00.010 2018-12-01 11:30:00  \n",
       "3      77.500    37.444 2018-12-01 15:30:00.015 2018-12-01 15:30:00  \n",
       "4      62.697    40.927 2018-12-01 19:30:00.020 2018-12-01 19:30:00  \n",
       "..        ...       ...                     ...                 ...  \n",
       "469  3436.123  2903.202 2019-09-03 15:30:00.000 2019-09-03 15:30:00  \n",
       "470   951.667   728.541 2019-09-03 18:30:00.000 2019-09-03 18:30:00  \n",
       "471   788.144   605.793 2019-09-03 19:30:00.000 2019-09-03 19:30:00  \n",
       "472  1237.614   980.762 2019-09-03 23:30:00.000 2019-09-03 23:30:00  \n",
       "473  1599.893  1170.407 2019-09-04 03:30:00.000 2019-09-04 03:30:00  \n",
       "\n",
       "[474 rows x 22 columns]"
      ]
     },
     "execution_count": 13,
     "metadata": {},
     "output_type": "execute_result"
    }
   ],
   "source": [
    "# 시간단위 반올림\n",
    "df1_detect['dt_round'] = df1_detect['datetime'].round('T') # 'T' ->분단위 반올림\n",
    "\n",
    "pd.merge(df2_process, df1_detect, left_on='datetime', right_on='dt_round', how='right')"
   ]
  },
  {
   "cell_type": "code",
   "execution_count": 17,
   "id": "5eeedc68",
   "metadata": {},
   "outputs": [
    {
     "data": {
      "text/html": [
       "<div>\n",
       "<style scoped>\n",
       "    .dataframe tbody tr th:only-of-type {\n",
       "        vertical-align: middle;\n",
       "    }\n",
       "\n",
       "    .dataframe tbody tr th {\n",
       "        vertical-align: top;\n",
       "    }\n",
       "\n",
       "    .dataframe thead th {\n",
       "        text-align: right;\n",
       "    }\n",
       "</style>\n",
       "<table border=\"1\" class=\"dataframe\">\n",
       "  <thead>\n",
       "    <tr style=\"text-align: right;\">\n",
       "      <th></th>\n",
       "      <th>Unnamed: 0.1</th>\n",
       "      <th>Unnamed: 0</th>\n",
       "      <th>A1</th>\n",
       "      <th>A2</th>\n",
       "      <th>A3</th>\n",
       "      <th>A4</th>\n",
       "      <th>A5</th>\n",
       "      <th>A6</th>\n",
       "    </tr>\n",
       "    <tr>\n",
       "      <th>datetime</th>\n",
       "      <th></th>\n",
       "      <th></th>\n",
       "      <th></th>\n",
       "      <th></th>\n",
       "      <th></th>\n",
       "      <th></th>\n",
       "      <th></th>\n",
       "      <th></th>\n",
       "    </tr>\n",
       "  </thead>\n",
       "  <tbody>\n",
       "    <tr>\n",
       "      <th>2018-12-01 00:00:00</th>\n",
       "      <td>0.5</td>\n",
       "      <td>0.5</td>\n",
       "      <td>225.700162</td>\n",
       "      <td>228.526165</td>\n",
       "      <td>230.608583</td>\n",
       "      <td>230.785503</td>\n",
       "      <td>232.006181</td>\n",
       "      <td>230.597590</td>\n",
       "    </tr>\n",
       "    <tr>\n",
       "      <th>2018-12-01 00:30:00</th>\n",
       "      <td>3.0</td>\n",
       "      <td>3.0</td>\n",
       "      <td>225.114121</td>\n",
       "      <td>227.798682</td>\n",
       "      <td>230.000556</td>\n",
       "      <td>230.050880</td>\n",
       "      <td>231.243497</td>\n",
       "      <td>229.866341</td>\n",
       "    </tr>\n",
       "    <tr>\n",
       "      <th>2018-12-01 01:00:00</th>\n",
       "      <td>6.0</td>\n",
       "      <td>6.0</td>\n",
       "      <td>224.606590</td>\n",
       "      <td>227.154708</td>\n",
       "      <td>229.389907</td>\n",
       "      <td>229.305427</td>\n",
       "      <td>230.581515</td>\n",
       "      <td>229.237705</td>\n",
       "    </tr>\n",
       "    <tr>\n",
       "      <th>2018-12-01 01:30:00</th>\n",
       "      <td>9.0</td>\n",
       "      <td>9.0</td>\n",
       "      <td>223.712497</td>\n",
       "      <td>226.366240</td>\n",
       "      <td>228.735592</td>\n",
       "      <td>228.744490</td>\n",
       "      <td>229.931431</td>\n",
       "      <td>228.647972</td>\n",
       "    </tr>\n",
       "    <tr>\n",
       "      <th>2018-12-01 02:00:00</th>\n",
       "      <td>12.0</td>\n",
       "      <td>12.0</td>\n",
       "      <td>223.746797</td>\n",
       "      <td>226.484087</td>\n",
       "      <td>228.722355</td>\n",
       "      <td>228.844524</td>\n",
       "      <td>229.979558</td>\n",
       "      <td>228.669284</td>\n",
       "    </tr>\n",
       "    <tr>\n",
       "      <th>...</th>\n",
       "      <td>...</td>\n",
       "      <td>...</td>\n",
       "      <td>...</td>\n",
       "      <td>...</td>\n",
       "      <td>...</td>\n",
       "      <td>...</td>\n",
       "      <td>...</td>\n",
       "      <td>...</td>\n",
       "    </tr>\n",
       "    <tr>\n",
       "      <th>2019-09-03 22:00:00</th>\n",
       "      <td>10644.0</td>\n",
       "      <td>10644.0</td>\n",
       "      <td>229.367287</td>\n",
       "      <td>230.669100</td>\n",
       "      <td>231.027413</td>\n",
       "      <td>230.727056</td>\n",
       "      <td>229.580945</td>\n",
       "      <td>227.653453</td>\n",
       "    </tr>\n",
       "    <tr>\n",
       "      <th>2019-09-03 22:30:00</th>\n",
       "      <td>10647.0</td>\n",
       "      <td>10647.0</td>\n",
       "      <td>229.303163</td>\n",
       "      <td>230.635927</td>\n",
       "      <td>230.978463</td>\n",
       "      <td>230.712922</td>\n",
       "      <td>229.539516</td>\n",
       "      <td>227.605164</td>\n",
       "    </tr>\n",
       "    <tr>\n",
       "      <th>2019-09-03 23:00:00</th>\n",
       "      <td>10650.0</td>\n",
       "      <td>10650.0</td>\n",
       "      <td>229.319672</td>\n",
       "      <td>230.656084</td>\n",
       "      <td>231.027084</td>\n",
       "      <td>230.704942</td>\n",
       "      <td>229.612670</td>\n",
       "      <td>227.681811</td>\n",
       "    </tr>\n",
       "    <tr>\n",
       "      <th>2019-09-03 23:30:00</th>\n",
       "      <td>10653.0</td>\n",
       "      <td>10653.0</td>\n",
       "      <td>229.222849</td>\n",
       "      <td>230.602893</td>\n",
       "      <td>230.981848</td>\n",
       "      <td>230.651989</td>\n",
       "      <td>229.572845</td>\n",
       "      <td>227.662310</td>\n",
       "    </tr>\n",
       "    <tr>\n",
       "      <th>2019-09-04 00:00:00</th>\n",
       "      <td>10655.0</td>\n",
       "      <td>10655.0</td>\n",
       "      <td>229.358859</td>\n",
       "      <td>230.736761</td>\n",
       "      <td>231.046182</td>\n",
       "      <td>230.749156</td>\n",
       "      <td>229.625037</td>\n",
       "      <td>227.722858</td>\n",
       "    </tr>\n",
       "  </tbody>\n",
       "</table>\n",
       "<p>13297 rows × 8 columns</p>\n",
       "</div>"
      ],
      "text/plain": [
       "                     Unnamed: 0.1  Unnamed: 0          A1          A2  \\\n",
       "datetime                                                                \n",
       "2018-12-01 00:00:00           0.5         0.5  225.700162  228.526165   \n",
       "2018-12-01 00:30:00           3.0         3.0  225.114121  227.798682   \n",
       "2018-12-01 01:00:00           6.0         6.0  224.606590  227.154708   \n",
       "2018-12-01 01:30:00           9.0         9.0  223.712497  226.366240   \n",
       "2018-12-01 02:00:00          12.0        12.0  223.746797  226.484087   \n",
       "...                           ...         ...         ...         ...   \n",
       "2019-09-03 22:00:00       10644.0     10644.0  229.367287  230.669100   \n",
       "2019-09-03 22:30:00       10647.0     10647.0  229.303163  230.635927   \n",
       "2019-09-03 23:00:00       10650.0     10650.0  229.319672  230.656084   \n",
       "2019-09-03 23:30:00       10653.0     10653.0  229.222849  230.602893   \n",
       "2019-09-04 00:00:00       10655.0     10655.0  229.358859  230.736761   \n",
       "\n",
       "                             A3          A4          A5          A6  \n",
       "datetime                                                             \n",
       "2018-12-01 00:00:00  230.608583  230.785503  232.006181  230.597590  \n",
       "2018-12-01 00:30:00  230.000556  230.050880  231.243497  229.866341  \n",
       "2018-12-01 01:00:00  229.389907  229.305427  230.581515  229.237705  \n",
       "2018-12-01 01:30:00  228.735592  228.744490  229.931431  228.647972  \n",
       "2018-12-01 02:00:00  228.722355  228.844524  229.979558  228.669284  \n",
       "...                         ...         ...         ...         ...  \n",
       "2019-09-03 22:00:00  231.027413  230.727056  229.580945  227.653453  \n",
       "2019-09-03 22:30:00  230.978463  230.712922  229.539516  227.605164  \n",
       "2019-09-03 23:00:00  231.027084  230.704942  229.612670  227.681811  \n",
       "2019-09-03 23:30:00  230.981848  230.651989  229.572845  227.662310  \n",
       "2019-09-04 00:00:00  231.046182  230.749156  229.625037  227.722858  \n",
       "\n",
       "[13297 rows x 8 columns]"
      ]
     },
     "execution_count": 17,
     "metadata": {},
     "output_type": "execute_result"
    }
   ],
   "source": [
    "# 공정 데이터를 30분 단위로 묶어서 통계량을 계산한 다음,\n",
    "# 30분단위로 계산된 공정 값의 평균과 품질검사 데이터를병함\n",
    "\n",
    "df2_process_30T = df2_process.set_index('datetime').resample('30T').mean()\n",
    "df2_process_30T\n",
    "# set_index : 특정값 : (순서 / 날짜)을 index로 지정\n",
    "# resample : 특정 단위 별로 value값을 계산하는 함수 \n"
   ]
  },
  {
   "cell_type": "markdown",
   "id": "c8a74092",
   "metadata": {},
   "source": [
    "- Pandas 시간단위\n",
    "\n",
    "-  s : 초 / T :분단위 / H : 시간단위 / D:일 / B : 평일기준 / \n",
    "-  W: 주단위/ W-MON : 주단위(월)\n",
    "-  M: 월단위(마지막일) / MS: 각달의 첫날\n",
    "-  Q -JAN : 각 분기의 첫달의 마지막 날 / Q-DEC : 각 분기의 마지막달의 마지막날"
   ]
  },
  {
   "cell_type": "code",
   "execution_count": 18,
   "id": "a0ae11f5",
   "metadata": {},
   "outputs": [],
   "source": [
    "df2_process_T = df2_process_30T.reset_index()"
   ]
  },
  {
   "cell_type": "code",
   "execution_count": 21,
   "id": "9cf62de4",
   "metadata": {},
   "outputs": [],
   "source": [
    "df1_merge = pd.merge(df2_process, df1_detect, left_on='datetime', right_on='dt_round', how='right')"
   ]
  },
  {
   "cell_type": "code",
   "execution_count": 30,
   "id": "40e6e7e9",
   "metadata": {},
   "outputs": [],
   "source": [
    "# 관리도\n",
    "#중신선 : 데이터의 대표값\n",
    "#관리 상한선 (Upper Spec Limit) : (Xbar- sd) ) + 3x(표준편차)\n",
    "# 관리 하한선 (Lower Spec Limit) : (Xbar- sd) ) - 3x(표준편차)\n",
    "\n",
    "\n",
    "\n",
    "center =df1_merge['A1'].mean()\n",
    "USL = center + (df1_merge['A1'].std() *3)\n",
    "LSL = center - (df1_merge['A1'].std() *3)"
   ]
  },
  {
   "cell_type": "code",
   "execution_count": 34,
   "id": "ef113756",
   "metadata": {},
   "outputs": [
    {
     "data": {
      "text/html": [
       "<div>\n",
       "<style scoped>\n",
       "    .dataframe tbody tr th:only-of-type {\n",
       "        vertical-align: middle;\n",
       "    }\n",
       "\n",
       "    .dataframe tbody tr th {\n",
       "        vertical-align: top;\n",
       "    }\n",
       "\n",
       "    .dataframe thead th {\n",
       "        text-align: right;\n",
       "    }\n",
       "</style>\n",
       "<table border=\"1\" class=\"dataframe\">\n",
       "  <thead>\n",
       "    <tr style=\"text-align: right;\">\n",
       "      <th></th>\n",
       "      <th>index</th>\n",
       "      <th>A1</th>\n",
       "      <th>Center</th>\n",
       "      <th>USL</th>\n",
       "      <th>LSL</th>\n",
       "    </tr>\n",
       "  </thead>\n",
       "  <tbody>\n",
       "    <tr>\n",
       "      <th>0</th>\n",
       "      <td>0</td>\n",
       "      <td>224.638902</td>\n",
       "      <td>228.978868</td>\n",
       "      <td>286.024139</td>\n",
       "      <td>171.933597</td>\n",
       "    </tr>\n",
       "    <tr>\n",
       "      <th>1</th>\n",
       "      <td>1</td>\n",
       "      <td>225.430882</td>\n",
       "      <td>228.978868</td>\n",
       "      <td>286.024139</td>\n",
       "      <td>171.933597</td>\n",
       "    </tr>\n",
       "    <tr>\n",
       "      <th>2</th>\n",
       "      <td>2</td>\n",
       "      <td>229.063690</td>\n",
       "      <td>228.978868</td>\n",
       "      <td>286.024139</td>\n",
       "      <td>171.933597</td>\n",
       "    </tr>\n",
       "    <tr>\n",
       "      <th>3</th>\n",
       "      <td>3</td>\n",
       "      <td>228.312661</td>\n",
       "      <td>228.978868</td>\n",
       "      <td>286.024139</td>\n",
       "      <td>171.933597</td>\n",
       "    </tr>\n",
       "    <tr>\n",
       "      <th>4</th>\n",
       "      <td>4</td>\n",
       "      <td>229.209428</td>\n",
       "      <td>228.978868</td>\n",
       "      <td>286.024139</td>\n",
       "      <td>171.933597</td>\n",
       "    </tr>\n",
       "    <tr>\n",
       "      <th>...</th>\n",
       "      <td>...</td>\n",
       "      <td>...</td>\n",
       "      <td>...</td>\n",
       "      <td>...</td>\n",
       "      <td>...</td>\n",
       "    </tr>\n",
       "    <tr>\n",
       "      <th>469</th>\n",
       "      <td>469</td>\n",
       "      <td>228.894231</td>\n",
       "      <td>228.978868</td>\n",
       "      <td>286.024139</td>\n",
       "      <td>171.933597</td>\n",
       "    </tr>\n",
       "    <tr>\n",
       "      <th>470</th>\n",
       "      <td>470</td>\n",
       "      <td>229.004528</td>\n",
       "      <td>228.978868</td>\n",
       "      <td>286.024139</td>\n",
       "      <td>171.933597</td>\n",
       "    </tr>\n",
       "    <tr>\n",
       "      <th>471</th>\n",
       "      <td>471</td>\n",
       "      <td>229.249716</td>\n",
       "      <td>228.978868</td>\n",
       "      <td>286.024139</td>\n",
       "      <td>171.933597</td>\n",
       "    </tr>\n",
       "    <tr>\n",
       "      <th>472</th>\n",
       "      <td>472</td>\n",
       "      <td>229.172333</td>\n",
       "      <td>228.978868</td>\n",
       "      <td>286.024139</td>\n",
       "      <td>171.933597</td>\n",
       "    </tr>\n",
       "    <tr>\n",
       "      <th>473</th>\n",
       "      <td>473</td>\n",
       "      <td>NaN</td>\n",
       "      <td>228.978868</td>\n",
       "      <td>286.024139</td>\n",
       "      <td>171.933597</td>\n",
       "    </tr>\n",
       "  </tbody>\n",
       "</table>\n",
       "<p>474 rows × 5 columns</p>\n",
       "</div>"
      ],
      "text/plain": [
       "     index          A1      Center         USL         LSL\n",
       "0        0  224.638902  228.978868  286.024139  171.933597\n",
       "1        1  225.430882  228.978868  286.024139  171.933597\n",
       "2        2  229.063690  228.978868  286.024139  171.933597\n",
       "3        3  228.312661  228.978868  286.024139  171.933597\n",
       "4        4  229.209428  228.978868  286.024139  171.933597\n",
       "..     ...         ...         ...         ...         ...\n",
       "469    469  228.894231  228.978868  286.024139  171.933597\n",
       "470    470  229.004528  228.978868  286.024139  171.933597\n",
       "471    471  229.249716  228.978868  286.024139  171.933597\n",
       "472    472  229.172333  228.978868  286.024139  171.933597\n",
       "473    473         NaN  228.978868  286.024139  171.933597\n",
       "\n",
       "[474 rows x 5 columns]"
      ]
     },
     "execution_count": 34,
     "metadata": {},
     "output_type": "execute_result"
    }
   ],
   "source": [
    "df1_A1_Xbar = df1_merge[['A1']].reset_index()\n",
    "df1_A1_Xbar['Center'] = center\n",
    "df1_A1_Xbar['USL'] = USL\n",
    "df1_A1_Xbar['LSL'] = LSL\n",
    "df1_A1_Xbar"
   ]
  },
  {
   "cell_type": "code",
   "execution_count": 35,
   "id": "af0f4b3d",
   "metadata": {},
   "outputs": [],
   "source": [
    "import seaborn as sns"
   ]
  },
  {
   "cell_type": "code",
   "execution_count": 47,
   "id": "e0cd26f7",
   "metadata": {},
   "outputs": [
    {
     "data": {
      "image/png": "[encoded data removed]",
      "text/plain": [
       "<Figure size 1440x720 with 1 Axes>"
      ]
     },
     "metadata": {
      "needs_background": "light"
     },
     "output_type": "display_data"
    }
   ],
   "source": [
    "plt.figure(figsize=(20, 10))\n",
    "sns.pointplot(data = df1_A1_Xbar[:30], x= 'index', y='A1')\n",
    "sns.lineplot(data = df1_A1_Xbar[:30], x= 'index', y='Center', color='green')\n",
    "sns.lineplot(data=df1_A1_Xbar[:30],x= 'index', y='USL', color='red', label='상한선')\n",
    "sns.lineplot(data=df1_A1_Xbar[:30],x= 'index', y='LSL', color='red', label='하한선')\n",
    "plt.legend()\n",
    "plt.show()"
   ]
  },
  {
   "cell_type": "code",
   "execution_count": 57,
   "id": "4eb0acad",
   "metadata": {},
   "outputs": [
    {
     "data": {
      "application/vnd.plotly.v1+json": {
       "config": {
        "plotlyServerURL": "https://plot.ly"
       },
       "data": [
        {
         "hovertemplate": "index=%{x}<br>A1=%{y}<extra></extra>",
         "legendgroup": "",
         "line": {
          "color": "#636efa",
          "dash": "solid"
         },
         "marker": {
          "symbol": "circle"
         },
         "mode": "markers+lines",
         "name": "",
         "orientation": "v",
         "showlegend": false,
         "type": "scatter",
         "x": [
          0,
          1,
          2,
          3,
          4,
          5,
          6,
          7,
          8,
          9,
          10,
          11,
          12,
          13,
          14,
          15,
          16,
          17,
          18,
          19,
          20,
          21,
          22,
          23,
          24,
          25,
          26,
          27,
          28,
          29
         ],
         "xaxis": "x",
         "y": [
          224.63890185,
          225.43088238,
          229.06368972,
          228.31266102,
          229.20942762,
          228.25769517,
          228.14226939,
          229.15951499,
          228.34293167,
          227.17251338,
          227.9999929,
          228.10418029,
          228.0993377,
          229.26470176,
          229.20468972,
          229.34536248,
          230.5505846,
          229.16358760000003,
          229.30738648,
          229.0706221,
          229.25195934,
          229.34426994,
          230.3494853,
          230.10470858,
          231.48855755,
          228.98930543,
          229.63526287,
          229.74623887,
          229.85963606,
          230.76156389
         ],
         "yaxis": "y"
        }
       ],
       "layout": {
        "legend": {
         "tracegroupgap": 0
        },
        "margin": {
         "t": 60
        },
        "shapes": [
         {
          "line": {
           "color": "Blue"
          },
          "type": "line",
          "x0": 0,
          "x1": 1,
          "xref": "x domain",
          "y0": 228.97886804517844,
          "y1": 228.97886804517844,
          "yref": "y"
         },
         {
          "line": {
           "color": "Red"
          },
          "type": "line",
          "x0": 0,
          "x1": 1,
          "xref": "x domain",
          "y0": 286.0241390973188,
          "y1": 286.0241390973188,
          "yref": "y"
         },
         {
          "line": {
           "color": "Red"
          },
          "type": "line",
          "x0": 0,
          "x1": 1,
          "xref": "x domain",
          "y0": 171.93359699303807,
          "y1": 171.93359699303807,
          "yref": "y"
         }
        ],
        "template": {
         "data": {
          "bar": [
           {
            "error_x": {
             "color": "#2a3f5f"
            },
            "error_y": {
             "color": "#2a3f5f"
            },
            "marker": {
             "line": {
              "color": "#E5ECF6",
              "width": 0.5
             },
             "pattern": {
              "fillmode": "overlay",
              "size": 10,
              "solidity": 0.2
             }
            },
            "type": "bar"
           }
          ],
          "barpolar": [
           {
            "marker": {
             "line": {
              "color": "#E5ECF6",
              "width": 0.5
             },
             "pattern": {
              "fillmode": "overlay",
              "size": 10,
              "solidity": 0.2
             }
            },
            "type": "barpolar"
           }
          ],
          "carpet": [
           {
            "aaxis": {
             "endlinecolor": "#2a3f5f",
             "gridcolor": "white",
             "linecolor": "white",
             "minorgridcolor": "white",
             "startlinecolor": "#2a3f5f"
            },
            "baxis": {
             "endlinecolor": "#2a3f5f",
             "gridcolor": "white",
             "linecolor": "white",
             "minorgridcolor": "white",
             "startlinecolor": "#2a3f5f"
            },
            "type": "carpet"
           }
          ],
          "choropleth": [
           {
            "colorbar": {
             "outlinewidth": 0,
             "ticks": ""
            },
            "type": "choropleth"
           }
          ],
          "contour": [
           {
            "colorbar": {
             "outlinewidth": 0,
             "ticks": ""
            },
            "colorscale": [
             [
              0,
              "#0d0887"
             ],
             [
              0.1111111111111111,
              "#46039f"
             ],
             [
              0.2222222222222222,
              "#7201a8"
             ],
             [
              0.3333333333333333,
              "#9c179e"
             ],
             [
              0.4444444444444444,
              "#bd3786"
             ],
             [
              0.5555555555555556,
              "#d8576b"
             ],
             [
              0.6666666666666666,
              "#ed7953"
             ],
             [
              0.7777777777777778,
              "#fb9f3a"
             ],
             [
              0.8888888888888888,
              "#fdca26"
             ],
             [
              1,
              "#f0f921"
             ]
            ],
            "type": "contour"
           }
          ],
          "contourcarpet": [
           {
            "colorbar": {
             "outlinewidth": 0,
             "ticks": ""
            },
            "type": "contourcarpet"
           }
          ],
          "heatmap": [
           {
            "colorbar": {
             "outlinewidth": 0,
             "ticks": ""
            },
            "colorscale": [
             [
              0,
              "#0d0887"
             ],
             [
              0.1111111111111111,
              "#46039f"
             ],
             [
              0.2222222222222222,
              "#7201a8"
             ],
             [
              0.3333333333333333,
              "#9c179e"
             ],
             [
              0.4444444444444444,
              "#bd3786"
             ],
             [
              0.5555555555555556,
              "#d8576b"
             ],
             [
              0.6666666666666666,
              "#ed7953"
             ],
             [
              0.7777777777777778,
              "#fb9f3a"
             ],
             [
              0.8888888888888888,
              "#fdca26"
             ],
             [
              1,
              "#f0f921"
             ]
            ],
            "type": "heatmap"
           }
          ],
          "heatmapgl": [
           {
            "colorbar": {
             "outlinewidth": 0,
             "ticks": ""
            },
            "colorscale": [
             [
              0,
              "#0d0887"
             ],
             [
              0.1111111111111111,
              "#46039f"
             ],
             [
              0.2222222222222222,
              "#7201a8"
             ],
             [
              0.3333333333333333,
              "#9c179e"
             ],
             [
              0.4444444444444444,
              "#bd3786"
             ],
             [
              0.5555555555555556,
              "#d8576b"
             ],
             [
              0.6666666666666666,
              "#ed7953"
             ],
             [
              0.7777777777777778,
              "#fb9f3a"
             ],
             [
              0.8888888888888888,
              "#fdca26"
             ],
             [
              1,
              "#f0f921"
             ]
            ],
            "type": "heatmapgl"
           }
          ],
          "histogram": [
           {
            "marker": {
             "pattern": {
              "fillmode": "overlay",
              "size": 10,
              "solidity": 0.2
             }
            },
            "type": "histogram"
           }
          ],
          "histogram2d": [
           {
            "colorbar": {
             "outlinewidth": 0,
             "ticks": ""
            },
            "colorscale": [
             [
              0,
              "#0d0887"
             ],
             [
              0.1111111111111111,
              "#46039f"
             ],
             [
              0.2222222222222222,
              "#7201a8"
             ],
             [
              0.3333333333333333,
              "#9c179e"
             ],
             [
              0.4444444444444444,
              "#bd3786"
             ],
             [
              0.5555555555555556,
              "#d8576b"
             ],
             [
              0.6666666666666666,
              "#ed7953"
             ],
             [
              0.7777777777777778,
              "#fb9f3a"
             ],
             [
              0.8888888888888888,
              "#fdca26"
             ],
             [
              1,
              "#f0f921"
             ]
            ],
            "type": "histogram2d"
           }
          ],
          "histogram2dcontour": [
           {
            "colorbar": {
             "outlinewidth": 0,
             "ticks": ""
            },
            "colorscale": [
             [
              0,
              "#0d0887"
             ],
             [
              0.1111111111111111,
              "#46039f"
             ],
             [
              0.2222222222222222,
              "#7201a8"
             ],
             [
              0.3333333333333333,
              "#9c179e"
             ],
             [
              0.4444444444444444,
              "#bd3786"
             ],
             [
              0.5555555555555556,
              "#d8576b"
             ],
             [
              0.6666666666666666,
              "#ed7953"
             ],
             [
              0.7777777777777778,
              "#fb9f3a"
             ],
             [
              0.8888888888888888,
              "#fdca26"
             ],
             [
              1,
              "#f0f921"
             ]
            ],
            "type": "histogram2dcontour"
           }
          ],
          "mesh3d": [
           {
            "colorbar": {
             "outlinewidth": 0,
             "ticks": ""
            },
            "type": "mesh3d"
           }
          ],
          "parcoords": [
           {
            "line": {
             "colorbar": {
              "outlinewidth": 0,
              "ticks": ""
             }
            },
            "type": "parcoords"
           }
          ],
          "pie": [
           {
            "automargin": true,
            "type": "pie"
           }
          ],
          "scatter": [
           {
            "marker": {
             "colorbar": {
              "outlinewidth": 0,
              "ticks": ""
             }
            },
            "type": "scatter"
           }
          ],
          "scatter3d": [
           {
            "line": {
             "colorbar": {
              "outlinewidth": 0,
              "ticks": ""
             }
            },
            "marker": {
             "colorbar": {
              "outlinewidth": 0,
              "ticks": ""
             }
            },
            "type": "scatter3d"
           }
          ],
          "scattercarpet": [
           {
            "marker": {
             "colorbar": {
              "outlinewidth": 0,
              "ticks": ""
             }
            },
            "type": "scattercarpet"
           }
          ],
          "scattergeo": [
           {
            "marker": {
             "colorbar": {
              "outlinewidth": 0,
              "ticks": ""
             }
            },
            "type": "scattergeo"
           }
          ],
          "scattergl": [
           {
            "marker": {
             "colorbar": {
              "outlinewidth": 0,
              "ticks": ""
             }
            },
            "type": "scattergl"
           }
          ],
          "scattermapbox": [
           {
            "marker": {
             "colorbar": {
              "outlinewidth": 0,
              "ticks": ""
             }
            },
            "type": "scattermapbox"
           }
          ],
          "scatterpolar": [
           {
            "marker": {
             "colorbar": {
              "outlinewidth": 0,
              "ticks": ""
             }
            },
            "type": "scatterpolar"
           }
          ],
          "scatterpolargl": [
           {
            "marker": {
             "colorbar": {
              "outlinewidth": 0,
              "ticks": ""
             }
            },
            "type": "scatterpolargl"
           }
          ],
          "scatterternary": [
           {
            "marker": {
             "colorbar": {
              "outlinewidth": 0,
              "ticks": ""
             }
            },
            "type": "scatterternary"
           }
          ],
          "surface": [
           {
            "colorbar": {
             "outlinewidth": 0,
             "ticks": ""
            },
            "colorscale": [
             [
              0,
              "#0d0887"
             ],
             [
              0.1111111111111111,
              "#46039f"
             ],
             [
              0.2222222222222222,
              "#7201a8"
             ],
             [
              0.3333333333333333,
              "#9c179e"
             ],
             [
              0.4444444444444444,
              "#bd3786"
             ],
             [
              0.5555555555555556,
              "#d8576b"
             ],
             [
              0.6666666666666666,
              "#ed7953"
             ],
             [
              0.7777777777777778,
              "#fb9f3a"
             ],
             [
              0.8888888888888888,
              "#fdca26"
             ],
             [
              1,
              "#f0f921"
             ]
            ],
            "type": "surface"
           }
          ],
          "table": [
           {
            "cells": {
             "fill": {
              "color": "#EBF0F8"
             },
             "line": {
              "color": "white"
             }
            },
            "header": {
             "fill": {
              "color": "#C8D4E3"
             },
             "line": {
              "color": "white"
             }
            },
            "type": "table"
           }
          ]
         },
         "layout": {
          "annotationdefaults": {
           "arrowcolor": "#2a3f5f",
           "arrowhead": 0,
           "arrowwidth": 1
          },
          "autotypenumbers": "strict",
          "coloraxis": {
           "colorbar": {
            "outlinewidth": 0,
            "ticks": ""
           }
          },
          "colorscale": {
           "diverging": [
            [
             0,
             "#8e0152"
            ],
            [
             0.1,
             "#c51b7d"
            ],
            [
             0.2,
             "#de77ae"
            ],
            [
             0.3,
             "#f1b6da"
            ],
            [
             0.4,
             "#fde0ef"
            ],
            [
             0.5,
             "#f7f7f7"
            ],
            [
             0.6,
             "#e6f5d0"
            ],
            [
             0.7,
             "#b8e186"
            ],
            [
             0.8,
             "#7fbc41"
            ],
            [
             0.9,
             "#4d9221"
            ],
            [
             1,
             "#276419"
            ]
           ],
           "sequential": [
            [
             0,
             "#0d0887"
            ],
            [
             0.1111111111111111,
             "#46039f"
            ],
            [
             0.2222222222222222,
             "#7201a8"
            ],
            [
             0.3333333333333333,
             "#9c179e"
            ],
            [
             0.4444444444444444,
             "#bd3786"
            ],
            [
             0.5555555555555556,
             "#d8576b"
            ],
            [
             0.6666666666666666,
             "#ed7953"
            ],
            [
             0.7777777777777778,
             "#fb9f3a"
            ],
            [
             0.8888888888888888,
             "#fdca26"
            ],
            [
             1,
             "#f0f921"
            ]
           ],
           "sequentialminus": [
            [
             0,
             "#0d0887"
            ],
            [
             0.1111111111111111,
             "#46039f"
            ],
            [
             0.2222222222222222,
             "#7201a8"
            ],
            [
             0.3333333333333333,
             "#9c179e"
            ],
            [
             0.4444444444444444,
             "#bd3786"
            ],
            [
             0.5555555555555556,
             "#d8576b"
            ],
            [
             0.6666666666666666,
             "#ed7953"
            ],
            [
             0.7777777777777778,
             "#fb9f3a"
            ],
            [
             0.8888888888888888,
             "#fdca26"
            ],
            [
             1,
             "#f0f921"
            ]
           ]
          },
          "colorway": [
           "#636efa",
           "#EF553B",
           "#00cc96",
           "#ab63fa",
           "#FFA15A",
           "#19d3f3",
           "#FF6692",
           "#B6E880",
           "#FF97FF",
           "#FECB52"
          ],
          "font": {
           "color": "#2a3f5f"
          },
          "geo": {
           "bgcolor": "white",
           "lakecolor": "white",
           "landcolor": "#E5ECF6",
           "showlakes": true,
           "showland": true,
           "subunitcolor": "white"
          },
          "hoverlabel": {
           "align": "left"
          },
          "hovermode": "closest",
          "mapbox": {
           "style": "light"
          },
          "paper_bgcolor": "white",
          "plot_bgcolor": "#E5ECF6",
          "polar": {
           "angularaxis": {
            "gridcolor": "white",
            "linecolor": "white",
            "ticks": ""
           },
           "bgcolor": "#E5ECF6",
           "radialaxis": {
            "gridcolor": "white",
            "linecolor": "white",
            "ticks": ""
           }
          },
          "scene": {
           "xaxis": {
            "backgroundcolor": "#E5ECF6",
            "gridcolor": "white",
            "gridwidth": 2,
            "linecolor": "white",
            "showbackground": true,
            "ticks": "",
            "zerolinecolor": "white"
           },
           "yaxis": {
            "backgroundcolor": "#E5ECF6",
            "gridcolor": "white",
            "gridwidth": 2,
            "linecolor": "white",
            "showbackground": true,
            "ticks": "",
            "zerolinecolor": "white"
           },
           "zaxis": {
            "backgroundcolor": "#E5ECF6",
            "gridcolor": "white",
            "gridwidth": 2,
            "linecolor": "white",
            "showbackground": true,
            "ticks": "",
            "zerolinecolor": "white"
           }
          },
          "shapedefaults": {
           "line": {
            "color": "#2a3f5f"
           }
          },
          "ternary": {
           "aaxis": {
            "gridcolor": "white",
            "linecolor": "white",
            "ticks": ""
           },
           "baxis": {
            "gridcolor": "white",
            "linecolor": "white",
            "ticks": ""
           },
           "bgcolor": "#E5ECF6",
           "caxis": {
            "gridcolor": "white",
            "linecolor": "white",
            "ticks": ""
           }
          },
          "title": {
           "x": 0.05
          },
          "xaxis": {
           "automargin": true,
           "gridcolor": "white",
           "linecolor": "white",
           "ticks": "",
           "title": {
            "standoff": 15
           },
           "zerolinecolor": "white",
           "zerolinewidth": 2
          },
          "yaxis": {
           "automargin": true,
           "gridcolor": "white",
           "linecolor": "white",
           "ticks": "",
           "title": {
            "standoff": 15
           },
           "zerolinecolor": "white",
           "zerolinewidth": 2
          }
         }
        },
        "xaxis": {
         "anchor": "y",
         "domain": [
          0,
          1
         ],
         "title": {
          "text": "index"
         }
        },
        "yaxis": {
         "anchor": "x",
         "domain": [
          0,
          1
         ],
         "range": [
          161.93359699303807,
          296.0241390973188
         ],
         "title": {
          "text": "A1"
         }
        }
       }
      },
      "text/html": [
       "<div>                            <div id=\"66233a76-e14d-4b63-8aa2-8fb74b4f3b86\" class=\"plotly-graph-div\" style=\"height:525px; width:100%;\"></div>            <script type=\"text/javascript\">                require([\"plotly\"], function(Plotly) {                    window.PLOTLYENV=window.PLOTLYENV || {};                                    if (document.getElementById(\"66233a76-e14d-4b63-8aa2-8fb74b4f3b86\")) {                    Plotly.newPlot(                        \"66233a76-e14d-4b63-8aa2-8fb74b4f3b86\",                        [{\"hovertemplate\":\"index=%{x}<br>A1=%{y}<extra></extra>\",\"legendgroup\":\"\",\"line\":{\"color\":\"#636efa\",\"dash\":\"solid\"},\"marker\":{\"symbol\":\"circle\"},\"mode\":\"markers+lines\",\"name\":\"\",\"orientation\":\"v\",\"showlegend\":false,\"x\":[0,1,2,3,4,5,6,7,8,9,10,11,12,13,14,15,16,17,18,19,20,21,22,23,24,25,26,27,28,29],\"xaxis\":\"x\",\"y\":[224.63890185,225.43088238,229.06368972,228.31266102,229.20942762,228.25769517,228.14226939,229.15951499,228.34293167,227.17251338,227.9999929,228.10418029,228.0993377,229.26470176,229.20468972,229.34536248,230.5505846,229.16358760000003,229.30738648,229.0706221,229.25195934,229.34426994,230.3494853,230.10470858,231.48855755,228.98930543,229.63526287,229.74623887,229.85963606,230.76156389],\"yaxis\":\"y\",\"type\":\"scatter\"}],                        {\"template\":{\"data\":{\"bar\":[{\"error_x\":{\"color\":\"#2a3f5f\"},\"error_y\":{\"color\":\"#2a3f5f\"},\"marker\":{\"line\":{\"color\":\"#E5ECF6\",\"width\":0.5},\"pattern\":{\"fillmode\":\"overlay\",\"size\":10,\"solidity\":0.2}},\"type\":\"bar\"}],\"barpolar\":[{\"marker\":{\"line\":{\"color\":\"#E5ECF6\",\"width\":0.5},\"pattern\":{\"fillmode\":\"overlay\",\"size\":10,\"solidity\":0.2}},\"type\":\"barpolar\"}],\"carpet\":[{\"aaxis\":{\"endlinecolor\":\"#2a3f5f\",\"gridcolor\":\"white\",\"linecolor\":\"white\",\"minorgridcolor\":\"white\",\"startlinecolor\":\"#2a3f5f\"},\"baxis\":{\"endlinecolor\":\"#2a3f5f\",\"gridcolor\":\"white\",\"linecolor\":\"white\",\"minorgridcolor\":\"white\",\"startlinecolor\":\"#2a3f5f\"},\"type\":\"carpet\"}],\"choropleth\":[{\"colorbar\":{\"outlinewidth\":0,\"ticks\":\"\"},\"type\":\"choropleth\"}],\"contour\":[{\"colorbar\":{\"outlinewidth\":0,\"ticks\":\"\"},\"colorscale\":[[0.0,\"#0d0887\"],[0.1111111111111111,\"#46039f\"],[0.2222222222222222,\"#7201a8\"],[0.3333333333333333,\"#9c179e\"],[0.4444444444444444,\"#bd3786\"],[0.5555555555555556,\"#d8576b\"],[0.6666666666666666,\"#ed7953\"],[0.7777777777777778,\"#fb9f3a\"],[0.8888888888888888,\"#fdca26\"],[1.0,\"#f0f921\"]],\"type\":\"contour\"}],\"contourcarpet\":[{\"colorbar\":{\"outlinewidth\":0,\"ticks\":\"\"},\"type\":\"contourcarpet\"}],\"heatmap\":[{\"colorbar\":{\"outlinewidth\":0,\"ticks\":\"\"},\"colorscale\":[[0.0,\"#0d0887\"],[0.1111111111111111,\"#46039f\"],[0.2222222222222222,\"#7201a8\"],[0.3333333333333333,\"#9c179e\"],[0.4444444444444444,\"#bd3786\"],[0.5555555555555556,\"#d8576b\"],[0.6666666666666666,\"#ed7953\"],[0.7777777777777778,\"#fb9f3a\"],[0.8888888888888888,\"#fdca26\"],[1.0,\"#f0f921\"]],\"type\":\"heatmap\"}],\"heatmapgl\":[{\"colorbar\":{\"outlinewidth\":0,\"ticks\":\"\"},\"colorscale\":[[0.0,\"#0d0887\"],[0.1111111111111111,\"#46039f\"],[0.2222222222222222,\"#7201a8\"],[0.3333333333333333,\"#9c179e\"],[0.4444444444444444,\"#bd3786\"],[0.5555555555555556,\"#d8576b\"],[0.6666666666666666,\"#ed7953\"],[0.7777777777777778,\"#fb9f3a\"],[0.8888888888888888,\"#fdca26\"],[1.0,\"#f0f921\"]],\"type\":\"heatmapgl\"}],\"histogram\":[{\"marker\":{\"pattern\":{\"fillmode\":\"overlay\",\"size\":10,\"solidity\":0.2}},\"type\":\"histogram\"}],\"histogram2d\":[{\"colorbar\":{\"outlinewidth\":0,\"ticks\":\"\"},\"colorscale\":[[0.0,\"#0d0887\"],[0.1111111111111111,\"#46039f\"],[0.2222222222222222,\"#7201a8\"],[0.3333333333333333,\"#9c179e\"],[0.4444444444444444,\"#bd3786\"],[0.5555555555555556,\"#d8576b\"],[0.6666666666666666,\"#ed7953\"],[0.7777777777777778,\"#fb9f3a\"],[0.8888888888888888,\"#fdca26\"],[1.0,\"#f0f921\"]],\"type\":\"histogram2d\"}],\"histogram2dcontour\":[{\"colorbar\":{\"outlinewidth\":0,\"ticks\":\"\"},\"colorscale\":[[0.0,\"#0d0887\"],[0.1111111111111111,\"#46039f\"],[0.2222222222222222,\"#7201a8\"],[0.3333333333333333,\"#9c179e\"],[0.4444444444444444,\"#bd3786\"],[0.5555555555555556,\"#d8576b\"],[0.6666666666666666,\"#ed7953\"],[0.7777777777777778,\"#fb9f3a\"],[0.8888888888888888,\"#fdca26\"],[1.0,\"#f0f921\"]],\"type\":\"histogram2dcontour\"}],\"mesh3d\":[{\"colorbar\":{\"outlinewidth\":0,\"ticks\":\"\"},\"type\":\"mesh3d\"}],\"parcoords\":[{\"line\":{\"colorbar\":{\"outlinewidth\":0,\"ticks\":\"\"}},\"type\":\"parcoords\"}],\"pie\":[{\"automargin\":true,\"type\":\"pie\"}],\"scatter\":[{\"marker\":{\"colorbar\":{\"outlinewidth\":0,\"ticks\":\"\"}},\"type\":\"scatter\"}],\"scatter3d\":[{\"line\":{\"colorbar\":{\"outlinewidth\":0,\"ticks\":\"\"}},\"marker\":{\"colorbar\":{\"outlinewidth\":0,\"ticks\":\"\"}},\"type\":\"scatter3d\"}],\"scattercarpet\":[{\"marker\":{\"colorbar\":{\"outlinewidth\":0,\"ticks\":\"\"}},\"type\":\"scattercarpet\"}],\"scattergeo\":[{\"marker\":{\"colorbar\":{\"outlinewidth\":0,\"ticks\":\"\"}},\"type\":\"scattergeo\"}],\"scattergl\":[{\"marker\":{\"colorbar\":{\"outlinewidth\":0,\"ticks\":\"\"}},\"type\":\"scattergl\"}],\"scattermapbox\":[{\"marker\":{\"colorbar\":{\"outlinewidth\":0,\"ticks\":\"\"}},\"type\":\"scattermapbox\"}],\"scatterpolar\":[{\"marker\":{\"colorbar\":{\"outlinewidth\":0,\"ticks\":\"\"}},\"type\":\"scatterpolar\"}],\"scatterpolargl\":[{\"marker\":{\"colorbar\":{\"outlinewidth\":0,\"ticks\":\"\"}},\"type\":\"scatterpolargl\"}],\"scatterternary\":[{\"marker\":{\"colorbar\":{\"outlinewidth\":0,\"ticks\":\"\"}},\"type\":\"scatterternary\"}],\"surface\":[{\"colorbar\":{\"outlinewidth\":0,\"ticks\":\"\"},\"colorscale\":[[0.0,\"#0d0887\"],[0.1111111111111111,\"#46039f\"],[0.2222222222222222,\"#7201a8\"],[0.3333333333333333,\"#9c179e\"],[0.4444444444444444,\"#bd3786\"],[0.5555555555555556,\"#d8576b\"],[0.6666666666666666,\"#ed7953\"],[0.7777777777777778,\"#fb9f3a\"],[0.8888888888888888,\"#fdca26\"],[1.0,\"#f0f921\"]],\"type\":\"surface\"}],\"table\":[{\"cells\":{\"fill\":{\"color\":\"#EBF0F8\"},\"line\":{\"color\":\"white\"}},\"header\":{\"fill\":{\"color\":\"#C8D4E3\"},\"line\":{\"color\":\"white\"}},\"type\":\"table\"}]},\"layout\":{\"annotationdefaults\":{\"arrowcolor\":\"#2a3f5f\",\"arrowhead\":0,\"arrowwidth\":1},\"autotypenumbers\":\"strict\",\"coloraxis\":{\"colorbar\":{\"outlinewidth\":0,\"ticks\":\"\"}},\"colorscale\":{\"diverging\":[[0,\"#8e0152\"],[0.1,\"#c51b7d\"],[0.2,\"#de77ae\"],[0.3,\"#f1b6da\"],[0.4,\"#fde0ef\"],[0.5,\"#f7f7f7\"],[0.6,\"#e6f5d0\"],[0.7,\"#b8e186\"],[0.8,\"#7fbc41\"],[0.9,\"#4d9221\"],[1,\"#276419\"]],\"sequential\":[[0.0,\"#0d0887\"],[0.1111111111111111,\"#46039f\"],[0.2222222222222222,\"#7201a8\"],[0.3333333333333333,\"#9c179e\"],[0.4444444444444444,\"#bd3786\"],[0.5555555555555556,\"#d8576b\"],[0.6666666666666666,\"#ed7953\"],[0.7777777777777778,\"#fb9f3a\"],[0.8888888888888888,\"#fdca26\"],[1.0,\"#f0f921\"]],\"sequentialminus\":[[0.0,\"#0d0887\"],[0.1111111111111111,\"#46039f\"],[0.2222222222222222,\"#7201a8\"],[0.3333333333333333,\"#9c179e\"],[0.4444444444444444,\"#bd3786\"],[0.5555555555555556,\"#d8576b\"],[0.6666666666666666,\"#ed7953\"],[0.7777777777777778,\"#fb9f3a\"],[0.8888888888888888,\"#fdca26\"],[1.0,\"#f0f921\"]]},\"colorway\":[\"#636efa\",\"#EF553B\",\"#00cc96\",\"#ab63fa\",\"#FFA15A\",\"#19d3f3\",\"#FF6692\",\"#B6E880\",\"#FF97FF\",\"#FECB52\"],\"font\":{\"color\":\"#2a3f5f\"},\"geo\":{\"bgcolor\":\"white\",\"lakecolor\":\"white\",\"landcolor\":\"#E5ECF6\",\"showlakes\":true,\"showland\":true,\"subunitcolor\":\"white\"},\"hoverlabel\":{\"align\":\"left\"},\"hovermode\":\"closest\",\"mapbox\":{\"style\":\"light\"},\"paper_bgcolor\":\"white\",\"plot_bgcolor\":\"#E5ECF6\",\"polar\":{\"angularaxis\":{\"gridcolor\":\"white\",\"linecolor\":\"white\",\"ticks\":\"\"},\"bgcolor\":\"#E5ECF6\",\"radialaxis\":{\"gridcolor\":\"white\",\"linecolor\":\"white\",\"ticks\":\"\"}},\"scene\":{\"xaxis\":{\"backgroundcolor\":\"#E5ECF6\",\"gridcolor\":\"white\",\"gridwidth\":2,\"linecolor\":\"white\",\"showbackground\":true,\"ticks\":\"\",\"zerolinecolor\":\"white\"},\"yaxis\":{\"backgroundcolor\":\"#E5ECF6\",\"gridcolor\":\"white\",\"gridwidth\":2,\"linecolor\":\"white\",\"showbackground\":true,\"ticks\":\"\",\"zerolinecolor\":\"white\"},\"zaxis\":{\"backgroundcolor\":\"#E5ECF6\",\"gridcolor\":\"white\",\"gridwidth\":2,\"linecolor\":\"white\",\"showbackground\":true,\"ticks\":\"\",\"zerolinecolor\":\"white\"}},\"shapedefaults\":{\"line\":{\"color\":\"#2a3f5f\"}},\"ternary\":{\"aaxis\":{\"gridcolor\":\"white\",\"linecolor\":\"white\",\"ticks\":\"\"},\"baxis\":{\"gridcolor\":\"white\",\"linecolor\":\"white\",\"ticks\":\"\"},\"bgcolor\":\"#E5ECF6\",\"caxis\":{\"gridcolor\":\"white\",\"linecolor\":\"white\",\"ticks\":\"\"}},\"title\":{\"x\":0.05},\"xaxis\":{\"automargin\":true,\"gridcolor\":\"white\",\"linecolor\":\"white\",\"ticks\":\"\",\"title\":{\"standoff\":15},\"zerolinecolor\":\"white\",\"zerolinewidth\":2},\"yaxis\":{\"automargin\":true,\"gridcolor\":\"white\",\"linecolor\":\"white\",\"ticks\":\"\",\"title\":{\"standoff\":15},\"zerolinecolor\":\"white\",\"zerolinewidth\":2}}},\"xaxis\":{\"anchor\":\"y\",\"domain\":[0.0,1.0],\"title\":{\"text\":\"index\"}},\"yaxis\":{\"anchor\":\"x\",\"domain\":[0.0,1.0],\"title\":{\"text\":\"A1\"},\"range\":[161.93359699303807,296.0241390973188]},\"legend\":{\"tracegroupgap\":0},\"margin\":{\"t\":60},\"shapes\":[{\"line\":{\"color\":\"Blue\"},\"type\":\"line\",\"x0\":0,\"x1\":1,\"xref\":\"x domain\",\"y0\":228.97886804517844,\"y1\":228.97886804517844,\"yref\":\"y\"},{\"line\":{\"color\":\"Red\"},\"type\":\"line\",\"x0\":0,\"x1\":1,\"xref\":\"x domain\",\"y0\":286.0241390973188,\"y1\":286.0241390973188,\"yref\":\"y\"},{\"line\":{\"color\":\"Red\"},\"type\":\"line\",\"x0\":0,\"x1\":1,\"xref\":\"x domain\",\"y0\":171.93359699303807,\"y1\":171.93359699303807,\"yref\":\"y\"}]},                        {\"responsive\": true}                    ).then(function(){\n",
       "                            \n",
       "var gd = document.getElementById('66233a76-e14d-4b63-8aa2-8fb74b4f3b86');\n",
       "var x = new MutationObserver(function (mutations, observer) {{\n",
       "        var display = window.getComputedStyle(gd).display;\n",
       "        if (!display || display === 'none') {{\n",
       "            console.log([gd, 'removed!']);\n",
       "            Plotly.purge(gd);\n",
       "            observer.disconnect();\n",
       "        }}\n",
       "}});\n",
       "\n",
       "// Listen for the removal of the full notebook cells\n",
       "var notebookContainer = gd.closest('#notebook-container');\n",
       "if (notebookContainer) {{\n",
       "    x.observe(notebookContainer, {childList: true});\n",
       "}}\n",
       "\n",
       "// Listen for the clearing of the current output cell\n",
       "var outputEl = gd.closest('.output');\n",
       "if (outputEl) {{\n",
       "    x.observe(outputEl, {childList: true});\n",
       "}}\n",
       "\n",
       "                        })                };                });            </script>        </div>"
      ]
     },
     "metadata": {},
     "output_type": "display_data"
    }
   ],
   "source": [
    "# Plotly 관리도 시각화\n",
    "\n",
    "fig1 = px.line(df1_A1_Xbar.iloc[:30], x='index', y='A1')\n",
    "fig1.update_traces(mode='markers+lines')\n",
    "fig1.add_hline(y=center, line_color='Blue')\n",
    "fig1.add_hline(y=USL, line_color='Red')\n",
    "fig1.add_hline(y=LSL, line_color='Red')\n",
    "fig1.update_layout(yaxis_range = [LSL-10, USL+10])"
   ]
  },
  {
   "cell_type": "code",
   "execution_count": 58,
   "id": "e77c2d84",
   "metadata": {},
   "outputs": [],
   "source": [
    "#학습데이터와 검증데이터 분할\n",
    "from sklearn.model_selection import train_test_split\n",
    "\n",
    "#특성공학과 학습이 수행될 파이프라인 굿ㅇ\n",
    "from imblearn.pipeline import make_pipeline\n",
    "from sklearn.compose import make_column_transformer\n",
    "\n",
    "#특성공학\n",
    "from sklearn.impute import SimpleImputer\n",
    "from sklearn.preprocessing import StandardScaler\n",
    "from sklearn.preprocessing import OneHotEncoder\n",
    "\n",
    "#학습 알고리즘\n",
    "from sklearn.tree import DecisionTreeRegressor\n",
    "\n",
    "#교차검증\n",
    "from sklearn.model_selection import GridSearchCV\n",
    "\n",
    "#평가\n",
    "from sklearn.metrics import r2_score\n"
   ]
  },
  {
   "cell_type": "code",
   "execution_count": null,
   "id": "bb04ff0e",
   "metadata": {},
   "outputs": [],
   "source": [
    "X_train, X_test, Y_train, Y_test = train_test_split(X, Y, test_size=0.3)\n",
    "numeric_pipe = make_pipeline(SimpleImputer(strategy='median'), StandardScaler())\n",
    "category_pipe = make_pipeline(SimpleImputer(strategy='most_frequent'), OneHotEncoder())\n",
    "\n",
    "numeric_list = X.describe().columns.tolist()\n",
    "category_list = X.describe(include = 'object').columns.tolist() # 문자데이터만 뽑기\n",
    "\n",
    "preprocessing_pipe = make_column_transformer((numeric_pipe, numeric_list),\n",
    "                                            (category_pipe, category_list))\n",
    "\n",
    "model_pipe = make_pipeline(preprocessing_pipe, DecisionTreeRegressor())\n",
    "model_pipe"
   ]
  },
  {
   "cell_type": "code",
   "execution_count": null,
   "id": "c11950eb",
   "metadata": {},
   "outputs": [],
   "source": []
  },
  {
   "cell_type": "markdown",
   "id": "fb147029",
   "metadata": {},
   "source": [
    "# Imbalanced Data Sampling\n",
    "\n",
    "- 분류 (classification)\n",
    "- 데이터 비율이 크게 차이가발생한 경우 한쪽에 맞춰 데이터를 늘리거나 줄이는 작업\n",
    "\n",
    "    - Under Sampling : 데이터의 비율이 적은 값에 맞춰 데이터를 줄려주는 작업\n",
    "    \n",
    "        - Random Ubder Sampling : 비율이 많은 쪽의 데이터를 무작위 추출하여 줄임\n",
    "        - Tomk's Link : 서로 다른 값의 인접한 항목을 묶어 많은쪽의 데이터를 삭제\n",
    "            - 데이터의 비율이 한쪽이 적더라도 분류 경계 명확해짐. 분류모델 성능 ↑\n",
    "            - 범주형 항목이 다수 있거나, 분류경계가 매우 모호한 경우\n",
    "        - CNN(Condensed Nearest Neighbor) = KNN : 비율이 많은 쪽에 데이터에서 밀도가 높은\n",
    "                                                    부분의 데이터를 삭제\n",
    "        - One Sided Selection (Tomk's Link + CNN ) : \n",
    "        \n",
    "    - Over Sampling : 데이터의 비율이 높은 값에 맞춰 데이터를 생성하는작업\n",
    "        \n",
    "        - Random Over Sampling : 비율이 적은 데이터를 무작위 생성하여, 많은쪽으로 맞춤.\n",
    "        - SMOTE(Synethic Minority Over Sampling Technique) : KNN 알고리즘을 이용하여 , 비율이 적은쪽의 데이터를 K개의 인접개수 만큼 묶은 뒤 , 묶인 데이터 내 중심점을 찾아 데이터를 생성\n",
    "        - adasyn (Adaptive Synethic Sampling ): SMOTE 기법을 이용해 데이터를 생성하는 단계에서 임의의 값(Noise, 감마밀도함수)를 더하여서 더 사실적인 데이터를 생성하는 기법\n",
    "        \n",
    "        \n",
    "   \n",
    "- 공정 : 불량여부 Y-> 정상 950 / 불량 50\n",
    "    - under sampling : 정상 / 불량 50"
   ]
  },
  {
   "cell_type": "code",
   "execution_count": 60,
   "id": "bbe2c8a2",
   "metadata": {},
   "outputs": [],
   "source": [
    "from imblearn.under_sampling import RandomUnderSampler"
   ]
  },
  {
   "cell_type": "code",
   "execution_count": 62,
   "id": "065bcfd0",
   "metadata": {},
   "outputs": [],
   "source": [
    "df1 = pd.read_csv('./01_Data.csv')"
   ]
  },
  {
   "cell_type": "code",
   "execution_count": 67,
   "id": "02bf23a5",
   "metadata": {},
   "outputs": [
    {
     "data": {
      "text/plain": [
       "<bound method Series.unique of 0        계약확정\n",
       "1        계약확정\n",
       "2        계약확정\n",
       "3        계약확정\n",
       "4        기간만료\n",
       "         ... \n",
       "51296    계약확정\n",
       "51297    계약확정\n",
       "51298    계약확정\n",
       "51299    계약확정\n",
       "51300    계약확정\n",
       "Name: State, Length: 51301, dtype: object>"
      ]
     },
     "execution_count": 67,
     "metadata": {},
     "output_type": "execute_result"
    }
   ],
   "source": [
    "df1['State'].unique"
   ]
  },
  {
   "cell_type": "markdown",
   "id": "372edcc6",
   "metadata": {},
   "source": [
    "# Mission 1~4 new"
   ]
  },
  {
   "cell_type": "markdown",
   "id": "7f44ee08",
   "metadata": {},
   "source": [
    "# Mission (1~4 New / ~9)\n",
    "\n",
    "- df1_merge 이용하여 아래의 문제를 해결하고자 한다.\n",
    "\n",
    "1. 'tag' 항목의 각 값들의 빈도수를 계산\n",
    "2. 'Y1A'에서 3000이상인 값을 추출하여, 높은 순서대로 정렬한 뒤, \n",
    "    tag별 A1 값의 평균을 계산\n",
    "3. 'dt_round' 값을 이용해, 연도/월/일 자를 추출하여 새로운 변수로 선언\n",
    "4. '일'별 'Y1A'의 합을 Table형태로 계산\n",
    "5. 'tag'항목에서 NE282PV 항목을 추출하여, **일별***로 A1~A6 평균을 계산\n",
    "    (Pivot_table X / resample 사용)\n",
    "6. 위에서 계산된 테이블을 df_clean_day 선언을 한 뒤, 결측값을 제거하고, A1값에 대한\n",
    "    Xbar - sd 관리도를 시각화 (index 주의)\n",
    "7. df1_merge에서 결측값을 제거한 뒤, tag의 'NE280PV'값과 'NE282PV'값에 대해 A1값이 평균의\n",
    "    차이가 있는지 가설 검정을 수행하고, 평균을 비교하는 그래프를 시각화 하시오.\n",
    "8. 'Y1A'값과 'A1'값의 산점도를 tag에 따라 색상을 나누어 시각화하고, 두 값이 상관성이\n",
    "    있는지 가설검정을 수행\n",
    "9. 'Y1A'값이 상위 90%이상인 값을 1, 미만인 값을 0로 변환하여 'Target'값으로 선언한 뒤,\n",
    "    A1 ~ A6 값을 넣었을 때, Target을 분류하는  분류모델 생성\n",
    "     - 8:2비율로 학습데이터와 검증 데이터 분할\n",
    "     - Min Max Scaling 기법과 Imputation(평균대치), Imbalanced(SMOTE), 교차검증 5회\n",
    "     - 가장 성능이 좋은 모델을 찾아, model_target.sav이름으로 저장\n",
    "     - 평가 : 학습능력평가 / 일반화능력평가"
   ]
  },
  {
   "cell_type": "code",
   "execution_count": 69,
   "id": "9b427f84",
   "metadata": {},
   "outputs": [
    {
     "data": {
      "text/plain": [
       "NE280PV    373\n",
       "NE282PV     75\n",
       "NE280V      13\n",
       "E280PV      13\n",
       "Name: tag, dtype: int64"
      ]
     },
     "execution_count": 69,
     "metadata": {},
     "output_type": "execute_result"
    }
   ],
   "source": [
    "# 1\n",
    "df1_merge['tag'].value_countsounts()"
   ]
  },
  {
   "cell_type": "code",
   "execution_count": 75,
   "id": "e547434c",
   "metadata": {},
   "outputs": [
    {
     "name": "stderr",
     "output_type": "stream",
     "text": [
      "C:\\Users\\DMC CONET\\AppData\\Local\\Temp\\ipykernel_5404\\1627047900.py:4: FutureWarning:\n",
      "\n",
      "Dropping invalid columns in DataFrameGroupBy.mean is deprecated. In a future version, a TypeError will be raised. Before calling .mean, select only columns which should be valid for the function.\n",
      "\n"
     ]
    },
    {
     "data": {
      "text/html": [
       "<div>\n",
       "<style scoped>\n",
       "    .dataframe tbody tr th:only-of-type {\n",
       "        vertical-align: middle;\n",
       "    }\n",
       "\n",
       "    .dataframe tbody tr th {\n",
       "        vertical-align: top;\n",
       "    }\n",
       "\n",
       "    .dataframe thead th {\n",
       "        text-align: right;\n",
       "    }\n",
       "</style>\n",
       "<table border=\"1\" class=\"dataframe\">\n",
       "  <thead>\n",
       "    <tr style=\"text-align: right;\">\n",
       "      <th></th>\n",
       "      <th>Y1A</th>\n",
       "    </tr>\n",
       "  </thead>\n",
       "  <tbody>\n",
       "    <tr>\n",
       "      <th>0</th>\n",
       "      <td>3033.379</td>\n",
       "    </tr>\n",
       "    <tr>\n",
       "      <th>1</th>\n",
       "      <td>3073.310</td>\n",
       "    </tr>\n",
       "    <tr>\n",
       "      <th>2</th>\n",
       "      <td>3099.084</td>\n",
       "    </tr>\n",
       "    <tr>\n",
       "      <th>3</th>\n",
       "      <td>3100.034</td>\n",
       "    </tr>\n",
       "    <tr>\n",
       "      <th>4</th>\n",
       "      <td>3157.471</td>\n",
       "    </tr>\n",
       "    <tr>\n",
       "      <th>...</th>\n",
       "      <td>...</td>\n",
       "    </tr>\n",
       "    <tr>\n",
       "      <th>427</th>\n",
       "      <td>19864.424</td>\n",
       "    </tr>\n",
       "    <tr>\n",
       "      <th>428</th>\n",
       "      <td>22569.040</td>\n",
       "    </tr>\n",
       "    <tr>\n",
       "      <th>429</th>\n",
       "      <td>22668.526</td>\n",
       "    </tr>\n",
       "    <tr>\n",
       "      <th>430</th>\n",
       "      <td>23376.695</td>\n",
       "    </tr>\n",
       "    <tr>\n",
       "      <th>431</th>\n",
       "      <td>27633.534</td>\n",
       "    </tr>\n",
       "  </tbody>\n",
       "</table>\n",
       "<p>432 rows × 1 columns</p>\n",
       "</div>"
      ],
      "text/plain": [
       "           Y1A\n",
       "0     3033.379\n",
       "1     3073.310\n",
       "2     3099.084\n",
       "3     3100.034\n",
       "4     3157.471\n",
       "..         ...\n",
       "427  19864.424\n",
       "428  22569.040\n",
       "429  22668.526\n",
       "430  23376.695\n",
       "431  27633.534\n",
       "\n",
       "[432 rows x 1 columns]"
      ]
     },
     "execution_count": 75,
     "metadata": {},
     "output_type": "execute_result"
    }
   ],
   "source": [
    "# 2 \n",
    "cond1 = (df1_merge['Y1A'] >= 3000)\n",
    "\n",
    "df1_merge.loc[cond1].sort_values(by='Y1A', ascending=False).pivot_table(index='Y1A', values='tag', aggfunc='mean').reset_index()"
   ]
  },
  {
   "cell_type": "code",
   "execution_count": 78,
   "id": "71738aca",
   "metadata": {},
   "outputs": [],
   "source": [
    "# 3\n",
    "df1_merge['year'] = df1_merge['dt_round'].dt.year\n",
    "df1_merge['month'] = df1_merge['dt_round'].dt.month\n",
    "df1_merge['day'] = df1_merge['dt_round'].dt.day"
   ]
  },
  {
   "cell_type": "code",
   "execution_count": 209,
   "id": "00962bfe",
   "metadata": {},
   "outputs": [
    {
     "data": {
      "text/html": [
       "<div>\n",
       "<style scoped>\n",
       "    .dataframe tbody tr th:only-of-type {\n",
       "        vertical-align: middle;\n",
       "    }\n",
       "\n",
       "    .dataframe tbody tr th {\n",
       "        vertical-align: top;\n",
       "    }\n",
       "\n",
       "    .dataframe thead th {\n",
       "        text-align: right;\n",
       "    }\n",
       "</style>\n",
       "<table border=\"1\" class=\"dataframe\">\n",
       "  <thead>\n",
       "    <tr style=\"text-align: right;\">\n",
       "      <th></th>\n",
       "      <th>Y1A</th>\n",
       "      <th>day</th>\n",
       "    </tr>\n",
       "  </thead>\n",
       "  <tbody>\n",
       "    <tr>\n",
       "      <th>0</th>\n",
       "      <td>593.805</td>\n",
       "      <td>12</td>\n",
       "    </tr>\n",
       "    <tr>\n",
       "      <th>1</th>\n",
       "      <td>935.872</td>\n",
       "      <td>2</td>\n",
       "    </tr>\n",
       "    <tr>\n",
       "      <th>2</th>\n",
       "      <td>1082.057</td>\n",
       "      <td>7</td>\n",
       "    </tr>\n",
       "    <tr>\n",
       "      <th>3</th>\n",
       "      <td>1471.121</td>\n",
       "      <td>8</td>\n",
       "    </tr>\n",
       "    <tr>\n",
       "      <th>4</th>\n",
       "      <td>1541.965</td>\n",
       "      <td>9</td>\n",
       "    </tr>\n",
       "    <tr>\n",
       "      <th>...</th>\n",
       "      <td>...</td>\n",
       "      <td>...</td>\n",
       "    </tr>\n",
       "    <tr>\n",
       "      <th>469</th>\n",
       "      <td>19864.424</td>\n",
       "      <td>14</td>\n",
       "    </tr>\n",
       "    <tr>\n",
       "      <th>470</th>\n",
       "      <td>22569.040</td>\n",
       "      <td>3</td>\n",
       "    </tr>\n",
       "    <tr>\n",
       "      <th>471</th>\n",
       "      <td>22668.526</td>\n",
       "      <td>3</td>\n",
       "    </tr>\n",
       "    <tr>\n",
       "      <th>472</th>\n",
       "      <td>23376.695</td>\n",
       "      <td>5</td>\n",
       "    </tr>\n",
       "    <tr>\n",
       "      <th>473</th>\n",
       "      <td>27633.534</td>\n",
       "      <td>3</td>\n",
       "    </tr>\n",
       "  </tbody>\n",
       "</table>\n",
       "<p>474 rows × 2 columns</p>\n",
       "</div>"
      ],
      "text/plain": [
       "           Y1A  day\n",
       "0      593.805   12\n",
       "1      935.872    2\n",
       "2     1082.057    7\n",
       "3     1471.121    8\n",
       "4     1541.965    9\n",
       "..         ...  ...\n",
       "469  19864.424   14\n",
       "470  22569.040    3\n",
       "471  22668.526    3\n",
       "472  23376.695    5\n",
       "473  27633.534    3\n",
       "\n",
       "[474 rows x 2 columns]"
      ]
     },
     "execution_count": 209,
     "metadata": {},
     "output_type": "execute_result"
    }
   ],
   "source": [
    "# 4\n",
    "\n",
    "df1_merge.pivot_table(index='Y1A', values='day', aggfunc='sum').reset_index()"
   ]
  },
  {
   "cell_type": "code",
   "execution_count": 206,
   "id": "3a29b2c1",
   "metadata": {},
   "outputs": [
    {
     "data": {
      "text/html": [
       "<div>\n",
       "<style scoped>\n",
       "    .dataframe tbody tr th:only-of-type {\n",
       "        vertical-align: middle;\n",
       "    }\n",
       "\n",
       "    .dataframe tbody tr th {\n",
       "        vertical-align: top;\n",
       "    }\n",
       "\n",
       "    .dataframe thead th {\n",
       "        text-align: right;\n",
       "    }\n",
       "</style>\n",
       "<table border=\"1\" class=\"dataframe\">\n",
       "  <thead>\n",
       "    <tr style=\"text-align: right;\">\n",
       "      <th></th>\n",
       "      <th>Unnamed: 0.1</th>\n",
       "      <th>Unnamed: 0_x</th>\n",
       "      <th>A1</th>\n",
       "      <th>A2</th>\n",
       "      <th>A3</th>\n",
       "      <th>A4</th>\n",
       "      <th>A5</th>\n",
       "      <th>A6</th>\n",
       "      <th>Unnamed: 0_y</th>\n",
       "      <th>Y1A</th>\n",
       "      <th>Y2A</th>\n",
       "      <th>Y3A</th>\n",
       "      <th>year</th>\n",
       "      <th>month</th>\n",
       "      <th>day</th>\n",
       "    </tr>\n",
       "    <tr>\n",
       "      <th>dt_round</th>\n",
       "      <th></th>\n",
       "      <th></th>\n",
       "      <th></th>\n",
       "      <th></th>\n",
       "      <th></th>\n",
       "      <th></th>\n",
       "      <th></th>\n",
       "      <th></th>\n",
       "      <th></th>\n",
       "      <th></th>\n",
       "      <th></th>\n",
       "      <th></th>\n",
       "      <th></th>\n",
       "      <th></th>\n",
       "      <th></th>\n",
       "    </tr>\n",
       "  </thead>\n",
       "  <tbody>\n",
       "    <tr>\n",
       "      <th>2018-12-31</th>\n",
       "      <td>3140.0</td>\n",
       "      <td>3140.0</td>\n",
       "      <td>229.640614</td>\n",
       "      <td>230.526541</td>\n",
       "      <td>231.745779</td>\n",
       "      <td>230.559467</td>\n",
       "      <td>230.024288</td>\n",
       "      <td>228.097342</td>\n",
       "      <td>130.0</td>\n",
       "      <td>13168.03100</td>\n",
       "      <td>500.702000</td>\n",
       "      <td>272.5560</td>\n",
       "      <td>2018.0</td>\n",
       "      <td>12.0</td>\n",
       "      <td>31.0</td>\n",
       "    </tr>\n",
       "    <tr>\n",
       "      <th>2019-01-01</th>\n",
       "      <td>NaN</td>\n",
       "      <td>NaN</td>\n",
       "      <td>NaN</td>\n",
       "      <td>NaN</td>\n",
       "      <td>NaN</td>\n",
       "      <td>NaN</td>\n",
       "      <td>NaN</td>\n",
       "      <td>NaN</td>\n",
       "      <td>NaN</td>\n",
       "      <td>NaN</td>\n",
       "      <td>NaN</td>\n",
       "      <td>NaN</td>\n",
       "      <td>NaN</td>\n",
       "      <td>NaN</td>\n",
       "      <td>NaN</td>\n",
       "    </tr>\n",
       "    <tr>\n",
       "      <th>2019-01-02</th>\n",
       "      <td>NaN</td>\n",
       "      <td>NaN</td>\n",
       "      <td>NaN</td>\n",
       "      <td>NaN</td>\n",
       "      <td>NaN</td>\n",
       "      <td>NaN</td>\n",
       "      <td>NaN</td>\n",
       "      <td>NaN</td>\n",
       "      <td>NaN</td>\n",
       "      <td>NaN</td>\n",
       "      <td>NaN</td>\n",
       "      <td>NaN</td>\n",
       "      <td>NaN</td>\n",
       "      <td>NaN</td>\n",
       "      <td>NaN</td>\n",
       "    </tr>\n",
       "    <tr>\n",
       "      <th>2019-01-03</th>\n",
       "      <td>NaN</td>\n",
       "      <td>NaN</td>\n",
       "      <td>NaN</td>\n",
       "      <td>NaN</td>\n",
       "      <td>NaN</td>\n",
       "      <td>NaN</td>\n",
       "      <td>NaN</td>\n",
       "      <td>NaN</td>\n",
       "      <td>NaN</td>\n",
       "      <td>NaN</td>\n",
       "      <td>NaN</td>\n",
       "      <td>NaN</td>\n",
       "      <td>NaN</td>\n",
       "      <td>NaN</td>\n",
       "      <td>NaN</td>\n",
       "    </tr>\n",
       "    <tr>\n",
       "      <th>2019-01-04</th>\n",
       "      <td>NaN</td>\n",
       "      <td>NaN</td>\n",
       "      <td>NaN</td>\n",
       "      <td>NaN</td>\n",
       "      <td>NaN</td>\n",
       "      <td>NaN</td>\n",
       "      <td>NaN</td>\n",
       "      <td>NaN</td>\n",
       "      <td>NaN</td>\n",
       "      <td>NaN</td>\n",
       "      <td>NaN</td>\n",
       "      <td>NaN</td>\n",
       "      <td>NaN</td>\n",
       "      <td>NaN</td>\n",
       "      <td>NaN</td>\n",
       "    </tr>\n",
       "    <tr>\n",
       "      <th>...</th>\n",
       "      <td>...</td>\n",
       "      <td>...</td>\n",
       "      <td>...</td>\n",
       "      <td>...</td>\n",
       "      <td>...</td>\n",
       "      <td>...</td>\n",
       "      <td>...</td>\n",
       "      <td>...</td>\n",
       "      <td>...</td>\n",
       "      <td>...</td>\n",
       "      <td>...</td>\n",
       "      <td>...</td>\n",
       "      <td>...</td>\n",
       "      <td>...</td>\n",
       "      <td>...</td>\n",
       "    </tr>\n",
       "    <tr>\n",
       "      <th>2019-08-31</th>\n",
       "      <td>10160.0</td>\n",
       "      <td>10160.0</td>\n",
       "      <td>232.808470</td>\n",
       "      <td>234.007563</td>\n",
       "      <td>234.086042</td>\n",
       "      <td>233.710477</td>\n",
       "      <td>232.403670</td>\n",
       "      <td>230.382108</td>\n",
       "      <td>446.5</td>\n",
       "      <td>5830.62050</td>\n",
       "      <td>862.947667</td>\n",
       "      <td>679.1850</td>\n",
       "      <td>2019.0</td>\n",
       "      <td>8.0</td>\n",
       "      <td>31.0</td>\n",
       "    </tr>\n",
       "    <tr>\n",
       "      <th>2019-09-01</th>\n",
       "      <td>10244.0</td>\n",
       "      <td>10244.0</td>\n",
       "      <td>231.160515</td>\n",
       "      <td>232.527569</td>\n",
       "      <td>232.936724</td>\n",
       "      <td>232.567294</td>\n",
       "      <td>231.536508</td>\n",
       "      <td>229.565942</td>\n",
       "      <td>450.0</td>\n",
       "      <td>3761.68300</td>\n",
       "      <td>385.733000</td>\n",
       "      <td>374.4060</td>\n",
       "      <td>2019.0</td>\n",
       "      <td>9.0</td>\n",
       "      <td>1.0</td>\n",
       "    </tr>\n",
       "    <tr>\n",
       "      <th>2019-09-02</th>\n",
       "      <td>10388.0</td>\n",
       "      <td>10388.0</td>\n",
       "      <td>228.750878</td>\n",
       "      <td>230.333110</td>\n",
       "      <td>231.107782</td>\n",
       "      <td>230.821238</td>\n",
       "      <td>230.110581</td>\n",
       "      <td>228.090076</td>\n",
       "      <td>456.0</td>\n",
       "      <td>4395.01800</td>\n",
       "      <td>506.175000</td>\n",
       "      <td>452.3930</td>\n",
       "      <td>2019.0</td>\n",
       "      <td>9.0</td>\n",
       "      <td>2.0</td>\n",
       "    </tr>\n",
       "    <tr>\n",
       "      <th>2019-09-03</th>\n",
       "      <td>10626.5</td>\n",
       "      <td>10626.5</td>\n",
       "      <td>229.080202</td>\n",
       "      <td>230.538246</td>\n",
       "      <td>230.952562</td>\n",
       "      <td>230.760872</td>\n",
       "      <td>229.664479</td>\n",
       "      <td>227.767218</td>\n",
       "      <td>470.5</td>\n",
       "      <td>17627.53775</td>\n",
       "      <td>1603.387000</td>\n",
       "      <td>1304.5745</td>\n",
       "      <td>2019.0</td>\n",
       "      <td>9.0</td>\n",
       "      <td>3.0</td>\n",
       "    </tr>\n",
       "    <tr>\n",
       "      <th>2019-09-04</th>\n",
       "      <td>NaN</td>\n",
       "      <td>NaN</td>\n",
       "      <td>NaN</td>\n",
       "      <td>NaN</td>\n",
       "      <td>NaN</td>\n",
       "      <td>NaN</td>\n",
       "      <td>NaN</td>\n",
       "      <td>NaN</td>\n",
       "      <td>473.0</td>\n",
       "      <td>17484.66000</td>\n",
       "      <td>1599.893000</td>\n",
       "      <td>1170.4070</td>\n",
       "      <td>2019.0</td>\n",
       "      <td>9.0</td>\n",
       "      <td>4.0</td>\n",
       "    </tr>\n",
       "  </tbody>\n",
       "</table>\n",
       "<p>248 rows × 15 columns</p>\n",
       "</div>"
      ],
      "text/plain": [
       "            Unnamed: 0.1  Unnamed: 0_x          A1          A2          A3  \\\n",
       "dt_round                                                                     \n",
       "2018-12-31        3140.0        3140.0  229.640614  230.526541  231.745779   \n",
       "2019-01-01           NaN           NaN         NaN         NaN         NaN   \n",
       "2019-01-02           NaN           NaN         NaN         NaN         NaN   \n",
       "2019-01-03           NaN           NaN         NaN         NaN         NaN   \n",
       "2019-01-04           NaN           NaN         NaN         NaN         NaN   \n",
       "...                  ...           ...         ...         ...         ...   \n",
       "2019-08-31       10160.0       10160.0  232.808470  234.007563  234.086042   \n",
       "2019-09-01       10244.0       10244.0  231.160515  232.527569  232.936724   \n",
       "2019-09-02       10388.0       10388.0  228.750878  230.333110  231.107782   \n",
       "2019-09-03       10626.5       10626.5  229.080202  230.538246  230.952562   \n",
       "2019-09-04           NaN           NaN         NaN         NaN         NaN   \n",
       "\n",
       "                    A4          A5          A6  Unnamed: 0_y          Y1A  \\\n",
       "dt_round                                                                    \n",
       "2018-12-31  230.559467  230.024288  228.097342         130.0  13168.03100   \n",
       "2019-01-01         NaN         NaN         NaN           NaN          NaN   \n",
       "2019-01-02         NaN         NaN         NaN           NaN          NaN   \n",
       "2019-01-03         NaN         NaN         NaN           NaN          NaN   \n",
       "2019-01-04         NaN         NaN         NaN           NaN          NaN   \n",
       "...                ...         ...         ...           ...          ...   \n",
       "2019-08-31  233.710477  232.403670  230.382108         446.5   5830.62050   \n",
       "2019-09-01  232.567294  231.536508  229.565942         450.0   3761.68300   \n",
       "2019-09-02  230.821238  230.110581  228.090076         456.0   4395.01800   \n",
       "2019-09-03  230.760872  229.664479  227.767218         470.5  17627.53775   \n",
       "2019-09-04         NaN         NaN         NaN         473.0  17484.66000   \n",
       "\n",
       "                    Y2A        Y3A    year  month   day  \n",
       "dt_round                                                 \n",
       "2018-12-31   500.702000   272.5560  2018.0   12.0  31.0  \n",
       "2019-01-01          NaN        NaN     NaN    NaN   NaN  \n",
       "2019-01-02          NaN        NaN     NaN    NaN   NaN  \n",
       "2019-01-03          NaN        NaN     NaN    NaN   NaN  \n",
       "2019-01-04          NaN        NaN     NaN    NaN   NaN  \n",
       "...                 ...        ...     ...    ...   ...  \n",
       "2019-08-31   862.947667   679.1850  2019.0    8.0  31.0  \n",
       "2019-09-01   385.733000   374.4060  2019.0    9.0   1.0  \n",
       "2019-09-02   506.175000   452.3930  2019.0    9.0   2.0  \n",
       "2019-09-03  1603.387000  1304.5745  2019.0    9.0   3.0  \n",
       "2019-09-04  1599.893000  1170.4070  2019.0    9.0   4.0  \n",
       "\n",
       "[248 rows x 15 columns]"
      ]
     },
     "execution_count": 206,
     "metadata": {},
     "output_type": "execute_result"
    }
   ],
   "source": [
    "# 5. 'tag'항목에서 NE282PV 항목을 추출하여, **일별***로 A1~A6 평균을 계산\n",
    "#     (Pivot_table X / resample 사용)\n",
    "\n",
    "# # df1_merge['tag'].value_counts()\n",
    "# # cond1 = (df1_merge['day'].value_counts().values)\n",
    "# from imblearn.under_sampling import TomekLinks\n",
    "# df1_merge_A1_6 = df1_merge[['A1', 'A2', 'A3', 'A4', 'A5', 'A6']]\n",
    "\n",
    "\n",
    "cond1 = (df1_merge['tag'] == 'NE282PV') \n",
    "df1_merge.loc[cond1].set_index('dt_round').resample('D').mean()"
   ]
  },
  {
   "cell_type": "code",
   "execution_count": 186,
   "id": "391ae70a",
   "metadata": {},
   "outputs": [
    {
     "data": {
      "text/html": [
       "<style>#sk-container-id-3 {color: black;background-color: white;}#sk-container-id-3 pre{padding: 0;}#sk-container-id-3 div.sk-toggleable {background-color: white;}#sk-container-id-3 label.sk-toggleable__label {cursor: pointer;display: block;width: 100%;margin-bottom: 0;padding: 0.3em;box-sizing: border-box;text-align: center;}#sk-container-id-3 label.sk-toggleable__label-arrow:before {content: \"▸\";float: left;margin-right: 0.25em;color: #696969;}#sk-container-id-3 label.sk-toggleable__label-arrow:hover:before {color: black;}#sk-container-id-3 div.sk-estimator:hover label.sk-toggleable__label-arrow:before {color: black;}#sk-container-id-3 div.sk-toggleable__content {max-height: 0;max-width: 0;overflow: hidden;text-align: left;background-color: #f0f8ff;}#sk-container-id-3 div.sk-toggleable__content pre {margin: 0.2em;color: black;border-radius: 0.25em;background-color: #f0f8ff;}#sk-container-id-3 input.sk-toggleable__control:checked~div.sk-toggleable__content {max-height: 200px;max-width: 100%;overflow: auto;}#sk-container-id-3 input.sk-toggleable__control:checked~label.sk-toggleable__label-arrow:before {content: \"▾\";}#sk-container-id-3 div.sk-estimator input.sk-toggleable__control:checked~label.sk-toggleable__label {background-color: #d4ebff;}#sk-container-id-3 div.sk-label input.sk-toggleable__control:checked~label.sk-toggleable__label {background-color: #d4ebff;}#sk-container-id-3 input.sk-hidden--visually {border: 0;clip: rect(1px 1px 1px 1px);clip: rect(1px, 1px, 1px, 1px);height: 1px;margin: -1px;overflow: hidden;padding: 0;position: absolute;width: 1px;}#sk-container-id-3 div.sk-estimator {font-family: monospace;background-color: #f0f8ff;border: 1px dotted black;border-radius: 0.25em;box-sizing: border-box;margin-bottom: 0.5em;}#sk-container-id-3 div.sk-estimator:hover {background-color: #d4ebff;}#sk-container-id-3 div.sk-parallel-item::after {content: \"\";width: 100%;border-bottom: 1px solid gray;flex-grow: 1;}#sk-container-id-3 div.sk-label:hover label.sk-toggleable__label {background-color: #d4ebff;}#sk-container-id-3 div.sk-serial::before {content: \"\";position: absolute;border-left: 1px solid gray;box-sizing: border-box;top: 0;bottom: 0;left: 50%;z-index: 0;}#sk-container-id-3 div.sk-serial {display: flex;flex-direction: column;align-items: center;background-color: white;padding-right: 0.2em;padding-left: 0.2em;position: relative;}#sk-container-id-3 div.sk-item {position: relative;z-index: 1;}#sk-container-id-3 div.sk-parallel {display: flex;align-items: stretch;justify-content: center;background-color: white;position: relative;}#sk-container-id-3 div.sk-item::before, #sk-container-id-3 div.sk-parallel-item::before {content: \"\";position: absolute;border-left: 1px solid gray;box-sizing: border-box;top: 0;bottom: 0;left: 50%;z-index: -1;}#sk-container-id-3 div.sk-parallel-item {display: flex;flex-direction: column;z-index: 1;position: relative;background-color: white;}#sk-container-id-3 div.sk-parallel-item:first-child::after {align-self: flex-end;width: 50%;}#sk-container-id-3 div.sk-parallel-item:last-child::after {align-self: flex-start;width: 50%;}#sk-container-id-3 div.sk-parallel-item:only-child::after {width: 0;}#sk-container-id-3 div.sk-dashed-wrapped {border: 1px dashed gray;margin: 0 0.4em 0.5em 0.4em;box-sizing: border-box;padding-bottom: 0.4em;background-color: white;}#sk-container-id-3 div.sk-label label {font-family: monospace;font-weight: bold;display: inline-block;line-height: 1.2em;}#sk-container-id-3 div.sk-label-container {text-align: center;}#sk-container-id-3 div.sk-container {/* jupyter's `normalize.less` sets `[hidden] { display: none; }` but bootstrap.min.css set `[hidden] { display: none !important; }` so we also need the `!important` here to be able to override the default hidden behavior on the sphinx rendered scikit-learn.org. See: https://github.com/scikit-learn/scikit-learn/issues/21755 */display: inline-block !important;position: relative;}#sk-container-id-3 div.sk-text-repr-fallback {display: none;}</style><div id=\"sk-container-id-3\" class=\"sk-top-container\"><div class=\"sk-text-repr-fallback\"><pre>RandomUnderSampler()</pre><b>In a Jupyter environment, please rerun this cell to show the HTML representation or trust the notebook. <br />On GitHub, the HTML representation is unable to render, please try loading this page with nbviewer.org.</b></div><div class=\"sk-container\" hidden><div class=\"sk-item\"><div class=\"sk-estimator sk-toggleable\"><input class=\"sk-toggleable__control sk-hidden--visually\" id=\"sk-estimator-id-9\" type=\"checkbox\" checked><label for=\"sk-estimator-id-9\" class=\"sk-toggleable__label sk-toggleable__label-arrow\">RandomUnderSampler</label><div class=\"sk-toggleable__content\"><pre>RandomUnderSampler()</pre></div></div></div></div></div>"
      ],
      "text/plain": [
       "RandomUnderSampler()"
      ]
     },
     "execution_count": 186,
     "metadata": {},
     "output_type": "execute_result"
    }
   ],
   "source": [
    "from imblearn.under_sampling import RandomUnderSampler\n",
    "under_sampler = RandomUnderSampler()\n",
    "under_sampler.fit(df1_merge_A1_6, df1_merge['Target'])"
   ]
  },
  {
   "cell_type": "code",
   "execution_count": 210,
   "id": "421905eb",
   "metadata": {},
   "outputs": [
    {
     "data": {
      "text/html": [
       "<div>\n",
       "<style scoped>\n",
       "    .dataframe tbody tr th:only-of-type {\n",
       "        vertical-align: middle;\n",
       "    }\n",
       "\n",
       "    .dataframe tbody tr th {\n",
       "        vertical-align: top;\n",
       "    }\n",
       "\n",
       "    .dataframe thead th {\n",
       "        text-align: right;\n",
       "    }\n",
       "</style>\n",
       "<table border=\"1\" class=\"dataframe\">\n",
       "  <thead>\n",
       "    <tr style=\"text-align: right;\">\n",
       "      <th></th>\n",
       "      <th>index</th>\n",
       "      <th>A1</th>\n",
       "    </tr>\n",
       "  </thead>\n",
       "  <tbody>\n",
       "    <tr>\n",
       "      <th>0</th>\n",
       "      <td>0</td>\n",
       "      <td>224.638902</td>\n",
       "    </tr>\n",
       "    <tr>\n",
       "      <th>1</th>\n",
       "      <td>1</td>\n",
       "      <td>225.430882</td>\n",
       "    </tr>\n",
       "    <tr>\n",
       "      <th>2</th>\n",
       "      <td>2</td>\n",
       "      <td>229.063690</td>\n",
       "    </tr>\n",
       "    <tr>\n",
       "      <th>3</th>\n",
       "      <td>3</td>\n",
       "      <td>228.312661</td>\n",
       "    </tr>\n",
       "    <tr>\n",
       "      <th>4</th>\n",
       "      <td>4</td>\n",
       "      <td>229.209428</td>\n",
       "    </tr>\n",
       "    <tr>\n",
       "      <th>...</th>\n",
       "      <td>...</td>\n",
       "      <td>...</td>\n",
       "    </tr>\n",
       "    <tr>\n",
       "      <th>443</th>\n",
       "      <td>468</td>\n",
       "      <td>229.108532</td>\n",
       "    </tr>\n",
       "    <tr>\n",
       "      <th>444</th>\n",
       "      <td>469</td>\n",
       "      <td>228.894231</td>\n",
       "    </tr>\n",
       "    <tr>\n",
       "      <th>445</th>\n",
       "      <td>470</td>\n",
       "      <td>229.004528</td>\n",
       "    </tr>\n",
       "    <tr>\n",
       "      <th>446</th>\n",
       "      <td>471</td>\n",
       "      <td>229.249716</td>\n",
       "    </tr>\n",
       "    <tr>\n",
       "      <th>447</th>\n",
       "      <td>472</td>\n",
       "      <td>229.172333</td>\n",
       "    </tr>\n",
       "  </tbody>\n",
       "</table>\n",
       "<p>448 rows × 2 columns</p>\n",
       "</div>"
      ],
      "text/plain": [
       "     index          A1\n",
       "0        0  224.638902\n",
       "1        1  225.430882\n",
       "2        2  229.063690\n",
       "3        3  228.312661\n",
       "4        4  229.209428\n",
       "..     ...         ...\n",
       "443    468  229.108532\n",
       "444    469  228.894231\n",
       "445    470  229.004528\n",
       "446    471  229.249716\n",
       "447    472  229.172333\n",
       "\n",
       "[448 rows x 2 columns]"
      ]
     },
     "execution_count": 210,
     "metadata": {},
     "output_type": "execute_result"
    }
   ],
   "source": [
    "df1_A1_Xbar"
   ]
  },
  {
   "cell_type": "code",
   "execution_count": 94,
   "id": "a8920962",
   "metadata": {},
   "outputs": [
    {
     "data": {
      "application/vnd.plotly.v1+json": {
       "config": {
        "plotlyServerURL": "https://plot.ly"
       },
       "data": [
        {
         "hovertemplate": "index=%{x}<br>A1=%{y}<extra></extra>",
         "legendgroup": "",
         "line": {
          "color": "#636efa",
          "dash": "solid"
         },
         "marker": {
          "symbol": "circle"
         },
         "mode": "markers+lines",
         "name": "",
         "orientation": "v",
         "showlegend": false,
         "type": "scatter",
         "x": [
          0,
          1,
          2,
          3,
          4,
          5,
          6,
          7,
          8,
          9,
          10,
          11,
          12,
          13,
          14,
          15,
          16,
          17,
          18,
          19,
          20,
          21,
          22,
          23,
          24,
          25,
          26,
          27,
          28,
          29
         ],
         "xaxis": "x",
         "y": [
          224.63890185,
          225.43088238,
          229.06368972,
          228.31266102,
          229.20942762,
          228.25769517,
          228.14226939,
          229.15951499,
          228.34293167,
          227.17251338,
          227.9999929,
          228.10418029,
          228.0993377,
          229.26470176,
          229.20468972,
          229.34536248,
          230.5505846,
          229.16358760000003,
          229.30738648,
          229.0706221,
          229.25195934,
          229.34426994,
          230.3494853,
          230.10470858,
          231.48855755,
          228.98930543,
          229.63526287,
          229.74623887,
          229.85963606,
          230.76156389
         ],
         "yaxis": "y"
        }
       ],
       "layout": {
        "legend": {
         "tracegroupgap": 0
        },
        "margin": {
         "t": 60
        },
        "shapes": [
         {
          "line": {
           "color": "Blue"
          },
          "type": "line",
          "x0": 0,
          "x1": 1,
          "xref": "x domain",
          "y0": 228.97886804517844,
          "y1": 228.97886804517844,
          "yref": "y"
         },
         {
          "line": {
           "color": "Red"
          },
          "type": "line",
          "x0": 0,
          "x1": 1,
          "xref": "x domain",
          "y0": 286.0241390973188,
          "y1": 286.0241390973188,
          "yref": "y"
         },
         {
          "line": {
           "color": "Red"
          },
          "type": "line",
          "x0": 0,
          "x1": 1,
          "xref": "x domain",
          "y0": 171.93359699303807,
          "y1": 171.93359699303807,
          "yref": "y"
         }
        ],
        "template": {
         "data": {
          "bar": [
           {
            "error_x": {
             "color": "#2a3f5f"
            },
            "error_y": {
             "color": "#2a3f5f"
            },
            "marker": {
             "line": {
              "color": "#E5ECF6",
              "width": 0.5
             },
             "pattern": {
              "fillmode": "overlay",
              "size": 10,
              "solidity": 0.2
             }
            },
            "type": "bar"
           }
          ],
          "barpolar": [
           {
            "marker": {
             "line": {
              "color": "#E5ECF6",
              "width": 0.5
             },
             "pattern": {
              "fillmode": "overlay",
              "size": 10,
              "solidity": 0.2
             }
            },
            "type": "barpolar"
           }
          ],
          "carpet": [
           {
            "aaxis": {
             "endlinecolor": "#2a3f5f",
             "gridcolor": "white",
             "linecolor": "white",
             "minorgridcolor": "white",
             "startlinecolor": "#2a3f5f"
            },
            "baxis": {
             "endlinecolor": "#2a3f5f",
             "gridcolor": "white",
             "linecolor": "white",
             "minorgridcolor": "white",
             "startlinecolor": "#2a3f5f"
            },
            "type": "carpet"
           }
          ],
          "choropleth": [
           {
            "colorbar": {
             "outlinewidth": 0,
             "ticks": ""
            },
            "type": "choropleth"
           }
          ],
          "contour": [
           {
            "colorbar": {
             "outlinewidth": 0,
             "ticks": ""
            },
            "colorscale": [
             [
              0,
              "#0d0887"
             ],
             [
              0.1111111111111111,
              "#46039f"
             ],
             [
              0.2222222222222222,
              "#7201a8"
             ],
             [
              0.3333333333333333,
              "#9c179e"
             ],
             [
              0.4444444444444444,
              "#bd3786"
             ],
             [
              0.5555555555555556,
              "#d8576b"
             ],
             [
              0.6666666666666666,
              "#ed7953"
             ],
             [
              0.7777777777777778,
              "#fb9f3a"
             ],
             [
              0.8888888888888888,
              "#fdca26"
             ],
             [
              1,
              "#f0f921"
             ]
            ],
            "type": "contour"
           }
          ],
          "contourcarpet": [
           {
            "colorbar": {
             "outlinewidth": 0,
             "ticks": ""
            },
            "type": "contourcarpet"
           }
          ],
          "heatmap": [
           {
            "colorbar": {
             "outlinewidth": 0,
             "ticks": ""
            },
            "colorscale": [
             [
              0,
              "#0d0887"
             ],
             [
              0.1111111111111111,
              "#46039f"
             ],
             [
              0.2222222222222222,
              "#7201a8"
             ],
             [
              0.3333333333333333,
              "#9c179e"
             ],
             [
              0.4444444444444444,
              "#bd3786"
             ],
             [
              0.5555555555555556,
              "#d8576b"
             ],
             [
              0.6666666666666666,
              "#ed7953"
             ],
             [
              0.7777777777777778,
              "#fb9f3a"
             ],
             [
              0.8888888888888888,
              "#fdca26"
             ],
             [
              1,
              "#f0f921"
             ]
            ],
            "type": "heatmap"
           }
          ],
          "heatmapgl": [
           {
            "colorbar": {
             "outlinewidth": 0,
             "ticks": ""
            },
            "colorscale": [
             [
              0,
              "#0d0887"
             ],
             [
              0.1111111111111111,
              "#46039f"
             ],
             [
              0.2222222222222222,
              "#7201a8"
             ],
             [
              0.3333333333333333,
              "#9c179e"
             ],
             [
              0.4444444444444444,
              "#bd3786"
             ],
             [
              0.5555555555555556,
              "#d8576b"
             ],
             [
              0.6666666666666666,
              "#ed7953"
             ],
             [
              0.7777777777777778,
              "#fb9f3a"
             ],
             [
              0.8888888888888888,
              "#fdca26"
             ],
             [
              1,
              "#f0f921"
             ]
            ],
            "type": "heatmapgl"
           }
          ],
          "histogram": [
           {
            "marker": {
             "pattern": {
              "fillmode": "overlay",
              "size": 10,
              "solidity": 0.2
             }
            },
            "type": "histogram"
           }
          ],
          "histogram2d": [
           {
            "colorbar": {
             "outlinewidth": 0,
             "ticks": ""
            },
            "colorscale": [
             [
              0,
              "#0d0887"
             ],
             [
              0.1111111111111111,
              "#46039f"
             ],
             [
              0.2222222222222222,
              "#7201a8"
             ],
             [
              0.3333333333333333,
              "#9c179e"
             ],
             [
              0.4444444444444444,
              "#bd3786"
             ],
             [
              0.5555555555555556,
              "#d8576b"
             ],
             [
              0.6666666666666666,
              "#ed7953"
             ],
             [
              0.7777777777777778,
              "#fb9f3a"
             ],
             [
              0.8888888888888888,
              "#fdca26"
             ],
             [
              1,
              "#f0f921"
             ]
            ],
            "type": "histogram2d"
           }
          ],
          "histogram2dcontour": [
           {
            "colorbar": {
             "outlinewidth": 0,
             "ticks": ""
            },
            "colorscale": [
             [
              0,
              "#0d0887"
             ],
             [
              0.1111111111111111,
              "#46039f"
             ],
             [
              0.2222222222222222,
              "#7201a8"
             ],
             [
              0.3333333333333333,
              "#9c179e"
             ],
             [
              0.4444444444444444,
              "#bd3786"
             ],
             [
              0.5555555555555556,
              "#d8576b"
             ],
             [
              0.6666666666666666,
              "#ed7953"
             ],
             [
              0.7777777777777778,
              "#fb9f3a"
             ],
             [
              0.8888888888888888,
              "#fdca26"
             ],
             [
              1,
              "#f0f921"
             ]
            ],
            "type": "histogram2dcontour"
           }
          ],
          "mesh3d": [
           {
            "colorbar": {
             "outlinewidth": 0,
             "ticks": ""
            },
            "type": "mesh3d"
           }
          ],
          "parcoords": [
           {
            "line": {
             "colorbar": {
              "outlinewidth": 0,
              "ticks": ""
             }
            },
            "type": "parcoords"
           }
          ],
          "pie": [
           {
            "automargin": true,
            "type": "pie"
           }
          ],
          "scatter": [
           {
            "marker": {
             "colorbar": {
              "outlinewidth": 0,
              "ticks": ""
             }
            },
            "type": "scatter"
           }
          ],
          "scatter3d": [
           {
            "line": {
             "colorbar": {
              "outlinewidth": 0,
              "ticks": ""
             }
            },
            "marker": {
             "colorbar": {
              "outlinewidth": 0,
              "ticks": ""
             }
            },
            "type": "scatter3d"
           }
          ],
          "scattercarpet": [
           {
            "marker": {
             "colorbar": {
              "outlinewidth": 0,
              "ticks": ""
             }
            },
            "type": "scattercarpet"
           }
          ],
          "scattergeo": [
           {
            "marker": {
             "colorbar": {
              "outlinewidth": 0,
              "ticks": ""
             }
            },
            "type": "scattergeo"
           }
          ],
          "scattergl": [
           {
            "marker": {
             "colorbar": {
              "outlinewidth": 0,
              "ticks": ""
             }
            },
            "type": "scattergl"
           }
          ],
          "scattermapbox": [
           {
            "marker": {
             "colorbar": {
              "outlinewidth": 0,
              "ticks": ""
             }
            },
            "type": "scattermapbox"
           }
          ],
          "scatterpolar": [
           {
            "marker": {
             "colorbar": {
              "outlinewidth": 0,
              "ticks": ""
             }
            },
            "type": "scatterpolar"
           }
          ],
          "scatterpolargl": [
           {
            "marker": {
             "colorbar": {
              "outlinewidth": 0,
              "ticks": ""
             }
            },
            "type": "scatterpolargl"
           }
          ],
          "scatterternary": [
           {
            "marker": {
             "colorbar": {
              "outlinewidth": 0,
              "ticks": ""
             }
            },
            "type": "scatterternary"
           }
          ],
          "surface": [
           {
            "colorbar": {
             "outlinewidth": 0,
             "ticks": ""
            },
            "colorscale": [
             [
              0,
              "#0d0887"
             ],
             [
              0.1111111111111111,
              "#46039f"
             ],
             [
              0.2222222222222222,
              "#7201a8"
             ],
             [
              0.3333333333333333,
              "#9c179e"
             ],
             [
              0.4444444444444444,
              "#bd3786"
             ],
             [
              0.5555555555555556,
              "#d8576b"
             ],
             [
              0.6666666666666666,
              "#ed7953"
             ],
             [
              0.7777777777777778,
              "#fb9f3a"
             ],
             [
              0.8888888888888888,
              "#fdca26"
             ],
             [
              1,
              "#f0f921"
             ]
            ],
            "type": "surface"
           }
          ],
          "table": [
           {
            "cells": {
             "fill": {
              "color": "#EBF0F8"
             },
             "line": {
              "color": "white"
             }
            },
            "header": {
             "fill": {
              "color": "#C8D4E3"
             },
             "line": {
              "color": "white"
             }
            },
            "type": "table"
           }
          ]
         },
         "layout": {
          "annotationdefaults": {
           "arrowcolor": "#2a3f5f",
           "arrowhead": 0,
           "arrowwidth": 1
          },
          "autotypenumbers": "strict",
          "coloraxis": {
           "colorbar": {
            "outlinewidth": 0,
            "ticks": ""
           }
          },
          "colorscale": {
           "diverging": [
            [
             0,
             "#8e0152"
            ],
            [
             0.1,
             "#c51b7d"
            ],
            [
             0.2,
             "#de77ae"
            ],
            [
             0.3,
             "#f1b6da"
            ],
            [
             0.4,
             "#fde0ef"
            ],
            [
             0.5,
             "#f7f7f7"
            ],
            [
             0.6,
             "#e6f5d0"
            ],
            [
             0.7,
             "#b8e186"
            ],
            [
             0.8,
             "#7fbc41"
            ],
            [
             0.9,
             "#4d9221"
            ],
            [
             1,
             "#276419"
            ]
           ],
           "sequential": [
            [
             0,
             "#0d0887"
            ],
            [
             0.1111111111111111,
             "#46039f"
            ],
            [
             0.2222222222222222,
             "#7201a8"
            ],
            [
             0.3333333333333333,
             "#9c179e"
            ],
            [
             0.4444444444444444,
             "#bd3786"
            ],
            [
             0.5555555555555556,
             "#d8576b"
            ],
            [
             0.6666666666666666,
             "#ed7953"
            ],
            [
             0.7777777777777778,
             "#fb9f3a"
            ],
            [
             0.8888888888888888,
             "#fdca26"
            ],
            [
             1,
             "#f0f921"
            ]
           ],
           "sequentialminus": [
            [
             0,
             "#0d0887"
            ],
            [
             0.1111111111111111,
             "#46039f"
            ],
            [
             0.2222222222222222,
             "#7201a8"
            ],
            [
             0.3333333333333333,
             "#9c179e"
            ],
            [
             0.4444444444444444,
             "#bd3786"
            ],
            [
             0.5555555555555556,
             "#d8576b"
            ],
            [
             0.6666666666666666,
             "#ed7953"
            ],
            [
             0.7777777777777778,
             "#fb9f3a"
            ],
            [
             0.8888888888888888,
             "#fdca26"
            ],
            [
             1,
             "#f0f921"
            ]
           ]
          },
          "colorway": [
           "#636efa",
           "#EF553B",
           "#00cc96",
           "#ab63fa",
           "#FFA15A",
           "#19d3f3",
           "#FF6692",
           "#B6E880",
           "#FF97FF",
           "#FECB52"
          ],
          "font": {
           "color": "#2a3f5f"
          },
          "geo": {
           "bgcolor": "white",
           "lakecolor": "white",
           "landcolor": "#E5ECF6",
           "showlakes": true,
           "showland": true,
           "subunitcolor": "white"
          },
          "hoverlabel": {
           "align": "left"
          },
          "hovermode": "closest",
          "mapbox": {
           "style": "light"
          },
          "paper_bgcolor": "white",
          "plot_bgcolor": "#E5ECF6",
          "polar": {
           "angularaxis": {
            "gridcolor": "white",
            "linecolor": "white",
            "ticks": ""
           },
           "bgcolor": "#E5ECF6",
           "radialaxis": {
            "gridcolor": "white",
            "linecolor": "white",
            "ticks": ""
           }
          },
          "scene": {
           "xaxis": {
            "backgroundcolor": "#E5ECF6",
            "gridcolor": "white",
            "gridwidth": 2,
            "linecolor": "white",
            "showbackground": true,
            "ticks": "",
            "zerolinecolor": "white"
           },
           "yaxis": {
            "backgroundcolor": "#E5ECF6",
            "gridcolor": "white",
            "gridwidth": 2,
            "linecolor": "white",
            "showbackground": true,
            "ticks": "",
            "zerolinecolor": "white"
           },
           "zaxis": {
            "backgroundcolor": "#E5ECF6",
            "gridcolor": "white",
            "gridwidth": 2,
            "linecolor": "white",
            "showbackground": true,
            "ticks": "",
            "zerolinecolor": "white"
           }
          },
          "shapedefaults": {
           "line": {
            "color": "#2a3f5f"
           }
          },
          "ternary": {
           "aaxis": {
            "gridcolor": "white",
            "linecolor": "white",
            "ticks": ""
           },
           "baxis": {
            "gridcolor": "white",
            "linecolor": "white",
            "ticks": ""
           },
           "bgcolor": "#E5ECF6",
           "caxis": {
            "gridcolor": "white",
            "linecolor": "white",
            "ticks": ""
           }
          },
          "title": {
           "x": 0.05
          },
          "xaxis": {
           "automargin": true,
           "gridcolor": "white",
           "linecolor": "white",
           "ticks": "",
           "title": {
            "standoff": 15
           },
           "zerolinecolor": "white",
           "zerolinewidth": 2
          },
          "yaxis": {
           "automargin": true,
           "gridcolor": "white",
           "linecolor": "white",
           "ticks": "",
           "title": {
            "standoff": 15
           },
           "zerolinecolor": "white",
           "zerolinewidth": 2
          }
         }
        },
        "xaxis": {
         "anchor": "y",
         "domain": [
          0,
          1
         ],
         "title": {
          "text": "index"
         }
        },
        "yaxis": {
         "anchor": "x",
         "domain": [
          0,
          1
         ],
         "range": [
          161.93359699303807,
          296.0241390973188
         ],
         "title": {
          "text": "A1"
         }
        }
       }
      },
      "text/html": [
       "<div>                            <div id=\"f621e744-9fdf-43a9-bd83-b7105f34fe55\" class=\"plotly-graph-div\" style=\"height:525px; width:100%;\"></div>            <script type=\"text/javascript\">                require([\"plotly\"], function(Plotly) {                    window.PLOTLYENV=window.PLOTLYENV || {};                                    if (document.getElementById(\"f621e744-9fdf-43a9-bd83-b7105f34fe55\")) {                    Plotly.newPlot(                        \"f621e744-9fdf-43a9-bd83-b7105f34fe55\",                        [{\"hovertemplate\":\"index=%{x}<br>A1=%{y}<extra></extra>\",\"legendgroup\":\"\",\"line\":{\"color\":\"#636efa\",\"dash\":\"solid\"},\"marker\":{\"symbol\":\"circle\"},\"mode\":\"markers+lines\",\"name\":\"\",\"orientation\":\"v\",\"showlegend\":false,\"x\":[0,1,2,3,4,5,6,7,8,9,10,11,12,13,14,15,16,17,18,19,20,21,22,23,24,25,26,27,28,29],\"xaxis\":\"x\",\"y\":[224.63890185,225.43088238,229.06368972,228.31266102,229.20942762,228.25769517,228.14226939,229.15951499,228.34293167,227.17251338,227.9999929,228.10418029,228.0993377,229.26470176,229.20468972,229.34536248,230.5505846,229.16358760000003,229.30738648,229.0706221,229.25195934,229.34426994,230.3494853,230.10470858,231.48855755,228.98930543,229.63526287,229.74623887,229.85963606,230.76156389],\"yaxis\":\"y\",\"type\":\"scatter\"}],                        {\"template\":{\"data\":{\"bar\":[{\"error_x\":{\"color\":\"#2a3f5f\"},\"error_y\":{\"color\":\"#2a3f5f\"},\"marker\":{\"line\":{\"color\":\"#E5ECF6\",\"width\":0.5},\"pattern\":{\"fillmode\":\"overlay\",\"size\":10,\"solidity\":0.2}},\"type\":\"bar\"}],\"barpolar\":[{\"marker\":{\"line\":{\"color\":\"#E5ECF6\",\"width\":0.5},\"pattern\":{\"fillmode\":\"overlay\",\"size\":10,\"solidity\":0.2}},\"type\":\"barpolar\"}],\"carpet\":[{\"aaxis\":{\"endlinecolor\":\"#2a3f5f\",\"gridcolor\":\"white\",\"linecolor\":\"white\",\"minorgridcolor\":\"white\",\"startlinecolor\":\"#2a3f5f\"},\"baxis\":{\"endlinecolor\":\"#2a3f5f\",\"gridcolor\":\"white\",\"linecolor\":\"white\",\"minorgridcolor\":\"white\",\"startlinecolor\":\"#2a3f5f\"},\"type\":\"carpet\"}],\"choropleth\":[{\"colorbar\":{\"outlinewidth\":0,\"ticks\":\"\"},\"type\":\"choropleth\"}],\"contour\":[{\"colorbar\":{\"outlinewidth\":0,\"ticks\":\"\"},\"colorscale\":[[0.0,\"#0d0887\"],[0.1111111111111111,\"#46039f\"],[0.2222222222222222,\"#7201a8\"],[0.3333333333333333,\"#9c179e\"],[0.4444444444444444,\"#bd3786\"],[0.5555555555555556,\"#d8576b\"],[0.6666666666666666,\"#ed7953\"],[0.7777777777777778,\"#fb9f3a\"],[0.8888888888888888,\"#fdca26\"],[1.0,\"#f0f921\"]],\"type\":\"contour\"}],\"contourcarpet\":[{\"colorbar\":{\"outlinewidth\":0,\"ticks\":\"\"},\"type\":\"contourcarpet\"}],\"heatmap\":[{\"colorbar\":{\"outlinewidth\":0,\"ticks\":\"\"},\"colorscale\":[[0.0,\"#0d0887\"],[0.1111111111111111,\"#46039f\"],[0.2222222222222222,\"#7201a8\"],[0.3333333333333333,\"#9c179e\"],[0.4444444444444444,\"#bd3786\"],[0.5555555555555556,\"#d8576b\"],[0.6666666666666666,\"#ed7953\"],[0.7777777777777778,\"#fb9f3a\"],[0.8888888888888888,\"#fdca26\"],[1.0,\"#f0f921\"]],\"type\":\"heatmap\"}],\"heatmapgl\":[{\"colorbar\":{\"outlinewidth\":0,\"ticks\":\"\"},\"colorscale\":[[0.0,\"#0d0887\"],[0.1111111111111111,\"#46039f\"],[0.2222222222222222,\"#7201a8\"],[0.3333333333333333,\"#9c179e\"],[0.4444444444444444,\"#bd3786\"],[0.5555555555555556,\"#d8576b\"],[0.6666666666666666,\"#ed7953\"],[0.7777777777777778,\"#fb9f3a\"],[0.8888888888888888,\"#fdca26\"],[1.0,\"#f0f921\"]],\"type\":\"heatmapgl\"}],\"histogram\":[{\"marker\":{\"pattern\":{\"fillmode\":\"overlay\",\"size\":10,\"solidity\":0.2}},\"type\":\"histogram\"}],\"histogram2d\":[{\"colorbar\":{\"outlinewidth\":0,\"ticks\":\"\"},\"colorscale\":[[0.0,\"#0d0887\"],[0.1111111111111111,\"#46039f\"],[0.2222222222222222,\"#7201a8\"],[0.3333333333333333,\"#9c179e\"],[0.4444444444444444,\"#bd3786\"],[0.5555555555555556,\"#d8576b\"],[0.6666666666666666,\"#ed7953\"],[0.7777777777777778,\"#fb9f3a\"],[0.8888888888888888,\"#fdca26\"],[1.0,\"#f0f921\"]],\"type\":\"histogram2d\"}],\"histogram2dcontour\":[{\"colorbar\":{\"outlinewidth\":0,\"ticks\":\"\"},\"colorscale\":[[0.0,\"#0d0887\"],[0.1111111111111111,\"#46039f\"],[0.2222222222222222,\"#7201a8\"],[0.3333333333333333,\"#9c179e\"],[0.4444444444444444,\"#bd3786\"],[0.5555555555555556,\"#d8576b\"],[0.6666666666666666,\"#ed7953\"],[0.7777777777777778,\"#fb9f3a\"],[0.8888888888888888,\"#fdca26\"],[1.0,\"#f0f921\"]],\"type\":\"histogram2dcontour\"}],\"mesh3d\":[{\"colorbar\":{\"outlinewidth\":0,\"ticks\":\"\"},\"type\":\"mesh3d\"}],\"parcoords\":[{\"line\":{\"colorbar\":{\"outlinewidth\":0,\"ticks\":\"\"}},\"type\":\"parcoords\"}],\"pie\":[{\"automargin\":true,\"type\":\"pie\"}],\"scatter\":[{\"marker\":{\"colorbar\":{\"outlinewidth\":0,\"ticks\":\"\"}},\"type\":\"scatter\"}],\"scatter3d\":[{\"line\":{\"colorbar\":{\"outlinewidth\":0,\"ticks\":\"\"}},\"marker\":{\"colorbar\":{\"outlinewidth\":0,\"ticks\":\"\"}},\"type\":\"scatter3d\"}],\"scattercarpet\":[{\"marker\":{\"colorbar\":{\"outlinewidth\":0,\"ticks\":\"\"}},\"type\":\"scattercarpet\"}],\"scattergeo\":[{\"marker\":{\"colorbar\":{\"outlinewidth\":0,\"ticks\":\"\"}},\"type\":\"scattergeo\"}],\"scattergl\":[{\"marker\":{\"colorbar\":{\"outlinewidth\":0,\"ticks\":\"\"}},\"type\":\"scattergl\"}],\"scattermapbox\":[{\"marker\":{\"colorbar\":{\"outlinewidth\":0,\"ticks\":\"\"}},\"type\":\"scattermapbox\"}],\"scatterpolar\":[{\"marker\":{\"colorbar\":{\"outlinewidth\":0,\"ticks\":\"\"}},\"type\":\"scatterpolar\"}],\"scatterpolargl\":[{\"marker\":{\"colorbar\":{\"outlinewidth\":0,\"ticks\":\"\"}},\"type\":\"scatterpolargl\"}],\"scatterternary\":[{\"marker\":{\"colorbar\":{\"outlinewidth\":0,\"ticks\":\"\"}},\"type\":\"scatterternary\"}],\"surface\":[{\"colorbar\":{\"outlinewidth\":0,\"ticks\":\"\"},\"colorscale\":[[0.0,\"#0d0887\"],[0.1111111111111111,\"#46039f\"],[0.2222222222222222,\"#7201a8\"],[0.3333333333333333,\"#9c179e\"],[0.4444444444444444,\"#bd3786\"],[0.5555555555555556,\"#d8576b\"],[0.6666666666666666,\"#ed7953\"],[0.7777777777777778,\"#fb9f3a\"],[0.8888888888888888,\"#fdca26\"],[1.0,\"#f0f921\"]],\"type\":\"surface\"}],\"table\":[{\"cells\":{\"fill\":{\"color\":\"#EBF0F8\"},\"line\":{\"color\":\"white\"}},\"header\":{\"fill\":{\"color\":\"#C8D4E3\"},\"line\":{\"color\":\"white\"}},\"type\":\"table\"}]},\"layout\":{\"annotationdefaults\":{\"arrowcolor\":\"#2a3f5f\",\"arrowhead\":0,\"arrowwidth\":1},\"autotypenumbers\":\"strict\",\"coloraxis\":{\"colorbar\":{\"outlinewidth\":0,\"ticks\":\"\"}},\"colorscale\":{\"diverging\":[[0,\"#8e0152\"],[0.1,\"#c51b7d\"],[0.2,\"#de77ae\"],[0.3,\"#f1b6da\"],[0.4,\"#fde0ef\"],[0.5,\"#f7f7f7\"],[0.6,\"#e6f5d0\"],[0.7,\"#b8e186\"],[0.8,\"#7fbc41\"],[0.9,\"#4d9221\"],[1,\"#276419\"]],\"sequential\":[[0.0,\"#0d0887\"],[0.1111111111111111,\"#46039f\"],[0.2222222222222222,\"#7201a8\"],[0.3333333333333333,\"#9c179e\"],[0.4444444444444444,\"#bd3786\"],[0.5555555555555556,\"#d8576b\"],[0.6666666666666666,\"#ed7953\"],[0.7777777777777778,\"#fb9f3a\"],[0.8888888888888888,\"#fdca26\"],[1.0,\"#f0f921\"]],\"sequentialminus\":[[0.0,\"#0d0887\"],[0.1111111111111111,\"#46039f\"],[0.2222222222222222,\"#7201a8\"],[0.3333333333333333,\"#9c179e\"],[0.4444444444444444,\"#bd3786\"],[0.5555555555555556,\"#d8576b\"],[0.6666666666666666,\"#ed7953\"],[0.7777777777777778,\"#fb9f3a\"],[0.8888888888888888,\"#fdca26\"],[1.0,\"#f0f921\"]]},\"colorway\":[\"#636efa\",\"#EF553B\",\"#00cc96\",\"#ab63fa\",\"#FFA15A\",\"#19d3f3\",\"#FF6692\",\"#B6E880\",\"#FF97FF\",\"#FECB52\"],\"font\":{\"color\":\"#2a3f5f\"},\"geo\":{\"bgcolor\":\"white\",\"lakecolor\":\"white\",\"landcolor\":\"#E5ECF6\",\"showlakes\":true,\"showland\":true,\"subunitcolor\":\"white\"},\"hoverlabel\":{\"align\":\"left\"},\"hovermode\":\"closest\",\"mapbox\":{\"style\":\"light\"},\"paper_bgcolor\":\"white\",\"plot_bgcolor\":\"#E5ECF6\",\"polar\":{\"angularaxis\":{\"gridcolor\":\"white\",\"linecolor\":\"white\",\"ticks\":\"\"},\"bgcolor\":\"#E5ECF6\",\"radialaxis\":{\"gridcolor\":\"white\",\"linecolor\":\"white\",\"ticks\":\"\"}},\"scene\":{\"xaxis\":{\"backgroundcolor\":\"#E5ECF6\",\"gridcolor\":\"white\",\"gridwidth\":2,\"linecolor\":\"white\",\"showbackground\":true,\"ticks\":\"\",\"zerolinecolor\":\"white\"},\"yaxis\":{\"backgroundcolor\":\"#E5ECF6\",\"gridcolor\":\"white\",\"gridwidth\":2,\"linecolor\":\"white\",\"showbackground\":true,\"ticks\":\"\",\"zerolinecolor\":\"white\"},\"zaxis\":{\"backgroundcolor\":\"#E5ECF6\",\"gridcolor\":\"white\",\"gridwidth\":2,\"linecolor\":\"white\",\"showbackground\":true,\"ticks\":\"\",\"zerolinecolor\":\"white\"}},\"shapedefaults\":{\"line\":{\"color\":\"#2a3f5f\"}},\"ternary\":{\"aaxis\":{\"gridcolor\":\"white\",\"linecolor\":\"white\",\"ticks\":\"\"},\"baxis\":{\"gridcolor\":\"white\",\"linecolor\":\"white\",\"ticks\":\"\"},\"bgcolor\":\"#E5ECF6\",\"caxis\":{\"gridcolor\":\"white\",\"linecolor\":\"white\",\"ticks\":\"\"}},\"title\":{\"x\":0.05},\"xaxis\":{\"automargin\":true,\"gridcolor\":\"white\",\"linecolor\":\"white\",\"ticks\":\"\",\"title\":{\"standoff\":15},\"zerolinecolor\":\"white\",\"zerolinewidth\":2},\"yaxis\":{\"automargin\":true,\"gridcolor\":\"white\",\"linecolor\":\"white\",\"ticks\":\"\",\"title\":{\"standoff\":15},\"zerolinecolor\":\"white\",\"zerolinewidth\":2}}},\"xaxis\":{\"anchor\":\"y\",\"domain\":[0.0,1.0],\"title\":{\"text\":\"index\"}},\"yaxis\":{\"anchor\":\"x\",\"domain\":[0.0,1.0],\"title\":{\"text\":\"A1\"},\"range\":[161.93359699303807,296.0241390973188]},\"legend\":{\"tracegroupgap\":0},\"margin\":{\"t\":60},\"shapes\":[{\"line\":{\"color\":\"Blue\"},\"type\":\"line\",\"x0\":0,\"x1\":1,\"xref\":\"x domain\",\"y0\":228.97886804517844,\"y1\":228.97886804517844,\"yref\":\"y\"},{\"line\":{\"color\":\"Red\"},\"type\":\"line\",\"x0\":0,\"x1\":1,\"xref\":\"x domain\",\"y0\":286.0241390973188,\"y1\":286.0241390973188,\"yref\":\"y\"},{\"line\":{\"color\":\"Red\"},\"type\":\"line\",\"x0\":0,\"x1\":1,\"xref\":\"x domain\",\"y0\":171.93359699303807,\"y1\":171.93359699303807,\"yref\":\"y\"}]},                        {\"responsive\": true}                    ).then(function(){\n",
       "                            \n",
       "var gd = document.getElementById('f621e744-9fdf-43a9-bd83-b7105f34fe55');\n",
       "var x = new MutationObserver(function (mutations, observer) {{\n",
       "        var display = window.getComputedStyle(gd).display;\n",
       "        if (!display || display === 'none') {{\n",
       "            console.log([gd, 'removed!']);\n",
       "            Plotly.purge(gd);\n",
       "            observer.disconnect();\n",
       "        }}\n",
       "}});\n",
       "\n",
       "// Listen for the removal of the full notebook cells\n",
       "var notebookContainer = gd.closest('#notebook-container');\n",
       "if (notebookContainer) {{\n",
       "    x.observe(notebookContainer, {childList: true});\n",
       "}}\n",
       "\n",
       "// Listen for the clearing of the current output cell\n",
       "var outputEl = gd.closest('.output');\n",
       "if (outputEl) {{\n",
       "    x.observe(outputEl, {childList: true});\n",
       "}}\n",
       "\n",
       "                        })                };                });            </script>        </div>"
      ]
     },
     "metadata": {},
     "output_type": "display_data"
    }
   ],
   "source": [
    "# 6. 위에서 계산된 테이블을 df_clean_day 선언을 한 뒤, 결측값을 제거하고, A1값에 대한\n",
    "#     Xbar - sd 관리도를 시각화 (index 주의)\n",
    "\n",
    "df_clean_day = df1_merge.dropna()\n",
    "df_clean_day.head(2)\n",
    "\n",
    "center =df_clean_day['A1'].mean()\n",
    "USL = center + (df_clean_day['A1'].std() *3)\n",
    "LSL = center - (df_clean_day['A1'].std() *3)\n",
    "\n",
    "df1_A1_Xbar = df_clean_day[['A1']].reset_index()\n",
    "\n",
    "fig1 = px.line(df1_A1_Xbar.iloc[:30], x='index', y='A1')\n",
    "fig1.update_traces(mode='markers+lines')\n",
    "fig1.add_hline(y=center, line_color='Blue')\n",
    "fig1.add_hline(y=USL, line_color='Red')\n",
    "fig1.add_hline(y=LSL, line_color='Red')\n",
    "fig1.update_layout(yaxis_range = [LSL-10, USL+10])"
   ]
  },
  {
   "cell_type": "code",
   "execution_count": 213,
   "id": "ccd9a79f",
   "metadata": {},
   "outputs": [],
   "source": [
    "df1_cc=df_clean_day[['A1']].reset_index().reset_index()\n",
    "\n",
    "# sns.pointplot(data=df1_cc[:30])"
   ]
  },
  {
   "cell_type": "code",
   "execution_count": 139,
   "id": "63f07cdd",
   "metadata": {},
   "outputs": [
    {
     "name": "stderr",
     "output_type": "stream",
     "text": [
      "C:\\ProgramData\\Anaconda3\\lib\\site-packages\\seaborn\\_decorators.py:36: FutureWarning:\n",
      "\n",
      "Pass the following variable as a keyword arg: x. From version 0.12, the only valid positional argument will be `data`, and passing other arguments without an explicit keyword will result in an error or misinterpretation.\n",
      "\n"
     ]
    },
    {
     "data": {
      "text/plain": [
       "<AxesSubplot:xlabel='tag', ylabel='count'>"
      ]
     },
     "execution_count": 139,
     "metadata": {},
     "output_type": "execute_result"
    },
    {
     "data": {
      "image/png": "[encoded data removed]",
      "text/plain": [
       "<Figure size 432x288 with 1 Axes>"
      ]
     },
     "metadata": {
      "needs_background": "light"
     },
     "output_type": "display_data"
    }
   ],
   "source": [
    "# 7. df1_merge에서 결측값을 제거한 뒤, tag의 'NE280PV'값과 'NE282PV'값에 대해 A1값이 평균의\n",
    "#     차이가 있는지 가설 검정을 수행하고, 평균을 비교하는 그래프를 시각화 하시오.\n",
    "\n",
    "\n",
    "df1_clean = df1_merge.dropna()\n",
    "df1_clean['tag'].value_counts()\n",
    "\n",
    "cond1 = (df1_clean['tag'] == 'NE280PV')\n",
    "cond2 = (df1_clean['tag'] == 'NE282PV')\n",
    "\n",
    "# stats.normaltest(df1_clean.loc[cond1]['tag'])\n",
    "stats.ranksums(df1_clean.loc[cond1]['A1'], df1_clean.loc[cond2]['A1']) #  pvalue=3.429382620636209e-41)\n",
    "\n",
    "sns.countplot(df1_clean['tag'].value_counts())"
   ]
  },
  {
   "cell_type": "code",
   "execution_count": null,
   "id": "7f9cf6a9",
   "metadata": {},
   "outputs": [],
   "source": [
    "cond1 = (df1_clean['tag'] == 'NE280PV')\n",
    "cond2 = (df1_clean['tag'] == 'NE282PV')"
   ]
  },
  {
   "cell_type": "code",
   "execution_count": 143,
   "id": "b4b06b9f",
   "metadata": {},
   "outputs": [
    {
     "data": {
      "text/plain": [
       "0       NE280V\n",
       "1      NE280PV\n",
       "2       NE280V\n",
       "3      NE280PV\n",
       "4       NE280V\n",
       "        ...   \n",
       "468     E280PV\n",
       "469    NE282PV\n",
       "470    NE282PV\n",
       "471    NE282PV\n",
       "472    NE282PV\n",
       "Name: tag, Length: 448, dtype: object"
      ]
     },
     "execution_count": 143,
     "metadata": {},
     "output_type": "execute_result"
    }
   ],
   "source": [
    "df1_clean['tag']"
   ]
  },
  {
   "cell_type": "code",
   "execution_count": 189,
   "id": "f0c8f353",
   "metadata": {},
   "outputs": [
    {
     "data": {
      "text/plain": [
       "NormaltestResult(statistic=818.0017706413818, pvalue=2.361415511516925e-178)"
      ]
     },
     "execution_count": 189,
     "metadata": {},
     "output_type": "execute_result"
    }
   ],
   "source": [
    "# 8. 'Y1A'값과 'A1'값의 산점도를 tag에 따라 색상을 나누어 시각화하고, 두 값이 상관성이\n",
    "#     있는지 가설검정을 수행\n",
    "\n",
    "\n",
    "# sns.scatterplot(data=df1_clean, x='Y1A', y='A1', hue='tag')\n",
    "\n",
    "\n",
    "stats.normaltest(df1_clean['Y1A']) #  pvalue=2.0623738973377755e-07)\n",
    "stats.normaltest(df1_clean['A1']) # pvalue=2.361415511516925e-178) \n",
    "# stats.ranksums(df1_clean['Y1A'], df1_clean['A1']) # pvalue=5.340550067587804e-148)"
   ]
  },
  {
   "cell_type": "code",
   "execution_count": 152,
   "id": "14e9f10f",
   "metadata": {},
   "outputs": [],
   "source": [
    "from sklearn.tree import DecisionTreeClassifier"
   ]
  },
  {
   "cell_type": "code",
   "execution_count": 162,
   "id": "74e20f43",
   "metadata": {
    "scrolled": true
   },
   "outputs": [
    {
     "data": {
      "text/html": [
       "<div>\n",
       "<style scoped>\n",
       "    .dataframe tbody tr th:only-of-type {\n",
       "        vertical-align: middle;\n",
       "    }\n",
       "\n",
       "    .dataframe tbody tr th {\n",
       "        vertical-align: top;\n",
       "    }\n",
       "\n",
       "    .dataframe thead th {\n",
       "        text-align: right;\n",
       "    }\n",
       "</style>\n",
       "<table border=\"1\" class=\"dataframe\">\n",
       "  <thead>\n",
       "    <tr style=\"text-align: right;\">\n",
       "      <th></th>\n",
       "      <th>Unnamed: 0.1</th>\n",
       "      <th>Unnamed: 0_x</th>\n",
       "      <th>DATE</th>\n",
       "      <th>PERIOD</th>\n",
       "      <th>Label</th>\n",
       "      <th>A1</th>\n",
       "      <th>A2</th>\n",
       "      <th>A3</th>\n",
       "      <th>A4</th>\n",
       "      <th>A5</th>\n",
       "      <th>...</th>\n",
       "      <th>unit</th>\n",
       "      <th>Y1A</th>\n",
       "      <th>Y2A</th>\n",
       "      <th>Y3A</th>\n",
       "      <th>datetime_y</th>\n",
       "      <th>dt_round</th>\n",
       "      <th>year</th>\n",
       "      <th>month</th>\n",
       "      <th>day</th>\n",
       "      <th>Target</th>\n",
       "    </tr>\n",
       "  </thead>\n",
       "  <tbody>\n",
       "    <tr>\n",
       "      <th>0</th>\n",
       "      <td>20.0</td>\n",
       "      <td>20.0</td>\n",
       "      <td>2018-12-01T03:30:00</td>\n",
       "      <td>P1</td>\n",
       "      <td>AVG</td>\n",
       "      <td>224.638902</td>\n",
       "      <td>227.413493</td>\n",
       "      <td>229.905499</td>\n",
       "      <td>229.657359</td>\n",
       "      <td>230.931185</td>\n",
       "      <td>...</td>\n",
       "      <td>Total [1/m²]</td>\n",
       "      <td>4954.774</td>\n",
       "      <td>327.416</td>\n",
       "      <td>256.882</td>\n",
       "      <td>2018-12-01 03:30:00.000</td>\n",
       "      <td>2018-12-01 03:30:00</td>\n",
       "      <td>2018</td>\n",
       "      <td>12</td>\n",
       "      <td>1</td>\n",
       "      <td>1</td>\n",
       "    </tr>\n",
       "    <tr>\n",
       "      <th>1</th>\n",
       "      <td>44.0</td>\n",
       "      <td>44.0</td>\n",
       "      <td>2018-12-01T07:30:00</td>\n",
       "      <td>P1</td>\n",
       "      <td>AVG</td>\n",
       "      <td>225.430882</td>\n",
       "      <td>228.297069</td>\n",
       "      <td>230.934893</td>\n",
       "      <td>231.026156</td>\n",
       "      <td>231.795967</td>\n",
       "      <td>...</td>\n",
       "      <td>Total [1/m²]</td>\n",
       "      <td>2281.460</td>\n",
       "      <td>44.410</td>\n",
       "      <td>17.416</td>\n",
       "      <td>2018-12-01 07:30:00.005</td>\n",
       "      <td>2018-12-01 07:30:00</td>\n",
       "      <td>2018</td>\n",
       "      <td>12</td>\n",
       "      <td>1</td>\n",
       "      <td>0</td>\n",
       "    </tr>\n",
       "    <tr>\n",
       "      <th>2</th>\n",
       "      <td>68.0</td>\n",
       "      <td>68.0</td>\n",
       "      <td>2018-12-01T11:30:00</td>\n",
       "      <td>P1</td>\n",
       "      <td>AVG</td>\n",
       "      <td>229.063690</td>\n",
       "      <td>230.710820</td>\n",
       "      <td>232.028457</td>\n",
       "      <td>231.395510</td>\n",
       "      <td>231.208500</td>\n",
       "      <td>...</td>\n",
       "      <td>Total [1/m²]</td>\n",
       "      <td>4453.201</td>\n",
       "      <td>74.017</td>\n",
       "      <td>23.511</td>\n",
       "      <td>2018-12-01 11:30:00.010</td>\n",
       "      <td>2018-12-01 11:30:00</td>\n",
       "      <td>2018</td>\n",
       "      <td>12</td>\n",
       "      <td>1</td>\n",
       "      <td>1</td>\n",
       "    </tr>\n",
       "    <tr>\n",
       "      <th>3</th>\n",
       "      <td>92.0</td>\n",
       "      <td>92.0</td>\n",
       "      <td>2018-12-01T15:30:00</td>\n",
       "      <td>P1</td>\n",
       "      <td>AVG</td>\n",
       "      <td>228.312661</td>\n",
       "      <td>229.785002</td>\n",
       "      <td>230.958881</td>\n",
       "      <td>230.267388</td>\n",
       "      <td>230.243133</td>\n",
       "      <td>...</td>\n",
       "      <td>Total [1/m²]</td>\n",
       "      <td>4352.190</td>\n",
       "      <td>77.500</td>\n",
       "      <td>37.444</td>\n",
       "      <td>2018-12-01 15:30:00.015</td>\n",
       "      <td>2018-12-01 15:30:00</td>\n",
       "      <td>2018</td>\n",
       "      <td>12</td>\n",
       "      <td>1</td>\n",
       "      <td>1</td>\n",
       "    </tr>\n",
       "    <tr>\n",
       "      <th>4</th>\n",
       "      <td>116.0</td>\n",
       "      <td>116.0</td>\n",
       "      <td>2018-12-01T19:30:00</td>\n",
       "      <td>P1</td>\n",
       "      <td>AVG</td>\n",
       "      <td>229.209428</td>\n",
       "      <td>230.345179</td>\n",
       "      <td>230.993988</td>\n",
       "      <td>230.115520</td>\n",
       "      <td>229.526814</td>\n",
       "      <td>...</td>\n",
       "      <td>Total [1/m²]</td>\n",
       "      <td>4345.224</td>\n",
       "      <td>62.697</td>\n",
       "      <td>40.927</td>\n",
       "      <td>2018-12-01 19:30:00.020</td>\n",
       "      <td>2018-12-01 19:30:00</td>\n",
       "      <td>2018</td>\n",
       "      <td>12</td>\n",
       "      <td>1</td>\n",
       "      <td>1</td>\n",
       "    </tr>\n",
       "    <tr>\n",
       "      <th>...</th>\n",
       "      <td>...</td>\n",
       "      <td>...</td>\n",
       "      <td>...</td>\n",
       "      <td>...</td>\n",
       "      <td>...</td>\n",
       "      <td>...</td>\n",
       "      <td>...</td>\n",
       "      <td>...</td>\n",
       "      <td>...</td>\n",
       "      <td>...</td>\n",
       "      <td>...</td>\n",
       "      <td>...</td>\n",
       "      <td>...</td>\n",
       "      <td>...</td>\n",
       "      <td>...</td>\n",
       "      <td>...</td>\n",
       "      <td>...</td>\n",
       "      <td>...</td>\n",
       "      <td>...</td>\n",
       "      <td>...</td>\n",
       "      <td>...</td>\n",
       "    </tr>\n",
       "    <tr>\n",
       "      <th>469</th>\n",
       "      <td>10604.0</td>\n",
       "      <td>10604.0</td>\n",
       "      <td>2019-09-03T15:30:00</td>\n",
       "      <td>P3</td>\n",
       "      <td>AVG</td>\n",
       "      <td>228.894231</td>\n",
       "      <td>230.397130</td>\n",
       "      <td>231.012732</td>\n",
       "      <td>230.710081</td>\n",
       "      <td>229.776926</td>\n",
       "      <td>...</td>\n",
       "      <td>Total [1/m²]</td>\n",
       "      <td>27633.534</td>\n",
       "      <td>3436.123</td>\n",
       "      <td>2903.202</td>\n",
       "      <td>2019-09-03 15:30:00.000</td>\n",
       "      <td>2019-09-03 15:30:00</td>\n",
       "      <td>2019</td>\n",
       "      <td>9</td>\n",
       "      <td>3</td>\n",
       "      <td>1</td>\n",
       "    </tr>\n",
       "    <tr>\n",
       "      <th>470</th>\n",
       "      <td>10622.0</td>\n",
       "      <td>10622.0</td>\n",
       "      <td>2019-09-03T18:30:00</td>\n",
       "      <td>P3</td>\n",
       "      <td>AVG</td>\n",
       "      <td>229.004528</td>\n",
       "      <td>230.446154</td>\n",
       "      <td>230.866429</td>\n",
       "      <td>230.840892</td>\n",
       "      <td>229.665830</td>\n",
       "      <td>...</td>\n",
       "      <td>Total [1/m²]</td>\n",
       "      <td>14115.267</td>\n",
       "      <td>951.667</td>\n",
       "      <td>728.541</td>\n",
       "      <td>2019-09-03 18:30:00.000</td>\n",
       "      <td>2019-09-03 18:30:00</td>\n",
       "      <td>2019</td>\n",
       "      <td>9</td>\n",
       "      <td>3</td>\n",
       "      <td>1</td>\n",
       "    </tr>\n",
       "    <tr>\n",
       "      <th>471</th>\n",
       "      <td>10628.0</td>\n",
       "      <td>10628.0</td>\n",
       "      <td>2019-09-03T19:30:00</td>\n",
       "      <td>P3</td>\n",
       "      <td>AVG</td>\n",
       "      <td>229.249716</td>\n",
       "      <td>230.743679</td>\n",
       "      <td>231.029600</td>\n",
       "      <td>230.840803</td>\n",
       "      <td>229.704163</td>\n",
       "      <td>...</td>\n",
       "      <td>Total [1/m²]</td>\n",
       "      <td>13207.919</td>\n",
       "      <td>788.144</td>\n",
       "      <td>605.793</td>\n",
       "      <td>2019-09-03 19:30:00.000</td>\n",
       "      <td>2019-09-03 19:30:00</td>\n",
       "      <td>2019</td>\n",
       "      <td>9</td>\n",
       "      <td>3</td>\n",
       "      <td>1</td>\n",
       "    </tr>\n",
       "    <tr>\n",
       "      <th>472</th>\n",
       "      <td>10652.0</td>\n",
       "      <td>10652.0</td>\n",
       "      <td>2019-09-03T23:30:00</td>\n",
       "      <td>P3</td>\n",
       "      <td>AVG</td>\n",
       "      <td>229.172333</td>\n",
       "      <td>230.566021</td>\n",
       "      <td>230.901487</td>\n",
       "      <td>230.651712</td>\n",
       "      <td>229.510997</td>\n",
       "      <td>...</td>\n",
       "      <td>Total [1/m²]</td>\n",
       "      <td>15553.431</td>\n",
       "      <td>1237.614</td>\n",
       "      <td>980.762</td>\n",
       "      <td>2019-09-03 23:30:00.000</td>\n",
       "      <td>2019-09-03 23:30:00</td>\n",
       "      <td>2019</td>\n",
       "      <td>9</td>\n",
       "      <td>3</td>\n",
       "      <td>1</td>\n",
       "    </tr>\n",
       "    <tr>\n",
       "      <th>473</th>\n",
       "      <td>NaN</td>\n",
       "      <td>NaN</td>\n",
       "      <td>NaN</td>\n",
       "      <td>NaN</td>\n",
       "      <td>NaN</td>\n",
       "      <td>NaN</td>\n",
       "      <td>NaN</td>\n",
       "      <td>NaN</td>\n",
       "      <td>NaN</td>\n",
       "      <td>NaN</td>\n",
       "      <td>...</td>\n",
       "      <td>Total [1/m²]</td>\n",
       "      <td>17484.660</td>\n",
       "      <td>1599.893</td>\n",
       "      <td>1170.407</td>\n",
       "      <td>2019-09-04 03:30:00.000</td>\n",
       "      <td>2019-09-04 03:30:00</td>\n",
       "      <td>2019</td>\n",
       "      <td>9</td>\n",
       "      <td>4</td>\n",
       "      <td>1</td>\n",
       "    </tr>\n",
       "  </tbody>\n",
       "</table>\n",
       "<p>474 rows × 26 columns</p>\n",
       "</div>"
      ],
      "text/plain": [
       "     Unnamed: 0.1  Unnamed: 0_x                 DATE PERIOD Label          A1  \\\n",
       "0            20.0          20.0  2018-12-01T03:30:00     P1   AVG  224.638902   \n",
       "1            44.0          44.0  2018-12-01T07:30:00     P1   AVG  225.430882   \n",
       "2            68.0          68.0  2018-12-01T11:30:00     P1   AVG  229.063690   \n",
       "3            92.0          92.0  2018-12-01T15:30:00     P1   AVG  228.312661   \n",
       "4           116.0         116.0  2018-12-01T19:30:00     P1   AVG  229.209428   \n",
       "..            ...           ...                  ...    ...   ...         ...   \n",
       "469       10604.0       10604.0  2019-09-03T15:30:00     P3   AVG  228.894231   \n",
       "470       10622.0       10622.0  2019-09-03T18:30:00     P3   AVG  229.004528   \n",
       "471       10628.0       10628.0  2019-09-03T19:30:00     P3   AVG  229.249716   \n",
       "472       10652.0       10652.0  2019-09-03T23:30:00     P3   AVG  229.172333   \n",
       "473           NaN           NaN                  NaN    NaN   NaN         NaN   \n",
       "\n",
       "             A2          A3          A4          A5  ...          unit  \\\n",
       "0    227.413493  229.905499  229.657359  230.931185  ...  Total [1/m²]   \n",
       "1    228.297069  230.934893  231.026156  231.795967  ...  Total [1/m²]   \n",
       "2    230.710820  232.028457  231.395510  231.208500  ...  Total [1/m²]   \n",
       "3    229.785002  230.958881  230.267388  230.243133  ...  Total [1/m²]   \n",
       "4    230.345179  230.993988  230.115520  229.526814  ...  Total [1/m²]   \n",
       "..          ...         ...         ...         ...  ...           ...   \n",
       "469  230.397130  231.012732  230.710081  229.776926  ...  Total [1/m²]   \n",
       "470  230.446154  230.866429  230.840892  229.665830  ...  Total [1/m²]   \n",
       "471  230.743679  231.029600  230.840803  229.704163  ...  Total [1/m²]   \n",
       "472  230.566021  230.901487  230.651712  229.510997  ...  Total [1/m²]   \n",
       "473         NaN         NaN         NaN         NaN  ...  Total [1/m²]   \n",
       "\n",
       "           Y1A       Y2A       Y3A              datetime_y  \\\n",
       "0     4954.774   327.416   256.882 2018-12-01 03:30:00.000   \n",
       "1     2281.460    44.410    17.416 2018-12-01 07:30:00.005   \n",
       "2     4453.201    74.017    23.511 2018-12-01 11:30:00.010   \n",
       "3     4352.190    77.500    37.444 2018-12-01 15:30:00.015   \n",
       "4     4345.224    62.697    40.927 2018-12-01 19:30:00.020   \n",
       "..         ...       ...       ...                     ...   \n",
       "469  27633.534  3436.123  2903.202 2019-09-03 15:30:00.000   \n",
       "470  14115.267   951.667   728.541 2019-09-03 18:30:00.000   \n",
       "471  13207.919   788.144   605.793 2019-09-03 19:30:00.000   \n",
       "472  15553.431  1237.614   980.762 2019-09-03 23:30:00.000   \n",
       "473  17484.660  1599.893  1170.407 2019-09-04 03:30:00.000   \n",
       "\n",
       "               dt_round  year  month  day  Target  \n",
       "0   2018-12-01 03:30:00  2018     12    1       1  \n",
       "1   2018-12-01 07:30:00  2018     12    1       0  \n",
       "2   2018-12-01 11:30:00  2018     12    1       1  \n",
       "3   2018-12-01 15:30:00  2018     12    1       1  \n",
       "4   2018-12-01 19:30:00  2018     12    1       1  \n",
       "..                  ...   ...    ...  ...     ...  \n",
       "469 2019-09-03 15:30:00  2019      9    3       1  \n",
       "470 2019-09-03 18:30:00  2019      9    3       1  \n",
       "471 2019-09-03 19:30:00  2019      9    3       1  \n",
       "472 2019-09-03 23:30:00  2019      9    3       1  \n",
       "473 2019-09-04 03:30:00  2019      9    4       1  \n",
       "\n",
       "[474 rows x 26 columns]"
      ]
     },
     "execution_count": 162,
     "metadata": {},
     "output_type": "execute_result"
    }
   ],
   "source": [
    "df1_merge"
   ]
  },
  {
   "cell_type": "code",
   "execution_count": 166,
   "id": "d47f05f3",
   "metadata": {},
   "outputs": [],
   "source": [
    "from imblearn.over_sampling import SMOTE"
   ]
  },
  {
   "cell_type": "code",
   "execution_count": 167,
   "id": "1be56c6e",
   "metadata": {},
   "outputs": [
    {
     "data": {
      "text/html": [
       "<style>#sk-container-id-1 {color: black;background-color: white;}#sk-container-id-1 pre{padding: 0;}#sk-container-id-1 div.sk-toggleable {background-color: white;}#sk-container-id-1 label.sk-toggleable__label {cursor: pointer;display: block;width: 100%;margin-bottom: 0;padding: 0.3em;box-sizing: border-box;text-align: center;}#sk-container-id-1 label.sk-toggleable__label-arrow:before {content: \"▸\";float: left;margin-right: 0.25em;color: #696969;}#sk-container-id-1 label.sk-toggleable__label-arrow:hover:before {color: black;}#sk-container-id-1 div.sk-estimator:hover label.sk-toggleable__label-arrow:before {color: black;}#sk-container-id-1 div.sk-toggleable__content {max-height: 0;max-width: 0;overflow: hidden;text-align: left;background-color: #f0f8ff;}#sk-container-id-1 div.sk-toggleable__content pre {margin: 0.2em;color: black;border-radius: 0.25em;background-color: #f0f8ff;}#sk-container-id-1 input.sk-toggleable__control:checked~div.sk-toggleable__content {max-height: 200px;max-width: 100%;overflow: auto;}#sk-container-id-1 input.sk-toggleable__control:checked~label.sk-toggleable__label-arrow:before {content: \"▾\";}#sk-container-id-1 div.sk-estimator input.sk-toggleable__control:checked~label.sk-toggleable__label {background-color: #d4ebff;}#sk-container-id-1 div.sk-label input.sk-toggleable__control:checked~label.sk-toggleable__label {background-color: #d4ebff;}#sk-container-id-1 input.sk-hidden--visually {border: 0;clip: rect(1px 1px 1px 1px);clip: rect(1px, 1px, 1px, 1px);height: 1px;margin: -1px;overflow: hidden;padding: 0;position: absolute;width: 1px;}#sk-container-id-1 div.sk-estimator {font-family: monospace;background-color: #f0f8ff;border: 1px dotted black;border-radius: 0.25em;box-sizing: border-box;margin-bottom: 0.5em;}#sk-container-id-1 div.sk-estimator:hover {background-color: #d4ebff;}#sk-container-id-1 div.sk-parallel-item::after {content: \"\";width: 100%;border-bottom: 1px solid gray;flex-grow: 1;}#sk-container-id-1 div.sk-label:hover label.sk-toggleable__label {background-color: #d4ebff;}#sk-container-id-1 div.sk-serial::before {content: \"\";position: absolute;border-left: 1px solid gray;box-sizing: border-box;top: 0;bottom: 0;left: 50%;z-index: 0;}#sk-container-id-1 div.sk-serial {display: flex;flex-direction: column;align-items: center;background-color: white;padding-right: 0.2em;padding-left: 0.2em;position: relative;}#sk-container-id-1 div.sk-item {position: relative;z-index: 1;}#sk-container-id-1 div.sk-parallel {display: flex;align-items: stretch;justify-content: center;background-color: white;position: relative;}#sk-container-id-1 div.sk-item::before, #sk-container-id-1 div.sk-parallel-item::before {content: \"\";position: absolute;border-left: 1px solid gray;box-sizing: border-box;top: 0;bottom: 0;left: 50%;z-index: -1;}#sk-container-id-1 div.sk-parallel-item {display: flex;flex-direction: column;z-index: 1;position: relative;background-color: white;}#sk-container-id-1 div.sk-parallel-item:first-child::after {align-self: flex-end;width: 50%;}#sk-container-id-1 div.sk-parallel-item:last-child::after {align-self: flex-start;width: 50%;}#sk-container-id-1 div.sk-parallel-item:only-child::after {width: 0;}#sk-container-id-1 div.sk-dashed-wrapped {border: 1px dashed gray;margin: 0 0.4em 0.5em 0.4em;box-sizing: border-box;padding-bottom: 0.4em;background-color: white;}#sk-container-id-1 div.sk-label label {font-family: monospace;font-weight: bold;display: inline-block;line-height: 1.2em;}#sk-container-id-1 div.sk-label-container {text-align: center;}#sk-container-id-1 div.sk-container {/* jupyter's `normalize.less` sets `[hidden] { display: none; }` but bootstrap.min.css set `[hidden] { display: none !important; }` so we also need the `!important` here to be able to override the default hidden behavior on the sphinx rendered scikit-learn.org. See: https://github.com/scikit-learn/scikit-learn/issues/21755 */display: inline-block !important;position: relative;}#sk-container-id-1 div.sk-text-repr-fallback {display: none;}</style><div id=\"sk-container-id-1\" class=\"sk-top-container\"><div class=\"sk-text-repr-fallback\"><pre>Pipeline(steps=[(&#x27;columntransformer&#x27;,\n",
       "                 ColumnTransformer(transformers=[(&#x27;pipeline&#x27;,\n",
       "                                                  Pipeline(steps=[(&#x27;simpleimputer&#x27;,\n",
       "                                                                   SimpleImputer(strategy=&#x27;median&#x27;)),\n",
       "                                                                  (&#x27;minmaxscaler&#x27;,\n",
       "                                                                   MinMaxScaler())]),\n",
       "                                                  [&#x27;A1&#x27;, &#x27;A2&#x27;, &#x27;A3&#x27;, &#x27;A4&#x27;, &#x27;A5&#x27;,\n",
       "                                                   &#x27;A6&#x27;])])),\n",
       "                (&#x27;smote&#x27;, SMOTE()),\n",
       "                (&#x27;decisiontreeclassifier&#x27;, DecisionTreeClassifier())])</pre><b>In a Jupyter environment, please rerun this cell to show the HTML representation or trust the notebook. <br />On GitHub, the HTML representation is unable to render, please try loading this page with nbviewer.org.</b></div><div class=\"sk-container\" hidden><div class=\"sk-item sk-dashed-wrapped\"><div class=\"sk-label-container\"><div class=\"sk-label sk-toggleable\"><input class=\"sk-toggleable__control sk-hidden--visually\" id=\"sk-estimator-id-1\" type=\"checkbox\" ><label for=\"sk-estimator-id-1\" class=\"sk-toggleable__label sk-toggleable__label-arrow\">Pipeline</label><div class=\"sk-toggleable__content\"><pre>Pipeline(steps=[(&#x27;columntransformer&#x27;,\n",
       "                 ColumnTransformer(transformers=[(&#x27;pipeline&#x27;,\n",
       "                                                  Pipeline(steps=[(&#x27;simpleimputer&#x27;,\n",
       "                                                                   SimpleImputer(strategy=&#x27;median&#x27;)),\n",
       "                                                                  (&#x27;minmaxscaler&#x27;,\n",
       "                                                                   MinMaxScaler())]),\n",
       "                                                  [&#x27;A1&#x27;, &#x27;A2&#x27;, &#x27;A3&#x27;, &#x27;A4&#x27;, &#x27;A5&#x27;,\n",
       "                                                   &#x27;A6&#x27;])])),\n",
       "                (&#x27;smote&#x27;, SMOTE()),\n",
       "                (&#x27;decisiontreeclassifier&#x27;, DecisionTreeClassifier())])</pre></div></div></div><div class=\"sk-serial\"><div class=\"sk-item sk-dashed-wrapped\"><div class=\"sk-label-container\"><div class=\"sk-label sk-toggleable\"><input class=\"sk-toggleable__control sk-hidden--visually\" id=\"sk-estimator-id-2\" type=\"checkbox\" ><label for=\"sk-estimator-id-2\" class=\"sk-toggleable__label sk-toggleable__label-arrow\">columntransformer: ColumnTransformer</label><div class=\"sk-toggleable__content\"><pre>ColumnTransformer(transformers=[(&#x27;pipeline&#x27;,\n",
       "                                 Pipeline(steps=[(&#x27;simpleimputer&#x27;,\n",
       "                                                  SimpleImputer(strategy=&#x27;median&#x27;)),\n",
       "                                                 (&#x27;minmaxscaler&#x27;,\n",
       "                                                  MinMaxScaler())]),\n",
       "                                 [&#x27;A1&#x27;, &#x27;A2&#x27;, &#x27;A3&#x27;, &#x27;A4&#x27;, &#x27;A5&#x27;, &#x27;A6&#x27;])])</pre></div></div></div><div class=\"sk-parallel\"><div class=\"sk-parallel-item\"><div class=\"sk-item\"><div class=\"sk-label-container\"><div class=\"sk-label sk-toggleable\"><input class=\"sk-toggleable__control sk-hidden--visually\" id=\"sk-estimator-id-3\" type=\"checkbox\" ><label for=\"sk-estimator-id-3\" class=\"sk-toggleable__label sk-toggleable__label-arrow\">pipeline</label><div class=\"sk-toggleable__content\"><pre>[&#x27;A1&#x27;, &#x27;A2&#x27;, &#x27;A3&#x27;, &#x27;A4&#x27;, &#x27;A5&#x27;, &#x27;A6&#x27;]</pre></div></div></div><div class=\"sk-serial\"><div class=\"sk-item\"><div class=\"sk-serial\"><div class=\"sk-item\"><div class=\"sk-estimator sk-toggleable\"><input class=\"sk-toggleable__control sk-hidden--visually\" id=\"sk-estimator-id-4\" type=\"checkbox\" ><label for=\"sk-estimator-id-4\" class=\"sk-toggleable__label sk-toggleable__label-arrow\">SimpleImputer</label><div class=\"sk-toggleable__content\"><pre>SimpleImputer(strategy=&#x27;median&#x27;)</pre></div></div></div><div class=\"sk-item\"><div class=\"sk-estimator sk-toggleable\"><input class=\"sk-toggleable__control sk-hidden--visually\" id=\"sk-estimator-id-5\" type=\"checkbox\" ><label for=\"sk-estimator-id-5\" class=\"sk-toggleable__label sk-toggleable__label-arrow\">MinMaxScaler</label><div class=\"sk-toggleable__content\"><pre>MinMaxScaler()</pre></div></div></div></div></div></div></div></div></div></div><div class=\"sk-item\"><div class=\"sk-estimator sk-toggleable\"><input class=\"sk-toggleable__control sk-hidden--visually\" id=\"sk-estimator-id-6\" type=\"checkbox\" ><label for=\"sk-estimator-id-6\" class=\"sk-toggleable__label sk-toggleable__label-arrow\">SMOTE</label><div class=\"sk-toggleable__content\"><pre>SMOTE()</pre></div></div></div><div class=\"sk-item\"><div class=\"sk-estimator sk-toggleable\"><input class=\"sk-toggleable__control sk-hidden--visually\" id=\"sk-estimator-id-7\" type=\"checkbox\" ><label for=\"sk-estimator-id-7\" class=\"sk-toggleable__label sk-toggleable__label-arrow\">DecisionTreeClassifier</label><div class=\"sk-toggleable__content\"><pre>DecisionTreeClassifier()</pre></div></div></div></div></div></div></div>"
      ],
      "text/plain": [
       "Pipeline(steps=[('columntransformer',\n",
       "                 ColumnTransformer(transformers=[('pipeline',\n",
       "                                                  Pipeline(steps=[('simpleimputer',\n",
       "                                                                   SimpleImputer(strategy='median')),\n",
       "                                                                  ('minmaxscaler',\n",
       "                                                                   MinMaxScaler())]),\n",
       "                                                  ['A1', 'A2', 'A3', 'A4', 'A5',\n",
       "                                                   'A6'])])),\n",
       "                ('smote', SMOTE()),\n",
       "                ('decisiontreeclassifier', DecisionTreeClassifier())])"
      ]
     },
     "execution_count": 167,
     "metadata": {},
     "output_type": "execute_result"
    }
   ],
   "source": [
    "#11. 'Y1A'값이 상위 90%이상인 값을 1, 미만인 값을 0로 변환하여 'Target'값으로 선언한 뒤,\n",
    "#     A1 ~ A6 값을 넣었을 때, Target을 분류하는  분류모델 생성\n",
    "#      - 8:2비율로 학습데이터와 검증 데이터 분할\n",
    "#      - Min Max Scaling 기법과 Imputation(평균대치), Imbalanced(SMOTE), 교차검증 5회\n",
    "#      - 가장 성능이 좋은 모델을 찾아, model_target.sav이름으로 저장\n",
    "#      - 평가 : 학습능력평가 / 일반화능력평가\n",
    "\n",
    "def func(data):\n",
    "    if data >= df1_merge['Y1A'].quantile(0.1):\n",
    "        return '1'\n",
    "    else:\n",
    "        return '0'\n",
    "    \n",
    "    \n",
    "df1_merge['Target'] = df1_merge['Y1A'].apply(func)\n",
    "# df1_merge\n",
    "X_ = df1_merge[['A1', 'A2', 'A3', 'A4', 'A5', 'A6']]\n",
    "Y_ = df1_merge['Target']\n",
    "\n",
    "X_train, X_test, Y_train, Y_test = train_test_split(X_, Y_, test_size=0.3, random_state=1)\n",
    "\n",
    "numeric_pipe = make_pipeline(SimpleImputer(strategy='median'), MinMaxScaler())\n",
    "category_pipe = make_pipeline(SimpleImputer(strategy='most_frequent'), OneHotEncoder())\n",
    "\n",
    "numeric_list = X_.describe().columns.tolist()\n",
    "# category_list = X_.describe(include = 'object').columns.tolist() # 문자데이터만 뽑기\n",
    "\n",
    "preprocessing_pipe = make_column_transformer((numeric_pipe, numeric_list),\n",
    "                                            )\n",
    "\n",
    "model_pipe = make_pipeline(preprocessing_pipe, DecisionTreeRegressor())\n",
    "model_pipe\n",
    "\n",
    "make_pipeline(preprocessing_pipe, SMOTE(), DecisionTreeClassifier())"
   ]
  },
  {
   "cell_type": "code",
   "execution_count": 214,
   "id": "a2d5413d",
   "metadata": {},
   "outputs": [
    {
     "data": {
      "text/plain": [
       "NormaltestResult(statistic=818.0017706413818, pvalue=2.361415511516925e-178)"
      ]
     },
     "execution_count": 214,
     "metadata": {},
     "output_type": "execute_result"
    }
   ],
   "source": [
    "stats.normaltest(df_clean_day['A1'])"
   ]
  },
  {
   "cell_type": "code",
   "execution_count": 217,
   "id": "2c947291",
   "metadata": {},
   "outputs": [
    {
     "name": "stdout",
     "output_type": "stream",
     "text": [
      "RobustScaler()\n"
     ]
    },
    {
     "data": {
      "text/plain": [
       "A1   NaN\n",
       "A2   NaN\n",
       "A3   NaN\n",
       "A4   NaN\n",
       "A5   NaN\n",
       "A6   NaN\n",
       "dtype: float64"
      ]
     },
     "execution_count": 217,
     "metadata": {},
     "output_type": "execute_result"
    }
   ],
   "source": [
    "# 10. 'A1'값을 Robust Scaling 실시하고, 스케일링 된 값이 0보다 작은 데이터를 추출하여 'A1'값의 평균을 계산하시오.\n",
    "\n",
    "# from sklearn.preprocessing import StandardScaler\n",
    "# standardScaler = StandardScaler()\n",
    "# print(standardScaler.fit(X))\n",
    "# train_data_standardScaled = standardScaler.transform(X)\n",
    "\n",
    "\n",
    "from sklearn.preprocessing import RobustScaler\n",
    "robustScaler = RobustScaler()\n",
    "print(robustScaler.fit(X))\n",
    "train_data_robustScaled = robustScaler.transform(X)\n",
    "cond1 = (X['A1'] < 0)\n",
    "X.loc[cond1].mean()"
   ]
  },
  {
   "cell_type": "code",
   "execution_count": 207,
   "id": "51447a53",
   "metadata": {},
   "outputs": [
    {
     "data": {
      "text/html": [
       "<style>#sk-container-id-4 {color: black;background-color: white;}#sk-container-id-4 pre{padding: 0;}#sk-container-id-4 div.sk-toggleable {background-color: white;}#sk-container-id-4 label.sk-toggleable__label {cursor: pointer;display: block;width: 100%;margin-bottom: 0;padding: 0.3em;box-sizing: border-box;text-align: center;}#sk-container-id-4 label.sk-toggleable__label-arrow:before {content: \"▸\";float: left;margin-right: 0.25em;color: #696969;}#sk-container-id-4 label.sk-toggleable__label-arrow:hover:before {color: black;}#sk-container-id-4 div.sk-estimator:hover label.sk-toggleable__label-arrow:before {color: black;}#sk-container-id-4 div.sk-toggleable__content {max-height: 0;max-width: 0;overflow: hidden;text-align: left;background-color: #f0f8ff;}#sk-container-id-4 div.sk-toggleable__content pre {margin: 0.2em;color: black;border-radius: 0.25em;background-color: #f0f8ff;}#sk-container-id-4 input.sk-toggleable__control:checked~div.sk-toggleable__content {max-height: 200px;max-width: 100%;overflow: auto;}#sk-container-id-4 input.sk-toggleable__control:checked~label.sk-toggleable__label-arrow:before {content: \"▾\";}#sk-container-id-4 div.sk-estimator input.sk-toggleable__control:checked~label.sk-toggleable__label {background-color: #d4ebff;}#sk-container-id-4 div.sk-label input.sk-toggleable__control:checked~label.sk-toggleable__label {background-color: #d4ebff;}#sk-container-id-4 input.sk-hidden--visually {border: 0;clip: rect(1px 1px 1px 1px);clip: rect(1px, 1px, 1px, 1px);height: 1px;margin: -1px;overflow: hidden;padding: 0;position: absolute;width: 1px;}#sk-container-id-4 div.sk-estimator {font-family: monospace;background-color: #f0f8ff;border: 1px dotted black;border-radius: 0.25em;box-sizing: border-box;margin-bottom: 0.5em;}#sk-container-id-4 div.sk-estimator:hover {background-color: #d4ebff;}#sk-container-id-4 div.sk-parallel-item::after {content: \"\";width: 100%;border-bottom: 1px solid gray;flex-grow: 1;}#sk-container-id-4 div.sk-label:hover label.sk-toggleable__label {background-color: #d4ebff;}#sk-container-id-4 div.sk-serial::before {content: \"\";position: absolute;border-left: 1px solid gray;box-sizing: border-box;top: 0;bottom: 0;left: 50%;z-index: 0;}#sk-container-id-4 div.sk-serial {display: flex;flex-direction: column;align-items: center;background-color: white;padding-right: 0.2em;padding-left: 0.2em;position: relative;}#sk-container-id-4 div.sk-item {position: relative;z-index: 1;}#sk-container-id-4 div.sk-parallel {display: flex;align-items: stretch;justify-content: center;background-color: white;position: relative;}#sk-container-id-4 div.sk-item::before, #sk-container-id-4 div.sk-parallel-item::before {content: \"\";position: absolute;border-left: 1px solid gray;box-sizing: border-box;top: 0;bottom: 0;left: 50%;z-index: -1;}#sk-container-id-4 div.sk-parallel-item {display: flex;flex-direction: column;z-index: 1;position: relative;background-color: white;}#sk-container-id-4 div.sk-parallel-item:first-child::after {align-self: flex-end;width: 50%;}#sk-container-id-4 div.sk-parallel-item:last-child::after {align-self: flex-start;width: 50%;}#sk-container-id-4 div.sk-parallel-item:only-child::after {width: 0;}#sk-container-id-4 div.sk-dashed-wrapped {border: 1px dashed gray;margin: 0 0.4em 0.5em 0.4em;box-sizing: border-box;padding-bottom: 0.4em;background-color: white;}#sk-container-id-4 div.sk-label label {font-family: monospace;font-weight: bold;display: inline-block;line-height: 1.2em;}#sk-container-id-4 div.sk-label-container {text-align: center;}#sk-container-id-4 div.sk-container {/* jupyter's `normalize.less` sets `[hidden] { display: none; }` but bootstrap.min.css set `[hidden] { display: none !important; }` so we also need the `!important` here to be able to override the default hidden behavior on the sphinx rendered scikit-learn.org. See: https://github.com/scikit-learn/scikit-learn/issues/21755 */display: inline-block !important;position: relative;}#sk-container-id-4 div.sk-text-repr-fallback {display: none;}</style><div id=\"sk-container-id-4\" class=\"sk-top-container\"><div class=\"sk-text-repr-fallback\"><pre>Pipeline(steps=[(&#x27;columntransformer&#x27;,\n",
       "                 ColumnTransformer(transformers=[(&#x27;pipeline&#x27;,\n",
       "                                                  Pipeline(steps=[(&#x27;simpleimputer&#x27;,\n",
       "                                                                   SimpleImputer(strategy=&#x27;median&#x27;)),\n",
       "                                                                  (&#x27;minmaxscaler&#x27;,\n",
       "                                                                   MinMaxScaler())]),\n",
       "                                                  [&#x27;A1&#x27;, &#x27;A2&#x27;, &#x27;A3&#x27;, &#x27;A4&#x27;, &#x27;A5&#x27;,\n",
       "                                                   &#x27;A6&#x27;])])),\n",
       "                (&#x27;smote&#x27;, SMOTE()),\n",
       "                (&#x27;decisiontreeclassifier&#x27;, DecisionTreeClassifier())])</pre><b>In a Jupyter environment, please rerun this cell to show the HTML representation or trust the notebook. <br />On GitHub, the HTML representation is unable to render, please try loading this page with nbviewer.org.</b></div><div class=\"sk-container\" hidden><div class=\"sk-item sk-dashed-wrapped\"><div class=\"sk-label-container\"><div class=\"sk-label sk-toggleable\"><input class=\"sk-toggleable__control sk-hidden--visually\" id=\"sk-estimator-id-10\" type=\"checkbox\" ><label for=\"sk-estimator-id-10\" class=\"sk-toggleable__label sk-toggleable__label-arrow\">Pipeline</label><div class=\"sk-toggleable__content\"><pre>Pipeline(steps=[(&#x27;columntransformer&#x27;,\n",
       "                 ColumnTransformer(transformers=[(&#x27;pipeline&#x27;,\n",
       "                                                  Pipeline(steps=[(&#x27;simpleimputer&#x27;,\n",
       "                                                                   SimpleImputer(strategy=&#x27;median&#x27;)),\n",
       "                                                                  (&#x27;minmaxscaler&#x27;,\n",
       "                                                                   MinMaxScaler())]),\n",
       "                                                  [&#x27;A1&#x27;, &#x27;A2&#x27;, &#x27;A3&#x27;, &#x27;A4&#x27;, &#x27;A5&#x27;,\n",
       "                                                   &#x27;A6&#x27;])])),\n",
       "                (&#x27;smote&#x27;, SMOTE()),\n",
       "                (&#x27;decisiontreeclassifier&#x27;, DecisionTreeClassifier())])</pre></div></div></div><div class=\"sk-serial\"><div class=\"sk-item sk-dashed-wrapped\"><div class=\"sk-label-container\"><div class=\"sk-label sk-toggleable\"><input class=\"sk-toggleable__control sk-hidden--visually\" id=\"sk-estimator-id-11\" type=\"checkbox\" ><label for=\"sk-estimator-id-11\" class=\"sk-toggleable__label sk-toggleable__label-arrow\">columntransformer: ColumnTransformer</label><div class=\"sk-toggleable__content\"><pre>ColumnTransformer(transformers=[(&#x27;pipeline&#x27;,\n",
       "                                 Pipeline(steps=[(&#x27;simpleimputer&#x27;,\n",
       "                                                  SimpleImputer(strategy=&#x27;median&#x27;)),\n",
       "                                                 (&#x27;minmaxscaler&#x27;,\n",
       "                                                  MinMaxScaler())]),\n",
       "                                 [&#x27;A1&#x27;, &#x27;A2&#x27;, &#x27;A3&#x27;, &#x27;A4&#x27;, &#x27;A5&#x27;, &#x27;A6&#x27;])])</pre></div></div></div><div class=\"sk-parallel\"><div class=\"sk-parallel-item\"><div class=\"sk-item\"><div class=\"sk-label-container\"><div class=\"sk-label sk-toggleable\"><input class=\"sk-toggleable__control sk-hidden--visually\" id=\"sk-estimator-id-12\" type=\"checkbox\" ><label for=\"sk-estimator-id-12\" class=\"sk-toggleable__label sk-toggleable__label-arrow\">pipeline</label><div class=\"sk-toggleable__content\"><pre>[&#x27;A1&#x27;, &#x27;A2&#x27;, &#x27;A3&#x27;, &#x27;A4&#x27;, &#x27;A5&#x27;, &#x27;A6&#x27;]</pre></div></div></div><div class=\"sk-serial\"><div class=\"sk-item\"><div class=\"sk-serial\"><div class=\"sk-item\"><div class=\"sk-estimator sk-toggleable\"><input class=\"sk-toggleable__control sk-hidden--visually\" id=\"sk-estimator-id-13\" type=\"checkbox\" ><label for=\"sk-estimator-id-13\" class=\"sk-toggleable__label sk-toggleable__label-arrow\">SimpleImputer</label><div class=\"sk-toggleable__content\"><pre>SimpleImputer(strategy=&#x27;median&#x27;)</pre></div></div></div><div class=\"sk-item\"><div class=\"sk-estimator sk-toggleable\"><input class=\"sk-toggleable__control sk-hidden--visually\" id=\"sk-estimator-id-14\" type=\"checkbox\" ><label for=\"sk-estimator-id-14\" class=\"sk-toggleable__label sk-toggleable__label-arrow\">MinMaxScaler</label><div class=\"sk-toggleable__content\"><pre>MinMaxScaler()</pre></div></div></div></div></div></div></div></div></div></div><div class=\"sk-item\"><div class=\"sk-estimator sk-toggleable\"><input class=\"sk-toggleable__control sk-hidden--visually\" id=\"sk-estimator-id-15\" type=\"checkbox\" ><label for=\"sk-estimator-id-15\" class=\"sk-toggleable__label sk-toggleable__label-arrow\">SMOTE</label><div class=\"sk-toggleable__content\"><pre>SMOTE()</pre></div></div></div><div class=\"sk-item\"><div class=\"sk-estimator sk-toggleable\"><input class=\"sk-toggleable__control sk-hidden--visually\" id=\"sk-estimator-id-16\" type=\"checkbox\" ><label for=\"sk-estimator-id-16\" class=\"sk-toggleable__label sk-toggleable__label-arrow\">DecisionTreeClassifier</label><div class=\"sk-toggleable__content\"><pre>DecisionTreeClassifier()</pre></div></div></div></div></div></div></div>"
      ],
      "text/plain": [
       "Pipeline(steps=[('columntransformer',\n",
       "                 ColumnTransformer(transformers=[('pipeline',\n",
       "                                                  Pipeline(steps=[('simpleimputer',\n",
       "                                                                   SimpleImputer(strategy='median')),\n",
       "                                                                  ('minmaxscaler',\n",
       "                                                                   MinMaxScaler())]),\n",
       "                                                  ['A1', 'A2', 'A3', 'A4', 'A5',\n",
       "                                                   'A6'])])),\n",
       "                ('smote', SMOTE()),\n",
       "                ('decisiontreeclassifier', DecisionTreeClassifier())])"
      ]
     },
     "execution_count": 207,
     "metadata": {},
     "output_type": "execute_result"
    }
   ],
   "source": [
    "#11. \n",
    "def func(data):\n",
    "    if data >= df1_merge['Y1A'].quantile(0.1):\n",
    "        return '1'\n",
    "    else:\n",
    "        return '0'\n",
    "    \n",
    "    \n",
    "df1_merge['Target'] = df1_merge['Y1A'].apply(func)\n",
    "# df1_merge\n",
    "X_ = df1_merge[['A1', 'A2', 'A3', 'A4', 'A5', 'A6']]\n",
    "Y_ = df1_merge['Target']\n",
    "\n",
    "X_train, X_test, Y_train, Y_test = train_test_split(X_, Y_, test_size=0.3, random_state=1)\n",
    "\n",
    "numeric_pipe = make_pipeline(SimpleImputer(strategy='median'), MinMaxScaler())\n",
    "category_pipe = make_pipeline(SimpleImputer(strategy='most_frequent'), OneHotEncoder())\n",
    "\n",
    "numeric_list = X_.describe().columns.tolist()\n",
    "# category_list = X_.describe(include = 'object').columns.tolist() # 문자데이터만 뽑기\n",
    "\n",
    "preprocessing_pipe = make_column_transformer((numeric_pipe, numeric_list),\n",
    "                                            )\n",
    "\n",
    "model_pipe = make_pipeline(preprocessing_pipe, DecisionTreeRegressor())\n",
    "model_pipe\n",
    "\n",
    "make_pipeline(preprocessing_pipe, SMOTE(), DecisionTreeClassifier())"
   ]
  },
  {
   "cell_type": "code",
   "execution_count": null,
   "id": "aa1ab530",
   "metadata": {},
   "outputs": [],
   "source": []
  },
  {
   "cell_type": "code",
   "execution_count": null,
   "id": "423c6b8f",
   "metadata": {},
   "outputs": [],
   "source": []
  },
  {
   "cell_type": "code",
   "execution_count": null,
   "id": "dfbf39c3",
   "metadata": {},
   "outputs": [],
   "source": []
  },
  {
   "cell_type": "code",
   "execution_count": null,
   "id": "537d8c3c",
   "metadata": {},
   "outputs": [],
   "source": []
  },
  {
   "cell_type": "code",
   "execution_count": null,
   "id": "f435365a",
   "metadata": {},
   "outputs": [],
   "source": []
  },
  {
   "cell_type": "code",
   "execution_count": null,
   "id": "c82e0d36",
   "metadata": {},
   "outputs": [],
   "source": []
  }
 ],
 "metadata": {
  "kernelspec": {
   "display_name": "Python 3 (ipykernel)",
   "language": "python",
   "name": "python3"
  },
  "language_info": {
   "codemirror_mode": {
    "name": "ipython",
    "version": 3
   },
   "file_extension": ".py",
   "mimetype": "text/x-python",
   "name": "python",
   "nbconvert_exporter": "python",
   "pygments_lexer": "ipython3",
   "version": "3.9.12"
  }
 },
 "nbformat": 4,
 "nbformat_minor": 5
}
