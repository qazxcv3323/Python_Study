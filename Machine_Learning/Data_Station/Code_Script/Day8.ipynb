{
 "cells": [
  {
   "cell_type": "code",
   "execution_count": 1,
   "id": "9bbef379",
   "metadata": {},
   "outputs": [],
   "source": [
    "import pandas as pd\n",
    "import matplotlib as mpl\n",
    "import matplotlib.pyplot as plt\n",
    "import seaborn as sns \n",
    "import scipy.stats as stats \n",
    "import plotly.express as px \n",
    "\n",
    "mpl.rc('font', family='Malgun Gothic')"
   ]
  },
  {
   "cell_type": "code",
   "execution_count": 2,
   "id": "46ec4b5c",
   "metadata": {},
   "outputs": [
    {
     "data": {
      "text/html": [
       "<div>\n",
       "<style scoped>\n",
       "    .dataframe tbody tr th:only-of-type {\n",
       "        vertical-align: middle;\n",
       "    }\n",
       "\n",
       "    .dataframe tbody tr th {\n",
       "        vertical-align: top;\n",
       "    }\n",
       "\n",
       "    .dataframe thead th {\n",
       "        text-align: right;\n",
       "    }\n",
       "</style>\n",
       "<table border=\"1\" class=\"dataframe\">\n",
       "  <thead>\n",
       "    <tr style=\"text-align: right;\">\n",
       "      <th></th>\n",
       "      <th>Unnamed: 0</th>\n",
       "      <th>Ox_Chamber</th>\n",
       "      <th>process</th>\n",
       "      <th>type</th>\n",
       "      <th>Temp_OXid</th>\n",
       "      <th>Vapor</th>\n",
       "      <th>ppm</th>\n",
       "      <th>Pressure</th>\n",
       "      <th>Oxid_time</th>\n",
       "      <th>thickness</th>\n",
       "      <th>...</th>\n",
       "      <th>Flux480s</th>\n",
       "      <th>Flux840s</th>\n",
       "      <th>input_Energy</th>\n",
       "      <th>Temp_implantation</th>\n",
       "      <th>Furance_Temp</th>\n",
       "      <th>RTA_Temp</th>\n",
       "      <th>Target</th>\n",
       "      <th>Error_message</th>\n",
       "      <th>target_binom</th>\n",
       "      <th>Chamber_Route</th>\n",
       "    </tr>\n",
       "  </thead>\n",
       "  <tbody>\n",
       "    <tr>\n",
       "      <th>0</th>\n",
       "      <td>0</td>\n",
       "      <td>1</td>\n",
       "      <td>Oxidation</td>\n",
       "      <td>dry</td>\n",
       "      <td>1138.979159</td>\n",
       "      <td>O2</td>\n",
       "      <td>32.80</td>\n",
       "      <td>0.200</td>\n",
       "      <td>62.0</td>\n",
       "      <td>699.443</td>\n",
       "      <td>...</td>\n",
       "      <td>3.002593e+17</td>\n",
       "      <td>6.000007e+17</td>\n",
       "      <td>31574.410</td>\n",
       "      <td>102.847</td>\n",
       "      <td>885.0</td>\n",
       "      <td>154</td>\n",
       "      <td>96</td>\n",
       "      <td>none</td>\n",
       "      <td>0.0</td>\n",
       "      <td>route_11133</td>\n",
       "    </tr>\n",
       "    <tr>\n",
       "      <th>1</th>\n",
       "      <td>1</td>\n",
       "      <td>1</td>\n",
       "      <td>Oxidation</td>\n",
       "      <td>dry</td>\n",
       "      <td>1218.184551</td>\n",
       "      <td>O2</td>\n",
       "      <td>31.86</td>\n",
       "      <td>0.194</td>\n",
       "      <td>137.0</td>\n",
       "      <td>696.792</td>\n",
       "      <td>...</td>\n",
       "      <td>3.017903e+17</td>\n",
       "      <td>6.000012e+17</td>\n",
       "      <td>31580.213</td>\n",
       "      <td>104.323</td>\n",
       "      <td>919.0</td>\n",
       "      <td>154</td>\n",
       "      <td>102</td>\n",
       "      <td>none</td>\n",
       "      <td>0.0</td>\n",
       "      <td>route_11222</td>\n",
       "    </tr>\n",
       "  </tbody>\n",
       "</table>\n",
       "<p>2 rows × 60 columns</p>\n",
       "</div>"
      ],
      "text/plain": [
       "   Unnamed: 0  Ox_Chamber    process type    Temp_OXid Vapor    ppm  Pressure  \\\n",
       "0           0           1  Oxidation  dry  1138.979159    O2  32.80     0.200   \n",
       "1           1           1  Oxidation  dry  1218.184551    O2  31.86     0.194   \n",
       "\n",
       "   Oxid_time  thickness  ...      Flux480s      Flux840s  input_Energy  \\\n",
       "0       62.0    699.443  ...  3.002593e+17  6.000007e+17     31574.410   \n",
       "1      137.0    696.792  ...  3.017903e+17  6.000012e+17     31580.213   \n",
       "\n",
       "   Temp_implantation Furance_Temp  RTA_Temp  Target  Error_message  \\\n",
       "0            102.847        885.0       154      96           none   \n",
       "1            104.323        919.0       154     102           none   \n",
       "\n",
       "   target_binom  Chamber_Route  \n",
       "0           0.0    route_11133  \n",
       "1           0.0    route_11222  \n",
       "\n",
       "[2 rows x 60 columns]"
      ]
     },
     "execution_count": 2,
     "metadata": {},
     "output_type": "execute_result"
    }
   ],
   "source": [
    "df1 = pd.read_csv('11_Data.csv')\n",
    "df1.head(2)"
   ]
  },
  {
   "cell_type": "markdown",
   "id": "de91b111",
   "metadata": {},
   "source": [
    "# Ensemble Model \n",
    "\n",
    "- 기존에 존재하는 여러가지 알고리즘을 결합 또는 조합하여 새로운 형태의 강력한 알고리즘을 생성 \n",
    "\n",
    "1. Voting Model : 서로 다른 알고리즘을 결합하여 가장 좋은 성능의 알고리즘을 찾아 사용하는 기법 \n",
    "    - Train Data -> 1) DT / 2) Logistic / 3) SVM ... -> Best Model \n",
    "2. Bagging Model : 학습데이터에서 서로다른 복원추출(Sub-Sampling)된 데이터를 하나의 알고리즘이 여러번 학습해나온 결과를 결합하여 하나의 강력한 모델을 구성하는 방법 \n",
    "    - Sub Sampling : 1000개 Data \n",
    "        1) 700개 무작위 추출 -> DT 학습 \n",
    "        2) 700개 무작위 추출 -> DT 학습\n",
    "        3) 700개 무작위 추출 -> DT 학습 \n",
    "        ... -> 위에서 학습된 Model을 결합 \n",
    "3. **Boosting Model** : 앞서 Bagging기법과 같이 복원추출 된 데이터를 하나의 모델이 학습, 학습을 수행 할 때 마다 이전의 학습결과를 반영하여 다음 복원추출 단계에 반영해 학습\n",
    "     - DT Model : 비모수데이터 잘 작동 / 과적합 "
   ]
  },
  {
   "cell_type": "code",
   "execution_count": 3,
   "id": "2832aeba",
   "metadata": {},
   "outputs": [],
   "source": [
    "# 1. X/Y를 선언 한다. \n",
    "Y = df1['target_binom'] # wafer 폐기 여부를 분류하는 알고리즘을 구성 \n",
    "X = df1[['type', 'UV_type','thickness','resist_target','Line_CD','Etching_rate']]"
   ]
  },
  {
   "cell_type": "code",
   "execution_count": 4,
   "id": "7d649ba4",
   "metadata": {},
   "outputs": [],
   "source": [
    "# 2. 지도학습에 필요한 라이브러리를 호출 \n",
    "from sklearn.model_selection import train_test_split\n",
    "from sklearn.compose        import make_column_transformer\n",
    "from imblearn.pipeline      import make_pipeline\n",
    "from sklearn.impute         import SimpleImputer, KNNImputer\n",
    "from sklearn.preprocessing  import MinMaxScaler, OneHotEncoder\n",
    "from imblearn.over_sampling import ADASYN\n",
    "from sklearn.ensemble import RandomForestClassifier # Bagging Model \n",
    "from sklearn.model_selection import GridSearchCV \n",
    "from sklearn.metrics   import classification_report\n",
    "import pickle"
   ]
  },
  {
   "cell_type": "code",
   "execution_count": 5,
   "id": "caeffa47",
   "metadata": {},
   "outputs": [],
   "source": [
    "# 3. 학습/검증 데이터 분할 \n",
    "X_train, X_test, Y_train, Y_test = train_test_split(X,Y, test_size=0.3,\n",
    "                                                    random_state=1234)"
   ]
  },
  {
   "cell_type": "code",
   "execution_count": 6,
   "id": "ffce8fad",
   "metadata": {},
   "outputs": [],
   "source": [
    "# 4. 파이프라인을 구성한다\n",
    "numeric_pipe = make_pipeline(KNNImputer(),MinMaxScaler())\n",
    "category_pipe = make_pipeline(SimpleImputer(strategy='most_frequent'),OneHotEncoder())\n",
    "numeric_list  = X.describe().columns.tolist()\n",
    "category_list = X.describe(include='object').columns.tolist()\n",
    "\n",
    "preprocess_pipe = make_column_transformer((numeric_pipe, numeric_list),\n",
    "                                          (category_pipe, category_list))\n",
    "model_pipe = make_pipeline(preprocess_pipe, ADASYN(), RandomForestClassifier())"
   ]
  },
  {
   "cell_type": "code",
   "execution_count": 7,
   "id": "e9390b71",
   "metadata": {},
   "outputs": [
    {
     "data": {
      "text/html": [
       "<style>#sk-container-id-1 {color: black;background-color: white;}#sk-container-id-1 pre{padding: 0;}#sk-container-id-1 div.sk-toggleable {background-color: white;}#sk-container-id-1 label.sk-toggleable__label {cursor: pointer;display: block;width: 100%;margin-bottom: 0;padding: 0.3em;box-sizing: border-box;text-align: center;}#sk-container-id-1 label.sk-toggleable__label-arrow:before {content: \"▸\";float: left;margin-right: 0.25em;color: #696969;}#sk-container-id-1 label.sk-toggleable__label-arrow:hover:before {color: black;}#sk-container-id-1 div.sk-estimator:hover label.sk-toggleable__label-arrow:before {color: black;}#sk-container-id-1 div.sk-toggleable__content {max-height: 0;max-width: 0;overflow: hidden;text-align: left;background-color: #f0f8ff;}#sk-container-id-1 div.sk-toggleable__content pre {margin: 0.2em;color: black;border-radius: 0.25em;background-color: #f0f8ff;}#sk-container-id-1 input.sk-toggleable__control:checked~div.sk-toggleable__content {max-height: 200px;max-width: 100%;overflow: auto;}#sk-container-id-1 input.sk-toggleable__control:checked~label.sk-toggleable__label-arrow:before {content: \"▾\";}#sk-container-id-1 div.sk-estimator input.sk-toggleable__control:checked~label.sk-toggleable__label {background-color: #d4ebff;}#sk-container-id-1 div.sk-label input.sk-toggleable__control:checked~label.sk-toggleable__label {background-color: #d4ebff;}#sk-container-id-1 input.sk-hidden--visually {border: 0;clip: rect(1px 1px 1px 1px);clip: rect(1px, 1px, 1px, 1px);height: 1px;margin: -1px;overflow: hidden;padding: 0;position: absolute;width: 1px;}#sk-container-id-1 div.sk-estimator {font-family: monospace;background-color: #f0f8ff;border: 1px dotted black;border-radius: 0.25em;box-sizing: border-box;margin-bottom: 0.5em;}#sk-container-id-1 div.sk-estimator:hover {background-color: #d4ebff;}#sk-container-id-1 div.sk-parallel-item::after {content: \"\";width: 100%;border-bottom: 1px solid gray;flex-grow: 1;}#sk-container-id-1 div.sk-label:hover label.sk-toggleable__label {background-color: #d4ebff;}#sk-container-id-1 div.sk-serial::before {content: \"\";position: absolute;border-left: 1px solid gray;box-sizing: border-box;top: 0;bottom: 0;left: 50%;z-index: 0;}#sk-container-id-1 div.sk-serial {display: flex;flex-direction: column;align-items: center;background-color: white;padding-right: 0.2em;padding-left: 0.2em;position: relative;}#sk-container-id-1 div.sk-item {position: relative;z-index: 1;}#sk-container-id-1 div.sk-parallel {display: flex;align-items: stretch;justify-content: center;background-color: white;position: relative;}#sk-container-id-1 div.sk-item::before, #sk-container-id-1 div.sk-parallel-item::before {content: \"\";position: absolute;border-left: 1px solid gray;box-sizing: border-box;top: 0;bottom: 0;left: 50%;z-index: -1;}#sk-container-id-1 div.sk-parallel-item {display: flex;flex-direction: column;z-index: 1;position: relative;background-color: white;}#sk-container-id-1 div.sk-parallel-item:first-child::after {align-self: flex-end;width: 50%;}#sk-container-id-1 div.sk-parallel-item:last-child::after {align-self: flex-start;width: 50%;}#sk-container-id-1 div.sk-parallel-item:only-child::after {width: 0;}#sk-container-id-1 div.sk-dashed-wrapped {border: 1px dashed gray;margin: 0 0.4em 0.5em 0.4em;box-sizing: border-box;padding-bottom: 0.4em;background-color: white;}#sk-container-id-1 div.sk-label label {font-family: monospace;font-weight: bold;display: inline-block;line-height: 1.2em;}#sk-container-id-1 div.sk-label-container {text-align: center;}#sk-container-id-1 div.sk-container {/* jupyter's `normalize.less` sets `[hidden] { display: none; }` but bootstrap.min.css set `[hidden] { display: none !important; }` so we also need the `!important` here to be able to override the default hidden behavior on the sphinx rendered scikit-learn.org. See: https://github.com/scikit-learn/scikit-learn/issues/21755 */display: inline-block !important;position: relative;}#sk-container-id-1 div.sk-text-repr-fallback {display: none;}</style><div id=\"sk-container-id-1\" class=\"sk-top-container\"><div class=\"sk-text-repr-fallback\"><pre>GridSearchCV(cv=5,\n",
       "             estimator=Pipeline(steps=[(&#x27;columntransformer&#x27;,\n",
       "                                        ColumnTransformer(transformers=[(&#x27;pipeline-1&#x27;,\n",
       "                                                                         Pipeline(steps=[(&#x27;knnimputer&#x27;,\n",
       "                                                                                          KNNImputer()),\n",
       "                                                                                         (&#x27;minmaxscaler&#x27;,\n",
       "                                                                                          MinMaxScaler())]),\n",
       "                                                                         [&#x27;thickness&#x27;,\n",
       "                                                                          &#x27;resist_target&#x27;,\n",
       "                                                                          &#x27;Line_CD&#x27;,\n",
       "                                                                          &#x27;Etching_rate&#x27;]),\n",
       "                                                                        (&#x27;pipeline-2&#x27;,\n",
       "                                                                         Pipeline(steps=[(&#x27;simpleimputer&#x27;,\n",
       "                                                                                          SimpleImputer(strategy=&#x27;most_frequent&#x27;)),\n",
       "                                                                                         (&#x27;onehotencoder&#x27;,\n",
       "                                                                                          OneHotEncoder())]),\n",
       "                                                                         [&#x27;type&#x27;,\n",
       "                                                                          &#x27;UV_type&#x27;])])),\n",
       "                                       (&#x27;adasyn&#x27;, ADASYN()),\n",
       "                                       (&#x27;randomforestclassifier&#x27;,\n",
       "                                        RandomForestClassifier())]),\n",
       "             n_jobs=-1,\n",
       "             param_grid={&#x27;randomforestclassifier__max_depth&#x27;: range(5, 11),\n",
       "                         &#x27;randomforestclassifier__min_samples_leaf&#x27;: range(5, 11),\n",
       "                         &#x27;randomforestclassifier__min_samples_split&#x27;: range(5, 11)},\n",
       "             scoring=&#x27;f1&#x27;)</pre><b>In a Jupyter environment, please rerun this cell to show the HTML representation or trust the notebook. <br />On GitHub, the HTML representation is unable to render, please try loading this page with nbviewer.org.</b></div><div class=\"sk-container\" hidden><div class=\"sk-item sk-dashed-wrapped\"><div class=\"sk-label-container\"><div class=\"sk-label sk-toggleable\"><input class=\"sk-toggleable__control sk-hidden--visually\" id=\"sk-estimator-id-1\" type=\"checkbox\" ><label for=\"sk-estimator-id-1\" class=\"sk-toggleable__label sk-toggleable__label-arrow\">GridSearchCV</label><div class=\"sk-toggleable__content\"><pre>GridSearchCV(cv=5,\n",
       "             estimator=Pipeline(steps=[(&#x27;columntransformer&#x27;,\n",
       "                                        ColumnTransformer(transformers=[(&#x27;pipeline-1&#x27;,\n",
       "                                                                         Pipeline(steps=[(&#x27;knnimputer&#x27;,\n",
       "                                                                                          KNNImputer()),\n",
       "                                                                                         (&#x27;minmaxscaler&#x27;,\n",
       "                                                                                          MinMaxScaler())]),\n",
       "                                                                         [&#x27;thickness&#x27;,\n",
       "                                                                          &#x27;resist_target&#x27;,\n",
       "                                                                          &#x27;Line_CD&#x27;,\n",
       "                                                                          &#x27;Etching_rate&#x27;]),\n",
       "                                                                        (&#x27;pipeline-2&#x27;,\n",
       "                                                                         Pipeline(steps=[(&#x27;simpleimputer&#x27;,\n",
       "                                                                                          SimpleImputer(strategy=&#x27;most_frequent&#x27;)),\n",
       "                                                                                         (&#x27;onehotencoder&#x27;,\n",
       "                                                                                          OneHotEncoder())]),\n",
       "                                                                         [&#x27;type&#x27;,\n",
       "                                                                          &#x27;UV_type&#x27;])])),\n",
       "                                       (&#x27;adasyn&#x27;, ADASYN()),\n",
       "                                       (&#x27;randomforestclassifier&#x27;,\n",
       "                                        RandomForestClassifier())]),\n",
       "             n_jobs=-1,\n",
       "             param_grid={&#x27;randomforestclassifier__max_depth&#x27;: range(5, 11),\n",
       "                         &#x27;randomforestclassifier__min_samples_leaf&#x27;: range(5, 11),\n",
       "                         &#x27;randomforestclassifier__min_samples_split&#x27;: range(5, 11)},\n",
       "             scoring=&#x27;f1&#x27;)</pre></div></div></div><div class=\"sk-parallel\"><div class=\"sk-parallel-item\"><div class=\"sk-item\"><div class=\"sk-label-container\"><div class=\"sk-label sk-toggleable\"><input class=\"sk-toggleable__control sk-hidden--visually\" id=\"sk-estimator-id-2\" type=\"checkbox\" ><label for=\"sk-estimator-id-2\" class=\"sk-toggleable__label sk-toggleable__label-arrow\">estimator: Pipeline</label><div class=\"sk-toggleable__content\"><pre>Pipeline(steps=[(&#x27;columntransformer&#x27;,\n",
       "                 ColumnTransformer(transformers=[(&#x27;pipeline-1&#x27;,\n",
       "                                                  Pipeline(steps=[(&#x27;knnimputer&#x27;,\n",
       "                                                                   KNNImputer()),\n",
       "                                                                  (&#x27;minmaxscaler&#x27;,\n",
       "                                                                   MinMaxScaler())]),\n",
       "                                                  [&#x27;thickness&#x27;, &#x27;resist_target&#x27;,\n",
       "                                                   &#x27;Line_CD&#x27;, &#x27;Etching_rate&#x27;]),\n",
       "                                                 (&#x27;pipeline-2&#x27;,\n",
       "                                                  Pipeline(steps=[(&#x27;simpleimputer&#x27;,\n",
       "                                                                   SimpleImputer(strategy=&#x27;most_frequent&#x27;)),\n",
       "                                                                  (&#x27;onehotencoder&#x27;,\n",
       "                                                                   OneHotEncoder())]),\n",
       "                                                  [&#x27;type&#x27;, &#x27;UV_type&#x27;])])),\n",
       "                (&#x27;adasyn&#x27;, ADASYN()),\n",
       "                (&#x27;randomforestclassifier&#x27;, RandomForestClassifier())])</pre></div></div></div><div class=\"sk-serial\"><div class=\"sk-item\"><div class=\"sk-serial\"><div class=\"sk-item sk-dashed-wrapped\"><div class=\"sk-label-container\"><div class=\"sk-label sk-toggleable\"><input class=\"sk-toggleable__control sk-hidden--visually\" id=\"sk-estimator-id-3\" type=\"checkbox\" ><label for=\"sk-estimator-id-3\" class=\"sk-toggleable__label sk-toggleable__label-arrow\">columntransformer: ColumnTransformer</label><div class=\"sk-toggleable__content\"><pre>ColumnTransformer(transformers=[(&#x27;pipeline-1&#x27;,\n",
       "                                 Pipeline(steps=[(&#x27;knnimputer&#x27;, KNNImputer()),\n",
       "                                                 (&#x27;minmaxscaler&#x27;,\n",
       "                                                  MinMaxScaler())]),\n",
       "                                 [&#x27;thickness&#x27;, &#x27;resist_target&#x27;, &#x27;Line_CD&#x27;,\n",
       "                                  &#x27;Etching_rate&#x27;]),\n",
       "                                (&#x27;pipeline-2&#x27;,\n",
       "                                 Pipeline(steps=[(&#x27;simpleimputer&#x27;,\n",
       "                                                  SimpleImputer(strategy=&#x27;most_frequent&#x27;)),\n",
       "                                                 (&#x27;onehotencoder&#x27;,\n",
       "                                                  OneHotEncoder())]),\n",
       "                                 [&#x27;type&#x27;, &#x27;UV_type&#x27;])])</pre></div></div></div><div class=\"sk-parallel\"><div class=\"sk-parallel-item\"><div class=\"sk-item\"><div class=\"sk-label-container\"><div class=\"sk-label sk-toggleable\"><input class=\"sk-toggleable__control sk-hidden--visually\" id=\"sk-estimator-id-4\" type=\"checkbox\" ><label for=\"sk-estimator-id-4\" class=\"sk-toggleable__label sk-toggleable__label-arrow\">pipeline-1</label><div class=\"sk-toggleable__content\"><pre>[&#x27;thickness&#x27;, &#x27;resist_target&#x27;, &#x27;Line_CD&#x27;, &#x27;Etching_rate&#x27;]</pre></div></div></div><div class=\"sk-serial\"><div class=\"sk-item\"><div class=\"sk-serial\"><div class=\"sk-item\"><div class=\"sk-estimator sk-toggleable\"><input class=\"sk-toggleable__control sk-hidden--visually\" id=\"sk-estimator-id-5\" type=\"checkbox\" ><label for=\"sk-estimator-id-5\" class=\"sk-toggleable__label sk-toggleable__label-arrow\">KNNImputer</label><div class=\"sk-toggleable__content\"><pre>KNNImputer()</pre></div></div></div><div class=\"sk-item\"><div class=\"sk-estimator sk-toggleable\"><input class=\"sk-toggleable__control sk-hidden--visually\" id=\"sk-estimator-id-6\" type=\"checkbox\" ><label for=\"sk-estimator-id-6\" class=\"sk-toggleable__label sk-toggleable__label-arrow\">MinMaxScaler</label><div class=\"sk-toggleable__content\"><pre>MinMaxScaler()</pre></div></div></div></div></div></div></div></div><div class=\"sk-parallel-item\"><div class=\"sk-item\"><div class=\"sk-label-container\"><div class=\"sk-label sk-toggleable\"><input class=\"sk-toggleable__control sk-hidden--visually\" id=\"sk-estimator-id-7\" type=\"checkbox\" ><label for=\"sk-estimator-id-7\" class=\"sk-toggleable__label sk-toggleable__label-arrow\">pipeline-2</label><div class=\"sk-toggleable__content\"><pre>[&#x27;type&#x27;, &#x27;UV_type&#x27;]</pre></div></div></div><div class=\"sk-serial\"><div class=\"sk-item\"><div class=\"sk-serial\"><div class=\"sk-item\"><div class=\"sk-estimator sk-toggleable\"><input class=\"sk-toggleable__control sk-hidden--visually\" id=\"sk-estimator-id-8\" type=\"checkbox\" ><label for=\"sk-estimator-id-8\" class=\"sk-toggleable__label sk-toggleable__label-arrow\">SimpleImputer</label><div class=\"sk-toggleable__content\"><pre>SimpleImputer(strategy=&#x27;most_frequent&#x27;)</pre></div></div></div><div class=\"sk-item\"><div class=\"sk-estimator sk-toggleable\"><input class=\"sk-toggleable__control sk-hidden--visually\" id=\"sk-estimator-id-9\" type=\"checkbox\" ><label for=\"sk-estimator-id-9\" class=\"sk-toggleable__label sk-toggleable__label-arrow\">OneHotEncoder</label><div class=\"sk-toggleable__content\"><pre>OneHotEncoder()</pre></div></div></div></div></div></div></div></div></div></div><div class=\"sk-item\"><div class=\"sk-estimator sk-toggleable\"><input class=\"sk-toggleable__control sk-hidden--visually\" id=\"sk-estimator-id-10\" type=\"checkbox\" ><label for=\"sk-estimator-id-10\" class=\"sk-toggleable__label sk-toggleable__label-arrow\">ADASYN</label><div class=\"sk-toggleable__content\"><pre>ADASYN()</pre></div></div></div><div class=\"sk-item\"><div class=\"sk-estimator sk-toggleable\"><input class=\"sk-toggleable__control sk-hidden--visually\" id=\"sk-estimator-id-11\" type=\"checkbox\" ><label for=\"sk-estimator-id-11\" class=\"sk-toggleable__label sk-toggleable__label-arrow\">RandomForestClassifier</label><div class=\"sk-toggleable__content\"><pre>RandomForestClassifier()</pre></div></div></div></div></div></div></div></div></div></div></div></div>"
      ],
      "text/plain": [
       "GridSearchCV(cv=5,\n",
       "             estimator=Pipeline(steps=[('columntransformer',\n",
       "                                        ColumnTransformer(transformers=[('pipeline-1',\n",
       "                                                                         Pipeline(steps=[('knnimputer',\n",
       "                                                                                          KNNImputer()),\n",
       "                                                                                         ('minmaxscaler',\n",
       "                                                                                          MinMaxScaler())]),\n",
       "                                                                         ['thickness',\n",
       "                                                                          'resist_target',\n",
       "                                                                          'Line_CD',\n",
       "                                                                          'Etching_rate']),\n",
       "                                                                        ('pipeline-2',\n",
       "                                                                         Pipeline(steps=[('simpleimputer',\n",
       "                                                                                          SimpleImputer(strategy='most_frequent')),\n",
       "                                                                                         ('onehotencoder',\n",
       "                                                                                          OneHotEncoder())]),\n",
       "                                                                         ['type',\n",
       "                                                                          'UV_type'])])),\n",
       "                                       ('adasyn', ADASYN()),\n",
       "                                       ('randomforestclassifier',\n",
       "                                        RandomForestClassifier())]),\n",
       "             n_jobs=-1,\n",
       "             param_grid={'randomforestclassifier__max_depth': range(5, 11),\n",
       "                         'randomforestclassifier__min_samples_leaf': range(5, 11),\n",
       "                         'randomforestclassifier__min_samples_split': range(5, 11)},\n",
       "             scoring='f1')"
      ]
     },
     "execution_count": 7,
     "metadata": {},
     "output_type": "execute_result"
    }
   ],
   "source": [
    "# 5. 교차검증 및 하이퍼 파라미터 튜닝 \n",
    "hyperparameter_list = {'randomforestclassifier__max_depth':range(5,11),\n",
    "                      'randomforestclassifier__min_samples_leaf':range(5,11),\n",
    "                      'randomforestclassifier__min_samples_split':range(5,11)}\n",
    "grid_model = GridSearchCV(model_pipe, param_grid=hyperparameter_list, \n",
    "                           cv=5, n_jobs=-1,scoring='f1')\n",
    "grid_model.fit(X_train, Y_train)"
   ]
  },
  {
   "cell_type": "code",
   "execution_count": 8,
   "id": "0f312ea0",
   "metadata": {},
   "outputs": [],
   "source": [
    "# 6. 평가 \n",
    "best_model = grid_model.best_estimator_\n",
    "Y_train_pred = best_model.predict(X_train)\n",
    "Y_test_pred  = best_model.predict(X_test)"
   ]
  },
  {
   "cell_type": "code",
   "execution_count": 9,
   "id": "735955b7",
   "metadata": {},
   "outputs": [
    {
     "name": "stdout",
     "output_type": "stream",
     "text": [
      "              precision    recall  f1-score   support\n",
      "\n",
      "         0.0       0.99      0.90      0.95       482\n",
      "         1.0       0.47      0.93      0.62        44\n",
      "\n",
      "    accuracy                           0.90       526\n",
      "   macro avg       0.73      0.92      0.78       526\n",
      "weighted avg       0.95      0.90      0.92       526\n",
      "\n"
     ]
    }
   ],
   "source": [
    "print(classification_report(Y_train, Y_train_pred))"
   ]
  },
  {
   "cell_type": "code",
   "execution_count": 10,
   "id": "a1454ca0",
   "metadata": {},
   "outputs": [
    {
     "name": "stdout",
     "output_type": "stream",
     "text": [
      "              precision    recall  f1-score   support\n",
      "\n",
      "         0.0       0.96      0.85      0.90       206\n",
      "         1.0       0.29      0.60      0.39        20\n",
      "\n",
      "    accuracy                           0.83       226\n",
      "   macro avg       0.62      0.73      0.64       226\n",
      "weighted avg       0.90      0.83      0.86       226\n",
      "\n"
     ]
    }
   ],
   "source": [
    "print(classification_report(Y_test,Y_test_pred))"
   ]
  },
  {
   "cell_type": "markdown",
   "id": "a4e846ea",
   "metadata": {},
   "source": [
    "- 변수 중요도 (Feature Importance) \n",
    "    - 분류를 수행함에 있어, 각 Feature가 얼마나 분류에 **기여**를 하였는가 \n",
    "    - Data를 나눌때 기여도가 높은 Column 확인 \n",
    "    - 회귀분석의 회귀계수의 개념과는 다르다.\n",
    "    - 변수중요도가 높다 해서 Y값이 직접적으로 변하지 않는다. \n",
    "\n",
    "- 회귀분석  Y = 500 X1 + 200 X2 + 3 X3 + 30  "
   ]
  },
  {
   "cell_type": "markdown",
   "id": "bdada35a",
   "metadata": {},
   "source": [
    "encoder_list = best_model.named_steps['columntransformer'].transformers_[1][1].named_steps['onehotencoder'].get_feature_names().tolist()"
   ]
  },
  {
   "cell_type": "code",
   "execution_count": 11,
   "id": "e2253872",
   "metadata": {},
   "outputs": [
    {
     "name": "stderr",
     "output_type": "stream",
     "text": [
      "C:\\Users\\DMC CONET\\AppData\\Roaming\\Python\\Python39\\site-packages\\sklearn\\utils\\deprecation.py:87: FutureWarning: Function get_feature_names is deprecated; get_feature_names is deprecated in 1.0 and will be removed in 1.2. Please use get_feature_names_out instead.\n",
      "  warnings.warn(msg, category=FutureWarning)\n"
     ]
    }
   ],
   "source": [
    "encoder_list = best_model.named_steps['columntransformer'].transformers_[1][1].named_steps['onehotencoder'].get_feature_names().tolist()"
   ]
  },
  {
   "cell_type": "code",
   "execution_count": 12,
   "id": "325acfeb",
   "metadata": {},
   "outputs": [],
   "source": [
    "df_importance = pd.DataFrame()\n",
    "df_importance['Feature'] = pd.Series(numeric_list + encoder_list)\n",
    "df_importance['Importance']= best_model['randomforestclassifier'].feature_importances_"
   ]
  },
  {
   "cell_type": "code",
   "execution_count": 13,
   "id": "08d86bae",
   "metadata": {},
   "outputs": [
    {
     "data": {
      "text/html": [
       "<div>\n",
       "<style scoped>\n",
       "    .dataframe tbody tr th:only-of-type {\n",
       "        vertical-align: middle;\n",
       "    }\n",
       "\n",
       "    .dataframe tbody tr th {\n",
       "        vertical-align: top;\n",
       "    }\n",
       "\n",
       "    .dataframe thead th {\n",
       "        text-align: right;\n",
       "    }\n",
       "</style>\n",
       "<table border=\"1\" class=\"dataframe\">\n",
       "  <thead>\n",
       "    <tr style=\"text-align: right;\">\n",
       "      <th></th>\n",
       "      <th>Feature</th>\n",
       "      <th>Importance</th>\n",
       "    </tr>\n",
       "  </thead>\n",
       "  <tbody>\n",
       "    <tr>\n",
       "      <th>0</th>\n",
       "      <td>thickness</td>\n",
       "      <td>0.234891</td>\n",
       "    </tr>\n",
       "    <tr>\n",
       "      <th>1</th>\n",
       "      <td>resist_target</td>\n",
       "      <td>0.190329</td>\n",
       "    </tr>\n",
       "    <tr>\n",
       "      <th>2</th>\n",
       "      <td>Line_CD</td>\n",
       "      <td>0.115393</td>\n",
       "    </tr>\n",
       "    <tr>\n",
       "      <th>3</th>\n",
       "      <td>Etching_rate</td>\n",
       "      <td>0.333428</td>\n",
       "    </tr>\n",
       "    <tr>\n",
       "      <th>4</th>\n",
       "      <td>x0_dry</td>\n",
       "      <td>0.028473</td>\n",
       "    </tr>\n",
       "    <tr>\n",
       "      <th>5</th>\n",
       "      <td>x0_wet</td>\n",
       "      <td>0.021493</td>\n",
       "    </tr>\n",
       "    <tr>\n",
       "      <th>6</th>\n",
       "      <td>x1_G</td>\n",
       "      <td>0.016105</td>\n",
       "    </tr>\n",
       "    <tr>\n",
       "      <th>7</th>\n",
       "      <td>x1_H</td>\n",
       "      <td>0.033531</td>\n",
       "    </tr>\n",
       "    <tr>\n",
       "      <th>8</th>\n",
       "      <td>x1_I</td>\n",
       "      <td>0.026357</td>\n",
       "    </tr>\n",
       "  </tbody>\n",
       "</table>\n",
       "</div>"
      ],
      "text/plain": [
       "         Feature  Importance\n",
       "0      thickness    0.234891\n",
       "1  resist_target    0.190329\n",
       "2        Line_CD    0.115393\n",
       "3   Etching_rate    0.333428\n",
       "4         x0_dry    0.028473\n",
       "5         x0_wet    0.021493\n",
       "6           x1_G    0.016105\n",
       "7           x1_H    0.033531\n",
       "8           x1_I    0.026357"
      ]
     },
     "execution_count": 13,
     "metadata": {},
     "output_type": "execute_result"
    }
   ],
   "source": [
    "df_importance"
   ]
  },
  {
   "cell_type": "code",
   "execution_count": 14,
   "id": "014c2c43",
   "metadata": {},
   "outputs": [
    {
     "data": {
      "text/plain": [
       "<AxesSubplot:xlabel='Feature', ylabel='Importance'>"
      ]
     },
     "execution_count": 14,
     "metadata": {},
     "output_type": "execute_result"
    },
    {
     "data": {
      "image/png": "[encoded data removed]",
      "text/plain": [
       "<Figure size 432x288 with 1 Axes>"
      ]
     },
     "metadata": {
      "needs_background": "light"
     },
     "output_type": "display_data"
    }
   ],
   "source": [
    "sns.barplot(data=df_importance, x='Feature', y='Importance')"
   ]
  },
  {
   "cell_type": "code",
   "execution_count": 15,
   "id": "ca26d5dc",
   "metadata": {},
   "outputs": [],
   "source": [
    "# 7. 모델 파일형태로 저장\n",
    "pickle.dump(best_model, open('model_best.sav','wb'))"
   ]
  },
  {
   "cell_type": "markdown",
   "id": "1a74f578",
   "metadata": {},
   "source": [
    "# Boosting \n",
    "- 데이터에서 복원추출된 표본을 알고리즘이 학습하여 구성될 때 마다 오차를 줄여나가는 발향으로 학습해, 점진적으로 향상된 모델을 도출하는 방식 \n",
    "- 전통적인 기계학습 모델 중에 가장 성능이 좋고 가장 많이 사용 \n",
    "- Boosting Model 종류 : \n",
    "    - Ada Boosting (Adptive Boosting) : 이전에 학습의 결과에 잘 반영이 되지 않은 데이터에 대해 Weight(가중치)를 부여하여 복원추출을 수행 \n",
    "        - 앞서 분류가 제대로 수행되지 못한 데이터에 대해 가중을 주며 성능 향샹\n",
    "        - 데이터 이상치가 존재하는 경우, 이상치에 대해 가중을 주며 학습을 수행하므로\n",
    "        지속적 학습에 대해 성능이 개선되지 않을 가능성이 존재 \n",
    "        - 앞서 가중치가 너무 높게 부여가 되면, 가중치가 낮게 부여된 데이터들에 대해 오분류 될 가성이 존재 \n",
    "    - Gradient Boosting : Ada boosting모델에서 이상치가 많거나 너무 높게 wieght에 대해 주변 값들이 오분류 될 가능성이 매우 높음 \n",
    "        - 오분류 된 값에 가중치를 부여할 때마다, 가중치의 오차의 제곱이 최소가되는 방향으로 (최소제곱법) 가중치를 함수형태로 갱신하여 학습 \n",
    "        - 가중치(함수)를 최적화하여(최소제곱법+경사하강법, Minimization) 부여 \n",
    "        - Ada boosting 모델 보다 더욱 민감한 모델을 구성 \n",
    "        - 시간 오래 소요 / (학습율을 잘 조절하지 못하면) 과적합 \n",
    "    - XGBoosting : Gradient Boosting Model에 과적합 현상을 방지하기 위해, 규제항(Regularization)추가하여 학습을 수행 \n",
    "        - Tree 구조가 복잡해지지 않도록 규제항(다양하게 선택 적용)을 추가 \n",
    "        - 속도가 더 느려짐       \n",
    "    - Light Boosting : boosting 계열의 모델들이 속도가 매우 저조한 현상을 개선하기 위해, 복원추출되는 데이터의 양을 조절해 학습을 수행 \n",
    "        - 시간과 자원의 소요를 효과적으로 줄여주는 학습기법 \n",
    "        - XGBoosting 기반으로 구성된 알고리즘 이므로, 과적합 현상도 적절하게 방지 \n",
    "     - Catboosting (Categorical Boosting): 범주형 데이터로 부터 얻은 OneHotEncoding된 더미 변수들에 대해 Boosting기법을 적용하여 학습하는 기법\n",
    "         - Dummy 화 된 변수를 그룹으로 분할하여 학습 및 처리 "
   ]
  },
  {
   "cell_type": "code",
   "execution_count": 16,
   "id": "c5f1833b",
   "metadata": {},
   "outputs": [
    {
     "name": "stdout",
     "output_type": "stream",
     "text": [
      "Requirement already satisfied: xgboost in c:\\users\\dmc conet\\appdata\\roaming\\python\\python39\\site-packages (1.6.2)\n",
      "Requirement already satisfied: scipy in c:\\programdata\\anaconda3\\lib\\site-packages (from xgboost) (1.7.3)\n",
      "Requirement already satisfied: numpy in c:\\programdata\\anaconda3\\lib\\site-packages (from xgboost) (1.21.5)\n",
      "Requirement already satisfied: lightgbm in c:\\users\\dmc conet\\appdata\\roaming\\python\\python39\\site-packages (3.3.3)\n",
      "Requirement already satisfied: scikit-learn!=0.22.0 in c:\\users\\dmc conet\\appdata\\roaming\\python\\python39\\site-packages (from lightgbm) (1.1.2)\n",
      "Requirement already satisfied: scipy in c:\\programdata\\anaconda3\\lib\\site-packages (from lightgbm) (1.7.3)\n",
      "Requirement already satisfied: wheel in c:\\programdata\\anaconda3\\lib\\site-packages (from lightgbm) (0.37.1)\n",
      "Requirement already satisfied: numpy in c:\\programdata\\anaconda3\\lib\\site-packages (from lightgbm) (1.21.5)\n",
      "Requirement already satisfied: joblib>=1.0.0 in c:\\programdata\\anaconda3\\lib\\site-packages (from scikit-learn!=0.22.0->lightgbm) (1.1.0)\n",
      "Requirement already satisfied: threadpoolctl>=2.0.0 in c:\\programdata\\anaconda3\\lib\\site-packages (from scikit-learn!=0.22.0->lightgbm) (2.2.0)\n",
      "Requirement already satisfied: catboost in c:\\users\\dmc conet\\appdata\\roaming\\python\\python39\\site-packages (1.1)\n",
      "Requirement already satisfied: graphviz in c:\\users\\dmc conet\\appdata\\roaming\\python\\python39\\site-packages (from catboost) (0.20.1)\n",
      "Requirement already satisfied: numpy>=1.16.0 in c:\\programdata\\anaconda3\\lib\\site-packages (from catboost) (1.21.5)\n",
      "Requirement already satisfied: pandas>=0.24.0 in c:\\programdata\\anaconda3\\lib\\site-packages (from catboost) (1.4.2)\n",
      "Requirement already satisfied: scipy in c:\\programdata\\anaconda3\\lib\\site-packages (from catboost) (1.7.3)\n",
      "Requirement already satisfied: matplotlib in c:\\programdata\\anaconda3\\lib\\site-packages (from catboost) (3.5.1)\n",
      "Requirement already satisfied: plotly in c:\\programdata\\anaconda3\\lib\\site-packages (from catboost) (5.6.0)\n",
      "Requirement already satisfied: six in c:\\programdata\\anaconda3\\lib\\site-packages (from catboost) (1.16.0)\n",
      "Requirement already satisfied: python-dateutil>=2.8.1 in c:\\programdata\\anaconda3\\lib\\site-packages (from pandas>=0.24.0->catboost) (2.8.2)\n",
      "Requirement already satisfied: pytz>=2020.1 in c:\\programdata\\anaconda3\\lib\\site-packages (from pandas>=0.24.0->catboost) (2021.3)\n",
      "Requirement already satisfied: cycler>=0.10 in c:\\programdata\\anaconda3\\lib\\site-packages (from matplotlib->catboost) (0.11.0)\n",
      "Requirement already satisfied: fonttools>=4.22.0 in c:\\programdata\\anaconda3\\lib\\site-packages (from matplotlib->catboost) (4.25.0)\n",
      "Requirement already satisfied: pillow>=6.2.0 in c:\\programdata\\anaconda3\\lib\\site-packages (from matplotlib->catboost) (9.0.1)\n",
      "Requirement already satisfied: pyparsing>=2.2.1 in c:\\programdata\\anaconda3\\lib\\site-packages (from matplotlib->catboost) (3.0.4)\n",
      "Requirement already satisfied: kiwisolver>=1.0.1 in c:\\programdata\\anaconda3\\lib\\site-packages (from matplotlib->catboost) (1.3.2)\n",
      "Requirement already satisfied: packaging>=20.0 in c:\\programdata\\anaconda3\\lib\\site-packages (from matplotlib->catboost) (21.3)\n",
      "Requirement already satisfied: tenacity>=6.2.0 in c:\\programdata\\anaconda3\\lib\\site-packages (from plotly->catboost) (8.0.1)\n"
     ]
    }
   ],
   "source": [
    "!pip install --user xgboost\n",
    "!pip install --user lightgbm\n",
    "!pip install --user catboost"
   ]
  },
  {
   "cell_type": "code",
   "execution_count": 17,
   "id": "67214cf8",
   "metadata": {},
   "outputs": [],
   "source": [
    "from lightgbm import LGBMClassifier"
   ]
  },
  {
   "cell_type": "code",
   "execution_count": 18,
   "id": "3035a1de",
   "metadata": {},
   "outputs": [
    {
     "name": "stdout",
     "output_type": "stream",
     "text": [
      "Help on class LGBMClassifier in module lightgbm.sklearn:\n",
      "\n",
      "class LGBMClassifier(sklearn.base.ClassifierMixin, LGBMModel)\n",
      " |  LGBMClassifier(boosting_type: str = 'gbdt', num_leaves: int = 31, max_depth: int = -1, learning_rate: float = 0.1, n_estimators: int = 100, subsample_for_bin: int = 200000, objective: Union[str, Callable, NoneType] = None, class_weight: Union[Dict, str, NoneType] = None, min_split_gain: float = 0.0, min_child_weight: float = 0.001, min_child_samples: int = 20, subsample: float = 1.0, subsample_freq: int = 0, colsample_bytree: float = 1.0, reg_alpha: float = 0.0, reg_lambda: float = 0.0, random_state: Union[int, numpy.random.mtrand.RandomState, NoneType] = None, n_jobs: int = -1, silent: Union[bool, str] = 'warn', importance_type: str = 'split', **kwargs)\n",
      " |  \n",
      " |  LightGBM classifier.\n",
      " |  \n",
      " |  Method resolution order:\n",
      " |      LGBMClassifier\n",
      " |      sklearn.base.ClassifierMixin\n",
      " |      LGBMModel\n",
      " |      sklearn.base.BaseEstimator\n",
      " |      builtins.object\n",
      " |  \n",
      " |  Methods defined here:\n",
      " |  \n",
      " |  fit(self, X, y, sample_weight=None, init_score=None, eval_set=None, eval_names=None, eval_sample_weight=None, eval_class_weight=None, eval_init_score=None, eval_metric=None, early_stopping_rounds=None, verbose='warn', feature_name='auto', categorical_feature='auto', callbacks=None, init_model=None)\n",
      " |      Build a gradient boosting model from the training set (X, y).\n",
      " |      \n",
      " |      Parameters\n",
      " |      ----------\n",
      " |      X : array-like or sparse matrix of shape = [n_samples, n_features]\n",
      " |          Input feature matrix.\n",
      " |      y : array-like of shape = [n_samples]\n",
      " |          The target values (class labels in classification, real numbers in regression).\n",
      " |      sample_weight : array-like of shape = [n_samples] or None, optional (default=None)\n",
      " |          Weights of training data.\n",
      " |      init_score : array-like of shape = [n_samples] or shape = [n_samples * n_classes] (for multi-class task) or shape = [n_samples, n_classes] (for multi-class task) or None, optional (default=None)\n",
      " |          Init score of training data.\n",
      " |      eval_set : list or None, optional (default=None)\n",
      " |          A list of (X, y) tuple pairs to use as validation sets.\n",
      " |      eval_names : list of str, or None, optional (default=None)\n",
      " |          Names of eval_set.\n",
      " |      eval_sample_weight : list of array, or None, optional (default=None)\n",
      " |          Weights of eval data.\n",
      " |      eval_class_weight : list or None, optional (default=None)\n",
      " |          Class weights of eval data.\n",
      " |      eval_init_score : list of array, or None, optional (default=None)\n",
      " |          Init score of eval data.\n",
      " |      eval_metric : str, callable, list or None, optional (default=None)\n",
      " |          If str, it should be a built-in evaluation metric to use.\n",
      " |          If callable, it should be a custom evaluation metric, see note below for more details.\n",
      " |          If list, it can be a list of built-in metrics, a list of custom evaluation metrics, or a mix of both.\n",
      " |          In either case, the ``metric`` from the model parameters will be evaluated and used as well.\n",
      " |          Default: 'l2' for LGBMRegressor, 'logloss' for LGBMClassifier, 'ndcg' for LGBMRanker.\n",
      " |      early_stopping_rounds : int or None, optional (default=None)\n",
      " |          Activates early stopping. The model will train until the validation score stops improving.\n",
      " |          Validation score needs to improve at least every ``early_stopping_rounds`` round(s)\n",
      " |          to continue training.\n",
      " |          Requires at least one validation data and one metric.\n",
      " |          If there's more than one, will check all of them. But the training data is ignored anyway.\n",
      " |          To check only the first metric, set the ``first_metric_only`` parameter to ``True``\n",
      " |          in additional parameters ``**kwargs`` of the model constructor.\n",
      " |      verbose : bool or int, optional (default=True)\n",
      " |          Requires at least one evaluation data.\n",
      " |          If True, the eval metric on the eval set is printed at each boosting stage.\n",
      " |          If int, the eval metric on the eval set is printed at every ``verbose`` boosting stage.\n",
      " |          The last boosting stage or the boosting stage found by using ``early_stopping_rounds`` is also printed.\n",
      " |      \n",
      " |          .. rubric:: Example\n",
      " |      \n",
      " |          With ``verbose`` = 4 and at least one item in ``eval_set``,\n",
      " |          an evaluation metric is printed every 4 (instead of 1) boosting stages.\n",
      " |      \n",
      " |      feature_name : list of str, or 'auto', optional (default='auto')\n",
      " |          Feature names.\n",
      " |          If 'auto' and data is pandas DataFrame, data columns names are used.\n",
      " |      categorical_feature : list of str or int, or 'auto', optional (default='auto')\n",
      " |          Categorical features.\n",
      " |          If list of int, interpreted as indices.\n",
      " |          If list of str, interpreted as feature names (need to specify ``feature_name`` as well).\n",
      " |          If 'auto' and data is pandas DataFrame, pandas unordered categorical columns are used.\n",
      " |          All values in categorical features should be less than int32 max value (2147483647).\n",
      " |          Large values could be memory consuming. Consider using consecutive integers starting from zero.\n",
      " |          All negative values in categorical features will be treated as missing values.\n",
      " |          The output cannot be monotonically constrained with respect to a categorical feature.\n",
      " |      callbacks : list of callable, or None, optional (default=None)\n",
      " |          List of callback functions that are applied at each iteration.\n",
      " |          See Callbacks in Python API for more information.\n",
      " |      init_model : str, pathlib.Path, Booster, LGBMModel or None, optional (default=None)\n",
      " |          Filename of LightGBM model, Booster instance or LGBMModel instance used for continue training.\n",
      " |      \n",
      " |      Returns\n",
      " |      -------\n",
      " |      self : object\n",
      " |          Returns self.\n",
      " |      \n",
      " |      \n",
      " |      \n",
      " |      Note\n",
      " |      ----\n",
      " |      Custom eval function expects a callable with following signatures:\n",
      " |      ``func(y_true, y_pred)``, ``func(y_true, y_pred, weight)`` or\n",
      " |      ``func(y_true, y_pred, weight, group)``\n",
      " |      and returns (eval_name, eval_result, is_higher_better) or\n",
      " |      list of (eval_name, eval_result, is_higher_better):\n",
      " |      \n",
      " |          y_true : array-like of shape = [n_samples]\n",
      " |              The target values.\n",
      " |          y_pred : array-like of shape = [n_samples] or shape = [n_samples * n_classes] (for multi-class task)\n",
      " |              The predicted values.\n",
      " |              In case of custom ``objective``, predicted values are returned before any transformation,\n",
      " |              e.g. they are raw margin instead of probability of positive class for binary task in this case.\n",
      " |          weight : array-like of shape = [n_samples]\n",
      " |              The weight of samples.\n",
      " |          group : array-like\n",
      " |              Group/query data.\n",
      " |              Only used in the learning-to-rank task.\n",
      " |              sum(group) = n_samples.\n",
      " |              For example, if you have a 100-document dataset with ``group = [10, 20, 40, 10, 10, 10]``, that means that you have 6 groups,\n",
      " |              where the first 10 records are in the first group, records 11-30 are in the second group, records 31-70 are in the third group, etc.\n",
      " |          eval_name : str\n",
      " |              The name of evaluation function (without whitespace).\n",
      " |          eval_result : float\n",
      " |              The eval result.\n",
      " |          is_higher_better : bool\n",
      " |              Is eval result higher better, e.g. AUC is ``is_higher_better``.\n",
      " |      \n",
      " |      For multi-class task, the y_pred is group by class_id first, then group by row_id.\n",
      " |      If you want to get i-th row y_pred in j-th class, the access way is y_pred[j * num_data + i].\n",
      " |  \n",
      " |  predict(self, X, raw_score=False, start_iteration=0, num_iteration=None, pred_leaf=False, pred_contrib=False, **kwargs)\n",
      " |      Return the predicted value for each sample.\n",
      " |      \n",
      " |      Parameters\n",
      " |      ----------\n",
      " |      X : array-like or sparse matrix of shape = [n_samples, n_features]\n",
      " |          Input features matrix.\n",
      " |      raw_score : bool, optional (default=False)\n",
      " |          Whether to predict raw scores.\n",
      " |      start_iteration : int, optional (default=0)\n",
      " |          Start index of the iteration to predict.\n",
      " |          If <= 0, starts from the first iteration.\n",
      " |      num_iteration : int or None, optional (default=None)\n",
      " |          Total number of iterations used in the prediction.\n",
      " |          If None, if the best iteration exists and start_iteration <= 0, the best iteration is used;\n",
      " |          otherwise, all iterations from ``start_iteration`` are used (no limits).\n",
      " |          If <= 0, all iterations from ``start_iteration`` are used (no limits).\n",
      " |      pred_leaf : bool, optional (default=False)\n",
      " |          Whether to predict leaf index.\n",
      " |      pred_contrib : bool, optional (default=False)\n",
      " |          Whether to predict feature contributions.\n",
      " |      \n",
      " |          .. note::\n",
      " |      \n",
      " |              If you want to get more explanations for your model's predictions using SHAP values,\n",
      " |              like SHAP interaction values,\n",
      " |              you can install the shap package (https://github.com/slundberg/shap).\n",
      " |              Note that unlike the shap package, with ``pred_contrib`` we return a matrix with an extra\n",
      " |              column, where the last column is the expected value.\n",
      " |      \n",
      " |      **kwargs\n",
      " |          Other parameters for the prediction.\n",
      " |      \n",
      " |      Returns\n",
      " |      -------\n",
      " |      predicted_result : array-like of shape = [n_samples] or shape = [n_samples, n_classes]\n",
      " |          The predicted values.\n",
      " |      X_leaves : array-like of shape = [n_samples, n_trees] or shape = [n_samples, n_trees * n_classes]\n",
      " |          If ``pred_leaf=True``, the predicted leaf of every tree for each sample.\n",
      " |      X_SHAP_values : array-like of shape = [n_samples, n_features + 1] or shape = [n_samples, (n_features + 1) * n_classes] or list with n_classes length of such objects\n",
      " |          If ``pred_contrib=True``, the feature contributions for each sample.\n",
      " |  \n",
      " |  predict_proba(self, X, raw_score=False, start_iteration=0, num_iteration=None, pred_leaf=False, pred_contrib=False, **kwargs)\n",
      " |      Return the predicted probability for each class for each sample.\n",
      " |      \n",
      " |      Parameters\n",
      " |      ----------\n",
      " |      X : array-like or sparse matrix of shape = [n_samples, n_features]\n",
      " |          Input features matrix.\n",
      " |      raw_score : bool, optional (default=False)\n",
      " |          Whether to predict raw scores.\n",
      " |      start_iteration : int, optional (default=0)\n",
      " |          Start index of the iteration to predict.\n",
      " |          If <= 0, starts from the first iteration.\n",
      " |      num_iteration : int or None, optional (default=None)\n",
      " |          Total number of iterations used in the prediction.\n",
      " |          If None, if the best iteration exists and start_iteration <= 0, the best iteration is used;\n",
      " |          otherwise, all iterations from ``start_iteration`` are used (no limits).\n",
      " |          If <= 0, all iterations from ``start_iteration`` are used (no limits).\n",
      " |      pred_leaf : bool, optional (default=False)\n",
      " |          Whether to predict leaf index.\n",
      " |      pred_contrib : bool, optional (default=False)\n",
      " |          Whether to predict feature contributions.\n",
      " |      \n",
      " |          .. note::\n",
      " |      \n",
      " |              If you want to get more explanations for your model's predictions using SHAP values,\n",
      " |              like SHAP interaction values,\n",
      " |              you can install the shap package (https://github.com/slundberg/shap).\n",
      " |              Note that unlike the shap package, with ``pred_contrib`` we return a matrix with an extra\n",
      " |              column, where the last column is the expected value.\n",
      " |      \n",
      " |      **kwargs\n",
      " |          Other parameters for the prediction.\n",
      " |      \n",
      " |      Returns\n",
      " |      -------\n",
      " |      predicted_probability : array-like of shape = [n_samples] or shape = [n_samples, n_classes]\n",
      " |          The predicted values.\n",
      " |      X_leaves : array-like of shape = [n_samples, n_trees] or shape = [n_samples, n_trees * n_classes]\n",
      " |          If ``pred_leaf=True``, the predicted leaf of every tree for each sample.\n",
      " |      X_SHAP_values : array-like of shape = [n_samples, n_features + 1] or shape = [n_samples, (n_features + 1) * n_classes] or list with n_classes length of such objects\n",
      " |          If ``pred_contrib=True``, the feature contributions for each sample.\n",
      " |  \n",
      " |  ----------------------------------------------------------------------\n",
      " |  Readonly properties defined here:\n",
      " |  \n",
      " |  classes_\n",
      " |      :obj:`array` of shape = [n_classes]: The class label array.\n",
      " |  \n",
      " |  n_classes_\n",
      " |      :obj:`int`: The number of classes.\n",
      " |  \n",
      " |  ----------------------------------------------------------------------\n",
      " |  Methods inherited from sklearn.base.ClassifierMixin:\n",
      " |  \n",
      " |  score(self, X, y, sample_weight=None)\n",
      " |      Return the mean accuracy on the given test data and labels.\n",
      " |      \n",
      " |      In multi-label classification, this is the subset accuracy\n",
      " |      which is a harsh metric since you require for each sample that\n",
      " |      each label set be correctly predicted.\n",
      " |      \n",
      " |      Parameters\n",
      " |      ----------\n",
      " |      X : array-like of shape (n_samples, n_features)\n",
      " |          Test samples.\n",
      " |      \n",
      " |      y : array-like of shape (n_samples,) or (n_samples, n_outputs)\n",
      " |          True labels for `X`.\n",
      " |      \n",
      " |      sample_weight : array-like of shape (n_samples,), default=None\n",
      " |          Sample weights.\n",
      " |      \n",
      " |      Returns\n",
      " |      -------\n",
      " |      score : float\n",
      " |          Mean accuracy of ``self.predict(X)`` wrt. `y`.\n",
      " |  \n",
      " |  ----------------------------------------------------------------------\n",
      " |  Data descriptors inherited from sklearn.base.ClassifierMixin:\n",
      " |  \n",
      " |  __dict__\n",
      " |      dictionary for instance variables (if defined)\n",
      " |  \n",
      " |  __weakref__\n",
      " |      list of weak references to the object (if defined)\n",
      " |  \n",
      " |  ----------------------------------------------------------------------\n",
      " |  Methods inherited from LGBMModel:\n",
      " |  \n",
      " |  __init__(self, boosting_type: str = 'gbdt', num_leaves: int = 31, max_depth: int = -1, learning_rate: float = 0.1, n_estimators: int = 100, subsample_for_bin: int = 200000, objective: Union[str, Callable, NoneType] = None, class_weight: Union[Dict, str, NoneType] = None, min_split_gain: float = 0.0, min_child_weight: float = 0.001, min_child_samples: int = 20, subsample: float = 1.0, subsample_freq: int = 0, colsample_bytree: float = 1.0, reg_alpha: float = 0.0, reg_lambda: float = 0.0, random_state: Union[int, numpy.random.mtrand.RandomState, NoneType] = None, n_jobs: int = -1, silent: Union[bool, str] = 'warn', importance_type: str = 'split', **kwargs)\n",
      " |      Construct a gradient boosting model.\n",
      " |      \n",
      " |      Parameters\n",
      " |      ----------\n",
      " |      boosting_type : str, optional (default='gbdt')\n",
      " |          'gbdt', traditional Gradient Boosting Decision Tree.\n",
      " |          'dart', Dropouts meet Multiple Additive Regression Trees.\n",
      " |          'goss', Gradient-based One-Side Sampling.\n",
      " |          'rf', Random Forest.\n",
      " |      num_leaves : int, optional (default=31)\n",
      " |          Maximum tree leaves for base learners.\n",
      " |      max_depth : int, optional (default=-1)\n",
      " |          Maximum tree depth for base learners, <=0 means no limit.\n",
      " |      learning_rate : float, optional (default=0.1)\n",
      " |          Boosting learning rate.\n",
      " |          You can use ``callbacks`` parameter of ``fit`` method to shrink/adapt learning rate\n",
      " |          in training using ``reset_parameter`` callback.\n",
      " |          Note, that this will ignore the ``learning_rate`` argument in training.\n",
      " |      n_estimators : int, optional (default=100)\n",
      " |          Number of boosted trees to fit.\n",
      " |      subsample_for_bin : int, optional (default=200000)\n",
      " |          Number of samples for constructing bins.\n",
      " |      objective : str, callable or None, optional (default=None)\n",
      " |          Specify the learning task and the corresponding learning objective or\n",
      " |          a custom objective function to be used (see note below).\n",
      " |          Default: 'regression' for LGBMRegressor, 'binary' or 'multiclass' for LGBMClassifier, 'lambdarank' for LGBMRanker.\n",
      " |      class_weight : dict, 'balanced' or None, optional (default=None)\n",
      " |          Weights associated with classes in the form ``{class_label: weight}``.\n",
      " |          Use this parameter only for multi-class classification task;\n",
      " |          for binary classification task you may use ``is_unbalance`` or ``scale_pos_weight`` parameters.\n",
      " |          Note, that the usage of all these parameters will result in poor estimates of the individual class probabilities.\n",
      " |          You may want to consider performing probability calibration\n",
      " |          (https://scikit-learn.org/stable/modules/calibration.html) of your model.\n",
      " |          The 'balanced' mode uses the values of y to automatically adjust weights\n",
      " |          inversely proportional to class frequencies in the input data as ``n_samples / (n_classes * np.bincount(y))``.\n",
      " |          If None, all classes are supposed to have weight one.\n",
      " |          Note, that these weights will be multiplied with ``sample_weight`` (passed through the ``fit`` method)\n",
      " |          if ``sample_weight`` is specified.\n",
      " |      min_split_gain : float, optional (default=0.)\n",
      " |          Minimum loss reduction required to make a further partition on a leaf node of the tree.\n",
      " |      min_child_weight : float, optional (default=1e-3)\n",
      " |          Minimum sum of instance weight (hessian) needed in a child (leaf).\n",
      " |      min_child_samples : int, optional (default=20)\n",
      " |          Minimum number of data needed in a child (leaf).\n",
      " |      subsample : float, optional (default=1.)\n",
      " |          Subsample ratio of the training instance.\n",
      " |      subsample_freq : int, optional (default=0)\n",
      " |          Frequency of subsample, <=0 means no enable.\n",
      " |      colsample_bytree : float, optional (default=1.)\n",
      " |          Subsample ratio of columns when constructing each tree.\n",
      " |      reg_alpha : float, optional (default=0.)\n",
      " |          L1 regularization term on weights.\n",
      " |      reg_lambda : float, optional (default=0.)\n",
      " |          L2 regularization term on weights.\n",
      " |      random_state : int, RandomState object or None, optional (default=None)\n",
      " |          Random number seed.\n",
      " |          If int, this number is used to seed the C++ code.\n",
      " |          If RandomState object (numpy), a random integer is picked based on its state to seed the C++ code.\n",
      " |          If None, default seeds in C++ code are used.\n",
      " |      n_jobs : int, optional (default=-1)\n",
      " |          Number of parallel threads.\n",
      " |      silent : bool, optional (default=True)\n",
      " |          Whether to print messages while running boosting.\n",
      " |      importance_type : str, optional (default='split')\n",
      " |          The type of feature importance to be filled into ``feature_importances_``.\n",
      " |          If 'split', result contains numbers of times the feature is used in a model.\n",
      " |          If 'gain', result contains total gains of splits which use the feature.\n",
      " |      **kwargs\n",
      " |          Other parameters for the model.\n",
      " |          Check http://lightgbm.readthedocs.io/en/latest/Parameters.html for more parameters.\n",
      " |      \n",
      " |          .. warning::\n",
      " |      \n",
      " |              \\*\\*kwargs is not supported in sklearn, it may cause unexpected issues.\n",
      " |      \n",
      " |      Note\n",
      " |      ----\n",
      " |      A custom objective function can be provided for the ``objective`` parameter.\n",
      " |      In this case, it should have the signature\n",
      " |      ``objective(y_true, y_pred) -> grad, hess`` or\n",
      " |      ``objective(y_true, y_pred, group) -> grad, hess``:\n",
      " |      \n",
      " |          y_true : array-like of shape = [n_samples]\n",
      " |              The target values.\n",
      " |          y_pred : array-like of shape = [n_samples] or shape = [n_samples * n_classes] (for multi-class task)\n",
      " |              The predicted values.\n",
      " |              Predicted values are returned before any transformation,\n",
      " |              e.g. they are raw margin instead of probability of positive class for binary task.\n",
      " |          group : array-like\n",
      " |              Group/query data.\n",
      " |              Only used in the learning-to-rank task.\n",
      " |              sum(group) = n_samples.\n",
      " |              For example, if you have a 100-document dataset with ``group = [10, 20, 40, 10, 10, 10]``, that means that you have 6 groups,\n",
      " |              where the first 10 records are in the first group, records 11-30 are in the second group, records 31-70 are in the third group, etc.\n",
      " |          grad : array-like of shape = [n_samples] or shape = [n_samples * n_classes] (for multi-class task)\n",
      " |              The value of the first order derivative (gradient) of the loss\n",
      " |              with respect to the elements of y_pred for each sample point.\n",
      " |          hess : array-like of shape = [n_samples] or shape = [n_samples * n_classes] (for multi-class task)\n",
      " |              The value of the second order derivative (Hessian) of the loss\n",
      " |              with respect to the elements of y_pred for each sample point.\n",
      " |      \n",
      " |      For multi-class task, the y_pred is group by class_id first, then group by row_id.\n",
      " |      If you want to get i-th row y_pred in j-th class, the access way is y_pred[j * num_data + i]\n",
      " |      and you should group grad and hess in this way as well.\n",
      " |  \n",
      " |  __sklearn_is_fitted__(self) -> bool\n",
      " |  \n",
      " |  get_params(self, deep=True)\n",
      " |      Get parameters for this estimator.\n",
      " |      \n",
      " |      Parameters\n",
      " |      ----------\n",
      " |      deep : bool, optional (default=True)\n",
      " |          If True, will return the parameters for this estimator and\n",
      " |          contained subobjects that are estimators.\n",
      " |      \n",
      " |      Returns\n",
      " |      -------\n",
      " |      params : dict\n",
      " |          Parameter names mapped to their values.\n",
      " |  \n",
      " |  set_params(self, **params)\n",
      " |      Set the parameters of this estimator.\n",
      " |      \n",
      " |      Parameters\n",
      " |      ----------\n",
      " |      **params\n",
      " |          Parameter names with their new values.\n",
      " |      \n",
      " |      Returns\n",
      " |      -------\n",
      " |      self : object\n",
      " |          Returns self.\n",
      " |  \n",
      " |  ----------------------------------------------------------------------\n",
      " |  Readonly properties inherited from LGBMModel:\n",
      " |  \n",
      " |  best_iteration_\n",
      " |      :obj:`int` or :obj:`None`: The best iteration of fitted model if ``early_stopping()`` callback has been specified.\n",
      " |  \n",
      " |  best_score_\n",
      " |      :obj:`dict`: The best score of fitted model.\n",
      " |  \n",
      " |  booster_\n",
      " |      Booster: The underlying Booster of this model.\n",
      " |  \n",
      " |  evals_result_\n",
      " |      :obj:`dict` or :obj:`None`: The evaluation results if validation sets have been specified.\n",
      " |  \n",
      " |  feature_importances_\n",
      " |      :obj:`array` of shape = [n_features]: The feature importances (the higher, the more important).\n",
      " |      \n",
      " |      .. note::\n",
      " |      \n",
      " |          ``importance_type`` attribute is passed to the function\n",
      " |          to configure the type of importance values to be extracted.\n",
      " |  \n",
      " |  feature_name_\n",
      " |      :obj:`array` of shape = [n_features]: The names of features.\n",
      " |  \n",
      " |  n_features_\n",
      " |      :obj:`int`: The number of features of fitted model.\n",
      " |  \n",
      " |  n_features_in_\n",
      " |      :obj:`int`: The number of features of fitted model.\n",
      " |  \n",
      " |  objective_\n",
      " |      :obj:`str` or :obj:`callable`: The concrete objective used while fitting this model.\n",
      " |  \n",
      " |  ----------------------------------------------------------------------\n",
      " |  Methods inherited from sklearn.base.BaseEstimator:\n",
      " |  \n",
      " |  __getstate__(self)\n",
      " |  \n",
      " |  __repr__(self, N_CHAR_MAX=700)\n",
      " |      Return repr(self).\n",
      " |  \n",
      " |  __setstate__(self, state)\n",
      "\n"
     ]
    }
   ],
   "source": [
    "help(LGBMClassifier)"
   ]
  },
  {
   "cell_type": "code",
   "execution_count": 19,
   "id": "ef7a9bb1",
   "metadata": {},
   "outputs": [],
   "source": [
    "model_pipe = make_pipeline( preprocess_pipe, ADASYN(), LGBMClassifier() )"
   ]
  },
  {
   "cell_type": "code",
   "execution_count": 20,
   "id": "4a224076",
   "metadata": {},
   "outputs": [
    {
     "data": {
      "text/html": [
       "<style>#sk-container-id-2 {color: black;background-color: white;}#sk-container-id-2 pre{padding: 0;}#sk-container-id-2 div.sk-toggleable {background-color: white;}#sk-container-id-2 label.sk-toggleable__label {cursor: pointer;display: block;width: 100%;margin-bottom: 0;padding: 0.3em;box-sizing: border-box;text-align: center;}#sk-container-id-2 label.sk-toggleable__label-arrow:before {content: \"▸\";float: left;margin-right: 0.25em;color: #696969;}#sk-container-id-2 label.sk-toggleable__label-arrow:hover:before {color: black;}#sk-container-id-2 div.sk-estimator:hover label.sk-toggleable__label-arrow:before {color: black;}#sk-container-id-2 div.sk-toggleable__content {max-height: 0;max-width: 0;overflow: hidden;text-align: left;background-color: #f0f8ff;}#sk-container-id-2 div.sk-toggleable__content pre {margin: 0.2em;color: black;border-radius: 0.25em;background-color: #f0f8ff;}#sk-container-id-2 input.sk-toggleable__control:checked~div.sk-toggleable__content {max-height: 200px;max-width: 100%;overflow: auto;}#sk-container-id-2 input.sk-toggleable__control:checked~label.sk-toggleable__label-arrow:before {content: \"▾\";}#sk-container-id-2 div.sk-estimator input.sk-toggleable__control:checked~label.sk-toggleable__label {background-color: #d4ebff;}#sk-container-id-2 div.sk-label input.sk-toggleable__control:checked~label.sk-toggleable__label {background-color: #d4ebff;}#sk-container-id-2 input.sk-hidden--visually {border: 0;clip: rect(1px 1px 1px 1px);clip: rect(1px, 1px, 1px, 1px);height: 1px;margin: -1px;overflow: hidden;padding: 0;position: absolute;width: 1px;}#sk-container-id-2 div.sk-estimator {font-family: monospace;background-color: #f0f8ff;border: 1px dotted black;border-radius: 0.25em;box-sizing: border-box;margin-bottom: 0.5em;}#sk-container-id-2 div.sk-estimator:hover {background-color: #d4ebff;}#sk-container-id-2 div.sk-parallel-item::after {content: \"\";width: 100%;border-bottom: 1px solid gray;flex-grow: 1;}#sk-container-id-2 div.sk-label:hover label.sk-toggleable__label {background-color: #d4ebff;}#sk-container-id-2 div.sk-serial::before {content: \"\";position: absolute;border-left: 1px solid gray;box-sizing: border-box;top: 0;bottom: 0;left: 50%;z-index: 0;}#sk-container-id-2 div.sk-serial {display: flex;flex-direction: column;align-items: center;background-color: white;padding-right: 0.2em;padding-left: 0.2em;position: relative;}#sk-container-id-2 div.sk-item {position: relative;z-index: 1;}#sk-container-id-2 div.sk-parallel {display: flex;align-items: stretch;justify-content: center;background-color: white;position: relative;}#sk-container-id-2 div.sk-item::before, #sk-container-id-2 div.sk-parallel-item::before {content: \"\";position: absolute;border-left: 1px solid gray;box-sizing: border-box;top: 0;bottom: 0;left: 50%;z-index: -1;}#sk-container-id-2 div.sk-parallel-item {display: flex;flex-direction: column;z-index: 1;position: relative;background-color: white;}#sk-container-id-2 div.sk-parallel-item:first-child::after {align-self: flex-end;width: 50%;}#sk-container-id-2 div.sk-parallel-item:last-child::after {align-self: flex-start;width: 50%;}#sk-container-id-2 div.sk-parallel-item:only-child::after {width: 0;}#sk-container-id-2 div.sk-dashed-wrapped {border: 1px dashed gray;margin: 0 0.4em 0.5em 0.4em;box-sizing: border-box;padding-bottom: 0.4em;background-color: white;}#sk-container-id-2 div.sk-label label {font-family: monospace;font-weight: bold;display: inline-block;line-height: 1.2em;}#sk-container-id-2 div.sk-label-container {text-align: center;}#sk-container-id-2 div.sk-container {/* jupyter's `normalize.less` sets `[hidden] { display: none; }` but bootstrap.min.css set `[hidden] { display: none !important; }` so we also need the `!important` here to be able to override the default hidden behavior on the sphinx rendered scikit-learn.org. See: https://github.com/scikit-learn/scikit-learn/issues/21755 */display: inline-block !important;position: relative;}#sk-container-id-2 div.sk-text-repr-fallback {display: none;}</style><div id=\"sk-container-id-2\" class=\"sk-top-container\"><div class=\"sk-text-repr-fallback\"><pre>GridSearchCV(cv=5,\n",
       "             estimator=Pipeline(steps=[(&#x27;columntransformer&#x27;,\n",
       "                                        ColumnTransformer(transformers=[(&#x27;pipeline-1&#x27;,\n",
       "                                                                         Pipeline(steps=[(&#x27;knnimputer&#x27;,\n",
       "                                                                                          KNNImputer()),\n",
       "                                                                                         (&#x27;minmaxscaler&#x27;,\n",
       "                                                                                          MinMaxScaler())]),\n",
       "                                                                         [&#x27;thickness&#x27;,\n",
       "                                                                          &#x27;resist_target&#x27;,\n",
       "                                                                          &#x27;Line_CD&#x27;,\n",
       "                                                                          &#x27;Etching_rate&#x27;]),\n",
       "                                                                        (&#x27;pipeline-2&#x27;,\n",
       "                                                                         Pipeline(steps=[(&#x27;simpleimputer&#x27;,\n",
       "                                                                                          SimpleImputer(strategy=&#x27;most_frequent&#x27;)),\n",
       "                                                                                         (&#x27;onehotencoder&#x27;,\n",
       "                                                                                          OneHotEncoder())]),\n",
       "                                                                         [&#x27;type&#x27;,\n",
       "                                                                          &#x27;UV_type&#x27;])])),\n",
       "                                       (&#x27;adasyn&#x27;, ADASYN()),\n",
       "                                       (&#x27;lgbmclassifier&#x27;, LGBMClassifier())]),\n",
       "             n_jobs=-1,\n",
       "             param_grid={&#x27;lgbmclassifier__learning_rate&#x27;: [0.1, 0.01, 0.001],\n",
       "                         &#x27;lgbmclassifier__max_depth&#x27;: range(5, 11),\n",
       "                         &#x27;lgbmclassifier__n_estimators&#x27;: [50, 100, 200]},\n",
       "             scoring=&#x27;f1&#x27;)</pre><b>In a Jupyter environment, please rerun this cell to show the HTML representation or trust the notebook. <br />On GitHub, the HTML representation is unable to render, please try loading this page with nbviewer.org.</b></div><div class=\"sk-container\" hidden><div class=\"sk-item sk-dashed-wrapped\"><div class=\"sk-label-container\"><div class=\"sk-label sk-toggleable\"><input class=\"sk-toggleable__control sk-hidden--visually\" id=\"sk-estimator-id-12\" type=\"checkbox\" ><label for=\"sk-estimator-id-12\" class=\"sk-toggleable__label sk-toggleable__label-arrow\">GridSearchCV</label><div class=\"sk-toggleable__content\"><pre>GridSearchCV(cv=5,\n",
       "             estimator=Pipeline(steps=[(&#x27;columntransformer&#x27;,\n",
       "                                        ColumnTransformer(transformers=[(&#x27;pipeline-1&#x27;,\n",
       "                                                                         Pipeline(steps=[(&#x27;knnimputer&#x27;,\n",
       "                                                                                          KNNImputer()),\n",
       "                                                                                         (&#x27;minmaxscaler&#x27;,\n",
       "                                                                                          MinMaxScaler())]),\n",
       "                                                                         [&#x27;thickness&#x27;,\n",
       "                                                                          &#x27;resist_target&#x27;,\n",
       "                                                                          &#x27;Line_CD&#x27;,\n",
       "                                                                          &#x27;Etching_rate&#x27;]),\n",
       "                                                                        (&#x27;pipeline-2&#x27;,\n",
       "                                                                         Pipeline(steps=[(&#x27;simpleimputer&#x27;,\n",
       "                                                                                          SimpleImputer(strategy=&#x27;most_frequent&#x27;)),\n",
       "                                                                                         (&#x27;onehotencoder&#x27;,\n",
       "                                                                                          OneHotEncoder())]),\n",
       "                                                                         [&#x27;type&#x27;,\n",
       "                                                                          &#x27;UV_type&#x27;])])),\n",
       "                                       (&#x27;adasyn&#x27;, ADASYN()),\n",
       "                                       (&#x27;lgbmclassifier&#x27;, LGBMClassifier())]),\n",
       "             n_jobs=-1,\n",
       "             param_grid={&#x27;lgbmclassifier__learning_rate&#x27;: [0.1, 0.01, 0.001],\n",
       "                         &#x27;lgbmclassifier__max_depth&#x27;: range(5, 11),\n",
       "                         &#x27;lgbmclassifier__n_estimators&#x27;: [50, 100, 200]},\n",
       "             scoring=&#x27;f1&#x27;)</pre></div></div></div><div class=\"sk-parallel\"><div class=\"sk-parallel-item\"><div class=\"sk-item\"><div class=\"sk-label-container\"><div class=\"sk-label sk-toggleable\"><input class=\"sk-toggleable__control sk-hidden--visually\" id=\"sk-estimator-id-13\" type=\"checkbox\" ><label for=\"sk-estimator-id-13\" class=\"sk-toggleable__label sk-toggleable__label-arrow\">estimator: Pipeline</label><div class=\"sk-toggleable__content\"><pre>Pipeline(steps=[(&#x27;columntransformer&#x27;,\n",
       "                 ColumnTransformer(transformers=[(&#x27;pipeline-1&#x27;,\n",
       "                                                  Pipeline(steps=[(&#x27;knnimputer&#x27;,\n",
       "                                                                   KNNImputer()),\n",
       "                                                                  (&#x27;minmaxscaler&#x27;,\n",
       "                                                                   MinMaxScaler())]),\n",
       "                                                  [&#x27;thickness&#x27;, &#x27;resist_target&#x27;,\n",
       "                                                   &#x27;Line_CD&#x27;, &#x27;Etching_rate&#x27;]),\n",
       "                                                 (&#x27;pipeline-2&#x27;,\n",
       "                                                  Pipeline(steps=[(&#x27;simpleimputer&#x27;,\n",
       "                                                                   SimpleImputer(strategy=&#x27;most_frequent&#x27;)),\n",
       "                                                                  (&#x27;onehotencoder&#x27;,\n",
       "                                                                   OneHotEncoder())]),\n",
       "                                                  [&#x27;type&#x27;, &#x27;UV_type&#x27;])])),\n",
       "                (&#x27;adasyn&#x27;, ADASYN()), (&#x27;lgbmclassifier&#x27;, LGBMClassifier())])</pre></div></div></div><div class=\"sk-serial\"><div class=\"sk-item\"><div class=\"sk-serial\"><div class=\"sk-item sk-dashed-wrapped\"><div class=\"sk-label-container\"><div class=\"sk-label sk-toggleable\"><input class=\"sk-toggleable__control sk-hidden--visually\" id=\"sk-estimator-id-14\" type=\"checkbox\" ><label for=\"sk-estimator-id-14\" class=\"sk-toggleable__label sk-toggleable__label-arrow\">columntransformer: ColumnTransformer</label><div class=\"sk-toggleable__content\"><pre>ColumnTransformer(transformers=[(&#x27;pipeline-1&#x27;,\n",
       "                                 Pipeline(steps=[(&#x27;knnimputer&#x27;, KNNImputer()),\n",
       "                                                 (&#x27;minmaxscaler&#x27;,\n",
       "                                                  MinMaxScaler())]),\n",
       "                                 [&#x27;thickness&#x27;, &#x27;resist_target&#x27;, &#x27;Line_CD&#x27;,\n",
       "                                  &#x27;Etching_rate&#x27;]),\n",
       "                                (&#x27;pipeline-2&#x27;,\n",
       "                                 Pipeline(steps=[(&#x27;simpleimputer&#x27;,\n",
       "                                                  SimpleImputer(strategy=&#x27;most_frequent&#x27;)),\n",
       "                                                 (&#x27;onehotencoder&#x27;,\n",
       "                                                  OneHotEncoder())]),\n",
       "                                 [&#x27;type&#x27;, &#x27;UV_type&#x27;])])</pre></div></div></div><div class=\"sk-parallel\"><div class=\"sk-parallel-item\"><div class=\"sk-item\"><div class=\"sk-label-container\"><div class=\"sk-label sk-toggleable\"><input class=\"sk-toggleable__control sk-hidden--visually\" id=\"sk-estimator-id-15\" type=\"checkbox\" ><label for=\"sk-estimator-id-15\" class=\"sk-toggleable__label sk-toggleable__label-arrow\">pipeline-1</label><div class=\"sk-toggleable__content\"><pre>[&#x27;thickness&#x27;, &#x27;resist_target&#x27;, &#x27;Line_CD&#x27;, &#x27;Etching_rate&#x27;]</pre></div></div></div><div class=\"sk-serial\"><div class=\"sk-item\"><div class=\"sk-serial\"><div class=\"sk-item\"><div class=\"sk-estimator sk-toggleable\"><input class=\"sk-toggleable__control sk-hidden--visually\" id=\"sk-estimator-id-16\" type=\"checkbox\" ><label for=\"sk-estimator-id-16\" class=\"sk-toggleable__label sk-toggleable__label-arrow\">KNNImputer</label><div class=\"sk-toggleable__content\"><pre>KNNImputer()</pre></div></div></div><div class=\"sk-item\"><div class=\"sk-estimator sk-toggleable\"><input class=\"sk-toggleable__control sk-hidden--visually\" id=\"sk-estimator-id-17\" type=\"checkbox\" ><label for=\"sk-estimator-id-17\" class=\"sk-toggleable__label sk-toggleable__label-arrow\">MinMaxScaler</label><div class=\"sk-toggleable__content\"><pre>MinMaxScaler()</pre></div></div></div></div></div></div></div></div><div class=\"sk-parallel-item\"><div class=\"sk-item\"><div class=\"sk-label-container\"><div class=\"sk-label sk-toggleable\"><input class=\"sk-toggleable__control sk-hidden--visually\" id=\"sk-estimator-id-18\" type=\"checkbox\" ><label for=\"sk-estimator-id-18\" class=\"sk-toggleable__label sk-toggleable__label-arrow\">pipeline-2</label><div class=\"sk-toggleable__content\"><pre>[&#x27;type&#x27;, &#x27;UV_type&#x27;]</pre></div></div></div><div class=\"sk-serial\"><div class=\"sk-item\"><div class=\"sk-serial\"><div class=\"sk-item\"><div class=\"sk-estimator sk-toggleable\"><input class=\"sk-toggleable__control sk-hidden--visually\" id=\"sk-estimator-id-19\" type=\"checkbox\" ><label for=\"sk-estimator-id-19\" class=\"sk-toggleable__label sk-toggleable__label-arrow\">SimpleImputer</label><div class=\"sk-toggleable__content\"><pre>SimpleImputer(strategy=&#x27;most_frequent&#x27;)</pre></div></div></div><div class=\"sk-item\"><div class=\"sk-estimator sk-toggleable\"><input class=\"sk-toggleable__control sk-hidden--visually\" id=\"sk-estimator-id-20\" type=\"checkbox\" ><label for=\"sk-estimator-id-20\" class=\"sk-toggleable__label sk-toggleable__label-arrow\">OneHotEncoder</label><div class=\"sk-toggleable__content\"><pre>OneHotEncoder()</pre></div></div></div></div></div></div></div></div></div></div><div class=\"sk-item\"><div class=\"sk-estimator sk-toggleable\"><input class=\"sk-toggleable__control sk-hidden--visually\" id=\"sk-estimator-id-21\" type=\"checkbox\" ><label for=\"sk-estimator-id-21\" class=\"sk-toggleable__label sk-toggleable__label-arrow\">ADASYN</label><div class=\"sk-toggleable__content\"><pre>ADASYN()</pre></div></div></div><div class=\"sk-item\"><div class=\"sk-estimator sk-toggleable\"><input class=\"sk-toggleable__control sk-hidden--visually\" id=\"sk-estimator-id-22\" type=\"checkbox\" ><label for=\"sk-estimator-id-22\" class=\"sk-toggleable__label sk-toggleable__label-arrow\">LGBMClassifier</label><div class=\"sk-toggleable__content\"><pre>LGBMClassifier()</pre></div></div></div></div></div></div></div></div></div></div></div></div>"
      ],
      "text/plain": [
       "GridSearchCV(cv=5,\n",
       "             estimator=Pipeline(steps=[('columntransformer',\n",
       "                                        ColumnTransformer(transformers=[('pipeline-1',\n",
       "                                                                         Pipeline(steps=[('knnimputer',\n",
       "                                                                                          KNNImputer()),\n",
       "                                                                                         ('minmaxscaler',\n",
       "                                                                                          MinMaxScaler())]),\n",
       "                                                                         ['thickness',\n",
       "                                                                          'resist_target',\n",
       "                                                                          'Line_CD',\n",
       "                                                                          'Etching_rate']),\n",
       "                                                                        ('pipeline-2',\n",
       "                                                                         Pipeline(steps=[('simpleimputer',\n",
       "                                                                                          SimpleImputer(strategy='most_frequent')),\n",
       "                                                                                         ('onehotencoder',\n",
       "                                                                                          OneHotEncoder())]),\n",
       "                                                                         ['type',\n",
       "                                                                          'UV_type'])])),\n",
       "                                       ('adasyn', ADASYN()),\n",
       "                                       ('lgbmclassifier', LGBMClassifier())]),\n",
       "             n_jobs=-1,\n",
       "             param_grid={'lgbmclassifier__learning_rate': [0.1, 0.01, 0.001],\n",
       "                         'lgbmclassifier__max_depth': range(5, 11),\n",
       "                         'lgbmclassifier__n_estimators': [50, 100, 200]},\n",
       "             scoring='f1')"
      ]
     },
     "execution_count": 20,
     "metadata": {},
     "output_type": "execute_result"
    }
   ],
   "source": [
    "hyper_parameter = {'lgbmclassifier__max_depth':range(5,11),\n",
    "                  'lgbmclassifier__n_estimators':[50, 100, 200],\n",
    "                  'lgbmclassifier__learning_rate':[0.1, 0.01, 0.001]}\n",
    "grid_model = GridSearchCV(model_pipe, param_grid=hyper_parameter, \n",
    "                           cv=5, n_jobs=-1,scoring='f1')\n",
    "grid_model.fit(X_train, Y_train)"
   ]
  },
  {
   "cell_type": "code",
   "execution_count": 21,
   "id": "d483b271",
   "metadata": {},
   "outputs": [],
   "source": [
    "best_model = grid_model.best_estimator_\n",
    "Y_train_pred = best_model.predict(X_train)\n",
    "Y_test_pred  = best_model.predict(X_test)"
   ]
  },
  {
   "cell_type": "code",
   "execution_count": 22,
   "id": "8049d684",
   "metadata": {},
   "outputs": [
    {
     "name": "stdout",
     "output_type": "stream",
     "text": [
      "              precision    recall  f1-score   support\n",
      "\n",
      "         0.0       0.99      0.88      0.93       482\n",
      "         1.0       0.41      0.93      0.57        44\n",
      "\n",
      "    accuracy                           0.88       526\n",
      "   macro avg       0.70      0.91      0.75       526\n",
      "weighted avg       0.94      0.88      0.90       526\n",
      "\n"
     ]
    }
   ],
   "source": [
    "print(classification_report(Y_train, Y_train_pred))"
   ]
  },
  {
   "cell_type": "code",
   "execution_count": 23,
   "id": "6842222b",
   "metadata": {},
   "outputs": [
    {
     "name": "stdout",
     "output_type": "stream",
     "text": [
      "              precision    recall  f1-score   support\n",
      "\n",
      "         0.0       0.94      0.82      0.88       206\n",
      "         1.0       0.20      0.45      0.27        20\n",
      "\n",
      "    accuracy                           0.79       226\n",
      "   macro avg       0.57      0.64      0.57       226\n",
      "weighted avg       0.87      0.79      0.82       226\n",
      "\n"
     ]
    }
   ],
   "source": [
    "print(classification_report(Y_test, Y_test_pred))"
   ]
  },
  {
   "cell_type": "markdown",
   "id": "962aee24",
   "metadata": {},
   "source": [
    "# Mission / 5분에 시작 ! \n",
    "- 17_Data.csv 데이터를 가져와 아래의 미션을 수행 / 엑셀 금지!"
   ]
  },
  {
   "cell_type": "code",
   "execution_count": 24,
   "id": "752e104b",
   "metadata": {},
   "outputs": [],
   "source": [
    "# 1. 데이터 재구조화 함수를 이용하여, 데이터 테이블을 아래와 같이 구성 \n",
    "df_17  = pd.read_csv('17_Data.csv', encoding='cp949')\n",
    "df_melt = df_17.iloc[2:].melt(id_vars=['순번','상품코드','상품명',' 합계'])\n",
    "df1  = df_melt.rename(columns={'variable':'판매지역',\n",
    "                               'value':'수량'}).drop(columns=' 합계')"
   ]
  },
  {
   "cell_type": "code",
   "execution_count": 25,
   "id": "dae96f0f",
   "metadata": {},
   "outputs": [
    {
     "name": "stdout",
     "output_type": "stream",
     "text": [
      "<class 'pandas.core.frame.DataFrame'>\n",
      "RangeIndex: 73830 entries, 0 to 73829\n",
      "Data columns (total 5 columns):\n",
      " #   Column  Non-Null Count  Dtype  \n",
      "---  ------  --------------  -----  \n",
      " 0   순번      73830 non-null  float64\n",
      " 1   상품코드    73830 non-null  float64\n",
      " 2   상품명     73830 non-null  object \n",
      " 3   판매지역    73830 non-null  object \n",
      " 4   수량      73830 non-null  object \n",
      "dtypes: float64(2), object(3)\n",
      "memory usage: 2.8+ MB\n"
     ]
    }
   ],
   "source": [
    "# 2. 만들어진 데이터 테이블을 df1으로 선언하고 구조와 타입 및 결측값을 확인 \n",
    "df1.info()"
   ]
  },
  {
   "cell_type": "code",
   "execution_count": 26,
   "id": "38a9597d",
   "metadata": {},
   "outputs": [
    {
     "data": {
      "text/plain": [
       "(117, 646)"
      ]
     },
     "execution_count": 26,
     "metadata": {},
     "output_type": "execute_result"
    }
   ],
   "source": [
    "pd.read_csv('17_Data.csv', encoding='cp949').shape"
   ]
  },
  {
   "cell_type": "code",
   "execution_count": 27,
   "id": "6bcb4040",
   "metadata": {},
   "outputs": [
    {
     "data": {
      "text/plain": [
       "S    50076\n",
       "C    17334\n",
       "B     6420\n",
       "Name: 상품구분, dtype: int64"
      ]
     },
     "execution_count": 27,
     "metadata": {},
     "output_type": "execute_result"
    }
   ],
   "source": [
    "# 3. '상품명'에서 'BW'이름이 포함된 항목은 'B' / \n",
    "#    'CAT'이름이 포함된 항목은 'C' / 나머지는 'S'로 값을 변환하여 '상품구분'이라는 새로운 항목을 선언\n",
    "def func1(row):\n",
    "    if 'BW' in row:\n",
    "        return 'B'\n",
    "    elif 'CAT' in row:\n",
    "        return 'C'\n",
    "    return 'S'\n",
    "\n",
    "df1['상품구분'] = df1['상품명'].apply(func1)\n",
    "df1['상품구분'].value_counts()"
   ]
  },
  {
   "cell_type": "code",
   "execution_count": 28,
   "id": "8dbfb86a",
   "metadata": {},
   "outputs": [],
   "source": [
    "# 4. 'B'항목과 'C'항목의 상품 발주'수량'의 평균의 차이가 있는지 그래프로 확인 후 가설검정 수행 "
   ]
  },
  {
   "cell_type": "code",
   "execution_count": 29,
   "id": "975e4499",
   "metadata": {},
   "outputs": [
    {
     "data": {
      "text/plain": [
       "count    73830.000000\n",
       "mean        27.483354\n",
       "std        129.102559\n",
       "min          0.000000\n",
       "25%          0.000000\n",
       "50%          0.000000\n",
       "75%          0.000000\n",
       "max       3984.000000\n",
       "Name: 수량(int), dtype: float64"
      ]
     },
     "execution_count": 29,
     "metadata": {},
     "output_type": "execute_result"
    }
   ],
   "source": [
    "def func2(row):\n",
    "    return int(row.replace(',', ''))\n",
    "\n",
    "df1['수량(int)'] = df1['수량'].apply(func2)\n",
    "df1['수량(int)'].describe()"
   ]
  },
  {
   "cell_type": "code",
   "execution_count": 30,
   "id": "56f17fb9",
   "metadata": {},
   "outputs": [
    {
     "data": {
      "text/plain": [
       "<AxesSubplot:xlabel='상품구분', ylabel='수량(int)'>"
      ]
     },
     "execution_count": 30,
     "metadata": {},
     "output_type": "execute_result"
    },
    {
     "data": {
      "image/png": "[encoded data removed]",
      "text/plain": [
       "<Figure size 432x288 with 1 Axes>"
      ]
     },
     "metadata": {
      "needs_background": "light"
     },
     "output_type": "display_data"
    }
   ],
   "source": [
    "sns.barplot(data=df1, x='상품구분', y='수량(int)', ci=None)"
   ]
  },
  {
   "cell_type": "code",
   "execution_count": 31,
   "id": "9082a986",
   "metadata": {},
   "outputs": [
    {
     "data": {
      "text/plain": [
       "<AxesSubplot:xlabel='상품구분', ylabel='수량(int)'>"
      ]
     },
     "execution_count": 31,
     "metadata": {},
     "output_type": "execute_result"
    },
    {
     "data": {
      "image/png": "[encoded data removed]",
      "text/plain": [
       "<Figure size 432x288 with 1 Axes>"
      ]
     },
     "metadata": {
      "needs_background": "light"
     },
     "output_type": "display_data"
    }
   ],
   "source": [
    "sns.barplot(data=df1, x='상품구분', y='수량(int)', ci=None, estimator=sum)"
   ]
  },
  {
   "cell_type": "code",
   "execution_count": 32,
   "id": "504566ad",
   "metadata": {},
   "outputs": [],
   "source": [
    "# 5. '판매지역'에서 가장 판매수량이 많은 지역 5개를 선별한 뒤,\n",
    "#     5개 지역에서 가장 많이 발주된 '상품구분'항목을 확인 \n",
    "p1        = df1.pivot_table(index='판매지역',values='수량(int)', aggfunc='sum')\n",
    "top5_list = p1.sort_values(by='수량(int)',ascending=False).head(5).index.tolist()"
   ]
  },
  {
   "cell_type": "code",
   "execution_count": 33,
   "id": "e852a6a3",
   "metadata": {},
   "outputs": [
    {
     "data": {
      "text/html": [
       "<div>\n",
       "<style scoped>\n",
       "    .dataframe tbody tr th:only-of-type {\n",
       "        vertical-align: middle;\n",
       "    }\n",
       "\n",
       "    .dataframe tbody tr th {\n",
       "        vertical-align: top;\n",
       "    }\n",
       "\n",
       "    .dataframe thead th {\n",
       "        text-align: right;\n",
       "    }\n",
       "</style>\n",
       "<table border=\"1\" class=\"dataframe\">\n",
       "  <thead>\n",
       "    <tr style=\"text-align: right;\">\n",
       "      <th></th>\n",
       "      <th>순번</th>\n",
       "      <th>상품코드</th>\n",
       "      <th>상품명</th>\n",
       "      <th>판매지역</th>\n",
       "      <th>수량</th>\n",
       "      <th>상품구분</th>\n",
       "      <th>수량(int)</th>\n",
       "    </tr>\n",
       "  </thead>\n",
       "  <tbody>\n",
       "    <tr>\n",
       "      <th>53462</th>\n",
       "      <td>103.0</td>\n",
       "      <td>8.801860e+12</td>\n",
       "      <td>CAT2 500ml(신)</td>\n",
       "      <td>(610)부천점</td>\n",
       "      <td>3,984</td>\n",
       "      <td>C</td>\n",
       "      <td>3984</td>\n",
       "    </tr>\n",
       "    <tr>\n",
       "      <th>61167</th>\n",
       "      <td>103.0</td>\n",
       "      <td>8.801860e+12</td>\n",
       "      <td>CAT2 500ml(신)</td>\n",
       "      <td>(966)성남점</td>\n",
       "      <td>2,952</td>\n",
       "      <td>C</td>\n",
       "      <td>2952</td>\n",
       "    </tr>\n",
       "    <tr>\n",
       "      <th>53225</th>\n",
       "      <td>96.0</td>\n",
       "      <td>8.801860e+12</td>\n",
       "      <td>CAT1 1.0L</td>\n",
       "      <td>(600)안양점</td>\n",
       "      <td>2,637</td>\n",
       "      <td>C</td>\n",
       "      <td>2637</td>\n",
       "    </tr>\n",
       "    <tr>\n",
       "      <th>57239</th>\n",
       "      <td>85.0</td>\n",
       "      <td>8.801020e+12</td>\n",
       "      <td>HGD3 500ml 캔 (202006)</td>\n",
       "      <td>(930)죽전점</td>\n",
       "      <td>2,302</td>\n",
       "      <td>S</td>\n",
       "      <td>2302</td>\n",
       "    </tr>\n",
       "    <tr>\n",
       "      <th>61155</th>\n",
       "      <td>91.0</td>\n",
       "      <td>8.801860e+12</td>\n",
       "      <td>CAT2 500ml</td>\n",
       "      <td>(966)성남점</td>\n",
       "      <td>2,245</td>\n",
       "      <td>C</td>\n",
       "      <td>2245</td>\n",
       "    </tr>\n",
       "  </tbody>\n",
       "</table>\n",
       "</div>"
      ],
      "text/plain": [
       "          순번          상품코드                    상품명      판매지역     수량 상품구분  \\\n",
       "53462  103.0  8.801860e+12          CAT2 500ml(신)  (610)부천점  3,984    C   \n",
       "61167  103.0  8.801860e+12          CAT2 500ml(신)  (966)성남점  2,952    C   \n",
       "53225   96.0  8.801860e+12              CAT1 1.0L  (600)안양점  2,637    C   \n",
       "57239   85.0  8.801020e+12  HGD3 500ml 캔 (202006)  (930)죽전점  2,302    S   \n",
       "61155   91.0  8.801860e+12             CAT2 500ml  (966)성남점  2,245    C   \n",
       "\n",
       "       수량(int)  \n",
       "53462     3984  \n",
       "61167     2952  \n",
       "53225     2637  \n",
       "57239     2302  \n",
       "61155     2245  "
      ]
     },
     "execution_count": 33,
     "metadata": {},
     "output_type": "execute_result"
    }
   ],
   "source": [
    "cond1 = df1['판매지역'].isin(top5_list)\n",
    "df1.loc[cond1].sort_values(by='수량(int)',ascending=False).head(5)"
   ]
  },
  {
   "cell_type": "code",
   "execution_count": 34,
   "id": "80da4ba8",
   "metadata": {},
   "outputs": [],
   "source": [
    "# 6. '판매지역'에 'E/T'값이 포함된 항목과 '\n",
    "#     NB'값이 포함된 항목을 구분하여, 두 항목간 발주수량의 평균의 차이가 있는지 검정 \n",
    "def func3(row):\n",
    "    if 'E/T' in row:\n",
    "        return 'E/T'\n",
    "    elif 'NB' in row:\n",
    "        return 'NB'\n",
    "    else :\n",
    "        return 'Other'\n",
    "\n",
    "df1['판매지역구분'] = df1['판매지역'].apply(func3)"
   ]
  },
  {
   "cell_type": "code",
   "execution_count": 35,
   "id": "676804e4",
   "metadata": {},
   "outputs": [],
   "source": [
    "cond1 = (df1['판매지역구분'].isin(['E/T','NB']))\n",
    "df2 = df1.loc[cond1]"
   ]
  },
  {
   "cell_type": "code",
   "execution_count": 36,
   "id": "6efac2f9",
   "metadata": {},
   "outputs": [
    {
     "data": {
      "text/plain": [
       "NormaltestResult(statistic=68286.2778925072, pvalue=0.0)"
      ]
     },
     "execution_count": 36,
     "metadata": {},
     "output_type": "execute_result"
    }
   ],
   "source": [
    "# (범주형 VS 연속형 -> 평균검정)\n",
    "# 6-1. 수량 데이터의 분포가 정규분포를 따르는가? (귀무: 정규분포 / 대립 : 정규분포X)\n",
    "stats.normaltest(df2['수량(int)'])\n",
    "# P.value < 0.05 / 대립가설 참 / 정규분포 X "
   ]
  },
  {
   "cell_type": "code",
   "execution_count": 38,
   "id": "d0c6c1ed",
   "metadata": {},
   "outputs": [],
   "source": [
    "cond1  = (df2['판매지역구분'].isin(['E/T']))\n",
    "cond2  = (df2['판매지역구분']=='NB')\n",
    "df2_ET = df2.loc[cond1]\n",
    "df2_NB = df2.loc[cond2]"
   ]
  },
  {
   "cell_type": "code",
   "execution_count": 39,
   "id": "85c0bf6e",
   "metadata": {},
   "outputs": [
    {
     "data": {
      "text/plain": [
       "RanksumsResult(statistic=8.936132156072583, pvalue=4.030299153195065e-19)"
      ]
     },
     "execution_count": 39,
     "metadata": {},
     "output_type": "execute_result"
    }
   ],
   "source": [
    "# 6-2. 정규분포를 따르지 않는 수량값의 평균의 차이가 두집단에 따라 발생하는가? \n",
    "# 귀무가설 : 두 집단의 수량 데이터 평균의 차이가 없다.  \n",
    "# 대립가설 : 두 집단의 수량 데이터 평균의 차이가 있다.\n",
    "stats.ranksums(df2_ET['수량(int)'], df2_NB['수량(int)'])\n",
    "# P.value < 0.05 / 대립가설 참 /두 집단의 수량 데이터 평균의 차이가 있다."
   ]
  },
  {
   "cell_type": "code",
   "execution_count": 40,
   "id": "ffce13b4",
   "metadata": {},
   "outputs": [],
   "source": [
    "# 7. '판매지역'에 따른 '수량'의 '평균'/'합'/'최대'/'최소'값을 계산 \n",
    "df1.pivot_table(index='판매지역',values='수량(int)',\n",
    "                aggfunc=['mean','sum','max','min']).to_excel('result.xlsx')"
   ]
  },
  {
   "cell_type": "code",
   "execution_count": 41,
   "id": "530ce052",
   "metadata": {},
   "outputs": [
    {
     "data": {
      "text/html": [
       "<div>\n",
       "<style scoped>\n",
       "    .dataframe tbody tr th:only-of-type {\n",
       "        vertical-align: middle;\n",
       "    }\n",
       "\n",
       "    .dataframe tbody tr th {\n",
       "        vertical-align: top;\n",
       "    }\n",
       "\n",
       "    .dataframe thead th {\n",
       "        text-align: right;\n",
       "    }\n",
       "</style>\n",
       "<table border=\"1\" class=\"dataframe\">\n",
       "  <thead>\n",
       "    <tr style=\"text-align: right;\">\n",
       "      <th></th>\n",
       "      <th>수량(int)</th>\n",
       "    </tr>\n",
       "    <tr>\n",
       "      <th>상품명</th>\n",
       "      <th></th>\n",
       "    </tr>\n",
       "  </thead>\n",
       "  <tbody>\n",
       "    <tr>\n",
       "      <th>CAT2 500ml</th>\n",
       "      <td>194889</td>\n",
       "    </tr>\n",
       "    <tr>\n",
       "      <th>CAT2 500ml(신)</th>\n",
       "      <td>163233</td>\n",
       "    </tr>\n",
       "    <tr>\n",
       "      <th>CAT2 1.6L</th>\n",
       "      <td>125144</td>\n",
       "    </tr>\n",
       "  </tbody>\n",
       "</table>\n",
       "</div>"
      ],
      "text/plain": [
       "               수량(int)\n",
       "상품명                   \n",
       "CAT2 500ml      194889\n",
       "CAT2 500ml(신)   163233\n",
       "CAT2 1.6L       125144"
      ]
     },
     "execution_count": 41,
     "metadata": {},
     "output_type": "execute_result"
    }
   ],
   "source": [
    "# 8. 판매 수량이 가장 높은 상위 3개의 품목을 확인 \n",
    "df1.pivot_table(index='상품명',values='수량(int)',\n",
    "                aggfunc='sum').sort_values(by='수량(int)', ascending=False).head(3)"
   ]
  },
  {
   "cell_type": "markdown",
   "id": "27c5e298",
   "metadata": {},
   "source": [
    "# 비지도 학습 \n",
    "\n",
    "- X(설명변수)들 간의 관계(유사성,연관성,기하거리)을 이용해서 비슷한 데이터를 묶어주거나, 유사한 데이터를 확인, 차원을 줄여주는 등의 학습 기법 \n",
    "    - 1. 군집분석(Clustering) : 데이터간의 거리등을 계산하여 인접한 데이터를 묶어주는 작업 \n",
    "    - 2. 연관분석(Association Analysis) : 각각의 데이터의 유사도를 계산하여, 비슷한 데이터들을 찾거나 확인 하는 분석 \n",
    "    - 3. 차원축소(PCA, 주성분분석) : 여러가지 항목들을 수학적 기법을 활용해 적은 차원으로 줄여주는 방법 \n",
    "    \n",
    "- **Clustering(군집분석)**\n",
    "    - 계층형 군집분석 : 병합 또는 분할 기법을 이용해 가까운(또는 먼)위치의 데이터를 묶어 나가며 군집을 형성 하는 기법  / 알아서 층계를 형성 -> 군집의 수가 알아서 결정 \n",
    "    - 비계층형 군집분석 : 데이터 간의 거리나 데이터의 밀도를 이용해 군집을 구성  \n",
    "        / 사용자가 군집수를 직접 지정 / K-mean \n",
    "    - 잠재공간 군집분석 : 잠재 공간으로 추청된 값을 이용해 군집을 구성 "
   ]
  },
  {
   "cell_type": "code",
   "execution_count": 42,
   "id": "cc95113d",
   "metadata": {},
   "outputs": [],
   "source": [
    "from sklearn.cluster import AgglomerativeClustering # 병합형 계층 군집분석 "
   ]
  },
  {
   "cell_type": "code",
   "execution_count": 43,
   "id": "eb4ec70f",
   "metadata": {},
   "outputs": [],
   "source": [
    "df1 = pd.read_csv('06_Data.csv')"
   ]
  },
  {
   "cell_type": "code",
   "execution_count": 44,
   "id": "9be4bd94",
   "metadata": {},
   "outputs": [],
   "source": [
    "X = df1[['Mean Radius','Mean Perimeter','Mean Area', 'Mean Texture']]"
   ]
  },
  {
   "cell_type": "code",
   "execution_count": null,
   "id": "5dded59b",
   "metadata": {},
   "outputs": [],
   "source": [
    "cluster = AgglomerativeClustering()\n",
    "cluster.fit(X)"
   ]
  },
  {
   "cell_type": "code",
   "execution_count": null,
   "id": "8ce3734e",
   "metadata": {},
   "outputs": [],
   "source": [
    "X['cluster'] = cluster.fit_predict(X)"
   ]
  },
  {
   "cell_type": "code",
   "execution_count": null,
   "id": "b03a8715",
   "metadata": {},
   "outputs": [],
   "source": [
    "sns.pairplot(data=X, hue='cluster')"
   ]
  },
  {
   "cell_type": "code",
   "execution_count": null,
   "id": "1817e7d0",
   "metadata": {},
   "outputs": [],
   "source": [
    "from sklearn.cluster import KMeans"
   ]
  },
  {
   "cell_type": "code",
   "execution_count": null,
   "id": "565c944d",
   "metadata": {},
   "outputs": [],
   "source": [
    "cluster = KMeans(n_clusters= 4)\n",
    "cluster.fit(X)"
   ]
  },
  {
   "cell_type": "code",
   "execution_count": null,
   "id": "bc870289",
   "metadata": {},
   "outputs": [],
   "source": [
    "X['kmeans_cluster'] = cluster.fit_predict(X)\n",
    "X['kmeans_cluster'].value_counts()"
   ]
  },
  {
   "cell_type": "code",
   "execution_count": null,
   "id": "281c91b9",
   "metadata": {},
   "outputs": [],
   "source": [
    "sns.pairplot(data=X, hue='kmeans_cluster')"
   ]
  },
  {
   "cell_type": "markdown",
   "id": "804d6685",
   "metadata": {},
   "source": [
    "# 실루엣 분석 \n",
    "\n",
    "- 실루엣 값 : 같은 군집 내 데이터가 얼마나 잘 모여있는가, 서로 다른 군집끼리 데이터가 얼마나 떨어져 있는가를 수치화 한 지표 / **참고 지표로 사용** "
   ]
  },
  {
   "cell_type": "code",
   "execution_count": 45,
   "id": "91352f67",
   "metadata": {},
   "outputs": [],
   "source": [
    "from sklearn.metrics import silhouette_score"
   ]
  },
  {
   "cell_type": "code",
   "execution_count": 46,
   "id": "ae4dfc7e",
   "metadata": {},
   "outputs": [],
   "source": [
    "X_feature = X[['Mean Radius','Mean Perimeter','Mean Area', 'Mean Texture']]"
   ]
  },
  {
   "cell_type": "code",
   "execution_count": 47,
   "id": "687f1c09",
   "metadata": {
    "collapsed": true
   },
   "outputs": [
    {
     "ename": "KeyError",
     "evalue": "'kmeans_cluster'",
     "output_type": "error",
     "traceback": [
      "\u001b[1;31m---------------------------------------------------------------------------\u001b[0m",
      "\u001b[1;31mKeyError\u001b[0m                                  Traceback (most recent call last)",
      "File \u001b[1;32mC:\\ProgramData\\Anaconda3\\lib\\site-packages\\pandas\\core\\indexes\\base.py:3621\u001b[0m, in \u001b[0;36mIndex.get_loc\u001b[1;34m(self, key, method, tolerance)\u001b[0m\n\u001b[0;32m   3620\u001b[0m \u001b[38;5;28;01mtry\u001b[39;00m:\n\u001b[1;32m-> 3621\u001b[0m     \u001b[38;5;28;01mreturn\u001b[39;00m \u001b[38;5;28;43mself\u001b[39;49m\u001b[38;5;241;43m.\u001b[39;49m\u001b[43m_engine\u001b[49m\u001b[38;5;241;43m.\u001b[39;49m\u001b[43mget_loc\u001b[49m\u001b[43m(\u001b[49m\u001b[43mcasted_key\u001b[49m\u001b[43m)\u001b[49m\n\u001b[0;32m   3622\u001b[0m \u001b[38;5;28;01mexcept\u001b[39;00m \u001b[38;5;167;01mKeyError\u001b[39;00m \u001b[38;5;28;01mas\u001b[39;00m err:\n",
      "File \u001b[1;32mC:\\ProgramData\\Anaconda3\\lib\\site-packages\\pandas\\_libs\\index.pyx:136\u001b[0m, in \u001b[0;36mpandas._libs.index.IndexEngine.get_loc\u001b[1;34m()\u001b[0m\n",
      "File \u001b[1;32mC:\\ProgramData\\Anaconda3\\lib\\site-packages\\pandas\\_libs\\index.pyx:163\u001b[0m, in \u001b[0;36mpandas._libs.index.IndexEngine.get_loc\u001b[1;34m()\u001b[0m\n",
      "File \u001b[1;32mpandas\\_libs\\hashtable_class_helper.pxi:5198\u001b[0m, in \u001b[0;36mpandas._libs.hashtable.PyObjectHashTable.get_item\u001b[1;34m()\u001b[0m\n",
      "File \u001b[1;32mpandas\\_libs\\hashtable_class_helper.pxi:5206\u001b[0m, in \u001b[0;36mpandas._libs.hashtable.PyObjectHashTable.get_item\u001b[1;34m()\u001b[0m\n",
      "\u001b[1;31mKeyError\u001b[0m: 'kmeans_cluster'",
      "\nThe above exception was the direct cause of the following exception:\n",
      "\u001b[1;31mKeyError\u001b[0m                                  Traceback (most recent call last)",
      "Input \u001b[1;32mIn [47]\u001b[0m, in \u001b[0;36m<cell line: 1>\u001b[1;34m()\u001b[0m\n\u001b[1;32m----> 1\u001b[0m silhouette_score(X_feature, \u001b[43mX\u001b[49m\u001b[43m[\u001b[49m\u001b[38;5;124;43m'\u001b[39;49m\u001b[38;5;124;43mkmeans_cluster\u001b[39;49m\u001b[38;5;124;43m'\u001b[39;49m\u001b[43m]\u001b[49m)\n",
      "File \u001b[1;32mC:\\ProgramData\\Anaconda3\\lib\\site-packages\\pandas\\core\\frame.py:3505\u001b[0m, in \u001b[0;36mDataFrame.__getitem__\u001b[1;34m(self, key)\u001b[0m\n\u001b[0;32m   3503\u001b[0m \u001b[38;5;28;01mif\u001b[39;00m \u001b[38;5;28mself\u001b[39m\u001b[38;5;241m.\u001b[39mcolumns\u001b[38;5;241m.\u001b[39mnlevels \u001b[38;5;241m>\u001b[39m \u001b[38;5;241m1\u001b[39m:\n\u001b[0;32m   3504\u001b[0m     \u001b[38;5;28;01mreturn\u001b[39;00m \u001b[38;5;28mself\u001b[39m\u001b[38;5;241m.\u001b[39m_getitem_multilevel(key)\n\u001b[1;32m-> 3505\u001b[0m indexer \u001b[38;5;241m=\u001b[39m \u001b[38;5;28;43mself\u001b[39;49m\u001b[38;5;241;43m.\u001b[39;49m\u001b[43mcolumns\u001b[49m\u001b[38;5;241;43m.\u001b[39;49m\u001b[43mget_loc\u001b[49m\u001b[43m(\u001b[49m\u001b[43mkey\u001b[49m\u001b[43m)\u001b[49m\n\u001b[0;32m   3506\u001b[0m \u001b[38;5;28;01mif\u001b[39;00m is_integer(indexer):\n\u001b[0;32m   3507\u001b[0m     indexer \u001b[38;5;241m=\u001b[39m [indexer]\n",
      "File \u001b[1;32mC:\\ProgramData\\Anaconda3\\lib\\site-packages\\pandas\\core\\indexes\\base.py:3623\u001b[0m, in \u001b[0;36mIndex.get_loc\u001b[1;34m(self, key, method, tolerance)\u001b[0m\n\u001b[0;32m   3621\u001b[0m     \u001b[38;5;28;01mreturn\u001b[39;00m \u001b[38;5;28mself\u001b[39m\u001b[38;5;241m.\u001b[39m_engine\u001b[38;5;241m.\u001b[39mget_loc(casted_key)\n\u001b[0;32m   3622\u001b[0m \u001b[38;5;28;01mexcept\u001b[39;00m \u001b[38;5;167;01mKeyError\u001b[39;00m \u001b[38;5;28;01mas\u001b[39;00m err:\n\u001b[1;32m-> 3623\u001b[0m     \u001b[38;5;28;01mraise\u001b[39;00m \u001b[38;5;167;01mKeyError\u001b[39;00m(key) \u001b[38;5;28;01mfrom\u001b[39;00m \u001b[38;5;21;01merr\u001b[39;00m\n\u001b[0;32m   3624\u001b[0m \u001b[38;5;28;01mexcept\u001b[39;00m \u001b[38;5;167;01mTypeError\u001b[39;00m:\n\u001b[0;32m   3625\u001b[0m     \u001b[38;5;66;03m# If we have a listlike key, _check_indexing_error will raise\u001b[39;00m\n\u001b[0;32m   3626\u001b[0m     \u001b[38;5;66;03m#  InvalidIndexError. Otherwise we fall through and re-raise\u001b[39;00m\n\u001b[0;32m   3627\u001b[0m     \u001b[38;5;66;03m#  the TypeError.\u001b[39;00m\n\u001b[0;32m   3628\u001b[0m     \u001b[38;5;28mself\u001b[39m\u001b[38;5;241m.\u001b[39m_check_indexing_error(key)\n",
      "\u001b[1;31mKeyError\u001b[0m: 'kmeans_cluster'"
     ]
    }
   ],
   "source": [
    "silhouette_score(X_feature, X['kmeans_cluster'])"
   ]
  },
  {
   "cell_type": "code",
   "execution_count": null,
   "id": "84447cb5",
   "metadata": {},
   "outputs": [],
   "source": [
    "for i in [2,3,4,5]:\n",
    "    cluster = KMeans(n_clusters= i )\n",
    "    cluster.fit(X_feature)\n",
    "    X_cluster = cluster.fit_predict(X_feature)\n",
    "    print(i, '개의 군집 silhouette :', silhouette_score(X_feature, X_cluster))"
   ]
  },
  {
   "cell_type": "markdown",
   "id": "cf80e725",
   "metadata": {},
   "source": [
    "# Mission1.  /  0001jmp@gmail.com\n",
    "\n",
    "-> Store.zip 파일에 있는 1_store_member.csv 데이터와 2_store_product.csv 데이터로 아래와 같은 미션을 수행하고자 한다. "
   ]
  },
  {
   "cell_type": "code",
   "execution_count": null,
   "id": "67a0c5b6",
   "metadata": {},
   "outputs": [],
   "source": [
    "# 2) df_product 데이터에서 고객 한명 당 '총구매금액'/'총구매수량'/'방문횟수'/'주당방문횟수'/'1회방문시구매금액'을 계산하고, 계산된 Table을 df_product_m1으로 선언하시오."
   ]
  },
  {
   "cell_type": "code",
   "execution_count": 48,
   "id": "cac1d80d",
   "metadata": {},
   "outputs": [],
   "source": [
    "df_product = pd.read_csv('2_store_product.csv')"
   ]
  },
  {
   "cell_type": "code",
   "execution_count": 55,
   "id": "7021d5ac",
   "metadata": {},
   "outputs": [],
   "source": [
    "df_member = pd.read_csv('1_store_member.csv')"
   ]
  },
  {
   "cell_type": "code",
   "execution_count": 56,
   "id": "37c83d14",
   "metadata": {
    "collapsed": true
   },
   "outputs": [
    {
     "data": {
      "text/plain": [
       "count    735783.000000\n",
       "mean         13.565960\n",
       "std           7.487991\n",
       "min           1.000000\n",
       "25%           7.000000\n",
       "50%          14.000000\n",
       "75%          20.000000\n",
       "max          26.000000\n",
       "Name: 공급주차, dtype: float64"
      ]
     },
     "execution_count": 56,
     "metadata": {},
     "output_type": "execute_result"
    }
   ],
   "source": [
    "df_product['공급주차'] = pd.to_datetime(df_product['공급일자'],\n",
    "                                    format='%Y%m%d').dt.isocalendar().week\n",
    "df_product['공급주차'].describe()"
   ]
  },
  {
   "cell_type": "code",
   "execution_count": 57,
   "id": "6b4575d0",
   "metadata": {},
   "outputs": [],
   "source": [
    "df_product['방문횟수'] = 1 \n",
    "p1 = df_product.pivot_table(index=['회원번호','공급일자'],\n",
    "                       values='방문횟수',aggfunc='min').reset_index()\n",
    "p2 = p1.pivot_table(index='회원번호',values='방문횟수',aggfunc='sum').reset_index()\n",
    "p2['주당방문횟수']= p2['방문횟수']/26"
   ]
  },
  {
   "cell_type": "code",
   "execution_count": 58,
   "id": "4ccc94a7",
   "metadata": {},
   "outputs": [],
   "source": [
    "p3 = df_product.pivot_table(index='회원번호', \n",
    "                       values=['구매금액','구매수량'],aggfunc='sum').reset_index()"
   ]
  },
  {
   "cell_type": "code",
   "execution_count": 59,
   "id": "c8cb76d1",
   "metadata": {},
   "outputs": [
    {
     "data": {
      "text/html": [
       "<div>\n",
       "<style scoped>\n",
       "    .dataframe tbody tr th:only-of-type {\n",
       "        vertical-align: middle;\n",
       "    }\n",
       "\n",
       "    .dataframe tbody tr th {\n",
       "        vertical-align: top;\n",
       "    }\n",
       "\n",
       "    .dataframe thead th {\n",
       "        text-align: right;\n",
       "    }\n",
       "</style>\n",
       "<table border=\"1\" class=\"dataframe\">\n",
       "  <thead>\n",
       "    <tr style=\"text-align: right;\">\n",
       "      <th></th>\n",
       "      <th>회원번호</th>\n",
       "      <th>총구매금액</th>\n",
       "      <th>총구매수량</th>\n",
       "      <th>총방문횟수</th>\n",
       "      <th>주당방문횟수</th>\n",
       "      <th>1회방문시구매금액</th>\n",
       "    </tr>\n",
       "  </thead>\n",
       "  <tbody>\n",
       "    <tr>\n",
       "      <th>0</th>\n",
       "      <td>2101.0</td>\n",
       "      <td>1991230</td>\n",
       "      <td>382.0</td>\n",
       "      <td>86</td>\n",
       "      <td>3.307692</td>\n",
       "      <td>23153.837209</td>\n",
       "    </tr>\n",
       "    <tr>\n",
       "      <th>1</th>\n",
       "      <td>2102.0</td>\n",
       "      <td>2095860</td>\n",
       "      <td>472.5</td>\n",
       "      <td>79</td>\n",
       "      <td>3.038462</td>\n",
       "      <td>26529.873418</td>\n",
       "    </tr>\n",
       "    <tr>\n",
       "      <th>2</th>\n",
       "      <td>2103.0</td>\n",
       "      <td>8273550</td>\n",
       "      <td>1675.4</td>\n",
       "      <td>126</td>\n",
       "      <td>4.846154</td>\n",
       "      <td>65663.095238</td>\n",
       "    </tr>\n",
       "    <tr>\n",
       "      <th>3</th>\n",
       "      <td>2104.0</td>\n",
       "      <td>6289495</td>\n",
       "      <td>1401.8</td>\n",
       "      <td>125</td>\n",
       "      <td>4.807692</td>\n",
       "      <td>50315.960000</td>\n",
       "    </tr>\n",
       "    <tr>\n",
       "      <th>4</th>\n",
       "      <td>2105.0</td>\n",
       "      <td>3067930</td>\n",
       "      <td>602.0</td>\n",
       "      <td>57</td>\n",
       "      <td>2.192308</td>\n",
       "      <td>53823.333333</td>\n",
       "    </tr>\n",
       "  </tbody>\n",
       "</table>\n",
       "</div>"
      ],
      "text/plain": [
       "     회원번호    총구매금액   총구매수량  총방문횟수    주당방문횟수     1회방문시구매금액\n",
       "0  2101.0  1991230   382.0     86  3.307692  23153.837209\n",
       "1  2102.0  2095860   472.5     79  3.038462  26529.873418\n",
       "2  2103.0  8273550  1675.4    126  4.846154  65663.095238\n",
       "3  2104.0  6289495  1401.8    125  4.807692  50315.960000\n",
       "4  2105.0  3067930   602.0     57  2.192308  53823.333333"
      ]
     },
     "execution_count": 59,
     "metadata": {},
     "output_type": "execute_result"
    }
   ],
   "source": [
    "df_product_m0 = pd.merge(p3, p2, on='회원번호',how='left')\n",
    "df_product_m1= df_product_m0.rename(columns={'구매금액':'총구매금액',\n",
    "                                             '구매수량':'총구매수량',\n",
    "                                             '방문횟수':'총방문횟수'})\n",
    "df_product_m1['1회방문시구매금액'] = df_product_m1['총구매금액'] / df_product_m1['총방문횟수']\n",
    "df_product_m1.head()"
   ]
  },
  {
   "cell_type": "code",
   "execution_count": 60,
   "id": "24dec80e",
   "metadata": {
    "collapsed": true
   },
   "outputs": [
    {
     "data": {
      "text/html": [
       "<div>\n",
       "<style scoped>\n",
       "    .dataframe tbody tr th:only-of-type {\n",
       "        vertical-align: middle;\n",
       "    }\n",
       "\n",
       "    .dataframe tbody tr th {\n",
       "        vertical-align: top;\n",
       "    }\n",
       "\n",
       "    .dataframe thead th {\n",
       "        text-align: right;\n",
       "    }\n",
       "</style>\n",
       "<table border=\"1\" class=\"dataframe\">\n",
       "  <thead>\n",
       "    <tr style=\"text-align: right;\">\n",
       "      <th></th>\n",
       "      <th>회원번호</th>\n",
       "      <th>회원상태</th>\n",
       "      <th>성별</th>\n",
       "      <th>결혼유무</th>\n",
       "      <th>주소</th>\n",
       "      <th>생년</th>\n",
       "      <th>연령</th>\n",
       "      <th>총구매금액</th>\n",
       "      <th>총구매수량</th>\n",
       "      <th>총방문횟수</th>\n",
       "      <th>주당방문횟수</th>\n",
       "      <th>1회방문시구매금액</th>\n",
       "    </tr>\n",
       "  </thead>\n",
       "  <tbody>\n",
       "    <tr>\n",
       "      <th>0</th>\n",
       "      <td>2101</td>\n",
       "      <td>정상회원</td>\n",
       "      <td>여</td>\n",
       "      <td>기혼</td>\n",
       "      <td>서울 강북구 미아동 134-</td>\n",
       "      <td>1967</td>\n",
       "      <td>51</td>\n",
       "      <td>1991230.0</td>\n",
       "      <td>382.0</td>\n",
       "      <td>86.0</td>\n",
       "      <td>3.307692</td>\n",
       "      <td>23153.837209</td>\n",
       "    </tr>\n",
       "    <tr>\n",
       "      <th>1</th>\n",
       "      <td>2102</td>\n",
       "      <td>정상회원</td>\n",
       "      <td>여</td>\n",
       "      <td>NaN</td>\n",
       "      <td>경기 용인시 수지구 동천동</td>\n",
       "      <td>1947</td>\n",
       "      <td>71</td>\n",
       "      <td>2095860.0</td>\n",
       "      <td>472.5</td>\n",
       "      <td>79.0</td>\n",
       "      <td>3.038462</td>\n",
       "      <td>26529.873418</td>\n",
       "    </tr>\n",
       "    <tr>\n",
       "      <th>2</th>\n",
       "      <td>2103</td>\n",
       "      <td>정상회원</td>\n",
       "      <td>여</td>\n",
       "      <td>기혼</td>\n",
       "      <td>경기 용인시 수지구 동천동</td>\n",
       "      <td>1972</td>\n",
       "      <td>46</td>\n",
       "      <td>8273550.0</td>\n",
       "      <td>1675.4</td>\n",
       "      <td>126.0</td>\n",
       "      <td>4.846154</td>\n",
       "      <td>65663.095238</td>\n",
       "    </tr>\n",
       "  </tbody>\n",
       "</table>\n",
       "</div>"
      ],
      "text/plain": [
       "   회원번호  회원상태 성별 결혼유무               주소    생년  연령      총구매금액   총구매수량  총방문횟수  \\\n",
       "0  2101  정상회원  여   기혼  서울 강북구 미아동 134-  1967  51  1991230.0   382.0   86.0   \n",
       "1  2102  정상회원  여  NaN   경기 용인시 수지구 동천동  1947  71  2095860.0   472.5   79.0   \n",
       "2  2103  정상회원  여   기혼   경기 용인시 수지구 동천동  1972  46  8273550.0  1675.4  126.0   \n",
       "\n",
       "     주당방문횟수     1회방문시구매금액  \n",
       "0  3.307692  23153.837209  \n",
       "1  3.038462  26529.873418  \n",
       "2  4.846154  65663.095238  "
      ]
     },
     "execution_count": 60,
     "metadata": {},
     "output_type": "execute_result"
    }
   ],
   "source": [
    "# 3) df_member데이터와 df_product_m1를 '회원번호'를 기준으로 병합하고, df1으로 선언하시오.  \n",
    "df1 = pd.merge(df_member, df_product_m1, on='회원번호',how='left')\n",
    "df1.head(3)"
   ]
  },
  {
   "cell_type": "code",
   "execution_count": 61,
   "id": "ab3ec9a1",
   "metadata": {},
   "outputs": [],
   "source": [
    "# 4) df1 데이터에서 주소지('구' 기준)의 빈도수가 전체 중 50%에 해당하는 지역을 A\n",
    "#     나머지 30% (빈도수의 70%)를 B / 나머지 지역을 C로 나누어 '지역등급'이라는 항목으로 선언하시오. / -> 경기 용인 (\"수지\") / 경기,서울이외 지역은 '기타' /"
   ]
  },
  {
   "cell_type": "code",
   "execution_count": 70,
   "id": "e9eb779c",
   "metadata": {},
   "outputs": [
    {
     "data": {
      "text/html": [
       "<div>\n",
       "<style scoped>\n",
       "    .dataframe tbody tr th:only-of-type {\n",
       "        vertical-align: middle;\n",
       "    }\n",
       "\n",
       "    .dataframe tbody tr th {\n",
       "        vertical-align: top;\n",
       "    }\n",
       "\n",
       "    .dataframe thead th {\n",
       "        text-align: right;\n",
       "    }\n",
       "</style>\n",
       "<table border=\"1\" class=\"dataframe\">\n",
       "  <thead>\n",
       "    <tr style=\"text-align: right;\">\n",
       "      <th></th>\n",
       "      <th>주소</th>\n",
       "      <th>비율</th>\n",
       "      <th>누적비율</th>\n",
       "    </tr>\n",
       "  </thead>\n",
       "  <tbody>\n",
       "    <tr>\n",
       "      <th>수지구</th>\n",
       "      <td>1776</td>\n",
       "      <td>0.404004</td>\n",
       "      <td>0.404004</td>\n",
       "    </tr>\n",
       "    <tr>\n",
       "      <th>분당구</th>\n",
       "      <td>506</td>\n",
       "      <td>0.115105</td>\n",
       "      <td>0.519108</td>\n",
       "    </tr>\n",
       "    <tr>\n",
       "      <th>기흥구</th>\n",
       "      <td>442</td>\n",
       "      <td>0.100546</td>\n",
       "      <td>0.619654</td>\n",
       "    </tr>\n",
       "    <tr>\n",
       "      <th>강남구</th>\n",
       "      <td>165</td>\n",
       "      <td>0.037534</td>\n",
       "      <td>0.657188</td>\n",
       "    </tr>\n",
       "    <tr>\n",
       "      <th>영통구</th>\n",
       "      <td>144</td>\n",
       "      <td>0.032757</td>\n",
       "      <td>0.689945</td>\n",
       "    </tr>\n",
       "    <tr>\n",
       "      <th>...</th>\n",
       "      <td>...</td>\n",
       "      <td>...</td>\n",
       "      <td>...</td>\n",
       "    </tr>\n",
       "    <tr>\n",
       "      <th>경북 문경시 흥덕동 776</th>\n",
       "      <td>1</td>\n",
       "      <td>0.000227</td>\n",
       "      <td>0.999090</td>\n",
       "    </tr>\n",
       "    <tr>\n",
       "      <th>세종  종촌동 649번지 가</th>\n",
       "      <td>1</td>\n",
       "      <td>0.000227</td>\n",
       "      <td>0.999318</td>\n",
       "    </tr>\n",
       "    <tr>\n",
       "      <th>재궁동</th>\n",
       "      <td>1</td>\n",
       "      <td>0.000227</td>\n",
       "      <td>0.999545</td>\n",
       "    </tr>\n",
       "    <tr>\n",
       "      <th>세종  어진동 세종더?센트럴</th>\n",
       "      <td>1</td>\n",
       "      <td>0.000227</td>\n",
       "      <td>0.999773</td>\n",
       "    </tr>\n",
       "    <tr>\n",
       "      <th>충남 금산군 복수면 곡남리</th>\n",
       "      <td>1</td>\n",
       "      <td>0.000227</td>\n",
       "      <td>1.000000</td>\n",
       "    </tr>\n",
       "  </tbody>\n",
       "</table>\n",
       "<p>372 rows × 3 columns</p>\n",
       "</div>"
      ],
      "text/plain": [
       "                   주소        비율      누적비율\n",
       "수지구              1776  0.404004  0.404004\n",
       "분당구               506  0.115105  0.519108\n",
       "기흥구               442  0.100546  0.619654\n",
       "강남구               165  0.037534  0.657188\n",
       "영통구               144  0.032757  0.689945\n",
       "...               ...       ...       ...\n",
       "경북 문경시 흥덕동 776      1  0.000227  0.999090\n",
       "세종  종촌동 649번지 가     1  0.000227  0.999318\n",
       "재궁동                 1  0.000227  0.999545\n",
       "세종  어진동 세종더?센트럴     1  0.000227  0.999773\n",
       "충남 금산군 복수면 곡남리      1  0.000227  1.000000\n",
       "\n",
       "[372 rows x 3 columns]"
      ]
     },
     "execution_count": 70,
     "metadata": {},
     "output_type": "execute_result"
    }
   ],
   "source": [
    "def func4(row):\n",
    "    if '경기' in row:\n",
    "        return row.split(' ')[2]\n",
    "    elif '서울' in row:\n",
    "        return row.split(' ')[1]\n",
    "    return row \n",
    "\n",
    "df_address = pd.DataFrame(df_member['주소'].apply(func4).value_counts())\n",
    "df_address['비율'] = (df_address['주소'] / df_address['주소'].sum())\n",
    "df_address2 = df_address.sort_values(by='비율',ascending=False)\n",
    "df_address2['누적비율'] = df_address2['비율'].cumsum()\n",
    "df_address2"
   ]
  },
  {
   "cell_type": "code",
   "execution_count": 71,
   "id": "24e55d29",
   "metadata": {},
   "outputs": [],
   "source": [
    "df1['주소구분']= df1['주소'].apply(func4)"
   ]
  },
  {
   "cell_type": "code",
   "execution_count": 72,
   "id": "c8d18452",
   "metadata": {
    "collapsed": true
   },
   "outputs": [
    {
     "data": {
      "text/plain": [
       "A    1776\n",
       "C    1363\n",
       "B    1257\n",
       "Name: 지역등급, dtype: int64"
      ]
     },
     "execution_count": 72,
     "metadata": {},
     "output_type": "execute_result"
    }
   ],
   "source": [
    "cond1 = df_member['주소구분'].isin(df_address2.loc[(df_address2['누적비율']<=0.70)].index.tolist())\n",
    "cond2 = df_member['주소구분'].isin(df_address2.loc[(df_address2['누적비율']<=0.50)].index.tolist())\n",
    "df1['지역등급']='C'\n",
    "df1.loc[cond1, '지역등급']='B'\n",
    "df1.loc[cond2, '지역등급']='A'\n",
    "df1['지역등급'].value_counts()"
   ]
  },
  {
   "cell_type": "code",
   "execution_count": 73,
   "id": "fede2a4a",
   "metadata": {
    "collapsed": true
   },
   "outputs": [
    {
     "data": {
      "text/plain": [
       "40대      1868\n",
       "50대이상    1596\n",
       "30대       928\n",
       "20대초반       4\n",
       "Name: 연령구분, dtype: int64"
      ]
     },
     "execution_count": 73,
     "metadata": {},
     "output_type": "execute_result"
    }
   ],
   "source": [
    "# 5) '연령'데이터를 이용하여 25세 미만은 '20대초반' / 25세 이상~ 40세 미만을 '30대' / 40세 이상 55세 미만을 \"40대\" / 55세 이상은 '50대이상'으로 구분해, '연령구분'을 생성\n",
    "cond1 = (df1['연령']>= 55)\n",
    "cond2 = (df1['연령']>= 40)\n",
    "cond3 = (df1['연령']>= 25)\n",
    "\n",
    "df1['연령구분']='20대초반'\n",
    "df1.loc[cond3,'연령구분']='30대'\n",
    "df1.loc[cond2,'연령구분']='40대'\n",
    "df1.loc[cond1,'연령구분']='50대이상'\n",
    "df1['연령구분'].value_counts()"
   ]
  },
  {
   "cell_type": "code",
   "execution_count": 94,
   "id": "1f3b9e04",
   "metadata": {},
   "outputs": [],
   "source": [
    "# 6) df_product 데이터를 이용해 회원 별 '물품대분류'의 구매수량 비율을 각 항목별 로 계산하여, df1데이터에 병합하시오. \n",
    "#    (index-> 회원번호 / columns->물품대분류 / value-> 한명의 회원이 해당 품목을 구매한 비율) \n",
    "df_product['물품대분류'].value_counts()\n",
    "p1 = df_product.pivot_table(index='회원번호',values='구매수량',\n",
    "                            columns='물품대분류',aggfunc='sum', \n",
    "                            margins=True, fill_value=0)\n",
    "\n",
    "p1_category_list = p1.columns.tolist()[:-1]\n",
    "for i in p1_category_list:\n",
    "    p1[i+'(%)'] = p1[i] / p1['All']"
   ]
  },
  {
   "cell_type": "code",
   "execution_count": 122,
   "id": "97804d60",
   "metadata": {},
   "outputs": [],
   "source": [
    "p2 = p1[p1.columns.tolist()[18:]].reset_index().iloc[:-1]\n",
    "p2['회원번호(float)'] = p2['회원번호'].astype(float)"
   ]
  },
  {
   "cell_type": "code",
   "execution_count": 124,
   "id": "8d544ec5",
   "metadata": {
    "collapsed": true
   },
   "outputs": [
    {
     "data": {
      "text/html": [
       "<div>\n",
       "<style scoped>\n",
       "    .dataframe tbody tr th:only-of-type {\n",
       "        vertical-align: middle;\n",
       "    }\n",
       "\n",
       "    .dataframe tbody tr th {\n",
       "        vertical-align: top;\n",
       "    }\n",
       "\n",
       "    .dataframe thead th {\n",
       "        text-align: right;\n",
       "    }\n",
       "</style>\n",
       "<table border=\"1\" class=\"dataframe\">\n",
       "  <thead>\n",
       "    <tr style=\"text-align: right;\">\n",
       "      <th></th>\n",
       "      <th>회원번호_x</th>\n",
       "      <th>회원상태</th>\n",
       "      <th>성별</th>\n",
       "      <th>결혼유무</th>\n",
       "      <th>주소</th>\n",
       "      <th>생년</th>\n",
       "      <th>연령</th>\n",
       "      <th>총구매금액</th>\n",
       "      <th>총구매수량</th>\n",
       "      <th>총방문횟수</th>\n",
       "      <th>...</th>\n",
       "      <th>서류(%)</th>\n",
       "      <th>수산(%)</th>\n",
       "      <th>양념/가루(%)</th>\n",
       "      <th>음료(%)</th>\n",
       "      <th>잡곡(%)</th>\n",
       "      <th>주곡(%)</th>\n",
       "      <th>주류(%)</th>\n",
       "      <th>채소(%)</th>\n",
       "      <th>축산물(%)</th>\n",
       "      <th>회원번호(float)</th>\n",
       "    </tr>\n",
       "  </thead>\n",
       "  <tbody>\n",
       "    <tr>\n",
       "      <th>0</th>\n",
       "      <td>2101</td>\n",
       "      <td>정상회원</td>\n",
       "      <td>여</td>\n",
       "      <td>기혼</td>\n",
       "      <td>서울 강북구 미아동 134-</td>\n",
       "      <td>1967</td>\n",
       "      <td>51</td>\n",
       "      <td>1991230.0</td>\n",
       "      <td>382.0</td>\n",
       "      <td>86.0</td>\n",
       "      <td>...</td>\n",
       "      <td>0.015707</td>\n",
       "      <td>0.010471</td>\n",
       "      <td>0.039267</td>\n",
       "      <td>0.026178</td>\n",
       "      <td>0.013089</td>\n",
       "      <td>0.005236</td>\n",
       "      <td>0.0</td>\n",
       "      <td>0.308901</td>\n",
       "      <td>0.251309</td>\n",
       "      <td>2101.0</td>\n",
       "    </tr>\n",
       "    <tr>\n",
       "      <th>1</th>\n",
       "      <td>2102</td>\n",
       "      <td>정상회원</td>\n",
       "      <td>여</td>\n",
       "      <td>NaN</td>\n",
       "      <td>경기 용인시 수지구 동천동</td>\n",
       "      <td>1947</td>\n",
       "      <td>71</td>\n",
       "      <td>2095860.0</td>\n",
       "      <td>472.5</td>\n",
       "      <td>79.0</td>\n",
       "      <td>...</td>\n",
       "      <td>0.023280</td>\n",
       "      <td>0.050794</td>\n",
       "      <td>0.035979</td>\n",
       "      <td>0.014815</td>\n",
       "      <td>0.010582</td>\n",
       "      <td>0.033862</td>\n",
       "      <td>0.0</td>\n",
       "      <td>0.220106</td>\n",
       "      <td>0.107937</td>\n",
       "      <td>2102.0</td>\n",
       "    </tr>\n",
       "  </tbody>\n",
       "</table>\n",
       "<p>2 rows × 34 columns</p>\n",
       "</div>"
      ],
      "text/plain": [
       "   회원번호_x  회원상태 성별 결혼유무               주소    생년  연령      총구매금액  총구매수량  총방문횟수  \\\n",
       "0    2101  정상회원  여   기혼  서울 강북구 미아동 134-  1967  51  1991230.0  382.0   86.0   \n",
       "1    2102  정상회원  여  NaN   경기 용인시 수지구 동천동  1947  71  2095860.0  472.5   79.0   \n",
       "\n",
       "   ...     서류(%)     수산(%)  양념/가루(%)     음료(%)     잡곡(%)     주곡(%)  주류(%)  \\\n",
       "0  ...  0.015707  0.010471  0.039267  0.026178  0.013089  0.005236    0.0   \n",
       "1  ...  0.023280  0.050794  0.035979  0.014815  0.010582  0.033862    0.0   \n",
       "\n",
       "      채소(%)    축산물(%)  회원번호(float)  \n",
       "0  0.308901  0.251309       2101.0  \n",
       "1  0.220106  0.107937       2102.0  \n",
       "\n",
       "[2 rows x 34 columns]"
      ]
     },
     "execution_count": 124,
     "metadata": {},
     "output_type": "execute_result"
    }
   ],
   "source": [
    "df1_m = pd.merge(df1, p2, left_on='회원번호', right_on='회원번호(float)',how='left')\n",
    "df1_m.head(2)"
   ]
  },
  {
   "cell_type": "code",
   "execution_count": 136,
   "id": "070e7deb",
   "metadata": {
    "collapsed": true
   },
   "outputs": [
    {
     "data": {
      "text/plain": [
       "<AxesSubplot:xlabel='성별', ylabel='1회방문시구매금액'>"
      ]
     },
     "execution_count": 136,
     "metadata": {},
     "output_type": "execute_result"
    },
    {
     "data": {
      "image/png": "[encoded data removed]",
      "text/plain": [
       "<Figure size 432x288 with 1 Axes>"
      ]
     },
     "metadata": {
      "needs_background": "light"
     },
     "output_type": "display_data"
    }
   ],
   "source": [
    "# 7) '성별' 에 따라 '1회방문시구매금액'의 평균의 차이가 있는지 시각화 및 검정하시오.\n",
    "plt.ylim([32500,33500])\n",
    "sns.barplot(data=df1_m, x='성별',y='1회방문시구매금액',ci=None)"
   ]
  },
  {
   "cell_type": "code",
   "execution_count": 137,
   "id": "add599da",
   "metadata": {
    "collapsed": true
   },
   "outputs": [
    {
     "data": {
      "text/html": [
       "<div>\n",
       "<style scoped>\n",
       "    .dataframe tbody tr th:only-of-type {\n",
       "        vertical-align: middle;\n",
       "    }\n",
       "\n",
       "    .dataframe tbody tr th {\n",
       "        vertical-align: top;\n",
       "    }\n",
       "\n",
       "    .dataframe thead th {\n",
       "        text-align: right;\n",
       "    }\n",
       "</style>\n",
       "<table border=\"1\" class=\"dataframe\">\n",
       "  <thead>\n",
       "    <tr style=\"text-align: right;\">\n",
       "      <th></th>\n",
       "      <th>1회방문시구매금액</th>\n",
       "    </tr>\n",
       "    <tr>\n",
       "      <th>성별</th>\n",
       "      <th></th>\n",
       "    </tr>\n",
       "  </thead>\n",
       "  <tbody>\n",
       "    <tr>\n",
       "      <th>남</th>\n",
       "      <td>25961.304348</td>\n",
       "    </tr>\n",
       "    <tr>\n",
       "      <th>여</th>\n",
       "      <td>27262.500000</td>\n",
       "    </tr>\n",
       "  </tbody>\n",
       "</table>\n",
       "</div>"
      ],
      "text/plain": [
       "       1회방문시구매금액\n",
       "성별              \n",
       "남   25961.304348\n",
       "여   27262.500000"
      ]
     },
     "execution_count": 137,
     "metadata": {},
     "output_type": "execute_result"
    }
   ],
   "source": [
    "df1_m.pivot_table(index='성별',values='1회방문시구매금액',aggfunc='median')"
   ]
  },
  {
   "cell_type": "code",
   "execution_count": 140,
   "id": "431e5514",
   "metadata": {},
   "outputs": [
    {
     "data": {
      "text/plain": [
       "NormaltestResult(statistic=2515.0965751658086, pvalue=0.0)"
      ]
     },
     "execution_count": 140,
     "metadata": {},
     "output_type": "execute_result"
    }
   ],
   "source": [
    "# 7-1) '1회방문시구매금액' 데이터의 분포가 정규분포를 따르는가? \n",
    "# 귀무가설 : 1회방문시구매금액' 데이터는 정규성을 따른다. \n",
    "# 대립가설 : 1회방문시구매금액' 데이터는 정규성을 따르지 않는다.\n",
    "stats.normaltest(df1_m['1회방문시구매금액'].dropna())\n",
    "# P.value < 0.05 / 대립가설 참 / 정규성을 띄지 않음 "
   ]
  },
  {
   "cell_type": "code",
   "execution_count": 144,
   "id": "1946c3d6",
   "metadata": {},
   "outputs": [
    {
     "data": {
      "text/plain": [
       "RanksumsResult(statistic=-1.2604454656984792, pvalue=0.20750870900597662)"
      ]
     },
     "execution_count": 144,
     "metadata": {},
     "output_type": "execute_result"
    }
   ],
   "source": [
    "# 7-2) 정규분포를 띄지 않는 데이터에서, 성별에 따른 1회방문시구매금액의 평균의 차이? \n",
    "# 귀무 : 집단 간 평균의 차이가 없다.\n",
    "# 대립 : 집단 간 평균의 차이가 있다.\n",
    "df1_m1 = df1_m[['성별','1회방문시구매금액']].dropna()\n",
    "\n",
    "df1_man   = df1_m1.loc[(df1_m1['성별']=='남')] \n",
    "df1_woman = df1_m1.loc[(df1_m1['성별']=='여')] \n",
    "stats.ranksums(df1_man['1회방문시구매금액'], df1_woman['1회방문시구매금액'])\n",
    "# P.value > 0.05 / 귀무가설 참 / 집단 간 평균의 차이가 없다. "
   ]
  },
  {
   "cell_type": "code",
   "execution_count": 149,
   "id": "9a252695",
   "metadata": {},
   "outputs": [],
   "source": [
    "# 8) df1 데이터에서, '총구매금액'/'총구매수량'/'방문횟수'/'주당방문횟수'/'1회방문시구매금액'데이터를 이용하여,\n",
    "#     Kmeans Clustering 분석을 통해, 3군집/4군집/5군집/6군집에서 실루엣 값을 계산 하시오.\n",
    "from sklearn.cluster import KMeans\n",
    "from sklearn.metrics import silhouette_score\n",
    "\n",
    "df1_clean = df1_m[['총구매금액','총구매수량','총방문횟수',\n",
    "                   '주당방문횟수','1회방문시구매금액']].dropna()"
   ]
  },
  {
   "cell_type": "code",
   "execution_count": 150,
   "id": "c5ebca3d",
   "metadata": {
    "collapsed": true
   },
   "outputs": [
    {
     "name": "stdout",
     "output_type": "stream",
     "text": [
      "3 군집의 실루엣 값 :  0.8189733654004079\n",
      "4 군집의 실루엣 값 :  0.7911049099097213\n",
      "5 군집의 실루엣 값 :  0.7744508403735897\n",
      "6 군집의 실루엣 값 :  0.7471710267850434\n"
     ]
    }
   ],
   "source": [
    "for i in [3,4,5,6]:\n",
    "    cluster =  KMeans(n_clusters= i )\n",
    "    cluster.fit(df1_clean)\n",
    "    cluster_pred = cluster.fit_predict(df1_clean)\n",
    "    print(i,'군집의 실루엣 값 : ', silhouette_score(df1_clean, cluster_pred))"
   ]
  },
  {
   "cell_type": "code",
   "execution_count": 153,
   "id": "937ae31b",
   "metadata": {},
   "outputs": [],
   "source": [
    "df1_clean2 = df1_m.dropna()"
   ]
  },
  {
   "cell_type": "code",
   "execution_count": 158,
   "id": "c65d8c39",
   "metadata": {
    "collapsed": true
   },
   "outputs": [
    {
     "name": "stderr",
     "output_type": "stream",
     "text": [
      "C:\\Users\\DMC CONET\\AppData\\Local\\Temp\\ipykernel_12032\\175110444.py:4: SettingWithCopyWarning: \n",
      "A value is trying to be set on a copy of a slice from a DataFrame.\n",
      "Try using .loc[row_indexer,col_indexer] = value instead\n",
      "\n",
      "See the caveats in the documentation: https://pandas.pydata.org/pandas-docs/stable/user_guide/indexing.html#returning-a-view-versus-a-copy\n",
      "  df1_clean2['cluster'] = cluster.fit_predict(df1_clean2[['총구매금액','총구매수량']] )\n"
     ]
    },
    {
     "data": {
      "text/plain": [
       "0    2788\n",
       "2     380\n",
       "1     161\n",
       "3      24\n",
       "Name: cluster, dtype: int64"
      ]
     },
     "execution_count": 158,
     "metadata": {},
     "output_type": "execute_result"
    }
   ],
   "source": [
    "# 9) Kmeans Clustering을 통해 df1데이터를 4개 군집으로 나누고 ('총구매금액'/'총구매수량'을 활용) 각 군집을 A/B/C/D 값으로 변환해 'Target이름의 항목으로 선언 하시오. \n",
    "cluster =  KMeans(n_clusters= 4 )\n",
    "cluster.fit(df1_clean2[['총구매금액','총구매수량']] )\n",
    "df1_clean2['cluster'] = cluster.fit_predict(df1_clean2[['총구매금액','총구매수량']] )\n",
    "df1_clean2['cluster'].value_counts()"
   ]
  },
  {
   "cell_type": "code",
   "execution_count": 159,
   "id": "706faba9",
   "metadata": {
    "collapsed": true
   },
   "outputs": [
    {
     "name": "stderr",
     "output_type": "stream",
     "text": [
      "C:\\Users\\DMC CONET\\AppData\\Local\\Temp\\ipykernel_12032\\1753557468.py:1: SettingWithCopyWarning: \n",
      "A value is trying to be set on a copy of a slice from a DataFrame.\n",
      "Try using .loc[row_indexer,col_indexer] = value instead\n",
      "\n",
      "See the caveats in the documentation: https://pandas.pydata.org/pandas-docs/stable/user_guide/indexing.html#returning-a-view-versus-a-copy\n",
      "  df1_clean2['Target'] = df1_clean2['cluster'].replace({0:'A',2:'B',1:'C',3:'D'})\n"
     ]
    },
    {
     "data": {
      "text/plain": [
       "A    2788\n",
       "B     380\n",
       "C     161\n",
       "D      24\n",
       "Name: Target, dtype: int64"
      ]
     },
     "execution_count": 159,
     "metadata": {},
     "output_type": "execute_result"
    }
   ],
   "source": [
    "df1_clean2['Target'] = df1_clean2['cluster'].replace({0:'A',2:'B',1:'C',3:'D'})\n",
    "df1_clean2['Target'].value_counts()"
   ]
  },
  {
   "cell_type": "code",
   "execution_count": 161,
   "id": "cddff4f8",
   "metadata": {
    "collapsed": true
   },
   "outputs": [
    {
     "data": {
      "text/plain": [
       "Index(['회원번호_x', '회원상태', '성별', '결혼유무', '주소', '생년', '연령', '총구매금액', '총구매수량',\n",
       "       '총방문횟수', '주당방문횟수', '1회방문시구매금액', '주소구분', '지역등급', '연령구분', '회원번호_y',\n",
       "       '간식(%)', '건강(%)', '과실(%)', '급식용(%)', '기타(%)', '반찬(%)', '베이커리(%)',\n",
       "       '생활용품(%)', '서류(%)', '수산(%)', '양념/가루(%)', '음료(%)', '잡곡(%)', '주곡(%)',\n",
       "       '주류(%)', '채소(%)', '축산물(%)', '회원번호(float)', 'cluster', 'Target'],\n",
       "      dtype='object')"
      ]
     },
     "execution_count": 161,
     "metadata": {},
     "output_type": "execute_result"
    }
   ],
   "source": [
    "# 10) '성별'/'연령'/'지역등급'/'결혼유무'/'1회방문시구매금액'/'각대분류비율'을 X로, 'Target'을 분류하는 분류모델을 Ensemble 알고리즘의 RandomForestClassifier를 활용하여 분류모델을 생성, \n",
    "#     평가 후 'model_RF.sav'이름으로 저장 하시오. \n",
    "df1_clean2.columns"
   ]
  },
  {
   "cell_type": "code",
   "execution_count": 163,
   "id": "e07bc326",
   "metadata": {},
   "outputs": [],
   "source": [
    "X = df1_clean2[['성별','결혼유무','지역등급','연령', '1회방문시구매금액',\n",
    "           '간식(%)', '건강(%)', '과실(%)', '급식용(%)', '기타(%)', '반찬(%)', '베이커리(%)',\n",
    "           '생활용품(%)', '서류(%)', '수산(%)', '양념/가루(%)', '음료(%)', '잡곡(%)', '주곡(%)',\n",
    "           '주류(%)', '채소(%)', '축산물(%)']]\n",
    "Y = df1_clean2['Target']"
   ]
  },
  {
   "cell_type": "code",
   "execution_count": 165,
   "id": "992460ef",
   "metadata": {},
   "outputs": [],
   "source": [
    "# 데이터 분할 \n",
    "from sklearn.model_selection import train_test_split\n",
    "# 특성 공학 + 학습 \n",
    "from sklearn.compose import make_column_transformer\n",
    "from imblearn.pipeline import make_pipeline\n",
    "from sklearn.impute import SimpleImputer\n",
    "from sklearn.preprocessing import MinMaxScaler, OneHotEncoder\n",
    "from imblearn.over_sampling import SMOTE \n",
    "from sklearn.ensemble import RandomForestClassifier\n",
    "# 교차검증 및 하이퍼파라미터 튜닝\n",
    "from sklearn.model_selection import GridSearchCV\n",
    "# 평가 및 저장 \n",
    "from sklearn.metrics import classification_report\n",
    "import pickle"
   ]
  },
  {
   "cell_type": "code",
   "execution_count": 166,
   "id": "b78ad513",
   "metadata": {},
   "outputs": [],
   "source": [
    "X_train, X_test, Y_train, Y_test = train_test_split(X,Y, random_state=1234)"
   ]
  },
  {
   "cell_type": "code",
   "execution_count": 168,
   "id": "04f6ee6a",
   "metadata": {},
   "outputs": [],
   "source": [
    "numeric_pipe  = make_pipeline(SimpleImputer(),MinMaxScaler())\n",
    "category_pipe = make_pipeline(SimpleImputer(strategy='most_frequent'),OneHotEncoder())\n",
    "numeric_list   = X.describe().columns.tolist()\n",
    "category_list  = X.describe(include='object').columns.tolist()\n",
    "preprocess_pipe = make_column_transformer( (numeric_pipe, numeric_list),\n",
    "                                           (category_pipe, category_list))\n",
    "model_pipe = make_pipeline( preprocess_pipe, SMOTE(), RandomForestClassifier() )"
   ]
  },
  {
   "cell_type": "code",
   "execution_count": 169,
   "id": "97e6c06d",
   "metadata": {
    "collapsed": true
   },
   "outputs": [
    {
     "data": {
      "text/html": [
       "<style>#sk-container-id-5 {color: black;background-color: white;}#sk-container-id-5 pre{padding: 0;}#sk-container-id-5 div.sk-toggleable {background-color: white;}#sk-container-id-5 label.sk-toggleable__label {cursor: pointer;display: block;width: 100%;margin-bottom: 0;padding: 0.3em;box-sizing: border-box;text-align: center;}#sk-container-id-5 label.sk-toggleable__label-arrow:before {content: \"▸\";float: left;margin-right: 0.25em;color: #696969;}#sk-container-id-5 label.sk-toggleable__label-arrow:hover:before {color: black;}#sk-container-id-5 div.sk-estimator:hover label.sk-toggleable__label-arrow:before {color: black;}#sk-container-id-5 div.sk-toggleable__content {max-height: 0;max-width: 0;overflow: hidden;text-align: left;background-color: #f0f8ff;}#sk-container-id-5 div.sk-toggleable__content pre {margin: 0.2em;color: black;border-radius: 0.25em;background-color: #f0f8ff;}#sk-container-id-5 input.sk-toggleable__control:checked~div.sk-toggleable__content {max-height: 200px;max-width: 100%;overflow: auto;}#sk-container-id-5 input.sk-toggleable__control:checked~label.sk-toggleable__label-arrow:before {content: \"▾\";}#sk-container-id-5 div.sk-estimator input.sk-toggleable__control:checked~label.sk-toggleable__label {background-color: #d4ebff;}#sk-container-id-5 div.sk-label input.sk-toggleable__control:checked~label.sk-toggleable__label {background-color: #d4ebff;}#sk-container-id-5 input.sk-hidden--visually {border: 0;clip: rect(1px 1px 1px 1px);clip: rect(1px, 1px, 1px, 1px);height: 1px;margin: -1px;overflow: hidden;padding: 0;position: absolute;width: 1px;}#sk-container-id-5 div.sk-estimator {font-family: monospace;background-color: #f0f8ff;border: 1px dotted black;border-radius: 0.25em;box-sizing: border-box;margin-bottom: 0.5em;}#sk-container-id-5 div.sk-estimator:hover {background-color: #d4ebff;}#sk-container-id-5 div.sk-parallel-item::after {content: \"\";width: 100%;border-bottom: 1px solid gray;flex-grow: 1;}#sk-container-id-5 div.sk-label:hover label.sk-toggleable__label {background-color: #d4ebff;}#sk-container-id-5 div.sk-serial::before {content: \"\";position: absolute;border-left: 1px solid gray;box-sizing: border-box;top: 0;bottom: 0;left: 50%;z-index: 0;}#sk-container-id-5 div.sk-serial {display: flex;flex-direction: column;align-items: center;background-color: white;padding-right: 0.2em;padding-left: 0.2em;position: relative;}#sk-container-id-5 div.sk-item {position: relative;z-index: 1;}#sk-container-id-5 div.sk-parallel {display: flex;align-items: stretch;justify-content: center;background-color: white;position: relative;}#sk-container-id-5 div.sk-item::before, #sk-container-id-5 div.sk-parallel-item::before {content: \"\";position: absolute;border-left: 1px solid gray;box-sizing: border-box;top: 0;bottom: 0;left: 50%;z-index: -1;}#sk-container-id-5 div.sk-parallel-item {display: flex;flex-direction: column;z-index: 1;position: relative;background-color: white;}#sk-container-id-5 div.sk-parallel-item:first-child::after {align-self: flex-end;width: 50%;}#sk-container-id-5 div.sk-parallel-item:last-child::after {align-self: flex-start;width: 50%;}#sk-container-id-5 div.sk-parallel-item:only-child::after {width: 0;}#sk-container-id-5 div.sk-dashed-wrapped {border: 1px dashed gray;margin: 0 0.4em 0.5em 0.4em;box-sizing: border-box;padding-bottom: 0.4em;background-color: white;}#sk-container-id-5 div.sk-label label {font-family: monospace;font-weight: bold;display: inline-block;line-height: 1.2em;}#sk-container-id-5 div.sk-label-container {text-align: center;}#sk-container-id-5 div.sk-container {/* jupyter's `normalize.less` sets `[hidden] { display: none; }` but bootstrap.min.css set `[hidden] { display: none !important; }` so we also need the `!important` here to be able to override the default hidden behavior on the sphinx rendered scikit-learn.org. See: https://github.com/scikit-learn/scikit-learn/issues/21755 */display: inline-block !important;position: relative;}#sk-container-id-5 div.sk-text-repr-fallback {display: none;}</style><div id=\"sk-container-id-5\" class=\"sk-top-container\"><div class=\"sk-text-repr-fallback\"><pre>GridSearchCV(cv=5,\n",
       "             estimator=Pipeline(steps=[(&#x27;columntransformer&#x27;,\n",
       "                                        ColumnTransformer(transformers=[(&#x27;pipeline-1&#x27;,\n",
       "                                                                         Pipeline(steps=[(&#x27;simpleimputer&#x27;,\n",
       "                                                                                          SimpleImputer()),\n",
       "                                                                                         (&#x27;minmaxscaler&#x27;,\n",
       "                                                                                          MinMaxScaler())]),\n",
       "                                                                         [&#x27;연령&#x27;,\n",
       "                                                                          &#x27;1회방문시구매금액&#x27;,\n",
       "                                                                          &#x27;간식(%)&#x27;,\n",
       "                                                                          &#x27;건강(%)&#x27;,\n",
       "                                                                          &#x27;과실(%)&#x27;,\n",
       "                                                                          &#x27;급식용(%)&#x27;,\n",
       "                                                                          &#x27;기타(%)&#x27;,\n",
       "                                                                          &#x27;반찬(%)&#x27;,\n",
       "                                                                          &#x27;베이커리(%)&#x27;,\n",
       "                                                                          &#x27;생활용품(%)&#x27;,\n",
       "                                                                          &#x27;서류(%)&#x27;,\n",
       "                                                                          &#x27;수산(%)&#x27;,\n",
       "                                                                          &#x27;양념/가루(%)&#x27;,\n",
       "                                                                          &#x27;음료(%)&#x27;,\n",
       "                                                                          &#x27;잡곡(%)&#x27;,\n",
       "                                                                          &#x27;주곡(%)&#x27;,\n",
       "                                                                          &#x27;주류(%)&#x27;,\n",
       "                                                                          &#x27;채소(%)&#x27;,\n",
       "                                                                          &#x27;축산물(%)&#x27;]),\n",
       "                                                                        (&#x27;pipeline-2&#x27;,\n",
       "                                                                         Pipeline(steps=[(&#x27;simpleimputer&#x27;,\n",
       "                                                                                          SimpleImputer(strategy=&#x27;most_frequent&#x27;)),\n",
       "                                                                                         (&#x27;onehotencoder&#x27;,\n",
       "                                                                                          OneHotEncoder())]),\n",
       "                                                                         [&#x27;성별&#x27;,\n",
       "                                                                          &#x27;결혼유무&#x27;,\n",
       "                                                                          &#x27;지역등급&#x27;])])),\n",
       "                                       (&#x27;smote&#x27;, SMOTE()),\n",
       "                                       (&#x27;randomforestclassifier&#x27;,\n",
       "                                        RandomForestClassifier())]),\n",
       "             n_jobs=-1, param_grid={})</pre><b>In a Jupyter environment, please rerun this cell to show the HTML representation or trust the notebook. <br />On GitHub, the HTML representation is unable to render, please try loading this page with nbviewer.org.</b></div><div class=\"sk-container\" hidden><div class=\"sk-item sk-dashed-wrapped\"><div class=\"sk-label-container\"><div class=\"sk-label sk-toggleable\"><input class=\"sk-toggleable__control sk-hidden--visually\" id=\"sk-estimator-id-34\" type=\"checkbox\" ><label for=\"sk-estimator-id-34\" class=\"sk-toggleable__label sk-toggleable__label-arrow\">GridSearchCV</label><div class=\"sk-toggleable__content\"><pre>GridSearchCV(cv=5,\n",
       "             estimator=Pipeline(steps=[(&#x27;columntransformer&#x27;,\n",
       "                                        ColumnTransformer(transformers=[(&#x27;pipeline-1&#x27;,\n",
       "                                                                         Pipeline(steps=[(&#x27;simpleimputer&#x27;,\n",
       "                                                                                          SimpleImputer()),\n",
       "                                                                                         (&#x27;minmaxscaler&#x27;,\n",
       "                                                                                          MinMaxScaler())]),\n",
       "                                                                         [&#x27;연령&#x27;,\n",
       "                                                                          &#x27;1회방문시구매금액&#x27;,\n",
       "                                                                          &#x27;간식(%)&#x27;,\n",
       "                                                                          &#x27;건강(%)&#x27;,\n",
       "                                                                          &#x27;과실(%)&#x27;,\n",
       "                                                                          &#x27;급식용(%)&#x27;,\n",
       "                                                                          &#x27;기타(%)&#x27;,\n",
       "                                                                          &#x27;반찬(%)&#x27;,\n",
       "                                                                          &#x27;베이커리(%)&#x27;,\n",
       "                                                                          &#x27;생활용품(%)&#x27;,\n",
       "                                                                          &#x27;서류(%)&#x27;,\n",
       "                                                                          &#x27;수산(%)&#x27;,\n",
       "                                                                          &#x27;양념/가루(%)&#x27;,\n",
       "                                                                          &#x27;음료(%)&#x27;,\n",
       "                                                                          &#x27;잡곡(%)&#x27;,\n",
       "                                                                          &#x27;주곡(%)&#x27;,\n",
       "                                                                          &#x27;주류(%)&#x27;,\n",
       "                                                                          &#x27;채소(%)&#x27;,\n",
       "                                                                          &#x27;축산물(%)&#x27;]),\n",
       "                                                                        (&#x27;pipeline-2&#x27;,\n",
       "                                                                         Pipeline(steps=[(&#x27;simpleimputer&#x27;,\n",
       "                                                                                          SimpleImputer(strategy=&#x27;most_frequent&#x27;)),\n",
       "                                                                                         (&#x27;onehotencoder&#x27;,\n",
       "                                                                                          OneHotEncoder())]),\n",
       "                                                                         [&#x27;성별&#x27;,\n",
       "                                                                          &#x27;결혼유무&#x27;,\n",
       "                                                                          &#x27;지역등급&#x27;])])),\n",
       "                                       (&#x27;smote&#x27;, SMOTE()),\n",
       "                                       (&#x27;randomforestclassifier&#x27;,\n",
       "                                        RandomForestClassifier())]),\n",
       "             n_jobs=-1, param_grid={})</pre></div></div></div><div class=\"sk-parallel\"><div class=\"sk-parallel-item\"><div class=\"sk-item\"><div class=\"sk-label-container\"><div class=\"sk-label sk-toggleable\"><input class=\"sk-toggleable__control sk-hidden--visually\" id=\"sk-estimator-id-35\" type=\"checkbox\" ><label for=\"sk-estimator-id-35\" class=\"sk-toggleable__label sk-toggleable__label-arrow\">estimator: Pipeline</label><div class=\"sk-toggleable__content\"><pre>Pipeline(steps=[(&#x27;columntransformer&#x27;,\n",
       "                 ColumnTransformer(transformers=[(&#x27;pipeline-1&#x27;,\n",
       "                                                  Pipeline(steps=[(&#x27;simpleimputer&#x27;,\n",
       "                                                                   SimpleImputer()),\n",
       "                                                                  (&#x27;minmaxscaler&#x27;,\n",
       "                                                                   MinMaxScaler())]),\n",
       "                                                  [&#x27;연령&#x27;, &#x27;1회방문시구매금액&#x27;, &#x27;간식(%)&#x27;,\n",
       "                                                   &#x27;건강(%)&#x27;, &#x27;과실(%)&#x27;, &#x27;급식용(%)&#x27;,\n",
       "                                                   &#x27;기타(%)&#x27;, &#x27;반찬(%)&#x27;, &#x27;베이커리(%)&#x27;,\n",
       "                                                   &#x27;생활용품(%)&#x27;, &#x27;서류(%)&#x27;, &#x27;수산(%)&#x27;,\n",
       "                                                   &#x27;양념/가루(%)&#x27;, &#x27;음료(%)&#x27;, &#x27;잡곡(%)&#x27;,\n",
       "                                                   &#x27;주곡(%)&#x27;, &#x27;주류(%)&#x27;, &#x27;채소(%)&#x27;,\n",
       "                                                   &#x27;축산물(%)&#x27;]),\n",
       "                                                 (&#x27;pipeline-2&#x27;,\n",
       "                                                  Pipeline(steps=[(&#x27;simpleimputer&#x27;,\n",
       "                                                                   SimpleImputer(strategy=&#x27;most_frequent&#x27;)),\n",
       "                                                                  (&#x27;onehotencoder&#x27;,\n",
       "                                                                   OneHotEncoder())]),\n",
       "                                                  [&#x27;성별&#x27;, &#x27;결혼유무&#x27;, &#x27;지역등급&#x27;])])),\n",
       "                (&#x27;smote&#x27;, SMOTE()),\n",
       "                (&#x27;randomforestclassifier&#x27;, RandomForestClassifier())])</pre></div></div></div><div class=\"sk-serial\"><div class=\"sk-item\"><div class=\"sk-serial\"><div class=\"sk-item sk-dashed-wrapped\"><div class=\"sk-label-container\"><div class=\"sk-label sk-toggleable\"><input class=\"sk-toggleable__control sk-hidden--visually\" id=\"sk-estimator-id-36\" type=\"checkbox\" ><label for=\"sk-estimator-id-36\" class=\"sk-toggleable__label sk-toggleable__label-arrow\">columntransformer: ColumnTransformer</label><div class=\"sk-toggleable__content\"><pre>ColumnTransformer(transformers=[(&#x27;pipeline-1&#x27;,\n",
       "                                 Pipeline(steps=[(&#x27;simpleimputer&#x27;,\n",
       "                                                  SimpleImputer()),\n",
       "                                                 (&#x27;minmaxscaler&#x27;,\n",
       "                                                  MinMaxScaler())]),\n",
       "                                 [&#x27;연령&#x27;, &#x27;1회방문시구매금액&#x27;, &#x27;간식(%)&#x27;, &#x27;건강(%)&#x27;, &#x27;과실(%)&#x27;,\n",
       "                                  &#x27;급식용(%)&#x27;, &#x27;기타(%)&#x27;, &#x27;반찬(%)&#x27;, &#x27;베이커리(%)&#x27;,\n",
       "                                  &#x27;생활용품(%)&#x27;, &#x27;서류(%)&#x27;, &#x27;수산(%)&#x27;, &#x27;양념/가루(%)&#x27;,\n",
       "                                  &#x27;음료(%)&#x27;, &#x27;잡곡(%)&#x27;, &#x27;주곡(%)&#x27;, &#x27;주류(%)&#x27;, &#x27;채소(%)&#x27;,\n",
       "                                  &#x27;축산물(%)&#x27;]),\n",
       "                                (&#x27;pipeline-2&#x27;,\n",
       "                                 Pipeline(steps=[(&#x27;simpleimputer&#x27;,\n",
       "                                                  SimpleImputer(strategy=&#x27;most_frequent&#x27;)),\n",
       "                                                 (&#x27;onehotencoder&#x27;,\n",
       "                                                  OneHotEncoder())]),\n",
       "                                 [&#x27;성별&#x27;, &#x27;결혼유무&#x27;, &#x27;지역등급&#x27;])])</pre></div></div></div><div class=\"sk-parallel\"><div class=\"sk-parallel-item\"><div class=\"sk-item\"><div class=\"sk-label-container\"><div class=\"sk-label sk-toggleable\"><input class=\"sk-toggleable__control sk-hidden--visually\" id=\"sk-estimator-id-37\" type=\"checkbox\" ><label for=\"sk-estimator-id-37\" class=\"sk-toggleable__label sk-toggleable__label-arrow\">pipeline-1</label><div class=\"sk-toggleable__content\"><pre>[&#x27;연령&#x27;, &#x27;1회방문시구매금액&#x27;, &#x27;간식(%)&#x27;, &#x27;건강(%)&#x27;, &#x27;과실(%)&#x27;, &#x27;급식용(%)&#x27;, &#x27;기타(%)&#x27;, &#x27;반찬(%)&#x27;, &#x27;베이커리(%)&#x27;, &#x27;생활용품(%)&#x27;, &#x27;서류(%)&#x27;, &#x27;수산(%)&#x27;, &#x27;양념/가루(%)&#x27;, &#x27;음료(%)&#x27;, &#x27;잡곡(%)&#x27;, &#x27;주곡(%)&#x27;, &#x27;주류(%)&#x27;, &#x27;채소(%)&#x27;, &#x27;축산물(%)&#x27;]</pre></div></div></div><div class=\"sk-serial\"><div class=\"sk-item\"><div class=\"sk-serial\"><div class=\"sk-item\"><div class=\"sk-estimator sk-toggleable\"><input class=\"sk-toggleable__control sk-hidden--visually\" id=\"sk-estimator-id-38\" type=\"checkbox\" ><label for=\"sk-estimator-id-38\" class=\"sk-toggleable__label sk-toggleable__label-arrow\">SimpleImputer</label><div class=\"sk-toggleable__content\"><pre>SimpleImputer()</pre></div></div></div><div class=\"sk-item\"><div class=\"sk-estimator sk-toggleable\"><input class=\"sk-toggleable__control sk-hidden--visually\" id=\"sk-estimator-id-39\" type=\"checkbox\" ><label for=\"sk-estimator-id-39\" class=\"sk-toggleable__label sk-toggleable__label-arrow\">MinMaxScaler</label><div class=\"sk-toggleable__content\"><pre>MinMaxScaler()</pre></div></div></div></div></div></div></div></div><div class=\"sk-parallel-item\"><div class=\"sk-item\"><div class=\"sk-label-container\"><div class=\"sk-label sk-toggleable\"><input class=\"sk-toggleable__control sk-hidden--visually\" id=\"sk-estimator-id-40\" type=\"checkbox\" ><label for=\"sk-estimator-id-40\" class=\"sk-toggleable__label sk-toggleable__label-arrow\">pipeline-2</label><div class=\"sk-toggleable__content\"><pre>[&#x27;성별&#x27;, &#x27;결혼유무&#x27;, &#x27;지역등급&#x27;]</pre></div></div></div><div class=\"sk-serial\"><div class=\"sk-item\"><div class=\"sk-serial\"><div class=\"sk-item\"><div class=\"sk-estimator sk-toggleable\"><input class=\"sk-toggleable__control sk-hidden--visually\" id=\"sk-estimator-id-41\" type=\"checkbox\" ><label for=\"sk-estimator-id-41\" class=\"sk-toggleable__label sk-toggleable__label-arrow\">SimpleImputer</label><div class=\"sk-toggleable__content\"><pre>SimpleImputer(strategy=&#x27;most_frequent&#x27;)</pre></div></div></div><div class=\"sk-item\"><div class=\"sk-estimator sk-toggleable\"><input class=\"sk-toggleable__control sk-hidden--visually\" id=\"sk-estimator-id-42\" type=\"checkbox\" ><label for=\"sk-estimator-id-42\" class=\"sk-toggleable__label sk-toggleable__label-arrow\">OneHotEncoder</label><div class=\"sk-toggleable__content\"><pre>OneHotEncoder()</pre></div></div></div></div></div></div></div></div></div></div><div class=\"sk-item\"><div class=\"sk-estimator sk-toggleable\"><input class=\"sk-toggleable__control sk-hidden--visually\" id=\"sk-estimator-id-43\" type=\"checkbox\" ><label for=\"sk-estimator-id-43\" class=\"sk-toggleable__label sk-toggleable__label-arrow\">SMOTE</label><div class=\"sk-toggleable__content\"><pre>SMOTE()</pre></div></div></div><div class=\"sk-item\"><div class=\"sk-estimator sk-toggleable\"><input class=\"sk-toggleable__control sk-hidden--visually\" id=\"sk-estimator-id-44\" type=\"checkbox\" ><label for=\"sk-estimator-id-44\" class=\"sk-toggleable__label sk-toggleable__label-arrow\">RandomForestClassifier</label><div class=\"sk-toggleable__content\"><pre>RandomForestClassifier()</pre></div></div></div></div></div></div></div></div></div></div></div></div>"
      ],
      "text/plain": [
       "GridSearchCV(cv=5,\n",
       "             estimator=Pipeline(steps=[('columntransformer',\n",
       "                                        ColumnTransformer(transformers=[('pipeline-1',\n",
       "                                                                         Pipeline(steps=[('simpleimputer',\n",
       "                                                                                          SimpleImputer()),\n",
       "                                                                                         ('minmaxscaler',\n",
       "                                                                                          MinMaxScaler())]),\n",
       "                                                                         ['연령',\n",
       "                                                                          '1회방문시구매금액',\n",
       "                                                                          '간식(%)',\n",
       "                                                                          '건강(%)',\n",
       "                                                                          '과실(%)',\n",
       "                                                                          '급식용(%)',\n",
       "                                                                          '기타(%)',\n",
       "                                                                          '반찬(%)',\n",
       "                                                                          '베이커리(%)',\n",
       "                                                                          '생활용품(%)',\n",
       "                                                                          '서류(%)',\n",
       "                                                                          '수산(%)',\n",
       "                                                                          '양념/가루(%)',\n",
       "                                                                          '음료(%)',\n",
       "                                                                          '잡곡(%)',\n",
       "                                                                          '주곡(%)',\n",
       "                                                                          '주류(%)',\n",
       "                                                                          '채소(%)',\n",
       "                                                                          '축산물(%)']),\n",
       "                                                                        ('pipeline-2',\n",
       "                                                                         Pipeline(steps=[('simpleimputer',\n",
       "                                                                                          SimpleImputer(strategy='most_frequent')),\n",
       "                                                                                         ('onehotencoder',\n",
       "                                                                                          OneHotEncoder())]),\n",
       "                                                                         ['성별',\n",
       "                                                                          '결혼유무',\n",
       "                                                                          '지역등급'])])),\n",
       "                                       ('smote', SMOTE()),\n",
       "                                       ('randomforestclassifier',\n",
       "                                        RandomForestClassifier())]),\n",
       "             n_jobs=-1, param_grid={})"
      ]
     },
     "execution_count": 169,
     "metadata": {},
     "output_type": "execute_result"
    }
   ],
   "source": [
    "hyperparameter = {}\n",
    "grid_model = GridSearchCV(model_pipe, param_grid=hyperparameter, cv=5, n_jobs = -1 )\n",
    "grid_model.fit(X_train, Y_train)"
   ]
  },
  {
   "cell_type": "code",
   "execution_count": 170,
   "id": "aafb9b2a",
   "metadata": {},
   "outputs": [],
   "source": [
    "best_model = grid_model.best_estimator_\n",
    "Y_train_pred = best_model.predict(X_train)\n",
    "Y_test_pred  = best_model.predict(X_test)"
   ]
  },
  {
   "cell_type": "code",
   "execution_count": 171,
   "id": "fdd01f98",
   "metadata": {
    "collapsed": true
   },
   "outputs": [
    {
     "name": "stdout",
     "output_type": "stream",
     "text": [
      "              precision    recall  f1-score   support\n",
      "\n",
      "           A       1.00      1.00      1.00      2091\n",
      "           B       1.00      1.00      1.00       285\n",
      "           C       1.00      1.00      1.00       122\n",
      "           D       1.00      1.00      1.00        16\n",
      "\n",
      "    accuracy                           1.00      2514\n",
      "   macro avg       1.00      1.00      1.00      2514\n",
      "weighted avg       1.00      1.00      1.00      2514\n",
      "\n"
     ]
    }
   ],
   "source": [
    "print(classification_report(Y_train, Y_train_pred))"
   ]
  },
  {
   "cell_type": "code",
   "execution_count": 172,
   "id": "89e2caaa",
   "metadata": {
    "collapsed": true
   },
   "outputs": [
    {
     "name": "stdout",
     "output_type": "stream",
     "text": [
      "              precision    recall  f1-score   support\n",
      "\n",
      "           A       0.98      0.97      0.97       697\n",
      "           B       0.65      0.77      0.71        95\n",
      "           C       0.78      0.54      0.64        39\n",
      "           D       1.00      0.88      0.93         8\n",
      "\n",
      "    accuracy                           0.93       839\n",
      "   macro avg       0.85      0.79      0.81       839\n",
      "weighted avg       0.93      0.93      0.93       839\n",
      "\n"
     ]
    }
   ],
   "source": [
    "print(classification_report(Y_test, Y_test_pred))"
   ]
  },
  {
   "cell_type": "code",
   "execution_count": 173,
   "id": "f7901483",
   "metadata": {},
   "outputs": [],
   "source": [
    "pickle.dump(best_model, open('model_RF.sav','wb'))"
   ]
  }
 ],
 "metadata": {
  "kernelspec": {
   "display_name": "Python 3 (ipykernel)",
   "language": "python",
   "name": "python3"
  },
  "language_info": {
   "codemirror_mode": {
    "name": "ipython",
    "version": 3
   },
   "file_extension": ".py",
   "mimetype": "text/x-python",
   "name": "python",
   "nbconvert_exporter": "python",
   "pygments_lexer": "ipython3",
   "version": "3.9.12"
  }
 },
 "nbformat": 4,
 "nbformat_minor": 5
}
