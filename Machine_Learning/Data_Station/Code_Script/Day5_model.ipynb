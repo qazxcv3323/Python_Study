{
 "cells": [
  {
   "cell_type": "code",
   "execution_count": 1,
   "id": "4702b019",
   "metadata": {},
   "outputs": [],
   "source": [
    "import pickle\n",
    "import pandas as pd "
   ]
  },
  {
   "cell_type": "code",
   "execution_count": 3,
   "id": "f9aa4db0",
   "metadata": {
    "collapsed": true
   },
   "outputs": [
    {
     "name": "stdout",
     "output_type": "stream",
     "text": [
      "계약 유형을 입력하시오. : 렌탈\n",
      "유입 경로를 입력하시오. : 영업방판\n",
      "계약 기간을 입력하시오. : 12\n",
      "월 납부액을 입력하시오. : 100000\n",
      "고객의 연령 입력하시오. : 30\n",
      "신용 등급을 입력하시오. : 1\n"
     ]
    }
   ],
   "source": [
    "# 적용 \n",
    "x1 = input('계약 유형을 입력하시오. : ')\n",
    "x2 = input('유입 경로를 입력하시오. : ')\n",
    "x3 = input('계약 기간을 입력하시오. : ')\n",
    "x4 = input('월 납부액을 입력하시오. : ')\n",
    "x5 = input('고객의 연령 입력하시오. : ')\n",
    "x6 = input('신용 등급을 입력하시오. : ')\n",
    "input_data = pd.DataFrame([[x1,x2,x3,x4,x5,x6]], \n",
    "        columns=['Sales_Type','Channel','Term','Amount_Month','Age','Credit_Rank'] )"
   ]
  },
  {
   "cell_type": "code",
   "execution_count": 8,
   "id": "3d37c5c3",
   "metadata": {
    "collapsed": true
   },
   "outputs": [
    {
     "data": {
      "text/html": [
       "<div>\n",
       "<style scoped>\n",
       "    .dataframe tbody tr th:only-of-type {\n",
       "        vertical-align: middle;\n",
       "    }\n",
       "\n",
       "    .dataframe tbody tr th {\n",
       "        vertical-align: top;\n",
       "    }\n",
       "\n",
       "    .dataframe thead th {\n",
       "        text-align: right;\n",
       "    }\n",
       "</style>\n",
       "<table border=\"1\" class=\"dataframe\">\n",
       "  <thead>\n",
       "    <tr style=\"text-align: right;\">\n",
       "      <th></th>\n",
       "      <th>Sales_Type</th>\n",
       "      <th>Channel</th>\n",
       "      <th>Term</th>\n",
       "      <th>Amount_Month</th>\n",
       "      <th>Age</th>\n",
       "      <th>Credit_Rank</th>\n",
       "    </tr>\n",
       "  </thead>\n",
       "  <tbody>\n",
       "    <tr>\n",
       "      <th>0</th>\n",
       "      <td>렌탈</td>\n",
       "      <td>영업방판</td>\n",
       "      <td>12</td>\n",
       "      <td>100000</td>\n",
       "      <td>30</td>\n",
       "      <td>1</td>\n",
       "    </tr>\n",
       "  </tbody>\n",
       "</table>\n",
       "</div>"
      ],
      "text/plain": [
       "  Sales_Type Channel Term Amount_Month Age Credit_Rank\n",
       "0         렌탈    영업방판   12       100000  30           1"
      ]
     },
     "execution_count": 8,
     "metadata": {},
     "output_type": "execute_result"
    }
   ],
   "source": [
    "input_data"
   ]
  },
  {
   "cell_type": "code",
   "execution_count": 10,
   "id": "ce8d7d0e",
   "metadata": {
    "collapsed": true
   },
   "outputs": [
    {
     "data": {
      "text/plain": [
       "Pipeline(steps=[('columntransformer',\n",
       "                 ColumnTransformer(transformers=[('pipeline-1',\n",
       "                                                  Pipeline(steps=[('simpleimputer',\n",
       "                                                                   SimpleImputer(strategy='medilan')),\n",
       "                                                                  ('minmaxscaler',\n",
       "                                                                   MinMaxScaler())]),\n",
       "                                                  ['Term', 'Amount_Month',\n",
       "                                                   'Age', 'Credit_Rank']),\n",
       "                                                 ('pipeline-2',\n",
       "                                                  Pipeline(steps=[('simpleimputer',\n",
       "                                                                   SimpleImputer(strategy='most_frequent')),\n",
       "                                                                  ('onehotencoder',\n",
       "                                                                   OneHotEncoder())]),\n",
       "                                                  ['Sales_Type', 'Channel'])])),\n",
       "                ('decisiontreeclassifier', DecisionTreeClassifier())])"
      ]
     },
     "execution_count": 10,
     "metadata": {},
     "output_type": "execute_result"
    }
   ],
   "source": [
    "model = pickle.load(open('model.sav','rb'))\n",
    "model"
   ]
  },
  {
   "cell_type": "code",
   "execution_count": null,
   "id": "349517ea",
   "metadata": {},
   "outputs": [],
   "source": []
  }
 ],
 "metadata": {
  "kernelspec": {
   "display_name": "Python 3 (ipykernel)",
   "language": "python",
   "name": "python3"
  },
  "language_info": {
   "codemirror_mode": {
    "name": "ipython",
    "version": 3
   },
   "file_extension": ".py",
   "mimetype": "text/x-python",
   "name": "python",
   "nbconvert_exporter": "python",
   "pygments_lexer": "ipython3",
   "version": "3.9.12"
  }
 },
 "nbformat": 4,
 "nbformat_minor": 5
}
