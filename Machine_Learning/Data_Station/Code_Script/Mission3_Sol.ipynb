{
 "cells": [
  {
   "cell_type": "code",
   "execution_count": 3,
   "id": "b0b05c91",
   "metadata": {},
   "outputs": [],
   "source": [
    "import pandas as pd\n",
    "import matplotlib as mpl\n",
    "import matplotlib.pyplot as plt\n",
    "import seaborn as sns \n",
    "import scipy.stats as stats \n",
    "import plotly.express as px \n",
    "\n",
    "mpl.rc('font', family='Malgun Gothic')"
   ]
  },
  {
   "cell_type": "markdown",
   "id": "b570e260",
   "metadata": {},
   "source": [
    "# Mission 3. \n",
    "* 판매 주력상품에 대한 분석을 실시하고자 한다. (df_product)"
   ]
  },
  {
   "cell_type": "code",
   "execution_count": 4,
   "id": "0834bb54",
   "metadata": {},
   "outputs": [],
   "source": [
    "df_member   = pd.read_csv('1_store_member.csv') \n",
    "df_product  = pd.read_csv('2_store_product.csv') "
   ]
  },
  {
   "cell_type": "code",
   "execution_count": 5,
   "id": "6cba40b1",
   "metadata": {},
   "outputs": [],
   "source": [
    "# 1) df_product에서 물품대분류 중 가장 많이 판매되는 3가지 항목을 확인하시오.\n",
    "#     (품목 별 구매수량의 합이 높은 3가지 항목을 확인) "
   ]
  },
  {
   "cell_type": "code",
   "execution_count": 6,
   "id": "2e5c0242",
   "metadata": {
    "collapsed": true
   },
   "outputs": [
    {
     "data": {
      "text/plain": [
       "채소       193170\n",
       "축산물      134486\n",
       "간식       111411\n",
       "반찬        89534\n",
       "수산        52608\n",
       "양념/가루     35086\n",
       "음료        30935\n",
       "생활용품      27520\n",
       "과실        21324\n",
       "서류        12596\n",
       "주곡        10324\n",
       "잡곡         8922\n",
       "건강         6894\n",
       "주류          904\n",
       "기타           64\n",
       "베이커리          3\n",
       "급식용           2\n",
       "Name: 물품대분류, dtype: int64"
      ]
     },
     "execution_count": 6,
     "metadata": {},
     "output_type": "execute_result"
    }
   ],
   "source": [
    "df_product['물품대분류'].value_counts()"
   ]
  },
  {
   "cell_type": "code",
   "execution_count": 8,
   "id": "9b68bffe",
   "metadata": {
    "collapsed": true
   },
   "outputs": [
    {
     "data": {
      "text/plain": [
       "채소     193170\n",
       "축산물    134486\n",
       "간식     111411\n",
       "Name: 물품대분류, dtype: int64"
      ]
     },
     "execution_count": 8,
     "metadata": {},
     "output_type": "execute_result"
    }
   ],
   "source": [
    "# 2) 앞서 확인 물품대분류 3가지 항목을 추출하여 df1_product_top으로 선언하고, \n",
    "#     df1_product_top에서 구매매장 별 구매금액의 합과 평균을 계산하시오.\n",
    "df_product['물품대분류'].value_counts().head(3)"
   ]
  },
  {
   "cell_type": "code",
   "execution_count": 9,
   "id": "22482e5d",
   "metadata": {
    "collapsed": true
   },
   "outputs": [
    {
     "data": {
      "text/plain": [
       "Index(['채소', '축산물', '간식'], dtype='object')"
      ]
     },
     "execution_count": 9,
     "metadata": {},
     "output_type": "execute_result"
    }
   ],
   "source": [
    "df_product['물품대분류'].value_counts().head(3).index"
   ]
  },
  {
   "cell_type": "code",
   "execution_count": 10,
   "id": "826fd766",
   "metadata": {
    "collapsed": true
   },
   "outputs": [
    {
     "data": {
      "text/html": [
       "<div>\n",
       "<style scoped>\n",
       "    .dataframe tbody tr th:only-of-type {\n",
       "        vertical-align: middle;\n",
       "    }\n",
       "\n",
       "    .dataframe tbody tr th {\n",
       "        vertical-align: top;\n",
       "    }\n",
       "\n",
       "    .dataframe thead th {\n",
       "        text-align: right;\n",
       "    }\n",
       "</style>\n",
       "<table border=\"1\" class=\"dataframe\">\n",
       "  <thead>\n",
       "    <tr style=\"text-align: right;\">\n",
       "      <th></th>\n",
       "      <th>공급일자</th>\n",
       "      <th>물품코드</th>\n",
       "      <th>물품대분류</th>\n",
       "      <th>물품중분류</th>\n",
       "      <th>물품소분류</th>\n",
       "      <th>물품명</th>\n",
       "      <th>구매수량</th>\n",
       "      <th>구매금액</th>\n",
       "      <th>구매매장</th>\n",
       "      <th>반품_원거래일자</th>\n",
       "      <th>회원번호</th>\n",
       "    </tr>\n",
       "  </thead>\n",
       "  <tbody>\n",
       "    <tr>\n",
       "      <th>0</th>\n",
       "      <td>20170201</td>\n",
       "      <td>50142001</td>\n",
       "      <td>채소</td>\n",
       "      <td>잎/줄기채소</td>\n",
       "      <td>시금치</td>\n",
       "      <td>시금치(300g)</td>\n",
       "      <td>1.0</td>\n",
       "      <td>2000</td>\n",
       "      <td>매장3</td>\n",
       "      <td>NaN</td>\n",
       "      <td>2101.0</td>\n",
       "    </tr>\n",
       "    <tr>\n",
       "      <th>1</th>\n",
       "      <td>20170201</td>\n",
       "      <td>60302012</td>\n",
       "      <td>축산물</td>\n",
       "      <td>육가공</td>\n",
       "      <td>돈가스/분쇄가공</td>\n",
       "      <td>튀김옷돈가스(400g)</td>\n",
       "      <td>1.0</td>\n",
       "      <td>6300</td>\n",
       "      <td>매장3</td>\n",
       "      <td>NaN</td>\n",
       "      <td>2101.0</td>\n",
       "    </tr>\n",
       "    <tr>\n",
       "      <th>2</th>\n",
       "      <td>20170201</td>\n",
       "      <td>80301002</td>\n",
       "      <td>간식</td>\n",
       "      <td>밀가공</td>\n",
       "      <td>라면</td>\n",
       "      <td>감자라면(110g:1봉)</td>\n",
       "      <td>2.0</td>\n",
       "      <td>2600</td>\n",
       "      <td>매장3</td>\n",
       "      <td>NaN</td>\n",
       "      <td>2101.0</td>\n",
       "    </tr>\n",
       "    <tr>\n",
       "      <th>3</th>\n",
       "      <td>20170201</td>\n",
       "      <td>80301010</td>\n",
       "      <td>간식</td>\n",
       "      <td>밀가공</td>\n",
       "      <td>라면</td>\n",
       "      <td>사리면(100g)</td>\n",
       "      <td>1.0</td>\n",
       "      <td>900</td>\n",
       "      <td>매장3</td>\n",
       "      <td>NaN</td>\n",
       "      <td>2101.0</td>\n",
       "    </tr>\n",
       "    <tr>\n",
       "      <th>4</th>\n",
       "      <td>20170201</td>\n",
       "      <td>80305003</td>\n",
       "      <td>간식</td>\n",
       "      <td>밀가공</td>\n",
       "      <td>만두</td>\n",
       "      <td>고기만두(500g)</td>\n",
       "      <td>1.0</td>\n",
       "      <td>5400</td>\n",
       "      <td>매장3</td>\n",
       "      <td>NaN</td>\n",
       "      <td>2101.0</td>\n",
       "    </tr>\n",
       "    <tr>\n",
       "      <th>...</th>\n",
       "      <td>...</td>\n",
       "      <td>...</td>\n",
       "      <td>...</td>\n",
       "      <td>...</td>\n",
       "      <td>...</td>\n",
       "      <td>...</td>\n",
       "      <td>...</td>\n",
       "      <td>...</td>\n",
       "      <td>...</td>\n",
       "      <td>...</td>\n",
       "      <td>...</td>\n",
       "    </tr>\n",
       "    <tr>\n",
       "      <th>735772</th>\n",
       "      <td>20170630</td>\n",
       "      <td>50217001</td>\n",
       "      <td>채소</td>\n",
       "      <td>열매채소</td>\n",
       "      <td>청양고추</td>\n",
       "      <td>청양고추(100g)</td>\n",
       "      <td>1.0</td>\n",
       "      <td>1540</td>\n",
       "      <td>매장3</td>\n",
       "      <td>NaN</td>\n",
       "      <td>2637.0</td>\n",
       "    </tr>\n",
       "    <tr>\n",
       "      <th>735773</th>\n",
       "      <td>20170630</td>\n",
       "      <td>50706003</td>\n",
       "      <td>채소</td>\n",
       "      <td>버섯</td>\n",
       "      <td>팽이버섯</td>\n",
       "      <td>팽이버섯(150g)</td>\n",
       "      <td>1.0</td>\n",
       "      <td>660</td>\n",
       "      <td>매장3</td>\n",
       "      <td>NaN</td>\n",
       "      <td>2637.0</td>\n",
       "    </tr>\n",
       "    <tr>\n",
       "      <th>735774</th>\n",
       "      <td>20170630</td>\n",
       "      <td>60302021</td>\n",
       "      <td>축산물</td>\n",
       "      <td>육가공</td>\n",
       "      <td>햄/소시지/훈제</td>\n",
       "      <td>꼬마소시지(300g)-매장</td>\n",
       "      <td>1.0</td>\n",
       "      <td>4620</td>\n",
       "      <td>매장3</td>\n",
       "      <td>NaN</td>\n",
       "      <td>2637.0</td>\n",
       "    </tr>\n",
       "    <tr>\n",
       "      <th>735775</th>\n",
       "      <td>20170630</td>\n",
       "      <td>80101031</td>\n",
       "      <td>간식</td>\n",
       "      <td>과자</td>\n",
       "      <td>스낵</td>\n",
       "      <td>누룽지(소:90g)</td>\n",
       "      <td>1.0</td>\n",
       "      <td>1430</td>\n",
       "      <td>매장3</td>\n",
       "      <td>NaN</td>\n",
       "      <td>2637.0</td>\n",
       "    </tr>\n",
       "    <tr>\n",
       "      <th>735776</th>\n",
       "      <td>20170630</td>\n",
       "      <td>80101060</td>\n",
       "      <td>간식</td>\n",
       "      <td>과자</td>\n",
       "      <td>스낵</td>\n",
       "      <td>누룽지(300g)</td>\n",
       "      <td>1.0</td>\n",
       "      <td>4180</td>\n",
       "      <td>매장3</td>\n",
       "      <td>NaN</td>\n",
       "      <td>2637.0</td>\n",
       "    </tr>\n",
       "  </tbody>\n",
       "</table>\n",
       "<p>439067 rows × 11 columns</p>\n",
       "</div>"
      ],
      "text/plain": [
       "            공급일자      물품코드 물품대분류   물품중분류     물품소분류             물품명  구매수량  \\\n",
       "0       20170201  50142001    채소  잎/줄기채소       시금치       시금치(300g)   1.0   \n",
       "1       20170201  60302012   축산물     육가공  돈가스/분쇄가공    튀김옷돈가스(400g)   1.0   \n",
       "2       20170201  80301002    간식     밀가공        라면   감자라면(110g:1봉)   2.0   \n",
       "3       20170201  80301010    간식     밀가공        라면       사리면(100g)   1.0   \n",
       "4       20170201  80305003    간식     밀가공        만두      고기만두(500g)   1.0   \n",
       "...          ...       ...   ...     ...       ...             ...   ...   \n",
       "735772  20170630  50217001    채소    열매채소      청양고추      청양고추(100g)   1.0   \n",
       "735773  20170630  50706003    채소      버섯      팽이버섯      팽이버섯(150g)   1.0   \n",
       "735774  20170630  60302021   축산물     육가공  햄/소시지/훈제  꼬마소시지(300g)-매장   1.0   \n",
       "735775  20170630  80101031    간식      과자        스낵      누룽지(소:90g)   1.0   \n",
       "735776  20170630  80101060    간식      과자        스낵       누룽지(300g)   1.0   \n",
       "\n",
       "        구매금액 구매매장  반품_원거래일자    회원번호  \n",
       "0       2000  매장3       NaN  2101.0  \n",
       "1       6300  매장3       NaN  2101.0  \n",
       "2       2600  매장3       NaN  2101.0  \n",
       "3        900  매장3       NaN  2101.0  \n",
       "4       5400  매장3       NaN  2101.0  \n",
       "...      ...  ...       ...     ...  \n",
       "735772  1540  매장3       NaN  2637.0  \n",
       "735773   660  매장3       NaN  2637.0  \n",
       "735774  4620  매장3       NaN  2637.0  \n",
       "735775  1430  매장3       NaN  2637.0  \n",
       "735776  4180  매장3       NaN  2637.0  \n",
       "\n",
       "[439067 rows x 11 columns]"
      ]
     },
     "execution_count": 10,
     "metadata": {},
     "output_type": "execute_result"
    }
   ],
   "source": [
    "top_list = df_product['물품대분류'].value_counts().head(3).index.tolist()\n",
    "cond1 = df_product['물품대분류'].isin(top_list)\n",
    "df_product.loc[cond1]"
   ]
  },
  {
   "cell_type": "code",
   "execution_count": 11,
   "id": "302946e5",
   "metadata": {
    "collapsed": true
   },
   "outputs": [
    {
     "data": {
      "text/html": [
       "<div>\n",
       "<style scoped>\n",
       "    .dataframe tbody tr th:only-of-type {\n",
       "        vertical-align: middle;\n",
       "    }\n",
       "\n",
       "    .dataframe tbody tr th {\n",
       "        vertical-align: top;\n",
       "    }\n",
       "\n",
       "    .dataframe thead tr th {\n",
       "        text-align: left;\n",
       "    }\n",
       "\n",
       "    .dataframe thead tr:last-of-type th {\n",
       "        text-align: right;\n",
       "    }\n",
       "</style>\n",
       "<table border=\"1\" class=\"dataframe\">\n",
       "  <thead>\n",
       "    <tr>\n",
       "      <th></th>\n",
       "      <th>sum</th>\n",
       "      <th>mean</th>\n",
       "    </tr>\n",
       "    <tr>\n",
       "      <th></th>\n",
       "      <th>구매금액</th>\n",
       "      <th>구매금액</th>\n",
       "    </tr>\n",
       "    <tr>\n",
       "      <th>구매매장</th>\n",
       "      <th></th>\n",
       "      <th></th>\n",
       "    </tr>\n",
       "  </thead>\n",
       "  <tbody>\n",
       "    <tr>\n",
       "      <th>매장1</th>\n",
       "      <td>363985400</td>\n",
       "      <td>4770.638426</td>\n",
       "    </tr>\n",
       "    <tr>\n",
       "      <th>매장2</th>\n",
       "      <td>461745602</td>\n",
       "      <td>4908.271082</td>\n",
       "    </tr>\n",
       "    <tr>\n",
       "      <th>매장3</th>\n",
       "      <td>916748142</td>\n",
       "      <td>4949.910326</td>\n",
       "    </tr>\n",
       "    <tr>\n",
       "      <th>매장4</th>\n",
       "      <td>419048570</td>\n",
       "      <td>5019.146844</td>\n",
       "    </tr>\n",
       "  </tbody>\n",
       "</table>\n",
       "</div>"
      ],
      "text/plain": [
       "            sum         mean\n",
       "           구매금액         구매금액\n",
       "구매매장                        \n",
       "매장1   363985400  4770.638426\n",
       "매장2   461745602  4908.271082\n",
       "매장3   916748142  4949.910326\n",
       "매장4   419048570  5019.146844"
      ]
     },
     "execution_count": 11,
     "metadata": {},
     "output_type": "execute_result"
    }
   ],
   "source": [
    "df_product.loc[cond1].pivot_table(index='구매매장',values='구매금액',\n",
    "                                 aggfunc=['sum','mean'])"
   ]
  },
  {
   "cell_type": "code",
   "execution_count": null,
   "id": "2d3bcebc",
   "metadata": {},
   "outputs": [],
   "source": [
    "# 3) 공급일자 데이터를 날짜형식으로 pd.to_datetime( df_product['공급일자'], format= '%Y%m%d' ) 변환한 다음,\n",
    "#    연도/월/요일을 새로운 항목으로 선언 하시오."
   ]
  },
  {
   "cell_type": "code",
   "execution_count": 12,
   "id": "cbbd7b14",
   "metadata": {},
   "outputs": [],
   "source": [
    "df_product['공급일자_dt'] = pd.to_datetime(df_product['공급일자'], format='%Y%m%d')\n",
    "df_product['공급연도']    = df_product['공급일자_dt'].dt.year\n",
    "df_product['공급월']    = df_product['공급일자_dt'].dt.month\n",
    "df_product['공급요일']    = df_product['공급일자_dt'].dt.day_name()"
   ]
  },
  {
   "cell_type": "code",
   "execution_count": 13,
   "id": "824ea25f",
   "metadata": {
    "collapsed": true
   },
   "outputs": [
    {
     "data": {
      "text/html": [
       "<div>\n",
       "<style scoped>\n",
       "    .dataframe tbody tr th:only-of-type {\n",
       "        vertical-align: middle;\n",
       "    }\n",
       "\n",
       "    .dataframe tbody tr th {\n",
       "        vertical-align: top;\n",
       "    }\n",
       "\n",
       "    .dataframe thead th {\n",
       "        text-align: right;\n",
       "    }\n",
       "</style>\n",
       "<table border=\"1\" class=\"dataframe\">\n",
       "  <thead>\n",
       "    <tr style=\"text-align: right;\">\n",
       "      <th>물품대분류</th>\n",
       "      <th>간식</th>\n",
       "      <th>건강</th>\n",
       "      <th>과실</th>\n",
       "      <th>급식용</th>\n",
       "      <th>기타</th>\n",
       "      <th>반찬</th>\n",
       "      <th>베이커리</th>\n",
       "      <th>생활용품</th>\n",
       "      <th>서류</th>\n",
       "      <th>수산</th>\n",
       "      <th>양념/가루</th>\n",
       "      <th>음료</th>\n",
       "      <th>잡곡</th>\n",
       "      <th>주곡</th>\n",
       "      <th>주류</th>\n",
       "      <th>채소</th>\n",
       "      <th>축산물</th>\n",
       "    </tr>\n",
       "    <tr>\n",
       "      <th>공급월</th>\n",
       "      <th></th>\n",
       "      <th></th>\n",
       "      <th></th>\n",
       "      <th></th>\n",
       "      <th></th>\n",
       "      <th></th>\n",
       "      <th></th>\n",
       "      <th></th>\n",
       "      <th></th>\n",
       "      <th></th>\n",
       "      <th></th>\n",
       "      <th></th>\n",
       "      <th></th>\n",
       "      <th></th>\n",
       "      <th></th>\n",
       "      <th></th>\n",
       "      <th></th>\n",
       "    </tr>\n",
       "  </thead>\n",
       "  <tbody>\n",
       "    <tr>\n",
       "      <th>1</th>\n",
       "      <td>83859470.0</td>\n",
       "      <td>35891780.0</td>\n",
       "      <td>59004590.0</td>\n",
       "      <td>NaN</td>\n",
       "      <td>NaN</td>\n",
       "      <td>51215050.0</td>\n",
       "      <td>4800.0</td>\n",
       "      <td>36247670.0</td>\n",
       "      <td>8844300.0</td>\n",
       "      <td>78142080.0</td>\n",
       "      <td>48352890.0</td>\n",
       "      <td>30265700.0</td>\n",
       "      <td>10921400.0</td>\n",
       "      <td>23087900.0</td>\n",
       "      <td>1316950.0</td>\n",
       "      <td>91066225.0</td>\n",
       "      <td>188293390.0</td>\n",
       "    </tr>\n",
       "    <tr>\n",
       "      <th>2</th>\n",
       "      <td>71251375.0</td>\n",
       "      <td>22961390.0</td>\n",
       "      <td>41991101.0</td>\n",
       "      <td>0.0</td>\n",
       "      <td>NaN</td>\n",
       "      <td>39693450.0</td>\n",
       "      <td>NaN</td>\n",
       "      <td>35709810.0</td>\n",
       "      <td>9466150.0</td>\n",
       "      <td>55114410.0</td>\n",
       "      <td>47935440.0</td>\n",
       "      <td>21211240.0</td>\n",
       "      <td>13944600.0</td>\n",
       "      <td>21560400.0</td>\n",
       "      <td>1052300.0</td>\n",
       "      <td>81147475.0</td>\n",
       "      <td>163340810.0</td>\n",
       "    </tr>\n",
       "    <tr>\n",
       "      <th>3</th>\n",
       "      <td>72170465.0</td>\n",
       "      <td>31185220.0</td>\n",
       "      <td>39356364.0</td>\n",
       "      <td>NaN</td>\n",
       "      <td>0.0</td>\n",
       "      <td>49572430.0</td>\n",
       "      <td>0.0</td>\n",
       "      <td>52518770.0</td>\n",
       "      <td>11006950.0</td>\n",
       "      <td>63767950.0</td>\n",
       "      <td>48135260.0</td>\n",
       "      <td>28628400.0</td>\n",
       "      <td>11105900.0</td>\n",
       "      <td>26446700.0</td>\n",
       "      <td>1160450.0</td>\n",
       "      <td>96970600.0</td>\n",
       "      <td>199143950.0</td>\n",
       "    </tr>\n",
       "    <tr>\n",
       "      <th>4</th>\n",
       "      <td>70660080.0</td>\n",
       "      <td>29584370.0</td>\n",
       "      <td>34464440.0</td>\n",
       "      <td>NaN</td>\n",
       "      <td>0.0</td>\n",
       "      <td>43759830.0</td>\n",
       "      <td>NaN</td>\n",
       "      <td>45890520.0</td>\n",
       "      <td>7227100.0</td>\n",
       "      <td>59544090.0</td>\n",
       "      <td>40487070.0</td>\n",
       "      <td>29411680.0</td>\n",
       "      <td>9596800.0</td>\n",
       "      <td>25019500.0</td>\n",
       "      <td>1145300.0</td>\n",
       "      <td>98635620.0</td>\n",
       "      <td>186156660.0</td>\n",
       "    </tr>\n",
       "    <tr>\n",
       "      <th>5</th>\n",
       "      <td>71680155.0</td>\n",
       "      <td>28711570.0</td>\n",
       "      <td>26769710.0</td>\n",
       "      <td>NaN</td>\n",
       "      <td>0.0</td>\n",
       "      <td>42773580.0</td>\n",
       "      <td>NaN</td>\n",
       "      <td>38928265.0</td>\n",
       "      <td>7672440.0</td>\n",
       "      <td>50530065.0</td>\n",
       "      <td>44017738.0</td>\n",
       "      <td>29671415.0</td>\n",
       "      <td>8822800.0</td>\n",
       "      <td>23107130.0</td>\n",
       "      <td>959300.0</td>\n",
       "      <td>109519818.0</td>\n",
       "      <td>193004435.0</td>\n",
       "    </tr>\n",
       "    <tr>\n",
       "      <th>6</th>\n",
       "      <td>78346946.0</td>\n",
       "      <td>23418244.0</td>\n",
       "      <td>32265420.0</td>\n",
       "      <td>NaN</td>\n",
       "      <td>0.0</td>\n",
       "      <td>46789020.0</td>\n",
       "      <td>NaN</td>\n",
       "      <td>40105510.0</td>\n",
       "      <td>8752440.0</td>\n",
       "      <td>54333530.0</td>\n",
       "      <td>51126580.0</td>\n",
       "      <td>38875352.0</td>\n",
       "      <td>9861120.0</td>\n",
       "      <td>23827320.0</td>\n",
       "      <td>1251030.0</td>\n",
       "      <td>120914240.0</td>\n",
       "      <td>185366000.0</td>\n",
       "    </tr>\n",
       "  </tbody>\n",
       "</table>\n",
       "</div>"
      ],
      "text/plain": [
       "물품대분류          간식          건강          과실  급식용   기타          반찬    베이커리  \\\n",
       "공급월                                                                       \n",
       "1      83859470.0  35891780.0  59004590.0  NaN  NaN  51215050.0  4800.0   \n",
       "2      71251375.0  22961390.0  41991101.0  0.0  NaN  39693450.0     NaN   \n",
       "3      72170465.0  31185220.0  39356364.0  NaN  0.0  49572430.0     0.0   \n",
       "4      70660080.0  29584370.0  34464440.0  NaN  0.0  43759830.0     NaN   \n",
       "5      71680155.0  28711570.0  26769710.0  NaN  0.0  42773580.0     NaN   \n",
       "6      78346946.0  23418244.0  32265420.0  NaN  0.0  46789020.0     NaN   \n",
       "\n",
       "물품대분류        생활용품          서류          수산       양념/가루          음료          잡곡  \\\n",
       "공급월                                                                             \n",
       "1      36247670.0   8844300.0  78142080.0  48352890.0  30265700.0  10921400.0   \n",
       "2      35709810.0   9466150.0  55114410.0  47935440.0  21211240.0  13944600.0   \n",
       "3      52518770.0  11006950.0  63767950.0  48135260.0  28628400.0  11105900.0   \n",
       "4      45890520.0   7227100.0  59544090.0  40487070.0  29411680.0   9596800.0   \n",
       "5      38928265.0   7672440.0  50530065.0  44017738.0  29671415.0   8822800.0   \n",
       "6      40105510.0   8752440.0  54333530.0  51126580.0  38875352.0   9861120.0   \n",
       "\n",
       "물품대분류          주곡         주류           채소          축산물  \n",
       "공급월                                                     \n",
       "1      23087900.0  1316950.0   91066225.0  188293390.0  \n",
       "2      21560400.0  1052300.0   81147475.0  163340810.0  \n",
       "3      26446700.0  1160450.0   96970600.0  199143950.0  \n",
       "4      25019500.0  1145300.0   98635620.0  186156660.0  \n",
       "5      23107130.0   959300.0  109519818.0  193004435.0  \n",
       "6      23827320.0  1251030.0  120914240.0  185366000.0  "
      ]
     },
     "execution_count": 13,
     "metadata": {},
     "output_type": "execute_result"
    }
   ],
   "source": [
    "# 4) '월'에 따른 물품 대분류 별 구매금액의 합을 계산하시오. \n",
    "df_product.pivot_table(index='공급월',columns='물품대분류',values='구매금액',\n",
    "                      aggfunc='sum')"
   ]
  },
  {
   "cell_type": "code",
   "execution_count": 15,
   "id": "68c5a5c3",
   "metadata": {
    "collapsed": true
   },
   "outputs": [
    {
     "data": {
      "text/html": [
       "<div>\n",
       "<style scoped>\n",
       "    .dataframe tbody tr th:only-of-type {\n",
       "        vertical-align: middle;\n",
       "    }\n",
       "\n",
       "    .dataframe tbody tr th {\n",
       "        vertical-align: top;\n",
       "    }\n",
       "\n",
       "    .dataframe thead th {\n",
       "        text-align: right;\n",
       "    }\n",
       "</style>\n",
       "<table border=\"1\" class=\"dataframe\">\n",
       "  <thead>\n",
       "    <tr style=\"text-align: right;\">\n",
       "      <th></th>\n",
       "      <th>구매금액</th>\n",
       "    </tr>\n",
       "    <tr>\n",
       "      <th>공급요일</th>\n",
       "      <th></th>\n",
       "    </tr>\n",
       "  </thead>\n",
       "  <tbody>\n",
       "    <tr>\n",
       "      <th>Monday</th>\n",
       "      <td>747139060</td>\n",
       "    </tr>\n",
       "    <tr>\n",
       "      <th>Thursday</th>\n",
       "      <td>678745315</td>\n",
       "    </tr>\n",
       "    <tr>\n",
       "      <th>Friday</th>\n",
       "      <td>638046105</td>\n",
       "    </tr>\n",
       "    <tr>\n",
       "      <th>Wednesday</th>\n",
       "      <td>629856469</td>\n",
       "    </tr>\n",
       "    <tr>\n",
       "      <th>Tuesday</th>\n",
       "      <td>610254061</td>\n",
       "    </tr>\n",
       "    <tr>\n",
       "      <th>Saturday</th>\n",
       "      <td>557242936</td>\n",
       "    </tr>\n",
       "    <tr>\n",
       "      <th>Sunday</th>\n",
       "      <td>315763842</td>\n",
       "    </tr>\n",
       "  </tbody>\n",
       "</table>\n",
       "</div>"
      ],
      "text/plain": [
       "                구매금액\n",
       "공급요일                \n",
       "Monday     747139060\n",
       "Thursday   678745315\n",
       "Friday     638046105\n",
       "Wednesday  629856469\n",
       "Tuesday    610254061\n",
       "Saturday   557242936\n",
       "Sunday     315763842"
      ]
     },
     "execution_count": 15,
     "metadata": {},
     "output_type": "execute_result"
    }
   ],
   "source": [
    "# 5) 가장 판매량이 높은 요일을 확인 (요일 별 구매금액의 합을 확인)\n",
    "df_product.pivot_table(index='공급요일',values='구매금액',\n",
    "                       aggfunc='sum').sort_values(by='구매금액',ascending=False)"
   ]
  },
  {
   "cell_type": "code",
   "execution_count": 25,
   "id": "d6a5474f",
   "metadata": {
    "collapsed": true
   },
   "outputs": [
    {
     "data": {
      "text/plain": [
       "array(['Wednesday', 'Thursday', 'Friday', 'Saturday', 'Sunday', 'Monday',\n",
       "       'Tuesday'], dtype=object)"
      ]
     },
     "execution_count": 25,
     "metadata": {},
     "output_type": "execute_result"
    }
   ],
   "source": [
    "# 6) df_product에서 토요일과 일요일의 '구매금액'의 평균의 차이가 있는가?\n",
    "df_product['공급일자_dt'] = pd.to_datetime(df_product['공급일자'], format='%Y%m%d')\n",
    "df_product['공급요일']    = df_product['공급일자_dt'].dt.day_name()\n",
    "df_product['공급요일'].unique()"
   ]
  },
  {
   "cell_type": "code",
   "execution_count": 28,
   "id": "9181b2b7",
   "metadata": {},
   "outputs": [],
   "source": [
    "cond1 = df_product['공급요일'].isin(['Saturday', 'Sunday'])\n",
    "df_weekend = df_product.loc[cond1]"
   ]
  },
  {
   "cell_type": "code",
   "execution_count": 30,
   "id": "9aaa2493",
   "metadata": {},
   "outputs": [],
   "source": [
    "import scipy.stats as stats"
   ]
  },
  {
   "cell_type": "code",
   "execution_count": 31,
   "id": "65854cdb",
   "metadata": {
    "collapsed": true
   },
   "outputs": [
    {
     "data": {
      "text/plain": [
       "NormaltestResult(statistic=250963.257085467, pvalue=0.0)"
      ]
     },
     "execution_count": 31,
     "metadata": {},
     "output_type": "execute_result"
    }
   ],
   "source": [
    "# 6-1) 구매금액의 분포가 정규분포를 따르는가?\n",
    "# 귀무 : 구매금액의 분포가 정규분포와 같다. \n",
    "# 대립 : 구매금액의 분포가 정규분포와 다르다.\n",
    "stats.normaltest(df_weekend['구매금액'])\n",
    "# P.value < 0.05(5%) / 대립가설 참 / 구매금액의 분포가 정규분포와 다르다."
   ]
  },
  {
   "cell_type": "code",
   "execution_count": 32,
   "id": "1b479de0",
   "metadata": {
    "collapsed": true
   },
   "outputs": [
    {
     "data": {
      "text/plain": [
       "RanksumsResult(statistic=3.0474877976155326, pvalue=0.002307628950574978)"
      ]
     },
     "execution_count": 32,
     "metadata": {},
     "output_type": "execute_result"
    }
   ],
   "source": [
    "# 6-2) 두 집단(토요일과 일요일)의 구매금액의 평균의 차이가 있는가? \n",
    "cond1 = df_weekend['공급요일']=='Sunday'\n",
    "cond2 = df_weekend['공급요일']=='Saturday'\n",
    "# 귀무 : 두 집단(토요일과 일요일)의 구매금액의 평균의 차이가 없다.\n",
    "# 대립 : 두 집단(토요일과 일요일)의 구매금액의 평균의 차이가 있다.\n",
    "stats.ranksums(df_weekend.loc[cond1]['구매금액'], df_weekend.loc[cond2]['구매금액'] )\n",
    "# P.value < 0.05 / 대립가설 참 "
   ]
  },
  {
   "cell_type": "markdown",
   "id": "1a83a1a1",
   "metadata": {},
   "source": [
    "* 고객 데이터 분석을 실시하고자 한다. (df1) \n",
    "8) 결혼유무에서 '기혼'에 해당하는 고객들 중, 방문횟수가 높은 상위 30명의 고객 명단을 추출하여 result_member.xlsx 저장 "
   ]
  },
  {
   "cell_type": "code",
   "execution_count": 17,
   "id": "db016476",
   "metadata": {},
   "outputs": [],
   "source": [
    "p1 = df_product.pivot_table(index='회원번호',values=['구매금액','구매수량'],aggfunc='sum').reset_index()"
   ]
  },
  {
   "cell_type": "code",
   "execution_count": 18,
   "id": "f0bc05ea",
   "metadata": {},
   "outputs": [],
   "source": [
    "m1 = pd.merge(df_member, p1, on='회원번호', how='inner')"
   ]
  },
  {
   "cell_type": "code",
   "execution_count": 19,
   "id": "b0d25584",
   "metadata": {},
   "outputs": [],
   "source": [
    "df_product['방문횟수'] = 1  # '방문횟수' 새로운 항목을 1값을 넣어 생성 "
   ]
  },
  {
   "cell_type": "code",
   "execution_count": 20,
   "id": "64a4c742",
   "metadata": {},
   "outputs": [],
   "source": [
    "p2 = df_product.pivot_table(index=['회원번호','공급일자'],values='방문횟수',aggfunc='min').reset_index()"
   ]
  },
  {
   "cell_type": "code",
   "execution_count": 21,
   "id": "a0ce59fc",
   "metadata": {
    "collapsed": true
   },
   "outputs": [
    {
     "data": {
      "text/html": [
       "<div>\n",
       "<style scoped>\n",
       "    .dataframe tbody tr th:only-of-type {\n",
       "        vertical-align: middle;\n",
       "    }\n",
       "\n",
       "    .dataframe tbody tr th {\n",
       "        vertical-align: top;\n",
       "    }\n",
       "\n",
       "    .dataframe thead th {\n",
       "        text-align: right;\n",
       "    }\n",
       "</style>\n",
       "<table border=\"1\" class=\"dataframe\">\n",
       "  <thead>\n",
       "    <tr style=\"text-align: right;\">\n",
       "      <th></th>\n",
       "      <th>회원번호</th>\n",
       "      <th>회원상태</th>\n",
       "      <th>성별</th>\n",
       "      <th>결혼유무</th>\n",
       "      <th>주소</th>\n",
       "      <th>생년</th>\n",
       "      <th>연령</th>\n",
       "      <th>구매금액</th>\n",
       "      <th>구매수량</th>\n",
       "      <th>방문횟수</th>\n",
       "    </tr>\n",
       "  </thead>\n",
       "  <tbody>\n",
       "    <tr>\n",
       "      <th>0</th>\n",
       "      <td>2101</td>\n",
       "      <td>정상회원</td>\n",
       "      <td>여</td>\n",
       "      <td>기혼</td>\n",
       "      <td>서울 강북구 미아동 134-</td>\n",
       "      <td>1967</td>\n",
       "      <td>51</td>\n",
       "      <td>1991230</td>\n",
       "      <td>382.0</td>\n",
       "      <td>86</td>\n",
       "    </tr>\n",
       "    <tr>\n",
       "      <th>1</th>\n",
       "      <td>2102</td>\n",
       "      <td>정상회원</td>\n",
       "      <td>여</td>\n",
       "      <td>NaN</td>\n",
       "      <td>경기 용인시 수지구 동천동</td>\n",
       "      <td>1947</td>\n",
       "      <td>71</td>\n",
       "      <td>2095860</td>\n",
       "      <td>472.5</td>\n",
       "      <td>79</td>\n",
       "    </tr>\n",
       "  </tbody>\n",
       "</table>\n",
       "</div>"
      ],
      "text/plain": [
       "   회원번호  회원상태 성별 결혼유무               주소    생년  연령     구매금액   구매수량  방문횟수\n",
       "0  2101  정상회원  여   기혼  서울 강북구 미아동 134-  1967  51  1991230  382.0    86\n",
       "1  2102  정상회원  여  NaN   경기 용인시 수지구 동천동  1947  71  2095860  472.5    79"
      ]
     },
     "execution_count": 21,
     "metadata": {},
     "output_type": "execute_result"
    }
   ],
   "source": [
    "p3 = p2.pivot_table(index='회원번호',values='방문횟수', aggfunc='sum').reset_index()\n",
    "df1 = pd.merge(m1, p3, on='회원번호',how='inner')\n",
    "df1.head(2)"
   ]
  },
  {
   "cell_type": "code",
   "execution_count": 22,
   "id": "1f3c1160",
   "metadata": {},
   "outputs": [
    {
     "data": {
      "text/plain": [
       "NormaltestResult(statistic=3847.8326897574975, pvalue=0.0)"
      ]
     },
     "execution_count": 22,
     "metadata": {},
     "output_type": "execute_result"
    }
   ],
   "source": [
    "# 7) 고객데이터(df1)에서 '성별'에 따른 '구매금액'의 평균의 차이가 있는지 가설검정 수행 \n",
    "# 7-1) '구매금액'의 정규성 검정 \n",
    "stats.normaltest(df1['구매금액'])"
   ]
  },
  {
   "cell_type": "code",
   "execution_count": 26,
   "id": "ee12afd0",
   "metadata": {},
   "outputs": [],
   "source": [
    "# 7-2) \n",
    "cond1 = (df1['성별']=='남')\n",
    "cond2 = (df1['성별']=='여')\n",
    "df1_man = df1.loc[cond1]\n",
    "df1_woman = df1.loc[cond2]"
   ]
  },
  {
   "cell_type": "code",
   "execution_count": 27,
   "id": "e2dd7750",
   "metadata": {},
   "outputs": [
    {
     "data": {
      "text/plain": [
       "RanksumsResult(statistic=-1.6355929135561293, pvalue=0.10192481447327584)"
      ]
     },
     "execution_count": 27,
     "metadata": {},
     "output_type": "execute_result"
    }
   ],
   "source": [
    "stats.ranksums(df1_man['구매금액'], df1_woman['구매금액'])"
   ]
  },
  {
   "cell_type": "code",
   "execution_count": 30,
   "id": "73ab5f90",
   "metadata": {},
   "outputs": [],
   "source": [
    "# 8) 결혼유무에서 '기혼'에 해당하는 고객들 중, 방문횟수가 높은 상위 30명의 고객 명단을\n",
    "#    추출하여 result_member.xlsx 저장 \n",
    "df1.loc[(df1['결혼유무']=='기혼') & (df1['방문횟수']>=30)].to_excel('result_member.xlsx')"
   ]
  }
 ],
 "metadata": {
  "kernelspec": {
   "display_name": "Python 3 (ipykernel)",
   "language": "python",
   "name": "python3"
  },
  "language_info": {
   "codemirror_mode": {
    "name": "ipython",
    "version": 3
   },
   "file_extension": ".py",
   "mimetype": "text/x-python",
   "name": "python",
   "nbconvert_exporter": "python",
   "pygments_lexer": "ipython3",
   "version": "3.9.12"
  }
 },
 "nbformat": 4,
 "nbformat_minor": 5
}
