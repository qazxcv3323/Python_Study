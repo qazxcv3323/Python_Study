{
 "cells": [
  {
   "cell_type": "code",
   "execution_count": 2,
   "id": "6c0e6f91",
   "metadata": {},
   "outputs": [],
   "source": [
    "import pandas as pd \n",
    "import matplotlib as mpl\n",
    "import matplotlib.pyplot as plt \n",
    "import seaborn as sns \n",
    "import plotly.express as px \n",
    "import scipy.stats as stats\n",
    "\n",
    "mpl.rc('font',family='Malgun Gothic') #  그래프 글꼴 설정 (window)\n",
    "# mpl.rc('font',family='AppleGothic') #  그래프 글꼴 설정 (Mac)"
   ]
  },
  {
   "cell_type": "code",
   "execution_count": 6,
   "id": "278f013a",
   "metadata": {},
   "outputs": [],
   "source": [
    "df1 = pd.read_csv('10_Data.csv',encoding='cp949')"
   ]
  },
  {
   "cell_type": "code",
   "execution_count": 8,
   "id": "f547ec38",
   "metadata": {},
   "outputs": [],
   "source": [
    "# 결측값을 제거 한 뒤 스케일링 실시\n",
    "df1_clean = df1.dropna()"
   ]
  },
  {
   "cell_type": "code",
   "execution_count": 15,
   "id": "ffcbfe1b",
   "metadata": {},
   "outputs": [],
   "source": [
    "# 데이터의 연속형 항목을 리스트 형태로 불러옴 \n",
    "numeric_list = df1_clean.describe().columns.tolist()\n",
    "df1_numeric  = df1_clean[numeric_list] # 연속형 데이터 만 추출 "
   ]
  },
  {
   "cell_type": "code",
   "execution_count": 16,
   "id": "81a859ae",
   "metadata": {},
   "outputs": [],
   "source": [
    "# 스케일 \n",
    "from sklearn.preprocessing import StandardScaler\n",
    "from sklearn.preprocessing import MinMaxScaler\n",
    "from sklearn.preprocessing import RobustScaler"
   ]
  },
  {
   "cell_type": "code",
   "execution_count": 18,
   "id": "19dc895a",
   "metadata": {
    "collapsed": true
   },
   "outputs": [
    {
     "data": {
      "text/html": [
       "<div>\n",
       "<style scoped>\n",
       "    .dataframe tbody tr th:only-of-type {\n",
       "        vertical-align: middle;\n",
       "    }\n",
       "\n",
       "    .dataframe tbody tr th {\n",
       "        vertical-align: top;\n",
       "    }\n",
       "\n",
       "    .dataframe thead th {\n",
       "        text-align: right;\n",
       "    }\n",
       "</style>\n",
       "<table border=\"1\" class=\"dataframe\">\n",
       "  <thead>\n",
       "    <tr style=\"text-align: right;\">\n",
       "      <th></th>\n",
       "      <th>순번</th>\n",
       "      <th>충전실온도</th>\n",
       "      <th>실링온도</th>\n",
       "      <th>쿠킹온도</th>\n",
       "      <th>쿠킹스팀압력</th>\n",
       "      <th>실링압력</th>\n",
       "      <th>생산시간</th>\n",
       "    </tr>\n",
       "  </thead>\n",
       "  <tbody>\n",
       "    <tr>\n",
       "      <th>count</th>\n",
       "      <td>22909.000000</td>\n",
       "      <td>22909.000000</td>\n",
       "      <td>22909.000000</td>\n",
       "      <td>22909.000000</td>\n",
       "      <td>22909.000000</td>\n",
       "      <td>22909.000000</td>\n",
       "      <td>22909.000000</td>\n",
       "    </tr>\n",
       "    <tr>\n",
       "      <th>mean</th>\n",
       "      <td>8.573486</td>\n",
       "      <td>71.685658</td>\n",
       "      <td>101.377923</td>\n",
       "      <td>136.969046</td>\n",
       "      <td>23.727427</td>\n",
       "      <td>208.354819</td>\n",
       "      <td>75.685222</td>\n",
       "    </tr>\n",
       "    <tr>\n",
       "      <th>std</th>\n",
       "      <td>7.377341</td>\n",
       "      <td>0.857357</td>\n",
       "      <td>12.486747</td>\n",
       "      <td>12.480757</td>\n",
       "      <td>0.232014</td>\n",
       "      <td>3.622778</td>\n",
       "      <td>2.695066</td>\n",
       "    </tr>\n",
       "    <tr>\n",
       "      <th>min</th>\n",
       "      <td>1.000000</td>\n",
       "      <td>68.217193</td>\n",
       "      <td>65.050311</td>\n",
       "      <td>100.058961</td>\n",
       "      <td>22.919000</td>\n",
       "      <td>194.239000</td>\n",
       "      <td>69.690000</td>\n",
       "    </tr>\n",
       "    <tr>\n",
       "      <th>25%</th>\n",
       "      <td>3.000000</td>\n",
       "      <td>71.181829</td>\n",
       "      <td>91.825021</td>\n",
       "      <td>127.329544</td>\n",
       "      <td>23.581000</td>\n",
       "      <td>205.912000</td>\n",
       "      <td>73.420000</td>\n",
       "    </tr>\n",
       "    <tr>\n",
       "      <th>50%</th>\n",
       "      <td>6.000000</td>\n",
       "      <td>71.728887</td>\n",
       "      <td>99.786348</td>\n",
       "      <td>135.491005</td>\n",
       "      <td>23.728000</td>\n",
       "      <td>208.361000</td>\n",
       "      <td>75.670000</td>\n",
       "    </tr>\n",
       "    <tr>\n",
       "      <th>75%</th>\n",
       "      <td>12.000000</td>\n",
       "      <td>72.251039</td>\n",
       "      <td>109.162083</td>\n",
       "      <td>144.771468</td>\n",
       "      <td>23.864000</td>\n",
       "      <td>210.788000</td>\n",
       "      <td>77.950000</td>\n",
       "    </tr>\n",
       "    <tr>\n",
       "      <th>max</th>\n",
       "      <td>62.000000</td>\n",
       "      <td>74.086660</td>\n",
       "      <td>140.799501</td>\n",
       "      <td>176.823600</td>\n",
       "      <td>24.580000</td>\n",
       "      <td>223.702000</td>\n",
       "      <td>82.580000</td>\n",
       "    </tr>\n",
       "  </tbody>\n",
       "</table>\n",
       "</div>"
      ],
      "text/plain": [
       "                 순번         충전실온도          실링온도          쿠킹온도        쿠킹스팀압력  \\\n",
       "count  22909.000000  22909.000000  22909.000000  22909.000000  22909.000000   \n",
       "mean       8.573486     71.685658    101.377923    136.969046     23.727427   \n",
       "std        7.377341      0.857357     12.486747     12.480757      0.232014   \n",
       "min        1.000000     68.217193     65.050311    100.058961     22.919000   \n",
       "25%        3.000000     71.181829     91.825021    127.329544     23.581000   \n",
       "50%        6.000000     71.728887     99.786348    135.491005     23.728000   \n",
       "75%       12.000000     72.251039    109.162083    144.771468     23.864000   \n",
       "max       62.000000     74.086660    140.799501    176.823600     24.580000   \n",
       "\n",
       "               실링압력          생산시간  \n",
       "count  22909.000000  22909.000000  \n",
       "mean     208.354819     75.685222  \n",
       "std        3.622778      2.695066  \n",
       "min      194.239000     69.690000  \n",
       "25%      205.912000     73.420000  \n",
       "50%      208.361000     75.670000  \n",
       "75%      210.788000     77.950000  \n",
       "max      223.702000     82.580000  "
      ]
     },
     "execution_count": 18,
     "metadata": {},
     "output_type": "execute_result"
    }
   ],
   "source": [
    "df1_numeric.describe()"
   ]
  },
  {
   "cell_type": "code",
   "execution_count": 19,
   "id": "9b2d5c2a",
   "metadata": {
    "collapsed": true
   },
   "outputs": [
    {
     "data": {
      "text/plain": [
       "StandardScaler()"
      ]
     },
     "execution_count": 19,
     "metadata": {},
     "output_type": "execute_result"
    }
   ],
   "source": [
    "# 스케일링 실시 \n",
    "scaler = StandardScaler()\n",
    "scaler.fit(df1_numeric) # fit 데이터를 변환하기 위한 수식을 도출 "
   ]
  },
  {
   "cell_type": "code",
   "execution_count": 23,
   "id": "7b7d8d75",
   "metadata": {
    "collapsed": true
   },
   "outputs": [
    {
     "data": {
      "text/html": [
       "<div>\n",
       "<style scoped>\n",
       "    .dataframe tbody tr th:only-of-type {\n",
       "        vertical-align: middle;\n",
       "    }\n",
       "\n",
       "    .dataframe tbody tr th {\n",
       "        vertical-align: top;\n",
       "    }\n",
       "\n",
       "    .dataframe thead th {\n",
       "        text-align: right;\n",
       "    }\n",
       "</style>\n",
       "<table border=\"1\" class=\"dataframe\">\n",
       "  <thead>\n",
       "    <tr style=\"text-align: right;\">\n",
       "      <th></th>\n",
       "      <th>순번</th>\n",
       "      <th>충전실온도</th>\n",
       "      <th>실링온도</th>\n",
       "      <th>쿠킹온도</th>\n",
       "      <th>쿠킹스팀압력</th>\n",
       "      <th>실링압력</th>\n",
       "      <th>생산시간</th>\n",
       "    </tr>\n",
       "  </thead>\n",
       "  <tbody>\n",
       "    <tr>\n",
       "      <th>count</th>\n",
       "      <td>2.290900e+04</td>\n",
       "      <td>2.290900e+04</td>\n",
       "      <td>2.290900e+04</td>\n",
       "      <td>2.290900e+04</td>\n",
       "      <td>2.290900e+04</td>\n",
       "      <td>2.290900e+04</td>\n",
       "      <td>2.290900e+04</td>\n",
       "    </tr>\n",
       "    <tr>\n",
       "      <th>mean</th>\n",
       "      <td>1.659228e-15</td>\n",
       "      <td>-1.154915e-14</td>\n",
       "      <td>-4.773247e-16</td>\n",
       "      <td>8.675868e-16</td>\n",
       "      <td>-1.755848e-15</td>\n",
       "      <td>1.494631e-15</td>\n",
       "      <td>-1.959896e-15</td>\n",
       "    </tr>\n",
       "    <tr>\n",
       "      <th>std</th>\n",
       "      <td>1.000022e+00</td>\n",
       "      <td>1.000022e+00</td>\n",
       "      <td>1.000022e+00</td>\n",
       "      <td>1.000022e+00</td>\n",
       "      <td>1.000022e+00</td>\n",
       "      <td>1.000022e+00</td>\n",
       "      <td>1.000022e+00</td>\n",
       "    </tr>\n",
       "    <tr>\n",
       "      <th>min</th>\n",
       "      <td>-1.026610e+00</td>\n",
       "      <td>-4.045619e+00</td>\n",
       "      <td>-2.909357e+00</td>\n",
       "      <td>-2.957424e+00</td>\n",
       "      <td>-3.484461e+00</td>\n",
       "      <td>-3.896493e+00</td>\n",
       "      <td>-2.224566e+00</td>\n",
       "    </tr>\n",
       "    <tr>\n",
       "      <th>25%</th>\n",
       "      <td>-7.555037e-01</td>\n",
       "      <td>-5.876663e-01</td>\n",
       "      <td>-7.650600e-01</td>\n",
       "      <td>-7.723661e-01</td>\n",
       "      <td>-6.311269e-01</td>\n",
       "      <td>-6.743092e-01</td>\n",
       "      <td>-8.405254e-01</td>\n",
       "    </tr>\n",
       "    <tr>\n",
       "      <th>50%</th>\n",
       "      <td>-3.488442e-01</td>\n",
       "      <td>5.042214e-02</td>\n",
       "      <td>-1.274639e-01</td>\n",
       "      <td>-1.184282e-01</td>\n",
       "      <td>2.468439e-03</td>\n",
       "      <td>1.706168e-03</td>\n",
       "      <td>-5.648210e-03</td>\n",
       "    </tr>\n",
       "    <tr>\n",
       "      <th>75%</th>\n",
       "      <td>4.644747e-01</td>\n",
       "      <td>6.594608e-01</td>\n",
       "      <td>6.234074e-01</td>\n",
       "      <td>6.251698e-01</td>\n",
       "      <td>5.886519e-01</td>\n",
       "      <td>6.716487e-01</td>\n",
       "      <td>8.403607e-01</td>\n",
       "    </tr>\n",
       "    <tr>\n",
       "      <th>max</th>\n",
       "      <td>7.242132e+00</td>\n",
       "      <td>2.800530e+00</td>\n",
       "      <td>3.157142e+00</td>\n",
       "      <td>3.193350e+00</td>\n",
       "      <td>3.674735e+00</td>\n",
       "      <td>4.236395e+00</td>\n",
       "      <td>2.558352e+00</td>\n",
       "    </tr>\n",
       "  </tbody>\n",
       "</table>\n",
       "</div>"
      ],
      "text/plain": [
       "                 순번         충전실온도          실링온도          쿠킹온도        쿠킹스팀압력  \\\n",
       "count  2.290900e+04  2.290900e+04  2.290900e+04  2.290900e+04  2.290900e+04   \n",
       "mean   1.659228e-15 -1.154915e-14 -4.773247e-16  8.675868e-16 -1.755848e-15   \n",
       "std    1.000022e+00  1.000022e+00  1.000022e+00  1.000022e+00  1.000022e+00   \n",
       "min   -1.026610e+00 -4.045619e+00 -2.909357e+00 -2.957424e+00 -3.484461e+00   \n",
       "25%   -7.555037e-01 -5.876663e-01 -7.650600e-01 -7.723661e-01 -6.311269e-01   \n",
       "50%   -3.488442e-01  5.042214e-02 -1.274639e-01 -1.184282e-01  2.468439e-03   \n",
       "75%    4.644747e-01  6.594608e-01  6.234074e-01  6.251698e-01  5.886519e-01   \n",
       "max    7.242132e+00  2.800530e+00  3.157142e+00  3.193350e+00  3.674735e+00   \n",
       "\n",
       "               실링압력          생산시간  \n",
       "count  2.290900e+04  2.290900e+04  \n",
       "mean   1.494631e-15 -1.959896e-15  \n",
       "std    1.000022e+00  1.000022e+00  \n",
       "min   -3.896493e+00 -2.224566e+00  \n",
       "25%   -6.743092e-01 -8.405254e-01  \n",
       "50%    1.706168e-03 -5.648210e-03  \n",
       "75%    6.716487e-01  8.403607e-01  \n",
       "max    4.236395e+00  2.558352e+00  "
      ]
     },
     "execution_count": 23,
     "metadata": {},
     "output_type": "execute_result"
    }
   ],
   "source": [
    "# 변환 \n",
    "df1_scale = pd.DataFrame(scaler.fit_transform(df1_numeric), columns=numeric_list)\n",
    "df1_scale.describe()"
   ]
  },
  {
   "cell_type": "code",
   "execution_count": 27,
   "id": "51322695",
   "metadata": {
    "collapsed": true
   },
   "outputs": [
    {
     "name": "stdout",
     "output_type": "stream",
     "text": [
      "10943\n"
     ]
    }
   ],
   "source": [
    "# 충전실 온도를 표준정규분포로 변환하여 \n",
    "# 변환 결과에서 충전실 온도가 0 이하인 데이터 개수를 확인 \n",
    "print(len(df1_scale.loc[(df1_scale['충전실온도']<0)]['충전실온도']))"
   ]
  },
  {
   "cell_type": "code",
   "execution_count": 29,
   "id": "d9559a4c",
   "metadata": {
    "collapsed": true
   },
   "outputs": [
    {
     "data": {
      "text/html": [
       "<div>\n",
       "<style scoped>\n",
       "    .dataframe tbody tr th:only-of-type {\n",
       "        vertical-align: middle;\n",
       "    }\n",
       "\n",
       "    .dataframe tbody tr th {\n",
       "        vertical-align: top;\n",
       "    }\n",
       "\n",
       "    .dataframe thead th {\n",
       "        text-align: right;\n",
       "    }\n",
       "</style>\n",
       "<table border=\"1\" class=\"dataframe\">\n",
       "  <thead>\n",
       "    <tr style=\"text-align: right;\">\n",
       "      <th></th>\n",
       "      <th>순번</th>\n",
       "      <th>충전실온도</th>\n",
       "      <th>실링온도</th>\n",
       "      <th>쿠킹온도</th>\n",
       "      <th>쿠킹스팀압력</th>\n",
       "      <th>실링압력</th>\n",
       "      <th>생산시간</th>\n",
       "    </tr>\n",
       "  </thead>\n",
       "  <tbody>\n",
       "    <tr>\n",
       "      <th>count</th>\n",
       "      <td>22909.000000</td>\n",
       "      <td>22909.000000</td>\n",
       "      <td>22909.000000</td>\n",
       "      <td>22909.000000</td>\n",
       "      <td>22909.000000</td>\n",
       "      <td>22909.000000</td>\n",
       "      <td>22909.000000</td>\n",
       "    </tr>\n",
       "    <tr>\n",
       "      <th>mean</th>\n",
       "      <td>0.124156</td>\n",
       "      <td>0.590934</td>\n",
       "      <td>0.479578</td>\n",
       "      <td>0.480821</td>\n",
       "      <td>0.486711</td>\n",
       "      <td>0.479103</td>\n",
       "      <td>0.465106</td>\n",
       "    </tr>\n",
       "    <tr>\n",
       "      <th>std</th>\n",
       "      <td>0.120940</td>\n",
       "      <td>0.146071</td>\n",
       "      <td>0.164843</td>\n",
       "      <td>0.162585</td>\n",
       "      <td>0.139684</td>\n",
       "      <td>0.122960</td>\n",
       "      <td>0.209082</td>\n",
       "    </tr>\n",
       "    <tr>\n",
       "      <th>min</th>\n",
       "      <td>0.000000</td>\n",
       "      <td>0.000000</td>\n",
       "      <td>0.000000</td>\n",
       "      <td>0.000000</td>\n",
       "      <td>0.000000</td>\n",
       "      <td>0.000000</td>\n",
       "      <td>0.000000</td>\n",
       "    </tr>\n",
       "    <tr>\n",
       "      <th>25%</th>\n",
       "      <td>0.032787</td>\n",
       "      <td>0.505095</td>\n",
       "      <td>0.353465</td>\n",
       "      <td>0.355249</td>\n",
       "      <td>0.398555</td>\n",
       "      <td>0.396192</td>\n",
       "      <td>0.289372</td>\n",
       "    </tr>\n",
       "    <tr>\n",
       "      <th>50%</th>\n",
       "      <td>0.081967</td>\n",
       "      <td>0.598299</td>\n",
       "      <td>0.458566</td>\n",
       "      <td>0.461567</td>\n",
       "      <td>0.487056</td>\n",
       "      <td>0.479313</td>\n",
       "      <td>0.463926</td>\n",
       "    </tr>\n",
       "    <tr>\n",
       "      <th>75%</th>\n",
       "      <td>0.180328</td>\n",
       "      <td>0.687259</td>\n",
       "      <td>0.582340</td>\n",
       "      <td>0.582462</td>\n",
       "      <td>0.568934</td>\n",
       "      <td>0.561688</td>\n",
       "      <td>0.640807</td>\n",
       "    </tr>\n",
       "    <tr>\n",
       "      <th>max</th>\n",
       "      <td>1.000000</td>\n",
       "      <td>1.000000</td>\n",
       "      <td>1.000000</td>\n",
       "      <td>1.000000</td>\n",
       "      <td>1.000000</td>\n",
       "      <td>1.000000</td>\n",
       "      <td>1.000000</td>\n",
       "    </tr>\n",
       "  </tbody>\n",
       "</table>\n",
       "</div>"
      ],
      "text/plain": [
       "                 순번         충전실온도          실링온도          쿠킹온도        쿠킹스팀압력  \\\n",
       "count  22909.000000  22909.000000  22909.000000  22909.000000  22909.000000   \n",
       "mean       0.124156      0.590934      0.479578      0.480821      0.486711   \n",
       "std        0.120940      0.146071      0.164843      0.162585      0.139684   \n",
       "min        0.000000      0.000000      0.000000      0.000000      0.000000   \n",
       "25%        0.032787      0.505095      0.353465      0.355249      0.398555   \n",
       "50%        0.081967      0.598299      0.458566      0.461567      0.487056   \n",
       "75%        0.180328      0.687259      0.582340      0.582462      0.568934   \n",
       "max        1.000000      1.000000      1.000000      1.000000      1.000000   \n",
       "\n",
       "               실링압력          생산시간  \n",
       "count  22909.000000  22909.000000  \n",
       "mean       0.479103      0.465106  \n",
       "std        0.122960      0.209082  \n",
       "min        0.000000      0.000000  \n",
       "25%        0.396192      0.289372  \n",
       "50%        0.479313      0.463926  \n",
       "75%        0.561688      0.640807  \n",
       "max        1.000000      1.000000  "
      ]
     },
     "execution_count": 29,
     "metadata": {},
     "output_type": "execute_result"
    }
   ],
   "source": [
    "scaler = MinMaxScaler()\n",
    "scaler.fit(df1_numeric) \n",
    "df1_scale = pd.DataFrame(scaler.fit_transform(df1_numeric), columns=numeric_list)\n",
    "df1_scale.describe()"
   ]
  },
  {
   "cell_type": "code",
   "execution_count": 30,
   "id": "bc2c59d4",
   "metadata": {},
   "outputs": [],
   "source": [
    "# 인코딩 \n",
    "from sklearn.preprocessing import LabelEncoder\n",
    "from sklearn.preprocessing import OneHotEncoder"
   ]
  },
  {
   "cell_type": "code",
   "execution_count": 33,
   "id": "274c1886",
   "metadata": {
    "collapsed": true
   },
   "outputs": [
    {
     "data": {
      "text/plain": [
       "array(['쿠커 #1', '쿠커 #2', '쿠커 #3', '2동 쿠커 #4', '프리머 #1', 'PET병',\n",
       "       '파일롯 - 수동', '벌크(캔)', '마요네즈 수동', 'PET#1', '로타리 #2', '2동 쿠커 #3',\n",
       "       '3K 캔', '3.2마요', '튜브', '2동 오리히로', '파일롯', '2동 6열컵실러#1', '파일롯(#B)',\n",
       "       '로타리 #1', '파우치포장(#2)', '3.2K마요포장(#5)', '쿠커 #4', '프리머 #2', '전처리1실',\n",
       "       '전처리2실', '2동 컵(샐러드)포장(#7)', '튜브포장(#6)', '계량 #1', '분말포장(#8)',\n",
       "       '계량 #2', '계량 #4 (소량)', '파일롯 - 소포장', '파우치포장(#3)', '계량 #3',\n",
       "       '2동 로타리#3', '파일롯 - 벌크', '2동 쿠커 #1', '쿠커 #5', '병(PET)12열충전',\n",
       "       'PET#2', '세트포장(#A)', '2동 쿠커 #2', '2동 로타리#4', '냉동밥 취반#1', '로타리 #5',\n",
       "       '냉동밥 내포장#2', '냉동밥 내포장#1', '냉동밥 외포장#2', '냉동밥 외포장#1', '볶음 공정',\n",
       "       '냉동밥 취반#2', '2동 6열컵실러#2', '2동 4열충진기', '2동 쿠커 #5', '벌크(#9)',\n",
       "       '2동 전처리실'], dtype=object)"
      ]
     },
     "execution_count": 33,
     "metadata": {},
     "output_type": "execute_result"
    }
   ],
   "source": [
    "df1_clean['생산라인명'].unique() # 범주형 데이터의 항목을 확인 "
   ]
  },
  {
   "cell_type": "code",
   "execution_count": 37,
   "id": "7699557e",
   "metadata": {
    "collapsed": true
   },
   "outputs": [
    {
     "data": {
      "text/plain": [
       "57"
      ]
     },
     "execution_count": 37,
     "metadata": {},
     "output_type": "execute_result"
    }
   ],
   "source": [
    "# 범주형 항목들만 리스트 형태로 추출 \n",
    "object_list= df1_clean['생산라인명'].unique().tolist()\n",
    "len(object_list)"
   ]
  },
  {
   "cell_type": "code",
   "execution_count": 40,
   "id": "8de263c7",
   "metadata": {},
   "outputs": [],
   "source": [
    "number_list = list(range(0,57))"
   ]
  },
  {
   "cell_type": "code",
   "execution_count": 41,
   "id": "17964c61",
   "metadata": {
    "collapsed": true
   },
   "outputs": [
    {
     "data": {
      "text/plain": [
       "{'쿠커 #1': 0,\n",
       " '쿠커 #2': 1,\n",
       " '쿠커 #3': 2,\n",
       " '2동 쿠커 #4': 3,\n",
       " '프리머 #1': 4,\n",
       " 'PET병': 5,\n",
       " '파일롯 - 수동': 6,\n",
       " '벌크(캔)': 7,\n",
       " '마요네즈 수동': 8,\n",
       " 'PET#1': 9,\n",
       " '로타리 #2': 10,\n",
       " '2동 쿠커 #3': 11,\n",
       " '3K 캔': 12,\n",
       " '3.2마요': 13,\n",
       " '튜브': 14,\n",
       " '2동 오리히로': 15,\n",
       " '파일롯': 16,\n",
       " '2동 6열컵실러#1': 17,\n",
       " '파일롯(#B)': 18,\n",
       " '로타리 #1': 19,\n",
       " '파우치포장(#2)': 20,\n",
       " '3.2K마요포장(#5)': 21,\n",
       " '쿠커 #4': 22,\n",
       " '프리머 #2': 23,\n",
       " '전처리1실': 24,\n",
       " '전처리2실': 25,\n",
       " '2동 컵(샐러드)포장(#7)': 26,\n",
       " '튜브포장(#6)': 27,\n",
       " '계량 #1': 28,\n",
       " '분말포장(#8)': 29,\n",
       " '계량 #2': 30,\n",
       " '계량 #4 (소량)': 31,\n",
       " '파일롯 - 소포장': 32,\n",
       " '파우치포장(#3)': 33,\n",
       " '계량 #3': 34,\n",
       " '2동 로타리#3': 35,\n",
       " '파일롯 - 벌크': 36,\n",
       " '2동 쿠커 #1': 37,\n",
       " '쿠커 #5': 38,\n",
       " '병(PET)12열충전': 39,\n",
       " 'PET#2': 40,\n",
       " '세트포장(#A)': 41,\n",
       " '2동 쿠커 #2': 42,\n",
       " '2동 로타리#4': 43,\n",
       " '냉동밥 취반#1': 44,\n",
       " '로타리 #5': 45,\n",
       " '냉동밥 내포장#2': 46,\n",
       " '냉동밥 내포장#1': 47,\n",
       " '냉동밥 외포장#2': 48,\n",
       " '냉동밥 외포장#1': 49,\n",
       " '볶음 공정': 50,\n",
       " '냉동밥 취반#2': 51,\n",
       " '2동 6열컵실러#2': 52,\n",
       " '2동 4열충진기': 53,\n",
       " '2동 쿠커 #5': 54,\n",
       " '벌크(#9)': 55,\n",
       " '2동 전처리실': 56}"
      ]
     },
     "execution_count": 41,
     "metadata": {},
     "output_type": "execute_result"
    }
   ],
   "source": [
    "dict_transform = dict(zip(object_list,number_list))\n",
    "dict_transform"
   ]
  },
  {
   "cell_type": "code",
   "execution_count": 43,
   "id": "656b9848",
   "metadata": {
    "collapsed": true
   },
   "outputs": [
    {
     "data": {
      "text/plain": [
       "0         0\n",
       "1         1\n",
       "2         2\n",
       "3         3\n",
       "4         4\n",
       "         ..\n",
       "24059    46\n",
       "24062    47\n",
       "24063    47\n",
       "24067    47\n",
       "24068    33\n",
       "Name: 생산라인명, Length: 22909, dtype: int64"
      ]
     },
     "execution_count": 43,
     "metadata": {},
     "output_type": "execute_result"
    }
   ],
   "source": [
    "df1_clean['생산라인명'].replace(dict_transform)"
   ]
  },
  {
   "cell_type": "code",
   "execution_count": 45,
   "id": "08c0799d",
   "metadata": {
    "collapsed": true
   },
   "outputs": [
    {
     "name": "stderr",
     "output_type": "stream",
     "text": [
      "C:\\ProgramData\\Anaconda3\\lib\\site-packages\\sklearn\\preprocessing\\_label.py:98: DataConversionWarning: A column-vector y was passed when a 1d array was expected. Please change the shape of y to (n_samples, ), for example using ravel().\n",
      "  y = column_or_1d(y, warn=True)\n",
      "C:\\ProgramData\\Anaconda3\\lib\\site-packages\\sklearn\\preprocessing\\_label.py:115: DataConversionWarning: A column-vector y was passed when a 1d array was expected. Please change the shape of y to (n_samples, ), for example using ravel().\n",
      "  y = column_or_1d(y, warn=True)\n"
     ]
    },
    {
     "data": {
      "text/plain": [
       "array([41, 42, 43, ..., 23, 23, 49])"
      ]
     },
     "execution_count": 45,
     "metadata": {},
     "output_type": "execute_result"
    }
   ],
   "source": [
    "# Sklearn 라이브러리로 변환\n",
    "encoder = LabelEncoder()\n",
    "encoder.fit(df1_clean[['생산라인명']])\n",
    "encoder.fit_transform(df1_clean[['생산라인명']])"
   ]
  },
  {
   "cell_type": "code",
   "execution_count": 47,
   "id": "80cdf96c",
   "metadata": {
    "collapsed": true
   },
   "outputs": [
    {
     "data": {
      "text/html": [
       "<div>\n",
       "<style scoped>\n",
       "    .dataframe tbody tr th:only-of-type {\n",
       "        vertical-align: middle;\n",
       "    }\n",
       "\n",
       "    .dataframe tbody tr th {\n",
       "        vertical-align: top;\n",
       "    }\n",
       "\n",
       "    .dataframe thead th {\n",
       "        text-align: right;\n",
       "    }\n",
       "</style>\n",
       "<table border=\"1\" class=\"dataframe\">\n",
       "  <thead>\n",
       "    <tr style=\"text-align: right;\">\n",
       "      <th></th>\n",
       "      <th>순번</th>\n",
       "      <th>충전실온도</th>\n",
       "      <th>실링온도</th>\n",
       "      <th>쿠킹온도</th>\n",
       "      <th>쿠킹스팀압력</th>\n",
       "      <th>실링압력</th>\n",
       "      <th>생산시간</th>\n",
       "      <th>생산라인코드_C001</th>\n",
       "      <th>생산라인코드_C002</th>\n",
       "      <th>생산라인코드_C003</th>\n",
       "      <th>...</th>\n",
       "      <th>품목명_흑참깨드레싱E</th>\n",
       "      <th>품목명_흑참깨드레싱E(재)</th>\n",
       "      <th>품목명_흑초차베이스</th>\n",
       "      <th>품목명_흑초차베이스(재)</th>\n",
       "      <th>품목명_흰쌀베이스밥</th>\n",
       "      <th>작업장코드_W002</th>\n",
       "      <th>작업장코드_W003</th>\n",
       "      <th>작업장코드_W005</th>\n",
       "      <th>작업장코드_W007</th>\n",
       "      <th>작업장코드_W012</th>\n",
       "    </tr>\n",
       "  </thead>\n",
       "  <tbody>\n",
       "    <tr>\n",
       "      <th>0</th>\n",
       "      <td>3</td>\n",
       "      <td>71.669853</td>\n",
       "      <td>96.769853</td>\n",
       "      <td>131.742003</td>\n",
       "      <td>23.315</td>\n",
       "      <td>201.844</td>\n",
       "      <td>70.37</td>\n",
       "      <td>1</td>\n",
       "      <td>0</td>\n",
       "      <td>0</td>\n",
       "      <td>...</td>\n",
       "      <td>0</td>\n",
       "      <td>0</td>\n",
       "      <td>0</td>\n",
       "      <td>0</td>\n",
       "      <td>0</td>\n",
       "      <td>0</td>\n",
       "      <td>1</td>\n",
       "      <td>0</td>\n",
       "      <td>0</td>\n",
       "      <td>0</td>\n",
       "    </tr>\n",
       "    <tr>\n",
       "      <th>1</th>\n",
       "      <td>1</td>\n",
       "      <td>70.386480</td>\n",
       "      <td>102.086480</td>\n",
       "      <td>136.926080</td>\n",
       "      <td>23.226</td>\n",
       "      <td>212.043</td>\n",
       "      <td>70.83</td>\n",
       "      <td>0</td>\n",
       "      <td>1</td>\n",
       "      <td>0</td>\n",
       "      <td>...</td>\n",
       "      <td>0</td>\n",
       "      <td>0</td>\n",
       "      <td>0</td>\n",
       "      <td>0</td>\n",
       "      <td>0</td>\n",
       "      <td>0</td>\n",
       "      <td>1</td>\n",
       "      <td>0</td>\n",
       "      <td>0</td>\n",
       "      <td>0</td>\n",
       "    </tr>\n",
       "    <tr>\n",
       "      <th>2</th>\n",
       "      <td>13</td>\n",
       "      <td>71.206130</td>\n",
       "      <td>112.306130</td>\n",
       "      <td>147.579680</td>\n",
       "      <td>23.516</td>\n",
       "      <td>208.781</td>\n",
       "      <td>73.55</td>\n",
       "      <td>0</td>\n",
       "      <td>0</td>\n",
       "      <td>1</td>\n",
       "      <td>...</td>\n",
       "      <td>0</td>\n",
       "      <td>0</td>\n",
       "      <td>0</td>\n",
       "      <td>0</td>\n",
       "      <td>0</td>\n",
       "      <td>0</td>\n",
       "      <td>1</td>\n",
       "      <td>0</td>\n",
       "      <td>0</td>\n",
       "      <td>0</td>\n",
       "    </tr>\n",
       "    <tr>\n",
       "      <th>3</th>\n",
       "      <td>7</td>\n",
       "      <td>70.430565</td>\n",
       "      <td>96.030565</td>\n",
       "      <td>131.569165</td>\n",
       "      <td>23.692</td>\n",
       "      <td>208.269</td>\n",
       "      <td>74.81</td>\n",
       "      <td>0</td>\n",
       "      <td>0</td>\n",
       "      <td>0</td>\n",
       "      <td>...</td>\n",
       "      <td>0</td>\n",
       "      <td>0</td>\n",
       "      <td>0</td>\n",
       "      <td>0</td>\n",
       "      <td>0</td>\n",
       "      <td>0</td>\n",
       "      <td>1</td>\n",
       "      <td>0</td>\n",
       "      <td>0</td>\n",
       "      <td>0</td>\n",
       "    </tr>\n",
       "    <tr>\n",
       "      <th>4</th>\n",
       "      <td>2</td>\n",
       "      <td>72.179319</td>\n",
       "      <td>114.079318</td>\n",
       "      <td>149.928068</td>\n",
       "      <td>23.899</td>\n",
       "      <td>211.625</td>\n",
       "      <td>73.40</td>\n",
       "      <td>0</td>\n",
       "      <td>0</td>\n",
       "      <td>0</td>\n",
       "      <td>...</td>\n",
       "      <td>0</td>\n",
       "      <td>0</td>\n",
       "      <td>0</td>\n",
       "      <td>0</td>\n",
       "      <td>0</td>\n",
       "      <td>0</td>\n",
       "      <td>1</td>\n",
       "      <td>0</td>\n",
       "      <td>0</td>\n",
       "      <td>0</td>\n",
       "    </tr>\n",
       "    <tr>\n",
       "      <th>...</th>\n",
       "      <td>...</td>\n",
       "      <td>...</td>\n",
       "      <td>...</td>\n",
       "      <td>...</td>\n",
       "      <td>...</td>\n",
       "      <td>...</td>\n",
       "      <td>...</td>\n",
       "      <td>...</td>\n",
       "      <td>...</td>\n",
       "      <td>...</td>\n",
       "      <td>...</td>\n",
       "      <td>...</td>\n",
       "      <td>...</td>\n",
       "      <td>...</td>\n",
       "      <td>...</td>\n",
       "      <td>...</td>\n",
       "      <td>...</td>\n",
       "      <td>...</td>\n",
       "      <td>...</td>\n",
       "      <td>...</td>\n",
       "      <td>...</td>\n",
       "    </tr>\n",
       "    <tr>\n",
       "      <th>24059</th>\n",
       "      <td>3</td>\n",
       "      <td>71.288798</td>\n",
       "      <td>102.688798</td>\n",
       "      <td>138.091898</td>\n",
       "      <td>23.602</td>\n",
       "      <td>206.561</td>\n",
       "      <td>72.49</td>\n",
       "      <td>0</td>\n",
       "      <td>0</td>\n",
       "      <td>0</td>\n",
       "      <td>...</td>\n",
       "      <td>0</td>\n",
       "      <td>0</td>\n",
       "      <td>0</td>\n",
       "      <td>0</td>\n",
       "      <td>0</td>\n",
       "      <td>0</td>\n",
       "      <td>0</td>\n",
       "      <td>1</td>\n",
       "      <td>0</td>\n",
       "      <td>0</td>\n",
       "    </tr>\n",
       "    <tr>\n",
       "      <th>24062</th>\n",
       "      <td>9</td>\n",
       "      <td>69.732381</td>\n",
       "      <td>98.432381</td>\n",
       "      <td>133.916831</td>\n",
       "      <td>23.656</td>\n",
       "      <td>213.413</td>\n",
       "      <td>76.63</td>\n",
       "      <td>0</td>\n",
       "      <td>0</td>\n",
       "      <td>0</td>\n",
       "      <td>...</td>\n",
       "      <td>0</td>\n",
       "      <td>0</td>\n",
       "      <td>0</td>\n",
       "      <td>0</td>\n",
       "      <td>0</td>\n",
       "      <td>0</td>\n",
       "      <td>0</td>\n",
       "      <td>1</td>\n",
       "      <td>0</td>\n",
       "      <td>0</td>\n",
       "    </tr>\n",
       "    <tr>\n",
       "      <th>24063</th>\n",
       "      <td>10</td>\n",
       "      <td>71.459932</td>\n",
       "      <td>107.559932</td>\n",
       "      <td>143.598182</td>\n",
       "      <td>24.026</td>\n",
       "      <td>215.243</td>\n",
       "      <td>81.00</td>\n",
       "      <td>0</td>\n",
       "      <td>0</td>\n",
       "      <td>0</td>\n",
       "      <td>...</td>\n",
       "      <td>0</td>\n",
       "      <td>0</td>\n",
       "      <td>0</td>\n",
       "      <td>0</td>\n",
       "      <td>0</td>\n",
       "      <td>0</td>\n",
       "      <td>0</td>\n",
       "      <td>1</td>\n",
       "      <td>0</td>\n",
       "      <td>0</td>\n",
       "    </tr>\n",
       "    <tr>\n",
       "      <th>24067</th>\n",
       "      <td>4</td>\n",
       "      <td>70.664452</td>\n",
       "      <td>65.764452</td>\n",
       "      <td>100.773102</td>\n",
       "      <td>23.339</td>\n",
       "      <td>209.513</td>\n",
       "      <td>72.12</td>\n",
       "      <td>0</td>\n",
       "      <td>0</td>\n",
       "      <td>0</td>\n",
       "      <td>...</td>\n",
       "      <td>0</td>\n",
       "      <td>0</td>\n",
       "      <td>0</td>\n",
       "      <td>0</td>\n",
       "      <td>0</td>\n",
       "      <td>0</td>\n",
       "      <td>0</td>\n",
       "      <td>1</td>\n",
       "      <td>0</td>\n",
       "      <td>0</td>\n",
       "    </tr>\n",
       "    <tr>\n",
       "      <th>24068</th>\n",
       "      <td>5</td>\n",
       "      <td>71.015225</td>\n",
       "      <td>106.115225</td>\n",
       "      <td>141.148725</td>\n",
       "      <td>23.356</td>\n",
       "      <td>205.288</td>\n",
       "      <td>76.03</td>\n",
       "      <td>0</td>\n",
       "      <td>0</td>\n",
       "      <td>0</td>\n",
       "      <td>...</td>\n",
       "      <td>0</td>\n",
       "      <td>0</td>\n",
       "      <td>0</td>\n",
       "      <td>0</td>\n",
       "      <td>0</td>\n",
       "      <td>0</td>\n",
       "      <td>0</td>\n",
       "      <td>0</td>\n",
       "      <td>1</td>\n",
       "      <td>0</td>\n",
       "    </tr>\n",
       "  </tbody>\n",
       "</table>\n",
       "<p>22909 rows × 8405 columns</p>\n",
       "</div>"
      ],
      "text/plain": [
       "       순번      충전실온도        실링온도        쿠킹온도  쿠킹스팀압력     실링압력   생산시간  \\\n",
       "0       3  71.669853   96.769853  131.742003  23.315  201.844  70.37   \n",
       "1       1  70.386480  102.086480  136.926080  23.226  212.043  70.83   \n",
       "2      13  71.206130  112.306130  147.579680  23.516  208.781  73.55   \n",
       "3       7  70.430565   96.030565  131.569165  23.692  208.269  74.81   \n",
       "4       2  72.179319  114.079318  149.928068  23.899  211.625  73.40   \n",
       "...    ..        ...         ...         ...     ...      ...    ...   \n",
       "24059   3  71.288798  102.688798  138.091898  23.602  206.561  72.49   \n",
       "24062   9  69.732381   98.432381  133.916831  23.656  213.413  76.63   \n",
       "24063  10  71.459932  107.559932  143.598182  24.026  215.243  81.00   \n",
       "24067   4  70.664452   65.764452  100.773102  23.339  209.513  72.12   \n",
       "24068   5  71.015225  106.115225  141.148725  23.356  205.288  76.03   \n",
       "\n",
       "       생산라인코드_C001  생산라인코드_C002  생산라인코드_C003  ...  품목명_흑참깨드레싱E  \\\n",
       "0                1            0            0  ...            0   \n",
       "1                0            1            0  ...            0   \n",
       "2                0            0            1  ...            0   \n",
       "3                0            0            0  ...            0   \n",
       "4                0            0            0  ...            0   \n",
       "...            ...          ...          ...  ...          ...   \n",
       "24059            0            0            0  ...            0   \n",
       "24062            0            0            0  ...            0   \n",
       "24063            0            0            0  ...            0   \n",
       "24067            0            0            0  ...            0   \n",
       "24068            0            0            0  ...            0   \n",
       "\n",
       "       품목명_흑참깨드레싱E(재)  품목명_흑초차베이스  품목명_흑초차베이스(재)  품목명_흰쌀베이스밥  작업장코드_W002  \\\n",
       "0                   0           0              0           0           0   \n",
       "1                   0           0              0           0           0   \n",
       "2                   0           0              0           0           0   \n",
       "3                   0           0              0           0           0   \n",
       "4                   0           0              0           0           0   \n",
       "...               ...         ...            ...         ...         ...   \n",
       "24059               0           0              0           0           0   \n",
       "24062               0           0              0           0           0   \n",
       "24063               0           0              0           0           0   \n",
       "24067               0           0              0           0           0   \n",
       "24068               0           0              0           0           0   \n",
       "\n",
       "       작업장코드_W003  작업장코드_W005  작업장코드_W007  작업장코드_W012  \n",
       "0               1           0           0           0  \n",
       "1               1           0           0           0  \n",
       "2               1           0           0           0  \n",
       "3               1           0           0           0  \n",
       "4               1           0           0           0  \n",
       "...           ...         ...         ...         ...  \n",
       "24059           0           1           0           0  \n",
       "24062           0           1           0           0  \n",
       "24063           0           1           0           0  \n",
       "24067           0           1           0           0  \n",
       "24068           0           0           1           0  \n",
       "\n",
       "[22909 rows x 8405 columns]"
      ]
     },
     "execution_count": 47,
     "metadata": {},
     "output_type": "execute_result"
    }
   ],
   "source": [
    "# Pandas Onehot Encoding \n",
    "pd.get_dummies(df1_clean)"
   ]
  },
  {
   "cell_type": "code",
   "execution_count": 48,
   "id": "458710bc",
   "metadata": {},
   "outputs": [],
   "source": [
    "# 결측값을 대치 \n",
    "from sklearn.impute import SimpleImputer \n",
    "# 단순대치 : 평균/중앙값/최빈값 등의 특정 값으로 대치 "
   ]
  },
  {
   "cell_type": "code",
   "execution_count": 49,
   "id": "561f27ad",
   "metadata": {
    "collapsed": true
   },
   "outputs": [
    {
     "data": {
      "text/plain": [
       "순번           0\n",
       "생산라인코드       0\n",
       "생산라인명        0\n",
       "생산일자         0\n",
       "품목코드        38\n",
       "품목명         57\n",
       "작업장코드        0\n",
       "충전실온도        0\n",
       "실링온도        28\n",
       "쿠킹온도        28\n",
       "쿠킹스팀압력       0\n",
       "실링압력         0\n",
       "생산시간      1078\n",
       "dtype: int64"
      ]
     },
     "execution_count": 49,
     "metadata": {},
     "output_type": "execute_result"
    }
   ],
   "source": [
    "df1.isnull().sum()"
   ]
  },
  {
   "cell_type": "code",
   "execution_count": 58,
   "id": "edd31edf",
   "metadata": {
    "collapsed": true
   },
   "outputs": [
    {
     "data": {
      "text/plain": [
       "SimpleImputer(strategy='median')"
      ]
     },
     "execution_count": 58,
     "metadata": {},
     "output_type": "execute_result"
    }
   ],
   "source": [
    "imputer = SimpleImputer(strategy='mean') #평균 대치 \n",
    "imputer.fit(df1[['생산시간','실링온도','쿠킹온도']])"
   ]
  },
  {
   "cell_type": "code",
   "execution_count": 59,
   "id": "d009646c",
   "metadata": {
    "collapsed": true
   },
   "outputs": [
    {
     "data": {
      "text/plain": [
       "0    0\n",
       "1    0\n",
       "2    0\n",
       "dtype: int64"
      ]
     },
     "execution_count": 59,
     "metadata": {},
     "output_type": "execute_result"
    }
   ],
   "source": [
    "df1_clean2= pd.DataFrame(imputer.fit_transform(df1[['생산시간','실링온도','쿠킹온도']]))\n",
    "df1_clean2.isnull().sum()"
   ]
  },
  {
   "cell_type": "code",
   "execution_count": 60,
   "id": "d79218ae",
   "metadata": {
    "collapsed": true
   },
   "outputs": [
    {
     "name": "stdout",
     "output_type": "stream",
     "text": [
      "Help on class SimpleImputer in module sklearn.impute._base:\n",
      "\n",
      "class SimpleImputer(_BaseImputer)\n",
      " |  SimpleImputer(*, missing_values=nan, strategy='mean', fill_value=None, verbose=0, copy=True, add_indicator=False)\n",
      " |  \n",
      " |  Imputation transformer for completing missing values.\n",
      " |  \n",
      " |  Read more in the :ref:`User Guide <impute>`.\n",
      " |  \n",
      " |  .. versionadded:: 0.20\n",
      " |     `SimpleImputer` replaces the previous `sklearn.preprocessing.Imputer`\n",
      " |     estimator which is now removed.\n",
      " |  \n",
      " |  Parameters\n",
      " |  ----------\n",
      " |  missing_values : int, float, str, np.nan or None, default=np.nan\n",
      " |      The placeholder for the missing values. All occurrences of\n",
      " |      `missing_values` will be imputed. For pandas' dataframes with\n",
      " |      nullable integer dtypes with missing values, `missing_values`\n",
      " |      should be set to `np.nan`, since `pd.NA` will be converted to `np.nan`.\n",
      " |  \n",
      " |  strategy : str, default='mean'\n",
      " |      The imputation strategy.\n",
      " |  \n",
      " |      - If \"mean\", then replace missing values using the mean along\n",
      " |        each column. Can only be used with numeric data.\n",
      " |      - If \"median\", then replace missing values using the median along\n",
      " |        each column. Can only be used with numeric data.\n",
      " |      - If \"most_frequent\", then replace missing using the most frequent\n",
      " |        value along each column. Can be used with strings or numeric data.\n",
      " |        If there is more than one such value, only the smallest is returned.\n",
      " |      - If \"constant\", then replace missing values with fill_value. Can be\n",
      " |        used with strings or numeric data.\n",
      " |  \n",
      " |      .. versionadded:: 0.20\n",
      " |         strategy=\"constant\" for fixed value imputation.\n",
      " |  \n",
      " |  fill_value : str or numerical value, default=None\n",
      " |      When strategy == \"constant\", fill_value is used to replace all\n",
      " |      occurrences of missing_values.\n",
      " |      If left to the default, fill_value will be 0 when imputing numerical\n",
      " |      data and \"missing_value\" for strings or object data types.\n",
      " |  \n",
      " |  verbose : int, default=0\n",
      " |      Controls the verbosity of the imputer.\n",
      " |  \n",
      " |  copy : bool, default=True\n",
      " |      If True, a copy of `X` will be created. If False, imputation will\n",
      " |      be done in-place whenever possible. Note that, in the following cases,\n",
      " |      a new copy will always be made, even if `copy=False`:\n",
      " |  \n",
      " |      - If `X` is not an array of floating values;\n",
      " |      - If `X` is encoded as a CSR matrix;\n",
      " |      - If `add_indicator=True`.\n",
      " |  \n",
      " |  add_indicator : bool, default=False\n",
      " |      If True, a :class:`MissingIndicator` transform will stack onto output\n",
      " |      of the imputer's transform. This allows a predictive estimator\n",
      " |      to account for missingness despite imputation. If a feature has no\n",
      " |      missing values at fit/train time, the feature won't appear on\n",
      " |      the missing indicator even if there are missing values at\n",
      " |      transform/test time.\n",
      " |  \n",
      " |  Attributes\n",
      " |  ----------\n",
      " |  statistics_ : array of shape (n_features,)\n",
      " |      The imputation fill value for each feature.\n",
      " |      Computing statistics can result in `np.nan` values.\n",
      " |      During :meth:`transform`, features corresponding to `np.nan`\n",
      " |      statistics will be discarded.\n",
      " |  \n",
      " |  indicator_ : :class:`~sklearn.impute.MissingIndicator`\n",
      " |      Indicator used to add binary indicators for missing values.\n",
      " |      `None` if `add_indicator=False`.\n",
      " |  \n",
      " |  n_features_in_ : int\n",
      " |      Number of features seen during :term:`fit`.\n",
      " |  \n",
      " |      .. versionadded:: 0.24\n",
      " |  \n",
      " |  feature_names_in_ : ndarray of shape (`n_features_in_`,)\n",
      " |      Names of features seen during :term:`fit`. Defined only when `X`\n",
      " |      has feature names that are all strings.\n",
      " |  \n",
      " |      .. versionadded:: 1.0\n",
      " |  \n",
      " |  See Also\n",
      " |  --------\n",
      " |  IterativeImputer : Multivariate imputation of missing values.\n",
      " |  \n",
      " |  Notes\n",
      " |  -----\n",
      " |  Columns which only contained missing values at :meth:`fit` are discarded\n",
      " |  upon :meth:`transform` if strategy is not `\"constant\"`.\n",
      " |  \n",
      " |  Examples\n",
      " |  --------\n",
      " |  >>> import numpy as np\n",
      " |  >>> from sklearn.impute import SimpleImputer\n",
      " |  >>> imp_mean = SimpleImputer(missing_values=np.nan, strategy='mean')\n",
      " |  >>> imp_mean.fit([[7, 2, 3], [4, np.nan, 6], [10, 5, 9]])\n",
      " |  SimpleImputer()\n",
      " |  >>> X = [[np.nan, 2, 3], [4, np.nan, 6], [10, np.nan, 9]]\n",
      " |  >>> print(imp_mean.transform(X))\n",
      " |  [[ 7.   2.   3. ]\n",
      " |   [ 4.   3.5  6. ]\n",
      " |   [10.   3.5  9. ]]\n",
      " |  \n",
      " |  Method resolution order:\n",
      " |      SimpleImputer\n",
      " |      _BaseImputer\n",
      " |      sklearn.base.TransformerMixin\n",
      " |      sklearn.base.BaseEstimator\n",
      " |      builtins.object\n",
      " |  \n",
      " |  Methods defined here:\n",
      " |  \n",
      " |  __init__(self, *, missing_values=nan, strategy='mean', fill_value=None, verbose=0, copy=True, add_indicator=False)\n",
      " |      Initialize self.  See help(type(self)) for accurate signature.\n",
      " |  \n",
      " |  fit(self, X, y=None)\n",
      " |      Fit the imputer on `X`.\n",
      " |      \n",
      " |      Parameters\n",
      " |      ----------\n",
      " |      X : {array-like, sparse matrix}, shape (n_samples, n_features)\n",
      " |          Input data, where `n_samples` is the number of samples and\n",
      " |          `n_features` is the number of features.\n",
      " |      \n",
      " |      y : Ignored\n",
      " |          Not used, present here for API consistency by convention.\n",
      " |      \n",
      " |      Returns\n",
      " |      -------\n",
      " |      self : object\n",
      " |          Fitted estimator.\n",
      " |  \n",
      " |  inverse_transform(self, X)\n",
      " |      Convert the data back to the original representation.\n",
      " |      \n",
      " |      Inverts the `transform` operation performed on an array.\n",
      " |      This operation can only be performed after :class:`SimpleImputer` is\n",
      " |      instantiated with `add_indicator=True`.\n",
      " |      \n",
      " |      Note that `inverse_transform` can only invert the transform in\n",
      " |      features that have binary indicators for missing values. If a feature\n",
      " |      has no missing values at `fit` time, the feature won't have a binary\n",
      " |      indicator, and the imputation done at `transform` time won't be\n",
      " |      inverted.\n",
      " |      \n",
      " |      .. versionadded:: 0.24\n",
      " |      \n",
      " |      Parameters\n",
      " |      ----------\n",
      " |      X : array-like of shape                 (n_samples, n_features + n_features_missing_indicator)\n",
      " |          The imputed data to be reverted to original data. It has to be\n",
      " |          an augmented array of imputed data and the missing indicator mask.\n",
      " |      \n",
      " |      Returns\n",
      " |      -------\n",
      " |      X_original : ndarray of shape (n_samples, n_features)\n",
      " |          The original `X` with missing values as it was prior\n",
      " |          to imputation.\n",
      " |  \n",
      " |  transform(self, X)\n",
      " |      Impute all missing values in `X`.\n",
      " |      \n",
      " |      Parameters\n",
      " |      ----------\n",
      " |      X : {array-like, sparse matrix}, shape (n_samples, n_features)\n",
      " |          The input data to complete.\n",
      " |      \n",
      " |      Returns\n",
      " |      -------\n",
      " |      X_imputed : {ndarray, sparse matrix} of shape                 (n_samples, n_features_out)\n",
      " |          `X` with imputed values.\n",
      " |  \n",
      " |  ----------------------------------------------------------------------\n",
      " |  Methods inherited from sklearn.base.TransformerMixin:\n",
      " |  \n",
      " |  fit_transform(self, X, y=None, **fit_params)\n",
      " |      Fit to data, then transform it.\n",
      " |      \n",
      " |      Fits transformer to `X` and `y` with optional parameters `fit_params`\n",
      " |      and returns a transformed version of `X`.\n",
      " |      \n",
      " |      Parameters\n",
      " |      ----------\n",
      " |      X : array-like of shape (n_samples, n_features)\n",
      " |          Input samples.\n",
      " |      \n",
      " |      y :  array-like of shape (n_samples,) or (n_samples, n_outputs),                 default=None\n",
      " |          Target values (None for unsupervised transformations).\n",
      " |      \n",
      " |      **fit_params : dict\n",
      " |          Additional fit parameters.\n",
      " |      \n",
      " |      Returns\n",
      " |      -------\n",
      " |      X_new : ndarray array of shape (n_samples, n_features_new)\n",
      " |          Transformed array.\n",
      " |  \n",
      " |  ----------------------------------------------------------------------\n",
      " |  Data descriptors inherited from sklearn.base.TransformerMixin:\n",
      " |  \n",
      " |  __dict__\n",
      " |      dictionary for instance variables (if defined)\n",
      " |  \n",
      " |  __weakref__\n",
      " |      list of weak references to the object (if defined)\n",
      " |  \n",
      " |  ----------------------------------------------------------------------\n",
      " |  Methods inherited from sklearn.base.BaseEstimator:\n",
      " |  \n",
      " |  __getstate__(self)\n",
      " |  \n",
      " |  __repr__(self, N_CHAR_MAX=700)\n",
      " |      Return repr(self).\n",
      " |  \n",
      " |  __setstate__(self, state)\n",
      " |  \n",
      " |  get_params(self, deep=True)\n",
      " |      Get parameters for this estimator.\n",
      " |      \n",
      " |      Parameters\n",
      " |      ----------\n",
      " |      deep : bool, default=True\n",
      " |          If True, will return the parameters for this estimator and\n",
      " |          contained subobjects that are estimators.\n",
      " |      \n",
      " |      Returns\n",
      " |      -------\n",
      " |      params : dict\n",
      " |          Parameter names mapped to their values.\n",
      " |  \n",
      " |  set_params(self, **params)\n",
      " |      Set the parameters of this estimator.\n",
      " |      \n",
      " |      The method works on simple estimators as well as on nested objects\n",
      " |      (such as :class:`~sklearn.pipeline.Pipeline`). The latter have\n",
      " |      parameters of the form ``<component>__<parameter>`` so that it's\n",
      " |      possible to update each component of a nested object.\n",
      " |      \n",
      " |      Parameters\n",
      " |      ----------\n",
      " |      **params : dict\n",
      " |          Estimator parameters.\n",
      " |      \n",
      " |      Returns\n",
      " |      -------\n",
      " |      self : estimator instance\n",
      " |          Estimator instance.\n",
      "\n"
     ]
    }
   ],
   "source": [
    "help(SimpleImputer)"
   ]
  },
  {
   "cell_type": "markdown",
   "id": "df8f119f",
   "metadata": {},
   "source": [
    "# 특성공학 + 학습 수행 "
   ]
  },
  {
   "cell_type": "code",
   "execution_count": 64,
   "id": "fb4c6d9b",
   "metadata": {},
   "outputs": [],
   "source": [
    "df1 = pd.read_csv('01_Data.csv')"
   ]
  },
  {
   "cell_type": "code",
   "execution_count": 66,
   "id": "051baa14",
   "metadata": {
    "collapsed": true
   },
   "outputs": [
    {
     "data": {
      "text/plain": [
       "계약확정     50620\n",
       "해약확정       622\n",
       "기간만료        45\n",
       "해약진행중       14\n",
       "Name: State, dtype: int64"
      ]
     },
     "execution_count": 66,
     "metadata": {},
     "output_type": "execute_result"
    }
   ],
   "source": [
    "df1['State'].value_counts() # 데이터의 항목과 빈도수 확인 "
   ]
  },
  {
   "cell_type": "code",
   "execution_count": 68,
   "id": "0976d3fa",
   "metadata": {},
   "outputs": [],
   "source": [
    "df1['Target']= df1['State'].replace({'계약확정':0, '기간만료':0, \n",
    "                                     '해약확정':1, '해약진행중':1})"
   ]
  },
  {
   "cell_type": "code",
   "execution_count": 70,
   "id": "f386f93b",
   "metadata": {
    "collapsed": true
   },
   "outputs": [
    {
     "data": {
      "text/plain": [
       "Index(['Index', 'Member_ID', 'Sales_Type', 'Contract_Type', 'Channel',\n",
       "       'Datetime', 'Term', 'Payment_Type', 'Product_Type', 'Amount_Month',\n",
       "       'Customer_Type', 'Age', 'Address1', 'Address2', 'State',\n",
       "       'Overdue_count', 'Overdue_Type', 'Gender', 'Credit_Rank', 'Bank',\n",
       "       'Target'],\n",
       "      dtype='object')"
      ]
     },
     "execution_count": 70,
     "metadata": {},
     "output_type": "execute_result"
    }
   ],
   "source": [
    "df1.columns"
   ]
  },
  {
   "cell_type": "code",
   "execution_count": 73,
   "id": "f7e58105",
   "metadata": {},
   "outputs": [],
   "source": [
    "X = df1[['Sales_Type','Channel','Term','Amount_Month','Age','Credit_Rank']]\n",
    "Y = df1['Target'] # 해약 여부 "
   ]
  },
  {
   "cell_type": "code",
   "execution_count": 74,
   "id": "ca059dab",
   "metadata": {},
   "outputs": [],
   "source": [
    "# 학습데이터와 검증데이터 분할 \n",
    "from sklearn.model_selection import train_test_split"
   ]
  },
  {
   "cell_type": "code",
   "execution_count": 75,
   "id": "cd636b32",
   "metadata": {},
   "outputs": [],
   "source": [
    "X_train, X_test, Y_train, Y_test = train_test_split( X,Y, test_size=0.3,\n",
    "                                                     random_state=1234 )"
   ]
  },
  {
   "cell_type": "code",
   "execution_count": 79,
   "id": "9711bce0",
   "metadata": {},
   "outputs": [],
   "source": [
    "# 파이프라인 구축 (특성공학 + 학습)\n",
    "from sklearn.pipeline import make_pipeline\n",
    "# 결측치 처리 (숫자->중앙값 / 문자->최빈값)\n",
    "from sklearn.impute import SimpleImputer\n",
    "# 스케일링 과 인코딩 \n",
    "from sklearn.preprocessing import OneHotEncoder\n",
    "from sklearn.preprocessing import MinMaxScaler\n",
    "# 숫자는 숫자끼리 문자는 문자 끼리 처리가 될 수 있도록 파이프를 별도로 구성 \n",
    "# 두 파이프를 병합 \n",
    "from sklearn.compose import make_column_transformer\n",
    "# 학습알고리즘 호출\n",
    "from sklearn.tree import DecisionTreeClassifier"
   ]
  },
  {
   "cell_type": "code",
   "execution_count": 117,
   "id": "78f99f39",
   "metadata": {},
   "outputs": [
    {
     "data": {
      "text/plain": [
       "Pipeline(steps=[('simpleimputer', SimpleImputer(strategy='median')),\n",
       "                ('minmaxscaler', MinMaxScaler())])"
      ]
     },
     "execution_count": 117,
     "metadata": {},
     "output_type": "execute_result"
    }
   ],
   "source": [
    "# 숫자가 처리되는 Process 구축 (1.중앙값으로 결측 처리 -> 2. 스케일링 수행)\n",
    "numeric_pipe = make_pipeline( SimpleImputer(strategy='median'),\n",
    "                               MinMaxScaler() )\n",
    "numeric_pipe"
   ]
  },
  {
   "cell_type": "code",
   "execution_count": 118,
   "id": "e7c7fb40",
   "metadata": {},
   "outputs": [
    {
     "data": {
      "text/plain": [
       "Pipeline(steps=[('simpleimputer', SimpleImputer(strategy='most_frequent')),\n",
       "                ('onehotencoder', OneHotEncoder())])"
      ]
     },
     "execution_count": 118,
     "metadata": {},
     "output_type": "execute_result"
    }
   ],
   "source": [
    "# 문자가 처리되는 Process 구축 (1. 최빈값으로 결측 처리 -> 2. 인코딩)\n",
    "category_pipe = make_pipeline( SimpleImputer(strategy='most_frequent'),\n",
    "                               OneHotEncoder() )\n",
    "category_pipe"
   ]
  },
  {
   "cell_type": "code",
   "execution_count": 119,
   "id": "b593bbdc",
   "metadata": {
    "collapsed": true
   },
   "outputs": [
    {
     "data": {
      "text/plain": [
       "ColumnTransformer(transformers=[('pipeline-1',\n",
       "                                 Pipeline(steps=[('simpleimputer',\n",
       "                                                  SimpleImputer(strategy='median')),\n",
       "                                                 ('minmaxscaler',\n",
       "                                                  MinMaxScaler())]),\n",
       "                                 ['Term', 'Amount_Month', 'Age',\n",
       "                                  'Credit_Rank']),\n",
       "                                ('pipeline-2',\n",
       "                                 Pipeline(steps=[('simpleimputer',\n",
       "                                                  SimpleImputer(strategy='most_frequent')),\n",
       "                                                 ('onehotencoder',\n",
       "                                                  OneHotEncoder())]),\n",
       "                                 ['Sales_Type', 'Channel'])])"
      ]
     },
     "execution_count": 119,
     "metadata": {},
     "output_type": "execute_result"
    }
   ],
   "source": [
    "# 숫자는 숫자끼리 문자는 문자끼리 처리가 되도록 파이프를 구성 \n",
    "numeric_list = X.describe().columns.tolist()\n",
    "category_list = X.describe(include='object').columns.tolist()\n",
    "\n",
    "preprocessing_pipe = make_column_transformer( (numeric_pipe, numeric_list),\n",
    "                                              (category_pipe,  category_list) )\n",
    "preprocessing_pipe"
   ]
  },
  {
   "cell_type": "code",
   "execution_count": 120,
   "id": "63b2ff2e",
   "metadata": {
    "collapsed": true
   },
   "outputs": [
    {
     "data": {
      "text/plain": [
       "Pipeline(steps=[('columntransformer',\n",
       "                 ColumnTransformer(transformers=[('pipeline-1',\n",
       "                                                  Pipeline(steps=[('simpleimputer',\n",
       "                                                                   SimpleImputer(strategy='median')),\n",
       "                                                                  ('minmaxscaler',\n",
       "                                                                   MinMaxScaler())]),\n",
       "                                                  ['Term', 'Amount_Month',\n",
       "                                                   'Age', 'Credit_Rank']),\n",
       "                                                 ('pipeline-2',\n",
       "                                                  Pipeline(steps=[('simpleimputer',\n",
       "                                                                   SimpleImputer(strategy='most_frequent')),\n",
       "                                                                  ('onehotencoder',\n",
       "                                                                   OneHotEncoder())]),\n",
       "                                                  ['Sales_Type', 'Channel'])])),\n",
       "                ('decisiontreeclassifier', DecisionTreeClassifier())])"
      ]
     },
     "execution_count": 120,
     "metadata": {},
     "output_type": "execute_result"
    }
   ],
   "source": [
    "# 특성 공학 + 학습 \n",
    "model_pipe = make_pipeline( preprocessing_pipe,  DecisionTreeClassifier())\n",
    "model_pipe.fit(X_train, Y_train)"
   ]
  },
  {
   "cell_type": "code",
   "execution_count": 121,
   "id": "0c184e65",
   "metadata": {},
   "outputs": [],
   "source": [
    "# 평가 \n",
    "from sklearn.metrics import classification_report"
   ]
  },
  {
   "cell_type": "code",
   "execution_count": 122,
   "id": "dc7c5470",
   "metadata": {},
   "outputs": [],
   "source": [
    "Y_train_pred = model_pipe.predict(X_train)\n",
    "Y_test_pred  = model_pipe.predict(X_test)"
   ]
  },
  {
   "cell_type": "code",
   "execution_count": 123,
   "id": "fefdde7f",
   "metadata": {
    "collapsed": true
   },
   "outputs": [
    {
     "name": "stdout",
     "output_type": "stream",
     "text": [
      "              precision    recall  f1-score   support\n",
      "\n",
      "           0       0.99      1.00      0.99     35455\n",
      "           1       0.96      0.18      0.30       455\n",
      "\n",
      "    accuracy                           0.99     35910\n",
      "   macro avg       0.98      0.59      0.65     35910\n",
      "weighted avg       0.99      0.99      0.99     35910\n",
      "\n"
     ]
    }
   ],
   "source": [
    "print(classification_report(Y_train, Y_train_pred))"
   ]
  },
  {
   "cell_type": "code",
   "execution_count": 97,
   "id": "af60e92c",
   "metadata": {
    "collapsed": true
   },
   "outputs": [
    {
     "name": "stdout",
     "output_type": "stream",
     "text": [
      "              precision    recall  f1-score   support\n",
      "\n",
      "           0       0.99      1.00      0.99     15210\n",
      "           1       0.07      0.02      0.03       181\n",
      "\n",
      "    accuracy                           0.99     15391\n",
      "   macro avg       0.53      0.51      0.51     15391\n",
      "weighted avg       0.98      0.99      0.98     15391\n",
      "\n"
     ]
    }
   ],
   "source": [
    "print(classification_report(Y_test, Y_test_pred))"
   ]
  },
  {
   "cell_type": "code",
   "execution_count": 104,
   "id": "caa30aad",
   "metadata": {
    "collapsed": true
   },
   "outputs": [
    {
     "name": "stdout",
     "output_type": "stream",
     "text": [
      "계약 유형을 입력하시오. : 렌탈\n",
      "유입 경로를 입력하시오. : 영업방판\n",
      "계약 기간을 입력하시오. : 12\n",
      "월 납부액을 입력하시오. : 100000\n",
      "고객의 연령 입력하시오. : 30\n",
      "신용 등급을 입력하시오. : 1\n"
     ]
    }
   ],
   "source": [
    "# 적용 \n",
    "x1 = input('계약 유형을 입력하시오. : ')\n",
    "x2 = input('유입 경로를 입력하시오. : ')\n",
    "x3 = input('계약 기간을 입력하시오. : ')\n",
    "x4 = input('월 납부액을 입력하시오. : ')\n",
    "x5 = input('고객의 연령 입력하시오. : ')\n",
    "x6 = input('신용 등급을 입력하시오. : ')\n",
    "input_data = pd.DataFrame([[x1,x2,x3,x4,x5,x6]], columns=X.columns.tolist() )"
   ]
  },
  {
   "cell_type": "code",
   "execution_count": 105,
   "id": "fddce002",
   "metadata": {
    "scrolled": false
   },
   "outputs": [
    {
     "data": {
      "text/plain": [
       "array([0], dtype=int64)"
      ]
     },
     "execution_count": 105,
     "metadata": {},
     "output_type": "execute_result"
    }
   ],
   "source": [
    "model_pipe.predict(input_data)"
   ]
  },
  {
   "cell_type": "code",
   "execution_count": 111,
   "id": "5cfe2f0a",
   "metadata": {},
   "outputs": [],
   "source": [
    "# 모델 저장 \n",
    "import pickle # Python 객체들을 하나의 파일로 변환 "
   ]
  },
  {
   "cell_type": "code",
   "execution_count": 112,
   "id": "f54beca5",
   "metadata": {},
   "outputs": [],
   "source": [
    "pickle.dump(model_pipe, open('model.sav','wb'))"
   ]
  },
  {
   "cell_type": "markdown",
   "id": "21de6c0a",
   "metadata": {},
   "source": [
    "# 교차검증을 적용한 학습 "
   ]
  },
  {
   "cell_type": "code",
   "execution_count": 124,
   "id": "9777e99a",
   "metadata": {},
   "outputs": [],
   "source": [
    "# GridSearch : 하이퍼 파라미터 튜닝 \n",
    "# CV (Cross Validation) \n",
    "from sklearn.model_selection import GridSearchCV"
   ]
  },
  {
   "cell_type": "code",
   "execution_count": 136,
   "id": "674a92eb",
   "metadata": {
    "collapsed": true
   },
   "outputs": [
    {
     "data": {
      "text/plain": [
       "GridSearchCV(cv=5,\n",
       "             estimator=Pipeline(steps=[('columntransformer',\n",
       "                                        ColumnTransformer(transformers=[('pipeline-1',\n",
       "                                                                         Pipeline(steps=[('simpleimputer',\n",
       "                                                                                          SimpleImputer(strategy='median')),\n",
       "                                                                                         ('minmaxscaler',\n",
       "                                                                                          MinMaxScaler())]),\n",
       "                                                                         ['Term',\n",
       "                                                                          'Amount_Month',\n",
       "                                                                          'Age',\n",
       "                                                                          'Credit_Rank']),\n",
       "                                                                        ('pipeline-2',\n",
       "                                                                         Pipeline(steps=[('simpleimputer',\n",
       "                                                                                          SimpleImputer(strategy='most_frequent')),\n",
       "                                                                                         ('onehotencoder',\n",
       "                                                                                          OneHotEncoder())]),\n",
       "                                                                         ['Sales_Type',\n",
       "                                                                          'Channel'])])),\n",
       "                                       ('decisiontreeclassifier',\n",
       "                                        DecisionTreeClassifier())]),\n",
       "             n_jobs=-1,\n",
       "             param_grid={'decisiontreeclassifier__max_depth': range(1, 11),\n",
       "                         'decisiontreeclassifier__min_samples_leaf': range(1, 11)},\n",
       "             scoring='f1')"
      ]
     },
     "execution_count": 136,
     "metadata": {},
     "output_type": "execute_result"
    }
   ],
   "source": [
    "grid_model = GridSearchCV(model_pipe, cv=5, \n",
    "            param_grid = {'decisiontreeclassifier__max_depth':range(1,11),\n",
    "                           'decisiontreeclassifier__min_samples_leaf':range(1,11)}, \n",
    "                        scoring='f1',\n",
    "                        n_jobs = -1)\n",
    "grid_model.fit(X_train,Y_train)"
   ]
  },
  {
   "cell_type": "code",
   "execution_count": 139,
   "id": "eb8c2d22",
   "metadata": {},
   "outputs": [],
   "source": [
    "best_model = grid_model.best_estimator_"
   ]
  },
  {
   "cell_type": "code",
   "execution_count": 140,
   "id": "33ed472d",
   "metadata": {
    "collapsed": true
   },
   "outputs": [
    {
     "data": {
      "text/plain": [
       "Pipeline(steps=[('columntransformer',\n",
       "                 ColumnTransformer(transformers=[('pipeline-1',\n",
       "                                                  Pipeline(steps=[('simpleimputer',\n",
       "                                                                   SimpleImputer(strategy='median')),\n",
       "                                                                  ('minmaxscaler',\n",
       "                                                                   MinMaxScaler())]),\n",
       "                                                  ['Term', 'Amount_Month',\n",
       "                                                   'Age', 'Credit_Rank']),\n",
       "                                                 ('pipeline-2',\n",
       "                                                  Pipeline(steps=[('simpleimputer',\n",
       "                                                                   SimpleImputer(strategy='most_frequent')),\n",
       "                                                                  ('onehotencoder',\n",
       "                                                                   OneHotEncoder())]),\n",
       "                                                  ['Sales_Type', 'Channel'])])),\n",
       "                ('decisiontreeclassifier',\n",
       "                 DecisionTreeClassifier(max_depth=9))])"
      ]
     },
     "execution_count": 140,
     "metadata": {},
     "output_type": "execute_result"
    }
   ],
   "source": [
    "best_model"
   ]
  },
  {
   "cell_type": "code",
   "execution_count": 133,
   "id": "178bd8ca",
   "metadata": {},
   "outputs": [],
   "source": [
    "pickle.dump(best_model, open('best_model.sav','wb'))"
   ]
  },
  {
   "cell_type": "markdown",
   "id": "e22e5151",
   "metadata": {},
   "source": [
    "# Mission 7 리뷰"
   ]
  },
  {
   "cell_type": "code",
   "execution_count": 143,
   "id": "17e6d6fb",
   "metadata": {},
   "outputs": [],
   "source": [
    "df1 = pd.read_csv('10_Data.csv',encoding='cp949')\n",
    "df1_clean = df1.dropna()"
   ]
  },
  {
   "cell_type": "code",
   "execution_count": 146,
   "id": "8e173d57",
   "metadata": {},
   "outputs": [],
   "source": [
    "# 7. '실링압력'이 80%이상인 데이터를 'A' 미만인 데이터를 'B'로 만들어 '압력분류'로 선언하고,\n",
    "# '쿠킹스팀압력'이 50%이상인 데이터를 'T' 미만인 데이터를 'F'로 만들어 '스팀분류'로 선언 \n",
    "cond1 = (df1['실링압력'] >= df1['실링압력'].quantile(0.8))\n",
    "df1.loc[cond1, '압력분류'] ='A'\n",
    "df1.loc[~cond1, '압력분류'] = 'B'"
   ]
  },
  {
   "cell_type": "code",
   "execution_count": 148,
   "id": "f08f0152",
   "metadata": {},
   "outputs": [],
   "source": [
    "cond2 = (df1['쿠킹스팀압력'] >= df1['쿠킹스팀압력'].median() )\n",
    "df1.loc[cond2, '스팀분류'] ='T'\n",
    "df1.loc[~cond2, '스팀분류'] ='F'"
   ]
  },
  {
   "cell_type": "code",
   "execution_count": 151,
   "id": "e30c81b4",
   "metadata": {
    "collapsed": true
   },
   "outputs": [
    {
     "data": {
      "text/html": [
       "<div>\n",
       "<style scoped>\n",
       "    .dataframe tbody tr th:only-of-type {\n",
       "        vertical-align: middle;\n",
       "    }\n",
       "\n",
       "    .dataframe tbody tr th {\n",
       "        vertical-align: top;\n",
       "    }\n",
       "\n",
       "    .dataframe thead th {\n",
       "        text-align: right;\n",
       "    }\n",
       "</style>\n",
       "<table border=\"1\" class=\"dataframe\">\n",
       "  <thead>\n",
       "    <tr style=\"text-align: right;\">\n",
       "      <th>스팀분류</th>\n",
       "      <th>F</th>\n",
       "      <th>T</th>\n",
       "    </tr>\n",
       "    <tr>\n",
       "      <th>압력분류</th>\n",
       "      <th></th>\n",
       "      <th></th>\n",
       "    </tr>\n",
       "  </thead>\n",
       "  <tbody>\n",
       "    <tr>\n",
       "      <th>A</th>\n",
       "      <td>872</td>\n",
       "      <td>3944</td>\n",
       "    </tr>\n",
       "    <tr>\n",
       "      <th>B</th>\n",
       "      <td>11136</td>\n",
       "      <td>8117</td>\n",
       "    </tr>\n",
       "  </tbody>\n",
       "</table>\n",
       "</div>"
      ],
      "text/plain": [
       "스팀분류      F     T\n",
       "압력분류             \n",
       "A       872  3944\n",
       "B     11136  8117"
      ]
     },
     "execution_count": 151,
     "metadata": {},
     "output_type": "execute_result"
    }
   ],
   "source": [
    "# 8. '압력분류'(범주형)와 '스팀분류'(범주형)간의 연관성이 있는지 가설검정을 수행 \n",
    "df_contingency = pd.crosstab(df1['압력분류'], df1['스팀분류'])\n",
    "df_contingency"
   ]
  },
  {
   "cell_type": "code",
   "execution_count": 152,
   "id": "b4c6eb26",
   "metadata": {
    "collapsed": true
   },
   "outputs": [
    {
     "data": {
      "text/plain": [
       "(2431.2536760834837,\n",
       " 0.0,\n",
       " 1,\n",
       " array([[2402.6975778, 2413.3024222],\n",
       "        [9605.3024222, 9647.6975778]]))"
      ]
     },
     "execution_count": 152,
     "metadata": {},
     "output_type": "execute_result"
    }
   ],
   "source": [
    "# 귀무가설 : 압력분류와 스팀분류 항목은 서로 독립이다. (연관성이 없다.)\n",
    "# 대립가설 : 압력분류와 스팀분류 항목은 서로 독립이 아니다. (연관성이 있다.)\n",
    "stats.chi2_contingency(df_contingency)\n",
    "# 통계량 /  P.value /  자유도 /  기댓값 \n",
    "# P.value < 0.05 / 대립가설 참 / 압력분류와 스팀분류 항목은 서로 독립이 아니다. "
   ]
  },
  {
   "cell_type": "markdown",
   "id": "ffdf2418",
   "metadata": {},
   "source": [
    "# Mission 8. \n",
    "- 01_Data.csv 파일을 가져와 df1으로 선언한 뒤 아래의 문제를 해결하시오. \n",
    "1. 'Amount_Month'(월랜탈비용)과 'Term'(계약기간)데이터를 곱하여, 계약기간동안 한명의 회윈이 총 납부하는 총금액('Total_Amount') 항목을 계산하여 새로운 변수로 선언 \n",
    "2. 총금액('Total_Amount')값에 따라 고객의 등급을 분류해보고자 한다.\n",
    "    총금액('Total_Amount')값이 상위 10% 고객은 'VIP'\n",
    "    총금액('Total_Amount')값이 상위 30% 고객은 'Special'\n",
    "    나머지 고객 'Normal' 값으로 계산하여 'Member_Rank'변수를 생성 \n",
    "3. 앞서 계산된 'Member_Rank'에서 'VIP'고객들의 특성을 파악하고 한다. \n",
    "    'VIP'고객들만 추출하여, 'Channel'(유입경로)에 따른 'Total_Amount'(총금액)의 평균을 시각화 / 합 시각화 \n",
    "4. 'VIP'고객들의 'Channel'(유입경로)에서 Total_Amount값의 합이 가장 높은 상위 3개의 경로를 선택하여, 각 경로 별 Total_Amount값의 평균의 유의미한 차이가 있는지 가설검정 수행\n",
    "5. 'Member_Rank'고객의 등급에 따라 사용하는 'Product_Type'제품군이 달라지는 지 확인해 보고자 한다. \n",
    "    - 고객의 등급과 제품군의 빈도수를 나타는 그래프를 시각화  \n",
    "    - 고객의 등급과 제품군 간의 연관성이 있는지 가설검정을 수행 \n",
    "6. 'Member_Rank'고객 등급에서 'Special' 고객들의 특성을 파악하고자 한다.\n",
    "    - 'Datetime'계약일자를 이용하여, 가장 유입이(빈도수) 많이 발생한 '월'을 확인 \n",
    "    -  2019년도 / 2020년도 각각 확인 \n",
    "7. 'Product_Type'제품군 별 연도에 따른 'Total_Amount'총금액의 증감율을 계산하시오. \n",
    "8. Credit_Rank'신용등급'을 예측하는 회귀모델을 만들고자 한다.\n",
    "    아래의 조건에 맞춰 회귀모델을 구성하시오. \n",
    "        - X : Age / Amount_Month / Term / Gender / Product_Type\n",
    "        - Y : Credit_Rank -> 결측값 fillna( ) 중앙값으로 변환 \n",
    "        - 숫자 데이터 : 결측처리 + Standard Scaling \n",
    "        - 문자 데이터 : 결측처리 + One Hot Encoding \n",
    "        - 교차 검증 3회 / DecisionTreeRegressor / param_grid = {}\n",
    "        - r2_score (from sklearn.metrics import r2_score)\n",
    "        - r2_score(Y_train, Y_train_pred) / r2_score(Y_test, Y_test_pred) \n",
    "9. 'Product_Type' 별 계약건수 대비 총금액(Total_Amount)을 나눈 값을 계산하시오. \n",
    "\n",
    "- 0001jmp@gmail.com / 1등 - 미스터 피자 / 2등/3등 - 맘스땃쥐 / 4-6등 - 스벅 / 7-9 모구모구 "
   ]
  }
 ],
 "metadata": {
  "kernelspec": {
   "display_name": "Python 3 (ipykernel)",
   "language": "python",
   "name": "python3"
  },
  "language_info": {
   "codemirror_mode": {
    "name": "ipython",
    "version": 3
   },
   "file_extension": ".py",
   "mimetype": "text/x-python",
   "name": "python",
   "nbconvert_exporter": "python",
   "pygments_lexer": "ipython3",
   "version": "3.9.12"
  }
 },
 "nbformat": 4,
 "nbformat_minor": 5
}
