{
 "cells": [
  {
   "cell_type": "code",
   "execution_count": 1,
   "id": "89feb607",
   "metadata": {},
   "outputs": [],
   "source": [
    "from selenium import webdriver \n",
    "from selenium.webdriver.common.by import By\n",
    "# from webdriver_manager.chrome import ChromeDriverManage"
   ]
  },
  {
   "cell_type": "code",
   "execution_count": 30,
   "id": "1c937527",
   "metadata": {},
   "outputs": [],
   "source": [
    "driver = webdriver.Chrome('chromedriver')\n",
    "# driver = webdriver.Chrome(ChromeDriverManager().install())  # Mac \n",
    "driver.get('https://www.jobplanet.co.kr')"
   ]
  },
  {
   "cell_type": "code",
   "execution_count": 31,
   "id": "8b07095d",
   "metadata": {},
   "outputs": [],
   "source": [
    "# 로그인 화면으로 이동\n",
    "driver.find_element(By.XPATH, \n",
    "                   '/html/body/div[1]/div[1]/header/div[2]/div[2]/a[1]/span').click()"
   ]
  },
  {
   "cell_type": "code",
   "execution_count": 32,
   "id": "7bee01ea",
   "metadata": {},
   "outputs": [],
   "source": [
    "# 아이디 입력 \n",
    "driver.find_element(By.XPATH,\n",
    "                   '//*[@id=\"user_email\"]').send_keys('52100108@dankook.ac.kr')"
   ]
  },
  {
   "cell_type": "code",
   "execution_count": 33,
   "id": "57b168d8",
   "metadata": {},
   "outputs": [],
   "source": [
    "# 패스워드 입력\n",
    "driver.find_element(By.XPATH,\n",
    "                   '//*[@id=\"user_password\"]').send_keys('kgkg3920691')"
   ]
  },
  {
   "cell_type": "code",
   "execution_count": 34,
   "id": "7943796c",
   "metadata": {},
   "outputs": [],
   "source": [
    "# 로그인 실행\n",
    "driver.find_element(By.XPATH,\n",
    "        '//*[@id=\"signInSignInCon\"]/div[2]/div/section[2]/fieldset/button').click()"
   ]
  },
  {
   "cell_type": "code",
   "execution_count": 36,
   "id": "d1ea3e4a",
   "metadata": {},
   "outputs": [],
   "source": [
    "# 포스코 기업 페이지 접속 \n",
    "driver.get('https://www.jobplanet.co.kr/companies/50130/reviews/%ED%8F%AC%EC%8A%A4%EC%BD%94')\n",
    "# 오픈되어 있는 창 제거 \n",
    "driver.find_element(By.XPATH,\n",
    "        '//*[@id=\"premiumReviewChart\"]/div/div[3]/div[2]/div/div[1]/button').click()"
   ]
  },
  {
   "cell_type": "code",
   "execution_count": 2,
   "id": "52b23196",
   "metadata": {},
   "outputs": [],
   "source": [
    "def start_Code( url ):\n",
    "    import time \n",
    "    driver = webdriver.Chrome('chromedriver')\n",
    "    # driver = webdriver.Chrome(ChromeDriverManager().install())  # Mac \n",
    "    driver.get('https://www.jobplanet.co.kr')\n",
    "    driver.implicitly_wait(10)  \n",
    "    time.sleep(2)\n",
    "    driver.find_element(By.XPATH, \n",
    "                '/html/body/div[1]/div[1]/header/div[2]/div[2]/a[1]/span').click()\n",
    "    driver.find_element(By.XPATH,\n",
    "                   '//*[@id=\"user_email\"]').send_keys('52100108@dankook.ac.kr')\n",
    "    driver.find_element(By.XPATH,\n",
    "                   '//*[@id=\"user_password\"]').send_keys('kgkg3920691')\n",
    "    driver.find_element(By.XPATH,\n",
    "        '//*[@id=\"signInSignInCon\"]/div[2]/div/section[2]/fieldset/button').click()\n",
    "    import time\n",
    "    time.sleep(5) \n",
    "    driver.get(url)\n",
    "    driver.find_element(By.XPATH,\n",
    "        '//*[@id=\"premiumReviewChart\"]/div/div[3]/div[2]/div/div[1]/button').click()\n",
    "    \n",
    "    pasing_Scrap(driver)"
   ]
  },
  {
   "cell_type": "code",
   "execution_count": 3,
   "id": "9ed1ce04",
   "metadata": {},
   "outputs": [],
   "source": [
    "def pasing_Scrap(driver):\n",
    "    import time\n",
    "    for p in range(0,30): \n",
    "        try:\n",
    "            driver.implicitly_wait(3)\n",
    "\n",
    "            comm_Scrap(driver)\n",
    "        except:\n",
    "            print('pasing Error')\n",
    "        finally:\n",
    "            time.sleep(3)\n",
    "            driver.find_element(By.XPATH, '//*[@id=\"viewReviewsList\"]/div/div/div/div[5]/article/a[7]').click()\n",
    "            print('Done')"
   ]
  },
  {
   "cell_type": "code",
   "execution_count": 4,
   "id": "1f04b43a",
   "metadata": {},
   "outputs": [],
   "source": [
    "def comm_Scrap(driver):\n",
    "    for i in range(1,6):\n",
    "        try:\n",
    "            import time\n",
    "            driver.implicitly_wait(3)\n",
    "            div_txt = driver.find_element(By.XPATH, '//*[@id=\"viewReviewsList\"]/div/div/div/section['+str(i)+']/div/div[1]/span[2]').text\n",
    "            state_txt = driver.find_element(By.XPATH, '//*[@id=\"viewReviewsList\"]/div/div/div/section['+str(i)+']/div/div[1]/span[4]').text\n",
    "            regin_txt = driver.find_element(By.XPATH, '//*[@id=\"viewReviewsList\"]/div/div/div/section['+str(i)+']/div/div[1]/span[6]').text\n",
    "            date_txt = driver.find_element(By.XPATH, '//*[@id=\"viewReviewsList\"]/div/div/div/section['+str(i)+']/div/div[1]/span[8]').text\n",
    "            comm_txt = driver.find_element(By.XPATH, '//*[@id=\"viewReviewsList\"]/div/div/div/section['+str(i)+']/div/div[2]/div/div[1]/h2').text\n",
    "            good_txt = driver.find_element(By.XPATH, '//*[@id=\"viewReviewsList\"]/div/div/div/section['+str(i)+']/div/div[2]/div/dl/dd[1]/span').text\n",
    "            bad_txt = driver.find_element(By.XPATH, '//*[@id=\"viewReviewsList\"]/div/div/div/section['+str(i)+']/div/div[2]/div/dl/dd[2]/span').text\n",
    "           \n",
    "            div_list.append(div_txt)\n",
    "            state_list.append(state_txt)\n",
    "            regin_list.append(regin_txt)\n",
    "            date_list.append(date_txt)\n",
    "            comm_list.append(comm_txt)\n",
    "            good_comm_list.append(good_txt)\n",
    "            bad_comm_list.append(bad_txt)\n",
    "        except :\n",
    "            print('comm Error')\n",
    "        finally : \n",
    "            pass"
   ]
  },
  {
   "cell_type": "code",
   "execution_count": 5,
   "id": "7d9c1556",
   "metadata": {},
   "outputs": [],
   "source": [
    "div_list = [] # 직군 \n",
    "state_list = [] # 전현직 상태\n",
    "regin_list = [] # 지역\n",
    "date_list  = [] # 작성일자 \n",
    "comm_list  = [] # 한줄평 \n",
    "good_comm_list = [] # 장점\n",
    "bad_comm_list  = [] # 단점 "
   ]
  },
  {
   "cell_type": "code",
   "execution_count": 10,
   "id": "9e50561b",
   "metadata": {
    "collapsed": true
   },
   "outputs": [
    {
     "name": "stdout",
     "output_type": "stream",
     "text": [
      "Done\n",
      "Done\n",
      "Done\n",
      "Done\n",
      "Done\n",
      "Done\n",
      "Done\n",
      "Done\n",
      "Done\n",
      "Done\n",
      "Done\n",
      "Done\n",
      "Done\n",
      "Done\n",
      "Done\n",
      "Done\n",
      "comm Error\n",
      "Done\n",
      "Done\n",
      "Done\n"
     ]
    },
    {
     "ename": "ElementClickInterceptedException",
     "evalue": "Message: element click intercepted: Element <a href=\"/companies/50130/reviews/%ED%8F%AC%EC%8A%A4%EC%BD%94?page=21\" class=\"btn_pgnext\">...</a> is not clickable at point (487, 584). Other element would receive the click: <div class=\"loading_spinner_bg\"></div>\n  (Session info: chrome=104.0.5112.102)\nStacktrace:\nBacktrace:\n\tOrdinal0 [0x010C78B3+2193587]\n\tOrdinal0 [0x01060681+1771137]\n\tOrdinal0 [0x00F741A8+803240]\n\tOrdinal0 [0x00FA8C84+1019012]\n\tOrdinal0 [0x00FA6C48+1010760]\n\tOrdinal0 [0x00FA493B+1001787]\n\tOrdinal0 [0x00FA3699+997017]\n\tOrdinal0 [0x00F99223+954915]\n\tOrdinal0 [0x00FBD7AC+1103788]\n\tOrdinal0 [0x00F98C04+953348]\n\tOrdinal0 [0x00FBD9C4+1104324]\n\tOrdinal0 [0x00FCDAE2+1170146]\n\tOrdinal0 [0x00FBD5C6+1103302]\n\tOrdinal0 [0x00F977E0+948192]\n\tOrdinal0 [0x00F986E6+952038]\n\tGetHandleVerifier [0x01370CB2+2738370]\n\tGetHandleVerifier [0x013621B8+2678216]\n\tGetHandleVerifier [0x011517AA+512954]\n\tGetHandleVerifier [0x01150856+509030]\n\tOrdinal0 [0x0106743B+1799227]\n\tOrdinal0 [0x0106BB68+1817448]\n\tOrdinal0 [0x0106BC55+1817685]\n\tOrdinal0 [0x01075230+1856048]\n\tBaseThreadInitThunk [0x75266359+25]\n\tRtlGetAppContainerNamedObjectPath [0x77187B74+228]\n\tRtlGetAppContainerNamedObjectPath [0x77187B44+180]\n",
     "output_type": "error",
     "traceback": [
      "\u001b[1;31m---------------------------------------------------------------------------\u001b[0m",
      "\u001b[1;31mElementClickInterceptedException\u001b[0m          Traceback (most recent call last)",
      "Input \u001b[1;32mIn [10]\u001b[0m, in \u001b[0;36m<cell line: 1>\u001b[1;34m()\u001b[0m\n\u001b[1;32m----> 1\u001b[0m \u001b[43mstart_Code\u001b[49m\u001b[43m(\u001b[49m\u001b[38;5;124;43m'\u001b[39;49m\u001b[38;5;124;43mhttps://www.jobplanet.co.kr/companies/50130/reviews/\u001b[39;49m\u001b[38;5;132;43;01m%E\u001b[39;49;00m\u001b[38;5;124;43mD\u001b[39;49m\u001b[38;5;132;43;01m%8F\u001b[39;49;00m\u001b[38;5;124;43m%\u001b[39;49m\u001b[38;5;124;43mAC\u001b[39;49m\u001b[38;5;132;43;01m%E\u001b[39;49;00m\u001b[38;5;124;43mC\u001b[39;49m\u001b[38;5;124;43m%\u001b[39;49m\u001b[38;5;124;43m8A\u001b[39;49m\u001b[38;5;124;43m%\u001b[39;49m\u001b[38;5;124;43mA4\u001b[39;49m\u001b[38;5;132;43;01m%E\u001b[39;49;00m\u001b[38;5;124;43mC\u001b[39;49m\u001b[38;5;124;43m%\u001b[39;49m\u001b[38;5;124;43mBD\u001b[39;49m\u001b[38;5;124;43m%\u001b[39;49m\u001b[38;5;124;43m94\u001b[39;49m\u001b[38;5;124;43m'\u001b[39;49m\u001b[43m)\u001b[49m\n",
      "Input \u001b[1;32mIn [2]\u001b[0m, in \u001b[0;36mstart_Code\u001b[1;34m(url)\u001b[0m\n\u001b[0;32m     18\u001b[0m driver\u001b[38;5;241m.\u001b[39mget(url)\n\u001b[0;32m     19\u001b[0m driver\u001b[38;5;241m.\u001b[39mfind_element(By\u001b[38;5;241m.\u001b[39mXPATH,\n\u001b[0;32m     20\u001b[0m     \u001b[38;5;124m'\u001b[39m\u001b[38;5;124m//*[@id=\u001b[39m\u001b[38;5;124m\"\u001b[39m\u001b[38;5;124mpremiumReviewChart\u001b[39m\u001b[38;5;124m\"\u001b[39m\u001b[38;5;124m]/div/div[3]/div[2]/div/div[1]/button\u001b[39m\u001b[38;5;124m'\u001b[39m)\u001b[38;5;241m.\u001b[39mclick()\n\u001b[1;32m---> 22\u001b[0m \u001b[43mpasing_Scrap\u001b[49m\u001b[43m(\u001b[49m\u001b[43mdriver\u001b[49m\u001b[43m)\u001b[49m\n",
      "Input \u001b[1;32mIn [3]\u001b[0m, in \u001b[0;36mpasing_Scrap\u001b[1;34m(driver)\u001b[0m\n\u001b[0;32m     10\u001b[0m \u001b[38;5;28;01mfinally\u001b[39;00m:\n\u001b[0;32m     11\u001b[0m     time\u001b[38;5;241m.\u001b[39msleep(\u001b[38;5;241m3\u001b[39m)\n\u001b[1;32m---> 12\u001b[0m     \u001b[43mdriver\u001b[49m\u001b[38;5;241;43m.\u001b[39;49m\u001b[43mfind_element\u001b[49m\u001b[43m(\u001b[49m\u001b[43mBy\u001b[49m\u001b[38;5;241;43m.\u001b[39;49m\u001b[43mXPATH\u001b[49m\u001b[43m,\u001b[49m\u001b[43m \u001b[49m\u001b[38;5;124;43m'\u001b[39;49m\u001b[38;5;124;43m//*[@id=\u001b[39;49m\u001b[38;5;124;43m\"\u001b[39;49m\u001b[38;5;124;43mviewReviewsList\u001b[39;49m\u001b[38;5;124;43m\"\u001b[39;49m\u001b[38;5;124;43m]/div/div/div/div[5]/article/a[7]\u001b[39;49m\u001b[38;5;124;43m'\u001b[39;49m\u001b[43m)\u001b[49m\u001b[38;5;241;43m.\u001b[39;49m\u001b[43mclick\u001b[49m\u001b[43m(\u001b[49m\u001b[43m)\u001b[49m\n\u001b[0;32m     13\u001b[0m     \u001b[38;5;28mprint\u001b[39m(\u001b[38;5;124m'\u001b[39m\u001b[38;5;124mDone\u001b[39m\u001b[38;5;124m'\u001b[39m)\n",
      "File \u001b[1;32m~\\AppData\\Roaming\\Python\\Python39\\site-packages\\selenium\\webdriver\\remote\\webelement.py:88\u001b[0m, in \u001b[0;36mWebElement.click\u001b[1;34m(self)\u001b[0m\n\u001b[0;32m     86\u001b[0m \u001b[38;5;28;01mdef\u001b[39;00m \u001b[38;5;21mclick\u001b[39m(\u001b[38;5;28mself\u001b[39m) \u001b[38;5;241m-\u001b[39m\u001b[38;5;241m>\u001b[39m \u001b[38;5;28;01mNone\u001b[39;00m:\n\u001b[0;32m     87\u001b[0m     \u001b[38;5;124;03m\"\"\"Clicks the element.\"\"\"\u001b[39;00m\n\u001b[1;32m---> 88\u001b[0m     \u001b[38;5;28;43mself\u001b[39;49m\u001b[38;5;241;43m.\u001b[39;49m\u001b[43m_execute\u001b[49m\u001b[43m(\u001b[49m\u001b[43mCommand\u001b[49m\u001b[38;5;241;43m.\u001b[39;49m\u001b[43mCLICK_ELEMENT\u001b[49m\u001b[43m)\u001b[49m\n",
      "File \u001b[1;32m~\\AppData\\Roaming\\Python\\Python39\\site-packages\\selenium\\webdriver\\remote\\webelement.py:396\u001b[0m, in \u001b[0;36mWebElement._execute\u001b[1;34m(self, command, params)\u001b[0m\n\u001b[0;32m    394\u001b[0m     params \u001b[38;5;241m=\u001b[39m {}\n\u001b[0;32m    395\u001b[0m params[\u001b[38;5;124m'\u001b[39m\u001b[38;5;124mid\u001b[39m\u001b[38;5;124m'\u001b[39m] \u001b[38;5;241m=\u001b[39m \u001b[38;5;28mself\u001b[39m\u001b[38;5;241m.\u001b[39m_id\n\u001b[1;32m--> 396\u001b[0m \u001b[38;5;28;01mreturn\u001b[39;00m \u001b[38;5;28;43mself\u001b[39;49m\u001b[38;5;241;43m.\u001b[39;49m\u001b[43m_parent\u001b[49m\u001b[38;5;241;43m.\u001b[39;49m\u001b[43mexecute\u001b[49m\u001b[43m(\u001b[49m\u001b[43mcommand\u001b[49m\u001b[43m,\u001b[49m\u001b[43m \u001b[49m\u001b[43mparams\u001b[49m\u001b[43m)\u001b[49m\n",
      "File \u001b[1;32m~\\AppData\\Roaming\\Python\\Python39\\site-packages\\selenium\\webdriver\\remote\\webdriver.py:428\u001b[0m, in \u001b[0;36mWebDriver.execute\u001b[1;34m(self, driver_command, params)\u001b[0m\n\u001b[0;32m    426\u001b[0m response \u001b[38;5;241m=\u001b[39m \u001b[38;5;28mself\u001b[39m\u001b[38;5;241m.\u001b[39mcommand_executor\u001b[38;5;241m.\u001b[39mexecute(driver_command, params)\n\u001b[0;32m    427\u001b[0m \u001b[38;5;28;01mif\u001b[39;00m response:\n\u001b[1;32m--> 428\u001b[0m     \u001b[38;5;28;43mself\u001b[39;49m\u001b[38;5;241;43m.\u001b[39;49m\u001b[43merror_handler\u001b[49m\u001b[38;5;241;43m.\u001b[39;49m\u001b[43mcheck_response\u001b[49m\u001b[43m(\u001b[49m\u001b[43mresponse\u001b[49m\u001b[43m)\u001b[49m\n\u001b[0;32m    429\u001b[0m     response[\u001b[38;5;124m'\u001b[39m\u001b[38;5;124mvalue\u001b[39m\u001b[38;5;124m'\u001b[39m] \u001b[38;5;241m=\u001b[39m \u001b[38;5;28mself\u001b[39m\u001b[38;5;241m.\u001b[39m_unwrap_value(\n\u001b[0;32m    430\u001b[0m         response\u001b[38;5;241m.\u001b[39mget(\u001b[38;5;124m'\u001b[39m\u001b[38;5;124mvalue\u001b[39m\u001b[38;5;124m'\u001b[39m, \u001b[38;5;28;01mNone\u001b[39;00m))\n\u001b[0;32m    431\u001b[0m     \u001b[38;5;28;01mreturn\u001b[39;00m response\n",
      "File \u001b[1;32m~\\AppData\\Roaming\\Python\\Python39\\site-packages\\selenium\\webdriver\\remote\\errorhandler.py:243\u001b[0m, in \u001b[0;36mErrorHandler.check_response\u001b[1;34m(self, response)\u001b[0m\n\u001b[0;32m    241\u001b[0m         alert_text \u001b[38;5;241m=\u001b[39m value[\u001b[38;5;124m'\u001b[39m\u001b[38;5;124malert\u001b[39m\u001b[38;5;124m'\u001b[39m]\u001b[38;5;241m.\u001b[39mget(\u001b[38;5;124m'\u001b[39m\u001b[38;5;124mtext\u001b[39m\u001b[38;5;124m'\u001b[39m)\n\u001b[0;32m    242\u001b[0m     \u001b[38;5;28;01mraise\u001b[39;00m exception_class(message, screen, stacktrace, alert_text)  \u001b[38;5;66;03m# type: ignore[call-arg]  # mypy is not smart enough here\u001b[39;00m\n\u001b[1;32m--> 243\u001b[0m \u001b[38;5;28;01mraise\u001b[39;00m exception_class(message, screen, stacktrace)\n",
      "\u001b[1;31mElementClickInterceptedException\u001b[0m: Message: element click intercepted: Element <a href=\"/companies/50130/reviews/%ED%8F%AC%EC%8A%A4%EC%BD%94?page=21\" class=\"btn_pgnext\">...</a> is not clickable at point (487, 584). Other element would receive the click: <div class=\"loading_spinner_bg\"></div>\n  (Session info: chrome=104.0.5112.102)\nStacktrace:\nBacktrace:\n\tOrdinal0 [0x010C78B3+2193587]\n\tOrdinal0 [0x01060681+1771137]\n\tOrdinal0 [0x00F741A8+803240]\n\tOrdinal0 [0x00FA8C84+1019012]\n\tOrdinal0 [0x00FA6C48+1010760]\n\tOrdinal0 [0x00FA493B+1001787]\n\tOrdinal0 [0x00FA3699+997017]\n\tOrdinal0 [0x00F99223+954915]\n\tOrdinal0 [0x00FBD7AC+1103788]\n\tOrdinal0 [0x00F98C04+953348]\n\tOrdinal0 [0x00FBD9C4+1104324]\n\tOrdinal0 [0x00FCDAE2+1170146]\n\tOrdinal0 [0x00FBD5C6+1103302]\n\tOrdinal0 [0x00F977E0+948192]\n\tOrdinal0 [0x00F986E6+952038]\n\tGetHandleVerifier [0x01370CB2+2738370]\n\tGetHandleVerifier [0x013621B8+2678216]\n\tGetHandleVerifier [0x011517AA+512954]\n\tGetHandleVerifier [0x01150856+509030]\n\tOrdinal0 [0x0106743B+1799227]\n\tOrdinal0 [0x0106BB68+1817448]\n\tOrdinal0 [0x0106BC55+1817685]\n\tOrdinal0 [0x01075230+1856048]\n\tBaseThreadInitThunk [0x75266359+25]\n\tRtlGetAppContainerNamedObjectPath [0x77187B74+228]\n\tRtlGetAppContainerNamedObjectPath [0x77187B44+180]\n"
     ]
    }
   ],
   "source": [
    "start_Code('https://www.jobplanet.co.kr/companies/50130/reviews/%ED%8F%AC%EC%8A%A4%EC%BD%94')"
   ]
  },
  {
   "cell_type": "code",
   "execution_count": null,
   "id": "03945411",
   "metadata": {},
   "outputs": [],
   "source": [
    "# 창을 띄우지 않고 크롤링을 수행 \n",
    "options = webdriver.ChromeOptions()\n",
    "options.add_argument('headless')\n",
    "\n",
    "driver = webdriver.Chrome(options= options)"
   ]
  },
  {
   "cell_type": "code",
   "execution_count": 11,
   "id": "35d0bada",
   "metadata": {},
   "outputs": [],
   "source": [
    "import pandas as pd "
   ]
  },
  {
   "cell_type": "code",
   "execution_count": 12,
   "id": "8068ab2c",
   "metadata": {
    "collapsed": true
   },
   "outputs": [
    {
     "data": {
      "text/html": [
       "<div>\n",
       "<style scoped>\n",
       "    .dataframe tbody tr th:only-of-type {\n",
       "        vertical-align: middle;\n",
       "    }\n",
       "\n",
       "    .dataframe tbody tr th {\n",
       "        vertical-align: top;\n",
       "    }\n",
       "\n",
       "    .dataframe thead th {\n",
       "        text-align: right;\n",
       "    }\n",
       "</style>\n",
       "<table border=\"1\" class=\"dataframe\">\n",
       "  <thead>\n",
       "    <tr style=\"text-align: right;\">\n",
       "      <th></th>\n",
       "      <th>작성일자</th>\n",
       "      <th>직군</th>\n",
       "      <th>지역</th>\n",
       "      <th>한줄평</th>\n",
       "      <th>기업장점</th>\n",
       "      <th>기업단점</th>\n",
       "    </tr>\n",
       "  </thead>\n",
       "  <tbody>\n",
       "    <tr>\n",
       "      <th>0</th>\n",
       "      <td>2022. 08</td>\n",
       "      <td>연구개발</td>\n",
       "      <td>경북</td>\n",
       "      <td>\"전형적인 장치산업. 사람을 전혀 생각하지 않는 곳. 군대와 거의 동일한 문화. 근...</td>\n",
       "      <td>승진 생각하지 않는 다면 윗사람 전혀 눈치볼 필요 없음. 아무도 승진하려고 하지 않...</td>\n",
       "      <td>단순보고, 보고를 위한 보고 등 문서 작업들이 많음. 무언가 하나를 하려고 해도 해...</td>\n",
       "    </tr>\n",
       "    <tr>\n",
       "      <th>1</th>\n",
       "      <td>2022. 08</td>\n",
       "      <td>생산/제조</td>\n",
       "      <td>경북</td>\n",
       "      <td>\"주인 없는 회사를 강점으로 내밀지만 치명적인 단점이자 약점\"</td>\n",
       "      <td>회사 자체는 정말 알짜배기\\n포스코가 망할 수가 있을까 ?</td>\n",
       "      <td>직원 처우는 매우 낮은 수준\\n어느 직군이든 타기업과 비교시 낮은 수준임을 인지</td>\n",
       "    </tr>\n",
       "    <tr>\n",
       "      <th>2</th>\n",
       "      <td>2022. 08</td>\n",
       "      <td>경영/기획/컨설팅</td>\n",
       "      <td>경북</td>\n",
       "      <td>\"대기업 특유의 체계화된 보고 문화를 배울 수 있음\"</td>\n",
       "      <td>보고서 작성의 기초부터 심화까지 배울 수 있음.\\n전산쪽 지원도 잘되는 편이라, 시...</td>\n",
       "      <td>서울 포항 광양 근무지 이동에 따른 불편함.\\n서울을 제외하곤 기숙사 생활을 하며,...</td>\n",
       "    </tr>\n",
       "    <tr>\n",
       "      <th>3</th>\n",
       "      <td>2022. 08</td>\n",
       "      <td>엔지니어링</td>\n",
       "      <td>전남</td>\n",
       "      <td>\"주인없는 회사에 대한 실망이 여러 가지면에서 받게 됩니다.\\n회사경험이 없으시다면...</td>\n",
       "      <td>어른들에게는 네임밸류가 상당히 높고 현장에 비해 스탭직군은 연차, 선택적 근로제도를...</td>\n",
       "      <td>단점이 너무 많지만 한마디로 요약해보자면 지방, 직무, 연봉 중 하나라도 괜찮으면 ...</td>\n",
       "    </tr>\n",
       "    <tr>\n",
       "      <th>4</th>\n",
       "      <td>2022. 08</td>\n",
       "      <td>서비스/고객지원</td>\n",
       "      <td>전남</td>\n",
       "      <td>\"회사의 위계질서가 엄청남.\\n부서마다 분위기 차이가 있음.\"</td>\n",
       "      <td>교육, 문화, 교통 등의 혜택이 많아서 좋음.\\n밥 맛있어짐</td>\n",
       "      <td>복지 제도가 많지만 연차 자유롭지는 않음.\\n권장휴가에 반 강제적으로 연차써야함.</td>\n",
       "    </tr>\n",
       "    <tr>\n",
       "      <th>...</th>\n",
       "      <td>...</td>\n",
       "      <td>...</td>\n",
       "      <td>...</td>\n",
       "      <td>...</td>\n",
       "      <td>...</td>\n",
       "      <td>...</td>\n",
       "    </tr>\n",
       "    <tr>\n",
       "      <th>124</th>\n",
       "      <td>2022. 02</td>\n",
       "      <td>생산/제조</td>\n",
       "      <td>경북</td>\n",
       "      <td>\"다른곳으로 이직하기 좋은 업무량과 넉넉한 초봉\"</td>\n",
       "      <td>온갖 수당으로 초봉은 높지만, 그 초봉이 계속 유지됩니다.</td>\n",
       "      <td>기업문화가 군대 그 자체여서 상부에서 하라고 하면 해야되고, 현장이 사무실 눈치를 ...</td>\n",
       "    </tr>\n",
       "    <tr>\n",
       "      <th>125</th>\n",
       "      <td>2022. 02</td>\n",
       "      <td>경영/기획/컨설팅</td>\n",
       "      <td>서울</td>\n",
       "      <td>\"대기업 커리어 나름 대우받으며 지낼 수 있음 그러나 보수적 문화 아직 개척 안됨\"</td>\n",
       "      <td>크게 없으나 나름 MZ 세대 문화 받아들일 마음 자체는 있는 정도</td>\n",
       "      <td>아직은 너무 쓸데없는 구시대적 보고문화가 많은거 없어지지 않을것 같다는거</td>\n",
       "    </tr>\n",
       "    <tr>\n",
       "      <th>126</th>\n",
       "      <td>2022. 02</td>\n",
       "      <td>경영/기획/컨설팅</td>\n",
       "      <td>서울</td>\n",
       "      <td>\"밖에서 볼 때는 좋아보이지만 비효율적 보고문화로 발전이 더딘 회사\"</td>\n",
       "      <td>연차사용 비교적 자유로움. 어린이집 및 주차장 지원 좋고 야근 비교적 없음</td>\n",
       "      <td>인사제도의 불합리에 따른 통보식 보직변경으로 경력관리 어려움. 지주사 출범 후 '지...</td>\n",
       "    </tr>\n",
       "    <tr>\n",
       "      <th>127</th>\n",
       "      <td>2022. 02</td>\n",
       "      <td>생산/제조</td>\n",
       "      <td>경북</td>\n",
       "      <td>\"브랜드 이미지는 되게 좋음. 하지만 내부사정은 중소기업...\"</td>\n",
       "      <td>브랜드이미지가 좋아서 포스코라고 말하면 모르는 사람이 거의 없음. 결혼하려고 찾아가...</td>\n",
       "      <td>생산보다는 안전업무가 주임. 업무를 하기위해선 안전사항에 대해 공부해야됨. 내가 엔...</td>\n",
       "    </tr>\n",
       "    <tr>\n",
       "      <th>128</th>\n",
       "      <td>2022. 02</td>\n",
       "      <td>경영/기획/컨설팅</td>\n",
       "      <td>서울</td>\n",
       "      <td>\"포스코는 포스코입니다. 대치동 사옥에서 인턴십 근무했는데, 인턴임에도 불구하고, ...</td>\n",
       "      <td>3층 식당의 라면이 정말 맛있다. 특히, 회식 다음날…</td>\n",
       "      <td>인사 적체가 심해, 역피라미드형 구조인듯 보였음. 신입은 무조건 광양 또는 포항 근...</td>\n",
       "    </tr>\n",
       "  </tbody>\n",
       "</table>\n",
       "<p>129 rows × 6 columns</p>\n",
       "</div>"
      ],
      "text/plain": [
       "         작성일자         직군  지역  \\\n",
       "0    2022. 08       연구개발  경북   \n",
       "1    2022. 08      생산/제조  경북   \n",
       "2    2022. 08  경영/기획/컨설팅  경북   \n",
       "3    2022. 08      엔지니어링  전남   \n",
       "4    2022. 08   서비스/고객지원  전남   \n",
       "..        ...        ...  ..   \n",
       "124  2022. 02      생산/제조  경북   \n",
       "125  2022. 02  경영/기획/컨설팅  서울   \n",
       "126  2022. 02  경영/기획/컨설팅  서울   \n",
       "127  2022. 02      생산/제조  경북   \n",
       "128  2022. 02  경영/기획/컨설팅  서울   \n",
       "\n",
       "                                                   한줄평  \\\n",
       "0    \"전형적인 장치산업. 사람을 전혀 생각하지 않는 곳. 군대와 거의 동일한 문화. 근...   \n",
       "1                   \"주인 없는 회사를 강점으로 내밀지만 치명적인 단점이자 약점\"   \n",
       "2                        \"대기업 특유의 체계화된 보고 문화를 배울 수 있음\"   \n",
       "3    \"주인없는 회사에 대한 실망이 여러 가지면에서 받게 됩니다.\\n회사경험이 없으시다면...   \n",
       "4                   \"회사의 위계질서가 엄청남.\\n부서마다 분위기 차이가 있음.\"   \n",
       "..                                                 ...   \n",
       "124                        \"다른곳으로 이직하기 좋은 업무량과 넉넉한 초봉\"   \n",
       "125     \"대기업 커리어 나름 대우받으며 지낼 수 있음 그러나 보수적 문화 아직 개척 안됨\"   \n",
       "126             \"밖에서 볼 때는 좋아보이지만 비효율적 보고문화로 발전이 더딘 회사\"   \n",
       "127                \"브랜드 이미지는 되게 좋음. 하지만 내부사정은 중소기업...\"   \n",
       "128  \"포스코는 포스코입니다. 대치동 사옥에서 인턴십 근무했는데, 인턴임에도 불구하고, ...   \n",
       "\n",
       "                                                  기업장점  \\\n",
       "0    승진 생각하지 않는 다면 윗사람 전혀 눈치볼 필요 없음. 아무도 승진하려고 하지 않...   \n",
       "1                     회사 자체는 정말 알짜배기\\n포스코가 망할 수가 있을까 ?   \n",
       "2    보고서 작성의 기초부터 심화까지 배울 수 있음.\\n전산쪽 지원도 잘되는 편이라, 시...   \n",
       "3    어른들에게는 네임밸류가 상당히 높고 현장에 비해 스탭직군은 연차, 선택적 근로제도를...   \n",
       "4                    교육, 문화, 교통 등의 혜택이 많아서 좋음.\\n밥 맛있어짐   \n",
       "..                                                 ...   \n",
       "124                   온갖 수당으로 초봉은 높지만, 그 초봉이 계속 유지됩니다.   \n",
       "125               크게 없으나 나름 MZ 세대 문화 받아들일 마음 자체는 있는 정도   \n",
       "126          연차사용 비교적 자유로움. 어린이집 및 주차장 지원 좋고 야근 비교적 없음   \n",
       "127  브랜드이미지가 좋아서 포스코라고 말하면 모르는 사람이 거의 없음. 결혼하려고 찾아가...   \n",
       "128                     3층 식당의 라면이 정말 맛있다. 특히, 회식 다음날…   \n",
       "\n",
       "                                                  기업단점  \n",
       "0    단순보고, 보고를 위한 보고 등 문서 작업들이 많음. 무언가 하나를 하려고 해도 해...  \n",
       "1         직원 처우는 매우 낮은 수준\\n어느 직군이든 타기업과 비교시 낮은 수준임을 인지  \n",
       "2    서울 포항 광양 근무지 이동에 따른 불편함.\\n서울을 제외하곤 기숙사 생활을 하며,...  \n",
       "3    단점이 너무 많지만 한마디로 요약해보자면 지방, 직무, 연봉 중 하나라도 괜찮으면 ...  \n",
       "4        복지 제도가 많지만 연차 자유롭지는 않음.\\n권장휴가에 반 강제적으로 연차써야함.  \n",
       "..                                                 ...  \n",
       "124  기업문화가 군대 그 자체여서 상부에서 하라고 하면 해야되고, 현장이 사무실 눈치를 ...  \n",
       "125           아직은 너무 쓸데없는 구시대적 보고문화가 많은거 없어지지 않을것 같다는거  \n",
       "126  인사제도의 불합리에 따른 통보식 보직변경으로 경력관리 어려움. 지주사 출범 후 '지...  \n",
       "127  생산보다는 안전업무가 주임. 업무를 하기위해선 안전사항에 대해 공부해야됨. 내가 엔...  \n",
       "128  인사 적체가 심해, 역피라미드형 구조인듯 보였음. 신입은 무조건 광양 또는 포항 근...  \n",
       "\n",
       "[129 rows x 6 columns]"
      ]
     },
     "execution_count": 12,
     "metadata": {},
     "output_type": "execute_result"
    }
   ],
   "source": [
    "pd.DataFrame({'작성일자':date_list , '직군':div_list , '지역': regin_list, '한줄평':comm_list,\n",
    "             '기업장점':good_comm_list , '기업단점':bad_comm_list})"
   ]
  },
  {
   "cell_type": "markdown",
   "id": "89195552",
   "metadata": {},
   "source": [
    "# 데이터 전처리 3 "
   ]
  },
  {
   "cell_type": "code",
   "execution_count": 13,
   "id": "0834bb54",
   "metadata": {},
   "outputs": [],
   "source": [
    "df_member   = pd.read_csv('1_store_member.csv') \n",
    "df_product  = pd.read_csv('2_store_product.csv') "
   ]
  },
  {
   "cell_type": "code",
   "execution_count": 18,
   "id": "768453dd",
   "metadata": {},
   "outputs": [],
   "source": [
    "p1 = df_product.pivot_table(index='회원번호',\n",
    "                       values=['구매금액','구매수량'],aggfunc='sum').reset_index()\n",
    "df1 = pd.merge(df_member, p1, on='회원번호', how='inner')"
   ]
  },
  {
   "cell_type": "code",
   "execution_count": 25,
   "id": "d6a5474f",
   "metadata": {
    "collapsed": true
   },
   "outputs": [
    {
     "data": {
      "text/plain": [
       "array(['Wednesday', 'Thursday', 'Friday', 'Saturday', 'Sunday', 'Monday',\n",
       "       'Tuesday'], dtype=object)"
      ]
     },
     "execution_count": 25,
     "metadata": {},
     "output_type": "execute_result"
    }
   ],
   "source": [
    "# 6) df_product에서 토요일과 일요일의 '구매금액'의 평균의 차이가 있는가?\n",
    "df_product['공급일자_dt'] = pd.to_datetime(df_product['공급일자'], format='%Y%m%d')\n",
    "df_product['공급요일']    = df_product['공급일자_dt'].dt.day_name()\n",
    "df_product['공급요일'].unique()"
   ]
  },
  {
   "cell_type": "code",
   "execution_count": 28,
   "id": "9181b2b7",
   "metadata": {},
   "outputs": [],
   "source": [
    "cond1 = df_product['공급요일'].isin(['Saturday', 'Sunday'])\n",
    "df_weekend = df_product.loc[cond1]"
   ]
  },
  {
   "cell_type": "code",
   "execution_count": 30,
   "id": "9aaa2493",
   "metadata": {},
   "outputs": [],
   "source": [
    "import scipy.stats as stats"
   ]
  },
  {
   "cell_type": "code",
   "execution_count": 31,
   "id": "65854cdb",
   "metadata": {
    "collapsed": true
   },
   "outputs": [
    {
     "data": {
      "text/plain": [
       "NormaltestResult(statistic=250963.257085467, pvalue=0.0)"
      ]
     },
     "execution_count": 31,
     "metadata": {},
     "output_type": "execute_result"
    }
   ],
   "source": [
    "# 6-1) 구매금액의 분포가 정규분포를 따르는가?\n",
    "# 귀무 : 구매금액의 분포가 정규분포와 같다. \n",
    "# 대립 : 구매금액의 분포가 정규분포와 다르다.\n",
    "stats.normaltest(df_weekend['구매금액'])\n",
    "# P.value < 0.05(5%) / 대립가설 참 / 구매금액의 분포가 정규분포와 다르다."
   ]
  },
  {
   "cell_type": "code",
   "execution_count": 32,
   "id": "1b479de0",
   "metadata": {
    "collapsed": true
   },
   "outputs": [
    {
     "data": {
      "text/plain": [
       "RanksumsResult(statistic=3.0474877976155326, pvalue=0.002307628950574978)"
      ]
     },
     "execution_count": 32,
     "metadata": {},
     "output_type": "execute_result"
    }
   ],
   "source": [
    "# 6-2) 두 집단(토요일과 일요일)의 구매금액의 평균의 차이가 있는가? \n",
    "cond1 = df_weekend['공급요일']=='Sunday'\n",
    "cond2 = df_weekend['공급요일']=='Saturday'\n",
    "# 귀무 : 두 집단(토요일과 일요일)의 구매금액의 평균의 차이가 없다.\n",
    "# 대립 : 두 집단(토요일과 일요일)의 구매금액의 평균의 차이가 있다.\n",
    "stats.ranksums(df_weekend.loc[cond1]['구매금액'], df_weekend.loc[cond2]['구매금액'] )\n",
    "# P.value < 0.05 / 대립가설 참 "
   ]
  },
  {
   "cell_type": "markdown",
   "id": "b8564002",
   "metadata": {},
   "source": [
    "**유통 데이터 전처리**"
   ]
  },
  {
   "cell_type": "code",
   "execution_count": 35,
   "id": "e1f1379b",
   "metadata": {
    "collapsed": true
   },
   "outputs": [
    {
     "data": {
      "text/html": [
       "<div>\n",
       "<style scoped>\n",
       "    .dataframe tbody tr th:only-of-type {\n",
       "        vertical-align: middle;\n",
       "    }\n",
       "\n",
       "    .dataframe tbody tr th {\n",
       "        vertical-align: top;\n",
       "    }\n",
       "\n",
       "    .dataframe thead th {\n",
       "        text-align: right;\n",
       "    }\n",
       "</style>\n",
       "<table border=\"1\" class=\"dataframe\">\n",
       "  <thead>\n",
       "    <tr style=\"text-align: right;\">\n",
       "      <th></th>\n",
       "      <th>구분</th>\n",
       "      <th>카테고리명</th>\n",
       "      <th>자재그룹</th>\n",
       "      <th>자재그룹명</th>\n",
       "      <th>제품명</th>\n",
       "      <th>단위</th>\n",
       "      <th>판매</th>\n",
       "      <th>2019-12-01 00:00:00</th>\n",
       "      <th>2020-10-01 00:00:00</th>\n",
       "      <th>2020-11-01 00:00:00</th>\n",
       "      <th>...</th>\n",
       "      <th>2019-12-01 00:00:00.2</th>\n",
       "      <th>2020-10-01 00:00:00.2</th>\n",
       "      <th>2020-11-01 00:00:00.2</th>\n",
       "      <th>2020-12-01 00:00:00.2</th>\n",
       "      <th>2019-12-01 00:00:00.3</th>\n",
       "      <th>2020-10-01 00:00:00.3</th>\n",
       "      <th>2020-11-01 00:00:00.3</th>\n",
       "      <th>2020-12-01 00:00:00.3</th>\n",
       "      <th>안전재고</th>\n",
       "      <th>분류</th>\n",
       "    </tr>\n",
       "  </thead>\n",
       "  <tbody>\n",
       "    <tr>\n",
       "      <th>0</th>\n",
       "      <td>구분</td>\n",
       "      <td>CHB</td>\n",
       "      <td>1687</td>\n",
       "      <td>친환경 바디워시</td>\n",
       "      <td>A</td>\n",
       "      <td>천원</td>\n",
       "      <td>0.0</td>\n",
       "      <td>0.0</td>\n",
       "      <td>0.0</td>\n",
       "      <td>0.0</td>\n",
       "      <td>...</td>\n",
       "      <td>98.8</td>\n",
       "      <td>0.0</td>\n",
       "      <td>0.0</td>\n",
       "      <td>0.0</td>\n",
       "      <td>98.8</td>\n",
       "      <td>0.0</td>\n",
       "      <td>0.0</td>\n",
       "      <td>0.0</td>\n",
       "      <td>0.0</td>\n",
       "      <td>E</td>\n",
       "    </tr>\n",
       "    <tr>\n",
       "      <th>1</th>\n",
       "      <td>구분</td>\n",
       "      <td>CHB</td>\n",
       "      <td>1687</td>\n",
       "      <td>친환경 바디워시</td>\n",
       "      <td>B</td>\n",
       "      <td>천원</td>\n",
       "      <td>0.0</td>\n",
       "      <td>0.0</td>\n",
       "      <td>0.0</td>\n",
       "      <td>0.0</td>\n",
       "      <td>...</td>\n",
       "      <td>393.7</td>\n",
       "      <td>0.0</td>\n",
       "      <td>0.0</td>\n",
       "      <td>0.0</td>\n",
       "      <td>393.7</td>\n",
       "      <td>0.0</td>\n",
       "      <td>0.0</td>\n",
       "      <td>0.0</td>\n",
       "      <td>0.0</td>\n",
       "      <td>E</td>\n",
       "    </tr>\n",
       "    <tr>\n",
       "      <th>2</th>\n",
       "      <td>구분</td>\n",
       "      <td>CHB</td>\n",
       "      <td>1687</td>\n",
       "      <td>친환경 바디워시</td>\n",
       "      <td>C</td>\n",
       "      <td>천원</td>\n",
       "      <td>10354.1</td>\n",
       "      <td>9474.3</td>\n",
       "      <td>9741.7</td>\n",
       "      <td>6965.7</td>\n",
       "      <td>...</td>\n",
       "      <td>6.4</td>\n",
       "      <td>0.0</td>\n",
       "      <td>6.4</td>\n",
       "      <td>0.0</td>\n",
       "      <td>9480.7</td>\n",
       "      <td>9741.7</td>\n",
       "      <td>6972.0</td>\n",
       "      <td>3368.2</td>\n",
       "      <td>0.0</td>\n",
       "      <td>A</td>\n",
       "    </tr>\n",
       "  </tbody>\n",
       "</table>\n",
       "<p>3 rows × 25 columns</p>\n",
       "</div>"
      ],
      "text/plain": [
       "   구분 카테고리명  자재그룹     자재그룹명 제품명  단위       판매  2019-12-01 00:00:00  \\\n",
       "0  구분   CHB  1687  친환경 바디워시   A  천원      0.0                  0.0   \n",
       "1  구분   CHB  1687  친환경 바디워시   B  천원      0.0                  0.0   \n",
       "2  구분   CHB  1687  친환경 바디워시   C  천원  10354.1               9474.3   \n",
       "\n",
       "   2020-10-01 00:00:00  2020-11-01 00:00:00  ...  2019-12-01 00:00:00.2  \\\n",
       "0                  0.0                  0.0  ...                   98.8   \n",
       "1                  0.0                  0.0  ...                  393.7   \n",
       "2               9741.7               6965.7  ...                    6.4   \n",
       "\n",
       "   2020-10-01 00:00:00.2  2020-11-01 00:00:00.2  2020-12-01 00:00:00.2  \\\n",
       "0                    0.0                    0.0                    0.0   \n",
       "1                    0.0                    0.0                    0.0   \n",
       "2                    0.0                    6.4                    0.0   \n",
       "\n",
       "   2019-12-01 00:00:00.3  2020-10-01 00:00:00.3  2020-11-01 00:00:00.3  \\\n",
       "0                   98.8                    0.0                    0.0   \n",
       "1                  393.7                    0.0                    0.0   \n",
       "2                 9480.7                 9741.7                 6972.0   \n",
       "\n",
       "   2020-12-01 00:00:00.3  안전재고   분류  \n",
       "0                    0.0   0.0    E  \n",
       "1                    0.0   0.0    E  \n",
       "2                 3368.2   0.0    A  \n",
       "\n",
       "[3 rows x 25 columns]"
      ]
     },
     "execution_count": 35,
     "metadata": {},
     "output_type": "execute_result"
    }
   ],
   "source": [
    "df1 = pd.read_excel('04_Data.xlsx',skiprows=1)\n",
    "df1.head(3)"
   ]
  },
  {
   "cell_type": "code",
   "execution_count": 38,
   "id": "8cd69ec7",
   "metadata": {
    "collapsed": true
   },
   "outputs": [
    {
     "data": {
      "text/plain": [
       "Index([                   '구분',                 '카테고리명',\n",
       "                        '자재그룹',                 '자재그룹명',\n",
       "                         '제품명',                    '단위',\n",
       "                          '판매',     2019-12-01 00:00:00,\n",
       "           2020-10-01 00:00:00,     2020-11-01 00:00:00,\n",
       "           2020-12-01 00:00:00, '2019-12-01 00:00:00.1',\n",
       "       '2020-10-01 00:00:00.1', '2020-11-01 00:00:00.1',\n",
       "       '2020-12-01 00:00:00.1', '2019-12-01 00:00:00.2',\n",
       "       '2020-10-01 00:00:00.2', '2020-11-01 00:00:00.2',\n",
       "       '2020-12-01 00:00:00.2', '2019-12-01 00:00:00.3',\n",
       "       '2020-10-01 00:00:00.3', '2020-11-01 00:00:00.3',\n",
       "       '2020-12-01 00:00:00.3',                  '안전재고',\n",
       "                         ' 분류'],\n",
       "      dtype='object')"
      ]
     },
     "execution_count": 38,
     "metadata": {},
     "output_type": "execute_result"
    }
   ],
   "source": [
    "df1.columns"
   ]
  },
  {
   "cell_type": "code",
   "execution_count": 41,
   "id": "4ca50c45",
   "metadata": {},
   "outputs": [
    {
     "data": {
      "text/plain": [
       "(40, 25)"
      ]
     },
     "execution_count": 41,
     "metadata": {},
     "output_type": "execute_result"
    }
   ],
   "source": [
    "df1.shape"
   ]
  },
  {
   "cell_type": "code",
   "execution_count": 42,
   "id": "ca7eeb3a",
   "metadata": {
    "collapsed": true
   },
   "outputs": [
    {
     "name": "stderr",
     "output_type": "stream",
     "text": [
      "C:\\Users\\DMC CONET\\AppData\\Local\\Temp\\ipykernel_1936\\1224670161.py:2: FutureWarning: Inferring datetime64[ns] from data containing strings is deprecated and will be removed in a future version. To retain the old behavior explicitly pass Series(data, dtype=datetime64[ns])\n",
      "  df2 = df1.melt(id_vars=['구분','카테고리명','자재그룹','자재그룹명',\n"
     ]
    }
   ],
   "source": [
    "# 재구조화 Reshape \n",
    "df2 = df1.melt(id_vars=['구분','카테고리명','자재그룹','자재그룹명',\n",
    "                        '제품명','단위','판매','안전재고',' 분류'])"
   ]
  },
  {
   "cell_type": "code",
   "execution_count": 47,
   "id": "1b3eb2fb",
   "metadata": {},
   "outputs": [],
   "source": [
    "# 항목명 변경 \n",
    "df3 = df2.rename(columns={'variable':'공급일자', 'value':'판매금액'})"
   ]
  },
  {
   "cell_type": "code",
   "execution_count": 49,
   "id": "78389783",
   "metadata": {},
   "outputs": [],
   "source": [
    "df3['공급연도'] = df3['공급일자'].dt.year"
   ]
  },
  {
   "cell_type": "code",
   "execution_count": 52,
   "id": "5e4418f4",
   "metadata": {
    "collapsed": true
   },
   "outputs": [
    {
     "data": {
      "text/html": [
       "<div>\n",
       "<style scoped>\n",
       "    .dataframe tbody tr th:only-of-type {\n",
       "        vertical-align: middle;\n",
       "    }\n",
       "\n",
       "    .dataframe tbody tr th {\n",
       "        vertical-align: top;\n",
       "    }\n",
       "\n",
       "    .dataframe thead th {\n",
       "        text-align: right;\n",
       "    }\n",
       "</style>\n",
       "<table border=\"1\" class=\"dataframe\">\n",
       "  <thead>\n",
       "    <tr style=\"text-align: right;\">\n",
       "      <th></th>\n",
       "      <th></th>\n",
       "      <th>판매금액</th>\n",
       "    </tr>\n",
       "    <tr>\n",
       "      <th>공급연도</th>\n",
       "      <th>분류</th>\n",
       "      <th></th>\n",
       "    </tr>\n",
       "  </thead>\n",
       "  <tbody>\n",
       "    <tr>\n",
       "      <th rowspan=\"9\" valign=\"top\">2019</th>\n",
       "      <th>A</th>\n",
       "      <td>356379.4</td>\n",
       "    </tr>\n",
       "    <tr>\n",
       "      <th>B</th>\n",
       "      <td>20564.1</td>\n",
       "    </tr>\n",
       "    <tr>\n",
       "      <th>E</th>\n",
       "      <td>27600.5</td>\n",
       "    </tr>\n",
       "    <tr>\n",
       "      <th>F</th>\n",
       "      <td>19498.5</td>\n",
       "    </tr>\n",
       "    <tr>\n",
       "      <th>G</th>\n",
       "      <td>1039.0</td>\n",
       "    </tr>\n",
       "    <tr>\n",
       "      <th>H</th>\n",
       "      <td>0.0</td>\n",
       "    </tr>\n",
       "    <tr>\n",
       "      <th>K</th>\n",
       "      <td>88588.6</td>\n",
       "    </tr>\n",
       "    <tr>\n",
       "      <th>L</th>\n",
       "      <td>0.0</td>\n",
       "    </tr>\n",
       "    <tr>\n",
       "      <th>M</th>\n",
       "      <td>143063.8</td>\n",
       "    </tr>\n",
       "    <tr>\n",
       "      <th rowspan=\"9\" valign=\"top\">2020</th>\n",
       "      <th>A</th>\n",
       "      <td>1448912.0</td>\n",
       "    </tr>\n",
       "    <tr>\n",
       "      <th>B</th>\n",
       "      <td>120.0</td>\n",
       "    </tr>\n",
       "    <tr>\n",
       "      <th>E</th>\n",
       "      <td>25506.2</td>\n",
       "    </tr>\n",
       "    <tr>\n",
       "      <th>F</th>\n",
       "      <td>113960.6</td>\n",
       "    </tr>\n",
       "    <tr>\n",
       "      <th>G</th>\n",
       "      <td>25810.2</td>\n",
       "    </tr>\n",
       "    <tr>\n",
       "      <th>H</th>\n",
       "      <td>52900.4</td>\n",
       "    </tr>\n",
       "    <tr>\n",
       "      <th>K</th>\n",
       "      <td>105500.9</td>\n",
       "    </tr>\n",
       "    <tr>\n",
       "      <th>L</th>\n",
       "      <td>107632.8</td>\n",
       "    </tr>\n",
       "    <tr>\n",
       "      <th>M</th>\n",
       "      <td>296561.9</td>\n",
       "    </tr>\n",
       "  </tbody>\n",
       "</table>\n",
       "</div>"
      ],
      "text/plain": [
       "               판매금액\n",
       "공급연도  분류           \n",
       "2019 A     356379.4\n",
       "     B      20564.1\n",
       "     E      27600.5\n",
       "     F      19498.5\n",
       "     G       1039.0\n",
       "     H          0.0\n",
       "     K      88588.6\n",
       "     L          0.0\n",
       "     M     143063.8\n",
       "2020 A    1448912.0\n",
       "     B        120.0\n",
       "     E      25506.2\n",
       "     F     113960.6\n",
       "     G      25810.2\n",
       "     H      52900.4\n",
       "     K     105500.9\n",
       "     L     107632.8\n",
       "     M     296561.9"
      ]
     },
     "execution_count": 52,
     "metadata": {},
     "output_type": "execute_result"
    }
   ],
   "source": [
    "df3.pivot_table(index=['공급연도',' 분류'], values='판매금액', aggfunc='sum')"
   ]
  },
  {
   "cell_type": "code",
   "execution_count": 57,
   "id": "2bf06478",
   "metadata": {
    "collapsed": true
   },
   "outputs": [
    {
     "data": {
      "text/html": [
       "<div>\n",
       "<style scoped>\n",
       "    .dataframe tbody tr th:only-of-type {\n",
       "        vertical-align: middle;\n",
       "    }\n",
       "\n",
       "    .dataframe tbody tr th {\n",
       "        vertical-align: top;\n",
       "    }\n",
       "\n",
       "    .dataframe thead th {\n",
       "        text-align: right;\n",
       "    }\n",
       "</style>\n",
       "<table border=\"1\" class=\"dataframe\">\n",
       "  <thead>\n",
       "    <tr style=\"text-align: right;\">\n",
       "      <th>공급연도</th>\n",
       "      <th>분류</th>\n",
       "      <th>2019</th>\n",
       "      <th>2020</th>\n",
       "      <th>전년대비증감액</th>\n",
       "    </tr>\n",
       "  </thead>\n",
       "  <tbody>\n",
       "    <tr>\n",
       "      <th>0</th>\n",
       "      <td>A</td>\n",
       "      <td>356379.4</td>\n",
       "      <td>1448912.0</td>\n",
       "      <td>3.065645</td>\n",
       "    </tr>\n",
       "    <tr>\n",
       "      <th>1</th>\n",
       "      <td>B</td>\n",
       "      <td>20564.1</td>\n",
       "      <td>120.0</td>\n",
       "      <td>-0.994165</td>\n",
       "    </tr>\n",
       "    <tr>\n",
       "      <th>2</th>\n",
       "      <td>E</td>\n",
       "      <td>27600.5</td>\n",
       "      <td>25506.2</td>\n",
       "      <td>-0.075879</td>\n",
       "    </tr>\n",
       "    <tr>\n",
       "      <th>3</th>\n",
       "      <td>F</td>\n",
       "      <td>19498.5</td>\n",
       "      <td>113960.6</td>\n",
       "      <td>4.844583</td>\n",
       "    </tr>\n",
       "    <tr>\n",
       "      <th>4</th>\n",
       "      <td>G</td>\n",
       "      <td>1039.0</td>\n",
       "      <td>25810.2</td>\n",
       "      <td>23.841386</td>\n",
       "    </tr>\n",
       "    <tr>\n",
       "      <th>5</th>\n",
       "      <td>H</td>\n",
       "      <td>0.0</td>\n",
       "      <td>52900.4</td>\n",
       "      <td>inf</td>\n",
       "    </tr>\n",
       "    <tr>\n",
       "      <th>6</th>\n",
       "      <td>K</td>\n",
       "      <td>88588.6</td>\n",
       "      <td>105500.9</td>\n",
       "      <td>0.190908</td>\n",
       "    </tr>\n",
       "    <tr>\n",
       "      <th>7</th>\n",
       "      <td>L</td>\n",
       "      <td>0.0</td>\n",
       "      <td>107632.8</td>\n",
       "      <td>inf</td>\n",
       "    </tr>\n",
       "    <tr>\n",
       "      <th>8</th>\n",
       "      <td>M</td>\n",
       "      <td>143063.8</td>\n",
       "      <td>296561.9</td>\n",
       "      <td>1.072935</td>\n",
       "    </tr>\n",
       "  </tbody>\n",
       "</table>\n",
       "</div>"
      ],
      "text/plain": [
       "공급연도  분류      2019       2020    전년대비증감액\n",
       "0      A  356379.4  1448912.0   3.065645\n",
       "1      B   20564.1      120.0  -0.994165\n",
       "2      E   27600.5    25506.2  -0.075879\n",
       "3      F   19498.5   113960.6   4.844583\n",
       "4      G    1039.0    25810.2  23.841386\n",
       "5      H       0.0    52900.4        inf\n",
       "6      K   88588.6   105500.9   0.190908\n",
       "7      L       0.0   107632.8        inf\n",
       "8      M  143063.8   296561.9   1.072935"
      ]
     },
     "execution_count": 57,
     "metadata": {},
     "output_type": "execute_result"
    }
   ],
   "source": [
    "p1 = df3.pivot_table(index=' 분류',columns='공급연도', \n",
    "                    values='판매금액',aggfunc='sum').reset_index()\n",
    "p1['전년대비증감액'] = (p1[2020] - p1[2019]) / p1[2019]\n",
    "p1"
   ]
  },
  {
   "cell_type": "markdown",
   "id": "6e0e7d2d",
   "metadata": {},
   "source": [
    "# Mission 4 \n",
    "**해당 데이터를 이용해 아래와 같은 분석을 실시하고자 한다** \n",
    "1) df3 데이터에서 '판매금액'이 가장높은 '제품명' 2가지를 확인하고, 2가지 제품의 '판매금액'의 평균의 차이가 있는지 가설검정 수행  \n",
    "\n",
    "2) df3 데이터에서 ' 분류'에 따른 '판매금액'의 합을 계산하고, Plotly 라이브러리를 이용해 막대그래프로 시각화 \n",
    "\n",
    "**03_Data.csv 데이터 (Web 추출된 트래픽 데이터)** \n",
    "3) 03_Data.csv를 불러와 df4 로 선언하고, 데이터의 구조와 타입을 확인 \n",
    "4) df4데이터의 '프로그램'항목의 종류와 빈도수를 확인 \n",
    "5) df4데이터의 '채널'별 '최종결제금액'의 합을 계산 \n",
    "6) df4데이터에서 '결제시각'데이터를 이용해 '결제일자_dt'의 항목명으로 날짜타입의 파생변수를 생성 \n",
    "    - apply( )  -> '결제시각'데이터에서 결제일자와 결제시간을 분리 후 날짜형태로 변환\n",
    "    - split 함수 활용 또는 문자열 Indexing 활용  \n",
    "7) 'facebook'으로 유입된 고객들과 'naver'로 유입된 고객들의 '최종결제금액'의 평균의 차이가 있는지 시각화 / 가설검정 \n",
    "8) 'facebook'으로 유입된 고객들 중, '최종결제금액'이 가장 높은 상위 10명의 명단을 추출하여 result1_facebook.xlsx 로 저장 "
   ]
  },
  {
   "cell_type": "code",
   "execution_count": 65,
   "id": "49fbae4e",
   "metadata": {
    "collapsed": true
   },
   "outputs": [
    {
     "name": "stdout",
     "output_type": "stream",
     "text": [
      "<class 'pandas.core.frame.DataFrame'>\n",
      "RangeIndex: 10000 entries, 0 to 9999\n",
      "Data columns (total 10 columns):\n",
      " #   Column      Non-Null Count  Dtype \n",
      "---  ------      --------------  ----- \n",
      " 0   회원코드        10000 non-null  object\n",
      " 1   프로그램        10000 non-null  object\n",
      " 2   상태          10000 non-null  object\n",
      " 3   프로그램가격      10000 non-null  int64 \n",
      " 4   최종결제금액      10000 non-null  int64 \n",
      " 5   결제시각        10000 non-null  object\n",
      " 6   결제유형        10000 non-null  object\n",
      " 7   채널          10000 non-null  object\n",
      " 8   보조식품가격      10000 non-null  int64 \n",
      " 9   보조식품(추가구매)  10000 non-null  object\n",
      "dtypes: int64(3), object(7)\n",
      "memory usage: 781.4+ KB\n"
     ]
    }
   ],
   "source": [
    "df4 = pd.read_csv('03_Data.csv')\n",
    "df4.info()"
   ]
  },
  {
   "cell_type": "code",
   "execution_count": 66,
   "id": "a2e7a970",
   "metadata": {
    "collapsed": true
   },
   "outputs": [
    {
     "data": {
      "text/plain": [
       "체중감량 프로그램 (타입 A)    6672\n",
       "체중감량 프로그램 (타입B)     3328\n",
       "Name: 프로그램, dtype: int64"
      ]
     },
     "execution_count": 66,
     "metadata": {},
     "output_type": "execute_result"
    }
   ],
   "source": [
    "df4['프로그램'].value_counts()"
   ]
  },
  {
   "cell_type": "code",
   "execution_count": 67,
   "id": "29b29f88",
   "metadata": {
    "collapsed": true
   },
   "outputs": [
    {
     "data": {
      "text/html": [
       "<div>\n",
       "<style scoped>\n",
       "    .dataframe tbody tr th:only-of-type {\n",
       "        vertical-align: middle;\n",
       "    }\n",
       "\n",
       "    .dataframe tbody tr th {\n",
       "        vertical-align: top;\n",
       "    }\n",
       "\n",
       "    .dataframe thead th {\n",
       "        text-align: right;\n",
       "    }\n",
       "</style>\n",
       "<table border=\"1\" class=\"dataframe\">\n",
       "  <thead>\n",
       "    <tr style=\"text-align: right;\">\n",
       "      <th></th>\n",
       "      <th>최종결제금액</th>\n",
       "    </tr>\n",
       "    <tr>\n",
       "      <th>채널</th>\n",
       "      <th></th>\n",
       "    </tr>\n",
       "  </thead>\n",
       "  <tbody>\n",
       "    <tr>\n",
       "      <th>direct</th>\n",
       "      <td>31337160</td>\n",
       "    </tr>\n",
       "    <tr>\n",
       "      <th>email</th>\n",
       "      <td>30655080</td>\n",
       "    </tr>\n",
       "    <tr>\n",
       "      <th>facebook</th>\n",
       "      <td>825136460</td>\n",
       "    </tr>\n",
       "    <tr>\n",
       "      <th>google</th>\n",
       "      <td>12663480</td>\n",
       "    </tr>\n",
       "    <tr>\n",
       "      <th>instagram</th>\n",
       "      <td>3562620</td>\n",
       "    </tr>\n",
       "    <tr>\n",
       "      <th>naver</th>\n",
       "      <td>111491750</td>\n",
       "    </tr>\n",
       "    <tr>\n",
       "      <th>others</th>\n",
       "      <td>149349690</td>\n",
       "    </tr>\n",
       "  </tbody>\n",
       "</table>\n",
       "</div>"
      ],
      "text/plain": [
       "              최종결제금액\n",
       "채널                  \n",
       "direct      31337160\n",
       "email       30655080\n",
       "facebook   825136460\n",
       "google      12663480\n",
       "instagram    3562620\n",
       "naver      111491750\n",
       "others     149349690"
      ]
     },
     "execution_count": 67,
     "metadata": {},
     "output_type": "execute_result"
    }
   ],
   "source": [
    "df4.pivot_table(index='채널',values='최종결제금액',aggfunc='sum')"
   ]
  },
  {
   "cell_type": "code",
   "execution_count": 78,
   "id": "ae0a7cc9",
   "metadata": {
    "collapsed": true
   },
   "outputs": [
    {
     "data": {
      "text/plain": [
       "0        2017-04-14 PM 7:03:29.976000\n",
       "1        2017-05-23 PM 8:53:54.368000\n",
       "2       2017-08-23 PM 11:39:21.840000\n",
       "3        2017-08-28 PM 8:18:22.824000\n",
       "4        2017-05-07 PM 5:50:30.944000\n",
       "                    ...              \n",
       "9995    2017-04-18 AM 12:43:58.104000\n",
       "9996    2017-08-16 AM 10:03:10.136000\n",
       "9997    2017-08-09 AM 11:47:55.408000\n",
       "9998     2017-04-28 AM 7:05:19.776000\n",
       "9999    2017-06-02 AM 10:16:34.576000\n",
       "Name: 결제시각, Length: 10000, dtype: object"
      ]
     },
     "execution_count": 78,
     "metadata": {},
     "output_type": "execute_result"
    }
   ],
   "source": [
    "def func_date(data):\n",
    "    return data.replace('오후','PM').replace('오전','AM')\n",
    "\n",
    "df4['결제시각'].apply(func_date)"
   ]
  },
  {
   "cell_type": "code",
   "execution_count": 81,
   "id": "3dd20602",
   "metadata": {},
   "outputs": [],
   "source": [
    "def func_date(data):\n",
    "    return data.split(' ')[0]\n",
    "\n",
    "df4['결제시각_dt']= pd.to_datetime(df4['결제시각'].apply(func_date))"
   ]
  },
  {
   "cell_type": "code",
   "execution_count": 86,
   "id": "0e476718",
   "metadata": {},
   "outputs": [],
   "source": [
    "df4['결제월'] = df4['결제시각_dt'].dt.month"
   ]
  },
  {
   "cell_type": "code",
   "execution_count": 92,
   "id": "00eb160e",
   "metadata": {
    "collapsed": true
   },
   "outputs": [
    {
     "data": {
      "text/html": [
       "<div>\n",
       "<style scoped>\n",
       "    .dataframe tbody tr th:only-of-type {\n",
       "        vertical-align: middle;\n",
       "    }\n",
       "\n",
       "    .dataframe tbody tr th {\n",
       "        vertical-align: top;\n",
       "    }\n",
       "\n",
       "    .dataframe thead th {\n",
       "        text-align: right;\n",
       "    }\n",
       "</style>\n",
       "<table border=\"1\" class=\"dataframe\">\n",
       "  <thead>\n",
       "    <tr style=\"text-align: right;\">\n",
       "      <th>결제월</th>\n",
       "      <th>3</th>\n",
       "      <th>4</th>\n",
       "      <th>5</th>\n",
       "      <th>6</th>\n",
       "      <th>7</th>\n",
       "      <th>8</th>\n",
       "      <th>All</th>\n",
       "    </tr>\n",
       "    <tr>\n",
       "      <th>채널</th>\n",
       "      <th></th>\n",
       "      <th></th>\n",
       "      <th></th>\n",
       "      <th></th>\n",
       "      <th></th>\n",
       "      <th></th>\n",
       "      <th></th>\n",
       "    </tr>\n",
       "  </thead>\n",
       "  <tbody>\n",
       "    <tr>\n",
       "      <th>direct</th>\n",
       "      <td>399400</td>\n",
       "      <td>3414800</td>\n",
       "      <td>6498760</td>\n",
       "      <td>8999600</td>\n",
       "      <td>3647400</td>\n",
       "      <td>8377200</td>\n",
       "      <td>31337160</td>\n",
       "    </tr>\n",
       "    <tr>\n",
       "      <th>email</th>\n",
       "      <td>900000</td>\n",
       "      <td>382280</td>\n",
       "      <td>1737500</td>\n",
       "      <td>5186000</td>\n",
       "      <td>3962500</td>\n",
       "      <td>18486800</td>\n",
       "      <td>30655080</td>\n",
       "    </tr>\n",
       "    <tr>\n",
       "      <th>facebook</th>\n",
       "      <td>59870220</td>\n",
       "      <td>85489940</td>\n",
       "      <td>107208000</td>\n",
       "      <td>134737800</td>\n",
       "      <td>135546900</td>\n",
       "      <td>302283600</td>\n",
       "      <td>825136460</td>\n",
       "    </tr>\n",
       "    <tr>\n",
       "      <th>google</th>\n",
       "      <td>0</td>\n",
       "      <td>1233620</td>\n",
       "      <td>4333860</td>\n",
       "      <td>3271000</td>\n",
       "      <td>1350000</td>\n",
       "      <td>2475000</td>\n",
       "      <td>12663480</td>\n",
       "    </tr>\n",
       "    <tr>\n",
       "      <th>instagram</th>\n",
       "      <td>0</td>\n",
       "      <td>44780</td>\n",
       "      <td>1942840</td>\n",
       "      <td>562500</td>\n",
       "      <td>1012500</td>\n",
       "      <td>0</td>\n",
       "      <td>3562620</td>\n",
       "    </tr>\n",
       "    <tr>\n",
       "      <th>naver</th>\n",
       "      <td>450000</td>\n",
       "      <td>9799330</td>\n",
       "      <td>24099020</td>\n",
       "      <td>23848400</td>\n",
       "      <td>21354500</td>\n",
       "      <td>31940500</td>\n",
       "      <td>111491750</td>\n",
       "    </tr>\n",
       "    <tr>\n",
       "      <th>others</th>\n",
       "      <td>5959580</td>\n",
       "      <td>32975890</td>\n",
       "      <td>39757320</td>\n",
       "      <td>27339800</td>\n",
       "      <td>11490900</td>\n",
       "      <td>31826200</td>\n",
       "      <td>149349690</td>\n",
       "    </tr>\n",
       "    <tr>\n",
       "      <th>All</th>\n",
       "      <td>67579200</td>\n",
       "      <td>133340640</td>\n",
       "      <td>185577300</td>\n",
       "      <td>203945100</td>\n",
       "      <td>178364700</td>\n",
       "      <td>395389300</td>\n",
       "      <td>1164196240</td>\n",
       "    </tr>\n",
       "  </tbody>\n",
       "</table>\n",
       "</div>"
      ],
      "text/plain": [
       "결제월               3          4          5          6          7          8  \\\n",
       "채널                                                                           \n",
       "direct       399400    3414800    6498760    8999600    3647400    8377200   \n",
       "email        900000     382280    1737500    5186000    3962500   18486800   \n",
       "facebook   59870220   85489940  107208000  134737800  135546900  302283600   \n",
       "google            0    1233620    4333860    3271000    1350000    2475000   \n",
       "instagram         0      44780    1942840     562500    1012500          0   \n",
       "naver        450000    9799330   24099020   23848400   21354500   31940500   \n",
       "others      5959580   32975890   39757320   27339800   11490900   31826200   \n",
       "All        67579200  133340640  185577300  203945100  178364700  395389300   \n",
       "\n",
       "결제월               All  \n",
       "채널                     \n",
       "direct       31337160  \n",
       "email        30655080  \n",
       "facebook    825136460  \n",
       "google       12663480  \n",
       "instagram     3562620  \n",
       "naver       111491750  \n",
       "others      149349690  \n",
       "All        1164196240  "
      ]
     },
     "execution_count": 92,
     "metadata": {},
     "output_type": "execute_result"
    }
   ],
   "source": [
    "# 채널에 따른 월별 최종결제금액 합 (매출)\n",
    "df4.pivot_table(index='채널', columns='결제월',values='최종결제금액',\n",
    "                aggfunc='sum', margins = True, fill_value=0)"
   ]
  },
  {
   "cell_type": "code",
   "execution_count": 94,
   "id": "457b65f9",
   "metadata": {
    "collapsed": true
   },
   "outputs": [
    {
     "name": "stdout",
     "output_type": "stream",
     "text": [
      "Help on function pivot_table in module pandas.core.reshape.pivot:\n",
      "\n",
      "pivot_table(data: 'DataFrame', values=None, index=None, columns=None, aggfunc: 'AggFuncType' = 'mean', fill_value=None, margins: 'bool' = False, dropna: 'bool' = True, margins_name: 'str' = 'All', observed: 'bool' = False, sort: 'bool' = True) -> 'DataFrame'\n",
      "    Create a spreadsheet-style pivot table as a DataFrame.\n",
      "    \n",
      "    The levels in the pivot table will be stored in MultiIndex objects\n",
      "    (hierarchical indexes) on the index and columns of the result DataFrame.\n",
      "    \n",
      "    Parameters\n",
      "    ----------\n",
      "    data : DataFrame\n",
      "    values : column to aggregate, optional\n",
      "    index : column, Grouper, array, or list of the previous\n",
      "        If an array is passed, it must be the same length as the data. The\n",
      "        list can contain any of the other types (except list).\n",
      "        Keys to group by on the pivot table index.  If an array is passed,\n",
      "        it is being used as the same manner as column values.\n",
      "    columns : column, Grouper, array, or list of the previous\n",
      "        If an array is passed, it must be the same length as the data. The\n",
      "        list can contain any of the other types (except list).\n",
      "        Keys to group by on the pivot table column.  If an array is passed,\n",
      "        it is being used as the same manner as column values.\n",
      "    aggfunc : function, list of functions, dict, default numpy.mean\n",
      "        If list of functions passed, the resulting pivot table will have\n",
      "        hierarchical columns whose top level are the function names\n",
      "        (inferred from the function objects themselves)\n",
      "        If dict is passed, the key is column to aggregate and value\n",
      "        is function or list of functions.\n",
      "    fill_value : scalar, default None\n",
      "        Value to replace missing values with (in the resulting pivot table,\n",
      "        after aggregation).\n",
      "    margins : bool, default False\n",
      "        Add all row / columns (e.g. for subtotal / grand totals).\n",
      "    dropna : bool, default True\n",
      "        Do not include columns whose entries are all NaN.\n",
      "    margins_name : str, default 'All'\n",
      "        Name of the row / column that will contain the totals\n",
      "        when margins is True.\n",
      "    observed : bool, default False\n",
      "        This only applies if any of the groupers are Categoricals.\n",
      "        If True: only show observed values for categorical groupers.\n",
      "        If False: show all values for categorical groupers.\n",
      "    \n",
      "        .. versionchanged:: 0.25.0\n",
      "    \n",
      "    sort : bool, default True\n",
      "        Specifies if the result should be sorted.\n",
      "    \n",
      "        .. versionadded:: 1.3.0\n",
      "    \n",
      "    Returns\n",
      "    -------\n",
      "    DataFrame\n",
      "        An Excel style pivot table.\n",
      "    \n",
      "    See Also\n",
      "    --------\n",
      "    DataFrame.pivot : Pivot without aggregation that can handle\n",
      "        non-numeric data.\n",
      "    DataFrame.melt: Unpivot a DataFrame from wide to long format,\n",
      "        optionally leaving identifiers set.\n",
      "    wide_to_long : Wide panel to long format. Less flexible but more\n",
      "        user-friendly than melt.\n",
      "    \n",
      "    Notes\n",
      "    -----\n",
      "    Reference :ref:`the user guide <reshaping.pivot>` for more examples.\n",
      "    \n",
      "    Examples\n",
      "    --------\n",
      "    >>> df = pd.DataFrame({\"A\": [\"foo\", \"foo\", \"foo\", \"foo\", \"foo\",\n",
      "    ...                          \"bar\", \"bar\", \"bar\", \"bar\"],\n",
      "    ...                    \"B\": [\"one\", \"one\", \"one\", \"two\", \"two\",\n",
      "    ...                          \"one\", \"one\", \"two\", \"two\"],\n",
      "    ...                    \"C\": [\"small\", \"large\", \"large\", \"small\",\n",
      "    ...                          \"small\", \"large\", \"small\", \"small\",\n",
      "    ...                          \"large\"],\n",
      "    ...                    \"D\": [1, 2, 2, 3, 3, 4, 5, 6, 7],\n",
      "    ...                    \"E\": [2, 4, 5, 5, 6, 6, 8, 9, 9]})\n",
      "    >>> df\n",
      "         A    B      C  D  E\n",
      "    0  foo  one  small  1  2\n",
      "    1  foo  one  large  2  4\n",
      "    2  foo  one  large  2  5\n",
      "    3  foo  two  small  3  5\n",
      "    4  foo  two  small  3  6\n",
      "    5  bar  one  large  4  6\n",
      "    6  bar  one  small  5  8\n",
      "    7  bar  two  small  6  9\n",
      "    8  bar  two  large  7  9\n",
      "    \n",
      "    This first example aggregates values by taking the sum.\n",
      "    \n",
      "    >>> table = pd.pivot_table(df, values='D', index=['A', 'B'],\n",
      "    ...                     columns=['C'], aggfunc=np.sum)\n",
      "    >>> table\n",
      "    C        large  small\n",
      "    A   B\n",
      "    bar one    4.0    5.0\n",
      "        two    7.0    6.0\n",
      "    foo one    4.0    1.0\n",
      "        two    NaN    6.0\n",
      "    \n",
      "    We can also fill missing values using the `fill_value` parameter.\n",
      "    \n",
      "    >>> table = pd.pivot_table(df, values='D', index=['A', 'B'],\n",
      "    ...                     columns=['C'], aggfunc=np.sum, fill_value=0)\n",
      "    >>> table\n",
      "    C        large  small\n",
      "    A   B\n",
      "    bar one      4      5\n",
      "        two      7      6\n",
      "    foo one      4      1\n",
      "        two      0      6\n",
      "    \n",
      "    The next example aggregates by taking the mean across multiple columns.\n",
      "    \n",
      "    >>> table = pd.pivot_table(df, values=['D', 'E'], index=['A', 'C'],\n",
      "    ...                     aggfunc={'D': np.mean,\n",
      "    ...                              'E': np.mean})\n",
      "    >>> table\n",
      "                    D         E\n",
      "    A   C\n",
      "    bar large  5.500000  7.500000\n",
      "        small  5.500000  8.500000\n",
      "    foo large  2.000000  4.500000\n",
      "        small  2.333333  4.333333\n",
      "    \n",
      "    We can also calculate multiple types of aggregations for any given\n",
      "    value column.\n",
      "    \n",
      "    >>> table = pd.pivot_table(df, values=['D', 'E'], index=['A', 'C'],\n",
      "    ...                     aggfunc={'D': np.mean,\n",
      "    ...                              'E': [min, max, np.mean]})\n",
      "    >>> table\n",
      "                      D   E\n",
      "                   mean max      mean  min\n",
      "    A   C\n",
      "    bar large  5.500000   9  7.500000    6\n",
      "        small  5.500000   9  8.500000    8\n",
      "    foo large  2.000000   5  4.500000    4\n",
      "        small  2.333333   6  4.333333    2\n",
      "\n"
     ]
    }
   ],
   "source": [
    "help(pd.pivot_table) # 함수 설명 "
   ]
  },
  {
   "cell_type": "markdown",
   "id": "0a768db8",
   "metadata": {},
   "source": [
    "# 제조 공정/ 품질 데이터 분석 \n",
    "\n",
    "- 공정 데이터 분석 : Q (Quality, 품질) / C (Cost, 비용) / D (Delivery, 납기) \n",
    "- **Q (Quality, 품질)** : 제품 생산 및 품질 검사에서 나오는 데이터를 이용해 품질을 향상시키기 위한 개선작업 \n",
    "- QC7 (Quality Control 7) : 적정 수준의 품질을 관리하기 위한, 데이터로 부터 확인하는 7가지 도구 \n",
    "    - 1) 특성요인도 (Fish Bone Chart) : 결과(특성 / 품질관련지표)에 어떤 요인(원인 / 재료/근무자/설비/방법)이 작용하는지 그래프로 표현 \n",
    "        ( 4M : Man / Material / Machine / Method) \n",
    "    - 2) 관리 항목 (Check Sheet) : 품질에 영향을 주는 주 항목들을 범주형 항목별로 구분하여 정리한 표 (점검용/기록용) \n",
    "    - 3) 층별화 (Stratification) : 데이터를 특성에 따라 나누어 통계량을 확인\n",
    "    - **4) 히스토그램 (Histogram)** : 공정 작업/ 품질검사에서 발생하는 연속형 자료들의 분포를 확인 -> 이상치 (Outlier) 판단하기 위해 시각화 \n",
    "    - **5) 산점도 (Scatter Chart)** : 공정에서 발생하는 주요 인자들 간의 상관관계를 좌표평면 위의 점 형태로 표현한 그래프 \n",
    "    - **6) 파레토도표 (Pareto Plot)** : 공장에서 발생하는 주 핵심 지표(결점수 / 불량수/ VOC /...) 막대그래프 (빈도수) + 선그래프 (누적확률)  \n",
    "        - 파레토 법칙 : 전체 80% 결과는 20%의 원인에 의해 발생된다. \n",
    "    - **7) 관리도 (Control Chart)** : 공정이나 품질에서 발생하는 데이터의 이상치를 확인하고 빠르게 조치하기 위해 사용하는 시각화 기법 "
   ]
  },
  {
   "cell_type": "code",
   "execution_count": 96,
   "id": "e0de5fde",
   "metadata": {
    "collapsed": true
   },
   "outputs": [
    {
     "data": {
      "text/html": [
       "<div>\n",
       "<style scoped>\n",
       "    .dataframe tbody tr th:only-of-type {\n",
       "        vertical-align: middle;\n",
       "    }\n",
       "\n",
       "    .dataframe tbody tr th {\n",
       "        vertical-align: top;\n",
       "    }\n",
       "\n",
       "    .dataframe thead th {\n",
       "        text-align: right;\n",
       "    }\n",
       "</style>\n",
       "<table border=\"1\" class=\"dataframe\">\n",
       "  <thead>\n",
       "    <tr style=\"text-align: right;\">\n",
       "      <th></th>\n",
       "      <th>메세지</th>\n",
       "      <th>발생시간</th>\n",
       "      <th>조치시간</th>\n",
       "      <th>정지시간</th>\n",
       "      <th>정지시간2</th>\n",
       "      <th>모델</th>\n",
       "      <th>제품두께</th>\n",
       "      <th>제품싸이즈</th>\n",
       "      <th>작업구분</th>\n",
       "      <th>작업자</th>\n",
       "      <th>온도</th>\n",
       "      <th>습도</th>\n",
       "    </tr>\n",
       "  </thead>\n",
       "  <tbody>\n",
       "    <tr>\n",
       "      <th>0</th>\n",
       "      <td>e-CIM 관련에러</td>\n",
       "      <td>2015-06-17T07:32:42</td>\n",
       "      <td>2015-06-17T07:32:54</td>\n",
       "      <td>0시 00분 12초</td>\n",
       "      <td>11.970</td>\n",
       "      <td>78FBGA 7.5x11 CGHB08154 REV.1</td>\n",
       "      <td>0.25</td>\n",
       "      <td>415-515</td>\n",
       "      <td>야간</td>\n",
       "      <td>이은미</td>\n",
       "      <td>22.5</td>\n",
       "      <td>47.3</td>\n",
       "    </tr>\n",
       "    <tr>\n",
       "      <th>1</th>\n",
       "      <td>Door Open</td>\n",
       "      <td>2015-06-17T07:32:42</td>\n",
       "      <td>2015-06-17T07:32:54</td>\n",
       "      <td>0시 00분 12초</td>\n",
       "      <td>11.970</td>\n",
       "      <td>78FBGA 7.5x11 CGHB08154 REV.1</td>\n",
       "      <td>0.25</td>\n",
       "      <td>415-515</td>\n",
       "      <td>야간</td>\n",
       "      <td>이은미</td>\n",
       "      <td>22.5</td>\n",
       "      <td>47.3</td>\n",
       "    </tr>\n",
       "    <tr>\n",
       "      <th>2</th>\n",
       "      <td>롯트 종료</td>\n",
       "      <td>2015-06-17T07:33:00</td>\n",
       "      <td>2015-06-17T07:33:05</td>\n",
       "      <td>0시 00분 04초</td>\n",
       "      <td>4.093</td>\n",
       "      <td>78FBGA 7.5x11 CGHB08154 REV.2</td>\n",
       "      <td>1.25</td>\n",
       "      <td>415-516</td>\n",
       "      <td>야간</td>\n",
       "      <td>이은미</td>\n",
       "      <td>22.5</td>\n",
       "      <td>47.3</td>\n",
       "    </tr>\n",
       "    <tr>\n",
       "      <th>3</th>\n",
       "      <td>Door Open</td>\n",
       "      <td>2015-06-17T07:36:25</td>\n",
       "      <td>2015-06-17T07:36:29</td>\n",
       "      <td>0시 00분 04초</td>\n",
       "      <td>4.093</td>\n",
       "      <td>78FBGA 7.5x11 CGHB08154 REV.3</td>\n",
       "      <td>2.25</td>\n",
       "      <td>415-517</td>\n",
       "      <td>야간</td>\n",
       "      <td>이은미</td>\n",
       "      <td>22.5</td>\n",
       "      <td>47.3</td>\n",
       "    </tr>\n",
       "    <tr>\n",
       "      <th>4</th>\n",
       "      <td>Door Open</td>\n",
       "      <td>2015-06-17T07:37:54</td>\n",
       "      <td>2015-06-17T07:41:58</td>\n",
       "      <td>0시 04분 04초</td>\n",
       "      <td>244.350</td>\n",
       "      <td>78FBGA 7.5x11 CGHB08154 REV.4</td>\n",
       "      <td>3.25</td>\n",
       "      <td>415-518</td>\n",
       "      <td>야간</td>\n",
       "      <td>이은미</td>\n",
       "      <td>22.5</td>\n",
       "      <td>47.3</td>\n",
       "    </tr>\n",
       "    <tr>\n",
       "      <th>...</th>\n",
       "      <td>...</td>\n",
       "      <td>...</td>\n",
       "      <td>...</td>\n",
       "      <td>...</td>\n",
       "      <td>...</td>\n",
       "      <td>...</td>\n",
       "      <td>...</td>\n",
       "      <td>...</td>\n",
       "      <td>...</td>\n",
       "      <td>...</td>\n",
       "      <td>...</td>\n",
       "      <td>...</td>\n",
       "    </tr>\n",
       "    <tr>\n",
       "      <th>2787</th>\n",
       "      <td>메가진 Full</td>\n",
       "      <td>2015-06-24T12:24:04</td>\n",
       "      <td>2015-06-24T12:28:17</td>\n",
       "      <td>0시 04분 13초</td>\n",
       "      <td>252.560</td>\n",
       "      <td>NaN</td>\n",
       "      <td>NaN</td>\n",
       "      <td>NaN</td>\n",
       "      <td>주간</td>\n",
       "      <td>NaN</td>\n",
       "      <td>22.5</td>\n",
       "      <td>47.3</td>\n",
       "    </tr>\n",
       "    <tr>\n",
       "      <th>2788</th>\n",
       "      <td>Door Open</td>\n",
       "      <td>2015-06-24T12:54:42</td>\n",
       "      <td>2015-06-24T12:55:08</td>\n",
       "      <td>0시 00분 26초</td>\n",
       "      <td>25.956</td>\n",
       "      <td>NaN</td>\n",
       "      <td>NaN</td>\n",
       "      <td>NaN</td>\n",
       "      <td>주간</td>\n",
       "      <td>NaN</td>\n",
       "      <td>22.5</td>\n",
       "      <td>47.3</td>\n",
       "    </tr>\n",
       "    <tr>\n",
       "      <th>2789</th>\n",
       "      <td>메가진 Full</td>\n",
       "      <td>2015-06-24T12:55:08</td>\n",
       "      <td>2015-06-24T12:55:16</td>\n",
       "      <td>0시 00분 08초</td>\n",
       "      <td>8.063</td>\n",
       "      <td>NaN</td>\n",
       "      <td>NaN</td>\n",
       "      <td>NaN</td>\n",
       "      <td>주간</td>\n",
       "      <td>NaN</td>\n",
       "      <td>22.5</td>\n",
       "      <td>47.3</td>\n",
       "    </tr>\n",
       "    <tr>\n",
       "      <th>2790</th>\n",
       "      <td>롯트 종료</td>\n",
       "      <td>2015-06-24T12:55:16</td>\n",
       "      <td>2015-06-24T12:55:20</td>\n",
       "      <td>0시 00분 04초</td>\n",
       "      <td>4.281</td>\n",
       "      <td>NaN</td>\n",
       "      <td>NaN</td>\n",
       "      <td>NaN</td>\n",
       "      <td>주간</td>\n",
       "      <td>NaN</td>\n",
       "      <td>22.5</td>\n",
       "      <td>47.3</td>\n",
       "    </tr>\n",
       "    <tr>\n",
       "      <th>2791</th>\n",
       "      <td>Door Open</td>\n",
       "      <td>2015-06-24T13:05:46</td>\n",
       "      <td>2015-06-24T13:05:50</td>\n",
       "      <td>0시 00분 04초</td>\n",
       "      <td>4.078</td>\n",
       "      <td>NaN</td>\n",
       "      <td>NaN</td>\n",
       "      <td>NaN</td>\n",
       "      <td>주간</td>\n",
       "      <td>NaN</td>\n",
       "      <td>22.5</td>\n",
       "      <td>47.3</td>\n",
       "    </tr>\n",
       "  </tbody>\n",
       "</table>\n",
       "<p>2792 rows × 12 columns</p>\n",
       "</div>"
      ],
      "text/plain": [
       "             메세지                 발생시간                 조치시간        정지시간  \\\n",
       "0     e-CIM 관련에러  2015-06-17T07:32:42  2015-06-17T07:32:54  0시 00분 12초   \n",
       "1      Door Open  2015-06-17T07:32:42  2015-06-17T07:32:54  0시 00분 12초   \n",
       "2          롯트 종료  2015-06-17T07:33:00  2015-06-17T07:33:05  0시 00분 04초   \n",
       "3      Door Open  2015-06-17T07:36:25  2015-06-17T07:36:29  0시 00분 04초   \n",
       "4      Door Open  2015-06-17T07:37:54  2015-06-17T07:41:58  0시 04분 04초   \n",
       "...          ...                  ...                  ...         ...   \n",
       "2787    메가진 Full  2015-06-24T12:24:04  2015-06-24T12:28:17  0시 04분 13초   \n",
       "2788   Door Open  2015-06-24T12:54:42  2015-06-24T12:55:08  0시 00분 26초   \n",
       "2789    메가진 Full  2015-06-24T12:55:08  2015-06-24T12:55:16  0시 00분 08초   \n",
       "2790       롯트 종료  2015-06-24T12:55:16  2015-06-24T12:55:20  0시 00분 04초   \n",
       "2791   Door Open  2015-06-24T13:05:46  2015-06-24T13:05:50  0시 00분 04초   \n",
       "\n",
       "        정지시간2                             모델  제품두께    제품싸이즈 작업구분  작업자    온도  \\\n",
       "0      11.970  78FBGA 7.5x11 CGHB08154 REV.1  0.25  415-515   야간  이은미  22.5   \n",
       "1      11.970  78FBGA 7.5x11 CGHB08154 REV.1  0.25  415-515   야간  이은미  22.5   \n",
       "2       4.093  78FBGA 7.5x11 CGHB08154 REV.2  1.25  415-516   야간  이은미  22.5   \n",
       "3       4.093  78FBGA 7.5x11 CGHB08154 REV.3  2.25  415-517   야간  이은미  22.5   \n",
       "4     244.350  78FBGA 7.5x11 CGHB08154 REV.4  3.25  415-518   야간  이은미  22.5   \n",
       "...       ...                            ...   ...      ...  ...  ...   ...   \n",
       "2787  252.560                            NaN   NaN      NaN   주간  NaN  22.5   \n",
       "2788   25.956                            NaN   NaN      NaN   주간  NaN  22.5   \n",
       "2789    8.063                            NaN   NaN      NaN   주간  NaN  22.5   \n",
       "2790    4.281                            NaN   NaN      NaN   주간  NaN  22.5   \n",
       "2791    4.078                            NaN   NaN      NaN   주간  NaN  22.5   \n",
       "\n",
       "        습도  \n",
       "0     47.3  \n",
       "1     47.3  \n",
       "2     47.3  \n",
       "3     47.3  \n",
       "4     47.3  \n",
       "...    ...  \n",
       "2787  47.3  \n",
       "2788  47.3  \n",
       "2789  47.3  \n",
       "2790  47.3  \n",
       "2791  47.3  \n",
       "\n",
       "[2792 rows x 12 columns]"
      ]
     },
     "execution_count": 96,
     "metadata": {},
     "output_type": "execute_result"
    }
   ],
   "source": [
    "df1 = pd.read_csv('07_Data.csv')\n",
    "df1"
   ]
  },
  {
   "cell_type": "code",
   "execution_count": 98,
   "id": "9cc88770",
   "metadata": {
    "collapsed": true
   },
   "outputs": [
    {
     "data": {
      "text/plain": [
       "Door Open         1345\n",
       "자재 픽업 에러           425\n",
       "비젼 가동 준비 Error     234\n",
       "롯트 종료              229\n",
       "초기화 Error          215\n",
       "e-CIM 관련에러         133\n",
       "메가진 Full           119\n",
       "타임 오버               45\n",
       "SYSTEM HANG UP      35\n",
       "비젼 데이터               6\n",
       "ITS 데이터              3\n",
       "드라이버 알람              2\n",
       "컨드롤러 알람              1\n",
       "Name: 메세지, dtype: int64"
      ]
     },
     "execution_count": 98,
     "metadata": {},
     "output_type": "execute_result"
    }
   ],
   "source": [
    "df1['메세지'].value_counts()"
   ]
  },
  {
   "cell_type": "code",
   "execution_count": 99,
   "id": "ea577521",
   "metadata": {
    "collapsed": true
   },
   "outputs": [
    {
     "name": "stdout",
     "output_type": "stream",
     "text": [
      "<class 'pandas.core.frame.DataFrame'>\n",
      "RangeIndex: 2792 entries, 0 to 2791\n",
      "Data columns (total 12 columns):\n",
      " #   Column  Non-Null Count  Dtype  \n",
      "---  ------  --------------  -----  \n",
      " 0   메세지     2792 non-null   object \n",
      " 1   발생시간    2792 non-null   object \n",
      " 2   조치시간    2792 non-null   object \n",
      " 3   정지시간    2792 non-null   object \n",
      " 4   정지시간2   2792 non-null   float64\n",
      " 5   모델      1112 non-null   object \n",
      " 6   제품두께    1112 non-null   object \n",
      " 7   제품싸이즈   1112 non-null   object \n",
      " 8   작업구분    2792 non-null   object \n",
      " 9   작업자     1112 non-null   object \n",
      " 10  온도      2792 non-null   float64\n",
      " 11  습도      2792 non-null   float64\n",
      "dtypes: float64(3), object(9)\n",
      "memory usage: 261.9+ KB\n"
     ]
    }
   ],
   "source": [
    "df1.info()"
   ]
  },
  {
   "cell_type": "code",
   "execution_count": 101,
   "id": "4f60757a",
   "metadata": {
    "collapsed": true
   },
   "outputs": [
    {
     "data": {
      "text/plain": [
       "array(['0.25', '1.25', '2.25', '3.25', '4.25', '5.25', '6.25', '7.25',\n",
       "       '8.25', '9.25', '10.25', '11.25', '12.25', '13.25', '14.25',\n",
       "       '15.25', '16.25', nan, '0.13', '1.13', '2.13', '3.13', '4.13',\n",
       "       '5.13', '6.13', '7.13', '8.13', '9.13', '10.13', '11.13', '12.13',\n",
       "       '0.15', '0.17', '0.32', '415-515', '417-518', '0.21', '0.38',\n",
       "       '0.18', '0.26', '0.56', '0.36', '0.12', '0.1', '0.255', '0.3'],\n",
       "      dtype=object)"
      ]
     },
     "execution_count": 101,
     "metadata": {},
     "output_type": "execute_result"
    }
   ],
   "source": [
    "df1['제품두께'].unique()"
   ]
  },
  {
   "cell_type": "code",
   "execution_count": 107,
   "id": "8397b9ca",
   "metadata": {},
   "outputs": [],
   "source": [
    "# replace : 기존의 값을 다른 값으로 변환 (NaN -> 결측값 / float )\n",
    "df1['제품두께(float)'] = df1['제품두께'].replace({'415-515':4.5,\n",
    "                                          '417-518':5.0}).astype(float)"
   ]
  },
  {
   "cell_type": "code",
   "execution_count": 109,
   "id": "b67b144d",
   "metadata": {
    "collapsed": true
   },
   "outputs": [
    {
     "data": {
      "text/plain": [
       "array(['415-515', '415-516', '415-517', '415-518', '415-519', '415-520',\n",
       "       '415-521', '415-522', '415-523', '415-524', '415-525', '415-526',\n",
       "       '415-527', '415-528', '415-529', '415-530', '415-531', nan,\n",
       "       '415-514', '417-518', '0.21', '0.15'], dtype=object)"
      ]
     },
     "execution_count": 109,
     "metadata": {},
     "output_type": "execute_result"
    }
   ],
   "source": [
    "df1['제품싸이즈'].unique()"
   ]
  },
  {
   "cell_type": "code",
   "execution_count": 122,
   "id": "0c33f142",
   "metadata": {},
   "outputs": [],
   "source": [
    "def func1(data):\n",
    "    if pd.isnull(data):  # 문자 데이터 처리 시,  nan 결측값(float)이 실수형으로 인식 \n",
    "        return 0         # nan 결측값을 모두 0으로 처리   \n",
    "    else:\n",
    "        return data.split('-')[0] \n",
    "df1['제품가로사이즈'] = df1['제품싸이즈'].apply(func1).astype(float)"
   ]
  },
  {
   "cell_type": "code",
   "execution_count": 123,
   "id": "b2c5086f",
   "metadata": {},
   "outputs": [],
   "source": [
    "def func2(data):\n",
    "    if pd.isnull(data):  # 문자 데이터 처리 시,  nan 결측값(float)이 실수형으로 인식 \n",
    "        return 0         # nan 결측값을 모두 0으로 처리 \n",
    "    result = data.split('-') # 데이터를 하이픈 기호를 기준으로 분할 \n",
    "    if len(result) >=2 : # 만약 데이터가 2개이상 나올때 뒤에 값을 세로값으로 지정 \n",
    "        return result[1]\n",
    "    else: # 만약 데이터가 1개만 있을 땐, 0으로 지정 \n",
    "        return 0\n",
    "df1['제품세로사이즈'] = df1['제품싸이즈'].apply(func2).astype(float)"
   ]
  },
  {
   "cell_type": "code",
   "execution_count": 126,
   "id": "43e32e7a",
   "metadata": {},
   "outputs": [],
   "source": [
    "import seaborn as sns \n",
    "import matplotlib as mpl\n",
    "import matplotlib.pyplot as plt \n",
    "import plotly.express as px \n",
    "mpl.rc('font', family='Malgun Gothic')\n",
    "# mpl.rc('font', family='AppleGothic') # 애플맨들 "
   ]
  },
  {
   "cell_type": "code",
   "execution_count": 131,
   "id": "56f685db",
   "metadata": {
    "collapsed": true
   },
   "outputs": [
    {
     "data": {
      "text/plain": [
       "<seaborn.axisgrid.FacetGrid at 0x2f203d302e0>"
      ]
     },
     "execution_count": 131,
     "metadata": {},
     "output_type": "execute_result"
    },
    {
     "data": {
      "image/png": "[encoded data removed]",
      "text/plain": [
       "<Figure size 360x360 with 1 Axes>"
      ]
     },
     "metadata": {
      "needs_background": "light"
     },
     "output_type": "display_data"
    }
   ],
   "source": [
    "# 히스토그램\n",
    "sns.displot(data=df1, x='정지시간2', kde=True)"
   ]
  },
  {
   "cell_type": "code",
   "execution_count": 136,
   "id": "d10489fb",
   "metadata": {
    "collapsed": true
   },
   "outputs": [
    {
     "data": {
      "text/plain": [
       "<seaborn.axisgrid.FacetGrid at 0x2f20eacc7c0>"
      ]
     },
     "execution_count": 136,
     "metadata": {},
     "output_type": "execute_result"
    },
    {
     "data": {
      "image/png": "[encoded data removed]",
      "text/plain": [
       "<Figure size 720x360 with 2 Axes>"
      ]
     },
     "metadata": {
      "needs_background": "light"
     },
     "output_type": "display_data"
    }
   ],
   "source": [
    "# 'Door Open' 오류만 추출하여 '작업구분' 별 '정지시간2' 분포를 확인 \n",
    "# 2분이내로 조치가 수행된 데이터만 확인 \n",
    "cond1 = df1['메세지']=='Door Open'\n",
    "cond2 = df1['정지시간2'] <= 120\n",
    "sns.displot(data=df1.loc[cond1& cond2] , x='정지시간2',kde=True, col='작업구분')"
   ]
  },
  {
   "cell_type": "code",
   "execution_count": 140,
   "id": "719666f3",
   "metadata": {
    "collapsed": true
   },
   "outputs": [
    {
     "name": "stderr",
     "output_type": "stream",
     "text": [
      "C:\\ProgramData\\Anaconda3\\lib\\site-packages\\seaborn\\utils.py:95: UserWarning: Glyph 8722 (\\N{MINUS SIGN}) missing from current font.\n",
      "  fig.canvas.draw()\n"
     ]
    },
    {
     "data": {
      "text/plain": [
       "<seaborn.axisgrid.FacetGrid at 0x2f21fcf02e0>"
      ]
     },
     "execution_count": 140,
     "metadata": {},
     "output_type": "execute_result"
    },
    {
     "name": "stderr",
     "output_type": "stream",
     "text": [
      "C:\\ProgramData\\Anaconda3\\lib\\site-packages\\IPython\\core\\pylabtools.py:151: UserWarning: Glyph 8722 (\\N{MINUS SIGN}) missing from current font.\n",
      "  fig.canvas.print_figure(bytes_io, **kw)\n"
     ]
    },
    {
     "data": {
      "image/png": "[encoded data removed]",
      "text/plain": [
       "<Figure size 786x360 with 2 Axes>"
      ]
     },
     "metadata": {
      "needs_background": "light"
     },
     "output_type": "display_data"
    }
   ],
   "source": [
    "sns.displot(data=df1.loc[cond1& cond2] , x='정지시간2',\n",
    "            kind='kde', col='작업구분', hue='작업자' )"
   ]
  },
  {
   "cell_type": "code",
   "execution_count": 144,
   "id": "bba7aaf9",
   "metadata": {
    "collapsed": true
   },
   "outputs": [
    {
     "data": {
      "text/plain": [
       "<AxesSubplot:xlabel='정지시간2', ylabel='제품두께(float)'>"
      ]
     },
     "execution_count": 144,
     "metadata": {},
     "output_type": "execute_result"
    },
    {
     "data": {
      "image/png": "[encoded data removed]",
      "text/plain": [
       "<Figure size 432x288 with 1 Axes>"
      ]
     },
     "metadata": {
      "needs_background": "light"
     },
     "output_type": "display_data"
    }
   ],
   "source": [
    "# 산점도\n",
    "plt.ylim([0, 0.8])\n",
    "plt.xlim([0, 120])\n",
    "sns.scatterplot(data=df1, x='정지시간2', y='제품두께(float)')"
   ]
  },
  {
   "cell_type": "code",
   "execution_count": 146,
   "id": "c5c44e6b",
   "metadata": {
    "collapsed": true
   },
   "outputs": [
    {
     "data": {
      "text/plain": [
       "<AxesSubplot:xlabel='정지시간2', ylabel='제품두께(float)'>"
      ]
     },
     "execution_count": 146,
     "metadata": {},
     "output_type": "execute_result"
    },
    {
     "data": {
      "image/png": "[encoded data removed]",
      "text/plain": [
       "<Figure size 432x288 with 1 Axes>"
      ]
     },
     "metadata": {
      "needs_background": "light"
     },
     "output_type": "display_data"
    }
   ],
   "source": [
    "# 산점도\n",
    "plt.ylim([0, 0.8])\n",
    "plt.xlim([0, 120])\n",
    "sns.scatterplot(data=df1, x='정지시간2', y='제품두께(float)', hue='작업구분')"
   ]
  },
  {
   "cell_type": "code",
   "execution_count": 147,
   "id": "6657cedc",
   "metadata": {},
   "outputs": [
    {
     "data": {
      "text/plain": [
       "NormaltestResult(statistic=5927.964101196142, pvalue=0.0)"
      ]
     },
     "execution_count": 147,
     "metadata": {},
     "output_type": "execute_result"
    }
   ],
   "source": [
    "# 정지시간2 와 제품두께 간 상관성을 확인 \n",
    "stats.normaltest(df1['정지시간2']) \n",
    "# P.value< 0.5 / 비정규분포 "
   ]
  },
  {
   "cell_type": "code",
   "execution_count": 149,
   "id": "b726b0e9",
   "metadata": {},
   "outputs": [
    {
     "data": {
      "text/plain": [
       "NormaltestResult(statistic=1107.1372389096884, pvalue=3.874388937107992e-241)"
      ]
     },
     "execution_count": 149,
     "metadata": {},
     "output_type": "execute_result"
    }
   ],
   "source": [
    "stats.normaltest(df1['제품두께(float)'].dropna()) \n",
    "# P.value< 0.5 / 비정규분포 "
   ]
  },
  {
   "cell_type": "code",
   "execution_count": 150,
   "id": "8590e57a",
   "metadata": {},
   "outputs": [
    {
     "data": {
      "text/plain": [
       "SpearmanrResult(correlation=-0.05729689680622133, pvalue=0.056122814706424815)"
      ]
     },
     "execution_count": 150,
     "metadata": {},
     "output_type": "execute_result"
    }
   ],
   "source": [
    "# 두 데이터가 모두 비정규분포에서 두 데이터의 상관성을 확인 (Spearmanr)\n",
    "# 귀무가설 : 두 데이터가 서로 상관성이 없다.   \n",
    "# 대립가설 : 두 데이터가 서로 상관성이 있다. \n",
    "df2 = df1.dropna()\n",
    "stats.spearmanr(df2['정지시간2'], df2['제품두께(float)'])\n",
    "# P.value > 0.05 / 귀무가설 참 (귀무가설기각실패) / 두 데이터가 서로 상관성이 없다."
   ]
  },
  {
   "cell_type": "markdown",
   "id": "52eb2704",
   "metadata": {},
   "source": [
    "# Mission 5. \n",
    "- 08_Data_001.csv를 다운로드 받아, df1 로 선언한 뒤 아래의 문제를 해결 \n",
    "1) df1 데이터의 구조와 타입을 확인하고, 연속형 데이터의 평균/중앙값/표준편차를 확인\n",
    "2) df1 데이터에서 Etching1에 해당하는 값을 34기준으로 분할\n",
    "    - Etching1 값이 34 이상이면, A\n",
    "    - Etching1 값이 34 미만이면, B\n",
    "    - df1 데이터에 '분류'이름의 항목으로 선언 \n",
    "3) df1에서 CVD1과 CVD2 데이터의 상관성이 있는지 분석하고자 한다. \n",
    "    - CVD1과 CVD2값의 산점도를 Scatter plot으로 시각화 \n",
    "    - '분류', A와 B에 따라 CVD1과 CVD2값의 산점도를 Scatter plot으로 시각화\n",
    "4) df1에서 Target값이 높은 상위 100개 데이터를 추출하여,\n",
    "    - '분류'에 (A,B) 따른 CVD3의 평균의 유의미한 차이가 있는지 가설검정 \n",
    "    -  결측값은 제거 후 검정 진행 / P.value 와 결론까지 작성 \n",
    "    - '분류'에 (A,B) 따른 CVD3값의 평균을 bar chart로 시각화 \n",
    "5) df1의 '분류'에 따른 'Photo1'값과 'Photo2'값의 합/최대/최소값을 계산 \n",
    "6) df1의 'DATE'항목을 날짜데이터로 변환하여, 'DATE_dt'로 선언한 뒤, 일자만 추출하여, \n",
    "    - '분류'에 따른 '일자'별 'Target'값의 합을 계산 "
   ]
  }
 ],
 "metadata": {
  "kernelspec": {
   "display_name": "Python 3 (ipykernel)",
   "language": "python",
   "name": "python3"
  },
  "language_info": {
   "codemirror_mode": {
    "name": "ipython",
    "version": 3
   },
   "file_extension": ".py",
   "mimetype": "text/x-python",
   "name": "python",
   "nbconvert_exporter": "python",
   "pygments_lexer": "ipython3",
   "version": "3.9.12"
  }
 },
 "nbformat": 4,
 "nbformat_minor": 5
}
