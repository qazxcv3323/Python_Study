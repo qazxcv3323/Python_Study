{
  "nbformat": 4,
  "nbformat_minor": 0,
  "metadata": {
    "colab": {
      "provenance": [],
      "collapsed_sections": [],
      "mount_file_id": "1opmrMziK-XNMgmO4VuOvmUfDU25wHI3U",
      "authorship_tag": "ABX9TyN9Oq3t/OzuveaVyAb6j9v1",
      "include_colab_link": true
    },
    "kernelspec": {
      "name": "python3",
      "display_name": "Python 3"
    },
    "language_info": {
      "name": "python"
    }
  },
  "cells": [
    {
      "cell_type": "markdown",
      "metadata": {
        "id": "view-in-github",
        "colab_type": "text"
      },
      "source": [
        "<a href=\"https://colab.research.google.com/github/qazxcv3323/Python_Study/blob/main/Machine_Learning/Data_Station/Machine_learning_Day_2_2.ipynb\" target=\"_parent\"><img src=\"https://colab.research.google.com/assets/colab-badge.svg\" alt=\"Open In Colab\"/></a>"
      ]
    },
    {
      "cell_type": "markdown",
      "source": [
        "* 점포 별 판매량\n",
        "* 상품의 종류를 나누어 표현 !\n",
        "* 가장 많이 팔린 점포만 확인 !"
      ],
      "metadata": {
        "id": "N-tUAZZI2Xm2"
      }
    },
    {
      "cell_type": "code",
      "execution_count": 1,
      "metadata": {
        "id": "gHMv5Pf_1dRN"
      },
      "outputs": [],
      "source": [
        "import pandas as pd\n",
        "import numpy as np\n",
        "import seaborn as sns\n",
        "import matplotlib.pyplot as plt\n",
        "import matplotlib as mpl\n",
        "\n",
        "mpl.rc('font', family='Malgun Gothic')"
      ]
    },
    {
      "cell_type": "code",
      "source": [
        "df1 = pd.read_csv('/content/drive/MyDrive/data_station/Data09.csv', encoding='cp949')\n",
        "print(df1.shape)\n",
        "df1.head(5)"
      ],
      "metadata": {
        "colab": {
          "base_uri": "https://localhost:8080/",
          "height": 401
        },
        "id": "9ookg73M1xi9",
        "outputId": "cdc14c77-6fbb-4d56-b502-eb80cc88996a"
      },
      "execution_count": 2,
      "outputs": [
        {
          "output_type": "stream",
          "name": "stdout",
          "text": [
            "(117, 646)\n"
          ]
        },
        {
          "output_type": "execute_result",
          "data": {
            "text/plain": [
              "    순번        상품코드             상품명         합계 (1154)의정부점 (1155)별내점 (1156)풍산점  \\\n",
              "0  NaN         NaN             NaN         수량         수량        수량        수량   \n",
              "1  NaN         NaN             합 계  2,029,096      6,829     8,374    12,626   \n",
              "2  1.0   1801828.0  BW1 473ml캔(수입)     65,402        174       239       432   \n",
              "3  2.0   1801859.0  BW1 355ml (낱캔)          1          0         0         0   \n",
              "4  3.0  40786179.0        RB 500ml      2,158          4         9        10   \n",
              "\n",
              "  (1157)김포한강점 (1158)세종점 (1159)킨텍스점  ... (L21)위시티점 (L23)걸포동점 (L27)통일동산점  \\\n",
              "0          수량        수량         수량  ...        수량        수량         수량   \n",
              "1      11,767    10,912      7,062  ...     2,392     1,291      4,506   \n",
              "2         199       220        263  ...         0        25         76   \n",
              "3           0         0          0  ...         0         0          0   \n",
              "4          27         0         11  ...         0         0          0   \n",
              "\n",
              "  (L35)성대점 (L36)병점점 (L38)율전점 (L39)본오점 (L40)검암점 (L44)신길점 (L46)용호점  \n",
              "0       수량       수량       수량       수량       수량       수량       수량  \n",
              "1    2,364    2,739    1,782    3,129    1,712    3,189    2,347  \n",
              "2       72       54       72       15       38       27       89  \n",
              "3        0        0        0        0        0        0        0  \n",
              "4        0        0        0        0        0        0        0  \n",
              "\n",
              "[5 rows x 646 columns]"
            ],
            "text/html": [
              "\n",
              "  <div id=\"df-658d8b35-bb0e-41fb-9a31-6d000740da7a\">\n",
              "    <div class=\"colab-df-container\">\n",
              "      <div>\n",
              "<style scoped>\n",
              "    .dataframe tbody tr th:only-of-type {\n",
              "        vertical-align: middle;\n",
              "    }\n",
              "\n",
              "    .dataframe tbody tr th {\n",
              "        vertical-align: top;\n",
              "    }\n",
              "\n",
              "    .dataframe thead th {\n",
              "        text-align: right;\n",
              "    }\n",
              "</style>\n",
              "<table border=\"1\" class=\"dataframe\">\n",
              "  <thead>\n",
              "    <tr style=\"text-align: right;\">\n",
              "      <th></th>\n",
              "      <th>순번</th>\n",
              "      <th>상품코드</th>\n",
              "      <th>상품명</th>\n",
              "      <th>합계</th>\n",
              "      <th>(1154)의정부점</th>\n",
              "      <th>(1155)별내점</th>\n",
              "      <th>(1156)풍산점</th>\n",
              "      <th>(1157)김포한강점</th>\n",
              "      <th>(1158)세종점</th>\n",
              "      <th>(1159)킨텍스점</th>\n",
              "      <th>...</th>\n",
              "      <th>(L21)위시티점</th>\n",
              "      <th>(L23)걸포동점</th>\n",
              "      <th>(L27)통일동산점</th>\n",
              "      <th>(L35)성대점</th>\n",
              "      <th>(L36)병점점</th>\n",
              "      <th>(L38)율전점</th>\n",
              "      <th>(L39)본오점</th>\n",
              "      <th>(L40)검암점</th>\n",
              "      <th>(L44)신길점</th>\n",
              "      <th>(L46)용호점</th>\n",
              "    </tr>\n",
              "  </thead>\n",
              "  <tbody>\n",
              "    <tr>\n",
              "      <th>0</th>\n",
              "      <td>NaN</td>\n",
              "      <td>NaN</td>\n",
              "      <td>NaN</td>\n",
              "      <td>수량</td>\n",
              "      <td>수량</td>\n",
              "      <td>수량</td>\n",
              "      <td>수량</td>\n",
              "      <td>수량</td>\n",
              "      <td>수량</td>\n",
              "      <td>수량</td>\n",
              "      <td>...</td>\n",
              "      <td>수량</td>\n",
              "      <td>수량</td>\n",
              "      <td>수량</td>\n",
              "      <td>수량</td>\n",
              "      <td>수량</td>\n",
              "      <td>수량</td>\n",
              "      <td>수량</td>\n",
              "      <td>수량</td>\n",
              "      <td>수량</td>\n",
              "      <td>수량</td>\n",
              "    </tr>\n",
              "    <tr>\n",
              "      <th>1</th>\n",
              "      <td>NaN</td>\n",
              "      <td>NaN</td>\n",
              "      <td>합 계</td>\n",
              "      <td>2,029,096</td>\n",
              "      <td>6,829</td>\n",
              "      <td>8,374</td>\n",
              "      <td>12,626</td>\n",
              "      <td>11,767</td>\n",
              "      <td>10,912</td>\n",
              "      <td>7,062</td>\n",
              "      <td>...</td>\n",
              "      <td>2,392</td>\n",
              "      <td>1,291</td>\n",
              "      <td>4,506</td>\n",
              "      <td>2,364</td>\n",
              "      <td>2,739</td>\n",
              "      <td>1,782</td>\n",
              "      <td>3,129</td>\n",
              "      <td>1,712</td>\n",
              "      <td>3,189</td>\n",
              "      <td>2,347</td>\n",
              "    </tr>\n",
              "    <tr>\n",
              "      <th>2</th>\n",
              "      <td>1.0</td>\n",
              "      <td>1801828.0</td>\n",
              "      <td>BW1 473ml캔(수입)</td>\n",
              "      <td>65,402</td>\n",
              "      <td>174</td>\n",
              "      <td>239</td>\n",
              "      <td>432</td>\n",
              "      <td>199</td>\n",
              "      <td>220</td>\n",
              "      <td>263</td>\n",
              "      <td>...</td>\n",
              "      <td>0</td>\n",
              "      <td>25</td>\n",
              "      <td>76</td>\n",
              "      <td>72</td>\n",
              "      <td>54</td>\n",
              "      <td>72</td>\n",
              "      <td>15</td>\n",
              "      <td>38</td>\n",
              "      <td>27</td>\n",
              "      <td>89</td>\n",
              "    </tr>\n",
              "    <tr>\n",
              "      <th>3</th>\n",
              "      <td>2.0</td>\n",
              "      <td>1801859.0</td>\n",
              "      <td>BW1 355ml (낱캔)</td>\n",
              "      <td>1</td>\n",
              "      <td>0</td>\n",
              "      <td>0</td>\n",
              "      <td>0</td>\n",
              "      <td>0</td>\n",
              "      <td>0</td>\n",
              "      <td>0</td>\n",
              "      <td>...</td>\n",
              "      <td>0</td>\n",
              "      <td>0</td>\n",
              "      <td>0</td>\n",
              "      <td>0</td>\n",
              "      <td>0</td>\n",
              "      <td>0</td>\n",
              "      <td>0</td>\n",
              "      <td>0</td>\n",
              "      <td>0</td>\n",
              "      <td>0</td>\n",
              "    </tr>\n",
              "    <tr>\n",
              "      <th>4</th>\n",
              "      <td>3.0</td>\n",
              "      <td>40786179.0</td>\n",
              "      <td>RB 500ml</td>\n",
              "      <td>2,158</td>\n",
              "      <td>4</td>\n",
              "      <td>9</td>\n",
              "      <td>10</td>\n",
              "      <td>27</td>\n",
              "      <td>0</td>\n",
              "      <td>11</td>\n",
              "      <td>...</td>\n",
              "      <td>0</td>\n",
              "      <td>0</td>\n",
              "      <td>0</td>\n",
              "      <td>0</td>\n",
              "      <td>0</td>\n",
              "      <td>0</td>\n",
              "      <td>0</td>\n",
              "      <td>0</td>\n",
              "      <td>0</td>\n",
              "      <td>0</td>\n",
              "    </tr>\n",
              "  </tbody>\n",
              "</table>\n",
              "<p>5 rows × 646 columns</p>\n",
              "</div>\n",
              "      <button class=\"colab-df-convert\" onclick=\"convertToInteractive('df-658d8b35-bb0e-41fb-9a31-6d000740da7a')\"\n",
              "              title=\"Convert this dataframe to an interactive table.\"\n",
              "              style=\"display:none;\">\n",
              "        \n",
              "  <svg xmlns=\"http://www.w3.org/2000/svg\" height=\"24px\"viewBox=\"0 0 24 24\"\n",
              "       width=\"24px\">\n",
              "    <path d=\"M0 0h24v24H0V0z\" fill=\"none\"/>\n",
              "    <path d=\"M18.56 5.44l.94 2.06.94-2.06 2.06-.94-2.06-.94-.94-2.06-.94 2.06-2.06.94zm-11 1L8.5 8.5l.94-2.06 2.06-.94-2.06-.94L8.5 2.5l-.94 2.06-2.06.94zm10 10l.94 2.06.94-2.06 2.06-.94-2.06-.94-.94-2.06-.94 2.06-2.06.94z\"/><path d=\"M17.41 7.96l-1.37-1.37c-.4-.4-.92-.59-1.43-.59-.52 0-1.04.2-1.43.59L10.3 9.45l-7.72 7.72c-.78.78-.78 2.05 0 2.83L4 21.41c.39.39.9.59 1.41.59.51 0 1.02-.2 1.41-.59l7.78-7.78 2.81-2.81c.8-.78.8-2.07 0-2.86zM5.41 20L4 18.59l7.72-7.72 1.47 1.35L5.41 20z\"/>\n",
              "  </svg>\n",
              "      </button>\n",
              "      \n",
              "  <style>\n",
              "    .colab-df-container {\n",
              "      display:flex;\n",
              "      flex-wrap:wrap;\n",
              "      gap: 12px;\n",
              "    }\n",
              "\n",
              "    .colab-df-convert {\n",
              "      background-color: #E8F0FE;\n",
              "      border: none;\n",
              "      border-radius: 50%;\n",
              "      cursor: pointer;\n",
              "      display: none;\n",
              "      fill: #1967D2;\n",
              "      height: 32px;\n",
              "      padding: 0 0 0 0;\n",
              "      width: 32px;\n",
              "    }\n",
              "\n",
              "    .colab-df-convert:hover {\n",
              "      background-color: #E2EBFA;\n",
              "      box-shadow: 0px 1px 2px rgba(60, 64, 67, 0.3), 0px 1px 3px 1px rgba(60, 64, 67, 0.15);\n",
              "      fill: #174EA6;\n",
              "    }\n",
              "\n",
              "    [theme=dark] .colab-df-convert {\n",
              "      background-color: #3B4455;\n",
              "      fill: #D2E3FC;\n",
              "    }\n",
              "\n",
              "    [theme=dark] .colab-df-convert:hover {\n",
              "      background-color: #434B5C;\n",
              "      box-shadow: 0px 1px 3px 1px rgba(0, 0, 0, 0.15);\n",
              "      filter: drop-shadow(0px 1px 2px rgba(0, 0, 0, 0.3));\n",
              "      fill: #FFFFFF;\n",
              "    }\n",
              "  </style>\n",
              "\n",
              "      <script>\n",
              "        const buttonEl =\n",
              "          document.querySelector('#df-658d8b35-bb0e-41fb-9a31-6d000740da7a button.colab-df-convert');\n",
              "        buttonEl.style.display =\n",
              "          google.colab.kernel.accessAllowed ? 'block' : 'none';\n",
              "\n",
              "        async function convertToInteractive(key) {\n",
              "          const element = document.querySelector('#df-658d8b35-bb0e-41fb-9a31-6d000740da7a');\n",
              "          const dataTable =\n",
              "            await google.colab.kernel.invokeFunction('convertToInteractive',\n",
              "                                                     [key], {});\n",
              "          if (!dataTable) return;\n",
              "\n",
              "          const docLinkHtml = 'Like what you see? Visit the ' +\n",
              "            '<a target=\"_blank\" href=https://colab.research.google.com/notebooks/data_table.ipynb>data table notebook</a>'\n",
              "            + ' to learn more about interactive tables.';\n",
              "          element.innerHTML = '';\n",
              "          dataTable['output_type'] = 'display_data';\n",
              "          await google.colab.output.renderOutput(dataTable, element);\n",
              "          const docLink = document.createElement('div');\n",
              "          docLink.innerHTML = docLinkHtml;\n",
              "          element.appendChild(docLink);\n",
              "        }\n",
              "      </script>\n",
              "    </div>\n",
              "  </div>\n",
              "  "
            ]
          },
          "metadata": {},
          "execution_count": 2
        }
      ]
    },
    {
      "cell_type": "code",
      "source": [],
      "metadata": {
        "id": "621YjjAg5O_Q"
      },
      "execution_count": 2,
      "outputs": []
    },
    {
      "cell_type": "code",
      "source": [],
      "metadata": {
        "id": "XN5mC3Mm5O8i"
      },
      "execution_count": 2,
      "outputs": []
    },
    {
      "cell_type": "code",
      "source": [],
      "metadata": {
        "id": "Ai7o6Eyx5Ozc"
      },
      "execution_count": 2,
      "outputs": []
    },
    {
      "cell_type": "code",
      "source": [
        "df1.columns"
      ],
      "metadata": {
        "colab": {
          "base_uri": "https://localhost:8080/"
        },
        "id": "YMMgbn0a1zYg",
        "outputId": "ccd8d781-ad38-43de-86df-3bc32633d0a4"
      },
      "execution_count": 3,
      "outputs": [
        {
          "output_type": "execute_result",
          "data": {
            "text/plain": [
              "Index(['순번', '상품코드', '상품명', ' 합계', '(1154)의정부점', '(1155)별내점', '(1156)풍산점',\n",
              "       '(1157)김포한강점', '(1158)세종점', '(1159)킨텍스점',\n",
              "       ...\n",
              "       '(L21)위시티점', '(L23)걸포동점', '(L27)통일동산점', '(L35)성대점', '(L36)병점점',\n",
              "       '(L38)율전점', '(L39)본오점', '(L40)검암점', '(L44)신길점', '(L46)용호점'],\n",
              "      dtype='object', length=646)"
            ]
          },
          "metadata": {},
          "execution_count": 3
        }
      ]
    },
    {
      "cell_type": "code",
      "source": [
        "stack_data = pd.DataFrame(df1.drop(columns=['순번', '상품코드']).set_index('상품명').stack())\n",
        "df2 = stack_data.reset_index()"
      ],
      "metadata": {
        "id": "VwqccK4k2vMH"
      },
      "execution_count": 4,
      "outputs": []
    },
    {
      "cell_type": "markdown",
      "source": [
        "# pandas Melt"
      ],
      "metadata": {
        "id": "p6N709gr4P25"
      }
    },
    {
      "cell_type": "code",
      "source": [
        "region_list = df1.columns.tolist()[4:]"
      ],
      "metadata": {
        "id": "rlGWT6UW4Dw6"
      },
      "execution_count": 5,
      "outputs": []
    },
    {
      "cell_type": "code",
      "source": [
        "pd.melt(df1, id_vars=['상품명'], value_vars=region_list)"
      ],
      "metadata": {
        "colab": {
          "base_uri": "https://localhost:8080/",
          "height": 424
        },
        "id": "Lv8cDGCS2691",
        "outputId": "65cd7411-4c03-49a6-ae72-bfcfe53bb722"
      },
      "execution_count": 6,
      "outputs": [
        {
          "output_type": "execute_result",
          "data": {
            "text/plain": [
              "                            상품명    variable  value\n",
              "0                           NaN  (1154)의정부점     수량\n",
              "1                           합 계  (1154)의정부점  6,829\n",
              "2                BW1 473ml캔(수입)  (1154)의정부점    174\n",
              "3                BW1 355ml (낱캔)  (1154)의정부점      0\n",
              "4                      RB 500ml  (1154)의정부점      4\n",
              "...                         ...         ...    ...\n",
              "75109  CAT1 355ml*12캔+카카오 에코백+치    (L46)용호점      0\n",
              "75110     CAT2 355*24캔 + 진라면 6캔    (L46)용호점      0\n",
              "75111               CAT2 1.6L*6    (L46)용호점      0\n",
              "75112                 CAT2 1.6L    (L46)용호점    122\n",
              "75113                 CAT1 1.6L    (L46)용호점     24\n",
              "\n",
              "[75114 rows x 3 columns]"
            ],
            "text/html": [
              "\n",
              "  <div id=\"df-7638c707-61cf-48f9-8070-96627ce779fe\">\n",
              "    <div class=\"colab-df-container\">\n",
              "      <div>\n",
              "<style scoped>\n",
              "    .dataframe tbody tr th:only-of-type {\n",
              "        vertical-align: middle;\n",
              "    }\n",
              "\n",
              "    .dataframe tbody tr th {\n",
              "        vertical-align: top;\n",
              "    }\n",
              "\n",
              "    .dataframe thead th {\n",
              "        text-align: right;\n",
              "    }\n",
              "</style>\n",
              "<table border=\"1\" class=\"dataframe\">\n",
              "  <thead>\n",
              "    <tr style=\"text-align: right;\">\n",
              "      <th></th>\n",
              "      <th>상품명</th>\n",
              "      <th>variable</th>\n",
              "      <th>value</th>\n",
              "    </tr>\n",
              "  </thead>\n",
              "  <tbody>\n",
              "    <tr>\n",
              "      <th>0</th>\n",
              "      <td>NaN</td>\n",
              "      <td>(1154)의정부점</td>\n",
              "      <td>수량</td>\n",
              "    </tr>\n",
              "    <tr>\n",
              "      <th>1</th>\n",
              "      <td>합 계</td>\n",
              "      <td>(1154)의정부점</td>\n",
              "      <td>6,829</td>\n",
              "    </tr>\n",
              "    <tr>\n",
              "      <th>2</th>\n",
              "      <td>BW1 473ml캔(수입)</td>\n",
              "      <td>(1154)의정부점</td>\n",
              "      <td>174</td>\n",
              "    </tr>\n",
              "    <tr>\n",
              "      <th>3</th>\n",
              "      <td>BW1 355ml (낱캔)</td>\n",
              "      <td>(1154)의정부점</td>\n",
              "      <td>0</td>\n",
              "    </tr>\n",
              "    <tr>\n",
              "      <th>4</th>\n",
              "      <td>RB 500ml</td>\n",
              "      <td>(1154)의정부점</td>\n",
              "      <td>4</td>\n",
              "    </tr>\n",
              "    <tr>\n",
              "      <th>...</th>\n",
              "      <td>...</td>\n",
              "      <td>...</td>\n",
              "      <td>...</td>\n",
              "    </tr>\n",
              "    <tr>\n",
              "      <th>75109</th>\n",
              "      <td>CAT1 355ml*12캔+카카오 에코백+치</td>\n",
              "      <td>(L46)용호점</td>\n",
              "      <td>0</td>\n",
              "    </tr>\n",
              "    <tr>\n",
              "      <th>75110</th>\n",
              "      <td>CAT2 355*24캔 + 진라면 6캔</td>\n",
              "      <td>(L46)용호점</td>\n",
              "      <td>0</td>\n",
              "    </tr>\n",
              "    <tr>\n",
              "      <th>75111</th>\n",
              "      <td>CAT2 1.6L*6</td>\n",
              "      <td>(L46)용호점</td>\n",
              "      <td>0</td>\n",
              "    </tr>\n",
              "    <tr>\n",
              "      <th>75112</th>\n",
              "      <td>CAT2 1.6L</td>\n",
              "      <td>(L46)용호점</td>\n",
              "      <td>122</td>\n",
              "    </tr>\n",
              "    <tr>\n",
              "      <th>75113</th>\n",
              "      <td>CAT1 1.6L</td>\n",
              "      <td>(L46)용호점</td>\n",
              "      <td>24</td>\n",
              "    </tr>\n",
              "  </tbody>\n",
              "</table>\n",
              "<p>75114 rows × 3 columns</p>\n",
              "</div>\n",
              "      <button class=\"colab-df-convert\" onclick=\"convertToInteractive('df-7638c707-61cf-48f9-8070-96627ce779fe')\"\n",
              "              title=\"Convert this dataframe to an interactive table.\"\n",
              "              style=\"display:none;\">\n",
              "        \n",
              "  <svg xmlns=\"http://www.w3.org/2000/svg\" height=\"24px\"viewBox=\"0 0 24 24\"\n",
              "       width=\"24px\">\n",
              "    <path d=\"M0 0h24v24H0V0z\" fill=\"none\"/>\n",
              "    <path d=\"M18.56 5.44l.94 2.06.94-2.06 2.06-.94-2.06-.94-.94-2.06-.94 2.06-2.06.94zm-11 1L8.5 8.5l.94-2.06 2.06-.94-2.06-.94L8.5 2.5l-.94 2.06-2.06.94zm10 10l.94 2.06.94-2.06 2.06-.94-2.06-.94-.94-2.06-.94 2.06-2.06.94z\"/><path d=\"M17.41 7.96l-1.37-1.37c-.4-.4-.92-.59-1.43-.59-.52 0-1.04.2-1.43.59L10.3 9.45l-7.72 7.72c-.78.78-.78 2.05 0 2.83L4 21.41c.39.39.9.59 1.41.59.51 0 1.02-.2 1.41-.59l7.78-7.78 2.81-2.81c.8-.78.8-2.07 0-2.86zM5.41 20L4 18.59l7.72-7.72 1.47 1.35L5.41 20z\"/>\n",
              "  </svg>\n",
              "      </button>\n",
              "      \n",
              "  <style>\n",
              "    .colab-df-container {\n",
              "      display:flex;\n",
              "      flex-wrap:wrap;\n",
              "      gap: 12px;\n",
              "    }\n",
              "\n",
              "    .colab-df-convert {\n",
              "      background-color: #E8F0FE;\n",
              "      border: none;\n",
              "      border-radius: 50%;\n",
              "      cursor: pointer;\n",
              "      display: none;\n",
              "      fill: #1967D2;\n",
              "      height: 32px;\n",
              "      padding: 0 0 0 0;\n",
              "      width: 32px;\n",
              "    }\n",
              "\n",
              "    .colab-df-convert:hover {\n",
              "      background-color: #E2EBFA;\n",
              "      box-shadow: 0px 1px 2px rgba(60, 64, 67, 0.3), 0px 1px 3px 1px rgba(60, 64, 67, 0.15);\n",
              "      fill: #174EA6;\n",
              "    }\n",
              "\n",
              "    [theme=dark] .colab-df-convert {\n",
              "      background-color: #3B4455;\n",
              "      fill: #D2E3FC;\n",
              "    }\n",
              "\n",
              "    [theme=dark] .colab-df-convert:hover {\n",
              "      background-color: #434B5C;\n",
              "      box-shadow: 0px 1px 3px 1px rgba(0, 0, 0, 0.15);\n",
              "      filter: drop-shadow(0px 1px 2px rgba(0, 0, 0, 0.3));\n",
              "      fill: #FFFFFF;\n",
              "    }\n",
              "  </style>\n",
              "\n",
              "      <script>\n",
              "        const buttonEl =\n",
              "          document.querySelector('#df-7638c707-61cf-48f9-8070-96627ce779fe button.colab-df-convert');\n",
              "        buttonEl.style.display =\n",
              "          google.colab.kernel.accessAllowed ? 'block' : 'none';\n",
              "\n",
              "        async function convertToInteractive(key) {\n",
              "          const element = document.querySelector('#df-7638c707-61cf-48f9-8070-96627ce779fe');\n",
              "          const dataTable =\n",
              "            await google.colab.kernel.invokeFunction('convertToInteractive',\n",
              "                                                     [key], {});\n",
              "          if (!dataTable) return;\n",
              "\n",
              "          const docLinkHtml = 'Like what you see? Visit the ' +\n",
              "            '<a target=\"_blank\" href=https://colab.research.google.com/notebooks/data_table.ipynb>data table notebook</a>'\n",
              "            + ' to learn more about interactive tables.';\n",
              "          element.innerHTML = '';\n",
              "          dataTable['output_type'] = 'display_data';\n",
              "          await google.colab.output.renderOutput(dataTable, element);\n",
              "          const docLink = document.createElement('div');\n",
              "          docLink.innerHTML = docLinkHtml;\n",
              "          element.appendChild(docLink);\n",
              "        }\n",
              "      </script>\n",
              "    </div>\n",
              "  </div>\n",
              "  "
            ]
          },
          "metadata": {},
          "execution_count": 6
        }
      ]
    },
    {
      "cell_type": "code",
      "source": [
        "cond1 = (df2['상품명'].isnull())\n",
        "cond2 = (df2['상품명'] != '합 계')\n",
        "cond3 = (df2['level_1'] != '합 계')\n",
        "df3 = df2.loc[(~cond1) & (cond2)& (cond3)]\n",
        "df4 = df3.rename(columns = {'level_1': '점포명', 0:'판매량'})\n",
        "df4.head(3)"
      ],
      "metadata": {
        "colab": {
          "base_uri": "https://localhost:8080/",
          "height": 143
        },
        "id": "W7vbjTGR4MYn",
        "outputId": "92b3658a-cab7-4c22-9623-c17f5eecb97f"
      },
      "execution_count": 7,
      "outputs": [
        {
          "output_type": "execute_result",
          "data": {
            "text/plain": [
              "                 상품명         점포명     판매량\n",
              "1286  BW1 473ml캔(수입)          합계  65,402\n",
              "1287  BW1 473ml캔(수입)  (1154)의정부점     174\n",
              "1288  BW1 473ml캔(수입)   (1155)별내점     239"
            ],
            "text/html": [
              "\n",
              "  <div id=\"df-6449a655-709e-4bf9-b068-c792a08eb385\">\n",
              "    <div class=\"colab-df-container\">\n",
              "      <div>\n",
              "<style scoped>\n",
              "    .dataframe tbody tr th:only-of-type {\n",
              "        vertical-align: middle;\n",
              "    }\n",
              "\n",
              "    .dataframe tbody tr th {\n",
              "        vertical-align: top;\n",
              "    }\n",
              "\n",
              "    .dataframe thead th {\n",
              "        text-align: right;\n",
              "    }\n",
              "</style>\n",
              "<table border=\"1\" class=\"dataframe\">\n",
              "  <thead>\n",
              "    <tr style=\"text-align: right;\">\n",
              "      <th></th>\n",
              "      <th>상품명</th>\n",
              "      <th>점포명</th>\n",
              "      <th>판매량</th>\n",
              "    </tr>\n",
              "  </thead>\n",
              "  <tbody>\n",
              "    <tr>\n",
              "      <th>1286</th>\n",
              "      <td>BW1 473ml캔(수입)</td>\n",
              "      <td>합계</td>\n",
              "      <td>65,402</td>\n",
              "    </tr>\n",
              "    <tr>\n",
              "      <th>1287</th>\n",
              "      <td>BW1 473ml캔(수입)</td>\n",
              "      <td>(1154)의정부점</td>\n",
              "      <td>174</td>\n",
              "    </tr>\n",
              "    <tr>\n",
              "      <th>1288</th>\n",
              "      <td>BW1 473ml캔(수입)</td>\n",
              "      <td>(1155)별내점</td>\n",
              "      <td>239</td>\n",
              "    </tr>\n",
              "  </tbody>\n",
              "</table>\n",
              "</div>\n",
              "      <button class=\"colab-df-convert\" onclick=\"convertToInteractive('df-6449a655-709e-4bf9-b068-c792a08eb385')\"\n",
              "              title=\"Convert this dataframe to an interactive table.\"\n",
              "              style=\"display:none;\">\n",
              "        \n",
              "  <svg xmlns=\"http://www.w3.org/2000/svg\" height=\"24px\"viewBox=\"0 0 24 24\"\n",
              "       width=\"24px\">\n",
              "    <path d=\"M0 0h24v24H0V0z\" fill=\"none\"/>\n",
              "    <path d=\"M18.56 5.44l.94 2.06.94-2.06 2.06-.94-2.06-.94-.94-2.06-.94 2.06-2.06.94zm-11 1L8.5 8.5l.94-2.06 2.06-.94-2.06-.94L8.5 2.5l-.94 2.06-2.06.94zm10 10l.94 2.06.94-2.06 2.06-.94-2.06-.94-.94-2.06-.94 2.06-2.06.94z\"/><path d=\"M17.41 7.96l-1.37-1.37c-.4-.4-.92-.59-1.43-.59-.52 0-1.04.2-1.43.59L10.3 9.45l-7.72 7.72c-.78.78-.78 2.05 0 2.83L4 21.41c.39.39.9.59 1.41.59.51 0 1.02-.2 1.41-.59l7.78-7.78 2.81-2.81c.8-.78.8-2.07 0-2.86zM5.41 20L4 18.59l7.72-7.72 1.47 1.35L5.41 20z\"/>\n",
              "  </svg>\n",
              "      </button>\n",
              "      \n",
              "  <style>\n",
              "    .colab-df-container {\n",
              "      display:flex;\n",
              "      flex-wrap:wrap;\n",
              "      gap: 12px;\n",
              "    }\n",
              "\n",
              "    .colab-df-convert {\n",
              "      background-color: #E8F0FE;\n",
              "      border: none;\n",
              "      border-radius: 50%;\n",
              "      cursor: pointer;\n",
              "      display: none;\n",
              "      fill: #1967D2;\n",
              "      height: 32px;\n",
              "      padding: 0 0 0 0;\n",
              "      width: 32px;\n",
              "    }\n",
              "\n",
              "    .colab-df-convert:hover {\n",
              "      background-color: #E2EBFA;\n",
              "      box-shadow: 0px 1px 2px rgba(60, 64, 67, 0.3), 0px 1px 3px 1px rgba(60, 64, 67, 0.15);\n",
              "      fill: #174EA6;\n",
              "    }\n",
              "\n",
              "    [theme=dark] .colab-df-convert {\n",
              "      background-color: #3B4455;\n",
              "      fill: #D2E3FC;\n",
              "    }\n",
              "\n",
              "    [theme=dark] .colab-df-convert:hover {\n",
              "      background-color: #434B5C;\n",
              "      box-shadow: 0px 1px 3px 1px rgba(0, 0, 0, 0.15);\n",
              "      filter: drop-shadow(0px 1px 2px rgba(0, 0, 0, 0.3));\n",
              "      fill: #FFFFFF;\n",
              "    }\n",
              "  </style>\n",
              "\n",
              "      <script>\n",
              "        const buttonEl =\n",
              "          document.querySelector('#df-6449a655-709e-4bf9-b068-c792a08eb385 button.colab-df-convert');\n",
              "        buttonEl.style.display =\n",
              "          google.colab.kernel.accessAllowed ? 'block' : 'none';\n",
              "\n",
              "        async function convertToInteractive(key) {\n",
              "          const element = document.querySelector('#df-6449a655-709e-4bf9-b068-c792a08eb385');\n",
              "          const dataTable =\n",
              "            await google.colab.kernel.invokeFunction('convertToInteractive',\n",
              "                                                     [key], {});\n",
              "          if (!dataTable) return;\n",
              "\n",
              "          const docLinkHtml = 'Like what you see? Visit the ' +\n",
              "            '<a target=\"_blank\" href=https://colab.research.google.com/notebooks/data_table.ipynb>data table notebook</a>'\n",
              "            + ' to learn more about interactive tables.';\n",
              "          element.innerHTML = '';\n",
              "          dataTable['output_type'] = 'display_data';\n",
              "          await google.colab.output.renderOutput(dataTable, element);\n",
              "          const docLink = document.createElement('div');\n",
              "          docLink.innerHTML = docLinkHtml;\n",
              "          element.appendChild(docLink);\n",
              "        }\n",
              "      </script>\n",
              "    </div>\n",
              "  </div>\n",
              "  "
            ]
          },
          "metadata": {},
          "execution_count": 7
        }
      ]
    },
    {
      "cell_type": "code",
      "source": [
        "df4['상품명'].unique"
      ],
      "metadata": {
        "colab": {
          "base_uri": "https://localhost:8080/"
        },
        "id": "uV7mSLmT6cBq",
        "outputId": "656bf50e-6dc5-4707-c9d2-fe217632fe96"
      },
      "execution_count": 8,
      "outputs": [
        {
          "output_type": "execute_result",
          "data": {
            "text/plain": [
              "<bound method Series.unique of 1286     BW1 473ml캔(수입)\n",
              "1287     BW1 473ml캔(수입)\n",
              "1288     BW1 473ml캔(수입)\n",
              "1289     BW1 473ml캔(수입)\n",
              "1290     BW1 473ml캔(수입)\n",
              "              ...      \n",
              "75226         CAT1 1.6L\n",
              "75227         CAT1 1.6L\n",
              "75228         CAT1 1.6L\n",
              "75229         CAT1 1.6L\n",
              "75230         CAT1 1.6L\n",
              "Name: 상품명, Length: 73945, dtype: object>"
            ]
          },
          "metadata": {},
          "execution_count": 8
        }
      ]
    },
    {
      "cell_type": "code",
      "source": [
        "def func1(row):\n",
        "  \n",
        "  if 'CAT' in row:\n",
        "    return 'C Type'\n",
        "  elif 'STL' in row:\n",
        "    return 'S type'\n",
        "  elif 'BW' in row:\n",
        "    return 'B type'\n",
        "  else:\n",
        "    return 'Non Type'\n",
        "  \n",
        "  return row[:4]\n",
        "\n",
        "df4['제품군'] = df4['상품명'].apply(func1)"
      ],
      "metadata": {
        "id": "NT8skFCb5ibb"
      },
      "execution_count": 9,
      "outputs": []
    },
    {
      "cell_type": "code",
      "source": [
        "df4"
      ],
      "metadata": {
        "colab": {
          "base_uri": "https://localhost:8080/",
          "height": 424
        },
        "id": "yZKNp10W6taG",
        "outputId": "1f09e23b-ebd8-439a-f1da-5216fa21408c"
      },
      "execution_count": 10,
      "outputs": [
        {
          "output_type": "execute_result",
          "data": {
            "text/plain": [
              "                  상품명          점포명     판매량     제품군\n",
              "1286   BW1 473ml캔(수입)           합계  65,402  B type\n",
              "1287   BW1 473ml캔(수입)   (1154)의정부점     174  B type\n",
              "1288   BW1 473ml캔(수입)    (1155)별내점     239  B type\n",
              "1289   BW1 473ml캔(수입)    (1156)풍산점     432  B type\n",
              "1290   BW1 473ml캔(수입)  (1157)김포한강점     199  B type\n",
              "...               ...          ...     ...     ...\n",
              "75226       CAT1 1.6L     (L38)율전점      54  C Type\n",
              "75227       CAT1 1.6L     (L39)본오점      28  C Type\n",
              "75228       CAT1 1.6L     (L40)검암점       9  C Type\n",
              "75229       CAT1 1.6L     (L44)신길점      28  C Type\n",
              "75230       CAT1 1.6L     (L46)용호점      24  C Type\n",
              "\n",
              "[73945 rows x 4 columns]"
            ],
            "text/html": [
              "\n",
              "  <div id=\"df-e7c39928-122d-46f6-8618-7668e23c4d61\">\n",
              "    <div class=\"colab-df-container\">\n",
              "      <div>\n",
              "<style scoped>\n",
              "    .dataframe tbody tr th:only-of-type {\n",
              "        vertical-align: middle;\n",
              "    }\n",
              "\n",
              "    .dataframe tbody tr th {\n",
              "        vertical-align: top;\n",
              "    }\n",
              "\n",
              "    .dataframe thead th {\n",
              "        text-align: right;\n",
              "    }\n",
              "</style>\n",
              "<table border=\"1\" class=\"dataframe\">\n",
              "  <thead>\n",
              "    <tr style=\"text-align: right;\">\n",
              "      <th></th>\n",
              "      <th>상품명</th>\n",
              "      <th>점포명</th>\n",
              "      <th>판매량</th>\n",
              "      <th>제품군</th>\n",
              "    </tr>\n",
              "  </thead>\n",
              "  <tbody>\n",
              "    <tr>\n",
              "      <th>1286</th>\n",
              "      <td>BW1 473ml캔(수입)</td>\n",
              "      <td>합계</td>\n",
              "      <td>65,402</td>\n",
              "      <td>B type</td>\n",
              "    </tr>\n",
              "    <tr>\n",
              "      <th>1287</th>\n",
              "      <td>BW1 473ml캔(수입)</td>\n",
              "      <td>(1154)의정부점</td>\n",
              "      <td>174</td>\n",
              "      <td>B type</td>\n",
              "    </tr>\n",
              "    <tr>\n",
              "      <th>1288</th>\n",
              "      <td>BW1 473ml캔(수입)</td>\n",
              "      <td>(1155)별내점</td>\n",
              "      <td>239</td>\n",
              "      <td>B type</td>\n",
              "    </tr>\n",
              "    <tr>\n",
              "      <th>1289</th>\n",
              "      <td>BW1 473ml캔(수입)</td>\n",
              "      <td>(1156)풍산점</td>\n",
              "      <td>432</td>\n",
              "      <td>B type</td>\n",
              "    </tr>\n",
              "    <tr>\n",
              "      <th>1290</th>\n",
              "      <td>BW1 473ml캔(수입)</td>\n",
              "      <td>(1157)김포한강점</td>\n",
              "      <td>199</td>\n",
              "      <td>B type</td>\n",
              "    </tr>\n",
              "    <tr>\n",
              "      <th>...</th>\n",
              "      <td>...</td>\n",
              "      <td>...</td>\n",
              "      <td>...</td>\n",
              "      <td>...</td>\n",
              "    </tr>\n",
              "    <tr>\n",
              "      <th>75226</th>\n",
              "      <td>CAT1 1.6L</td>\n",
              "      <td>(L38)율전점</td>\n",
              "      <td>54</td>\n",
              "      <td>C Type</td>\n",
              "    </tr>\n",
              "    <tr>\n",
              "      <th>75227</th>\n",
              "      <td>CAT1 1.6L</td>\n",
              "      <td>(L39)본오점</td>\n",
              "      <td>28</td>\n",
              "      <td>C Type</td>\n",
              "    </tr>\n",
              "    <tr>\n",
              "      <th>75228</th>\n",
              "      <td>CAT1 1.6L</td>\n",
              "      <td>(L40)검암점</td>\n",
              "      <td>9</td>\n",
              "      <td>C Type</td>\n",
              "    </tr>\n",
              "    <tr>\n",
              "      <th>75229</th>\n",
              "      <td>CAT1 1.6L</td>\n",
              "      <td>(L44)신길점</td>\n",
              "      <td>28</td>\n",
              "      <td>C Type</td>\n",
              "    </tr>\n",
              "    <tr>\n",
              "      <th>75230</th>\n",
              "      <td>CAT1 1.6L</td>\n",
              "      <td>(L46)용호점</td>\n",
              "      <td>24</td>\n",
              "      <td>C Type</td>\n",
              "    </tr>\n",
              "  </tbody>\n",
              "</table>\n",
              "<p>73945 rows × 4 columns</p>\n",
              "</div>\n",
              "      <button class=\"colab-df-convert\" onclick=\"convertToInteractive('df-e7c39928-122d-46f6-8618-7668e23c4d61')\"\n",
              "              title=\"Convert this dataframe to an interactive table.\"\n",
              "              style=\"display:none;\">\n",
              "        \n",
              "  <svg xmlns=\"http://www.w3.org/2000/svg\" height=\"24px\"viewBox=\"0 0 24 24\"\n",
              "       width=\"24px\">\n",
              "    <path d=\"M0 0h24v24H0V0z\" fill=\"none\"/>\n",
              "    <path d=\"M18.56 5.44l.94 2.06.94-2.06 2.06-.94-2.06-.94-.94-2.06-.94 2.06-2.06.94zm-11 1L8.5 8.5l.94-2.06 2.06-.94-2.06-.94L8.5 2.5l-.94 2.06-2.06.94zm10 10l.94 2.06.94-2.06 2.06-.94-2.06-.94-.94-2.06-.94 2.06-2.06.94z\"/><path d=\"M17.41 7.96l-1.37-1.37c-.4-.4-.92-.59-1.43-.59-.52 0-1.04.2-1.43.59L10.3 9.45l-7.72 7.72c-.78.78-.78 2.05 0 2.83L4 21.41c.39.39.9.59 1.41.59.51 0 1.02-.2 1.41-.59l7.78-7.78 2.81-2.81c.8-.78.8-2.07 0-2.86zM5.41 20L4 18.59l7.72-7.72 1.47 1.35L5.41 20z\"/>\n",
              "  </svg>\n",
              "      </button>\n",
              "      \n",
              "  <style>\n",
              "    .colab-df-container {\n",
              "      display:flex;\n",
              "      flex-wrap:wrap;\n",
              "      gap: 12px;\n",
              "    }\n",
              "\n",
              "    .colab-df-convert {\n",
              "      background-color: #E8F0FE;\n",
              "      border: none;\n",
              "      border-radius: 50%;\n",
              "      cursor: pointer;\n",
              "      display: none;\n",
              "      fill: #1967D2;\n",
              "      height: 32px;\n",
              "      padding: 0 0 0 0;\n",
              "      width: 32px;\n",
              "    }\n",
              "\n",
              "    .colab-df-convert:hover {\n",
              "      background-color: #E2EBFA;\n",
              "      box-shadow: 0px 1px 2px rgba(60, 64, 67, 0.3), 0px 1px 3px 1px rgba(60, 64, 67, 0.15);\n",
              "      fill: #174EA6;\n",
              "    }\n",
              "\n",
              "    [theme=dark] .colab-df-convert {\n",
              "      background-color: #3B4455;\n",
              "      fill: #D2E3FC;\n",
              "    }\n",
              "\n",
              "    [theme=dark] .colab-df-convert:hover {\n",
              "      background-color: #434B5C;\n",
              "      box-shadow: 0px 1px 3px 1px rgba(0, 0, 0, 0.15);\n",
              "      filter: drop-shadow(0px 1px 2px rgba(0, 0, 0, 0.3));\n",
              "      fill: #FFFFFF;\n",
              "    }\n",
              "  </style>\n",
              "\n",
              "      <script>\n",
              "        const buttonEl =\n",
              "          document.querySelector('#df-e7c39928-122d-46f6-8618-7668e23c4d61 button.colab-df-convert');\n",
              "        buttonEl.style.display =\n",
              "          google.colab.kernel.accessAllowed ? 'block' : 'none';\n",
              "\n",
              "        async function convertToInteractive(key) {\n",
              "          const element = document.querySelector('#df-e7c39928-122d-46f6-8618-7668e23c4d61');\n",
              "          const dataTable =\n",
              "            await google.colab.kernel.invokeFunction('convertToInteractive',\n",
              "                                                     [key], {});\n",
              "          if (!dataTable) return;\n",
              "\n",
              "          const docLinkHtml = 'Like what you see? Visit the ' +\n",
              "            '<a target=\"_blank\" href=https://colab.research.google.com/notebooks/data_table.ipynb>data table notebook</a>'\n",
              "            + ' to learn more about interactive tables.';\n",
              "          element.innerHTML = '';\n",
              "          dataTable['output_type'] = 'display_data';\n",
              "          await google.colab.output.renderOutput(dataTable, element);\n",
              "          const docLink = document.createElement('div');\n",
              "          docLink.innerHTML = docLinkHtml;\n",
              "          element.appendChild(docLink);\n",
              "        }\n",
              "      </script>\n",
              "    </div>\n",
              "  </div>\n",
              "  "
            ]
          },
          "metadata": {},
          "execution_count": 10
        }
      ]
    },
    {
      "cell_type": "code",
      "source": [
        "df4['제품군'].value_counts()"
      ],
      "metadata": {
        "colab": {
          "base_uri": "https://localhost:8080/"
        },
        "id": "0nblW1tn7VTD",
        "outputId": "ac643d4a-36cd-40d9-e0fc-cf0ef775d586"
      },
      "execution_count": 11,
      "outputs": [
        {
          "output_type": "execute_result",
          "data": {
            "text/plain": [
              "Non Type    44367\n",
              "C Type      17361\n",
              "B type       6430\n",
              "S type       5787\n",
              "Name: 제품군, dtype: int64"
            ]
          },
          "metadata": {},
          "execution_count": 11
        }
      ]
    },
    {
      "cell_type": "code",
      "source": [
        "cond1 = (df4['제품군'] !='Non Type')\n",
        "\n",
        "df5 = df4.loc[cond1]"
      ],
      "metadata": {
        "id": "F88Z3iaU7w0o"
      },
      "execution_count": 12,
      "outputs": []
    },
    {
      "cell_type": "code",
      "source": [
        "df5.info()"
      ],
      "metadata": {
        "colab": {
          "base_uri": "https://localhost:8080/"
        },
        "id": "qI0Qxkxo77p4",
        "outputId": "14c9227b-6dd3-48e2-ca05-323946ab1dfb"
      },
      "execution_count": 13,
      "outputs": [
        {
          "output_type": "stream",
          "name": "stdout",
          "text": [
            "<class 'pandas.core.frame.DataFrame'>\n",
            "Int64Index: 29578 entries, 1286 to 75230\n",
            "Data columns (total 4 columns):\n",
            " #   Column  Non-Null Count  Dtype \n",
            "---  ------  --------------  ----- \n",
            " 0   상품명     29578 non-null  object\n",
            " 1   점포명     29578 non-null  object\n",
            " 2   판매량     29578 non-null  object\n",
            " 3   제품군     29578 non-null  object\n",
            "dtypes: object(4)\n",
            "memory usage: 1.1+ MB\n"
          ]
        }
      ]
    },
    {
      "cell_type": "code",
      "source": [
        "def func2(row):\n",
        "  if len(row) >= 4:\n",
        "    result = row.split(',')\n",
        "    return result[0] + result[1]\n",
        "  else:\n",
        "    return row\n",
        "\n",
        "df5['판매량(int)'] = (df5['판매량'].apply(func2)).astype('int')"
      ],
      "metadata": {
        "colab": {
          "base_uri": "https://localhost:8080/"
        },
        "id": "qZNZ0PlS8R6m",
        "outputId": "88d81c99-5a86-49d1-fe41-ea345667fd93"
      },
      "execution_count": 14,
      "outputs": [
        {
          "output_type": "stream",
          "name": "stderr",
          "text": [
            "/usr/local/lib/python3.7/dist-packages/ipykernel_launcher.py:8: SettingWithCopyWarning: \n",
            "A value is trying to be set on a copy of a slice from a DataFrame.\n",
            "Try using .loc[row_indexer,col_indexer] = value instead\n",
            "\n",
            "See the caveats in the documentation: https://pandas.pydata.org/pandas-docs/stable/user_guide/indexing.html#returning-a-view-versus-a-copy\n",
            "  \n"
          ]
        }
      ]
    },
    {
      "cell_type": "code",
      "source": [
        "df6 = df5.pivot_table(index=['점포명', '제품군'], values='판매량(int)', aggfunc='sum').reset_index()\n",
        "df7 = df6.sort_values(by='판매량(int)', ascending=False).head(200)\n",
        "df7.to_csv('result_0219.csv')"
      ],
      "metadata": {
        "id": "F4PHK6hf8IWB"
      },
      "execution_count": 15,
      "outputs": []
    },
    {
      "cell_type": "code",
      "source": [
        "import plotly.express as px"
      ],
      "metadata": {
        "id": "kGtrrkp59uns"
      },
      "execution_count": 16,
      "outputs": []
    },
    {
      "cell_type": "code",
      "source": [
        "\n",
        "df7 = df7[3:]"
      ],
      "metadata": {
        "id": "InL2Z0TuZO4K"
      },
      "execution_count": 21,
      "outputs": []
    },
    {
      "cell_type": "code",
      "source": [
        "fig = px.bar(df7, x='점포명', y='판매량(int)', color = '제품군')\n",
        "fig.show()\n"
      ],
      "metadata": {
        "colab": {
          "base_uri": "https://localhost:8080/",
          "height": 542
        },
        "id": "Oq766dwnY_J0",
        "outputId": "0235300e-0bb5-499d-e718-d3dd605f5ad4"
      },
      "execution_count": 22,
      "outputs": [
        {
          "output_type": "display_data",
          "data": {
            "text/html": [
              "<html>\n",
              "<head><meta charset=\"utf-8\" /></head>\n",
              "<body>\n",
              "    <div>            <script src=\"https://cdnjs.cloudflare.com/ajax/libs/mathjax/2.7.5/MathJax.js?config=TeX-AMS-MML_SVG\"></script><script type=\"text/javascript\">if (window.MathJax) {MathJax.Hub.Config({SVG: {font: \"STIX-Web\"}});}</script>                <script type=\"text/javascript\">window.PlotlyConfig = {MathJaxConfig: 'local'};</script>\n",
              "        <script src=\"https://cdn.plot.ly/plotly-2.8.3.min.js\"></script>                <div id=\"0f2defd4-aaf8-4fbf-8b51-aedbe3289ead\" class=\"plotly-graph-div\" style=\"height:525px; width:100%;\"></div>            <script type=\"text/javascript\">                                    window.PLOTLYENV=window.PLOTLYENV || {};                                    if (document.getElementById(\"0f2defd4-aaf8-4fbf-8b51-aedbe3289ead\")) {                    Plotly.newPlot(                        \"0f2defd4-aaf8-4fbf-8b51-aedbe3289ead\",                        [{\"alignmentgroup\":\"True\",\"hovertemplate\":\"\\uc81c\\ud488\\uad70=C Type<br>\\uc810\\ud3ec\\uba85=%{x}<br>\\ud310\\ub9e4\\ub7c9(int)=%{y}<extra></extra>\",\"legendgroup\":\"C Type\",\"marker\":{\"color\":\"#636efa\",\"pattern\":{\"shape\":\"\"}},\"name\":\"C Type\",\"offsetgroup\":\"C Type\",\"orientation\":\"v\",\"showlegend\":true,\"textposition\":\"auto\",\"x\":[\"(550)\\uc740\\ud3c9\\uc810\",\"(601)\\uc2dc\\ud654\\uc810\",\"(690)\\uace0\\uc794\\uc810\",\"(962)\\uacbd\\uae30\\uad11\\uc8fc\\uc810\",\"(490)\\ucc9c\\uc548\\uc810\",\"(400)\\uc0c1\\ubd09\\uc810\",\"(380)\\uac00\\uc591\\uc810\",\"(740)\\uc18d\\ucd08\\uc810\",\"(660)\\uc5f0\\uc218\\uc810\",\"(932)\\uc624\\uc0b0\\uc810\",\"(340)\\uad6c\\ub85c\\uc810\",\"(560)\\uc5ec\\uc218\\uc810\",\"(540)\\ud3c9\\ud0dd\\uc810\",\"(900)\\uc21c\\ucc9c\\uc810\",\"(964)\\uc81c\\ucc9c\\uc810\",\"(470)\\uc131\\uc218\\uc810\",\"(700)\\ubb38\\ud604\\uc810\",\"(931)\\ub0a8\\uc591\\uc8fc\\uc810\",\"(750)\\uc0ac\\uc0c1\\uc810\",\"(952)\\uc655\\uc2ed\\ub9ac\\uc810\",\"(840)\\uc6d4\\uacc4\\uc810\",\"(760)\\uc6b8\\uc0b0\\uc810\",\"(1164)\\uad11\\uc8fc\\uc810\",\"(360)\\uc0b0\\ubcf8\\uc810\",\"(947)\\ub3d9\\ud0c4\\uc810\",\"(181)\\uc911\\ub3d9\\uc810\",\"(520)\\uc218\\uc6d0\\uc810\",\"(951)\\uccad\\uacc4\\ucc9c\\uc810\",\"(850)\\uc6a9\\uc0b0\\uc810\",\"(410)\\uc774\\ucc9c\\uc810\",\"(460)\\uad70\\uc0b0\\uc810\",\"(430)\\ubaa9\\ud3ec\\uc810\",\"(480)\\uc6d4\\ubc30\\uc810\",\"(631)\\uc2e0\\uc6d4\\uc810\",\"(580)\\uc5f0\\uc81c\\uc810\",\"(182)\\uacc4\\uc591\\uc810\",\"(984)\\ucc9c\\uc548\\uc11c\\ubd81\\uc810\",\"(640)\\ucc3d\\uc6d0\\uc810\",\"(440)\\ub3d9\\uc778\\ucc9c\\uc810\",\"(680)\\uac15\\ub989\\uc810\",\"(968)\\uad11\\uba85\\uc18c\\ud558\\uc810\",\"(1156)\\ud48d\\uc0b0\\uc810\",\"(941)\\uc790\\uc591\\uc810\",\"(320)\\uc804\\uc8fc\\uc810\",\"(935)\\uacbd\\uc0b0\\uc810\",\"(975)\\ud30c\\uc8fc\\uc6b4\\uc815\\uc810\",\"(934)\\uc11c\\uadc0\\ud3ec\\uc810\",\"(939)\\uc544\\uc0b0\\uc810\",\"(945)\\uc2e0\\ub3c4\\ub9bc\\uc810\",\"(946)\\uc5ec\\uc8fc\\uc810\",\"(590)\\uce60\\uc131\\uc810\",\"(450)\\ub9cc\\ucd0c\\uc810\",\"(240)\\uc81c\\uc8fc\\uc810\",\"(920)\\uc11c\\uc218\\uc6d0\\uc810\",\"(650)\\uba85\\uc77c\\uc810\",\"(1157)\\uae40\\ud3ec\\ud55c\\uac15\\uc810\",\"(890)\\ud1b5\\uc601\\uc810\",\"(933)\\uc6a9\\uc778\\uc810\",\"(310)\\uccad\\uc8fc\\uc810\",\"(151)E/T\\uc1a1\\ub9bc\\uc810\",\"(955)\\ubbf8\\uc544\\uc810\",\"(K42)\\uc774\\ucc9c\\uc810\",\"(977)\\ub300\\uc804\\ud130\\ubbf8\\ub110\",\"(950)\\ud558\\ub0a8\\uc810\",\"(949)\\ub3c4\\ub18d\\uc810\",\"(790)\\uad11\\uc0b0\\uc810\",\"(959)\\ubaa9\\ub3d9\\uc810\",\"(954)\\uc548\\uc131\\uc810\",\"(720)\\uc218\\uc9c0\\uc810\",\"(710)\\uae08\\uc815\\uc810\",\"(155)E/T\\uc548\\uc0b0\\uc810\",\"(980)\\uc11c\\uc0b0\\uc810\",\"(570)\\ud3ec\\ud56d\\uc810\",\"(350)\\uc131\\uc11c\\uc810\",\"(530)\\ucda9\\uc8fc\\uc810\",\"(620)\\ub454\\uc0b0\\uc810\",\"(820)\\ud30c\\uc8fc\\uc810\",\"(1155)\\ubcc4\\ub0b4\\uc810\",\"(810)\\uc591\\uc0b0\\uc810\",\"(930)\\uc8fd\\uc804\\uc810\",\"(981)\\ud558\\uc6d4\\uace1\\uc810\",\"(938)\\uac80\\ub2e8\\uc810\",\"(420)\\uc9c4\\uc8fc\\uc810\",\"(183)\\ud3c9\\ucd0c\\uc810\",\"(770)\\ub3d9\\ud574\\uc810\",\"(1160)\\uad11\\uad50\\uc810\",\"(K38)\\uae40\\ud574\\uc810\",\"(961)\\uc601\\ub4f1\\ud3ec\\uc810\",\"(1158)\\uc138\\uc885\\uc810\",\"(186)\\uc774\\ub3d9\\uc810\",\"(942)\\uad11\\uba85\\uc810\",\"(K35)\\uc131\\uc8fc\\uc810\",\"(K29)\\ub3d9\\ub9bc\\ub3d9\\uc810\",\"(974)\\uac00\\ub4e05\\uc810\",\"(200)\\ucc3d\\ub3d9\\uc810\",\"(944)\\ubd09\\uc120\\uc810\",\"(979)\\ub9c8\\ud3ec\\uacf5\\ub355\\uc810\",\"(730)\\uc2e0\\uc81c\\uc8fc\\uc810\",\"(390)\\ud574\\uc6b4\\ub300\\uc810\",\"(370)\\ucc9c\\ud638\\uc810\",\"(953)\\ubcf4\\ub839\\uc810\",\"(967)\\ud3ec\\ucc9c\\uc810\",\"(K31)\\uac1c\\ubd09\\ub3d9\\uc810\",\"(2231)\\uc11c\\ucc3d2\\uc810\",\"(860)\\uc548\\ub3d9\\uc810\",\"(K50)\\ubc88\\ub3d9\\uc810\",\"(969)\\ucc9c\\uc548\\ud130\\ubbf8\\ub110\",\"(936)\\ub3d9\\ubc31\\uc810\",\"(800)\\uc591\\uc8fc\\uc810\",\"(1409)E/T\\uc218\\uc6d0\\uc810\",\"(1162)\\uae40\\ud574\\ud130\\ubbf8\\ub110\\uc810\",\"(910)\\ucd98\\ucc9c\\uc810\",\"(983)\\ud654\\uc131\\ubd09\\ub2f4\\uc810\",\"(978)\\ub3d9\\uad6c\\ubbf8\\uc810\",\"(1154)\\uc758\\uc815\\ubd80\\uc810\",\"(175)\\uc5ed\\uc0bc\\uc810\",\"(330)\\uc6d0\\uc8fc\\uc810\",\"(250)\\ubd84\\ub2f9\\uc810\",\"(971)\\uc9c4\\uc811\\uc810\",\"(210)\\uc77c\\uc0b0\\uc810\",\"(K39)\\uba74\\ubaa9\\ub3d9\\uc810\",\"(973)\\ubb35\\ub3d9\\uc810\",\"(K15)\\uc77c\\uace1\\ub3d9\\uc810\",\"(177)\\ud654\\uc815\\uc810\",\"(K26)\\ub2f9\\ub3d9\\uc810\",\"(L02)\\uace0\\uc591\\ub3d9\\uc810\",\"(2652)\\ub3d9\\ud0c4\\uce74\\ub9bc\\uc810\",\"(260)\\ub0a8\\uc6d0\\uc810\",\"(940)\\ud0dc\\ubc31\\uc810\",\"(2127)\\ub3c4\\ubd09\\uc810\",\"(L27)\\ud1b5\\uc77c\\ub3d9\\uc0b0\\uc810\",\"(L12)\\uc77c\\uc0b02\\ud638\\uc810\",\"(1159)\\ud0a8\\ud14d\\uc2a4\\uc810\",\"(2658)\\uae40\\ud574\\uc728\\ud558\\uc810\",\"(185)\\ub9c8\\uc0b0\\uc810\",\"(L39)\\ubcf8\\uc624\\uc810\",\"(1417)E/T\\uc6d4\\uacc4\\uc810\",\"(290)\\uae40\\ucc9c\\uc810\",\"(830)\\ubc18\\uc57c\\uc6d4\\uc810\",\"(K87)\\uc9c4\\ub7c9\\uc810\",\"(1163)\\uc758\\uc655\\uc810\",\"(150)E/T\\uad6c\\uc131\\uc810\",\"(L44)\\uc2e0\\uae38\\uc810\",\"(1412)E/T\\uc2a4\\ud0c0\\ud544\\ub4dc\\ud558\\ub0a8\\uc810\",\"(K99)\\uc791\\uc804\\uc810\",\"(970)\\uc774\\uc218\\uc810\",\"(K12)\\uc911\\uace1\\ub3d9\\uc810\",\"(K93)\\ub3d9\\uc591\\uc810\",\"(K53)\\uc6d4\\ud53c\\ub3d9\\uc810\",\"(L19)\\uad11\\ub989\\uc810\",\"(K68)\\uc6a9\\ud604\\ub3d9\\uc810\",\"(2887)\\uc2e0\\ud0c4\\uc9c4\\uc810\",\"(156)E/T\\ucc9c\\uc548\\uc810\",\"(L15)\\ubc95\\uc6d0\\uc810\",\"(152)E/T\\uc6d4\\ud3c9\\uc810\",\"(K70)\\ub2a5\\ub3d9\\uc810\",\"(154)E/T\\ube44\\uc0b0\\uc810\",\"(153)E/T\\uc11c\\uba74\\uc810\",\"(2636)\\ud3c9\\ub0b4\\uc810\",\"(L18)\\ud0c4\\ud604\\ub3d9\\uc810\",\"(300)\\ub3d9\\uad11\\uc8fc\\uc810\",\"(2638)\\uc1a1\\ub3c4\\ud638\\ubc18\\uc810\",\"(L06)\\ud31c\\uc2a4\\ud504\\ub9c1\\uc810\",\"(2526)\\uc758\\uc815\\ubd80\\ubbfc\\ub77d\\uc810\",\"(K48)\\ub2f5\\uc2ed\\ub9ac\\uc810\",\"(633)\\uc218\\uc11c\\uc810\",\"(1418)E/T\\uc2a4\\ud0c0\\ud544\\ub4dc\\ubd80\\ucc9c\\uc810\",\"(1414)E/T\\uad70\\ud3ec\\uc810\",\"(937)\\uc775\\uc0b0\\uc810\",\"(963)\\uc218\\uc0c9\\uc810\",\"(2674)\\ub3d9\\ud0c4\\ud638\\uc218\\uc810\"],\"xaxis\":\"x\",\"y\":[10278,9480,9473,8882,8447,8410,8395,8279,7869,7842,7831,7750,7706,7652,7555,7276,7260,7218,7063,6862,6850,6781,6708,6543,6454,6433,6327,6324,6141,6138,6076,6056,5983,5949,5919,5903,5882,5813,5731,5678,5596,5477,5463,5370,5368,5315,5312,5292,5260,5237,5212,5188,5142,5090,5053,5031,5003,4963,4957,4933,4896,4800,4697,4685,4666,4653,4644,4642,4638,4618,4600,4589,4543,4539,4527,4525,4461,4438,4436,4434,4420,4420,4323,4263,4228,4215,4204,4113,4037,4035,4029,3973,3973,3933,3892,3828,3807,3801,3747,3744,3637,3529,3517,3441,3429,3272,3254,3250,3220,3188,3171,3171,3139,3128,3119,3101,3086,3043,3015,2984,2980,2916,2866,2827,2819,2813,2777,2768,2763,2754,2718,2709,2705,2681,2671,2595,2575,2550,2519,2504,2487,2486,2473,2451,2442,2431,2417,2393,2390,2389,2388,2355,2332,2328,2323,2322,2315,2302,2276,2271,2260,2249,2245,2230,2206,2206,2177,2167,2162,2155,2151],\"yaxis\":\"y\",\"type\":\"bar\"},{\"alignmentgroup\":\"True\",\"hovertemplate\":\"\\uc81c\\ud488\\uad70=B type<br>\\uc810\\ud3ec\\uba85=%{x}<br>\\ud310\\ub9e4\\ub7c9(int)=%{y}<extra></extra>\",\"legendgroup\":\"B type\",\"marker\":{\"color\":\"#EF553B\",\"pattern\":{\"shape\":\"\"}},\"name\":\"B type\",\"offsetgroup\":\"B type\",\"orientation\":\"v\",\"showlegend\":true,\"textposition\":\"auto\",\"x\":[\"(959)\\ubaa9\\ub3d9\\uc810\",\"(1413)E/T\\uc2a4\\ud0c0\\ud544\\ub4dc\\uace0\\uc591\\uc810\",\"(150)E/T\\uad6c\\uc131\\uc810\",\"(1412)E/T\\uc2a4\\ud0c0\\ud544\\ub4dc\\ud558\\ub0a8\\uc810\",\"(153)E/T\\uc11c\\uba74\\uc810\",\"(930)\\uc8fd\\uc804\\uc810\",\"(151)E/T\\uc1a1\\ub9bc\\uc810\",\"(1409)E/T\\uc218\\uc6d0\\uc810\",\"(610)\\ubd80\\ucc9c\\uc810\",\"(1417)E/T\\uc6d4\\uacc4\\uc810\",\"(1419)E/T\\uc2a4\\ud0c0\\ud544\\ub4dc\\uba85\\uc9c0\\uc810\",\"(152)E/T\\uc6d4\\ud3c9\\uc810\",\"(1418)E/T\\uc2a4\\ud0c0\\ud544\\ub4dc\\ubd80\\ucc9c\\uc810\",\"(1414)E/T\\uad70\\ud3ec\\uc810\",\"(936)\\ub3d9\\ubc31\\uc810\",\"(1410)E/T\\ud0a8\\ud14d\\uc2a4\\uc810\",\"(934)\\uc11c\\uadc0\\ud3ec\\uc810\",\"(650)\\uba85\\uc77c\\uc810\",\"(979)\\ub9c8\\ud3ec\\uacf5\\ub355\\uc810\",\"(947)\\ub3d9\\ud0c4\\uc810\",\"(974)\\uac00\\ub4e05\\uc810\"],\"xaxis\":\"x\",\"y\":[3548,3267,3267,3137,2991,2904,2870,2783,2734,2716,2565,2522,2408,2338,2305,2301,2258,2239,2207,2174,2166],\"yaxis\":\"y\",\"type\":\"bar\"},{\"alignmentgroup\":\"True\",\"hovertemplate\":\"\\uc81c\\ud488\\uad70=S type<br>\\uc810\\ud3ec\\uba85=%{x}<br>\\ud310\\ub9e4\\ub7c9(int)=%{y}<extra></extra>\",\"legendgroup\":\"S type\",\"marker\":{\"color\":\"#00cc96\",\"pattern\":{\"shape\":\"\"}},\"name\":\"S type\",\"offsetgroup\":\"S type\",\"orientation\":\"v\",\"showlegend\":true,\"textposition\":\"auto\",\"x\":[\"(930)\\uc8fd\\uc804\\uc810\",\"(150)E/T\\uad6c\\uc131\\uc810\"],\"xaxis\":\"x\",\"y\":[2686,2174],\"yaxis\":\"y\",\"type\":\"bar\"}],                        {\"template\":{\"data\":{\"bar\":[{\"error_x\":{\"color\":\"#2a3f5f\"},\"error_y\":{\"color\":\"#2a3f5f\"},\"marker\":{\"line\":{\"color\":\"#E5ECF6\",\"width\":0.5},\"pattern\":{\"fillmode\":\"overlay\",\"size\":10,\"solidity\":0.2}},\"type\":\"bar\"}],\"barpolar\":[{\"marker\":{\"line\":{\"color\":\"#E5ECF6\",\"width\":0.5},\"pattern\":{\"fillmode\":\"overlay\",\"size\":10,\"solidity\":0.2}},\"type\":\"barpolar\"}],\"carpet\":[{\"aaxis\":{\"endlinecolor\":\"#2a3f5f\",\"gridcolor\":\"white\",\"linecolor\":\"white\",\"minorgridcolor\":\"white\",\"startlinecolor\":\"#2a3f5f\"},\"baxis\":{\"endlinecolor\":\"#2a3f5f\",\"gridcolor\":\"white\",\"linecolor\":\"white\",\"minorgridcolor\":\"white\",\"startlinecolor\":\"#2a3f5f\"},\"type\":\"carpet\"}],\"choropleth\":[{\"colorbar\":{\"outlinewidth\":0,\"ticks\":\"\"},\"type\":\"choropleth\"}],\"contour\":[{\"colorbar\":{\"outlinewidth\":0,\"ticks\":\"\"},\"colorscale\":[[0.0,\"#0d0887\"],[0.1111111111111111,\"#46039f\"],[0.2222222222222222,\"#7201a8\"],[0.3333333333333333,\"#9c179e\"],[0.4444444444444444,\"#bd3786\"],[0.5555555555555556,\"#d8576b\"],[0.6666666666666666,\"#ed7953\"],[0.7777777777777778,\"#fb9f3a\"],[0.8888888888888888,\"#fdca26\"],[1.0,\"#f0f921\"]],\"type\":\"contour\"}],\"contourcarpet\":[{\"colorbar\":{\"outlinewidth\":0,\"ticks\":\"\"},\"type\":\"contourcarpet\"}],\"heatmap\":[{\"colorbar\":{\"outlinewidth\":0,\"ticks\":\"\"},\"colorscale\":[[0.0,\"#0d0887\"],[0.1111111111111111,\"#46039f\"],[0.2222222222222222,\"#7201a8\"],[0.3333333333333333,\"#9c179e\"],[0.4444444444444444,\"#bd3786\"],[0.5555555555555556,\"#d8576b\"],[0.6666666666666666,\"#ed7953\"],[0.7777777777777778,\"#fb9f3a\"],[0.8888888888888888,\"#fdca26\"],[1.0,\"#f0f921\"]],\"type\":\"heatmap\"}],\"heatmapgl\":[{\"colorbar\":{\"outlinewidth\":0,\"ticks\":\"\"},\"colorscale\":[[0.0,\"#0d0887\"],[0.1111111111111111,\"#46039f\"],[0.2222222222222222,\"#7201a8\"],[0.3333333333333333,\"#9c179e\"],[0.4444444444444444,\"#bd3786\"],[0.5555555555555556,\"#d8576b\"],[0.6666666666666666,\"#ed7953\"],[0.7777777777777778,\"#fb9f3a\"],[0.8888888888888888,\"#fdca26\"],[1.0,\"#f0f921\"]],\"type\":\"heatmapgl\"}],\"histogram\":[{\"marker\":{\"pattern\":{\"fillmode\":\"overlay\",\"size\":10,\"solidity\":0.2}},\"type\":\"histogram\"}],\"histogram2d\":[{\"colorbar\":{\"outlinewidth\":0,\"ticks\":\"\"},\"colorscale\":[[0.0,\"#0d0887\"],[0.1111111111111111,\"#46039f\"],[0.2222222222222222,\"#7201a8\"],[0.3333333333333333,\"#9c179e\"],[0.4444444444444444,\"#bd3786\"],[0.5555555555555556,\"#d8576b\"],[0.6666666666666666,\"#ed7953\"],[0.7777777777777778,\"#fb9f3a\"],[0.8888888888888888,\"#fdca26\"],[1.0,\"#f0f921\"]],\"type\":\"histogram2d\"}],\"histogram2dcontour\":[{\"colorbar\":{\"outlinewidth\":0,\"ticks\":\"\"},\"colorscale\":[[0.0,\"#0d0887\"],[0.1111111111111111,\"#46039f\"],[0.2222222222222222,\"#7201a8\"],[0.3333333333333333,\"#9c179e\"],[0.4444444444444444,\"#bd3786\"],[0.5555555555555556,\"#d8576b\"],[0.6666666666666666,\"#ed7953\"],[0.7777777777777778,\"#fb9f3a\"],[0.8888888888888888,\"#fdca26\"],[1.0,\"#f0f921\"]],\"type\":\"histogram2dcontour\"}],\"mesh3d\":[{\"colorbar\":{\"outlinewidth\":0,\"ticks\":\"\"},\"type\":\"mesh3d\"}],\"parcoords\":[{\"line\":{\"colorbar\":{\"outlinewidth\":0,\"ticks\":\"\"}},\"type\":\"parcoords\"}],\"pie\":[{\"automargin\":true,\"type\":\"pie\"}],\"scatter\":[{\"marker\":{\"colorbar\":{\"outlinewidth\":0,\"ticks\":\"\"}},\"type\":\"scatter\"}],\"scatter3d\":[{\"line\":{\"colorbar\":{\"outlinewidth\":0,\"ticks\":\"\"}},\"marker\":{\"colorbar\":{\"outlinewidth\":0,\"ticks\":\"\"}},\"type\":\"scatter3d\"}],\"scattercarpet\":[{\"marker\":{\"colorbar\":{\"outlinewidth\":0,\"ticks\":\"\"}},\"type\":\"scattercarpet\"}],\"scattergeo\":[{\"marker\":{\"colorbar\":{\"outlinewidth\":0,\"ticks\":\"\"}},\"type\":\"scattergeo\"}],\"scattergl\":[{\"marker\":{\"colorbar\":{\"outlinewidth\":0,\"ticks\":\"\"}},\"type\":\"scattergl\"}],\"scattermapbox\":[{\"marker\":{\"colorbar\":{\"outlinewidth\":0,\"ticks\":\"\"}},\"type\":\"scattermapbox\"}],\"scatterpolar\":[{\"marker\":{\"colorbar\":{\"outlinewidth\":0,\"ticks\":\"\"}},\"type\":\"scatterpolar\"}],\"scatterpolargl\":[{\"marker\":{\"colorbar\":{\"outlinewidth\":0,\"ticks\":\"\"}},\"type\":\"scatterpolargl\"}],\"scatterternary\":[{\"marker\":{\"colorbar\":{\"outlinewidth\":0,\"ticks\":\"\"}},\"type\":\"scatterternary\"}],\"surface\":[{\"colorbar\":{\"outlinewidth\":0,\"ticks\":\"\"},\"colorscale\":[[0.0,\"#0d0887\"],[0.1111111111111111,\"#46039f\"],[0.2222222222222222,\"#7201a8\"],[0.3333333333333333,\"#9c179e\"],[0.4444444444444444,\"#bd3786\"],[0.5555555555555556,\"#d8576b\"],[0.6666666666666666,\"#ed7953\"],[0.7777777777777778,\"#fb9f3a\"],[0.8888888888888888,\"#fdca26\"],[1.0,\"#f0f921\"]],\"type\":\"surface\"}],\"table\":[{\"cells\":{\"fill\":{\"color\":\"#EBF0F8\"},\"line\":{\"color\":\"white\"}},\"header\":{\"fill\":{\"color\":\"#C8D4E3\"},\"line\":{\"color\":\"white\"}},\"type\":\"table\"}]},\"layout\":{\"annotationdefaults\":{\"arrowcolor\":\"#2a3f5f\",\"arrowhead\":0,\"arrowwidth\":1},\"autotypenumbers\":\"strict\",\"coloraxis\":{\"colorbar\":{\"outlinewidth\":0,\"ticks\":\"\"}},\"colorscale\":{\"diverging\":[[0,\"#8e0152\"],[0.1,\"#c51b7d\"],[0.2,\"#de77ae\"],[0.3,\"#f1b6da\"],[0.4,\"#fde0ef\"],[0.5,\"#f7f7f7\"],[0.6,\"#e6f5d0\"],[0.7,\"#b8e186\"],[0.8,\"#7fbc41\"],[0.9,\"#4d9221\"],[1,\"#276419\"]],\"sequential\":[[0.0,\"#0d0887\"],[0.1111111111111111,\"#46039f\"],[0.2222222222222222,\"#7201a8\"],[0.3333333333333333,\"#9c179e\"],[0.4444444444444444,\"#bd3786\"],[0.5555555555555556,\"#d8576b\"],[0.6666666666666666,\"#ed7953\"],[0.7777777777777778,\"#fb9f3a\"],[0.8888888888888888,\"#fdca26\"],[1.0,\"#f0f921\"]],\"sequentialminus\":[[0.0,\"#0d0887\"],[0.1111111111111111,\"#46039f\"],[0.2222222222222222,\"#7201a8\"],[0.3333333333333333,\"#9c179e\"],[0.4444444444444444,\"#bd3786\"],[0.5555555555555556,\"#d8576b\"],[0.6666666666666666,\"#ed7953\"],[0.7777777777777778,\"#fb9f3a\"],[0.8888888888888888,\"#fdca26\"],[1.0,\"#f0f921\"]]},\"colorway\":[\"#636efa\",\"#EF553B\",\"#00cc96\",\"#ab63fa\",\"#FFA15A\",\"#19d3f3\",\"#FF6692\",\"#B6E880\",\"#FF97FF\",\"#FECB52\"],\"font\":{\"color\":\"#2a3f5f\"},\"geo\":{\"bgcolor\":\"white\",\"lakecolor\":\"white\",\"landcolor\":\"#E5ECF6\",\"showlakes\":true,\"showland\":true,\"subunitcolor\":\"white\"},\"hoverlabel\":{\"align\":\"left\"},\"hovermode\":\"closest\",\"mapbox\":{\"style\":\"light\"},\"paper_bgcolor\":\"white\",\"plot_bgcolor\":\"#E5ECF6\",\"polar\":{\"angularaxis\":{\"gridcolor\":\"white\",\"linecolor\":\"white\",\"ticks\":\"\"},\"bgcolor\":\"#E5ECF6\",\"radialaxis\":{\"gridcolor\":\"white\",\"linecolor\":\"white\",\"ticks\":\"\"}},\"scene\":{\"xaxis\":{\"backgroundcolor\":\"#E5ECF6\",\"gridcolor\":\"white\",\"gridwidth\":2,\"linecolor\":\"white\",\"showbackground\":true,\"ticks\":\"\",\"zerolinecolor\":\"white\"},\"yaxis\":{\"backgroundcolor\":\"#E5ECF6\",\"gridcolor\":\"white\",\"gridwidth\":2,\"linecolor\":\"white\",\"showbackground\":true,\"ticks\":\"\",\"zerolinecolor\":\"white\"},\"zaxis\":{\"backgroundcolor\":\"#E5ECF6\",\"gridcolor\":\"white\",\"gridwidth\":2,\"linecolor\":\"white\",\"showbackground\":true,\"ticks\":\"\",\"zerolinecolor\":\"white\"}},\"shapedefaults\":{\"line\":{\"color\":\"#2a3f5f\"}},\"ternary\":{\"aaxis\":{\"gridcolor\":\"white\",\"linecolor\":\"white\",\"ticks\":\"\"},\"baxis\":{\"gridcolor\":\"white\",\"linecolor\":\"white\",\"ticks\":\"\"},\"bgcolor\":\"#E5ECF6\",\"caxis\":{\"gridcolor\":\"white\",\"linecolor\":\"white\",\"ticks\":\"\"}},\"title\":{\"x\":0.05},\"xaxis\":{\"automargin\":true,\"gridcolor\":\"white\",\"linecolor\":\"white\",\"ticks\":\"\",\"title\":{\"standoff\":15},\"zerolinecolor\":\"white\",\"zerolinewidth\":2},\"yaxis\":{\"automargin\":true,\"gridcolor\":\"white\",\"linecolor\":\"white\",\"ticks\":\"\",\"title\":{\"standoff\":15},\"zerolinecolor\":\"white\",\"zerolinewidth\":2}}},\"xaxis\":{\"anchor\":\"y\",\"domain\":[0.0,1.0],\"title\":{\"text\":\"\\uc810\\ud3ec\\uba85\"}},\"yaxis\":{\"anchor\":\"x\",\"domain\":[0.0,1.0],\"title\":{\"text\":\"\\ud310\\ub9e4\\ub7c9(int)\"}},\"legend\":{\"title\":{\"text\":\"\\uc81c\\ud488\\uad70\"},\"tracegroupgap\":0},\"margin\":{\"t\":60},\"barmode\":\"relative\"},                        {\"responsive\": true}                    ).then(function(){\n",
              "                            \n",
              "var gd = document.getElementById('0f2defd4-aaf8-4fbf-8b51-aedbe3289ead');\n",
              "var x = new MutationObserver(function (mutations, observer) {{\n",
              "        var display = window.getComputedStyle(gd).display;\n",
              "        if (!display || display === 'none') {{\n",
              "            console.log([gd, 'removed!']);\n",
              "            Plotly.purge(gd);\n",
              "            observer.disconnect();\n",
              "        }}\n",
              "}});\n",
              "\n",
              "// Listen for the removal of the full notebook cells\n",
              "var notebookContainer = gd.closest('#notebook-container');\n",
              "if (notebookContainer) {{\n",
              "    x.observe(notebookContainer, {childList: true});\n",
              "}}\n",
              "\n",
              "// Listen for the clearing of the current output cell\n",
              "var outputEl = gd.closest('.output');\n",
              "if (outputEl) {{\n",
              "    x.observe(outputEl, {childList: true});\n",
              "}}\n",
              "\n",
              "                        })                };                            </script>        </div>\n",
              "</body>\n",
              "</html>"
            ]
          },
          "metadata": {}
        }
      ]
    },
    {
      "cell_type": "code",
      "source": [
        "pip install dash"
      ],
      "metadata": {
        "colab": {
          "base_uri": "https://localhost:8080/"
        },
        "id": "9Bw_T3DldXX3",
        "outputId": "c96fa123-7b08-4f48-e877-55a87e55d6e2"
      },
      "execution_count": 24,
      "outputs": [
        {
          "output_type": "stream",
          "name": "stdout",
          "text": [
            "Looking in indexes: https://pypi.org/simple, https://us-python.pkg.dev/colab-wheels/public/simple/\n",
            "Collecting dash\n",
            "  Downloading dash-2.6.2-py3-none-any.whl (9.8 MB)\n",
            "\u001b[K     |████████████████████████████████| 9.8 MB 13.0 MB/s \n",
            "\u001b[?25hRequirement already satisfied: plotly>=5.0.0 in /usr/local/lib/python3.7/dist-packages (from dash) (5.5.0)\n",
            "Collecting dash-html-components==2.0.0\n",
            "  Downloading dash_html_components-2.0.0-py3-none-any.whl (4.1 kB)\n",
            "Collecting dash-table==5.0.0\n",
            "  Downloading dash_table-5.0.0-py3-none-any.whl (3.9 kB)\n",
            "Requirement already satisfied: Flask>=1.0.4 in /usr/local/lib/python3.7/dist-packages (from dash) (1.1.4)\n",
            "Collecting flask-compress\n",
            "  Downloading Flask_Compress-1.13-py3-none-any.whl (7.9 kB)\n",
            "Collecting dash-core-components==2.0.0\n",
            "  Downloading dash_core_components-2.0.0-py3-none-any.whl (3.8 kB)\n",
            "Requirement already satisfied: Werkzeug<2.0,>=0.15 in /usr/local/lib/python3.7/dist-packages (from Flask>=1.0.4->dash) (1.0.1)\n",
            "Requirement already satisfied: Jinja2<3.0,>=2.10.1 in /usr/local/lib/python3.7/dist-packages (from Flask>=1.0.4->dash) (2.11.3)\n",
            "Requirement already satisfied: click<8.0,>=5.1 in /usr/local/lib/python3.7/dist-packages (from Flask>=1.0.4->dash) (7.1.2)\n",
            "Requirement already satisfied: itsdangerous<2.0,>=0.24 in /usr/local/lib/python3.7/dist-packages (from Flask>=1.0.4->dash) (1.1.0)\n",
            "Requirement already satisfied: MarkupSafe>=0.23 in /usr/local/lib/python3.7/dist-packages (from Jinja2<3.0,>=2.10.1->Flask>=1.0.4->dash) (2.0.1)\n",
            "Requirement already satisfied: six in /usr/local/lib/python3.7/dist-packages (from plotly>=5.0.0->dash) (1.15.0)\n",
            "Requirement already satisfied: tenacity>=6.2.0 in /usr/local/lib/python3.7/dist-packages (from plotly>=5.0.0->dash) (8.1.0)\n",
            "Collecting brotli\n",
            "  Downloading Brotli-1.0.9-cp37-cp37m-manylinux1_x86_64.whl (357 kB)\n",
            "\u001b[K     |████████████████████████████████| 357 kB 67.0 MB/s \n",
            "\u001b[?25hInstalling collected packages: brotli, flask-compress, dash-table, dash-html-components, dash-core-components, dash\n",
            "Successfully installed brotli-1.0.9 dash-2.6.2 dash-core-components-2.0.0 dash-html-components-2.0.0 dash-table-5.0.0 flask-compress-1.13\n"
          ]
        }
      ]
    },
    {
      "cell_type": "code",
      "source": [
        "import dash\n",
        "import dash_core_components as dcc\n",
        "import dash_html_components as html\n",
        "import plotly.express as px\n",
        "import pandas as pd\n",
        "\n",
        "external_stylesheets = ['https://codepen.io/chriddyp/pen/bWLwgP.css']\n",
        "\n",
        "app = dash.Dash(__name__, external_stylesheets=external_stylesheets)\n",
        "\n",
        "df1 = pd.read_csv('/content/drive/MyDrive/data_station/dash/result0219.csv')\n",
        "\n",
        "fig = px.bar(df1, x=\"지점\", y=\"수량(int)\", color=\"제품타입\")\n",
        "\n",
        "app.layout = html.Div(children=[\n",
        "    html.H1(children='Dsah Board'),\n",
        "\n",
        "    html.Div(children='''\n",
        "        작업 대쉬 보드 \n",
        "    '''),\n",
        "\n",
        "    dcc.Graph(\n",
        "        id='example-graph',\n",
        "        figure=fig\n",
        "    )\n",
        "])\n",
        "\n",
        "if __name__ == '__main__':\n",
        "    app.run_server(debug=True)"
      ],
      "metadata": {
        "colab": {
          "base_uri": "https://localhost:8080/",
          "height": 548
        },
        "id": "7FuoUs2NZI4c",
        "outputId": "6cfb73c2-1d6b-489a-d6ac-22ce3e3e9347"
      },
      "execution_count": 25,
      "outputs": [
        {
          "output_type": "stream",
          "name": "stderr",
          "text": [
            "/usr/local/lib/python3.7/dist-packages/ipykernel_launcher.py:2: UserWarning:\n",
            "\n",
            "\n",
            "The dash_core_components package is deprecated. Please replace\n",
            "`import dash_core_components as dcc` with `from dash import dcc`\n",
            "\n",
            "/usr/local/lib/python3.7/dist-packages/ipykernel_launcher.py:3: UserWarning:\n",
            "\n",
            "\n",
            "The dash_html_components package is deprecated. Please replace\n",
            "`import dash_html_components as html` with `from dash import html`\n",
            "\n"
          ]
        },
        {
          "output_type": "stream",
          "name": "stdout",
          "text": [
            "Dash is running on http://127.0.0.1:8050/\n",
            "\n"
          ]
        },
        {
          "output_type": "stream",
          "name": "stderr",
          "text": [
            "INFO:__main__:Dash is running on http://127.0.0.1:8050/\n",
            "\n"
          ]
        },
        {
          "output_type": "stream",
          "name": "stdout",
          "text": [
            " * Serving Flask app \"__main__\" (lazy loading)\n",
            " * Environment: production\n",
            "\u001b[31m   WARNING: This is a development server. Do not use it in a production deployment.\u001b[0m\n",
            "\u001b[2m   Use a production WSGI server instead.\u001b[0m\n",
            " * Debug mode: on\n"
          ]
        },
        {
          "output_type": "error",
          "ename": "SystemExit",
          "evalue": "ignored",
          "traceback": [
            "An exception has occurred, use %tb to see the full traceback.\n",
            "\u001b[0;31mSystemExit\u001b[0m\u001b[0;31m:\u001b[0m 1\n"
          ]
        },
        {
          "output_type": "stream",
          "name": "stderr",
          "text": [
            "/usr/local/lib/python3.7/dist-packages/IPython/core/interactiveshell.py:3334: UserWarning:\n",
            "\n",
            "To exit: use 'exit', 'quit', or Ctrl-D.\n",
            "\n"
          ]
        }
      ]
    },
    {
      "cell_type": "code",
      "source": [],
      "metadata": {
        "id": "d_WatKfLdVcM"
      },
      "execution_count": null,
      "outputs": []
    }
  ]
}