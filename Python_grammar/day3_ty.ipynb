{
 "cells": [
  {
   "cell_type": "code",
   "execution_count": 2,
   "id": "be4a13ce",
   "metadata": {},
   "outputs": [],
   "source": [
    "from selenium import webdriver\n",
    "from selenium.webdriver.common.by import By\n",
    "from webdriver_manager.chrome import ChromeDriverManager"
   ]
  },
  {
   "cell_type": "code",
   "execution_count": 9,
   "id": "3dbd4126",
   "metadata": {},
   "outputs": [],
   "source": [
    "driver.implicitly_wait(10) # 10초기다림"
   ]
  },
  {
   "cell_type": "code",
   "execution_count": 11,
   "id": "889e7878",
   "metadata": {},
   "outputs": [
    {
     "name": "stderr",
     "output_type": "stream",
     "text": [
      "/var/folders/vz/8mms48fn4rg1r5jl1zb60f400000gn/T/ipykernel_89100/2770027128.py:2: DeprecationWarning: executable_path has been deprecated, please pass in a Service object\n",
      "  driver = webdriver.Chrome(ChromeDriverManager().install())\n"
     ]
    },
    {
     "ename": "ElementClickInterceptedException",
     "evalue": "Message: element click intercepted: Element <span>...</span> is not clickable at point (893, 25). Other element would receive the click: <div class=\"loading_spinner_bg\"></div>\n  (Session info: chrome=105.0.5195.102)\nStacktrace:\n0   chromedriver                        0x0000000100b21a90 chromedriver + 3889808\n1   chromedriver                        0x0000000100ab0b54 chromedriver + 3427156\n2   chromedriver                        0x00000001007a2238 chromedriver + 221752\n3   chromedriver                        0x00000001007d9894 chromedriver + 448660\n4   chromedriver                        0x00000001007d7a38 chromedriver + 440888\n5   chromedriver                        0x00000001007d57ec chromedriver + 432108\n6   chromedriver                        0x00000001007d4834 chromedriver + 428084\n7   chromedriver                        0x00000001007ca0cc chromedriver + 385228\n8   chromedriver                        0x00000001007c9a10 chromedriver + 383504\n9   chromedriver                        0x00000001007fc944 chromedriver + 592196\n10  chromedriver                        0x00000001007c854c chromedriver + 378188\n11  chromedriver                        0x0000000100af52f8 chromedriver + 3707640\n12  chromedriver                        0x0000000100af8ea8 chromedriver + 3722920\n13  chromedriver                        0x0000000100aff3d8 chromedriver + 3748824\n14  chromedriver                        0x0000000100af99a8 chromedriver + 3725736\n15  chromedriver                        0x0000000100ad4de8 chromedriver + 3575272\n16  chromedriver                        0x0000000100b13d1c chromedriver + 3833116\n17  chromedriver                        0x0000000100b13e84 chromedriver + 3833476\n18  chromedriver                        0x0000000100b28210 chromedriver + 3916304\n19  libsystem_pthread.dylib             0x00000001a94a9240 _pthread_start + 148\n20  libsystem_pthread.dylib             0x00000001a94a4024 thread_start + 8\n",
     "output_type": "error",
     "traceback": [
      "\u001b[0;31m---------------------------------------------------------------------------\u001b[0m",
      "\u001b[0;31mElementClickInterceptedException\u001b[0m          Traceback (most recent call last)",
      "Input \u001b[0;32mIn [11]\u001b[0m, in \u001b[0;36m<cell line: 4>\u001b[0;34m()\u001b[0m\n\u001b[1;32m      2\u001b[0m driver \u001b[38;5;241m=\u001b[39m webdriver\u001b[38;5;241m.\u001b[39mChrome(ChromeDriverManager()\u001b[38;5;241m.\u001b[39minstall())\n\u001b[1;32m      3\u001b[0m driver\u001b[38;5;241m.\u001b[39mget(\u001b[38;5;124m'\u001b[39m\u001b[38;5;124mhttp://jobplanet.co.kr\u001b[39m\u001b[38;5;124m'\u001b[39m)\n\u001b[1;32m      4\u001b[0m \u001b[43mdriver\u001b[49m\u001b[38;5;241;43m.\u001b[39;49m\u001b[43mfind_element\u001b[49m\u001b[43m(\u001b[49m\u001b[43mBy\u001b[49m\u001b[38;5;241;43m.\u001b[39;49m\u001b[43mXPATH\u001b[49m\u001b[43m,\u001b[49m\n\u001b[0;32m----> 5\u001b[0m \u001b[43m                   \u001b[49m\u001b[38;5;124;43m'\u001b[39;49m\u001b[38;5;124;43m/html/body/div[1]/div[1]/header/div[2]/div[2]/a[1]/span\u001b[39;49m\u001b[38;5;124;43m'\u001b[39;49m\u001b[43m)\u001b[49m\u001b[38;5;241;43m.\u001b[39;49m\u001b[43mclick\u001b[49m\u001b[43m(\u001b[49m\u001b[43m)\u001b[49m\n",
      "File \u001b[0;32m~/Library/Python/3.10/lib/python/site-packages/selenium/webdriver/remote/webelement.py:88\u001b[0m, in \u001b[0;36mWebElement.click\u001b[0;34m(self)\u001b[0m\n\u001b[1;32m     86\u001b[0m \u001b[38;5;28;01mdef\u001b[39;00m \u001b[38;5;21mclick\u001b[39m(\u001b[38;5;28mself\u001b[39m) \u001b[38;5;241m-\u001b[39m\u001b[38;5;241m>\u001b[39m \u001b[38;5;28;01mNone\u001b[39;00m:\n\u001b[1;32m     87\u001b[0m     \u001b[38;5;124;03m\"\"\"Clicks the element.\"\"\"\u001b[39;00m\n\u001b[0;32m---> 88\u001b[0m     \u001b[38;5;28;43mself\u001b[39;49m\u001b[38;5;241;43m.\u001b[39;49m\u001b[43m_execute\u001b[49m\u001b[43m(\u001b[49m\u001b[43mCommand\u001b[49m\u001b[38;5;241;43m.\u001b[39;49m\u001b[43mCLICK_ELEMENT\u001b[49m\u001b[43m)\u001b[49m\n",
      "File \u001b[0;32m~/Library/Python/3.10/lib/python/site-packages/selenium/webdriver/remote/webelement.py:396\u001b[0m, in \u001b[0;36mWebElement._execute\u001b[0;34m(self, command, params)\u001b[0m\n\u001b[1;32m    394\u001b[0m     params \u001b[38;5;241m=\u001b[39m {}\n\u001b[1;32m    395\u001b[0m params[\u001b[38;5;124m'\u001b[39m\u001b[38;5;124mid\u001b[39m\u001b[38;5;124m'\u001b[39m] \u001b[38;5;241m=\u001b[39m \u001b[38;5;28mself\u001b[39m\u001b[38;5;241m.\u001b[39m_id\n\u001b[0;32m--> 396\u001b[0m \u001b[38;5;28;01mreturn\u001b[39;00m \u001b[38;5;28;43mself\u001b[39;49m\u001b[38;5;241;43m.\u001b[39;49m\u001b[43m_parent\u001b[49m\u001b[38;5;241;43m.\u001b[39;49m\u001b[43mexecute\u001b[49m\u001b[43m(\u001b[49m\u001b[43mcommand\u001b[49m\u001b[43m,\u001b[49m\u001b[43m \u001b[49m\u001b[43mparams\u001b[49m\u001b[43m)\u001b[49m\n",
      "File \u001b[0;32m~/Library/Python/3.10/lib/python/site-packages/selenium/webdriver/remote/webdriver.py:428\u001b[0m, in \u001b[0;36mWebDriver.execute\u001b[0;34m(self, driver_command, params)\u001b[0m\n\u001b[1;32m    426\u001b[0m response \u001b[38;5;241m=\u001b[39m \u001b[38;5;28mself\u001b[39m\u001b[38;5;241m.\u001b[39mcommand_executor\u001b[38;5;241m.\u001b[39mexecute(driver_command, params)\n\u001b[1;32m    427\u001b[0m \u001b[38;5;28;01mif\u001b[39;00m response:\n\u001b[0;32m--> 428\u001b[0m     \u001b[38;5;28;43mself\u001b[39;49m\u001b[38;5;241;43m.\u001b[39;49m\u001b[43merror_handler\u001b[49m\u001b[38;5;241;43m.\u001b[39;49m\u001b[43mcheck_response\u001b[49m\u001b[43m(\u001b[49m\u001b[43mresponse\u001b[49m\u001b[43m)\u001b[49m\n\u001b[1;32m    429\u001b[0m     response[\u001b[38;5;124m'\u001b[39m\u001b[38;5;124mvalue\u001b[39m\u001b[38;5;124m'\u001b[39m] \u001b[38;5;241m=\u001b[39m \u001b[38;5;28mself\u001b[39m\u001b[38;5;241m.\u001b[39m_unwrap_value(\n\u001b[1;32m    430\u001b[0m         response\u001b[38;5;241m.\u001b[39mget(\u001b[38;5;124m'\u001b[39m\u001b[38;5;124mvalue\u001b[39m\u001b[38;5;124m'\u001b[39m, \u001b[38;5;28;01mNone\u001b[39;00m))\n\u001b[1;32m    431\u001b[0m     \u001b[38;5;28;01mreturn\u001b[39;00m response\n",
      "File \u001b[0;32m~/Library/Python/3.10/lib/python/site-packages/selenium/webdriver/remote/errorhandler.py:243\u001b[0m, in \u001b[0;36mErrorHandler.check_response\u001b[0;34m(self, response)\u001b[0m\n\u001b[1;32m    241\u001b[0m         alert_text \u001b[38;5;241m=\u001b[39m value[\u001b[38;5;124m'\u001b[39m\u001b[38;5;124malert\u001b[39m\u001b[38;5;124m'\u001b[39m]\u001b[38;5;241m.\u001b[39mget(\u001b[38;5;124m'\u001b[39m\u001b[38;5;124mtext\u001b[39m\u001b[38;5;124m'\u001b[39m)\n\u001b[1;32m    242\u001b[0m     \u001b[38;5;28;01mraise\u001b[39;00m exception_class(message, screen, stacktrace, alert_text)  \u001b[38;5;66;03m# type: ignore[call-arg]  # mypy is not smart enough here\u001b[39;00m\n\u001b[0;32m--> 243\u001b[0m \u001b[38;5;28;01mraise\u001b[39;00m exception_class(message, screen, stacktrace)\n",
      "\u001b[0;31mElementClickInterceptedException\u001b[0m: Message: element click intercepted: Element <span>...</span> is not clickable at point (893, 25). Other element would receive the click: <div class=\"loading_spinner_bg\"></div>\n  (Session info: chrome=105.0.5195.102)\nStacktrace:\n0   chromedriver                        0x0000000100b21a90 chromedriver + 3889808\n1   chromedriver                        0x0000000100ab0b54 chromedriver + 3427156\n2   chromedriver                        0x00000001007a2238 chromedriver + 221752\n3   chromedriver                        0x00000001007d9894 chromedriver + 448660\n4   chromedriver                        0x00000001007d7a38 chromedriver + 440888\n5   chromedriver                        0x00000001007d57ec chromedriver + 432108\n6   chromedriver                        0x00000001007d4834 chromedriver + 428084\n7   chromedriver                        0x00000001007ca0cc chromedriver + 385228\n8   chromedriver                        0x00000001007c9a10 chromedriver + 383504\n9   chromedriver                        0x00000001007fc944 chromedriver + 592196\n10  chromedriver                        0x00000001007c854c chromedriver + 378188\n11  chromedriver                        0x0000000100af52f8 chromedriver + 3707640\n12  chromedriver                        0x0000000100af8ea8 chromedriver + 3722920\n13  chromedriver                        0x0000000100aff3d8 chromedriver + 3748824\n14  chromedriver                        0x0000000100af99a8 chromedriver + 3725736\n15  chromedriver                        0x0000000100ad4de8 chromedriver + 3575272\n16  chromedriver                        0x0000000100b13d1c chromedriver + 3833116\n17  chromedriver                        0x0000000100b13e84 chromedriver + 3833476\n18  chromedriver                        0x0000000100b28210 chromedriver + 3916304\n19  libsystem_pthread.dylib             0x00000001a94a9240 _pthread_start + 148\n20  libsystem_pthread.dylib             0x00000001a94a4024 thread_start + 8\n"
     ]
    }
   ],
   "source": [
    "#  드라이버를 이용하여 웹페이지를 열기 \n",
    "driver = webdriver.Chrome(ChromeDriverManager().install())\n",
    "driver.get('http://jobplanet.co.kr')\n",
    "driver.find_element(By.XPATH,\n",
    "                   '/html/body/div[1]/div[1]/header/div[2]/div[2]/a[1]/span').click()"
   ]
  },
  {
   "cell_type": "code",
   "execution_count": 7,
   "id": "e9b19415",
   "metadata": {},
   "outputs": [],
   "source": [
    "driver.find_element(By.XPATH,\n",
    "                   '//*[@id=\"user_email\"]').send_keys('52100108@danook.ac.kr')"
   ]
  },
  {
   "cell_type": "code",
   "execution_count": null,
   "id": "87028d6d",
   "metadata": {},
   "outputs": [],
   "source": [
    "driver.find_element(By.XPATH,\n",
    "                   '//*[@id=\"user_password\"]').send_keys('kgkg3920691')"
   ]
  },
  {
   "cell_type": "code",
   "execution_count": null,
   "id": "edff8381",
   "metadata": {},
   "outputs": [],
   "source": []
  },
  {
   "cell_type": "code",
   "execution_count": null,
   "id": "7e00cfe7",
   "metadata": {},
   "outputs": [],
   "source": []
  }
 ],
 "metadata": {
  "kernelspec": {
   "display_name": "Python 3 (ipykernel)",
   "language": "python",
   "name": "python3"
  },
  "language_info": {
   "codemirror_mode": {
    "name": "ipython",
    "version": 3
   },
   "file_extension": ".py",
   "mimetype": "text/x-python",
   "name": "python",
   "nbconvert_exporter": "python",
   "pygments_lexer": "ipython3",
   "version": "3.10.2"
  }
 },
 "nbformat": 4,
 "nbformat_minor": 5
}
