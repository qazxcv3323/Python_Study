{
 "cells": [
  {
   "cell_type": "code",
   "execution_count": 1,
   "id": "b71da02d",
   "metadata": {},
   "outputs": [
    {
     "name": "stdout",
     "output_type": "stream",
     "text": [
      "Requirement already satisfied: pandas in c:\\users\\qazxc\\anaconda3\\lib\\site-packages (1.2.4)\n",
      "Requirement already satisfied: pytz>=2017.3 in c:\\users\\qazxc\\anaconda3\\lib\\site-packages (from pandas) (2021.1)\n",
      "Requirement already satisfied: python-dateutil>=2.7.3 in c:\\users\\qazxc\\anaconda3\\lib\\site-packages (from pandas) (2.8.1)\n",
      "Requirement already satisfied: numpy>=1.16.5 in c:\\users\\qazxc\\anaconda3\\lib\\site-packages (from pandas) (1.18.5)\n",
      "Requirement already satisfied: six>=1.5 in c:\\users\\qazxc\\anaconda3\\lib\\site-packages (from python-dateutil>=2.7.3->pandas) (1.15.0)\n"
     ]
    }
   ],
   "source": [
    "!pip install pandas"
   ]
  },
  {
   "cell_type": "code",
   "execution_count": 2,
   "id": "13792697",
   "metadata": {},
   "outputs": [
    {
     "name": "stdout",
     "output_type": "stream",
     "text": [
      "Requirement already satisfied: matplotlib in c:\\users\\qazxc\\anaconda3\\lib\\site-packages (3.3.4)\n",
      "Requirement already satisfied: kiwisolver>=1.0.1 in c:\\users\\qazxc\\anaconda3\\lib\\site-packages (from matplotlib) (1.3.1)\n",
      "Requirement already satisfied: cycler>=0.10 in c:\\users\\qazxc\\anaconda3\\lib\\site-packages (from matplotlib) (0.10.0)\n",
      "Requirement already satisfied: numpy>=1.15 in c:\\users\\qazxc\\anaconda3\\lib\\site-packages (from matplotlib) (1.18.5)\n",
      "Requirement already satisfied: python-dateutil>=2.1 in c:\\users\\qazxc\\anaconda3\\lib\\site-packages (from matplotlib) (2.8.1)\n",
      "Requirement already satisfied: pillow>=6.2.0 in c:\\users\\qazxc\\anaconda3\\lib\\site-packages (from matplotlib) (8.2.0)\n",
      "Requirement already satisfied: pyparsing!=2.0.4,!=2.1.2,!=2.1.6,>=2.0.3 in c:\\users\\qazxc\\anaconda3\\lib\\site-packages (from matplotlib) (2.4.7)\n",
      "Requirement already satisfied: six in c:\\users\\qazxc\\anaconda3\\lib\\site-packages (from cycler>=0.10->matplotlib) (1.15.0)\n"
     ]
    }
   ],
   "source": [
    "!pip install matplotlib"
   ]
  },
  {
   "cell_type": "code",
   "execution_count": null,
   "id": "1bb427b5",
   "metadata": {},
   "outputs": [],
   "source": [
    "import numpy as np\n",
    "import pandas as pd\n",
    "import matplotlib.pyplot as plt\n",
    "#공부 시간X와 성적 Y 의 리스트 만들기\n",
    "data = [[2,81],[4,93],[6,91],[9,97]]\n",
    "x = [i[0] for i in data]\n",
    "y = [i[1] for i in data]\n",
    "#그래프로 나타내기\n",
    "plt.figure(figsize = (8,5))\n",
    "plt.scatter(x,y)\n",
    "plt.show()\n",
    "#리스트로 되어있는 x와 y값을 넘파이 배열로 바꾸기(인덱스를 주어 하나씩 불러와 계산이 가능하게 하기 위함)\n",
    "x_data = np.array(x)\n",
    "y_data = np.array(y)\n",
    "#기울기 a와 절편b의 값 초기화\n",
    "a = 0\n",
    "b = 0\n",
    "#학습률 정하기\n",
    "lr = 0.05 #런닝 레이트\n",
    "\n",
    "#몇 번 반복될지 설정((부터 세므로 원하는 반복 횟수에 +1))\n",
    "\n",
    "epochs = 2001\n",
    "\n",
    "#경사 하강법 시작\n",
    "for i in range(epochs):\n",
    "    y_pred = a * x_data + b\n",
    "    error = y_data - y_pred\n",
    "    #오차 함수를 a로 미분한 값\n",
    "    a_diff = -(1/len(x_data)) * sum(x_data * (error))\n",
    "    #오차 함수를 b로 미분한 값\n",
    "    b_diff = -(1/len(y_data)) * sum(y_data - y_pred)\n",
    "    a = a - lr * a_diff #학습률을 곱해 기존의 a 값 업데이트\n",
    "    b = b -  lr * b_diff #학습률을 곱해 기존의 b 값 업데이트\n",
    "    if i % 100 == 0:\n",
    "        print(\"epoch = %.f, 기울기= %.04f, 절편=%.0f\" % (i,a,b)) #기울기 다시\n",
    "        \n",
    "#앞서 구한 기울기와 절편을 이용해 그래프를 다시 그리기\n",
    "y_pred = a * x_data + b\n",
    "plt.scatter(x,y)\n",
    "plt.plot([min(x_data),max(x_data)],[min(y_pred),max(y_pred)])\n",
    "plt.show()"
   ]
  },
  {
   "cell_type": "code",
   "execution_count": 2,
   "id": "5f81b089",
   "metadata": {},
   "outputs": [
    {
     "data": {
      "image/png": "[encoded data removed]",
      "text/plain": [
       "<Figure size 576x360 with 1 Axes>"
      ]
     },
     "metadata": {
      "needs_background": "light"
     },
     "output_type": "display_data"
    },
    {
     "name": "stdout",
     "output_type": "stream",
     "text": [
      "epoch = 0, 기울기= 9.7650, 절편=1\n",
      "epoch = 100, 기울기= 11.9679, 절편=15\n",
      "epoch = 200, 기울기= 10.2104, 절편=27\n",
      "epoch = 300, 기울기= 8.7616, 절편=36\n",
      "epoch = 400, 기울기= 7.5673, 절편=44\n",
      "epoch = 500, 기울기= 6.5828, 절편=50\n",
      "epoch = 600, 기울기= 5.7712, 절편=55\n",
      "epoch = 700, 기울기= 5.1022, 절편=60\n",
      "epoch = 800, 기울기= 4.5507, 절편=63\n",
      "epoch = 900, 기울기= 4.0961, 절편=66\n",
      "epoch = 1000, 기울기= 3.7214, 절편=69\n",
      "epoch = 1100, 기울기= 3.4124, 절편=71\n",
      "epoch = 1200, 기울기= 3.1578, 절편=72\n",
      "epoch = 1300, 기울기= 2.9478, 절편=74\n",
      "epoch = 1400, 기울기= 2.7748, 절편=75\n",
      "epoch = 1500, 기울기= 2.6321, 절편=76\n",
      "epoch = 1600, 기울기= 2.5145, 절편=77\n",
      "epoch = 1700, 기울기= 2.4176, 절편=77\n",
      "epoch = 1800, 기울기= 2.3376, 절편=78\n",
      "epoch = 1900, 기울기= 2.2718, 절편=78\n",
      "epoch = 2000, 기울기= 2.2175, 절편=79\n"
     ]
    },
    {
     "data": {
      "image/png": "[encoded data removed]",
      "text/plain": [
       "<Figure size 432x288 with 1 Axes>"
      ]
     },
     "metadata": {
      "needs_background": "light"
     },
     "output_type": "display_data"
    }
   ],
   "source": [
    "#a_diff b_diff 를 바꾼값\n",
    "\n",
    "import numpy as np\n",
    "import pandas as pd\n",
    "import matplotlib.pyplot as plt\n",
    "#공부 시간X와 성적 Y 의 리스트 만들기\n",
    "data = [[2,81],[4,93],[6,91],[9,97]]\n",
    "x = [i[0] for i in data]\n",
    "y = [i[1] for i in data]\n",
    "#그래프로 나타내기\n",
    "plt.figure(figsize = (8,5))\n",
    "plt.scatter(x,y)\n",
    "plt.show()\n",
    "#리스트로 되어있는 x와 y값을 넘파이 배열로 바꾸기(인덱스를 주어 하나씩 불러와 계산이 가능하게 하기 위함)\n",
    "x_data = np.array(x)\n",
    "y_data = np.array(y)\n",
    "#기울기 a와 절편b의 값 초기화\n",
    "a = 0\n",
    "b = 0\n",
    "#학습률 정하기\n",
    "lr = 0.01 #런닝 레이트\n",
    "\n",
    "#몇 번 반복될지 설정((부터 세므로 원하는 반복 횟수에 +1))\n",
    "\n",
    "epochs = 2001\n",
    "\n",
    "#경사 하강법 시작\n",
    "for i in range(epochs):\n",
    "    y_pred = a * x_data + b\n",
    "    error = y_data - y_pred\n",
    "    #오차 함수를 a로 미분한 값\n",
    "    a_diff = 2/len(x_data) * sum((a * x_data + b - y_data) * x_data)\n",
    "    #오차 함수를 b로 미분한 값\n",
    "    b_diff = 2/len(x+data) * sum(a * x_data + b - y_data)\n",
    "    a = a - lr * a_diff #학습률을 곱해 기존의 a 값 업데이트\n",
    "    b = b -  lr * b_diff #학습률을 곱해 기존의 b 값 업데이트\n",
    "    if i % 100 == 0:\n",
    "        print(\"epoch = %.f, 기울기= %.04f, 절편=%.0f\" % (i,a,b)) #기울기 다시\n",
    "        \n",
    "#앞서 구한 기울기와 절편을 이용해 그래프를 다시 그리기\n",
    "y_pred = a * x_data + b\n",
    "plt.scatter(x,y)\n",
    "plt.plot([min(x_data),max(x_data)],[min(y_pred),max(y_pred)])\n",
    "plt.show()"
   ]
  },
  {
   "cell_type": "code",
   "execution_count": null,
   "id": "1732d85b",
   "metadata": {
    "scrolled": false
   },
   "outputs": [],
   "source": [
    "data = [[1, 0.2],[2, 0.3],[3, 0.5],[4, 0.6],[5, 0.9],[6, 0.95],[7, 1.1],[8, 1.5]]\n",
    "x = [i[0] for i in data]\n",
    "y = [i[1] for i in data]\n",
    "\n",
    "plt.figure(figsize = (8,5))\n",
    "plt.scatter(x,y)\n",
    "plt.show()\n",
    "\n",
    "x_data = np.array(x)\n",
    "y_data = np.array(y)\n",
    "\n",
    "a = 0\n",
    "b = 0\n",
    "\n",
    "lr = 0.03\n",
    "\n",
    "epochs = 2001\n",
    "\n",
    "for i in range(epochs):\n",
    "    y_pred = a * x_data + b\n",
    "    error = y_data - y_pred\n",
    "    a_diff = 2/len(x_data) * sum((a * x_data + b - y_data) * x_data)\n",
    "    b_diff = 2/len(x+data) * sum(a * x_data + b - y_data)\n",
    "    a = a - lr * a_diff \n",
    "    b = b -  lr * b_diff \n",
    "    if i % 10 == 0: #보여주는것만 10번의 1번씩\n",
    "        print(\"epoch = %.f, 기울기= %.04f, 절편=%.4f\" % (i,a,b))\n",
    "        \n",
    "        \n",
    "y_pred = a * x_data + b\n",
    "plt.scatter(x,y)\n",
    "plt.plot([min(x_data),max(x_data)],[min(y_pred),max(y_pred)])\n",
    "\n",
    "plt.show()\n",
    "\n"
   ]
  },
  {
   "cell_type": "code",
   "execution_count": null,
   "id": "23256334",
   "metadata": {},
   "outputs": [],
   "source": [
    "import numpy as np\n",
    "#책페이지수와 가격의 자료\n",
    "data = [[637,27],[336,15],[336,15],[430,15],[164,9.5],[533,20],\n",
    "       [529,22],[509,20],[419,16],[596,24],[496,20],[673,25],[562,24],\n",
    "       [229,10],[316,13],[217,8],[296,12],[115,7],[257,11],[649,22]]\n",
    "\n",
    "mx = np.mean([i[0] for i in data])\n",
    "my = np.mean([i[1] for i in data])\n",
    "\n",
    "divisor = sum([(i - mx)** 2 for i in data[0]])\n",
    "dividend = sum([(data[i][0] - mx) * (data[i][1] - my) for i in range(len(data))])\n",
    "\n",
    "a= dividend / divisor\n",
    "b = mx - (my * a)\n",
    "\n",
    "print(\"분자\",dividend)\n",
    "print(\"분모\",divisor)\n",
    "print(\"기울기\",a)\n",
    "print(\"y절편\",b)\n",
    "\n",
    "def page(x):\n",
    "    v = a * x + b\n",
    "    return "
   ]
  },
  {
   "cell_type": "code",
   "execution_count": null,
   "id": "74f41e2e",
   "metadata": {},
   "outputs": [],
   "source": [
    "#책페이지수와 가격의 자료\n",
    "data = [[637,27],[336,15],[336,15],[430,15],[164,9.5],[533,20],\n",
    "       [529,22],[509,20],[419,16],[596,24],[496,20],[673,25],[562,24],\n",
    "       [229,10],[316,13],[217,8],[296,12],[115,7],[257,11],[649,22]]\n",
    "\n",
    "x = [i[0] for i in data]\n",
    "y = [i[1] for i in data]\n",
    "\n",
    "def predict(x):\n",
    "    \n",
    "    return ab[0]*x +ab[1]\n",
    "\n",
    "def rmse(p,a):\n",
    "    return np.sqrt(((p - a) **2) .mean())\n",
    "\n",
    "def rmse_val(predict_result,y):\n",
    "    return rmse(np.array(predict_result),np.array(y))\n",
    "\n",
    "predict_result = []\n",
    "                \n",
    "for i in range(len(x)):\n",
    "    predict_result.append(predict(x[i]))\n",
    "    print(\"책페이지 수 = %.f, 가격 = %.f, 예측가격 = %.f\" % (x[i],y[i],predict(x[i])))\n",
    "print(predict_result)\n",
    "print(y) \n",
    "print(\"rmse 최종값 : \"+str(rmse_val(predict_result,y)))"
   ]
  },
  {
   "cell_type": "code",
   "execution_count": 4,
   "id": "1612a66d",
   "metadata": {},
   "outputs": [
    {
     "data": {
      "image/png": "[encoded data removed]",
      "text/plain": [
       "<Figure size 576x360 with 1 Axes>"
      ]
     },
     "metadata": {
      "needs_background": "light"
     },
     "output_type": "display_data"
    },
    {
     "name": "stdout",
     "output_type": "stream",
     "text": [
      "epoch = 0, 기울기= 0.0476, 절편=0.0001\n",
      "epoch = 100, 기울기= 0.0397, 절편=0.0001\n",
      "epoch = 200, 기울기= 0.0397, 절편=0.0002\n",
      "epoch = 300, 기울기= 0.0397, 절편=0.0003\n",
      "epoch = 400, 기울기= 0.0397, 절편=0.0004\n",
      "epoch = 500, 기울기= 0.0397, 절편=0.0005\n",
      "epoch = 600, 기울기= 0.0397, 절편=0.0006\n",
      "epoch = 700, 기울기= 0.0397, 절편=0.0007\n",
      "epoch = 800, 기울기= 0.0397, 절편=0.0008\n",
      "epoch = 900, 기울기= 0.0397, 절편=0.0009\n",
      "epoch = 1000, 기울기= 0.0397, 절편=0.0010\n",
      "epoch = 1100, 기울기= 0.0397, 절편=0.0011\n",
      "epoch = 1200, 기울기= 0.0397, 절편=0.0012\n",
      "epoch = 1300, 기울기= 0.0397, 절편=0.0013\n",
      "epoch = 1400, 기울기= 0.0397, 절편=0.0014\n",
      "epoch = 1500, 기울기= 0.0397, 절편=0.0015\n",
      "epoch = 1600, 기울기= 0.0397, 절편=0.0016\n",
      "epoch = 1700, 기울기= 0.0397, 절편=0.0017\n",
      "epoch = 1800, 기울기= 0.0397, 절편=0.0018\n",
      "epoch = 1900, 기울기= 0.0397, 절편=0.0019\n",
      "epoch = 2000, 기울기= 0.0397, 절편=0.0020\n"
     ]
    },
    {
     "data": {
      "image/png": "[encoded data removed]",
      "text/plain": [
       "<Figure size 432x288 with 1 Axes>"
      ]
     },
     "metadata": {
      "needs_background": "light"
     },
     "output_type": "display_data"
    }
   ],
   "source": [
    "#책페이지수와 가격의 자료\n",
    "data = [[637,27],[336,15],[336,15],[430,15],[164,9.5],[533,20],\n",
    "       [529,22],[509,20],[419,16],[596,24],[496,20],[673,25],[562,24],\n",
    "       [229,10],[316,13],[217,8],[296,12],[115,7],[257,11],[649,22]]\n",
    "\n",
    "x = [i[0] for i in data]\n",
    "y = [i[1] for i in data]\n",
    "\n",
    "plt.figure(figsize = (8,5))\n",
    "plt.scatter(x,y)\n",
    "plt.show()\n",
    "\n",
    "x_data = np.array(x)\n",
    "y_data = np.array(y)\n",
    "\n",
    "a = 0\n",
    "b = 0\n",
    "\n",
    "lr = 0.000003\n",
    "\n",
    "epochs = 2001\n",
    "\n",
    "for i in range(epochs):\n",
    "    y_pred = a * x_data + b\n",
    "    error = y_data - y_pred\n",
    "    a_diff = 2/len(x_data) * sum((a * x_data + b - y_data) * x_data)\n",
    "    b_diff = 2/len(x+data) * sum(a * x_data + b - y_data)\n",
    "    a = a - lr * a_diff \n",
    "    b = b -  lr * b_diff \n",
    "    if i % 100 == 0: #보여주는것만 10번의 1번씩\n",
    "        print(\"epoch = %.f, 기울기= %.04f, 절편=%.4f\" % (i,a,b))\n",
    "        \n",
    "y_pred = a * x_data + b\n",
    "plt.scatter(x,y)\n",
    "plt.plot([min(x_data),max(x_data)],[min(y_pred),max(y_pred)])\n",
    "\n",
    "plt.show()\n",
    "\n",
    "#기울기 0.09702286513625187\n",
    "#y절편 413.32244143733936"
   ]
  },
  {
   "cell_type": "code",
   "execution_count": null,
   "id": "4ebe3d24",
   "metadata": {},
   "outputs": [],
   "source": [
    "import tensorflow.compat.v1 as tf\n",
    "tf.disable_v2_behavior()\n",
    "a = tf.constant(7.0, name = \"data1\")\n",
    "b = tf.constant(3.0, name = \"data2\")\n",
    "c = tf.constant(2.0, name = \"data3\")\n",
    "\n",
    "v = a * b / c\n",
    "\n",
    "with tf.Session() as sess:\n",
    "    sess.run(tf.global_variables_initializer())\n",
    "    print(sess.run(v))"
   ]
  },
  {
   "cell_type": "code",
   "execution_count": null,
   "id": "80f63e80",
   "metadata": {},
   "outputs": [],
   "source": [
    "a = tf.constant(5, name=\"a\")\n",
    "b = tf.constant(3, name=\"b\")\n",
    "c = tf.multiply(a,b, name= \"c\")\n",
    "d = tf.add(a,b,name=\"d\")\n",
    "e = tf.add(c,d,name=\"e\")\n",
    "\n",
    "\n",
    "sess = tf.Session()\n",
    "print(sess.run(e))"
   ]
  },
  {
   "cell_type": "code",
   "execution_count": null,
   "id": "99360e54",
   "metadata": {},
   "outputs": [],
   "source": [
    "import tensorflow.compat.v1 as tf\n",
    "tf.disable_v2_behavior()\n",
    "a = tf.constant(7.0, name = \"data1\")\n",
    "b = tf.constant(3.0, name = \"data2\")\n",
    "c = tf.constant(2.0, name = \"data3\")\n",
    "\n",
    "v = a * b / c\n",
    "\n",
    "print(v)"
   ]
  },
  {
   "cell_type": "code",
   "execution_count": null,
   "id": "2b406e6e",
   "metadata": {},
   "outputs": [],
   "source": [
    "import tensorflow.compat.v1 as tf\n",
    "tf.disable_v2_behavior()\n",
    "a = tf.constant(7.0, name = \"data1\")\n",
    "b = tf.constant(3.0, name = \"data2\")\n",
    "c = tf.constant(2.0, name = \"data3\")\n",
    "\n",
    "v = a * b / c\n",
    "print(v)\n",
    "\n",
    "wth tf.Session() as aess:\n",
    "    sess.run(tf.global_variables_initializer())\n",
    "    print(sess.run(v))"
   ]
  },
  {
   "cell_type": "code",
   "execution_count": 1,
   "id": "5b3e0c9a",
   "metadata": {},
   "outputs": [
    {
     "name": "stdout",
     "output_type": "stream",
     "text": [
      "WARNING:tensorflow:From C:\\Users\\qazxc\\anaconda3\\lib\\site-packages\\tensorflow\\python\\compat\\v2_compat.py:96: disable_resource_variables (from tensorflow.python.ops.variable_scope) is deprecated and will be removed in a future version.\n",
      "Instructions for updating:\n",
      "non-resource variables are not supported in the long term\n"
     ]
    },
    {
     "data": {
      "text/plain": [
       "[]"
      ]
     },
     "execution_count": 1,
     "metadata": {},
     "output_type": "execute_result"
    }
   ],
   "source": [
    "import tensorflow.compat.v1 as tf\n",
    "tf.disable_v2_behavior()\n",
    "\n",
    "tf.get_default_graph().get_operations()"
   ]
  },
  {
   "cell_type": "code",
   "execution_count": 2,
   "id": "f9da51c8",
   "metadata": {},
   "outputs": [
    {
     "data": {
      "text/plain": [
       "[<tf.Operation 'data1' type=Const>,\n",
       " <tf.Operation 'data2' type=Const>,\n",
       " <tf.Operation 'data3' type=Const>]"
      ]
     },
     "execution_count": 2,
     "metadata": {},
     "output_type": "execute_result"
    }
   ],
   "source": [
    "a = tf.constant(7.0, name = \"data1\")\n",
    "b = tf.constant(3.0, name = \"data2\")\n",
    "c = tf.constant(2.0, name = \"data3\")\n",
    "\n",
    "tf.get_default_graph().get_operations()"
   ]
  },
  {
   "cell_type": "code",
   "execution_count": 5,
   "id": "d1817c25",
   "metadata": {},
   "outputs": [
    {
     "name": "stdout",
     "output_type": "stream",
     "text": [
      "Tensor(\"data1:0\", shape=(), dtype=float32)\n"
     ]
    }
   ],
   "source": [
    "print(a)\n"
   ]
  },
  {
   "cell_type": "code",
   "execution_count": 7,
   "id": "1264882b",
   "metadata": {
    "scrolled": false
   },
   "outputs": [
    {
     "name": "stdout",
     "output_type": "stream",
     "text": [
      "name: \"data1\"\n",
      "op: \"Const\"\n",
      "attr {\n",
      "  key: \"dtype\"\n",
      "  value {\n",
      "    type: DT_FLOAT\n",
      "  }\n",
      "}\n",
      "attr {\n",
      "  key: \"value\"\n",
      "  value {\n",
      "    tensor {\n",
      "      dtype: DT_FLOAT\n",
      "      tensor_shape {\n",
      "      }\n",
      "      float_val: 7.0\n",
      "    }\n",
      "  }\n",
      "}\n",
      "\n"
     ]
    }
   ],
   "source": [
    "print(a.op)"
   ]
  },
  {
   "cell_type": "code",
   "execution_count": 10,
   "id": "cbafa060",
   "metadata": {
    "scrolled": true
   },
   "outputs": [
    {
     "name": "stdout",
     "output_type": "stream",
     "text": [
      "[<tf.Tensor 'data1:0' shape=() dtype=float32>]\n"
     ]
    }
   ],
   "source": [
    "print(a.op.outputs)"
   ]
  },
  {
   "cell_type": "code",
   "execution_count": 11,
   "id": "cd561528",
   "metadata": {},
   "outputs": [
    {
     "name": "stdout",
     "output_type": "stream",
     "text": [
      "True\n"
     ]
    }
   ],
   "source": [
    "print(a is a.op.outputs[0])"
   ]
  },
  {
   "cell_type": "code",
   "execution_count": 12,
   "id": "f967edbd",
   "metadata": {},
   "outputs": [
    {
     "name": "stdout",
     "output_type": "stream",
     "text": [
      "7.0\n"
     ]
    }
   ],
   "source": [
    "print(a.op.node_def.attr[\"value\"].tensor.float_val[0])"
   ]
  },
  {
   "cell_type": "code",
   "execution_count": 13,
   "id": "83e08fb6",
   "metadata": {},
   "outputs": [
    {
     "data": {
      "text/plain": [
       "[<tf.Operation 'data1' type=Const>,\n",
       " <tf.Operation 'data2' type=Const>,\n",
       " <tf.Operation 'data3' type=Const>,\n",
       " <tf.Operation 'mul' type=Mul>,\n",
       " <tf.Operation 'truediv' type=RealDiv>]"
      ]
     },
     "execution_count": 13,
     "metadata": {},
     "output_type": "execute_result"
    }
   ],
   "source": [
    "v = a * b / c\n",
    "\n",
    "tf.get_default_graph().get_operations()"
   ]
  },
  {
   "cell_type": "code",
   "execution_count": 14,
   "id": "d989a0cb",
   "metadata": {},
   "outputs": [
    {
     "name": "stdout",
     "output_type": "stream",
     "text": [
      "v.op.outputs =  [<tf.Tensor 'truediv:0' shape=() dtype=float32>]\n"
     ]
    }
   ],
   "source": [
    "print(\"v.op.outputs = \", v.op.outputs)\n",
    "#텐서 v의 operation 의 출력을 확인"
   ]
  },
  {
   "cell_type": "code",
   "execution_count": 15,
   "id": "7a839e93",
   "metadata": {},
   "outputs": [
    {
     "name": "stdout",
     "output_type": "stream",
     "text": [
      "True\n"
     ]
    }
   ],
   "source": [
    "print(v.op.outputs[0] is v)"
   ]
  },
  {
   "cell_type": "code",
   "execution_count": 17,
   "id": "a71251fe",
   "metadata": {},
   "outputs": [
    {
     "name": "stdout",
     "output_type": "stream",
     "text": [
      "name: \"truediv\"\n",
      "op: \"RealDiv\"\n",
      "input: \"mul\"\n",
      "input: \"data3\"\n",
      "attr {\n",
      "  key: \"T\"\n",
      "  value {\n",
      "    type: DT_FLOAT\n",
      "  }\n",
      "}\n",
      "\n"
     ]
    }
   ],
   "source": [
    "print(v.op)\n",
    "#텐서 v의 operation의 node를 확인(v.op.node_def)"
   ]
  },
  {
   "cell_type": "code",
   "execution_count": 20,
   "id": "ef521996",
   "metadata": {},
   "outputs": [
    {
     "name": "stdout",
     "output_type": "stream",
     "text": [
      "Tensor(\"mul:0\", shape=(), dtype=float32)\n",
      "Tensor(\"data3:0\", shape=(), dtype=float32)\n"
     ]
    }
   ],
   "source": [
    "print(v.op.inputs[0])\n",
    "print(v.op.inputs[1])\n",
    "#텐서 v의 operation의 node input을 확인"
   ]
  },
  {
   "cell_type": "code",
   "execution_count": null,
   "id": "afcd1d85",
   "metadata": {},
   "outputs": [],
   "source": [
    "#tf.constant- 변하지 않는 수를 지정하는 자료형\n",
    "#상수란 변하지 않는 수를 의미. 상수를 영어로 constant 라 표기하는데\n",
    "\n",
    "#tf.placeholder- 먼저 만들고 값을 나중에 지정해주는 자료형\n",
    "#tf.variabla- 조건에따라 값을 바꿔야 하는 경우 사용하느 자료형\n"
   ]
  },
  {
   "cell_type": "code",
   "execution_count": 29,
   "id": "6bca9673",
   "metadata": {},
   "outputs": [],
   "source": [
    "a = tf.constant(5)\n",
    "b = tf.constant(2)\n",
    "c = tf.constant(3)\n",
    "d = tf.multiply(a,b) #a * b\n",
    "e = tf.add(c,b)      #c + d\n",
    "f = tf.subtract(d,e) # d - e\n",
    "#print 를 사용 a,b,c,d,e,f를 확인"
   ]
  },
  {
   "cell_type": "code",
   "execution_count": 30,
   "id": "379b1327",
   "metadata": {},
   "outputs": [
    {
     "name": "stdout",
     "output_type": "stream",
     "text": [
      "Tensor(\"Const_6:0\", shape=(), dtype=int32)\n",
      "Tensor(\"Const_7:0\", shape=(), dtype=int32)\n",
      "Tensor(\"Const_8:0\", shape=(), dtype=int32)\n",
      "Tensor(\"Mul_3:0\", shape=(), dtype=int32)\n",
      "Tensor(\"Add_2:0\", shape=(), dtype=int32)\n",
      "Tensor(\"Sub_1:0\", shape=(), dtype=int32)\n"
     ]
    }
   ],
   "source": [
    "print(a)\n",
    "print(b)\n",
    "print(c)\n",
    "print(d)\n",
    "print(e)\n",
    "print(f)"
   ]
  },
  {
   "cell_type": "code",
   "execution_count": 31,
   "id": "874c4c05",
   "metadata": {},
   "outputs": [
    {
     "name": "stdout",
     "output_type": "stream",
     "text": [
      "outs =  5\n"
     ]
    }
   ],
   "source": [
    "# 세션을 만들고 연산그래프 실행 (f를 예로)\n",
    "sess = tf.Session()\n",
    "outs = sess.run(f)\n",
    "sess.close()\n",
    "print(\"outs = \",outs)"
   ]
  },
  {
   "cell_type": "code",
   "execution_count": 32,
   "id": "4c94b5b5",
   "metadata": {},
   "outputs": [
    {
     "name": "stdout",
     "output_type": "stream",
     "text": [
      "b'Hello, Tensorflow!'\n"
     ]
    }
   ],
   "source": [
    "#Hello, Tensorflow! 라는 문자열이 들어있는 node생성\n",
    "hello = tf.constant(\"Hello, Tensorflow!\")\n",
    "\n",
    "#TF세션 시작\n",
    "sess = tf.Session()\n",
    "#특정 노드 세션 run\n",
    "print(sess.run(hello))\n",
    "\n",
    "sess.close()"
   ]
  },
  {
   "cell_type": "code",
   "execution_count": 36,
   "id": "94952480",
   "metadata": {},
   "outputs": [
    {
     "name": "stdout",
     "output_type": "stream",
     "text": [
      "[ 2.  4.  6.  8. 10.]\n"
     ]
    }
   ],
   "source": [
    "input_data = [1,2,3,4,5]\n",
    "\n",
    "x = tf.placeholder(dtype = tf.float32)\n",
    "y = x * 2\n",
    "\n",
    "sess = tf.Session()\n",
    "result = sess.run(y, feed_dict = {x:input_data})\n",
    "\n",
    "print(result)"
   ]
  },
  {
   "cell_type": "code",
   "execution_count": 34,
   "id": "bebaca61",
   "metadata": {},
   "outputs": [
    {
     "name": "stdout",
     "output_type": "stream",
     "text": [
      "53.0\n"
     ]
    }
   ],
   "source": [
    "p_holder1 = tf.placeholder(dtype = tf.float32)\n",
    "p_holder2 = tf.placeholder(dtype = tf.float32)\n",
    "p_holder3 = tf.placeholder(dtype = tf.float32)\n",
    "\n",
    "val1 = 5\n",
    "val2 =10\n",
    "val3 = 3 \n",
    "ret_val = p_holder1 *p_holder2 + p_holder3\n",
    "\n",
    "sess = tf.Session()\n",
    "feed_dict_data = {p_holder1:val1,p_holder2 : val2,p_holder3: val3}\n",
    "result = sess.run(ret_val, feed_dict = feed_dict_data)\n",
    "sess.close()\n",
    "print(result)"
   ]
  },
  {
   "cell_type": "code",
   "execution_count": 37,
   "id": "bb7947dd",
   "metadata": {},
   "outputs": [
    {
     "name": "stdout",
     "output_type": "stream",
     "text": [
      "[[30. 30.]\n",
      " [70. 70.]]\n"
     ]
    }
   ],
   "source": [
    "I = tf.placeholder(tf.float32,[2,4])\n",
    "i = [[1,2,3,4,],[5,6,7,8,]]\n",
    "\n",
    "W = tf.placeholder(tf.float32,[4,2])\n",
    "w = [[1,1],[2,2],[3,3,],[4,4]]\n",
    "\n",
    "#Input 데이터와 Weight를 행렬곱 수행\n",
    "m_cal = tf.matmul(I,W)\n",
    "\n",
    "sess = tf.Session()\n",
    "\n",
    "print(sess.run(m_cal, feed_dict = {I:i,W:w}))\n",
    "\n",
    "sess.close()"
   ]
  },
  {
   "cell_type": "code",
   "execution_count": 49,
   "id": "03d02391",
   "metadata": {},
   "outputs": [
    {
     "name": "stdout",
     "output_type": "stream",
     "text": [
      "[[30 30]\n",
      " [70 70]]\n"
     ]
    }
   ],
   "source": [
    "I = tf.Variable([[1,2,3,4],[5,6,7,8]], tf.float32)\n",
    "W = tf.Variable([[1,1],[2,2],[3,3],[4,4]] ,tf.float32)\n",
    "\n",
    "#input 데이터와 Weight 를 행렬곱 수행\n",
    "m_cal = tf.matmul(I,W)\n",
    "\n",
    "sess = tf.Session()\n",
    "sess.run(tf.global_variables_initializer())\n",
    "\n",
    "print(sess.run(m_cal))\n",
    "\n",
    "sess.close()"
   ]
  },
  {
   "cell_type": "code",
   "execution_count": 51,
   "id": "c964966f",
   "metadata": {},
   "outputs": [
    {
     "name": "stdout",
     "output_type": "stream",
     "text": [
      "[ 2.  4.  6.  8. 10.]\n"
     ]
    }
   ],
   "source": [
    "input_data = [1,2,3,4,5]\n",
    "\n",
    "x = tf.placeholder(dtype = tf.float32)\n",
    "W = tf.Variable([2],dtype = tf.float32)\n",
    "y = W *x\n",
    "\n",
    "sess = tf.Session()\n",
    "\n",
    "\n",
    "init = tf.global_variables_initializer()\n",
    "sess.run(init)\n",
    "result = sess.run(y, feed_dict={x:input_data})\n",
    "print(result)"
   ]
  },
  {
   "cell_type": "code",
   "execution_count": 5,
   "id": "7874ae0b",
   "metadata": {
    "scrolled": true
   },
   "outputs": [
    {
     "ename": "NameError",
     "evalue": "name 'tf' is not defined",
     "output_type": "error",
     "traceback": [
      "\u001b[1;31m---------------------------------------------------------------------------\u001b[0m",
      "\u001b[1;31mNameError\u001b[0m                                 Traceback (most recent call last)",
      "\u001b[1;32m<ipython-input-5-01e5375ad477>\u001b[0m in \u001b[0;36m<module>\u001b[1;34m\u001b[0m\n\u001b[1;32m----> 1\u001b[1;33m \u001b[0mx\u001b[0m \u001b[1;33m=\u001b[0m \u001b[0mtf\u001b[0m\u001b[1;33m.\u001b[0m\u001b[0mVariable\u001b[0m\u001b[1;33m(\u001b[0m\u001b[1;36m5\u001b[0m\u001b[1;33m,\u001b[0m \u001b[0mdtype\u001b[0m \u001b[1;33m=\u001b[0m \u001b[0mtf\u001b[0m\u001b[1;33m.\u001b[0m\u001b[0mint32\u001b[0m\u001b[1;33m)\u001b[0m \u001b[1;31m#Variable 초기값 만들어야함\u001b[0m\u001b[1;33m\u001b[0m\u001b[1;33m\u001b[0m\u001b[0m\n\u001b[0m\u001b[0;32m      2\u001b[0m \u001b[0mprint\u001b[0m\u001b[1;33m(\u001b[0m\u001b[0mx\u001b[0m\u001b[1;33m)\u001b[0m\u001b[1;33m\u001b[0m\u001b[1;33m\u001b[0m\u001b[0m\n\u001b[0;32m      3\u001b[0m \u001b[1;33m\u001b[0m\u001b[0m\n\u001b[0;32m      4\u001b[0m \u001b[0mz\u001b[0m \u001b[1;33m=\u001b[0m \u001b[0mtf\u001b[0m\u001b[1;33m.\u001b[0m\u001b[0massign\u001b[0m\u001b[1;33m(\u001b[0m\u001b[0mx\u001b[0m\u001b[1;33m,\u001b[0m\u001b[1;36m7\u001b[0m\u001b[1;33m)\u001b[0m\u001b[1;33m\u001b[0m\u001b[1;33m\u001b[0m\u001b[0m\n\u001b[0;32m      5\u001b[0m \u001b[1;31m#tf.global_variables_initializer()\u001b[0m\u001b[1;33m\u001b[0m\u001b[1;33m\u001b[0m\u001b[1;33m\u001b[0m\u001b[0m\n",
      "\u001b[1;31mNameError\u001b[0m: name 'tf' is not defined"
     ]
    }
   ],
   "source": [
    "x = tf.Variable(5, dtype = tf.int32) #Variable 초기값 만들어야함\n",
    "print(x)\n",
    "\n",
    "z = tf.assign(x,7)\n",
    "#tf.global_variables_initializer()\n",
    "\n",
    "sess = tf.Session()\n",
    "sess.run(z)\n",
    "y = sess.run(x)\n",
    "print(y)\n",
    "sess.close()"
   ]
  },
  {
   "cell_type": "code",
   "execution_count": 58,
   "id": "36090e60",
   "metadata": {},
   "outputs": [
    {
     "name": "stdout",
     "output_type": "stream",
     "text": [
      "<tf.Variable 'Variable_7:0' shape=(2, 2) dtype=float32_ref>\n",
      "[[1. 2.]\n",
      " [3. 4.]]\n"
     ]
    }
   ],
   "source": [
    "#변수를 재할당하는 방법(2차원 텐서 (행렬)의경우)\n",
    "x = tf.Variable(tf.zeros((2,2)),dtype = tf.float32)\n",
    "print(x)\n",
    "\n",
    "y = tf.Variable([[1,2],[3,4]],dtype = tf.float32)\n",
    "x = tf.assign(x,y)\n",
    "\n",
    "sess = tf.Session()\n",
    "z = tf.global_variables_initializer()\n",
    "sess.run(z)\n",
    "k = sess.run(x)\n",
    "sess.close()\n",
    "\n",
    "print(k)"
   ]
  },
  {
   "cell_type": "code",
   "execution_count": 68,
   "id": "93314eae",
   "metadata": {},
   "outputs": [
    {
     "name": "stdout",
     "output_type": "stream",
     "text": [
      "[11. 22. 33. 44. 55.]\n"
     ]
    }
   ],
   "source": [
    "import tensorflow.compat.v1 as tf\n",
    "tf.disable_v2_behavior()\n",
    "\n",
    "mat_img = [1,2,3,4,5]\n",
    "label = [10,20,30,40,50]\n",
    "ph_img = tf.placeholder(dtype = tf.float32)\n",
    "ph_lb =  tf.placeholder(dtype = tf.float32)\n",
    "\n",
    "ret_tensor = ph_img + ph_lb\n",
    "\n",
    "sess = tf.Session()\n",
    "\n",
    "print(sess.run(ret_tensor, feed_dict = {ph_img:mat_img,ph_lb:label}))\n",
    "\n",
    "sess.close()"
   ]
  },
  {
   "cell_type": "markdown",
   "id": "6bcebe7f",
   "metadata": {},
   "source": []
  },
  {
   "cell_type": "code",
   "execution_count": 70,
   "id": "4524efb1",
   "metadata": {},
   "outputs": [
    {
     "ename": "SyntaxError",
     "evalue": "unmatched ')' (<ipython-input-70-7fa0c40ebc23>, line 4)",
     "output_type": "error",
     "traceback": [
      "\u001b[1;36m  File \u001b[1;32m\"<ipython-input-70-7fa0c40ebc23>\"\u001b[1;36m, line \u001b[1;32m4\u001b[0m\n\u001b[1;33m    w = tf.Variable([[2.],[2.],[2.]]), dtype = tf.float32)\u001b[0m\n\u001b[1;37m                                                         ^\u001b[0m\n\u001b[1;31mSyntaxError\u001b[0m\u001b[1;31m:\u001b[0m unmatched ')'\n"
     ]
    }
   ],
   "source": [
    "\n",
    "\n",
    "input_data = [[1.,2.,3.,],[1.,2.,3.,],[2.,3.,4.]] #3x3 matrix\n",
    "\n",
    "x = tf.placeholder(dtype=tf.float32, shape = [None,3])\n",
    "w = tf.Variable([[2.],[2.],[2.]]), dtype = tf.float32)\n",
    "y = tf.matmul(x,w)\n",
    "sess = tf.Session()\n",
    "init = tf.global_variables_initializer()\n",
    "sess.run(init)\n",
    "result = sess.run(y, feed_dict = {x:input_data})\n",
    "sess.close()\n",
    "print(result)"
   ]
  },
  {
   "cell_type": "code",
   "execution_count": 72,
   "id": "1ebf93aa",
   "metadata": {},
   "outputs": [
    {
     "name": "stdout",
     "output_type": "stream",
     "text": [
      "(2, 3)\n",
      "[[10.]\n",
      " [16.]]\n"
     ]
    }
   ],
   "source": [
    "input_data = [[1,1,1],[2,2,2]]\n",
    "x= tf.placeholder(dtype = tf.float32,shape = [2,3])\n",
    "w = tf.Variable([[2],[2],[2]], dtype = tf.float32)\n",
    "b = tf.Variable([4], dtype = tf.float32)\n",
    "y = tf.matmul(x,w) + b\n",
    "print(x.get_shape())\n",
    "\n",
    "sess = tf.Session()\n",
    "init = tf.global_variables_initializer()\n",
    "sess.run(init)\n",
    "result = sess.run(y, feed_dict = {x:input_data})\n",
    "sess.close()\n",
    "\n",
    "print(result)"
   ]
  },
  {
   "cell_type": "code",
   "execution_count": 74,
   "id": "26e94246",
   "metadata": {},
   "outputs": [
    {
     "name": "stdout",
     "output_type": "stream",
     "text": [
      "(1, 3)\n",
      "(3, 1)\n",
      "(1, 1)\n",
      "Tensor(\"MatMul_9:0\", shape=(1, 1), dtype=float32)\n",
      "[[12.]]\n"
     ]
    }
   ],
   "source": [
    "x = tf.constant([[1.0, 2.0, 3.0]])\n",
    "w = tf.constant([[2.0],[2.0],[2.0]])\n",
    "y = tf.matmul(x,w)\n",
    "print(x.get_shape())\n",
    "print(w.get_shape())\n",
    "print(y.get_shape())\n",
    "print(y)\n",
    "sess = tf.Session()\n",
    "init = tf.global_variables_initializer()\n",
    "sess.run(init)\n",
    "result = sess.run(y)\n",
    "\n",
    "sess.close()\n",
    "print(result)"
   ]
  },
  {
   "cell_type": "code",
   "execution_count": null,
   "id": "b8673b04",
   "metadata": {},
   "outputs": [],
   "source": []
  }
 ],
 "metadata": {
  "kernelspec": {
   "display_name": "Python 3",
   "language": "python",
   "name": "python3"
  },
  "language_info": {
   "codemirror_mode": {
    "name": "ipython",
    "version": 3
   },
   "file_extension": ".py",
   "mimetype": "text/x-python",
   "name": "python",
   "nbconvert_exporter": "python",
   "pygments_lexer": "ipython3",
   "version": "3.8.8"
  }
 },
 "nbformat": 4,
 "nbformat_minor": 5
}
