{
 "cells": [
  {
   "cell_type": "markdown",
   "id": "e5121ce7",
   "metadata": {},
   "source": [
    "# 클래스(class)\n",
    "반복되는 불필요한 소스코드를 최소화 하면서 현실 세계의 사물을 컴퓨터 프로그래밍 상에서 쉽게 표현할 수 있도록 해주는 프로그래밍 기술"
   ]
  },
  {
   "cell_type": "markdown",
   "id": "7e2f8d46",
   "metadata": {},
   "source": [
    "# 인스턴스\n",
    "클래스로 정의된 객체를 프로그램 상에서 이용할 수 있게 만든 변수"
   ]
  },
  {
   "cell_type": "markdown",
   "id": "0d155296",
   "metadata": {},
   "source": [
    "클래스의 멤버: 클래스 내부에 포함되는 변수\n",
    "\n",
    "클래스의 함수: 클래스 내부에 포함되는 변수"
   ]
  },
  {
   "cell_type": "code",
   "execution_count": 29,
   "id": "0ec3940f",
   "metadata": {},
   "outputs": [],
   "source": [
    "class Car:\n",
    "    #클래스의 생성자\n",
    "    def __init__(self, name, color): #자동차의 이름과 색\n",
    "        self.name = name  #클래스의 멤버\n",
    "        self.color =  color#클래스의 멤버\n",
    "        \n",
    "    #클래스 소멸자\n",
    "    def __del__(self):\n",
    "        print(\"인스턴스를 소멸 시킵니다.\")\n",
    "        \n",
    "    #클래스의 메소드\n",
    "    def show_info(self):\n",
    "        print(\"이름:\", self.name, \"/ 색상:\", self.color)\n",
    "        \n",
    "    # Setter 메소드\n",
    "    def set_name(self, name):\n",
    "        self.name = name\n",
    "    \n"
   ]
  },
  {
   "cell_type": "code",
   "execution_count": 34,
   "id": "273bd072",
   "metadata": {},
   "outputs": [],
   "source": [
    "        \n",
    "car1 = Car(\"소나타\", \"빨간색\")\n",
    "car1.set_name(\"아반떼\")\n",
    "\n",
    "# car2 = Car(\"아반떼\", \"검은색\")\n",
    "# car2.show_info()\n"
   ]
  },
  {
   "cell_type": "code",
   "execution_count": 35,
   "id": "9de731c8",
   "metadata": {},
   "outputs": [
    {
     "name": "stdout",
     "output_type": "stream",
     "text": [
      "아반떼 를 구매 했습니다.\n",
      "빨간색 색 입니다.\n"
     ]
    }
   ],
   "source": [
    "#활용하기 \n",
    "print(car1.name,\"를 구매 했습니다.\")\n",
    "print(car1.color,\"색 입니다.\")"
   ]
  },
  {
   "cell_type": "code",
   "execution_count": 37,
   "id": "70f4f2bb",
   "metadata": {},
   "outputs": [],
   "source": [
    "del car1"
   ]
  },
  {
   "cell_type": "code",
   "execution_count": 38,
   "id": "58c0ddf9",
   "metadata": {},
   "outputs": [
    {
     "ename": "NameError",
     "evalue": "name 'car1' is not defined",
     "output_type": "error",
     "traceback": [
      "\u001b[1;31m---------------------------------------------------------------------------\u001b[0m",
      "\u001b[1;31mNameError\u001b[0m                                 Traceback (most recent call last)",
      "\u001b[1;32m<ipython-input-38-d22a4ae786a6>\u001b[0m in \u001b[0;36m<module>\u001b[1;34m\u001b[0m\n\u001b[1;32m----> 1\u001b[1;33m \u001b[0mcar1\u001b[0m\u001b[1;33m.\u001b[0m\u001b[0mshow_info\u001b[0m\u001b[1;33m(\u001b[0m\u001b[1;33m)\u001b[0m\u001b[1;33m\u001b[0m\u001b[1;33m\u001b[0m\u001b[0m\n\u001b[0m",
      "\u001b[1;31mNameError\u001b[0m: name 'car1' is not defined"
     ]
    }
   ],
   "source": [
    "# del로 class 를 소멸 시켜 에러가 남\n",
    "\n",
    "car1.show_info()"
   ]
  },
  {
   "cell_type": "markdown",
   "id": "66a568e8",
   "metadata": {},
   "source": [
    "# 상속 : 다른 클래스의 멤버 변수와 메소드를 물려 받아 사용하는 기법\n"
   ]
  },
  {
   "cell_type": "markdown",
   "id": "432ec221",
   "metadata": {},
   "source": [
    "부모와 자식 관계가 존재합니다.\n",
    "자식 클래스 : 부모 클래스를 상속 받은 클래스"
   ]
  },
  {
   "cell_type": "code",
   "execution_count": 43,
   "id": "fa124abe",
   "metadata": {},
   "outputs": [],
   "source": [
    "class Unit:\n",
    "    def __init__(self, name, power):\n",
    "        self.name = name\n",
    "        self.power = power\n",
    "        \n",
    "    def attack(self):\n",
    "        print(self.name, \"이(가) 공격을 수행합니다. [전투력:\", self.power, \"]\")\n",
    "        "
   ]
  },
  {
   "cell_type": "code",
   "execution_count": 44,
   "id": "b0777834",
   "metadata": {},
   "outputs": [
    {
     "name": "stdout",
     "output_type": "stream",
     "text": [
      "홍길동 이(가) 공격을 수행합니다. [전투력: 375 ]\n"
     ]
    }
   ],
   "source": [
    "unit = Unit(\"홍길동\", 375)\n",
    "unit.attack()"
   ]
  },
  {
   "cell_type": "code",
   "execution_count": 48,
   "id": "59e0973a",
   "metadata": {},
   "outputs": [],
   "source": [
    "class Monster(Unit):\n",
    "    def __init__(self, name, power, type):\n",
    "        self.name = name\n",
    "        self.power = power\n",
    "        self.type = type\n",
    "    def show_info(self):\n",
    "        print(\"몬스터 이름:\", self.name, \"/몬스터종류:\",self.type)\n",
    "        "
   ]
  },
  {
   "cell_type": "code",
   "execution_count": 49,
   "id": "c933bafb",
   "metadata": {},
   "outputs": [
    {
     "name": "stdout",
     "output_type": "stream",
     "text": [
      "슬라임 이(가) 공격을 수행합니다. [전투력: 10 ]\n",
      "몬스터 이름: 슬라임 /몬스터종류: 초급\n"
     ]
    }
   ],
   "source": [
    "# 부모 class에서 정의되어 있는 내용을 바로 가져와 쓸 수 있다.\n",
    "monster = Monster(\"슬라임\", 10, \"초급\")\n",
    "monster.attack()\n",
    "monster.show_info()"
   ]
  },
  {
   "cell_type": "markdown",
   "id": "54f9675f",
   "metadata": {},
   "source": [
    "# ###########################"
   ]
  },
  {
   "cell_type": "markdown",
   "id": "bf7bd679",
   "metadata": {},
   "source": [
    "# ###########################"
   ]
  },
  {
   "cell_type": "markdown",
   "id": "2dff43ba",
   "metadata": {},
   "source": [
    "## ###########################"
   ]
  },
  {
   "cell_type": "code",
   "execution_count": 71,
   "id": "0dbdda70",
   "metadata": {},
   "outputs": [],
   "source": [
    "class meet():\n",
    "    def __init__(self, name, variable):\n",
    "        self.name = name\n",
    "        self.variable = variable\n",
    "        \n",
    "    def info_1(self):\n",
    "        print(\"이름은\",self.name,\"고\",\"나이는\", self.variable,\"입니다.\")\n",
    "    \n",
    "    def info_2(self):\n",
    "        print(\"이름은\",self.name,\"고\",\"사는지역은\", self.variable,\"입니다.\")\n",
    "        \n",
    "    def info_3(self):\n",
    "        print(\"이름은\",self.name,\"고\",\"종교는\", self.variable,\"입니다.\")\n"
   ]
  },
  {
   "cell_type": "code",
   "execution_count": 75,
   "id": "a310efcb",
   "metadata": {},
   "outputs": [],
   "source": [
    "name_1 = meet(\"홍길동\", \"30\")\n",
    "name_2 = meet(\"김철수\", \"서울\")\n",
    "name_3 = meet(\"이영희\", \"무교\")"
   ]
  },
  {
   "cell_type": "code",
   "execution_count": 76,
   "id": "a7683920",
   "metadata": {},
   "outputs": [
    {
     "name": "stdout",
     "output_type": "stream",
     "text": [
      "이름은 홍길동 고 나이는 30 입니다.\n"
     ]
    }
   ],
   "source": [
    "name_1.info_1()"
   ]
  },
  {
   "cell_type": "code",
   "execution_count": 79,
   "id": "5b862681",
   "metadata": {},
   "outputs": [
    {
     "name": "stdout",
     "output_type": "stream",
     "text": [
      "이름은 김철수 고 사는지역은 서울 입니다.\n"
     ]
    }
   ],
   "source": [
    "name_2.info_2()"
   ]
  },
  {
   "cell_type": "code",
   "execution_count": 78,
   "id": "8be57005",
   "metadata": {},
   "outputs": [
    {
     "name": "stdout",
     "output_type": "stream",
     "text": [
      "이름은 이영희 고 종교는 무교 입니다.\n"
     ]
    }
   ],
   "source": [
    "name_3.info_3()"
   ]
  },
  {
   "cell_type": "code",
   "execution_count": null,
   "id": "616f0eeb",
   "metadata": {},
   "outputs": [],
   "source": []
  },
  {
   "cell_type": "code",
   "execution_count": null,
   "id": "f23c936e",
   "metadata": {},
   "outputs": [],
   "source": [
    "class JSS:\n",
    "    def __init__(self):\n",
    "        self.name = input(\"이름 :\")\n",
    "        self.age=input(\"나이 :\")"
   ]
  },
  {
   "cell_type": "code",
   "execution_count": null,
   "id": "88a2f7b8",
   "metadata": {},
   "outputs": [],
   "source": []
  }
 ],
 "metadata": {
  "kernelspec": {
   "display_name": "Python 3",
   "language": "python",
   "name": "python3"
  },
  "language_info": {
   "codemirror_mode": {
    "name": "ipython",
    "version": 3
   },
   "file_extension": ".py",
   "mimetype": "text/x-python",
   "name": "python",
   "nbconvert_exporter": "python",
   "pygments_lexer": "ipython3",
   "version": "3.8.8"
  }
 },
 "nbformat": 4,
 "nbformat_minor": 5
}
